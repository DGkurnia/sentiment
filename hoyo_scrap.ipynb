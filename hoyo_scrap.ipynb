{
  "nbformat": 4,
  "nbformat_minor": 0,
  "metadata": {
    "colab": {
      "provenance": [],
      "collapsed_sections": [
        "P-Bg56PiXf2q",
        "mY8ZD1sUXVxt"
      ],
      "authorship_tag": "ABX9TyPv+ZYVk3q1Ziz+8UZenAfs",
      "include_colab_link": true
    },
    "kernelspec": {
      "name": "python3",
      "display_name": "Python 3"
    },
    "language_info": {
      "name": "python"
    }
  },
  "cells": [
    {
      "cell_type": "markdown",
      "metadata": {
        "id": "view-in-github",
        "colab_type": "text"
      },
      "source": [
        "<a href=\"https://colab.research.google.com/github/DGkurnia/sentiment/blob/main/hoyo_scrap.ipynb\" target=\"_parent\"><img src=\"https://colab.research.google.com/assets/colab-badge.svg\" alt=\"Open In Colab\"/></a>"
      ]
    },
    {
      "cell_type": "markdown",
      "source": [
        "* Nama : Derfansyah guswiranata Kurnia\n",
        "* ID Dicoding : dgkurnia\n",
        "* Email : weerakurnia@gmail.com"
      ],
      "metadata": {
        "id": "sOV2kq5WVfm7"
      }
    },
    {
      "cell_type": "markdown",
      "source": [
        "# Preparasi"
      ],
      "metadata": {
        "id": "B6y1EKIXWEk3"
      }
    },
    {
      "cell_type": "markdown",
      "source": [
        "## Instalasi"
      ],
      "metadata": {
        "id": "P-Bg56PiXf2q"
      }
    },
    {
      "cell_type": "code",
      "execution_count": 1,
      "metadata": {
        "colab": {
          "base_uri": "https://localhost:8080/"
        },
        "id": "w_nmW-VoVcXz",
        "outputId": "18aa539a-2f96-4456-fb76-76f33ff30bd9"
      },
      "outputs": [
        {
          "output_type": "stream",
          "name": "stdout",
          "text": [
            "Collecting google-play-scraper\n",
            "  Downloading google_play_scraper-1.2.7-py3-none-any.whl.metadata (50 kB)\n",
            "\u001b[?25l     \u001b[90m━━━━━━━━━━━━━━━━━━━━━━━━━━━━━━━━━━━━━━━━\u001b[0m \u001b[32m0.0/50.2 kB\u001b[0m \u001b[31m?\u001b[0m eta \u001b[36m-:--:--\u001b[0m\r\u001b[2K     \u001b[90m━━━━━━━━━━━━━━━━━━━━━━━━━━━━━━━━━━━━━━━━\u001b[0m \u001b[32m50.2/50.2 kB\u001b[0m \u001b[31m2.0 MB/s\u001b[0m eta \u001b[36m0:00:00\u001b[0m\n",
            "\u001b[?25hDownloading google_play_scraper-1.2.7-py3-none-any.whl (28 kB)\n",
            "Installing collected packages: google-play-scraper\n",
            "Successfully installed google-play-scraper-1.2.7\n"
          ]
        }
      ],
      "source": [
        "#Instalasi google play scrapper\n",
        "!pip install google-play-scraper"
      ]
    },
    {
      "cell_type": "markdown",
      "source": [
        "## Impor Perpustakaan"
      ],
      "metadata": {
        "id": "mY8ZD1sUXVxt"
      }
    },
    {
      "cell_type": "code",
      "source": [
        "#Import menu utama\n",
        "from google_play_scraper import app, reviews, Sort, reviews_all"
      ],
      "metadata": {
        "id": "VEWF0kXYV7tf"
      },
      "execution_count": 2,
      "outputs": []
    },
    {
      "cell_type": "code",
      "source": [
        "#Perpustakaan dasar -p1\n",
        "import pandas as pd  # Pandas untuk manipulasi dan analisis data\n",
        "pd.options.mode.chained_assignment = None  # Menonaktifkan peringatan chaining\n",
        "import numpy as np  # NumPy untuk komputasi numerik\n",
        "seed = 0\n",
        "np.random.seed(seed)  # Mengatur seed untuk reproduktibilitas"
      ],
      "metadata": {
        "id": "4l0w4EVMXMYD"
      },
      "execution_count": 3,
      "outputs": []
    },
    {
      "cell_type": "code",
      "source": [
        "#Bagian 2\n",
        "import matplotlib.pyplot as plt  # Matplotlib untuk visualisasi data\n",
        "import seaborn as sns  # Seaborn untuk visualisasi data statistik, mengatur gaya visualisasi\n",
        "#tanggal\n",
        "import datetime as dt  # Manipulasi data waktu dan tanggal"
      ],
      "metadata": {
        "id": "3oftR0GcXOHl"
      },
      "execution_count": 4,
      "outputs": []
    },
    {
      "cell_type": "markdown",
      "source": [
        "# Inisiasi"
      ],
      "metadata": {
        "id": "YhzrXzW_WcQC"
      }
    },
    {
      "cell_type": "code",
      "source": [
        "#Fungsi ekstraksi\n",
        "def scrape_all_reviews(app_ids, lang='en', max_reviews=3000):\n",
        "   # Daftar Negara\n",
        "    countries = ['us', 'gb', 'ca', 'au', 'ph', 'sg','de','fr','in','my']  # Sepuluh Negara dominan inggris\n",
        "    all_reviews = {}\n",
        "\n",
        "    for app_id in app_ids:\n",
        "        print(f\"Scraping reviews for {app_id}...\")\n",
        "        continuation_token = None\n",
        "        reviews_collected = 0\n",
        "\n",
        "        for country in countries:  # Iterasi setiap negara\n",
        "            while reviews_collected < max_reviews:\n",
        "                result, continuation_token = reviews(\n",
        "                    app_id,\n",
        "                    lang=lang,\n",
        "                    country=country,\n",
        "                    sort=Sort.NEWEST,\n",
        "                    count=100,  # Ambil 100\n",
        "                    continuation_token=continuation_token\n",
        "                )\n",
        "                all_reviews[app_id] = all_reviews.get(app_id, []) + result\n",
        "                reviews_collected += len(result)\n",
        "\n",
        "                if continuation_token.token is None:\n",
        "                    break  # Tak ada kelanjutan\n",
        "\n",
        "            print(f\"Total Ulasan untuk r {app_id} di negara {country}: {len(all_reviews[app_id])}\")\n",
        "            reviews_collected = 0  # Inspeksi Negara\n",
        "    return all_reviews\n",
        "  #ke eksekusi"
      ],
      "metadata": {
        "id": "557mda98WdZ3"
      },
      "execution_count": 10,
      "outputs": []
    },
    {
      "cell_type": "markdown",
      "source": [
        "Tugas dari ini adalah 2200 ulansan terbaru per permainan **'semua game MiHoyo/Hoyoverse'** game di lima negara:\n",
        "1. Amerika serikat : ['us']\n",
        "2. Britania Raya : ['uk']\n",
        "3. Kanada : ['ca']\n",
        "4. Australia : ['au']\n",
        "5. Filipina : ['ph']\n",
        "6. Singapura : ['sg']\n",
        "7. Jerman: ['de']\n",
        "8. Francis: ['fr']\n",
        "9. India: ['id']\n",
        "10. Malaysia: ['my']"
      ],
      "metadata": {
        "id": "kuWUF2v_XxjQ"
      }
    },
    {
      "cell_type": "code",
      "source": [
        "# Preparing ids\n",
        "appidlist = ['com.miHoYo.tot.glb','com.miHoYo.bh3oversea','com.miHoYo.GenshinImpact','com.hoyoverse.cloudgames.GenshinImpact',\n",
        "             'com.HoYoverse.hkrpgoversea','com.HoYoverse.Nap']\n",
        "#to fragmentation"
      ],
      "metadata": {
        "id": "Su9I-ub4YUzY"
      },
      "execution_count": 11,
      "outputs": []
    },
    {
      "cell_type": "markdown",
      "source": [
        "kiri ke kanan: tears of thermis, Honkai impact 3rd, Genshin impact (dua versi), Honkai Star Rail, Zenless zone zero."
      ],
      "metadata": {
        "id": "JCnyRwXFEE4x"
      }
    },
    {
      "cell_type": "code",
      "source": [
        "#eksekusi untuk hasil\n",
        "scrapres = scrape_all_reviews(appidlist)"
      ],
      "metadata": {
        "colab": {
          "base_uri": "https://localhost:8080/"
        },
        "id": "8NwST2BAYyMt",
        "outputId": "cea2c748-b589-44e0-9f06-eccf73a576e5"
      },
      "execution_count": 12,
      "outputs": [
        {
          "output_type": "stream",
          "name": "stdout",
          "text": [
            "Scraping reviews for com.miHoYo.tot.glb...\n",
            "Total Ulasan untuk r com.miHoYo.tot.glb di negara us: 3000\n",
            "Total Ulasan untuk r com.miHoYo.tot.glb di negara gb: 6000\n",
            "Total Ulasan untuk r com.miHoYo.tot.glb di negara ca: 7307\n",
            "Total Ulasan untuk r com.miHoYo.tot.glb di negara au: 7307\n",
            "Total Ulasan untuk r com.miHoYo.tot.glb di negara ph: 7307\n",
            "Total Ulasan untuk r com.miHoYo.tot.glb di negara sg: 7307\n",
            "Total Ulasan untuk r com.miHoYo.tot.glb di negara de: 7307\n",
            "Total Ulasan untuk r com.miHoYo.tot.glb di negara fr: 7307\n",
            "Total Ulasan untuk r com.miHoYo.tot.glb di negara in: 7307\n",
            "Total Ulasan untuk r com.miHoYo.tot.glb di negara my: 7307\n",
            "Scraping reviews for com.miHoYo.bh3oversea...\n",
            "Total Ulasan untuk r com.miHoYo.bh3oversea di negara us: 3000\n",
            "Total Ulasan untuk r com.miHoYo.bh3oversea di negara gb: 6000\n",
            "Total Ulasan untuk r com.miHoYo.bh3oversea di negara ca: 9000\n",
            "Total Ulasan untuk r com.miHoYo.bh3oversea di negara au: 12000\n",
            "Total Ulasan untuk r com.miHoYo.bh3oversea di negara ph: 15000\n",
            "Total Ulasan untuk r com.miHoYo.bh3oversea di negara sg: 18000\n",
            "Total Ulasan untuk r com.miHoYo.bh3oversea di negara de: 21000\n",
            "Total Ulasan untuk r com.miHoYo.bh3oversea di negara fr: 24000\n",
            "Total Ulasan untuk r com.miHoYo.bh3oversea di negara in: 27000\n",
            "Total Ulasan untuk r com.miHoYo.bh3oversea di negara my: 30000\n",
            "Scraping reviews for com.miHoYo.GenshinImpact...\n",
            "Total Ulasan untuk r com.miHoYo.GenshinImpact di negara us: 3000\n",
            "Total Ulasan untuk r com.miHoYo.GenshinImpact di negara gb: 6000\n",
            "Total Ulasan untuk r com.miHoYo.GenshinImpact di negara ca: 9000\n",
            "Total Ulasan untuk r com.miHoYo.GenshinImpact di negara au: 12000\n",
            "Total Ulasan untuk r com.miHoYo.GenshinImpact di negara ph: 15000\n",
            "Total Ulasan untuk r com.miHoYo.GenshinImpact di negara sg: 18000\n",
            "Total Ulasan untuk r com.miHoYo.GenshinImpact di negara de: 21000\n",
            "Total Ulasan untuk r com.miHoYo.GenshinImpact di negara fr: 24000\n",
            "Total Ulasan untuk r com.miHoYo.GenshinImpact di negara in: 27000\n",
            "Total Ulasan untuk r com.miHoYo.GenshinImpact di negara my: 30000\n",
            "Scraping reviews for com.hoyoverse.cloudgames.GenshinImpact...\n",
            "Total Ulasan untuk r com.hoyoverse.cloudgames.GenshinImpact di negara us: 3000\n",
            "Total Ulasan untuk r com.hoyoverse.cloudgames.GenshinImpact di negara gb: 6000\n",
            "Total Ulasan untuk r com.hoyoverse.cloudgames.GenshinImpact di negara ca: 7203\n",
            "Total Ulasan untuk r com.hoyoverse.cloudgames.GenshinImpact di negara au: 7203\n",
            "Total Ulasan untuk r com.hoyoverse.cloudgames.GenshinImpact di negara ph: 7203\n",
            "Total Ulasan untuk r com.hoyoverse.cloudgames.GenshinImpact di negara sg: 7203\n",
            "Total Ulasan untuk r com.hoyoverse.cloudgames.GenshinImpact di negara de: 7203\n",
            "Total Ulasan untuk r com.hoyoverse.cloudgames.GenshinImpact di negara fr: 7203\n",
            "Total Ulasan untuk r com.hoyoverse.cloudgames.GenshinImpact di negara in: 7203\n",
            "Total Ulasan untuk r com.hoyoverse.cloudgames.GenshinImpact di negara my: 7203\n",
            "Scraping reviews for com.HoYoverse.hkrpgoversea...\n",
            "Total Ulasan untuk r com.HoYoverse.hkrpgoversea di negara us: 3000\n",
            "Total Ulasan untuk r com.HoYoverse.hkrpgoversea di negara gb: 6000\n",
            "Total Ulasan untuk r com.HoYoverse.hkrpgoversea di negara ca: 9000\n",
            "Total Ulasan untuk r com.HoYoverse.hkrpgoversea di negara au: 12000\n",
            "Total Ulasan untuk r com.HoYoverse.hkrpgoversea di negara ph: 15000\n",
            "Total Ulasan untuk r com.HoYoverse.hkrpgoversea di negara sg: 18000\n",
            "Total Ulasan untuk r com.HoYoverse.hkrpgoversea di negara de: 21000\n",
            "Total Ulasan untuk r com.HoYoverse.hkrpgoversea di negara fr: 24000\n",
            "Total Ulasan untuk r com.HoYoverse.hkrpgoversea di negara in: 27000\n",
            "Total Ulasan untuk r com.HoYoverse.hkrpgoversea di negara my: 30000\n",
            "Scraping reviews for com.HoYoverse.Nap...\n",
            "Total Ulasan untuk r com.HoYoverse.Nap di negara us: 3000\n",
            "Total Ulasan untuk r com.HoYoverse.Nap di negara gb: 6000\n",
            "Total Ulasan untuk r com.HoYoverse.Nap di negara ca: 9000\n",
            "Total Ulasan untuk r com.HoYoverse.Nap di negara au: 12000\n",
            "Total Ulasan untuk r com.HoYoverse.Nap di negara ph: 13912\n",
            "Total Ulasan untuk r com.HoYoverse.Nap di negara sg: 13912\n",
            "Total Ulasan untuk r com.HoYoverse.Nap di negara de: 13912\n",
            "Total Ulasan untuk r com.HoYoverse.Nap di negara fr: 13912\n",
            "Total Ulasan untuk r com.HoYoverse.Nap di negara in: 13912\n",
            "Total Ulasan untuk r com.HoYoverse.Nap di negara my: 13912\n"
          ]
        }
      ]
    },
    {
      "cell_type": "code",
      "source": [
        "#persiapan daftar data\n",
        "all_reviews_list = []\n",
        "for app_id, reviews_list in scrapres.items():\n",
        "    for review in reviews_list:\n",
        "        review['app_id'] = app_id  # Penambahan nama\n",
        "        all_reviews_list.append(review)  # Tempel kembali nama\n",
        "\n",
        "# Create DataFrame from the list of review dictionaries\n",
        "dfori = pd.DataFrame(all_reviews_list)\n",
        "dfcop = dfori.copy()\n",
        "#inspeksi\n",
        "hed1 = dfcop.head(7) #kepala versi kotor\n",
        "hed1"
      ],
      "metadata": {
        "id": "7a3RjnXKAFDe",
        "colab": {
          "base_uri": "https://localhost:8080/",
          "height": 740
        },
        "outputId": "a5706f3e-35d9-4261-99a1-387ffae1811d"
      },
      "execution_count": 13,
      "outputs": [
        {
          "output_type": "stream",
          "name": "stderr",
          "text": [
            "/usr/local/lib/python3.11/dist-packages/google/colab/_dataframe_summarizer.py:88: UserWarning: Could not infer format, so each element will be parsed individually, falling back to `dateutil`. To ensure parsing is consistent and as-expected, please specify a format.\n",
            "  cast_date_col = pd.to_datetime(column, errors=\"coerce\")\n",
            "/usr/local/lib/python3.11/dist-packages/google/colab/_dataframe_summarizer.py:88: UserWarning: Could not infer format, so each element will be parsed individually, falling back to `dateutil`. To ensure parsing is consistent and as-expected, please specify a format.\n",
            "  cast_date_col = pd.to_datetime(column, errors=\"coerce\")\n"
          ]
        },
        {
          "output_type": "execute_result",
          "data": {
            "text/plain": [
              "                               reviewId          userName  \\\n",
              "0  212f7d9f-34f5-4613-9c21-bc1e5e80e2e5             Elyse   \n",
              "1  e0e32262-3051-428b-8c5e-c1ecd86f6a89               J T   \n",
              "2  2cca1fcc-7db0-406d-a1f1-e9317b9b7abf      Sarah Sarina   \n",
              "3  1fb39898-7168-446c-9425-f06c321a5629  Anonymous Secret   \n",
              "4  23dd891a-98fd-43f6-b365-40d980ddd1a1      Salma Dassar   \n",
              "5  52c6e732-9306-49f8-978d-ca54fcfe8669               Alr   \n",
              "6  15f761e9-15de-44fb-8959-e5c617bb9692       Ariel Zheng   \n",
              "\n",
              "                                           userImage  \\\n",
              "0  https://play-lh.googleusercontent.com/a-/ALV-U...   \n",
              "1  https://play-lh.googleusercontent.com/a-/ALV-U...   \n",
              "2  https://play-lh.googleusercontent.com/a-/ALV-U...   \n",
              "3  https://play-lh.googleusercontent.com/a-/ALV-U...   \n",
              "4  https://play-lh.googleusercontent.com/a-/ALV-U...   \n",
              "5  https://play-lh.googleusercontent.com/a-/ALV-U...   \n",
              "6  https://play-lh.googleusercontent.com/a-/ALV-U...   \n",
              "\n",
              "                                             content  score  thumbsUpCount  \\\n",
              "0  GIVE ME BACK MY ACCOUNTTTTT IVE BEEN INACTIVE ...      1              0   \n",
              "1  Still love the game However I can't login for ...      1              3   \n",
              "2  Honestly, I had been playing this game for alm...      3              1   \n",
              "3  Please let us reread/play our previous sweet c...      4              0   \n",
              "4                              It keeps crashing !!!      1              1   \n",
              "5                               Artem is malewife fr      5              0   \n",
              "6  I've had this game ever since it first launche...      5              3   \n",
              "\n",
              "  reviewCreatedVersion                  at  \\\n",
              "0                 None 2025-02-01 07:29:27   \n",
              "1                4.3.1 2025-01-29 10:47:39   \n",
              "2                4.3.1 2025-01-28 14:13:26   \n",
              "3                4.3.1 2025-01-28 01:59:13   \n",
              "4                 None 2025-01-27 19:34:40   \n",
              "5                4.3.1 2025-01-26 16:16:45   \n",
              "6                4.3.1 2025-01-24 06:01:21   \n",
              "\n",
              "                                        replyContent           repliedAt  \\\n",
              "0                                               None                 NaT   \n",
              "1  Dear Player, Thank you for your support. Pleas... 2022-05-04 03:30:42   \n",
              "2                                               None                 NaT   \n",
              "3                                               None                 NaT   \n",
              "4                                               None                 NaT   \n",
              "5                                               None                 NaT   \n",
              "6                                               None                 NaT   \n",
              "\n",
              "  appVersion              app_id  \n",
              "0       None  com.miHoYo.tot.glb  \n",
              "1      4.3.1  com.miHoYo.tot.glb  \n",
              "2      4.3.1  com.miHoYo.tot.glb  \n",
              "3      4.3.1  com.miHoYo.tot.glb  \n",
              "4       None  com.miHoYo.tot.glb  \n",
              "5      4.3.1  com.miHoYo.tot.glb  \n",
              "6      4.3.1  com.miHoYo.tot.glb  "
            ],
            "text/html": [
              "\n",
              "  <div id=\"df-f3914f21-c83e-4242-bd98-378ea7e2ecb9\" class=\"colab-df-container\">\n",
              "    <div>\n",
              "<style scoped>\n",
              "    .dataframe tbody tr th:only-of-type {\n",
              "        vertical-align: middle;\n",
              "    }\n",
              "\n",
              "    .dataframe tbody tr th {\n",
              "        vertical-align: top;\n",
              "    }\n",
              "\n",
              "    .dataframe thead th {\n",
              "        text-align: right;\n",
              "    }\n",
              "</style>\n",
              "<table border=\"1\" class=\"dataframe\">\n",
              "  <thead>\n",
              "    <tr style=\"text-align: right;\">\n",
              "      <th></th>\n",
              "      <th>reviewId</th>\n",
              "      <th>userName</th>\n",
              "      <th>userImage</th>\n",
              "      <th>content</th>\n",
              "      <th>score</th>\n",
              "      <th>thumbsUpCount</th>\n",
              "      <th>reviewCreatedVersion</th>\n",
              "      <th>at</th>\n",
              "      <th>replyContent</th>\n",
              "      <th>repliedAt</th>\n",
              "      <th>appVersion</th>\n",
              "      <th>app_id</th>\n",
              "    </tr>\n",
              "  </thead>\n",
              "  <tbody>\n",
              "    <tr>\n",
              "      <th>0</th>\n",
              "      <td>212f7d9f-34f5-4613-9c21-bc1e5e80e2e5</td>\n",
              "      <td>Elyse</td>\n",
              "      <td>https://play-lh.googleusercontent.com/a-/ALV-U...</td>\n",
              "      <td>GIVE ME BACK MY ACCOUNTTTTT IVE BEEN INACTIVE ...</td>\n",
              "      <td>1</td>\n",
              "      <td>0</td>\n",
              "      <td>None</td>\n",
              "      <td>2025-02-01 07:29:27</td>\n",
              "      <td>None</td>\n",
              "      <td>NaT</td>\n",
              "      <td>None</td>\n",
              "      <td>com.miHoYo.tot.glb</td>\n",
              "    </tr>\n",
              "    <tr>\n",
              "      <th>1</th>\n",
              "      <td>e0e32262-3051-428b-8c5e-c1ecd86f6a89</td>\n",
              "      <td>J T</td>\n",
              "      <td>https://play-lh.googleusercontent.com/a-/ALV-U...</td>\n",
              "      <td>Still love the game However I can't login for ...</td>\n",
              "      <td>1</td>\n",
              "      <td>3</td>\n",
              "      <td>4.3.1</td>\n",
              "      <td>2025-01-29 10:47:39</td>\n",
              "      <td>Dear Player, Thank you for your support. Pleas...</td>\n",
              "      <td>2022-05-04 03:30:42</td>\n",
              "      <td>4.3.1</td>\n",
              "      <td>com.miHoYo.tot.glb</td>\n",
              "    </tr>\n",
              "    <tr>\n",
              "      <th>2</th>\n",
              "      <td>2cca1fcc-7db0-406d-a1f1-e9317b9b7abf</td>\n",
              "      <td>Sarah Sarina</td>\n",
              "      <td>https://play-lh.googleusercontent.com/a-/ALV-U...</td>\n",
              "      <td>Honestly, I had been playing this game for alm...</td>\n",
              "      <td>3</td>\n",
              "      <td>1</td>\n",
              "      <td>4.3.1</td>\n",
              "      <td>2025-01-28 14:13:26</td>\n",
              "      <td>None</td>\n",
              "      <td>NaT</td>\n",
              "      <td>4.3.1</td>\n",
              "      <td>com.miHoYo.tot.glb</td>\n",
              "    </tr>\n",
              "    <tr>\n",
              "      <th>3</th>\n",
              "      <td>1fb39898-7168-446c-9425-f06c321a5629</td>\n",
              "      <td>Anonymous Secret</td>\n",
              "      <td>https://play-lh.googleusercontent.com/a-/ALV-U...</td>\n",
              "      <td>Please let us reread/play our previous sweet c...</td>\n",
              "      <td>4</td>\n",
              "      <td>0</td>\n",
              "      <td>4.3.1</td>\n",
              "      <td>2025-01-28 01:59:13</td>\n",
              "      <td>None</td>\n",
              "      <td>NaT</td>\n",
              "      <td>4.3.1</td>\n",
              "      <td>com.miHoYo.tot.glb</td>\n",
              "    </tr>\n",
              "    <tr>\n",
              "      <th>4</th>\n",
              "      <td>23dd891a-98fd-43f6-b365-40d980ddd1a1</td>\n",
              "      <td>Salma Dassar</td>\n",
              "      <td>https://play-lh.googleusercontent.com/a-/ALV-U...</td>\n",
              "      <td>It keeps crashing !!!</td>\n",
              "      <td>1</td>\n",
              "      <td>1</td>\n",
              "      <td>None</td>\n",
              "      <td>2025-01-27 19:34:40</td>\n",
              "      <td>None</td>\n",
              "      <td>NaT</td>\n",
              "      <td>None</td>\n",
              "      <td>com.miHoYo.tot.glb</td>\n",
              "    </tr>\n",
              "    <tr>\n",
              "      <th>5</th>\n",
              "      <td>52c6e732-9306-49f8-978d-ca54fcfe8669</td>\n",
              "      <td>Alr</td>\n",
              "      <td>https://play-lh.googleusercontent.com/a-/ALV-U...</td>\n",
              "      <td>Artem is malewife fr</td>\n",
              "      <td>5</td>\n",
              "      <td>0</td>\n",
              "      <td>4.3.1</td>\n",
              "      <td>2025-01-26 16:16:45</td>\n",
              "      <td>None</td>\n",
              "      <td>NaT</td>\n",
              "      <td>4.3.1</td>\n",
              "      <td>com.miHoYo.tot.glb</td>\n",
              "    </tr>\n",
              "    <tr>\n",
              "      <th>6</th>\n",
              "      <td>15f761e9-15de-44fb-8959-e5c617bb9692</td>\n",
              "      <td>Ariel Zheng</td>\n",
              "      <td>https://play-lh.googleusercontent.com/a-/ALV-U...</td>\n",
              "      <td>I've had this game ever since it first launche...</td>\n",
              "      <td>5</td>\n",
              "      <td>3</td>\n",
              "      <td>4.3.1</td>\n",
              "      <td>2025-01-24 06:01:21</td>\n",
              "      <td>None</td>\n",
              "      <td>NaT</td>\n",
              "      <td>4.3.1</td>\n",
              "      <td>com.miHoYo.tot.glb</td>\n",
              "    </tr>\n",
              "  </tbody>\n",
              "</table>\n",
              "</div>\n",
              "    <div class=\"colab-df-buttons\">\n",
              "\n",
              "  <div class=\"colab-df-container\">\n",
              "    <button class=\"colab-df-convert\" onclick=\"convertToInteractive('df-f3914f21-c83e-4242-bd98-378ea7e2ecb9')\"\n",
              "            title=\"Convert this dataframe to an interactive table.\"\n",
              "            style=\"display:none;\">\n",
              "\n",
              "  <svg xmlns=\"http://www.w3.org/2000/svg\" height=\"24px\" viewBox=\"0 -960 960 960\">\n",
              "    <path d=\"M120-120v-720h720v720H120Zm60-500h600v-160H180v160Zm220 220h160v-160H400v160Zm0 220h160v-160H400v160ZM180-400h160v-160H180v160Zm440 0h160v-160H620v160ZM180-180h160v-160H180v160Zm440 0h160v-160H620v160Z\"/>\n",
              "  </svg>\n",
              "    </button>\n",
              "\n",
              "  <style>\n",
              "    .colab-df-container {\n",
              "      display:flex;\n",
              "      gap: 12px;\n",
              "    }\n",
              "\n",
              "    .colab-df-convert {\n",
              "      background-color: #E8F0FE;\n",
              "      border: none;\n",
              "      border-radius: 50%;\n",
              "      cursor: pointer;\n",
              "      display: none;\n",
              "      fill: #1967D2;\n",
              "      height: 32px;\n",
              "      padding: 0 0 0 0;\n",
              "      width: 32px;\n",
              "    }\n",
              "\n",
              "    .colab-df-convert:hover {\n",
              "      background-color: #E2EBFA;\n",
              "      box-shadow: 0px 1px 2px rgba(60, 64, 67, 0.3), 0px 1px 3px 1px rgba(60, 64, 67, 0.15);\n",
              "      fill: #174EA6;\n",
              "    }\n",
              "\n",
              "    .colab-df-buttons div {\n",
              "      margin-bottom: 4px;\n",
              "    }\n",
              "\n",
              "    [theme=dark] .colab-df-convert {\n",
              "      background-color: #3B4455;\n",
              "      fill: #D2E3FC;\n",
              "    }\n",
              "\n",
              "    [theme=dark] .colab-df-convert:hover {\n",
              "      background-color: #434B5C;\n",
              "      box-shadow: 0px 1px 3px 1px rgba(0, 0, 0, 0.15);\n",
              "      filter: drop-shadow(0px 1px 2px rgba(0, 0, 0, 0.3));\n",
              "      fill: #FFFFFF;\n",
              "    }\n",
              "  </style>\n",
              "\n",
              "    <script>\n",
              "      const buttonEl =\n",
              "        document.querySelector('#df-f3914f21-c83e-4242-bd98-378ea7e2ecb9 button.colab-df-convert');\n",
              "      buttonEl.style.display =\n",
              "        google.colab.kernel.accessAllowed ? 'block' : 'none';\n",
              "\n",
              "      async function convertToInteractive(key) {\n",
              "        const element = document.querySelector('#df-f3914f21-c83e-4242-bd98-378ea7e2ecb9');\n",
              "        const dataTable =\n",
              "          await google.colab.kernel.invokeFunction('convertToInteractive',\n",
              "                                                    [key], {});\n",
              "        if (!dataTable) return;\n",
              "\n",
              "        const docLinkHtml = 'Like what you see? Visit the ' +\n",
              "          '<a target=\"_blank\" href=https://colab.research.google.com/notebooks/data_table.ipynb>data table notebook</a>'\n",
              "          + ' to learn more about interactive tables.';\n",
              "        element.innerHTML = '';\n",
              "        dataTable['output_type'] = 'display_data';\n",
              "        await google.colab.output.renderOutput(dataTable, element);\n",
              "        const docLink = document.createElement('div');\n",
              "        docLink.innerHTML = docLinkHtml;\n",
              "        element.appendChild(docLink);\n",
              "      }\n",
              "    </script>\n",
              "  </div>\n",
              "\n",
              "\n",
              "<div id=\"df-412d7358-a22e-4fcc-bdc7-34e2904c928d\">\n",
              "  <button class=\"colab-df-quickchart\" onclick=\"quickchart('df-412d7358-a22e-4fcc-bdc7-34e2904c928d')\"\n",
              "            title=\"Suggest charts\"\n",
              "            style=\"display:none;\">\n",
              "\n",
              "<svg xmlns=\"http://www.w3.org/2000/svg\" height=\"24px\"viewBox=\"0 0 24 24\"\n",
              "     width=\"24px\">\n",
              "    <g>\n",
              "        <path d=\"M19 3H5c-1.1 0-2 .9-2 2v14c0 1.1.9 2 2 2h14c1.1 0 2-.9 2-2V5c0-1.1-.9-2-2-2zM9 17H7v-7h2v7zm4 0h-2V7h2v10zm4 0h-2v-4h2v4z\"/>\n",
              "    </g>\n",
              "</svg>\n",
              "  </button>\n",
              "\n",
              "<style>\n",
              "  .colab-df-quickchart {\n",
              "      --bg-color: #E8F0FE;\n",
              "      --fill-color: #1967D2;\n",
              "      --hover-bg-color: #E2EBFA;\n",
              "      --hover-fill-color: #174EA6;\n",
              "      --disabled-fill-color: #AAA;\n",
              "      --disabled-bg-color: #DDD;\n",
              "  }\n",
              "\n",
              "  [theme=dark] .colab-df-quickchart {\n",
              "      --bg-color: #3B4455;\n",
              "      --fill-color: #D2E3FC;\n",
              "      --hover-bg-color: #434B5C;\n",
              "      --hover-fill-color: #FFFFFF;\n",
              "      --disabled-bg-color: #3B4455;\n",
              "      --disabled-fill-color: #666;\n",
              "  }\n",
              "\n",
              "  .colab-df-quickchart {\n",
              "    background-color: var(--bg-color);\n",
              "    border: none;\n",
              "    border-radius: 50%;\n",
              "    cursor: pointer;\n",
              "    display: none;\n",
              "    fill: var(--fill-color);\n",
              "    height: 32px;\n",
              "    padding: 0;\n",
              "    width: 32px;\n",
              "  }\n",
              "\n",
              "  .colab-df-quickchart:hover {\n",
              "    background-color: var(--hover-bg-color);\n",
              "    box-shadow: 0 1px 2px rgba(60, 64, 67, 0.3), 0 1px 3px 1px rgba(60, 64, 67, 0.15);\n",
              "    fill: var(--button-hover-fill-color);\n",
              "  }\n",
              "\n",
              "  .colab-df-quickchart-complete:disabled,\n",
              "  .colab-df-quickchart-complete:disabled:hover {\n",
              "    background-color: var(--disabled-bg-color);\n",
              "    fill: var(--disabled-fill-color);\n",
              "    box-shadow: none;\n",
              "  }\n",
              "\n",
              "  .colab-df-spinner {\n",
              "    border: 2px solid var(--fill-color);\n",
              "    border-color: transparent;\n",
              "    border-bottom-color: var(--fill-color);\n",
              "    animation:\n",
              "      spin 1s steps(1) infinite;\n",
              "  }\n",
              "\n",
              "  @keyframes spin {\n",
              "    0% {\n",
              "      border-color: transparent;\n",
              "      border-bottom-color: var(--fill-color);\n",
              "      border-left-color: var(--fill-color);\n",
              "    }\n",
              "    20% {\n",
              "      border-color: transparent;\n",
              "      border-left-color: var(--fill-color);\n",
              "      border-top-color: var(--fill-color);\n",
              "    }\n",
              "    30% {\n",
              "      border-color: transparent;\n",
              "      border-left-color: var(--fill-color);\n",
              "      border-top-color: var(--fill-color);\n",
              "      border-right-color: var(--fill-color);\n",
              "    }\n",
              "    40% {\n",
              "      border-color: transparent;\n",
              "      border-right-color: var(--fill-color);\n",
              "      border-top-color: var(--fill-color);\n",
              "    }\n",
              "    60% {\n",
              "      border-color: transparent;\n",
              "      border-right-color: var(--fill-color);\n",
              "    }\n",
              "    80% {\n",
              "      border-color: transparent;\n",
              "      border-right-color: var(--fill-color);\n",
              "      border-bottom-color: var(--fill-color);\n",
              "    }\n",
              "    90% {\n",
              "      border-color: transparent;\n",
              "      border-bottom-color: var(--fill-color);\n",
              "    }\n",
              "  }\n",
              "</style>\n",
              "\n",
              "  <script>\n",
              "    async function quickchart(key) {\n",
              "      const quickchartButtonEl =\n",
              "        document.querySelector('#' + key + ' button');\n",
              "      quickchartButtonEl.disabled = true;  // To prevent multiple clicks.\n",
              "      quickchartButtonEl.classList.add('colab-df-spinner');\n",
              "      try {\n",
              "        const charts = await google.colab.kernel.invokeFunction(\n",
              "            'suggestCharts', [key], {});\n",
              "      } catch (error) {\n",
              "        console.error('Error during call to suggestCharts:', error);\n",
              "      }\n",
              "      quickchartButtonEl.classList.remove('colab-df-spinner');\n",
              "      quickchartButtonEl.classList.add('colab-df-quickchart-complete');\n",
              "    }\n",
              "    (() => {\n",
              "      let quickchartButtonEl =\n",
              "        document.querySelector('#df-412d7358-a22e-4fcc-bdc7-34e2904c928d button');\n",
              "      quickchartButtonEl.style.display =\n",
              "        google.colab.kernel.accessAllowed ? 'block' : 'none';\n",
              "    })();\n",
              "  </script>\n",
              "</div>\n",
              "\n",
              "  <div id=\"id_2d53aeb1-0f05-4430-9fa4-b0a5236f9083\">\n",
              "    <style>\n",
              "      .colab-df-generate {\n",
              "        background-color: #E8F0FE;\n",
              "        border: none;\n",
              "        border-radius: 50%;\n",
              "        cursor: pointer;\n",
              "        display: none;\n",
              "        fill: #1967D2;\n",
              "        height: 32px;\n",
              "        padding: 0 0 0 0;\n",
              "        width: 32px;\n",
              "      }\n",
              "\n",
              "      .colab-df-generate:hover {\n",
              "        background-color: #E2EBFA;\n",
              "        box-shadow: 0px 1px 2px rgba(60, 64, 67, 0.3), 0px 1px 3px 1px rgba(60, 64, 67, 0.15);\n",
              "        fill: #174EA6;\n",
              "      }\n",
              "\n",
              "      [theme=dark] .colab-df-generate {\n",
              "        background-color: #3B4455;\n",
              "        fill: #D2E3FC;\n",
              "      }\n",
              "\n",
              "      [theme=dark] .colab-df-generate:hover {\n",
              "        background-color: #434B5C;\n",
              "        box-shadow: 0px 1px 3px 1px rgba(0, 0, 0, 0.15);\n",
              "        filter: drop-shadow(0px 1px 2px rgba(0, 0, 0, 0.3));\n",
              "        fill: #FFFFFF;\n",
              "      }\n",
              "    </style>\n",
              "    <button class=\"colab-df-generate\" onclick=\"generateWithVariable('hed1')\"\n",
              "            title=\"Generate code using this dataframe.\"\n",
              "            style=\"display:none;\">\n",
              "\n",
              "  <svg xmlns=\"http://www.w3.org/2000/svg\" height=\"24px\"viewBox=\"0 0 24 24\"\n",
              "       width=\"24px\">\n",
              "    <path d=\"M7,19H8.4L18.45,9,17,7.55,7,17.6ZM5,21V16.75L18.45,3.32a2,2,0,0,1,2.83,0l1.4,1.43a1.91,1.91,0,0,1,.58,1.4,1.91,1.91,0,0,1-.58,1.4L9.25,21ZM18.45,9,17,7.55Zm-12,3A5.31,5.31,0,0,0,4.9,8.1,5.31,5.31,0,0,0,1,6.5,5.31,5.31,0,0,0,4.9,4.9,5.31,5.31,0,0,0,6.5,1,5.31,5.31,0,0,0,8.1,4.9,5.31,5.31,0,0,0,12,6.5,5.46,5.46,0,0,0,6.5,12Z\"/>\n",
              "  </svg>\n",
              "    </button>\n",
              "    <script>\n",
              "      (() => {\n",
              "      const buttonEl =\n",
              "        document.querySelector('#id_2d53aeb1-0f05-4430-9fa4-b0a5236f9083 button.colab-df-generate');\n",
              "      buttonEl.style.display =\n",
              "        google.colab.kernel.accessAllowed ? 'block' : 'none';\n",
              "\n",
              "      buttonEl.onclick = () => {\n",
              "        google.colab.notebook.generateWithVariable('hed1');\n",
              "      }\n",
              "      })();\n",
              "    </script>\n",
              "  </div>\n",
              "\n",
              "    </div>\n",
              "  </div>\n"
            ],
            "application/vnd.google.colaboratory.intrinsic+json": {
              "type": "dataframe",
              "variable_name": "hed1",
              "summary": "{\n  \"name\": \"hed1\",\n  \"rows\": 7,\n  \"fields\": [\n    {\n      \"column\": \"reviewId\",\n      \"properties\": {\n        \"dtype\": \"string\",\n        \"num_unique_values\": 7,\n        \"samples\": [\n          \"212f7d9f-34f5-4613-9c21-bc1e5e80e2e5\",\n          \"e0e32262-3051-428b-8c5e-c1ecd86f6a89\",\n          \"52c6e732-9306-49f8-978d-ca54fcfe8669\"\n        ],\n        \"semantic_type\": \"\",\n        \"description\": \"\"\n      }\n    },\n    {\n      \"column\": \"userName\",\n      \"properties\": {\n        \"dtype\": \"string\",\n        \"num_unique_values\": 7,\n        \"samples\": [\n          \"Elyse\",\n          \"J T\",\n          \"Alr\"\n        ],\n        \"semantic_type\": \"\",\n        \"description\": \"\"\n      }\n    },\n    {\n      \"column\": \"userImage\",\n      \"properties\": {\n        \"dtype\": \"string\",\n        \"num_unique_values\": 7,\n        \"samples\": [\n          \"https://play-lh.googleusercontent.com/a-/ALV-UjVmnYqj-IasZBgF7gmeuBPpg4KcEGq2zrmm44gZmZ_ayf0-5fJoqA\",\n          \"https://play-lh.googleusercontent.com/a-/ALV-UjUQcu_n9cct8K4jJlKsbTSNlw3G9i2htAIZsr3UvO4Uih01BNWY\",\n          \"https://play-lh.googleusercontent.com/a-/ALV-UjU1-EULC7ElSASLP2RognOmll_APecz2hvK6KdS0_0_ih8XM4A5\"\n        ],\n        \"semantic_type\": \"\",\n        \"description\": \"\"\n      }\n    },\n    {\n      \"column\": \"content\",\n      \"properties\": {\n        \"dtype\": \"string\",\n        \"num_unique_values\": 7,\n        \"samples\": [\n          \"GIVE ME BACK MY ACCOUNTTTTT IVE BEEN INACTIVE FOR MONTHS DUE TO WORK OR SOME STUFF BUT COME ON?????\",\n          \"Still love the game However I can't login for some reason, it isn't a issue with the Wi-Fi (all other apps that need Wi-Fi are working fine) It doesn't even show the login button or show that sparkle that usually appears when you touch the screen I've tried closing the app and reentering multiple times and waited a few hours after my first few attempts to login to try again\",\n          \"Artem is malewife fr\"\n        ],\n        \"semantic_type\": \"\",\n        \"description\": \"\"\n      }\n    },\n    {\n      \"column\": \"score\",\n      \"properties\": {\n        \"dtype\": \"number\",\n        \"std\": 1,\n        \"min\": 1,\n        \"max\": 5,\n        \"num_unique_values\": 4,\n        \"samples\": [\n          3,\n          5,\n          1\n        ],\n        \"semantic_type\": \"\",\n        \"description\": \"\"\n      }\n    },\n    {\n      \"column\": \"thumbsUpCount\",\n      \"properties\": {\n        \"dtype\": \"number\",\n        \"std\": 1,\n        \"min\": 0,\n        \"max\": 3,\n        \"num_unique_values\": 3,\n        \"samples\": [\n          0,\n          3,\n          1\n        ],\n        \"semantic_type\": \"\",\n        \"description\": \"\"\n      }\n    },\n    {\n      \"column\": \"reviewCreatedVersion\",\n      \"properties\": {\n        \"dtype\": \"date\",\n        \"min\": \"2001-04-03 00:00:00\",\n        \"max\": \"2001-04-03 00:00:00\",\n        \"num_unique_values\": 1,\n        \"samples\": [\n          \"4.3.1\"\n        ],\n        \"semantic_type\": \"\",\n        \"description\": \"\"\n      }\n    },\n    {\n      \"column\": \"at\",\n      \"properties\": {\n        \"dtype\": \"date\",\n        \"min\": \"2025-01-24 06:01:21\",\n        \"max\": \"2025-02-01 07:29:27\",\n        \"num_unique_values\": 7,\n        \"samples\": [\n          \"2025-02-01 07:29:27\"\n        ],\n        \"semantic_type\": \"\",\n        \"description\": \"\"\n      }\n    },\n    {\n      \"column\": \"replyContent\",\n      \"properties\": {\n        \"dtype\": \"category\",\n        \"num_unique_values\": 1,\n        \"samples\": [\n          \"Dear Player, Thank you for your support. Please send us more details about your problem (Video or screenshot) via CS in game or Email: totcs_glb@hoyoverse.com. We will help you check it. Thank you~\"\n        ],\n        \"semantic_type\": \"\",\n        \"description\": \"\"\n      }\n    },\n    {\n      \"column\": \"repliedAt\",\n      \"properties\": {\n        \"dtype\": \"date\",\n        \"min\": \"2022-05-04 03:30:42\",\n        \"max\": \"2022-05-04 03:30:42\",\n        \"num_unique_values\": 1,\n        \"samples\": [\n          \"2022-05-04 03:30:42\"\n        ],\n        \"semantic_type\": \"\",\n        \"description\": \"\"\n      }\n    },\n    {\n      \"column\": \"appVersion\",\n      \"properties\": {\n        \"dtype\": \"date\",\n        \"min\": \"2001-04-03 00:00:00\",\n        \"max\": \"2001-04-03 00:00:00\",\n        \"num_unique_values\": 1,\n        \"samples\": [\n          \"4.3.1\"\n        ],\n        \"semantic_type\": \"\",\n        \"description\": \"\"\n      }\n    },\n    {\n      \"column\": \"app_id\",\n      \"properties\": {\n        \"dtype\": \"category\",\n        \"num_unique_values\": 1,\n        \"samples\": [\n          \"com.miHoYo.tot.glb\"\n        ],\n        \"semantic_type\": \"\",\n        \"description\": \"\"\n      }\n    }\n  ]\n}"
            }
          },
          "metadata": {},
          "execution_count": 13
        }
      ]
    },
    {
      "cell_type": "code",
      "source": [
        "#panjang data awal\n",
        "lendfb = len(dfcop) #bruto\n",
        "print(\"the initial list is: \",lendfb)"
      ],
      "metadata": {
        "colab": {
          "base_uri": "https://localhost:8080/"
        },
        "id": "UJxGGgJRVNxy",
        "outputId": "fa97f9a8-ba91-47f0-a587-c46f3d605ce2"
      },
      "execution_count": 14,
      "outputs": [
        {
          "output_type": "stream",
          "name": "stdout",
          "text": [
            "the initial list is:  118422\n"
          ]
        }
      ]
    },
    {
      "cell_type": "markdown",
      "source": [
        "Ini untuk panjang data saja"
      ],
      "metadata": {
        "id": "av5OiJx2khyx"
      }
    },
    {
      "cell_type": "markdown",
      "source": [
        "# Pembersihan data"
      ],
      "metadata": {
        "id": "TfAXdGrd_nWt"
      }
    },
    {
      "cell_type": "code",
      "source": [
        "#kepala\n",
        "dfkopinfo = dfcop.info() #info utama\n",
        "print(dfkopinfo)"
      ],
      "metadata": {
        "id": "f7eqCQ6bCzqC",
        "colab": {
          "base_uri": "https://localhost:8080/"
        },
        "outputId": "14c04766-3250-48e0-b8d3-cf2d0e7b32bc"
      },
      "execution_count": 15,
      "outputs": [
        {
          "output_type": "stream",
          "name": "stdout",
          "text": [
            "<class 'pandas.core.frame.DataFrame'>\n",
            "RangeIndex: 118422 entries, 0 to 118421\n",
            "Data columns (total 12 columns):\n",
            " #   Column                Non-Null Count   Dtype         \n",
            "---  ------                --------------   -----         \n",
            " 0   reviewId              118422 non-null  object        \n",
            " 1   userName              118422 non-null  object        \n",
            " 2   userImage             118422 non-null  object        \n",
            " 3   content               118413 non-null  object        \n",
            " 4   score                 118422 non-null  int64         \n",
            " 5   thumbsUpCount         118422 non-null  int64         \n",
            " 6   reviewCreatedVersion  82250 non-null   object        \n",
            " 7   at                    118422 non-null  datetime64[ns]\n",
            " 8   replyContent          19642 non-null   object        \n",
            " 9   repliedAt             19642 non-null   datetime64[ns]\n",
            " 10  appVersion            82250 non-null   object        \n",
            " 11  app_id                118422 non-null  object        \n",
            "dtypes: datetime64[ns](2), int64(2), object(8)\n",
            "memory usage: 10.8+ MB\n",
            "None\n"
          ]
        }
      ]
    },
    {
      "cell_type": "code",
      "source": [
        "#identifikasi total kolom kosong\n",
        "totkos = dfcop.isnull().sum() #Kosong\n",
        "print(totkos)"
      ],
      "metadata": {
        "id": "g4XubEuBDUue",
        "colab": {
          "base_uri": "https://localhost:8080/"
        },
        "outputId": "5f85aa1d-ddbb-4502-d590-d58d4694bb4d"
      },
      "execution_count": 16,
      "outputs": [
        {
          "output_type": "stream",
          "name": "stdout",
          "text": [
            "reviewId                    0\n",
            "userName                    0\n",
            "userImage                   0\n",
            "content                     9\n",
            "score                       0\n",
            "thumbsUpCount               0\n",
            "reviewCreatedVersion    36172\n",
            "at                          0\n",
            "replyContent            98780\n",
            "repliedAt               98780\n",
            "appVersion              36172\n",
            "app_id                      0\n",
            "dtype: int64\n"
          ]
        }
      ]
    },
    {
      "cell_type": "code",
      "source": [
        "#kolom hilang\n",
        "totkos = dfcop.isna().sum() #Hilang\n",
        "print(totkos)"
      ],
      "metadata": {
        "id": "HXI646x9_orh",
        "colab": {
          "base_uri": "https://localhost:8080/"
        },
        "outputId": "6ffaea7a-4418-4152-9a9f-d458f4bc1611"
      },
      "execution_count": 17,
      "outputs": [
        {
          "output_type": "stream",
          "name": "stdout",
          "text": [
            "reviewId                    0\n",
            "userName                    0\n",
            "userImage                   0\n",
            "content                     9\n",
            "score                       0\n",
            "thumbsUpCount               0\n",
            "reviewCreatedVersion    36172\n",
            "at                          0\n",
            "replyContent            98780\n",
            "repliedAt               98780\n",
            "appVersion              36172\n",
            "app_id                      0\n",
            "dtype: int64\n"
          ]
        }
      ]
    },
    {
      "cell_type": "code",
      "source": [
        "#duplikasi\n",
        "dupam = dfcop.duplicated().sum() #duplikat\n",
        "print(\"total of duplicate is\",dupam)"
      ],
      "metadata": {
        "id": "i2prkVa2Dipv",
        "colab": {
          "base_uri": "https://localhost:8080/"
        },
        "outputId": "6a10f208-1ea0-4b1b-934f-1d83ae94c4e8"
      },
      "execution_count": 18,
      "outputs": [
        {
          "output_type": "stream",
          "name": "stdout",
          "text": [
            "total of duplicate is 0\n"
          ]
        }
      ]
    },
    {
      "cell_type": "markdown",
      "source": [
        "## Pembersihan"
      ],
      "metadata": {
        "id": "heajCrYhDuQl"
      }
    },
    {
      "cell_type": "code",
      "source": [
        "#Manajemen kolom hilang\n",
        "dfclp1 = dfcop.copy()\n",
        "dfclp1['reviewCreatedVersion'] = dfclp1['reviewCreatedVersion'].fillna('Unspecified version') #tanpa versi jelas\n",
        "#cek hasil\n",
        "totkos1a = dfclp1.isna().sum() #Hilang di kolom selain versi\n",
        "print(totkos1a)"
      ],
      "metadata": {
        "id": "FqC6cXtlDt9X",
        "colab": {
          "base_uri": "https://localhost:8080/"
        },
        "outputId": "d07ee439-552a-49f5-e5dd-484a585d9907"
      },
      "execution_count": 30,
      "outputs": [
        {
          "output_type": "stream",
          "name": "stdout",
          "text": [
            "reviewId                    0\n",
            "userName                    0\n",
            "userImage                   0\n",
            "content                     9\n",
            "score                       0\n",
            "thumbsUpCount               0\n",
            "reviewCreatedVersion        0\n",
            "at                          0\n",
            "replyContent            98780\n",
            "repliedAt               98780\n",
            "appVersion              36172\n",
            "app_id                      0\n",
            "dtype: int64\n"
          ]
        }
      ]
    },
    {
      "cell_type": "code",
      "source": [
        "#Pembersihan untuk versi aplikasi\n",
        "dfclp1['appVersion'] = dfclp1['appVersion'].fillna('No updates') #untuk pembaruan\n",
        "dfclp1['replyContent'] = dfclp1['replyContent'].fillna('No reply') # belum adapesan yang dibalas\n",
        "#cek hasil\n",
        "totkos1b = dfclp1.isna().sum() #Hilang di kolom selain versi\n",
        "print(totkos1b)"
      ],
      "metadata": {
        "colab": {
          "base_uri": "https://localhost:8080/"
        },
        "id": "G6fqIWi7-0rB",
        "outputId": "6a8ac15b-adfb-4d75-8cda-bb75358f2820"
      },
      "execution_count": 31,
      "outputs": [
        {
          "output_type": "stream",
          "name": "stdout",
          "text": [
            "reviewId                    0\n",
            "userName                    0\n",
            "userImage                   0\n",
            "content                     9\n",
            "score                       0\n",
            "thumbsUpCount               0\n",
            "reviewCreatedVersion        0\n",
            "at                          0\n",
            "replyContent                0\n",
            "repliedAt               98780\n",
            "appVersion                  0\n",
            "app_id                      0\n",
            "dtype: int64\n"
          ]
        }
      ]
    },
    {
      "cell_type": "code",
      "source": [
        "#Penghapusan duplikat\n",
        "dfclp2 = dfcop.drop_duplicates() #truly clean"
      ],
      "metadata": {
        "id": "6tuh_m12G1K0"
      },
      "execution_count": 32,
      "outputs": []
    },
    {
      "cell_type": "code",
      "source": [
        "#pembersihan kembail untuk isi pesan 'content' jelas\n",
        "dfclp2['content'] = dfclp2['content'].fillna('no message')\n",
        "dfinfo3 = dfclp2.info()\n",
        "print(dfinfo3)"
      ],
      "metadata": {
        "colab": {
          "base_uri": "https://localhost:8080/"
        },
        "id": "y67MUtmzBvqk",
        "outputId": "3c99eb67-957a-4752-bae9-cc1b2b803dc5"
      },
      "execution_count": 33,
      "outputs": [
        {
          "output_type": "stream",
          "name": "stdout",
          "text": [
            "<class 'pandas.core.frame.DataFrame'>\n",
            "RangeIndex: 118422 entries, 0 to 118421\n",
            "Data columns (total 12 columns):\n",
            " #   Column                Non-Null Count   Dtype         \n",
            "---  ------                --------------   -----         \n",
            " 0   reviewId              118422 non-null  object        \n",
            " 1   userName              118422 non-null  object        \n",
            " 2   userImage             118422 non-null  object        \n",
            " 3   content               118422 non-null  object        \n",
            " 4   score                 118422 non-null  int64         \n",
            " 5   thumbsUpCount         118422 non-null  int64         \n",
            " 6   reviewCreatedVersion  82250 non-null   object        \n",
            " 7   at                    118422 non-null  datetime64[ns]\n",
            " 8   replyContent          19642 non-null   object        \n",
            " 9   repliedAt             19642 non-null   datetime64[ns]\n",
            " 10  appVersion            82250 non-null   object        \n",
            " 11  app_id                118422 non-null  object        \n",
            "dtypes: datetime64[ns](2), int64(2), object(8)\n",
            "memory usage: 10.8+ MB\n",
            "None\n"
          ]
        }
      ]
    },
    {
      "cell_type": "code",
      "source": [
        "#informasi pasca pembersihan\n",
        "dfinfo2 = dfclp2.info()\n",
        "print(dfinfo2)"
      ],
      "metadata": {
        "id": "07Gf161WG5TI",
        "colab": {
          "base_uri": "https://localhost:8080/"
        },
        "outputId": "5623ef0e-51ea-45a6-acb7-cb04bcb034f4"
      },
      "execution_count": 34,
      "outputs": [
        {
          "output_type": "stream",
          "name": "stdout",
          "text": [
            "<class 'pandas.core.frame.DataFrame'>\n",
            "RangeIndex: 118422 entries, 0 to 118421\n",
            "Data columns (total 12 columns):\n",
            " #   Column                Non-Null Count   Dtype         \n",
            "---  ------                --------------   -----         \n",
            " 0   reviewId              118422 non-null  object        \n",
            " 1   userName              118422 non-null  object        \n",
            " 2   userImage             118422 non-null  object        \n",
            " 3   content               118422 non-null  object        \n",
            " 4   score                 118422 non-null  int64         \n",
            " 5   thumbsUpCount         118422 non-null  int64         \n",
            " 6   reviewCreatedVersion  82250 non-null   object        \n",
            " 7   at                    118422 non-null  datetime64[ns]\n",
            " 8   replyContent          19642 non-null   object        \n",
            " 9   repliedAt             19642 non-null   datetime64[ns]\n",
            " 10  appVersion            82250 non-null   object        \n",
            " 11  app_id                118422 non-null  object        \n",
            "dtypes: datetime64[ns](2), int64(2), object(8)\n",
            "memory usage: 10.8+ MB\n",
            "None\n"
          ]
        }
      ]
    },
    {
      "cell_type": "markdown",
      "source": [
        "# Penyimpanan kembali ke csv untuk disimpan ke komputer"
      ],
      "metadata": {
        "id": "dcjoIYBJFFWh"
      }
    },
    {
      "cell_type": "code",
      "source": [
        "#ambil kolom yang tak nol di semua kondisi\n",
        "dffin = dfclp2.iloc[:,[0,1,2,4,5,11,3]].copy() #bahan ulasan sentimen\n",
        "#cek kepala\n",
        "kepfin = dffin.head(7) #hasil kepala bersih\n",
        "kepfin"
      ],
      "metadata": {
        "colab": {
          "base_uri": "https://localhost:8080/",
          "height": 390
        },
        "id": "vnLdenB8_mBb",
        "outputId": "6b762f05-ba5a-43f6-8aee-8884af5c767b"
      },
      "execution_count": 35,
      "outputs": [
        {
          "output_type": "execute_result",
          "data": {
            "text/plain": [
              "                               reviewId          userName  \\\n",
              "0  212f7d9f-34f5-4613-9c21-bc1e5e80e2e5             Elyse   \n",
              "1  e0e32262-3051-428b-8c5e-c1ecd86f6a89               J T   \n",
              "2  2cca1fcc-7db0-406d-a1f1-e9317b9b7abf      Sarah Sarina   \n",
              "3  1fb39898-7168-446c-9425-f06c321a5629  Anonymous Secret   \n",
              "4  23dd891a-98fd-43f6-b365-40d980ddd1a1      Salma Dassar   \n",
              "5  52c6e732-9306-49f8-978d-ca54fcfe8669               Alr   \n",
              "6  15f761e9-15de-44fb-8959-e5c617bb9692       Ariel Zheng   \n",
              "\n",
              "                                           userImage  score  thumbsUpCount  \\\n",
              "0  https://play-lh.googleusercontent.com/a-/ALV-U...      1              0   \n",
              "1  https://play-lh.googleusercontent.com/a-/ALV-U...      1              3   \n",
              "2  https://play-lh.googleusercontent.com/a-/ALV-U...      3              1   \n",
              "3  https://play-lh.googleusercontent.com/a-/ALV-U...      4              0   \n",
              "4  https://play-lh.googleusercontent.com/a-/ALV-U...      1              1   \n",
              "5  https://play-lh.googleusercontent.com/a-/ALV-U...      5              0   \n",
              "6  https://play-lh.googleusercontent.com/a-/ALV-U...      5              3   \n",
              "\n",
              "               app_id                                            content  \n",
              "0  com.miHoYo.tot.glb  GIVE ME BACK MY ACCOUNTTTTT IVE BEEN INACTIVE ...  \n",
              "1  com.miHoYo.tot.glb  Still love the game However I can't login for ...  \n",
              "2  com.miHoYo.tot.glb  Honestly, I had been playing this game for alm...  \n",
              "3  com.miHoYo.tot.glb  Please let us reread/play our previous sweet c...  \n",
              "4  com.miHoYo.tot.glb                              It keeps crashing !!!  \n",
              "5  com.miHoYo.tot.glb                               Artem is malewife fr  \n",
              "6  com.miHoYo.tot.glb  I've had this game ever since it first launche...  "
            ],
            "text/html": [
              "\n",
              "  <div id=\"df-a7cd0879-8bf2-4ecc-a739-866792964a98\" class=\"colab-df-container\">\n",
              "    <div>\n",
              "<style scoped>\n",
              "    .dataframe tbody tr th:only-of-type {\n",
              "        vertical-align: middle;\n",
              "    }\n",
              "\n",
              "    .dataframe tbody tr th {\n",
              "        vertical-align: top;\n",
              "    }\n",
              "\n",
              "    .dataframe thead th {\n",
              "        text-align: right;\n",
              "    }\n",
              "</style>\n",
              "<table border=\"1\" class=\"dataframe\">\n",
              "  <thead>\n",
              "    <tr style=\"text-align: right;\">\n",
              "      <th></th>\n",
              "      <th>reviewId</th>\n",
              "      <th>userName</th>\n",
              "      <th>userImage</th>\n",
              "      <th>score</th>\n",
              "      <th>thumbsUpCount</th>\n",
              "      <th>app_id</th>\n",
              "      <th>content</th>\n",
              "    </tr>\n",
              "  </thead>\n",
              "  <tbody>\n",
              "    <tr>\n",
              "      <th>0</th>\n",
              "      <td>212f7d9f-34f5-4613-9c21-bc1e5e80e2e5</td>\n",
              "      <td>Elyse</td>\n",
              "      <td>https://play-lh.googleusercontent.com/a-/ALV-U...</td>\n",
              "      <td>1</td>\n",
              "      <td>0</td>\n",
              "      <td>com.miHoYo.tot.glb</td>\n",
              "      <td>GIVE ME BACK MY ACCOUNTTTTT IVE BEEN INACTIVE ...</td>\n",
              "    </tr>\n",
              "    <tr>\n",
              "      <th>1</th>\n",
              "      <td>e0e32262-3051-428b-8c5e-c1ecd86f6a89</td>\n",
              "      <td>J T</td>\n",
              "      <td>https://play-lh.googleusercontent.com/a-/ALV-U...</td>\n",
              "      <td>1</td>\n",
              "      <td>3</td>\n",
              "      <td>com.miHoYo.tot.glb</td>\n",
              "      <td>Still love the game However I can't login for ...</td>\n",
              "    </tr>\n",
              "    <tr>\n",
              "      <th>2</th>\n",
              "      <td>2cca1fcc-7db0-406d-a1f1-e9317b9b7abf</td>\n",
              "      <td>Sarah Sarina</td>\n",
              "      <td>https://play-lh.googleusercontent.com/a-/ALV-U...</td>\n",
              "      <td>3</td>\n",
              "      <td>1</td>\n",
              "      <td>com.miHoYo.tot.glb</td>\n",
              "      <td>Honestly, I had been playing this game for alm...</td>\n",
              "    </tr>\n",
              "    <tr>\n",
              "      <th>3</th>\n",
              "      <td>1fb39898-7168-446c-9425-f06c321a5629</td>\n",
              "      <td>Anonymous Secret</td>\n",
              "      <td>https://play-lh.googleusercontent.com/a-/ALV-U...</td>\n",
              "      <td>4</td>\n",
              "      <td>0</td>\n",
              "      <td>com.miHoYo.tot.glb</td>\n",
              "      <td>Please let us reread/play our previous sweet c...</td>\n",
              "    </tr>\n",
              "    <tr>\n",
              "      <th>4</th>\n",
              "      <td>23dd891a-98fd-43f6-b365-40d980ddd1a1</td>\n",
              "      <td>Salma Dassar</td>\n",
              "      <td>https://play-lh.googleusercontent.com/a-/ALV-U...</td>\n",
              "      <td>1</td>\n",
              "      <td>1</td>\n",
              "      <td>com.miHoYo.tot.glb</td>\n",
              "      <td>It keeps crashing !!!</td>\n",
              "    </tr>\n",
              "    <tr>\n",
              "      <th>5</th>\n",
              "      <td>52c6e732-9306-49f8-978d-ca54fcfe8669</td>\n",
              "      <td>Alr</td>\n",
              "      <td>https://play-lh.googleusercontent.com/a-/ALV-U...</td>\n",
              "      <td>5</td>\n",
              "      <td>0</td>\n",
              "      <td>com.miHoYo.tot.glb</td>\n",
              "      <td>Artem is malewife fr</td>\n",
              "    </tr>\n",
              "    <tr>\n",
              "      <th>6</th>\n",
              "      <td>15f761e9-15de-44fb-8959-e5c617bb9692</td>\n",
              "      <td>Ariel Zheng</td>\n",
              "      <td>https://play-lh.googleusercontent.com/a-/ALV-U...</td>\n",
              "      <td>5</td>\n",
              "      <td>3</td>\n",
              "      <td>com.miHoYo.tot.glb</td>\n",
              "      <td>I've had this game ever since it first launche...</td>\n",
              "    </tr>\n",
              "  </tbody>\n",
              "</table>\n",
              "</div>\n",
              "    <div class=\"colab-df-buttons\">\n",
              "\n",
              "  <div class=\"colab-df-container\">\n",
              "    <button class=\"colab-df-convert\" onclick=\"convertToInteractive('df-a7cd0879-8bf2-4ecc-a739-866792964a98')\"\n",
              "            title=\"Convert this dataframe to an interactive table.\"\n",
              "            style=\"display:none;\">\n",
              "\n",
              "  <svg xmlns=\"http://www.w3.org/2000/svg\" height=\"24px\" viewBox=\"0 -960 960 960\">\n",
              "    <path d=\"M120-120v-720h720v720H120Zm60-500h600v-160H180v160Zm220 220h160v-160H400v160Zm0 220h160v-160H400v160ZM180-400h160v-160H180v160Zm440 0h160v-160H620v160ZM180-180h160v-160H180v160Zm440 0h160v-160H620v160Z\"/>\n",
              "  </svg>\n",
              "    </button>\n",
              "\n",
              "  <style>\n",
              "    .colab-df-container {\n",
              "      display:flex;\n",
              "      gap: 12px;\n",
              "    }\n",
              "\n",
              "    .colab-df-convert {\n",
              "      background-color: #E8F0FE;\n",
              "      border: none;\n",
              "      border-radius: 50%;\n",
              "      cursor: pointer;\n",
              "      display: none;\n",
              "      fill: #1967D2;\n",
              "      height: 32px;\n",
              "      padding: 0 0 0 0;\n",
              "      width: 32px;\n",
              "    }\n",
              "\n",
              "    .colab-df-convert:hover {\n",
              "      background-color: #E2EBFA;\n",
              "      box-shadow: 0px 1px 2px rgba(60, 64, 67, 0.3), 0px 1px 3px 1px rgba(60, 64, 67, 0.15);\n",
              "      fill: #174EA6;\n",
              "    }\n",
              "\n",
              "    .colab-df-buttons div {\n",
              "      margin-bottom: 4px;\n",
              "    }\n",
              "\n",
              "    [theme=dark] .colab-df-convert {\n",
              "      background-color: #3B4455;\n",
              "      fill: #D2E3FC;\n",
              "    }\n",
              "\n",
              "    [theme=dark] .colab-df-convert:hover {\n",
              "      background-color: #434B5C;\n",
              "      box-shadow: 0px 1px 3px 1px rgba(0, 0, 0, 0.15);\n",
              "      filter: drop-shadow(0px 1px 2px rgba(0, 0, 0, 0.3));\n",
              "      fill: #FFFFFF;\n",
              "    }\n",
              "  </style>\n",
              "\n",
              "    <script>\n",
              "      const buttonEl =\n",
              "        document.querySelector('#df-a7cd0879-8bf2-4ecc-a739-866792964a98 button.colab-df-convert');\n",
              "      buttonEl.style.display =\n",
              "        google.colab.kernel.accessAllowed ? 'block' : 'none';\n",
              "\n",
              "      async function convertToInteractive(key) {\n",
              "        const element = document.querySelector('#df-a7cd0879-8bf2-4ecc-a739-866792964a98');\n",
              "        const dataTable =\n",
              "          await google.colab.kernel.invokeFunction('convertToInteractive',\n",
              "                                                    [key], {});\n",
              "        if (!dataTable) return;\n",
              "\n",
              "        const docLinkHtml = 'Like what you see? Visit the ' +\n",
              "          '<a target=\"_blank\" href=https://colab.research.google.com/notebooks/data_table.ipynb>data table notebook</a>'\n",
              "          + ' to learn more about interactive tables.';\n",
              "        element.innerHTML = '';\n",
              "        dataTable['output_type'] = 'display_data';\n",
              "        await google.colab.output.renderOutput(dataTable, element);\n",
              "        const docLink = document.createElement('div');\n",
              "        docLink.innerHTML = docLinkHtml;\n",
              "        element.appendChild(docLink);\n",
              "      }\n",
              "    </script>\n",
              "  </div>\n",
              "\n",
              "\n",
              "<div id=\"df-b19faccb-5205-416d-a54d-816a18c0eee6\">\n",
              "  <button class=\"colab-df-quickchart\" onclick=\"quickchart('df-b19faccb-5205-416d-a54d-816a18c0eee6')\"\n",
              "            title=\"Suggest charts\"\n",
              "            style=\"display:none;\">\n",
              "\n",
              "<svg xmlns=\"http://www.w3.org/2000/svg\" height=\"24px\"viewBox=\"0 0 24 24\"\n",
              "     width=\"24px\">\n",
              "    <g>\n",
              "        <path d=\"M19 3H5c-1.1 0-2 .9-2 2v14c0 1.1.9 2 2 2h14c1.1 0 2-.9 2-2V5c0-1.1-.9-2-2-2zM9 17H7v-7h2v7zm4 0h-2V7h2v10zm4 0h-2v-4h2v4z\"/>\n",
              "    </g>\n",
              "</svg>\n",
              "  </button>\n",
              "\n",
              "<style>\n",
              "  .colab-df-quickchart {\n",
              "      --bg-color: #E8F0FE;\n",
              "      --fill-color: #1967D2;\n",
              "      --hover-bg-color: #E2EBFA;\n",
              "      --hover-fill-color: #174EA6;\n",
              "      --disabled-fill-color: #AAA;\n",
              "      --disabled-bg-color: #DDD;\n",
              "  }\n",
              "\n",
              "  [theme=dark] .colab-df-quickchart {\n",
              "      --bg-color: #3B4455;\n",
              "      --fill-color: #D2E3FC;\n",
              "      --hover-bg-color: #434B5C;\n",
              "      --hover-fill-color: #FFFFFF;\n",
              "      --disabled-bg-color: #3B4455;\n",
              "      --disabled-fill-color: #666;\n",
              "  }\n",
              "\n",
              "  .colab-df-quickchart {\n",
              "    background-color: var(--bg-color);\n",
              "    border: none;\n",
              "    border-radius: 50%;\n",
              "    cursor: pointer;\n",
              "    display: none;\n",
              "    fill: var(--fill-color);\n",
              "    height: 32px;\n",
              "    padding: 0;\n",
              "    width: 32px;\n",
              "  }\n",
              "\n",
              "  .colab-df-quickchart:hover {\n",
              "    background-color: var(--hover-bg-color);\n",
              "    box-shadow: 0 1px 2px rgba(60, 64, 67, 0.3), 0 1px 3px 1px rgba(60, 64, 67, 0.15);\n",
              "    fill: var(--button-hover-fill-color);\n",
              "  }\n",
              "\n",
              "  .colab-df-quickchart-complete:disabled,\n",
              "  .colab-df-quickchart-complete:disabled:hover {\n",
              "    background-color: var(--disabled-bg-color);\n",
              "    fill: var(--disabled-fill-color);\n",
              "    box-shadow: none;\n",
              "  }\n",
              "\n",
              "  .colab-df-spinner {\n",
              "    border: 2px solid var(--fill-color);\n",
              "    border-color: transparent;\n",
              "    border-bottom-color: var(--fill-color);\n",
              "    animation:\n",
              "      spin 1s steps(1) infinite;\n",
              "  }\n",
              "\n",
              "  @keyframes spin {\n",
              "    0% {\n",
              "      border-color: transparent;\n",
              "      border-bottom-color: var(--fill-color);\n",
              "      border-left-color: var(--fill-color);\n",
              "    }\n",
              "    20% {\n",
              "      border-color: transparent;\n",
              "      border-left-color: var(--fill-color);\n",
              "      border-top-color: var(--fill-color);\n",
              "    }\n",
              "    30% {\n",
              "      border-color: transparent;\n",
              "      border-left-color: var(--fill-color);\n",
              "      border-top-color: var(--fill-color);\n",
              "      border-right-color: var(--fill-color);\n",
              "    }\n",
              "    40% {\n",
              "      border-color: transparent;\n",
              "      border-right-color: var(--fill-color);\n",
              "      border-top-color: var(--fill-color);\n",
              "    }\n",
              "    60% {\n",
              "      border-color: transparent;\n",
              "      border-right-color: var(--fill-color);\n",
              "    }\n",
              "    80% {\n",
              "      border-color: transparent;\n",
              "      border-right-color: var(--fill-color);\n",
              "      border-bottom-color: var(--fill-color);\n",
              "    }\n",
              "    90% {\n",
              "      border-color: transparent;\n",
              "      border-bottom-color: var(--fill-color);\n",
              "    }\n",
              "  }\n",
              "</style>\n",
              "\n",
              "  <script>\n",
              "    async function quickchart(key) {\n",
              "      const quickchartButtonEl =\n",
              "        document.querySelector('#' + key + ' button');\n",
              "      quickchartButtonEl.disabled = true;  // To prevent multiple clicks.\n",
              "      quickchartButtonEl.classList.add('colab-df-spinner');\n",
              "      try {\n",
              "        const charts = await google.colab.kernel.invokeFunction(\n",
              "            'suggestCharts', [key], {});\n",
              "      } catch (error) {\n",
              "        console.error('Error during call to suggestCharts:', error);\n",
              "      }\n",
              "      quickchartButtonEl.classList.remove('colab-df-spinner');\n",
              "      quickchartButtonEl.classList.add('colab-df-quickchart-complete');\n",
              "    }\n",
              "    (() => {\n",
              "      let quickchartButtonEl =\n",
              "        document.querySelector('#df-b19faccb-5205-416d-a54d-816a18c0eee6 button');\n",
              "      quickchartButtonEl.style.display =\n",
              "        google.colab.kernel.accessAllowed ? 'block' : 'none';\n",
              "    })();\n",
              "  </script>\n",
              "</div>\n",
              "\n",
              "  <div id=\"id_89120066-f478-4aa5-b946-a25f6bf8364c\">\n",
              "    <style>\n",
              "      .colab-df-generate {\n",
              "        background-color: #E8F0FE;\n",
              "        border: none;\n",
              "        border-radius: 50%;\n",
              "        cursor: pointer;\n",
              "        display: none;\n",
              "        fill: #1967D2;\n",
              "        height: 32px;\n",
              "        padding: 0 0 0 0;\n",
              "        width: 32px;\n",
              "      }\n",
              "\n",
              "      .colab-df-generate:hover {\n",
              "        background-color: #E2EBFA;\n",
              "        box-shadow: 0px 1px 2px rgba(60, 64, 67, 0.3), 0px 1px 3px 1px rgba(60, 64, 67, 0.15);\n",
              "        fill: #174EA6;\n",
              "      }\n",
              "\n",
              "      [theme=dark] .colab-df-generate {\n",
              "        background-color: #3B4455;\n",
              "        fill: #D2E3FC;\n",
              "      }\n",
              "\n",
              "      [theme=dark] .colab-df-generate:hover {\n",
              "        background-color: #434B5C;\n",
              "        box-shadow: 0px 1px 3px 1px rgba(0, 0, 0, 0.15);\n",
              "        filter: drop-shadow(0px 1px 2px rgba(0, 0, 0, 0.3));\n",
              "        fill: #FFFFFF;\n",
              "      }\n",
              "    </style>\n",
              "    <button class=\"colab-df-generate\" onclick=\"generateWithVariable('kepfin')\"\n",
              "            title=\"Generate code using this dataframe.\"\n",
              "            style=\"display:none;\">\n",
              "\n",
              "  <svg xmlns=\"http://www.w3.org/2000/svg\" height=\"24px\"viewBox=\"0 0 24 24\"\n",
              "       width=\"24px\">\n",
              "    <path d=\"M7,19H8.4L18.45,9,17,7.55,7,17.6ZM5,21V16.75L18.45,3.32a2,2,0,0,1,2.83,0l1.4,1.43a1.91,1.91,0,0,1,.58,1.4,1.91,1.91,0,0,1-.58,1.4L9.25,21ZM18.45,9,17,7.55Zm-12,3A5.31,5.31,0,0,0,4.9,8.1,5.31,5.31,0,0,0,1,6.5,5.31,5.31,0,0,0,4.9,4.9,5.31,5.31,0,0,0,6.5,1,5.31,5.31,0,0,0,8.1,4.9,5.31,5.31,0,0,0,12,6.5,5.46,5.46,0,0,0,6.5,12Z\"/>\n",
              "  </svg>\n",
              "    </button>\n",
              "    <script>\n",
              "      (() => {\n",
              "      const buttonEl =\n",
              "        document.querySelector('#id_89120066-f478-4aa5-b946-a25f6bf8364c button.colab-df-generate');\n",
              "      buttonEl.style.display =\n",
              "        google.colab.kernel.accessAllowed ? 'block' : 'none';\n",
              "\n",
              "      buttonEl.onclick = () => {\n",
              "        google.colab.notebook.generateWithVariable('kepfin');\n",
              "      }\n",
              "      })();\n",
              "    </script>\n",
              "  </div>\n",
              "\n",
              "    </div>\n",
              "  </div>\n"
            ],
            "application/vnd.google.colaboratory.intrinsic+json": {
              "type": "dataframe",
              "variable_name": "kepfin",
              "summary": "{\n  \"name\": \"kepfin\",\n  \"rows\": 7,\n  \"fields\": [\n    {\n      \"column\": \"reviewId\",\n      \"properties\": {\n        \"dtype\": \"string\",\n        \"num_unique_values\": 7,\n        \"samples\": [\n          \"212f7d9f-34f5-4613-9c21-bc1e5e80e2e5\",\n          \"e0e32262-3051-428b-8c5e-c1ecd86f6a89\",\n          \"52c6e732-9306-49f8-978d-ca54fcfe8669\"\n        ],\n        \"semantic_type\": \"\",\n        \"description\": \"\"\n      }\n    },\n    {\n      \"column\": \"userName\",\n      \"properties\": {\n        \"dtype\": \"string\",\n        \"num_unique_values\": 7,\n        \"samples\": [\n          \"Elyse\",\n          \"J T\",\n          \"Alr\"\n        ],\n        \"semantic_type\": \"\",\n        \"description\": \"\"\n      }\n    },\n    {\n      \"column\": \"userImage\",\n      \"properties\": {\n        \"dtype\": \"string\",\n        \"num_unique_values\": 7,\n        \"samples\": [\n          \"https://play-lh.googleusercontent.com/a-/ALV-UjVmnYqj-IasZBgF7gmeuBPpg4KcEGq2zrmm44gZmZ_ayf0-5fJoqA\",\n          \"https://play-lh.googleusercontent.com/a-/ALV-UjUQcu_n9cct8K4jJlKsbTSNlw3G9i2htAIZsr3UvO4Uih01BNWY\",\n          \"https://play-lh.googleusercontent.com/a-/ALV-UjU1-EULC7ElSASLP2RognOmll_APecz2hvK6KdS0_0_ih8XM4A5\"\n        ],\n        \"semantic_type\": \"\",\n        \"description\": \"\"\n      }\n    },\n    {\n      \"column\": \"score\",\n      \"properties\": {\n        \"dtype\": \"number\",\n        \"std\": 1,\n        \"min\": 1,\n        \"max\": 5,\n        \"num_unique_values\": 4,\n        \"samples\": [\n          3,\n          5,\n          1\n        ],\n        \"semantic_type\": \"\",\n        \"description\": \"\"\n      }\n    },\n    {\n      \"column\": \"thumbsUpCount\",\n      \"properties\": {\n        \"dtype\": \"number\",\n        \"std\": 1,\n        \"min\": 0,\n        \"max\": 3,\n        \"num_unique_values\": 3,\n        \"samples\": [\n          0,\n          3,\n          1\n        ],\n        \"semantic_type\": \"\",\n        \"description\": \"\"\n      }\n    },\n    {\n      \"column\": \"app_id\",\n      \"properties\": {\n        \"dtype\": \"category\",\n        \"num_unique_values\": 1,\n        \"samples\": [\n          \"com.miHoYo.tot.glb\"\n        ],\n        \"semantic_type\": \"\",\n        \"description\": \"\"\n      }\n    },\n    {\n      \"column\": \"content\",\n      \"properties\": {\n        \"dtype\": \"string\",\n        \"num_unique_values\": 7,\n        \"samples\": [\n          \"GIVE ME BACK MY ACCOUNTTTTT IVE BEEN INACTIVE FOR MONTHS DUE TO WORK OR SOME STUFF BUT COME ON?????\"\n        ],\n        \"semantic_type\": \"\",\n        \"description\": \"\"\n      }\n    }\n  ]\n}"
            }
          },
          "metadata": {},
          "execution_count": 35
        }
      ]
    },
    {
      "cell_type": "code",
      "source": [
        "#penyimpanan hasil csv\n",
        "dffin.to_csv('hoyo-analysis-en.csv')"
      ],
      "metadata": {
        "id": "-wG9ce-LFpsM"
      },
      "execution_count": 36,
      "outputs": []
    },
    {
      "cell_type": "markdown",
      "source": [
        "# Generator 'requirements' untuk ekstraksi"
      ],
      "metadata": {
        "id": "kFS2PwVUAveo"
      }
    },
    {
      "cell_type": "code",
      "source": [
        "#deklarasi versi ekstraksi\n",
        "!pip install package_name"
      ],
      "metadata": {
        "colab": {
          "base_uri": "https://localhost:8080/"
        },
        "id": "aapOzQC1A5gX",
        "outputId": "adeabd4c-cbfa-4e07-e146-e11f43289017"
      },
      "execution_count": 37,
      "outputs": [
        {
          "output_type": "stream",
          "name": "stdout",
          "text": [
            "Collecting package_name\n",
            "  Downloading package_name-0.1.tar.gz (782 bytes)\n",
            "  Preparing metadata (setup.py) ... \u001b[?25l\u001b[?25hdone\n",
            "Building wheels for collected packages: package_name\n",
            "  Building wheel for package_name (setup.py) ... \u001b[?25l\u001b[?25hdone\n",
            "  Created wheel for package_name: filename=package_name-0.1-py3-none-any.whl size=1229 sha256=091ff40eaa419ac8676054c05230d535f9373b283f04b9bd3db8501b8c91d181\n",
            "  Stored in directory: /root/.cache/pip/wheels/b3/c1/6f/538e951eb00f535f43151173b4c55e463a35c17b9e90ab3b1a\n",
            "Successfully built package_name\n",
            "Installing collected packages: package_name\n",
            "Successfully installed package_name-0.1\n"
          ]
        }
      ]
    },
    {
      "cell_type": "code",
      "source": [
        "#generator requirements\n",
        "!pip freeze > requirements-s.txt"
      ],
      "metadata": {
        "id": "iaJGKKCJBAi3"
      },
      "execution_count": 38,
      "outputs": []
    },
    {
      "cell_type": "markdown",
      "source": [
        "tanda 's' menyatakan scrap"
      ],
      "metadata": {
        "id": "8XA8HjWBU2Jn"
      }
    },
    {
      "cell_type": "code",
      "source": [
        "#unduh 'requirement'\n",
        "from google.colab import files\n",
        "files.download('requirements-s.txt') #ekstraksi"
      ],
      "metadata": {
        "colab": {
          "base_uri": "https://localhost:8080/",
          "height": 17
        },
        "id": "z0OFjzXgBFiz",
        "outputId": "b5e753ad-5034-4c42-e5c0-e8ac2f2c6f61"
      },
      "execution_count": 39,
      "outputs": [
        {
          "output_type": "display_data",
          "data": {
            "text/plain": [
              "<IPython.core.display.Javascript object>"
            ],
            "application/javascript": [
              "\n",
              "    async function download(id, filename, size) {\n",
              "      if (!google.colab.kernel.accessAllowed) {\n",
              "        return;\n",
              "      }\n",
              "      const div = document.createElement('div');\n",
              "      const label = document.createElement('label');\n",
              "      label.textContent = `Downloading \"${filename}\": `;\n",
              "      div.appendChild(label);\n",
              "      const progress = document.createElement('progress');\n",
              "      progress.max = size;\n",
              "      div.appendChild(progress);\n",
              "      document.body.appendChild(div);\n",
              "\n",
              "      const buffers = [];\n",
              "      let downloaded = 0;\n",
              "\n",
              "      const channel = await google.colab.kernel.comms.open(id);\n",
              "      // Send a message to notify the kernel that we're ready.\n",
              "      channel.send({})\n",
              "\n",
              "      for await (const message of channel.messages) {\n",
              "        // Send a message to notify the kernel that we're ready.\n",
              "        channel.send({})\n",
              "        if (message.buffers) {\n",
              "          for (const buffer of message.buffers) {\n",
              "            buffers.push(buffer);\n",
              "            downloaded += buffer.byteLength;\n",
              "            progress.value = downloaded;\n",
              "          }\n",
              "        }\n",
              "      }\n",
              "      const blob = new Blob(buffers, {type: 'application/binary'});\n",
              "      const a = document.createElement('a');\n",
              "      a.href = window.URL.createObjectURL(blob);\n",
              "      a.download = filename;\n",
              "      div.appendChild(a);\n",
              "      a.click();\n",
              "      div.remove();\n",
              "    }\n",
              "  "
            ]
          },
          "metadata": {}
        },
        {
          "output_type": "display_data",
          "data": {
            "text/plain": [
              "<IPython.core.display.Javascript object>"
            ],
            "application/javascript": [
              "download(\"download_c2b14f76-72e6-43f4-bef1-6d7a642c9eb2\", \"requirements-s.txt\", 11545)"
            ]
          },
          "metadata": {}
        }
      ]
    }
  ]
}