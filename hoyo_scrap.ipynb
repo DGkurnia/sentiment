{
  "nbformat": 4,
  "nbformat_minor": 0,
  "metadata": {
    "colab": {
      "provenance": [],
      "collapsed_sections": [
        "P-Bg56PiXf2q",
        "mY8ZD1sUXVxt"
      ],
      "authorship_tag": "ABX9TyOMz4LQ4p+R8cBWh0y0Ob1k",
      "include_colab_link": true
    },
    "kernelspec": {
      "name": "python3",
      "display_name": "Python 3"
    },
    "language_info": {
      "name": "python"
    }
  },
  "cells": [
    {
      "cell_type": "markdown",
      "metadata": {
        "id": "view-in-github",
        "colab_type": "text"
      },
      "source": [
        "<a href=\"https://colab.research.google.com/github/DGkurnia/sentiment/blob/main/hoyo_scrap.ipynb\" target=\"_parent\"><img src=\"https://colab.research.google.com/assets/colab-badge.svg\" alt=\"Open In Colab\"/></a>"
      ]
    },
    {
      "cell_type": "markdown",
      "source": [
        "* Nama : Derfansyah guswiranata Kurnia\n",
        "* ID Dicoding : dgkurnia\n",
        "* Email : weerakurnia@gmail.com"
      ],
      "metadata": {
        "id": "sOV2kq5WVfm7"
      }
    },
    {
      "cell_type": "markdown",
      "source": [
        "# Preparasi"
      ],
      "metadata": {
        "id": "B6y1EKIXWEk3"
      }
    },
    {
      "cell_type": "markdown",
      "source": [
        "## Instalasi"
      ],
      "metadata": {
        "id": "P-Bg56PiXf2q"
      }
    },
    {
      "cell_type": "code",
      "execution_count": 1,
      "metadata": {
        "colab": {
          "base_uri": "https://localhost:8080/"
        },
        "id": "w_nmW-VoVcXz",
        "outputId": "3b23811a-fe5c-4ba2-d687-793d47a39001"
      },
      "outputs": [
        {
          "output_type": "stream",
          "name": "stdout",
          "text": [
            "Collecting google-play-scraper\n",
            "  Downloading google_play_scraper-1.2.7-py3-none-any.whl.metadata (50 kB)\n",
            "\u001b[?25l     \u001b[90m━━━━━━━━━━━━━━━━━━━━━━━━━━━━━━━━━━━━━━━━\u001b[0m \u001b[32m0.0/50.2 kB\u001b[0m \u001b[31m?\u001b[0m eta \u001b[36m-:--:--\u001b[0m\r\u001b[2K     \u001b[90m━━━━━━━━━━━━━━━━━━━━━━━━━━━━━━━━━━━━━━━━\u001b[0m \u001b[32m50.2/50.2 kB\u001b[0m \u001b[31m2.1 MB/s\u001b[0m eta \u001b[36m0:00:00\u001b[0m\n",
            "\u001b[?25hDownloading google_play_scraper-1.2.7-py3-none-any.whl (28 kB)\n",
            "Installing collected packages: google-play-scraper\n",
            "Successfully installed google-play-scraper-1.2.7\n"
          ]
        }
      ],
      "source": [
        "#Instalasi google play scrapper\n",
        "!pip install google-play-scraper"
      ]
    },
    {
      "cell_type": "markdown",
      "source": [
        "## Impor Perpustakaan"
      ],
      "metadata": {
        "id": "mY8ZD1sUXVxt"
      }
    },
    {
      "cell_type": "code",
      "source": [
        "#Import menu utama\n",
        "from google_play_scraper import app, reviews, Sort, reviews_all"
      ],
      "metadata": {
        "id": "VEWF0kXYV7tf"
      },
      "execution_count": 2,
      "outputs": []
    },
    {
      "cell_type": "code",
      "source": [
        "#Perpustakaan dasar -p1\n",
        "import pandas as pd  # Pandas untuk manipulasi dan analisis data\n",
        "pd.options.mode.chained_assignment = None  # Menonaktifkan peringatan chaining\n",
        "import numpy as np  # NumPy untuk komputasi numerik\n",
        "seed = 0\n",
        "np.random.seed(seed)  # Mengatur seed untuk reproduktibilitas"
      ],
      "metadata": {
        "id": "4l0w4EVMXMYD"
      },
      "execution_count": 3,
      "outputs": []
    },
    {
      "cell_type": "code",
      "source": [
        "#Bagian 2\n",
        "import matplotlib.pyplot as plt  # Matplotlib untuk visualisasi data\n",
        "import seaborn as sns  # Seaborn untuk visualisasi data statistik, mengatur gaya visualisasi\n",
        "#tanggal\n",
        "import datetime as dt  # Manipulasi data waktu dan tanggal"
      ],
      "metadata": {
        "id": "3oftR0GcXOHl"
      },
      "execution_count": 4,
      "outputs": []
    },
    {
      "cell_type": "markdown",
      "source": [
        "# Inisiasi"
      ],
      "metadata": {
        "id": "YhzrXzW_WcQC"
      }
    },
    {
      "cell_type": "code",
      "source": [
        "#Fungsi ekstraksi\n",
        "def scrape_all_reviews(app_ids, lang='en', max_reviews=3750):\n",
        "   # Daftar Negara\n",
        "    countries = ['us', 'gb', 'ca', 'au', 'ph', 'sg']  # Lima Negara dominan inggris\n",
        "    all_reviews = {}\n",
        "\n",
        "    for app_id in app_ids:\n",
        "        print(f\"Scraping reviews for {app_id}...\")\n",
        "        continuation_token = None\n",
        "        reviews_collected = 0\n",
        "\n",
        "        for country in countries:  # Iterasi setiap negara\n",
        "            while reviews_collected < max_reviews:\n",
        "                result, continuation_token = reviews(\n",
        "                    app_id,\n",
        "                    lang=lang,\n",
        "                    country=country,\n",
        "                    sort=Sort.NEWEST,\n",
        "                    count=100,  # Ambil 100\n",
        "                    continuation_token=continuation_token\n",
        "                )\n",
        "                all_reviews[app_id] = all_reviews.get(app_id, []) + result\n",
        "                reviews_collected += len(result)\n",
        "\n",
        "                if continuation_token.token is None:\n",
        "                    break  # Tak ada kelanjutan\n",
        "\n",
        "            print(f\"Total Ulasan untuk r {app_id} di negara {country}: {len(all_reviews[app_id])}\")\n",
        "            reviews_collected = 0  # Inspeksi Negara\n",
        "    return all_reviews\n",
        "  #ke eksekusi"
      ],
      "metadata": {
        "id": "557mda98WdZ3"
      },
      "execution_count": 5,
      "outputs": []
    },
    {
      "cell_type": "markdown",
      "source": [
        "Tugas dari ini adalah 3750 ulansan terbaru per permainan **'semua game MiHoyo/Hoyoverse'** game di lima negara:\n",
        "1. Amerika serikat : ['us']\n",
        "2. Britania Raya : ['uk']\n",
        "3. Kanada : ['ca']\n",
        "4. Australia : ['au']\n",
        "5. Filipina : ['ph']\n",
        "6. Singapura : ['sg']"
      ],
      "metadata": {
        "id": "kuWUF2v_XxjQ"
      }
    },
    {
      "cell_type": "code",
      "source": [
        "# Preparing ids\n",
        "appidlist = ['com.miHoYo.tot.glb','com.miHoYo.bh3oversea','com.miHoYo.GenshinImpact','com.hoyoverse.cloudgames.GenshinImpact',\n",
        "             'com.HoYoverse.hkrpgoversea','com.HoYoverse.Nap']\n",
        "#to fragmentation"
      ],
      "metadata": {
        "id": "Su9I-ub4YUzY"
      },
      "execution_count": 6,
      "outputs": []
    },
    {
      "cell_type": "markdown",
      "source": [
        "kiri ke kanan: tears of thermis, Honkai impact 3rd, Genshin impact (dua versi), Honkai Star Rail, Zenless zone zero."
      ],
      "metadata": {
        "id": "JCnyRwXFEE4x"
      }
    },
    {
      "cell_type": "code",
      "source": [
        "#eksekusi untuk hasil\n",
        "scrapres = scrape_all_reviews(appidlist)"
      ],
      "metadata": {
        "colab": {
          "base_uri": "https://localhost:8080/"
        },
        "id": "8NwST2BAYyMt",
        "outputId": "4dff868e-7f9e-478a-efd8-cab091cef7d3"
      },
      "execution_count": 7,
      "outputs": [
        {
          "output_type": "stream",
          "name": "stdout",
          "text": [
            "Scraping reviews for com.miHoYo.tot.glb...\n",
            "Total Ulasan untuk r com.miHoYo.tot.glb di negara us: 3800\n",
            "Total Ulasan untuk r com.miHoYo.tot.glb di negara gb: 7308\n",
            "Total Ulasan untuk r com.miHoYo.tot.glb di negara ca: 7308\n",
            "Total Ulasan untuk r com.miHoYo.tot.glb di negara au: 7308\n",
            "Total Ulasan untuk r com.miHoYo.tot.glb di negara ph: 7308\n",
            "Total Ulasan untuk r com.miHoYo.tot.glb di negara sg: 7308\n",
            "Scraping reviews for com.miHoYo.bh3oversea...\n",
            "Total Ulasan untuk r com.miHoYo.bh3oversea di negara us: 3800\n",
            "Total Ulasan untuk r com.miHoYo.bh3oversea di negara gb: 7600\n",
            "Total Ulasan untuk r com.miHoYo.bh3oversea di negara ca: 11400\n",
            "Total Ulasan untuk r com.miHoYo.bh3oversea di negara au: 15200\n",
            "Total Ulasan untuk r com.miHoYo.bh3oversea di negara ph: 19000\n",
            "Total Ulasan untuk r com.miHoYo.bh3oversea di negara sg: 22800\n",
            "Scraping reviews for com.miHoYo.GenshinImpact...\n",
            "Total Ulasan untuk r com.miHoYo.GenshinImpact di negara us: 3800\n",
            "Total Ulasan untuk r com.miHoYo.GenshinImpact di negara gb: 7600\n",
            "Total Ulasan untuk r com.miHoYo.GenshinImpact di negara ca: 11400\n",
            "Total Ulasan untuk r com.miHoYo.GenshinImpact di negara au: 15200\n",
            "Total Ulasan untuk r com.miHoYo.GenshinImpact di negara ph: 19000\n",
            "Total Ulasan untuk r com.miHoYo.GenshinImpact di negara sg: 22800\n",
            "Scraping reviews for com.hoyoverse.cloudgames.GenshinImpact...\n",
            "Total Ulasan untuk r com.hoyoverse.cloudgames.GenshinImpact di negara us: 3800\n",
            "Total Ulasan untuk r com.hoyoverse.cloudgames.GenshinImpact di negara gb: 7198\n",
            "Total Ulasan untuk r com.hoyoverse.cloudgames.GenshinImpact di negara ca: 7198\n",
            "Total Ulasan untuk r com.hoyoverse.cloudgames.GenshinImpact di negara au: 7198\n",
            "Total Ulasan untuk r com.hoyoverse.cloudgames.GenshinImpact di negara ph: 7198\n",
            "Total Ulasan untuk r com.hoyoverse.cloudgames.GenshinImpact di negara sg: 7198\n",
            "Scraping reviews for com.HoYoverse.hkrpgoversea...\n",
            "Total Ulasan untuk r com.HoYoverse.hkrpgoversea di negara us: 3800\n",
            "Total Ulasan untuk r com.HoYoverse.hkrpgoversea di negara gb: 7600\n",
            "Total Ulasan untuk r com.HoYoverse.hkrpgoversea di negara ca: 11400\n",
            "Total Ulasan untuk r com.HoYoverse.hkrpgoversea di negara au: 15200\n",
            "Total Ulasan untuk r com.HoYoverse.hkrpgoversea di negara ph: 19000\n",
            "Total Ulasan untuk r com.HoYoverse.hkrpgoversea di negara sg: 22800\n",
            "Scraping reviews for com.HoYoverse.Nap...\n",
            "Total Ulasan untuk r com.HoYoverse.Nap di negara us: 3800\n",
            "Total Ulasan untuk r com.HoYoverse.Nap di negara gb: 7600\n",
            "Total Ulasan untuk r com.HoYoverse.Nap di negara ca: 11400\n",
            "Total Ulasan untuk r com.HoYoverse.Nap di negara au: 13903\n",
            "Total Ulasan untuk r com.HoYoverse.Nap di negara ph: 13903\n",
            "Total Ulasan untuk r com.HoYoverse.Nap di negara sg: 13903\n"
          ]
        }
      ]
    },
    {
      "cell_type": "code",
      "source": [
        "#persiapan daftar data\n",
        "all_reviews_list = []\n",
        "for app_id, reviews_list in scrapres.items():\n",
        "    for review in reviews_list:\n",
        "        review['app_id'] = app_id  # Penambahan nama\n",
        "        all_reviews_list.append(review)  # Tempel kembali nama\n",
        "\n",
        "# Create DataFrame from the list of review dictionaries\n",
        "dfori = pd.DataFrame(all_reviews_list)\n",
        "dfcop = dfori.copy()\n",
        "#inspeksi\n",
        "hed1 = dfcop.head(7) #kepala versi kotor\n",
        "hed1"
      ],
      "metadata": {
        "id": "7a3RjnXKAFDe",
        "colab": {
          "base_uri": "https://localhost:8080/",
          "height": 740
        },
        "outputId": "e71a7218-a4f7-4042-e4a1-9ac800e93071"
      },
      "execution_count": 8,
      "outputs": [
        {
          "output_type": "stream",
          "name": "stderr",
          "text": [
            "/usr/local/lib/python3.11/dist-packages/google/colab/_dataframe_summarizer.py:88: UserWarning: Could not infer format, so each element will be parsed individually, falling back to `dateutil`. To ensure parsing is consistent and as-expected, please specify a format.\n",
            "  cast_date_col = pd.to_datetime(column, errors=\"coerce\")\n",
            "/usr/local/lib/python3.11/dist-packages/google/colab/_dataframe_summarizer.py:88: UserWarning: Could not infer format, so each element will be parsed individually, falling back to `dateutil`. To ensure parsing is consistent and as-expected, please specify a format.\n",
            "  cast_date_col = pd.to_datetime(column, errors=\"coerce\")\n"
          ]
        },
        {
          "output_type": "execute_result",
          "data": {
            "text/plain": [
              "                               reviewId          userName  \\\n",
              "0  212f7d9f-34f5-4613-9c21-bc1e5e80e2e5             Elyse   \n",
              "1  e0e32262-3051-428b-8c5e-c1ecd86f6a89               J T   \n",
              "2  2cca1fcc-7db0-406d-a1f1-e9317b9b7abf      Sarah Sarina   \n",
              "3  1fb39898-7168-446c-9425-f06c321a5629  Anonymous Secret   \n",
              "4  23dd891a-98fd-43f6-b365-40d980ddd1a1      Salma Dassar   \n",
              "5  52c6e732-9306-49f8-978d-ca54fcfe8669               Alr   \n",
              "6  15f761e9-15de-44fb-8959-e5c617bb9692       Ariel Zheng   \n",
              "\n",
              "                                           userImage  \\\n",
              "0  https://play-lh.googleusercontent.com/a-/ALV-U...   \n",
              "1  https://play-lh.googleusercontent.com/a-/ALV-U...   \n",
              "2  https://play-lh.googleusercontent.com/a-/ALV-U...   \n",
              "3  https://play-lh.googleusercontent.com/a-/ALV-U...   \n",
              "4  https://play-lh.googleusercontent.com/a-/ALV-U...   \n",
              "5  https://play-lh.googleusercontent.com/a-/ALV-U...   \n",
              "6  https://play-lh.googleusercontent.com/a-/ALV-U...   \n",
              "\n",
              "                                             content  score  thumbsUpCount  \\\n",
              "0  GIVE ME BACK MY ACCOUNTTTTT IVE BEEN INACTIVE ...      1              0   \n",
              "1  Still love the game However I can't login for ...      1              3   \n",
              "2  Honestly, I had been playing this game for alm...      3              1   \n",
              "3  Please let us reread/play our previous sweet c...      4              0   \n",
              "4                              It keeps crashing !!!      1              1   \n",
              "5                               Artem is malewife fr      5              0   \n",
              "6  I've had this game ever since it first launche...      5              2   \n",
              "\n",
              "  reviewCreatedVersion                  at  \\\n",
              "0                 None 2025-02-01 07:29:27   \n",
              "1                4.3.1 2025-01-29 10:47:39   \n",
              "2                4.3.1 2025-01-28 14:13:26   \n",
              "3                4.3.1 2025-01-28 01:59:13   \n",
              "4                 None 2025-01-27 19:34:40   \n",
              "5                4.3.1 2025-01-26 16:16:45   \n",
              "6                4.3.1 2025-01-24 06:01:21   \n",
              "\n",
              "                                        replyContent           repliedAt  \\\n",
              "0                                               None                 NaT   \n",
              "1  Dear Player, Thank you for your support. Pleas... 2022-05-04 03:30:42   \n",
              "2                                               None                 NaT   \n",
              "3                                               None                 NaT   \n",
              "4                                               None                 NaT   \n",
              "5                                               None                 NaT   \n",
              "6                                               None                 NaT   \n",
              "\n",
              "  appVersion              app_id  \n",
              "0       None  com.miHoYo.tot.glb  \n",
              "1      4.3.1  com.miHoYo.tot.glb  \n",
              "2      4.3.1  com.miHoYo.tot.glb  \n",
              "3      4.3.1  com.miHoYo.tot.glb  \n",
              "4       None  com.miHoYo.tot.glb  \n",
              "5      4.3.1  com.miHoYo.tot.glb  \n",
              "6      4.3.1  com.miHoYo.tot.glb  "
            ],
            "text/html": [
              "\n",
              "  <div id=\"df-8e4fc2ee-c149-4873-adb6-3494c5e770c3\" class=\"colab-df-container\">\n",
              "    <div>\n",
              "<style scoped>\n",
              "    .dataframe tbody tr th:only-of-type {\n",
              "        vertical-align: middle;\n",
              "    }\n",
              "\n",
              "    .dataframe tbody tr th {\n",
              "        vertical-align: top;\n",
              "    }\n",
              "\n",
              "    .dataframe thead th {\n",
              "        text-align: right;\n",
              "    }\n",
              "</style>\n",
              "<table border=\"1\" class=\"dataframe\">\n",
              "  <thead>\n",
              "    <tr style=\"text-align: right;\">\n",
              "      <th></th>\n",
              "      <th>reviewId</th>\n",
              "      <th>userName</th>\n",
              "      <th>userImage</th>\n",
              "      <th>content</th>\n",
              "      <th>score</th>\n",
              "      <th>thumbsUpCount</th>\n",
              "      <th>reviewCreatedVersion</th>\n",
              "      <th>at</th>\n",
              "      <th>replyContent</th>\n",
              "      <th>repliedAt</th>\n",
              "      <th>appVersion</th>\n",
              "      <th>app_id</th>\n",
              "    </tr>\n",
              "  </thead>\n",
              "  <tbody>\n",
              "    <tr>\n",
              "      <th>0</th>\n",
              "      <td>212f7d9f-34f5-4613-9c21-bc1e5e80e2e5</td>\n",
              "      <td>Elyse</td>\n",
              "      <td>https://play-lh.googleusercontent.com/a-/ALV-U...</td>\n",
              "      <td>GIVE ME BACK MY ACCOUNTTTTT IVE BEEN INACTIVE ...</td>\n",
              "      <td>1</td>\n",
              "      <td>0</td>\n",
              "      <td>None</td>\n",
              "      <td>2025-02-01 07:29:27</td>\n",
              "      <td>None</td>\n",
              "      <td>NaT</td>\n",
              "      <td>None</td>\n",
              "      <td>com.miHoYo.tot.glb</td>\n",
              "    </tr>\n",
              "    <tr>\n",
              "      <th>1</th>\n",
              "      <td>e0e32262-3051-428b-8c5e-c1ecd86f6a89</td>\n",
              "      <td>J T</td>\n",
              "      <td>https://play-lh.googleusercontent.com/a-/ALV-U...</td>\n",
              "      <td>Still love the game However I can't login for ...</td>\n",
              "      <td>1</td>\n",
              "      <td>3</td>\n",
              "      <td>4.3.1</td>\n",
              "      <td>2025-01-29 10:47:39</td>\n",
              "      <td>Dear Player, Thank you for your support. Pleas...</td>\n",
              "      <td>2022-05-04 03:30:42</td>\n",
              "      <td>4.3.1</td>\n",
              "      <td>com.miHoYo.tot.glb</td>\n",
              "    </tr>\n",
              "    <tr>\n",
              "      <th>2</th>\n",
              "      <td>2cca1fcc-7db0-406d-a1f1-e9317b9b7abf</td>\n",
              "      <td>Sarah Sarina</td>\n",
              "      <td>https://play-lh.googleusercontent.com/a-/ALV-U...</td>\n",
              "      <td>Honestly, I had been playing this game for alm...</td>\n",
              "      <td>3</td>\n",
              "      <td>1</td>\n",
              "      <td>4.3.1</td>\n",
              "      <td>2025-01-28 14:13:26</td>\n",
              "      <td>None</td>\n",
              "      <td>NaT</td>\n",
              "      <td>4.3.1</td>\n",
              "      <td>com.miHoYo.tot.glb</td>\n",
              "    </tr>\n",
              "    <tr>\n",
              "      <th>3</th>\n",
              "      <td>1fb39898-7168-446c-9425-f06c321a5629</td>\n",
              "      <td>Anonymous Secret</td>\n",
              "      <td>https://play-lh.googleusercontent.com/a-/ALV-U...</td>\n",
              "      <td>Please let us reread/play our previous sweet c...</td>\n",
              "      <td>4</td>\n",
              "      <td>0</td>\n",
              "      <td>4.3.1</td>\n",
              "      <td>2025-01-28 01:59:13</td>\n",
              "      <td>None</td>\n",
              "      <td>NaT</td>\n",
              "      <td>4.3.1</td>\n",
              "      <td>com.miHoYo.tot.glb</td>\n",
              "    </tr>\n",
              "    <tr>\n",
              "      <th>4</th>\n",
              "      <td>23dd891a-98fd-43f6-b365-40d980ddd1a1</td>\n",
              "      <td>Salma Dassar</td>\n",
              "      <td>https://play-lh.googleusercontent.com/a-/ALV-U...</td>\n",
              "      <td>It keeps crashing !!!</td>\n",
              "      <td>1</td>\n",
              "      <td>1</td>\n",
              "      <td>None</td>\n",
              "      <td>2025-01-27 19:34:40</td>\n",
              "      <td>None</td>\n",
              "      <td>NaT</td>\n",
              "      <td>None</td>\n",
              "      <td>com.miHoYo.tot.glb</td>\n",
              "    </tr>\n",
              "    <tr>\n",
              "      <th>5</th>\n",
              "      <td>52c6e732-9306-49f8-978d-ca54fcfe8669</td>\n",
              "      <td>Alr</td>\n",
              "      <td>https://play-lh.googleusercontent.com/a-/ALV-U...</td>\n",
              "      <td>Artem is malewife fr</td>\n",
              "      <td>5</td>\n",
              "      <td>0</td>\n",
              "      <td>4.3.1</td>\n",
              "      <td>2025-01-26 16:16:45</td>\n",
              "      <td>None</td>\n",
              "      <td>NaT</td>\n",
              "      <td>4.3.1</td>\n",
              "      <td>com.miHoYo.tot.glb</td>\n",
              "    </tr>\n",
              "    <tr>\n",
              "      <th>6</th>\n",
              "      <td>15f761e9-15de-44fb-8959-e5c617bb9692</td>\n",
              "      <td>Ariel Zheng</td>\n",
              "      <td>https://play-lh.googleusercontent.com/a-/ALV-U...</td>\n",
              "      <td>I've had this game ever since it first launche...</td>\n",
              "      <td>5</td>\n",
              "      <td>2</td>\n",
              "      <td>4.3.1</td>\n",
              "      <td>2025-01-24 06:01:21</td>\n",
              "      <td>None</td>\n",
              "      <td>NaT</td>\n",
              "      <td>4.3.1</td>\n",
              "      <td>com.miHoYo.tot.glb</td>\n",
              "    </tr>\n",
              "  </tbody>\n",
              "</table>\n",
              "</div>\n",
              "    <div class=\"colab-df-buttons\">\n",
              "\n",
              "  <div class=\"colab-df-container\">\n",
              "    <button class=\"colab-df-convert\" onclick=\"convertToInteractive('df-8e4fc2ee-c149-4873-adb6-3494c5e770c3')\"\n",
              "            title=\"Convert this dataframe to an interactive table.\"\n",
              "            style=\"display:none;\">\n",
              "\n",
              "  <svg xmlns=\"http://www.w3.org/2000/svg\" height=\"24px\" viewBox=\"0 -960 960 960\">\n",
              "    <path d=\"M120-120v-720h720v720H120Zm60-500h600v-160H180v160Zm220 220h160v-160H400v160Zm0 220h160v-160H400v160ZM180-400h160v-160H180v160Zm440 0h160v-160H620v160ZM180-180h160v-160H180v160Zm440 0h160v-160H620v160Z\"/>\n",
              "  </svg>\n",
              "    </button>\n",
              "\n",
              "  <style>\n",
              "    .colab-df-container {\n",
              "      display:flex;\n",
              "      gap: 12px;\n",
              "    }\n",
              "\n",
              "    .colab-df-convert {\n",
              "      background-color: #E8F0FE;\n",
              "      border: none;\n",
              "      border-radius: 50%;\n",
              "      cursor: pointer;\n",
              "      display: none;\n",
              "      fill: #1967D2;\n",
              "      height: 32px;\n",
              "      padding: 0 0 0 0;\n",
              "      width: 32px;\n",
              "    }\n",
              "\n",
              "    .colab-df-convert:hover {\n",
              "      background-color: #E2EBFA;\n",
              "      box-shadow: 0px 1px 2px rgba(60, 64, 67, 0.3), 0px 1px 3px 1px rgba(60, 64, 67, 0.15);\n",
              "      fill: #174EA6;\n",
              "    }\n",
              "\n",
              "    .colab-df-buttons div {\n",
              "      margin-bottom: 4px;\n",
              "    }\n",
              "\n",
              "    [theme=dark] .colab-df-convert {\n",
              "      background-color: #3B4455;\n",
              "      fill: #D2E3FC;\n",
              "    }\n",
              "\n",
              "    [theme=dark] .colab-df-convert:hover {\n",
              "      background-color: #434B5C;\n",
              "      box-shadow: 0px 1px 3px 1px rgba(0, 0, 0, 0.15);\n",
              "      filter: drop-shadow(0px 1px 2px rgba(0, 0, 0, 0.3));\n",
              "      fill: #FFFFFF;\n",
              "    }\n",
              "  </style>\n",
              "\n",
              "    <script>\n",
              "      const buttonEl =\n",
              "        document.querySelector('#df-8e4fc2ee-c149-4873-adb6-3494c5e770c3 button.colab-df-convert');\n",
              "      buttonEl.style.display =\n",
              "        google.colab.kernel.accessAllowed ? 'block' : 'none';\n",
              "\n",
              "      async function convertToInteractive(key) {\n",
              "        const element = document.querySelector('#df-8e4fc2ee-c149-4873-adb6-3494c5e770c3');\n",
              "        const dataTable =\n",
              "          await google.colab.kernel.invokeFunction('convertToInteractive',\n",
              "                                                    [key], {});\n",
              "        if (!dataTable) return;\n",
              "\n",
              "        const docLinkHtml = 'Like what you see? Visit the ' +\n",
              "          '<a target=\"_blank\" href=https://colab.research.google.com/notebooks/data_table.ipynb>data table notebook</a>'\n",
              "          + ' to learn more about interactive tables.';\n",
              "        element.innerHTML = '';\n",
              "        dataTable['output_type'] = 'display_data';\n",
              "        await google.colab.output.renderOutput(dataTable, element);\n",
              "        const docLink = document.createElement('div');\n",
              "        docLink.innerHTML = docLinkHtml;\n",
              "        element.appendChild(docLink);\n",
              "      }\n",
              "    </script>\n",
              "  </div>\n",
              "\n",
              "\n",
              "<div id=\"df-b45a508d-ff17-4d63-8b5f-079a69f43c58\">\n",
              "  <button class=\"colab-df-quickchart\" onclick=\"quickchart('df-b45a508d-ff17-4d63-8b5f-079a69f43c58')\"\n",
              "            title=\"Suggest charts\"\n",
              "            style=\"display:none;\">\n",
              "\n",
              "<svg xmlns=\"http://www.w3.org/2000/svg\" height=\"24px\"viewBox=\"0 0 24 24\"\n",
              "     width=\"24px\">\n",
              "    <g>\n",
              "        <path d=\"M19 3H5c-1.1 0-2 .9-2 2v14c0 1.1.9 2 2 2h14c1.1 0 2-.9 2-2V5c0-1.1-.9-2-2-2zM9 17H7v-7h2v7zm4 0h-2V7h2v10zm4 0h-2v-4h2v4z\"/>\n",
              "    </g>\n",
              "</svg>\n",
              "  </button>\n",
              "\n",
              "<style>\n",
              "  .colab-df-quickchart {\n",
              "      --bg-color: #E8F0FE;\n",
              "      --fill-color: #1967D2;\n",
              "      --hover-bg-color: #E2EBFA;\n",
              "      --hover-fill-color: #174EA6;\n",
              "      --disabled-fill-color: #AAA;\n",
              "      --disabled-bg-color: #DDD;\n",
              "  }\n",
              "\n",
              "  [theme=dark] .colab-df-quickchart {\n",
              "      --bg-color: #3B4455;\n",
              "      --fill-color: #D2E3FC;\n",
              "      --hover-bg-color: #434B5C;\n",
              "      --hover-fill-color: #FFFFFF;\n",
              "      --disabled-bg-color: #3B4455;\n",
              "      --disabled-fill-color: #666;\n",
              "  }\n",
              "\n",
              "  .colab-df-quickchart {\n",
              "    background-color: var(--bg-color);\n",
              "    border: none;\n",
              "    border-radius: 50%;\n",
              "    cursor: pointer;\n",
              "    display: none;\n",
              "    fill: var(--fill-color);\n",
              "    height: 32px;\n",
              "    padding: 0;\n",
              "    width: 32px;\n",
              "  }\n",
              "\n",
              "  .colab-df-quickchart:hover {\n",
              "    background-color: var(--hover-bg-color);\n",
              "    box-shadow: 0 1px 2px rgba(60, 64, 67, 0.3), 0 1px 3px 1px rgba(60, 64, 67, 0.15);\n",
              "    fill: var(--button-hover-fill-color);\n",
              "  }\n",
              "\n",
              "  .colab-df-quickchart-complete:disabled,\n",
              "  .colab-df-quickchart-complete:disabled:hover {\n",
              "    background-color: var(--disabled-bg-color);\n",
              "    fill: var(--disabled-fill-color);\n",
              "    box-shadow: none;\n",
              "  }\n",
              "\n",
              "  .colab-df-spinner {\n",
              "    border: 2px solid var(--fill-color);\n",
              "    border-color: transparent;\n",
              "    border-bottom-color: var(--fill-color);\n",
              "    animation:\n",
              "      spin 1s steps(1) infinite;\n",
              "  }\n",
              "\n",
              "  @keyframes spin {\n",
              "    0% {\n",
              "      border-color: transparent;\n",
              "      border-bottom-color: var(--fill-color);\n",
              "      border-left-color: var(--fill-color);\n",
              "    }\n",
              "    20% {\n",
              "      border-color: transparent;\n",
              "      border-left-color: var(--fill-color);\n",
              "      border-top-color: var(--fill-color);\n",
              "    }\n",
              "    30% {\n",
              "      border-color: transparent;\n",
              "      border-left-color: var(--fill-color);\n",
              "      border-top-color: var(--fill-color);\n",
              "      border-right-color: var(--fill-color);\n",
              "    }\n",
              "    40% {\n",
              "      border-color: transparent;\n",
              "      border-right-color: var(--fill-color);\n",
              "      border-top-color: var(--fill-color);\n",
              "    }\n",
              "    60% {\n",
              "      border-color: transparent;\n",
              "      border-right-color: var(--fill-color);\n",
              "    }\n",
              "    80% {\n",
              "      border-color: transparent;\n",
              "      border-right-color: var(--fill-color);\n",
              "      border-bottom-color: var(--fill-color);\n",
              "    }\n",
              "    90% {\n",
              "      border-color: transparent;\n",
              "      border-bottom-color: var(--fill-color);\n",
              "    }\n",
              "  }\n",
              "</style>\n",
              "\n",
              "  <script>\n",
              "    async function quickchart(key) {\n",
              "      const quickchartButtonEl =\n",
              "        document.querySelector('#' + key + ' button');\n",
              "      quickchartButtonEl.disabled = true;  // To prevent multiple clicks.\n",
              "      quickchartButtonEl.classList.add('colab-df-spinner');\n",
              "      try {\n",
              "        const charts = await google.colab.kernel.invokeFunction(\n",
              "            'suggestCharts', [key], {});\n",
              "      } catch (error) {\n",
              "        console.error('Error during call to suggestCharts:', error);\n",
              "      }\n",
              "      quickchartButtonEl.classList.remove('colab-df-spinner');\n",
              "      quickchartButtonEl.classList.add('colab-df-quickchart-complete');\n",
              "    }\n",
              "    (() => {\n",
              "      let quickchartButtonEl =\n",
              "        document.querySelector('#df-b45a508d-ff17-4d63-8b5f-079a69f43c58 button');\n",
              "      quickchartButtonEl.style.display =\n",
              "        google.colab.kernel.accessAllowed ? 'block' : 'none';\n",
              "    })();\n",
              "  </script>\n",
              "</div>\n",
              "\n",
              "  <div id=\"id_600eb869-e448-4332-b81a-f96f445af9e5\">\n",
              "    <style>\n",
              "      .colab-df-generate {\n",
              "        background-color: #E8F0FE;\n",
              "        border: none;\n",
              "        border-radius: 50%;\n",
              "        cursor: pointer;\n",
              "        display: none;\n",
              "        fill: #1967D2;\n",
              "        height: 32px;\n",
              "        padding: 0 0 0 0;\n",
              "        width: 32px;\n",
              "      }\n",
              "\n",
              "      .colab-df-generate:hover {\n",
              "        background-color: #E2EBFA;\n",
              "        box-shadow: 0px 1px 2px rgba(60, 64, 67, 0.3), 0px 1px 3px 1px rgba(60, 64, 67, 0.15);\n",
              "        fill: #174EA6;\n",
              "      }\n",
              "\n",
              "      [theme=dark] .colab-df-generate {\n",
              "        background-color: #3B4455;\n",
              "        fill: #D2E3FC;\n",
              "      }\n",
              "\n",
              "      [theme=dark] .colab-df-generate:hover {\n",
              "        background-color: #434B5C;\n",
              "        box-shadow: 0px 1px 3px 1px rgba(0, 0, 0, 0.15);\n",
              "        filter: drop-shadow(0px 1px 2px rgba(0, 0, 0, 0.3));\n",
              "        fill: #FFFFFF;\n",
              "      }\n",
              "    </style>\n",
              "    <button class=\"colab-df-generate\" onclick=\"generateWithVariable('hed1')\"\n",
              "            title=\"Generate code using this dataframe.\"\n",
              "            style=\"display:none;\">\n",
              "\n",
              "  <svg xmlns=\"http://www.w3.org/2000/svg\" height=\"24px\"viewBox=\"0 0 24 24\"\n",
              "       width=\"24px\">\n",
              "    <path d=\"M7,19H8.4L18.45,9,17,7.55,7,17.6ZM5,21V16.75L18.45,3.32a2,2,0,0,1,2.83,0l1.4,1.43a1.91,1.91,0,0,1,.58,1.4,1.91,1.91,0,0,1-.58,1.4L9.25,21ZM18.45,9,17,7.55Zm-12,3A5.31,5.31,0,0,0,4.9,8.1,5.31,5.31,0,0,0,1,6.5,5.31,5.31,0,0,0,4.9,4.9,5.31,5.31,0,0,0,6.5,1,5.31,5.31,0,0,0,8.1,4.9,5.31,5.31,0,0,0,12,6.5,5.46,5.46,0,0,0,6.5,12Z\"/>\n",
              "  </svg>\n",
              "    </button>\n",
              "    <script>\n",
              "      (() => {\n",
              "      const buttonEl =\n",
              "        document.querySelector('#id_600eb869-e448-4332-b81a-f96f445af9e5 button.colab-df-generate');\n",
              "      buttonEl.style.display =\n",
              "        google.colab.kernel.accessAllowed ? 'block' : 'none';\n",
              "\n",
              "      buttonEl.onclick = () => {\n",
              "        google.colab.notebook.generateWithVariable('hed1');\n",
              "      }\n",
              "      })();\n",
              "    </script>\n",
              "  </div>\n",
              "\n",
              "    </div>\n",
              "  </div>\n"
            ],
            "application/vnd.google.colaboratory.intrinsic+json": {
              "type": "dataframe",
              "variable_name": "hed1",
              "summary": "{\n  \"name\": \"hed1\",\n  \"rows\": 7,\n  \"fields\": [\n    {\n      \"column\": \"reviewId\",\n      \"properties\": {\n        \"dtype\": \"string\",\n        \"num_unique_values\": 7,\n        \"samples\": [\n          \"212f7d9f-34f5-4613-9c21-bc1e5e80e2e5\",\n          \"e0e32262-3051-428b-8c5e-c1ecd86f6a89\",\n          \"52c6e732-9306-49f8-978d-ca54fcfe8669\"\n        ],\n        \"semantic_type\": \"\",\n        \"description\": \"\"\n      }\n    },\n    {\n      \"column\": \"userName\",\n      \"properties\": {\n        \"dtype\": \"string\",\n        \"num_unique_values\": 7,\n        \"samples\": [\n          \"Elyse\",\n          \"J T\",\n          \"Alr\"\n        ],\n        \"semantic_type\": \"\",\n        \"description\": \"\"\n      }\n    },\n    {\n      \"column\": \"userImage\",\n      \"properties\": {\n        \"dtype\": \"string\",\n        \"num_unique_values\": 7,\n        \"samples\": [\n          \"https://play-lh.googleusercontent.com/a-/ALV-UjVmnYqj-IasZBgF7gmeuBPpg4KcEGq2zrmm44gZmZ_ayf0-5fJoqA\",\n          \"https://play-lh.googleusercontent.com/a-/ALV-UjUQcu_n9cct8K4jJlKsbTSNlw3G9i2htAIZsr3UvO4Uih01BNWY\",\n          \"https://play-lh.googleusercontent.com/a-/ALV-UjU1-EULC7ElSASLP2RognOmll_APecz2hvK6KdS0_0_ih8XM4A5\"\n        ],\n        \"semantic_type\": \"\",\n        \"description\": \"\"\n      }\n    },\n    {\n      \"column\": \"content\",\n      \"properties\": {\n        \"dtype\": \"string\",\n        \"num_unique_values\": 7,\n        \"samples\": [\n          \"GIVE ME BACK MY ACCOUNTTTTT IVE BEEN INACTIVE FOR MONTHS DUE TO WORK OR SOME STUFF BUT COME ON?????\",\n          \"Still love the game However I can't login for some reason, it isn't a issue with the Wi-Fi (all other apps that need Wi-Fi are working fine) It doesn't even show the login button or show that sparkle that usually appears when you touch the screen I've tried closing the app and reentering multiple times and waited a few hours after my first few attempts to login to try again\",\n          \"Artem is malewife fr\"\n        ],\n        \"semantic_type\": \"\",\n        \"description\": \"\"\n      }\n    },\n    {\n      \"column\": \"score\",\n      \"properties\": {\n        \"dtype\": \"number\",\n        \"std\": 1,\n        \"min\": 1,\n        \"max\": 5,\n        \"num_unique_values\": 4,\n        \"samples\": [\n          3,\n          5,\n          1\n        ],\n        \"semantic_type\": \"\",\n        \"description\": \"\"\n      }\n    },\n    {\n      \"column\": \"thumbsUpCount\",\n      \"properties\": {\n        \"dtype\": \"number\",\n        \"std\": 1,\n        \"min\": 0,\n        \"max\": 3,\n        \"num_unique_values\": 4,\n        \"samples\": [\n          3,\n          2,\n          0\n        ],\n        \"semantic_type\": \"\",\n        \"description\": \"\"\n      }\n    },\n    {\n      \"column\": \"reviewCreatedVersion\",\n      \"properties\": {\n        \"dtype\": \"date\",\n        \"min\": \"2001-04-03 00:00:00\",\n        \"max\": \"2001-04-03 00:00:00\",\n        \"num_unique_values\": 1,\n        \"samples\": [\n          \"4.3.1\"\n        ],\n        \"semantic_type\": \"\",\n        \"description\": \"\"\n      }\n    },\n    {\n      \"column\": \"at\",\n      \"properties\": {\n        \"dtype\": \"date\",\n        \"min\": \"2025-01-24 06:01:21\",\n        \"max\": \"2025-02-01 07:29:27\",\n        \"num_unique_values\": 7,\n        \"samples\": [\n          \"2025-02-01 07:29:27\"\n        ],\n        \"semantic_type\": \"\",\n        \"description\": \"\"\n      }\n    },\n    {\n      \"column\": \"replyContent\",\n      \"properties\": {\n        \"dtype\": \"category\",\n        \"num_unique_values\": 1,\n        \"samples\": [\n          \"Dear Player, Thank you for your support. Please send us more details about your problem (Video or screenshot) via CS in game or Email: totcs_glb@hoyoverse.com. We will help you check it. Thank you~\"\n        ],\n        \"semantic_type\": \"\",\n        \"description\": \"\"\n      }\n    },\n    {\n      \"column\": \"repliedAt\",\n      \"properties\": {\n        \"dtype\": \"date\",\n        \"min\": \"2022-05-04 03:30:42\",\n        \"max\": \"2022-05-04 03:30:42\",\n        \"num_unique_values\": 1,\n        \"samples\": [\n          \"2022-05-04 03:30:42\"\n        ],\n        \"semantic_type\": \"\",\n        \"description\": \"\"\n      }\n    },\n    {\n      \"column\": \"appVersion\",\n      \"properties\": {\n        \"dtype\": \"date\",\n        \"min\": \"2001-04-03 00:00:00\",\n        \"max\": \"2001-04-03 00:00:00\",\n        \"num_unique_values\": 1,\n        \"samples\": [\n          \"4.3.1\"\n        ],\n        \"semantic_type\": \"\",\n        \"description\": \"\"\n      }\n    },\n    {\n      \"column\": \"app_id\",\n      \"properties\": {\n        \"dtype\": \"category\",\n        \"num_unique_values\": 1,\n        \"samples\": [\n          \"com.miHoYo.tot.glb\"\n        ],\n        \"semantic_type\": \"\",\n        \"description\": \"\"\n      }\n    }\n  ]\n}"
            }
          },
          "metadata": {},
          "execution_count": 8
        }
      ]
    },
    {
      "cell_type": "code",
      "source": [
        "#panjang data awal\n",
        "lendfb = len(dfcop) #bruto\n",
        "print(\"the initial list is: \",lendfb)"
      ],
      "metadata": {
        "colab": {
          "base_uri": "https://localhost:8080/"
        },
        "id": "UJxGGgJRVNxy",
        "outputId": "f57b4323-30ba-4f71-cf26-fe10f0ef0dab"
      },
      "execution_count": 9,
      "outputs": [
        {
          "output_type": "stream",
          "name": "stdout",
          "text": [
            "the initial list is:  96809\n"
          ]
        }
      ]
    },
    {
      "cell_type": "markdown",
      "source": [
        "# Pembersihan data"
      ],
      "metadata": {
        "id": "TfAXdGrd_nWt"
      }
    },
    {
      "cell_type": "code",
      "source": [
        "#kepala\n",
        "dfkopinfo = dfcop.info() #info utama\n",
        "print(dfkopinfo)"
      ],
      "metadata": {
        "id": "f7eqCQ6bCzqC",
        "colab": {
          "base_uri": "https://localhost:8080/"
        },
        "outputId": "e90eb88f-35bc-4802-9d96-0036d7b4c01c"
      },
      "execution_count": 10,
      "outputs": [
        {
          "output_type": "stream",
          "name": "stdout",
          "text": [
            "<class 'pandas.core.frame.DataFrame'>\n",
            "RangeIndex: 96809 entries, 0 to 96808\n",
            "Data columns (total 12 columns):\n",
            " #   Column                Non-Null Count  Dtype         \n",
            "---  ------                --------------  -----         \n",
            " 0   reviewId              96809 non-null  object        \n",
            " 1   userName              96809 non-null  object        \n",
            " 2   userImage             96809 non-null  object        \n",
            " 3   content               96801 non-null  object        \n",
            " 4   score                 96809 non-null  int64         \n",
            " 5   thumbsUpCount         96809 non-null  int64         \n",
            " 6   reviewCreatedVersion  66387 non-null  object        \n",
            " 7   at                    96809 non-null  datetime64[ns]\n",
            " 8   replyContent          16037 non-null  object        \n",
            " 9   repliedAt             16037 non-null  datetime64[ns]\n",
            " 10  appVersion            66387 non-null  object        \n",
            " 11  app_id                96809 non-null  object        \n",
            "dtypes: datetime64[ns](2), int64(2), object(8)\n",
            "memory usage: 8.9+ MB\n",
            "None\n"
          ]
        }
      ]
    },
    {
      "cell_type": "code",
      "source": [
        "#identifikasi total kolom kosong\n",
        "totkos = dfcop.isnull().sum() #Kosong\n",
        "print(totkos)"
      ],
      "metadata": {
        "id": "g4XubEuBDUue",
        "colab": {
          "base_uri": "https://localhost:8080/"
        },
        "outputId": "32ca41db-1079-4348-872a-a06e92ac27a9"
      },
      "execution_count": 11,
      "outputs": [
        {
          "output_type": "stream",
          "name": "stdout",
          "text": [
            "reviewId                    0\n",
            "userName                    0\n",
            "userImage                   0\n",
            "content                     8\n",
            "score                       0\n",
            "thumbsUpCount               0\n",
            "reviewCreatedVersion    30422\n",
            "at                          0\n",
            "replyContent            80772\n",
            "repliedAt               80772\n",
            "appVersion              30422\n",
            "app_id                      0\n",
            "dtype: int64\n"
          ]
        }
      ]
    },
    {
      "cell_type": "code",
      "source": [
        "#kolom hilang\n",
        "totkos = dfcop.isna().sum() #Hilang\n",
        "print(totkos)"
      ],
      "metadata": {
        "id": "HXI646x9_orh",
        "colab": {
          "base_uri": "https://localhost:8080/"
        },
        "outputId": "2ee40254-fc8a-4ea1-e135-1517d532b4f5"
      },
      "execution_count": 12,
      "outputs": [
        {
          "output_type": "stream",
          "name": "stdout",
          "text": [
            "reviewId                    0\n",
            "userName                    0\n",
            "userImage                   0\n",
            "content                     8\n",
            "score                       0\n",
            "thumbsUpCount               0\n",
            "reviewCreatedVersion    30422\n",
            "at                          0\n",
            "replyContent            80772\n",
            "repliedAt               80772\n",
            "appVersion              30422\n",
            "app_id                      0\n",
            "dtype: int64\n"
          ]
        }
      ]
    },
    {
      "cell_type": "code",
      "source": [
        "#duplikasi\n",
        "dupam = dfcop.duplicated().sum() #duplikat\n",
        "print(\"total of duplicate is\",dupam)"
      ],
      "metadata": {
        "id": "i2prkVa2Dipv",
        "colab": {
          "base_uri": "https://localhost:8080/"
        },
        "outputId": "824f8ee5-471e-4475-888b-5849bd4190c3"
      },
      "execution_count": 13,
      "outputs": [
        {
          "output_type": "stream",
          "name": "stdout",
          "text": [
            "total of duplicate is 0\n"
          ]
        }
      ]
    },
    {
      "cell_type": "markdown",
      "source": [
        "## Pembersihan"
      ],
      "metadata": {
        "id": "heajCrYhDuQl"
      }
    },
    {
      "cell_type": "code",
      "source": [
        "#Manajemen kolom hilang\n",
        "dfclp1 = dfcop['reviewCreatedVersion'].fillna('Unspecified version') #tanpa versi jelas\n",
        "#cek hasil\n",
        "totkos1a = dfclp1.isna().sum() #Hilang di kolom selain versi\n",
        "print(totkos1a)"
      ],
      "metadata": {
        "id": "FqC6cXtlDt9X",
        "colab": {
          "base_uri": "https://localhost:8080/"
        },
        "outputId": "a373bde7-baac-483e-e868-932d56ee6578"
      },
      "execution_count": 14,
      "outputs": [
        {
          "output_type": "stream",
          "name": "stdout",
          "text": [
            "0\n"
          ]
        }
      ]
    },
    {
      "cell_type": "code",
      "source": [
        "#Pembersihan untuk versi aplikasi\n",
        "dfclp1a = dfcop['appVersion'].fillna('No updates')\n",
        "#cek hasil\n",
        "totkos1b = dfclp1a.isna().sum() #Hilang di kolom selain versi\n",
        "print(totkos1b)"
      ],
      "metadata": {
        "colab": {
          "base_uri": "https://localhost:8080/"
        },
        "id": "G6fqIWi7-0rB",
        "outputId": "ce848bb7-0093-4e38-8e0d-270311b9443f"
      },
      "execution_count": 15,
      "outputs": [
        {
          "output_type": "stream",
          "name": "stdout",
          "text": [
            "0\n"
          ]
        }
      ]
    },
    {
      "cell_type": "code",
      "source": [
        "#Penghapusan\n",
        "dfclp2 = dfcop.drop_duplicates() #truly clean"
      ],
      "metadata": {
        "id": "6tuh_m12G1K0"
      },
      "execution_count": 16,
      "outputs": []
    },
    {
      "cell_type": "code",
      "source": [
        "#informasi pasca pembersihan\n",
        "dfinfo2 = dfclp2.info()\n",
        "print(dfinfo2)"
      ],
      "metadata": {
        "id": "07Gf161WG5TI",
        "colab": {
          "base_uri": "https://localhost:8080/"
        },
        "outputId": "f1c81b7b-e4df-42af-c09b-c8b65fd4b33f"
      },
      "execution_count": 17,
      "outputs": [
        {
          "output_type": "stream",
          "name": "stdout",
          "text": [
            "<class 'pandas.core.frame.DataFrame'>\n",
            "RangeIndex: 96809 entries, 0 to 96808\n",
            "Data columns (total 12 columns):\n",
            " #   Column                Non-Null Count  Dtype         \n",
            "---  ------                --------------  -----         \n",
            " 0   reviewId              96809 non-null  object        \n",
            " 1   userName              96809 non-null  object        \n",
            " 2   userImage             96809 non-null  object        \n",
            " 3   content               96801 non-null  object        \n",
            " 4   score                 96809 non-null  int64         \n",
            " 5   thumbsUpCount         96809 non-null  int64         \n",
            " 6   reviewCreatedVersion  66387 non-null  object        \n",
            " 7   at                    96809 non-null  datetime64[ns]\n",
            " 8   replyContent          16037 non-null  object        \n",
            " 9   repliedAt             16037 non-null  datetime64[ns]\n",
            " 10  appVersion            66387 non-null  object        \n",
            " 11  app_id                96809 non-null  object        \n",
            "dtypes: datetime64[ns](2), int64(2), object(8)\n",
            "memory usage: 8.9+ MB\n",
            "None\n"
          ]
        }
      ]
    },
    {
      "cell_type": "code",
      "source": [
        "#pembersihan kembail untuk isi 'content'\n",
        "dfclp2['content'] = dfclp2['content'].fillna('no message')\n",
        "dfinfo3 = dfclp2.info()\n",
        "print(dfinfo3)"
      ],
      "metadata": {
        "colab": {
          "base_uri": "https://localhost:8080/"
        },
        "id": "y67MUtmzBvqk",
        "outputId": "d0bc52bc-7629-4586-9e69-db0828eaa89c"
      },
      "execution_count": 18,
      "outputs": [
        {
          "output_type": "stream",
          "name": "stdout",
          "text": [
            "<class 'pandas.core.frame.DataFrame'>\n",
            "RangeIndex: 96809 entries, 0 to 96808\n",
            "Data columns (total 12 columns):\n",
            " #   Column                Non-Null Count  Dtype         \n",
            "---  ------                --------------  -----         \n",
            " 0   reviewId              96809 non-null  object        \n",
            " 1   userName              96809 non-null  object        \n",
            " 2   userImage             96809 non-null  object        \n",
            " 3   content               96809 non-null  object        \n",
            " 4   score                 96809 non-null  int64         \n",
            " 5   thumbsUpCount         96809 non-null  int64         \n",
            " 6   reviewCreatedVersion  66387 non-null  object        \n",
            " 7   at                    96809 non-null  datetime64[ns]\n",
            " 8   replyContent          16037 non-null  object        \n",
            " 9   repliedAt             16037 non-null  datetime64[ns]\n",
            " 10  appVersion            66387 non-null  object        \n",
            " 11  app_id                96809 non-null  object        \n",
            "dtypes: datetime64[ns](2), int64(2), object(8)\n",
            "memory usage: 8.9+ MB\n",
            "None\n"
          ]
        }
      ]
    },
    {
      "cell_type": "markdown",
      "source": [
        "# Penyimpanan kembali ke csv untuk disimpan ke komputer"
      ],
      "metadata": {
        "id": "dcjoIYBJFFWh"
      }
    },
    {
      "cell_type": "code",
      "source": [
        "#ambil kolom yang tak nol di semua kondisi\n",
        "dffin = dfclp2.iloc[:,[0,1,2,4,5,11,3]].copy() #bahan ulasan sentimen\n",
        "#cek kepala\n",
        "kepfin = dffin.head(7) #hasil kepala bersih\n",
        "kepfin"
      ],
      "metadata": {
        "colab": {
          "base_uri": "https://localhost:8080/",
          "height": 390
        },
        "id": "vnLdenB8_mBb",
        "outputId": "e9259434-d757-427b-dc46-9027b46d4035"
      },
      "execution_count": 19,
      "outputs": [
        {
          "output_type": "execute_result",
          "data": {
            "text/plain": [
              "                               reviewId          userName  \\\n",
              "0  212f7d9f-34f5-4613-9c21-bc1e5e80e2e5             Elyse   \n",
              "1  e0e32262-3051-428b-8c5e-c1ecd86f6a89               J T   \n",
              "2  2cca1fcc-7db0-406d-a1f1-e9317b9b7abf      Sarah Sarina   \n",
              "3  1fb39898-7168-446c-9425-f06c321a5629  Anonymous Secret   \n",
              "4  23dd891a-98fd-43f6-b365-40d980ddd1a1      Salma Dassar   \n",
              "5  52c6e732-9306-49f8-978d-ca54fcfe8669               Alr   \n",
              "6  15f761e9-15de-44fb-8959-e5c617bb9692       Ariel Zheng   \n",
              "\n",
              "                                           userImage  score  thumbsUpCount  \\\n",
              "0  https://play-lh.googleusercontent.com/a-/ALV-U...      1              0   \n",
              "1  https://play-lh.googleusercontent.com/a-/ALV-U...      1              3   \n",
              "2  https://play-lh.googleusercontent.com/a-/ALV-U...      3              1   \n",
              "3  https://play-lh.googleusercontent.com/a-/ALV-U...      4              0   \n",
              "4  https://play-lh.googleusercontent.com/a-/ALV-U...      1              1   \n",
              "5  https://play-lh.googleusercontent.com/a-/ALV-U...      5              0   \n",
              "6  https://play-lh.googleusercontent.com/a-/ALV-U...      5              2   \n",
              "\n",
              "               app_id                                            content  \n",
              "0  com.miHoYo.tot.glb  GIVE ME BACK MY ACCOUNTTTTT IVE BEEN INACTIVE ...  \n",
              "1  com.miHoYo.tot.glb  Still love the game However I can't login for ...  \n",
              "2  com.miHoYo.tot.glb  Honestly, I had been playing this game for alm...  \n",
              "3  com.miHoYo.tot.glb  Please let us reread/play our previous sweet c...  \n",
              "4  com.miHoYo.tot.glb                              It keeps crashing !!!  \n",
              "5  com.miHoYo.tot.glb                               Artem is malewife fr  \n",
              "6  com.miHoYo.tot.glb  I've had this game ever since it first launche...  "
            ],
            "text/html": [
              "\n",
              "  <div id=\"df-26e0a0dc-f2cd-4c7f-a26c-787ccf89b961\" class=\"colab-df-container\">\n",
              "    <div>\n",
              "<style scoped>\n",
              "    .dataframe tbody tr th:only-of-type {\n",
              "        vertical-align: middle;\n",
              "    }\n",
              "\n",
              "    .dataframe tbody tr th {\n",
              "        vertical-align: top;\n",
              "    }\n",
              "\n",
              "    .dataframe thead th {\n",
              "        text-align: right;\n",
              "    }\n",
              "</style>\n",
              "<table border=\"1\" class=\"dataframe\">\n",
              "  <thead>\n",
              "    <tr style=\"text-align: right;\">\n",
              "      <th></th>\n",
              "      <th>reviewId</th>\n",
              "      <th>userName</th>\n",
              "      <th>userImage</th>\n",
              "      <th>score</th>\n",
              "      <th>thumbsUpCount</th>\n",
              "      <th>app_id</th>\n",
              "      <th>content</th>\n",
              "    </tr>\n",
              "  </thead>\n",
              "  <tbody>\n",
              "    <tr>\n",
              "      <th>0</th>\n",
              "      <td>212f7d9f-34f5-4613-9c21-bc1e5e80e2e5</td>\n",
              "      <td>Elyse</td>\n",
              "      <td>https://play-lh.googleusercontent.com/a-/ALV-U...</td>\n",
              "      <td>1</td>\n",
              "      <td>0</td>\n",
              "      <td>com.miHoYo.tot.glb</td>\n",
              "      <td>GIVE ME BACK MY ACCOUNTTTTT IVE BEEN INACTIVE ...</td>\n",
              "    </tr>\n",
              "    <tr>\n",
              "      <th>1</th>\n",
              "      <td>e0e32262-3051-428b-8c5e-c1ecd86f6a89</td>\n",
              "      <td>J T</td>\n",
              "      <td>https://play-lh.googleusercontent.com/a-/ALV-U...</td>\n",
              "      <td>1</td>\n",
              "      <td>3</td>\n",
              "      <td>com.miHoYo.tot.glb</td>\n",
              "      <td>Still love the game However I can't login for ...</td>\n",
              "    </tr>\n",
              "    <tr>\n",
              "      <th>2</th>\n",
              "      <td>2cca1fcc-7db0-406d-a1f1-e9317b9b7abf</td>\n",
              "      <td>Sarah Sarina</td>\n",
              "      <td>https://play-lh.googleusercontent.com/a-/ALV-U...</td>\n",
              "      <td>3</td>\n",
              "      <td>1</td>\n",
              "      <td>com.miHoYo.tot.glb</td>\n",
              "      <td>Honestly, I had been playing this game for alm...</td>\n",
              "    </tr>\n",
              "    <tr>\n",
              "      <th>3</th>\n",
              "      <td>1fb39898-7168-446c-9425-f06c321a5629</td>\n",
              "      <td>Anonymous Secret</td>\n",
              "      <td>https://play-lh.googleusercontent.com/a-/ALV-U...</td>\n",
              "      <td>4</td>\n",
              "      <td>0</td>\n",
              "      <td>com.miHoYo.tot.glb</td>\n",
              "      <td>Please let us reread/play our previous sweet c...</td>\n",
              "    </tr>\n",
              "    <tr>\n",
              "      <th>4</th>\n",
              "      <td>23dd891a-98fd-43f6-b365-40d980ddd1a1</td>\n",
              "      <td>Salma Dassar</td>\n",
              "      <td>https://play-lh.googleusercontent.com/a-/ALV-U...</td>\n",
              "      <td>1</td>\n",
              "      <td>1</td>\n",
              "      <td>com.miHoYo.tot.glb</td>\n",
              "      <td>It keeps crashing !!!</td>\n",
              "    </tr>\n",
              "    <tr>\n",
              "      <th>5</th>\n",
              "      <td>52c6e732-9306-49f8-978d-ca54fcfe8669</td>\n",
              "      <td>Alr</td>\n",
              "      <td>https://play-lh.googleusercontent.com/a-/ALV-U...</td>\n",
              "      <td>5</td>\n",
              "      <td>0</td>\n",
              "      <td>com.miHoYo.tot.glb</td>\n",
              "      <td>Artem is malewife fr</td>\n",
              "    </tr>\n",
              "    <tr>\n",
              "      <th>6</th>\n",
              "      <td>15f761e9-15de-44fb-8959-e5c617bb9692</td>\n",
              "      <td>Ariel Zheng</td>\n",
              "      <td>https://play-lh.googleusercontent.com/a-/ALV-U...</td>\n",
              "      <td>5</td>\n",
              "      <td>2</td>\n",
              "      <td>com.miHoYo.tot.glb</td>\n",
              "      <td>I've had this game ever since it first launche...</td>\n",
              "    </tr>\n",
              "  </tbody>\n",
              "</table>\n",
              "</div>\n",
              "    <div class=\"colab-df-buttons\">\n",
              "\n",
              "  <div class=\"colab-df-container\">\n",
              "    <button class=\"colab-df-convert\" onclick=\"convertToInteractive('df-26e0a0dc-f2cd-4c7f-a26c-787ccf89b961')\"\n",
              "            title=\"Convert this dataframe to an interactive table.\"\n",
              "            style=\"display:none;\">\n",
              "\n",
              "  <svg xmlns=\"http://www.w3.org/2000/svg\" height=\"24px\" viewBox=\"0 -960 960 960\">\n",
              "    <path d=\"M120-120v-720h720v720H120Zm60-500h600v-160H180v160Zm220 220h160v-160H400v160Zm0 220h160v-160H400v160ZM180-400h160v-160H180v160Zm440 0h160v-160H620v160ZM180-180h160v-160H180v160Zm440 0h160v-160H620v160Z\"/>\n",
              "  </svg>\n",
              "    </button>\n",
              "\n",
              "  <style>\n",
              "    .colab-df-container {\n",
              "      display:flex;\n",
              "      gap: 12px;\n",
              "    }\n",
              "\n",
              "    .colab-df-convert {\n",
              "      background-color: #E8F0FE;\n",
              "      border: none;\n",
              "      border-radius: 50%;\n",
              "      cursor: pointer;\n",
              "      display: none;\n",
              "      fill: #1967D2;\n",
              "      height: 32px;\n",
              "      padding: 0 0 0 0;\n",
              "      width: 32px;\n",
              "    }\n",
              "\n",
              "    .colab-df-convert:hover {\n",
              "      background-color: #E2EBFA;\n",
              "      box-shadow: 0px 1px 2px rgba(60, 64, 67, 0.3), 0px 1px 3px 1px rgba(60, 64, 67, 0.15);\n",
              "      fill: #174EA6;\n",
              "    }\n",
              "\n",
              "    .colab-df-buttons div {\n",
              "      margin-bottom: 4px;\n",
              "    }\n",
              "\n",
              "    [theme=dark] .colab-df-convert {\n",
              "      background-color: #3B4455;\n",
              "      fill: #D2E3FC;\n",
              "    }\n",
              "\n",
              "    [theme=dark] .colab-df-convert:hover {\n",
              "      background-color: #434B5C;\n",
              "      box-shadow: 0px 1px 3px 1px rgba(0, 0, 0, 0.15);\n",
              "      filter: drop-shadow(0px 1px 2px rgba(0, 0, 0, 0.3));\n",
              "      fill: #FFFFFF;\n",
              "    }\n",
              "  </style>\n",
              "\n",
              "    <script>\n",
              "      const buttonEl =\n",
              "        document.querySelector('#df-26e0a0dc-f2cd-4c7f-a26c-787ccf89b961 button.colab-df-convert');\n",
              "      buttonEl.style.display =\n",
              "        google.colab.kernel.accessAllowed ? 'block' : 'none';\n",
              "\n",
              "      async function convertToInteractive(key) {\n",
              "        const element = document.querySelector('#df-26e0a0dc-f2cd-4c7f-a26c-787ccf89b961');\n",
              "        const dataTable =\n",
              "          await google.colab.kernel.invokeFunction('convertToInteractive',\n",
              "                                                    [key], {});\n",
              "        if (!dataTable) return;\n",
              "\n",
              "        const docLinkHtml = 'Like what you see? Visit the ' +\n",
              "          '<a target=\"_blank\" href=https://colab.research.google.com/notebooks/data_table.ipynb>data table notebook</a>'\n",
              "          + ' to learn more about interactive tables.';\n",
              "        element.innerHTML = '';\n",
              "        dataTable['output_type'] = 'display_data';\n",
              "        await google.colab.output.renderOutput(dataTable, element);\n",
              "        const docLink = document.createElement('div');\n",
              "        docLink.innerHTML = docLinkHtml;\n",
              "        element.appendChild(docLink);\n",
              "      }\n",
              "    </script>\n",
              "  </div>\n",
              "\n",
              "\n",
              "<div id=\"df-6c3dbefc-b09a-446d-9ea8-5fa52b1aba59\">\n",
              "  <button class=\"colab-df-quickchart\" onclick=\"quickchart('df-6c3dbefc-b09a-446d-9ea8-5fa52b1aba59')\"\n",
              "            title=\"Suggest charts\"\n",
              "            style=\"display:none;\">\n",
              "\n",
              "<svg xmlns=\"http://www.w3.org/2000/svg\" height=\"24px\"viewBox=\"0 0 24 24\"\n",
              "     width=\"24px\">\n",
              "    <g>\n",
              "        <path d=\"M19 3H5c-1.1 0-2 .9-2 2v14c0 1.1.9 2 2 2h14c1.1 0 2-.9 2-2V5c0-1.1-.9-2-2-2zM9 17H7v-7h2v7zm4 0h-2V7h2v10zm4 0h-2v-4h2v4z\"/>\n",
              "    </g>\n",
              "</svg>\n",
              "  </button>\n",
              "\n",
              "<style>\n",
              "  .colab-df-quickchart {\n",
              "      --bg-color: #E8F0FE;\n",
              "      --fill-color: #1967D2;\n",
              "      --hover-bg-color: #E2EBFA;\n",
              "      --hover-fill-color: #174EA6;\n",
              "      --disabled-fill-color: #AAA;\n",
              "      --disabled-bg-color: #DDD;\n",
              "  }\n",
              "\n",
              "  [theme=dark] .colab-df-quickchart {\n",
              "      --bg-color: #3B4455;\n",
              "      --fill-color: #D2E3FC;\n",
              "      --hover-bg-color: #434B5C;\n",
              "      --hover-fill-color: #FFFFFF;\n",
              "      --disabled-bg-color: #3B4455;\n",
              "      --disabled-fill-color: #666;\n",
              "  }\n",
              "\n",
              "  .colab-df-quickchart {\n",
              "    background-color: var(--bg-color);\n",
              "    border: none;\n",
              "    border-radius: 50%;\n",
              "    cursor: pointer;\n",
              "    display: none;\n",
              "    fill: var(--fill-color);\n",
              "    height: 32px;\n",
              "    padding: 0;\n",
              "    width: 32px;\n",
              "  }\n",
              "\n",
              "  .colab-df-quickchart:hover {\n",
              "    background-color: var(--hover-bg-color);\n",
              "    box-shadow: 0 1px 2px rgba(60, 64, 67, 0.3), 0 1px 3px 1px rgba(60, 64, 67, 0.15);\n",
              "    fill: var(--button-hover-fill-color);\n",
              "  }\n",
              "\n",
              "  .colab-df-quickchart-complete:disabled,\n",
              "  .colab-df-quickchart-complete:disabled:hover {\n",
              "    background-color: var(--disabled-bg-color);\n",
              "    fill: var(--disabled-fill-color);\n",
              "    box-shadow: none;\n",
              "  }\n",
              "\n",
              "  .colab-df-spinner {\n",
              "    border: 2px solid var(--fill-color);\n",
              "    border-color: transparent;\n",
              "    border-bottom-color: var(--fill-color);\n",
              "    animation:\n",
              "      spin 1s steps(1) infinite;\n",
              "  }\n",
              "\n",
              "  @keyframes spin {\n",
              "    0% {\n",
              "      border-color: transparent;\n",
              "      border-bottom-color: var(--fill-color);\n",
              "      border-left-color: var(--fill-color);\n",
              "    }\n",
              "    20% {\n",
              "      border-color: transparent;\n",
              "      border-left-color: var(--fill-color);\n",
              "      border-top-color: var(--fill-color);\n",
              "    }\n",
              "    30% {\n",
              "      border-color: transparent;\n",
              "      border-left-color: var(--fill-color);\n",
              "      border-top-color: var(--fill-color);\n",
              "      border-right-color: var(--fill-color);\n",
              "    }\n",
              "    40% {\n",
              "      border-color: transparent;\n",
              "      border-right-color: var(--fill-color);\n",
              "      border-top-color: var(--fill-color);\n",
              "    }\n",
              "    60% {\n",
              "      border-color: transparent;\n",
              "      border-right-color: var(--fill-color);\n",
              "    }\n",
              "    80% {\n",
              "      border-color: transparent;\n",
              "      border-right-color: var(--fill-color);\n",
              "      border-bottom-color: var(--fill-color);\n",
              "    }\n",
              "    90% {\n",
              "      border-color: transparent;\n",
              "      border-bottom-color: var(--fill-color);\n",
              "    }\n",
              "  }\n",
              "</style>\n",
              "\n",
              "  <script>\n",
              "    async function quickchart(key) {\n",
              "      const quickchartButtonEl =\n",
              "        document.querySelector('#' + key + ' button');\n",
              "      quickchartButtonEl.disabled = true;  // To prevent multiple clicks.\n",
              "      quickchartButtonEl.classList.add('colab-df-spinner');\n",
              "      try {\n",
              "        const charts = await google.colab.kernel.invokeFunction(\n",
              "            'suggestCharts', [key], {});\n",
              "      } catch (error) {\n",
              "        console.error('Error during call to suggestCharts:', error);\n",
              "      }\n",
              "      quickchartButtonEl.classList.remove('colab-df-spinner');\n",
              "      quickchartButtonEl.classList.add('colab-df-quickchart-complete');\n",
              "    }\n",
              "    (() => {\n",
              "      let quickchartButtonEl =\n",
              "        document.querySelector('#df-6c3dbefc-b09a-446d-9ea8-5fa52b1aba59 button');\n",
              "      quickchartButtonEl.style.display =\n",
              "        google.colab.kernel.accessAllowed ? 'block' : 'none';\n",
              "    })();\n",
              "  </script>\n",
              "</div>\n",
              "\n",
              "  <div id=\"id_2a5f38f3-49f3-4f54-96fd-02dd38f53621\">\n",
              "    <style>\n",
              "      .colab-df-generate {\n",
              "        background-color: #E8F0FE;\n",
              "        border: none;\n",
              "        border-radius: 50%;\n",
              "        cursor: pointer;\n",
              "        display: none;\n",
              "        fill: #1967D2;\n",
              "        height: 32px;\n",
              "        padding: 0 0 0 0;\n",
              "        width: 32px;\n",
              "      }\n",
              "\n",
              "      .colab-df-generate:hover {\n",
              "        background-color: #E2EBFA;\n",
              "        box-shadow: 0px 1px 2px rgba(60, 64, 67, 0.3), 0px 1px 3px 1px rgba(60, 64, 67, 0.15);\n",
              "        fill: #174EA6;\n",
              "      }\n",
              "\n",
              "      [theme=dark] .colab-df-generate {\n",
              "        background-color: #3B4455;\n",
              "        fill: #D2E3FC;\n",
              "      }\n",
              "\n",
              "      [theme=dark] .colab-df-generate:hover {\n",
              "        background-color: #434B5C;\n",
              "        box-shadow: 0px 1px 3px 1px rgba(0, 0, 0, 0.15);\n",
              "        filter: drop-shadow(0px 1px 2px rgba(0, 0, 0, 0.3));\n",
              "        fill: #FFFFFF;\n",
              "      }\n",
              "    </style>\n",
              "    <button class=\"colab-df-generate\" onclick=\"generateWithVariable('kepfin')\"\n",
              "            title=\"Generate code using this dataframe.\"\n",
              "            style=\"display:none;\">\n",
              "\n",
              "  <svg xmlns=\"http://www.w3.org/2000/svg\" height=\"24px\"viewBox=\"0 0 24 24\"\n",
              "       width=\"24px\">\n",
              "    <path d=\"M7,19H8.4L18.45,9,17,7.55,7,17.6ZM5,21V16.75L18.45,3.32a2,2,0,0,1,2.83,0l1.4,1.43a1.91,1.91,0,0,1,.58,1.4,1.91,1.91,0,0,1-.58,1.4L9.25,21ZM18.45,9,17,7.55Zm-12,3A5.31,5.31,0,0,0,4.9,8.1,5.31,5.31,0,0,0,1,6.5,5.31,5.31,0,0,0,4.9,4.9,5.31,5.31,0,0,0,6.5,1,5.31,5.31,0,0,0,8.1,4.9,5.31,5.31,0,0,0,12,6.5,5.46,5.46,0,0,0,6.5,12Z\"/>\n",
              "  </svg>\n",
              "    </button>\n",
              "    <script>\n",
              "      (() => {\n",
              "      const buttonEl =\n",
              "        document.querySelector('#id_2a5f38f3-49f3-4f54-96fd-02dd38f53621 button.colab-df-generate');\n",
              "      buttonEl.style.display =\n",
              "        google.colab.kernel.accessAllowed ? 'block' : 'none';\n",
              "\n",
              "      buttonEl.onclick = () => {\n",
              "        google.colab.notebook.generateWithVariable('kepfin');\n",
              "      }\n",
              "      })();\n",
              "    </script>\n",
              "  </div>\n",
              "\n",
              "    </div>\n",
              "  </div>\n"
            ],
            "application/vnd.google.colaboratory.intrinsic+json": {
              "type": "dataframe",
              "variable_name": "kepfin",
              "summary": "{\n  \"name\": \"kepfin\",\n  \"rows\": 7,\n  \"fields\": [\n    {\n      \"column\": \"reviewId\",\n      \"properties\": {\n        \"dtype\": \"string\",\n        \"num_unique_values\": 7,\n        \"samples\": [\n          \"212f7d9f-34f5-4613-9c21-bc1e5e80e2e5\",\n          \"e0e32262-3051-428b-8c5e-c1ecd86f6a89\",\n          \"52c6e732-9306-49f8-978d-ca54fcfe8669\"\n        ],\n        \"semantic_type\": \"\",\n        \"description\": \"\"\n      }\n    },\n    {\n      \"column\": \"userName\",\n      \"properties\": {\n        \"dtype\": \"string\",\n        \"num_unique_values\": 7,\n        \"samples\": [\n          \"Elyse\",\n          \"J T\",\n          \"Alr\"\n        ],\n        \"semantic_type\": \"\",\n        \"description\": \"\"\n      }\n    },\n    {\n      \"column\": \"userImage\",\n      \"properties\": {\n        \"dtype\": \"string\",\n        \"num_unique_values\": 7,\n        \"samples\": [\n          \"https://play-lh.googleusercontent.com/a-/ALV-UjVmnYqj-IasZBgF7gmeuBPpg4KcEGq2zrmm44gZmZ_ayf0-5fJoqA\",\n          \"https://play-lh.googleusercontent.com/a-/ALV-UjUQcu_n9cct8K4jJlKsbTSNlw3G9i2htAIZsr3UvO4Uih01BNWY\",\n          \"https://play-lh.googleusercontent.com/a-/ALV-UjU1-EULC7ElSASLP2RognOmll_APecz2hvK6KdS0_0_ih8XM4A5\"\n        ],\n        \"semantic_type\": \"\",\n        \"description\": \"\"\n      }\n    },\n    {\n      \"column\": \"score\",\n      \"properties\": {\n        \"dtype\": \"number\",\n        \"std\": 1,\n        \"min\": 1,\n        \"max\": 5,\n        \"num_unique_values\": 4,\n        \"samples\": [\n          3,\n          5,\n          1\n        ],\n        \"semantic_type\": \"\",\n        \"description\": \"\"\n      }\n    },\n    {\n      \"column\": \"thumbsUpCount\",\n      \"properties\": {\n        \"dtype\": \"number\",\n        \"std\": 1,\n        \"min\": 0,\n        \"max\": 3,\n        \"num_unique_values\": 4,\n        \"samples\": [\n          3,\n          2,\n          0\n        ],\n        \"semantic_type\": \"\",\n        \"description\": \"\"\n      }\n    },\n    {\n      \"column\": \"app_id\",\n      \"properties\": {\n        \"dtype\": \"category\",\n        \"num_unique_values\": 1,\n        \"samples\": [\n          \"com.miHoYo.tot.glb\"\n        ],\n        \"semantic_type\": \"\",\n        \"description\": \"\"\n      }\n    },\n    {\n      \"column\": \"content\",\n      \"properties\": {\n        \"dtype\": \"string\",\n        \"num_unique_values\": 7,\n        \"samples\": [\n          \"GIVE ME BACK MY ACCOUNTTTTT IVE BEEN INACTIVE FOR MONTHS DUE TO WORK OR SOME STUFF BUT COME ON?????\"\n        ],\n        \"semantic_type\": \"\",\n        \"description\": \"\"\n      }\n    }\n  ]\n}"
            }
          },
          "metadata": {},
          "execution_count": 19
        }
      ]
    },
    {
      "cell_type": "code",
      "source": [
        "#penyimpanan hasil csv\n",
        "dffin.to_csv('hoyo-analysis-en.csv')"
      ],
      "metadata": {
        "id": "-wG9ce-LFpsM"
      },
      "execution_count": 20,
      "outputs": []
    },
    {
      "cell_type": "markdown",
      "source": [
        "# Generator 'requirements' untuk ekstraksi"
      ],
      "metadata": {
        "id": "kFS2PwVUAveo"
      }
    },
    {
      "cell_type": "code",
      "source": [
        "#deklarasi versi ekstraksi\n",
        "!pip install package_name"
      ],
      "metadata": {
        "colab": {
          "base_uri": "https://localhost:8080/"
        },
        "id": "aapOzQC1A5gX",
        "outputId": "50630063-8972-4952-c2c5-17e69e1e2eeb"
      },
      "execution_count": 21,
      "outputs": [
        {
          "output_type": "stream",
          "name": "stdout",
          "text": [
            "Collecting package_name\n",
            "  Downloading package_name-0.1.tar.gz (782 bytes)\n",
            "  Preparing metadata (setup.py) ... \u001b[?25l\u001b[?25hdone\n",
            "Building wheels for collected packages: package_name\n",
            "  Building wheel for package_name (setup.py) ... \u001b[?25l\u001b[?25hdone\n",
            "  Created wheel for package_name: filename=package_name-0.1-py3-none-any.whl size=1229 sha256=f7da57fa89ac84e280db46ba10a92e88cc931b4dee152651d501a63a326b4a2f\n",
            "  Stored in directory: /root/.cache/pip/wheels/b3/c1/6f/538e951eb00f535f43151173b4c55e463a35c17b9e90ab3b1a\n",
            "Successfully built package_name\n",
            "Installing collected packages: package_name\n",
            "Successfully installed package_name-0.1\n"
          ]
        }
      ]
    },
    {
      "cell_type": "code",
      "source": [
        "#generator requirements\n",
        "!pip freeze > requirements-s.txt"
      ],
      "metadata": {
        "id": "iaJGKKCJBAi3"
      },
      "execution_count": 22,
      "outputs": []
    },
    {
      "cell_type": "markdown",
      "source": [
        "tanda 's' menyatakan scrap"
      ],
      "metadata": {
        "id": "8XA8HjWBU2Jn"
      }
    },
    {
      "cell_type": "code",
      "source": [
        "#unduh 'requirement'\n",
        "from google.colab import files\n",
        "files.download('requirements-s.txt') #ekstraksi"
      ],
      "metadata": {
        "colab": {
          "base_uri": "https://localhost:8080/",
          "height": 17
        },
        "id": "z0OFjzXgBFiz",
        "outputId": "82fa1d32-49ad-479c-aa4c-2c82791c5cf8"
      },
      "execution_count": 23,
      "outputs": [
        {
          "output_type": "display_data",
          "data": {
            "text/plain": [
              "<IPython.core.display.Javascript object>"
            ],
            "application/javascript": [
              "\n",
              "    async function download(id, filename, size) {\n",
              "      if (!google.colab.kernel.accessAllowed) {\n",
              "        return;\n",
              "      }\n",
              "      const div = document.createElement('div');\n",
              "      const label = document.createElement('label');\n",
              "      label.textContent = `Downloading \"${filename}\": `;\n",
              "      div.appendChild(label);\n",
              "      const progress = document.createElement('progress');\n",
              "      progress.max = size;\n",
              "      div.appendChild(progress);\n",
              "      document.body.appendChild(div);\n",
              "\n",
              "      const buffers = [];\n",
              "      let downloaded = 0;\n",
              "\n",
              "      const channel = await google.colab.kernel.comms.open(id);\n",
              "      // Send a message to notify the kernel that we're ready.\n",
              "      channel.send({})\n",
              "\n",
              "      for await (const message of channel.messages) {\n",
              "        // Send a message to notify the kernel that we're ready.\n",
              "        channel.send({})\n",
              "        if (message.buffers) {\n",
              "          for (const buffer of message.buffers) {\n",
              "            buffers.push(buffer);\n",
              "            downloaded += buffer.byteLength;\n",
              "            progress.value = downloaded;\n",
              "          }\n",
              "        }\n",
              "      }\n",
              "      const blob = new Blob(buffers, {type: 'application/binary'});\n",
              "      const a = document.createElement('a');\n",
              "      a.href = window.URL.createObjectURL(blob);\n",
              "      a.download = filename;\n",
              "      div.appendChild(a);\n",
              "      a.click();\n",
              "      div.remove();\n",
              "    }\n",
              "  "
            ]
          },
          "metadata": {}
        },
        {
          "output_type": "display_data",
          "data": {
            "text/plain": [
              "<IPython.core.display.Javascript object>"
            ],
            "application/javascript": [
              "download(\"download_e0dd38d0-32ba-4854-ba63-3b1f5f5e3e59\", \"requirements-s.txt\", 11545)"
            ]
          },
          "metadata": {}
        }
      ]
    }
  ]
}