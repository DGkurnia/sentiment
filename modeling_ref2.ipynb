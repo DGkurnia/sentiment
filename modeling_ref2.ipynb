{
  "nbformat": 4,
  "nbformat_minor": 0,
  "metadata": {
    "colab": {
      "provenance": [],
      "include_colab_link": true
    },
    "kernelspec": {
      "name": "python3",
      "display_name": "Python 3"
    },
    "language_info": {
      "name": "python"
    }
  },
  "cells": [
    {
      "cell_type": "markdown",
      "metadata": {
        "id": "view-in-github",
        "colab_type": "text"
      },
      "source": [
        "<a href=\"https://colab.research.google.com/github/DGkurnia/sentiment/blob/main/modeling_ref2.ipynb\" target=\"_parent\"><img src=\"https://colab.research.google.com/assets/colab-badge.svg\" alt=\"Open In Colab\"/></a>"
      ]
    },
    {
      "cell_type": "code",
      "execution_count": null,
      "metadata": {
        "id": "0j9e5XyoVT1M"
      },
      "outputs": [],
      "source": [
        "import pandas as pd\n",
        "from google.colab import drive"
      ]
    },
    {
      "cell_type": "code",
      "source": [
        "drive.mount('/content/drive')"
      ],
      "metadata": {
        "colab": {
          "base_uri": "https://localhost:8080/"
        },
        "id": "NgNgfz89Vbdk",
        "outputId": "04338b66-9e74-4b62-850a-2989d231ac44"
      },
      "execution_count": null,
      "outputs": [
        {
          "output_type": "stream",
          "name": "stdout",
          "text": [
            "Mounted at /content/drive\n"
          ]
        }
      ]
    },
    {
      "cell_type": "code",
      "source": [
        "file_path = '/content/drive/My Drive/dataset/tokped_50.csv'"
      ],
      "metadata": {
        "id": "AIxQPicvVdZJ"
      },
      "execution_count": null,
      "outputs": []
    },
    {
      "cell_type": "code",
      "source": [
        "df = pd.read_csv(file_path)\n",
        "df.head()"
      ],
      "metadata": {
        "colab": {
          "base_uri": "https://localhost:8080/",
          "height": 625
        },
        "id": "pPuY9kbUVk_x",
        "outputId": "37656bd8-681e-4fc8-a653-eb8e8fa52f8d"
      },
      "execution_count": null,
      "outputs": [
        {
          "output_type": "execute_result",
          "data": {
            "text/plain": [
              "                               reviewId         userName  \\\n",
              "0  94c14518-45c8-4a5f-a7eb-569a5521b627  Pengguna Google   \n",
              "1  80cf9aba-6b85-4684-bd65-74918e414ba2  Pengguna Google   \n",
              "2  4fb806b1-68ae-497d-a84a-70694a73c4e7  Pengguna Google   \n",
              "3  4ba4ec69-f26a-41a9-a907-dc209dab3380  Pengguna Google   \n",
              "4  53fb2041-f0e4-4877-9535-1dbe1f030dc7  Pengguna Google   \n",
              "\n",
              "                                           userImage  \\\n",
              "0  https://play-lh.googleusercontent.com/EGemoI2N...   \n",
              "1  https://play-lh.googleusercontent.com/EGemoI2N...   \n",
              "2  https://play-lh.googleusercontent.com/EGemoI2N...   \n",
              "3  https://play-lh.googleusercontent.com/EGemoI2N...   \n",
              "4  https://play-lh.googleusercontent.com/EGemoI2N...   \n",
              "\n",
              "                                             content  score  thumbsUpCount  \\\n",
              "0  Jelek banget pusat bantuannya, sama sekali tin...      1             18   \n",
              "1  Aplikasi aneh. Belanja dibatalkan oleh sistem ...      1             81   \n",
              "2  Saya mengikuti semua modus2 kejahatan di Tokop...      1             16   \n",
              "3  Ada kendala, setiap saya mau daftar tokopedia ...      5             55   \n",
              "4  sementara bintang 4 .. aplikasi bagus dan muda...      4              2   \n",
              "\n",
              "  reviewCreatedVersion                   at  \\\n",
              "0              3.292.0  2024-12-12 08:12:01   \n",
              "1              3.292.0  2024-12-10 13:05:30   \n",
              "2              3.292.0  2024-12-11 04:42:00   \n",
              "3              3.292.0  2024-12-11 18:53:28   \n",
              "4              3.292.0  2024-12-12 09:41:41   \n",
              "\n",
              "                                        replyContent            repliedAt  \\\n",
              "0  Hi Toppers, silakan sampaikan kritik/saran ata...  2024-12-12 08:28:01   \n",
              "1  Halo Toppers, terima kasih atas rating yang ka...  2024-12-10 13:08:11   \n",
              "2  Hi Toppers, silakan sampaikan kritik/saran ata...  2024-12-11 05:00:12   \n",
              "3  Hi Toppers, terima kasih untuk rating dan ulas...  2024-12-11 19:08:08   \n",
              "4  Hi Toppers, terima kasih untuk rating dan ulas...  2024-12-12 09:48:39   \n",
              "\n",
              "  appVersion  \n",
              "0    3.292.0  \n",
              "1    3.292.0  \n",
              "2    3.292.0  \n",
              "3    3.292.0  \n",
              "4    3.292.0  "
            ],
            "text/html": [
              "\n",
              "  <div id=\"df-42b3c1c1-ae8f-422e-938d-74bc0f9b241a\" class=\"colab-df-container\">\n",
              "    <div>\n",
              "<style scoped>\n",
              "    .dataframe tbody tr th:only-of-type {\n",
              "        vertical-align: middle;\n",
              "    }\n",
              "\n",
              "    .dataframe tbody tr th {\n",
              "        vertical-align: top;\n",
              "    }\n",
              "\n",
              "    .dataframe thead th {\n",
              "        text-align: right;\n",
              "    }\n",
              "</style>\n",
              "<table border=\"1\" class=\"dataframe\">\n",
              "  <thead>\n",
              "    <tr style=\"text-align: right;\">\n",
              "      <th></th>\n",
              "      <th>reviewId</th>\n",
              "      <th>userName</th>\n",
              "      <th>userImage</th>\n",
              "      <th>content</th>\n",
              "      <th>score</th>\n",
              "      <th>thumbsUpCount</th>\n",
              "      <th>reviewCreatedVersion</th>\n",
              "      <th>at</th>\n",
              "      <th>replyContent</th>\n",
              "      <th>repliedAt</th>\n",
              "      <th>appVersion</th>\n",
              "    </tr>\n",
              "  </thead>\n",
              "  <tbody>\n",
              "    <tr>\n",
              "      <th>0</th>\n",
              "      <td>94c14518-45c8-4a5f-a7eb-569a5521b627</td>\n",
              "      <td>Pengguna Google</td>\n",
              "      <td>https://play-lh.googleusercontent.com/EGemoI2N...</td>\n",
              "      <td>Jelek banget pusat bantuannya, sama sekali tin...</td>\n",
              "      <td>1</td>\n",
              "      <td>18</td>\n",
              "      <td>3.292.0</td>\n",
              "      <td>2024-12-12 08:12:01</td>\n",
              "      <td>Hi Toppers, silakan sampaikan kritik/saran ata...</td>\n",
              "      <td>2024-12-12 08:28:01</td>\n",
              "      <td>3.292.0</td>\n",
              "    </tr>\n",
              "    <tr>\n",
              "      <th>1</th>\n",
              "      <td>80cf9aba-6b85-4684-bd65-74918e414ba2</td>\n",
              "      <td>Pengguna Google</td>\n",
              "      <td>https://play-lh.googleusercontent.com/EGemoI2N...</td>\n",
              "      <td>Aplikasi aneh. Belanja dibatalkan oleh sistem ...</td>\n",
              "      <td>1</td>\n",
              "      <td>81</td>\n",
              "      <td>3.292.0</td>\n",
              "      <td>2024-12-10 13:05:30</td>\n",
              "      <td>Halo Toppers, terima kasih atas rating yang ka...</td>\n",
              "      <td>2024-12-10 13:08:11</td>\n",
              "      <td>3.292.0</td>\n",
              "    </tr>\n",
              "    <tr>\n",
              "      <th>2</th>\n",
              "      <td>4fb806b1-68ae-497d-a84a-70694a73c4e7</td>\n",
              "      <td>Pengguna Google</td>\n",
              "      <td>https://play-lh.googleusercontent.com/EGemoI2N...</td>\n",
              "      <td>Saya mengikuti semua modus2 kejahatan di Tokop...</td>\n",
              "      <td>1</td>\n",
              "      <td>16</td>\n",
              "      <td>3.292.0</td>\n",
              "      <td>2024-12-11 04:42:00</td>\n",
              "      <td>Hi Toppers, silakan sampaikan kritik/saran ata...</td>\n",
              "      <td>2024-12-11 05:00:12</td>\n",
              "      <td>3.292.0</td>\n",
              "    </tr>\n",
              "    <tr>\n",
              "      <th>3</th>\n",
              "      <td>4ba4ec69-f26a-41a9-a907-dc209dab3380</td>\n",
              "      <td>Pengguna Google</td>\n",
              "      <td>https://play-lh.googleusercontent.com/EGemoI2N...</td>\n",
              "      <td>Ada kendala, setiap saya mau daftar tokopedia ...</td>\n",
              "      <td>5</td>\n",
              "      <td>55</td>\n",
              "      <td>3.292.0</td>\n",
              "      <td>2024-12-11 18:53:28</td>\n",
              "      <td>Hi Toppers, terima kasih untuk rating dan ulas...</td>\n",
              "      <td>2024-12-11 19:08:08</td>\n",
              "      <td>3.292.0</td>\n",
              "    </tr>\n",
              "    <tr>\n",
              "      <th>4</th>\n",
              "      <td>53fb2041-f0e4-4877-9535-1dbe1f030dc7</td>\n",
              "      <td>Pengguna Google</td>\n",
              "      <td>https://play-lh.googleusercontent.com/EGemoI2N...</td>\n",
              "      <td>sementara bintang 4 .. aplikasi bagus dan muda...</td>\n",
              "      <td>4</td>\n",
              "      <td>2</td>\n",
              "      <td>3.292.0</td>\n",
              "      <td>2024-12-12 09:41:41</td>\n",
              "      <td>Hi Toppers, terima kasih untuk rating dan ulas...</td>\n",
              "      <td>2024-12-12 09:48:39</td>\n",
              "      <td>3.292.0</td>\n",
              "    </tr>\n",
              "  </tbody>\n",
              "</table>\n",
              "</div>\n",
              "    <div class=\"colab-df-buttons\">\n",
              "\n",
              "  <div class=\"colab-df-container\">\n",
              "    <button class=\"colab-df-convert\" onclick=\"convertToInteractive('df-42b3c1c1-ae8f-422e-938d-74bc0f9b241a')\"\n",
              "            title=\"Convert this dataframe to an interactive table.\"\n",
              "            style=\"display:none;\">\n",
              "\n",
              "  <svg xmlns=\"http://www.w3.org/2000/svg\" height=\"24px\" viewBox=\"0 -960 960 960\">\n",
              "    <path d=\"M120-120v-720h720v720H120Zm60-500h600v-160H180v160Zm220 220h160v-160H400v160Zm0 220h160v-160H400v160ZM180-400h160v-160H180v160Zm440 0h160v-160H620v160ZM180-180h160v-160H180v160Zm440 0h160v-160H620v160Z\"/>\n",
              "  </svg>\n",
              "    </button>\n",
              "\n",
              "  <style>\n",
              "    .colab-df-container {\n",
              "      display:flex;\n",
              "      gap: 12px;\n",
              "    }\n",
              "\n",
              "    .colab-df-convert {\n",
              "      background-color: #E8F0FE;\n",
              "      border: none;\n",
              "      border-radius: 50%;\n",
              "      cursor: pointer;\n",
              "      display: none;\n",
              "      fill: #1967D2;\n",
              "      height: 32px;\n",
              "      padding: 0 0 0 0;\n",
              "      width: 32px;\n",
              "    }\n",
              "\n",
              "    .colab-df-convert:hover {\n",
              "      background-color: #E2EBFA;\n",
              "      box-shadow: 0px 1px 2px rgba(60, 64, 67, 0.3), 0px 1px 3px 1px rgba(60, 64, 67, 0.15);\n",
              "      fill: #174EA6;\n",
              "    }\n",
              "\n",
              "    .colab-df-buttons div {\n",
              "      margin-bottom: 4px;\n",
              "    }\n",
              "\n",
              "    [theme=dark] .colab-df-convert {\n",
              "      background-color: #3B4455;\n",
              "      fill: #D2E3FC;\n",
              "    }\n",
              "\n",
              "    [theme=dark] .colab-df-convert:hover {\n",
              "      background-color: #434B5C;\n",
              "      box-shadow: 0px 1px 3px 1px rgba(0, 0, 0, 0.15);\n",
              "      filter: drop-shadow(0px 1px 2px rgba(0, 0, 0, 0.3));\n",
              "      fill: #FFFFFF;\n",
              "    }\n",
              "  </style>\n",
              "\n",
              "    <script>\n",
              "      const buttonEl =\n",
              "        document.querySelector('#df-42b3c1c1-ae8f-422e-938d-74bc0f9b241a button.colab-df-convert');\n",
              "      buttonEl.style.display =\n",
              "        google.colab.kernel.accessAllowed ? 'block' : 'none';\n",
              "\n",
              "      async function convertToInteractive(key) {\n",
              "        const element = document.querySelector('#df-42b3c1c1-ae8f-422e-938d-74bc0f9b241a');\n",
              "        const dataTable =\n",
              "          await google.colab.kernel.invokeFunction('convertToInteractive',\n",
              "                                                    [key], {});\n",
              "        if (!dataTable) return;\n",
              "\n",
              "        const docLinkHtml = 'Like what you see? Visit the ' +\n",
              "          '<a target=\"_blank\" href=https://colab.research.google.com/notebooks/data_table.ipynb>data table notebook</a>'\n",
              "          + ' to learn more about interactive tables.';\n",
              "        element.innerHTML = '';\n",
              "        dataTable['output_type'] = 'display_data';\n",
              "        await google.colab.output.renderOutput(dataTable, element);\n",
              "        const docLink = document.createElement('div');\n",
              "        docLink.innerHTML = docLinkHtml;\n",
              "        element.appendChild(docLink);\n",
              "      }\n",
              "    </script>\n",
              "  </div>\n",
              "\n",
              "\n",
              "<div id=\"df-a47aab62-add9-4c51-9071-48870a3b95ed\">\n",
              "  <button class=\"colab-df-quickchart\" onclick=\"quickchart('df-a47aab62-add9-4c51-9071-48870a3b95ed')\"\n",
              "            title=\"Suggest charts\"\n",
              "            style=\"display:none;\">\n",
              "\n",
              "<svg xmlns=\"http://www.w3.org/2000/svg\" height=\"24px\"viewBox=\"0 0 24 24\"\n",
              "     width=\"24px\">\n",
              "    <g>\n",
              "        <path d=\"M19 3H5c-1.1 0-2 .9-2 2v14c0 1.1.9 2 2 2h14c1.1 0 2-.9 2-2V5c0-1.1-.9-2-2-2zM9 17H7v-7h2v7zm4 0h-2V7h2v10zm4 0h-2v-4h2v4z\"/>\n",
              "    </g>\n",
              "</svg>\n",
              "  </button>\n",
              "\n",
              "<style>\n",
              "  .colab-df-quickchart {\n",
              "      --bg-color: #E8F0FE;\n",
              "      --fill-color: #1967D2;\n",
              "      --hover-bg-color: #E2EBFA;\n",
              "      --hover-fill-color: #174EA6;\n",
              "      --disabled-fill-color: #AAA;\n",
              "      --disabled-bg-color: #DDD;\n",
              "  }\n",
              "\n",
              "  [theme=dark] .colab-df-quickchart {\n",
              "      --bg-color: #3B4455;\n",
              "      --fill-color: #D2E3FC;\n",
              "      --hover-bg-color: #434B5C;\n",
              "      --hover-fill-color: #FFFFFF;\n",
              "      --disabled-bg-color: #3B4455;\n",
              "      --disabled-fill-color: #666;\n",
              "  }\n",
              "\n",
              "  .colab-df-quickchart {\n",
              "    background-color: var(--bg-color);\n",
              "    border: none;\n",
              "    border-radius: 50%;\n",
              "    cursor: pointer;\n",
              "    display: none;\n",
              "    fill: var(--fill-color);\n",
              "    height: 32px;\n",
              "    padding: 0;\n",
              "    width: 32px;\n",
              "  }\n",
              "\n",
              "  .colab-df-quickchart:hover {\n",
              "    background-color: var(--hover-bg-color);\n",
              "    box-shadow: 0 1px 2px rgba(60, 64, 67, 0.3), 0 1px 3px 1px rgba(60, 64, 67, 0.15);\n",
              "    fill: var(--button-hover-fill-color);\n",
              "  }\n",
              "\n",
              "  .colab-df-quickchart-complete:disabled,\n",
              "  .colab-df-quickchart-complete:disabled:hover {\n",
              "    background-color: var(--disabled-bg-color);\n",
              "    fill: var(--disabled-fill-color);\n",
              "    box-shadow: none;\n",
              "  }\n",
              "\n",
              "  .colab-df-spinner {\n",
              "    border: 2px solid var(--fill-color);\n",
              "    border-color: transparent;\n",
              "    border-bottom-color: var(--fill-color);\n",
              "    animation:\n",
              "      spin 1s steps(1) infinite;\n",
              "  }\n",
              "\n",
              "  @keyframes spin {\n",
              "    0% {\n",
              "      border-color: transparent;\n",
              "      border-bottom-color: var(--fill-color);\n",
              "      border-left-color: var(--fill-color);\n",
              "    }\n",
              "    20% {\n",
              "      border-color: transparent;\n",
              "      border-left-color: var(--fill-color);\n",
              "      border-top-color: var(--fill-color);\n",
              "    }\n",
              "    30% {\n",
              "      border-color: transparent;\n",
              "      border-left-color: var(--fill-color);\n",
              "      border-top-color: var(--fill-color);\n",
              "      border-right-color: var(--fill-color);\n",
              "    }\n",
              "    40% {\n",
              "      border-color: transparent;\n",
              "      border-right-color: var(--fill-color);\n",
              "      border-top-color: var(--fill-color);\n",
              "    }\n",
              "    60% {\n",
              "      border-color: transparent;\n",
              "      border-right-color: var(--fill-color);\n",
              "    }\n",
              "    80% {\n",
              "      border-color: transparent;\n",
              "      border-right-color: var(--fill-color);\n",
              "      border-bottom-color: var(--fill-color);\n",
              "    }\n",
              "    90% {\n",
              "      border-color: transparent;\n",
              "      border-bottom-color: var(--fill-color);\n",
              "    }\n",
              "  }\n",
              "</style>\n",
              "\n",
              "  <script>\n",
              "    async function quickchart(key) {\n",
              "      const quickchartButtonEl =\n",
              "        document.querySelector('#' + key + ' button');\n",
              "      quickchartButtonEl.disabled = true;  // To prevent multiple clicks.\n",
              "      quickchartButtonEl.classList.add('colab-df-spinner');\n",
              "      try {\n",
              "        const charts = await google.colab.kernel.invokeFunction(\n",
              "            'suggestCharts', [key], {});\n",
              "      } catch (error) {\n",
              "        console.error('Error during call to suggestCharts:', error);\n",
              "      }\n",
              "      quickchartButtonEl.classList.remove('colab-df-spinner');\n",
              "      quickchartButtonEl.classList.add('colab-df-quickchart-complete');\n",
              "    }\n",
              "    (() => {\n",
              "      let quickchartButtonEl =\n",
              "        document.querySelector('#df-a47aab62-add9-4c51-9071-48870a3b95ed button');\n",
              "      quickchartButtonEl.style.display =\n",
              "        google.colab.kernel.accessAllowed ? 'block' : 'none';\n",
              "    })();\n",
              "  </script>\n",
              "</div>\n",
              "\n",
              "    </div>\n",
              "  </div>\n"
            ],
            "application/vnd.google.colaboratory.intrinsic+json": {
              "type": "dataframe",
              "variable_name": "df",
              "summary": "{\n  \"name\": \"df\",\n  \"rows\": 50000,\n  \"fields\": [\n    {\n      \"column\": \"reviewId\",\n      \"properties\": {\n        \"dtype\": \"string\",\n        \"num_unique_values\": 50000,\n        \"samples\": [\n          \"fb6bc43d-b292-4d55-9e13-203a8673f5eb\",\n          \"964f94e9-3499-496e-ab43-72c399b92555\",\n          \"91f7de37-3537-4257-960c-7b88be3d70e3\"\n        ],\n        \"semantic_type\": \"\",\n        \"description\": \"\"\n      }\n    },\n    {\n      \"column\": \"userName\",\n      \"properties\": {\n        \"dtype\": \"category\",\n        \"num_unique_values\": 393,\n        \"samples\": [\n          \"Devi Endah Lisnawati\",\n          \"Noval Kurniawan Palu\",\n          \"iLAL GAMING\"\n        ],\n        \"semantic_type\": \"\",\n        \"description\": \"\"\n      }\n    },\n    {\n      \"column\": \"userImage\",\n      \"properties\": {\n        \"dtype\": \"category\",\n        \"num_unique_values\": 393,\n        \"samples\": [\n          \"https://play-lh.googleusercontent.com/a-/ALV-UjVlStCcAhXp6CDgmO0UACxaeY83_JAFfokGIU2uNo_XjA7X3rTr\",\n          \"https://play-lh.googleusercontent.com/a-/ALV-UjUkh08BXpi8-Zuqq6BIEut13e0mp7FR7_HIVy0FmjjkRltzz_c\",\n          \"https://play-lh.googleusercontent.com/a-/ALV-UjVjnOZXbOaxA4WE11DWhieCrsAh10_t7AL297BlaBXlqRd4_9cn\"\n        ],\n        \"semantic_type\": \"\",\n        \"description\": \"\"\n      }\n    },\n    {\n      \"column\": \"content\",\n      \"properties\": {\n        \"dtype\": \"string\",\n        \"num_unique_values\": 49844,\n        \"samples\": [\n          \"Saya telah mengikuti pelatihan prakerja by skill academy pelatihan Tokopedia materi nya mudah di mengerti pokonya sangat memuaskan\",\n          \"Jelek banget, toko online yang kalau belanja pengirimannya paling lama. Gak kayak yang disebelah, yang udah nerapin kalau pengiriman lama dapat voucher 10 k.\",\n          \"Terimakasih tokopedia telah menyediakan pelatihan dari pakar. Sangat bermanfaat buat Saya, intrukturnya sangat mudah dimengerti penyampaian Bahasa Yang baik. Dan mudah2an kedepannya bisa lebih baik lagi\"\n        ],\n        \"semantic_type\": \"\",\n        \"description\": \"\"\n      }\n    },\n    {\n      \"column\": \"score\",\n      \"properties\": {\n        \"dtype\": \"number\",\n        \"std\": 1,\n        \"min\": 1,\n        \"max\": 5,\n        \"num_unique_values\": 5,\n        \"samples\": [\n          5,\n          3,\n          4\n        ],\n        \"semantic_type\": \"\",\n        \"description\": \"\"\n      }\n    },\n    {\n      \"column\": \"thumbsUpCount\",\n      \"properties\": {\n        \"dtype\": \"number\",\n        \"std\": 81,\n        \"min\": 0,\n        \"max\": 9926,\n        \"num_unique_values\": 567,\n        \"samples\": [\n          386,\n          1400,\n          776\n        ],\n        \"semantic_type\": \"\",\n        \"description\": \"\"\n      }\n    },\n    {\n      \"column\": \"reviewCreatedVersion\",\n      \"properties\": {\n        \"dtype\": \"category\",\n        \"num_unique_values\": 376,\n        \"samples\": [\n          \"3.83\",\n          \"3.48.1\",\n          \"3.123\"\n        ],\n        \"semantic_type\": \"\",\n        \"description\": \"\"\n      }\n    },\n    {\n      \"column\": \"at\",\n      \"properties\": {\n        \"dtype\": \"object\",\n        \"num_unique_values\": 49979,\n        \"samples\": [\n          \"2021-08-25 12:30:11\",\n          \"2020-04-15 17:17:39\",\n          \"2024-07-05 18:08:12\"\n        ],\n        \"semantic_type\": \"\",\n        \"description\": \"\"\n      }\n    },\n    {\n      \"column\": \"replyContent\",\n      \"properties\": {\n        \"dtype\": \"category\",\n        \"num_unique_values\": 12206,\n        \"samples\": [\n          \"Terima kasih ya atas kritik dan saran yang Kakak berikan. Kami akan selalu berinovasi untuk dapat menyediakan fitur dan layanan yang lebih baik lagi kepada seluruh pengguna Tokopedia agar bisa terus memberikan pelayanan yang terbaik demi kenyamanan Kakak :) -FMP\",\n          \"Hai Kak Mono, mohon maaf ya. Kami sarankan Kakak bisa laporkan kendalanya dengan klik Hubungi Kami di link https://www.tokopedia.com/help/article/pelatihan-sudah-selesai-namun-belum-mendapatkan-sertifikat atau melalui media sosial Facebook @tokopedia dan Twitter @TokopediaCare supaya kami cek lebih lanjut. Thanks -AW\",\n          \"Hai Kak Rajif, maaf banget ya buat kendalanya. Kakak bisa laporin kendalanya ke tkp.me/report dengan menginfokan nama device, OS yang digunakan, jaringan internet yang digunakan, versi aplikasi Tokopedia dan screenshot atau video yang bisa diupload ke streamable.com terus infoin linknya ya Kak untuk pengecekan lebih lanjut. Thanks - HF\"\n        ],\n        \"semantic_type\": \"\",\n        \"description\": \"\"\n      }\n    },\n    {\n      \"column\": \"repliedAt\",\n      \"properties\": {\n        \"dtype\": \"object\",\n        \"num_unique_values\": 34810,\n        \"samples\": [\n          \"2021-01-24 11:59:09\",\n          \"2024-12-11 13:28:01\",\n          \"2024-08-25 23:40:03\"\n        ],\n        \"semantic_type\": \"\",\n        \"description\": \"\"\n      }\n    },\n    {\n      \"column\": \"appVersion\",\n      \"properties\": {\n        \"dtype\": \"category\",\n        \"num_unique_values\": 376,\n        \"samples\": [\n          \"3.83\",\n          \"3.48.1\",\n          \"3.123\"\n        ],\n        \"semantic_type\": \"\",\n        \"description\": \"\"\n      }\n    }\n  ]\n}"
            }
          },
          "metadata": {},
          "execution_count": 4
        }
      ]
    },
    {
      "cell_type": "code",
      "source": [
        "df.info()"
      ],
      "metadata": {
        "colab": {
          "base_uri": "https://localhost:8080/"
        },
        "id": "nRmTvqreVrt8",
        "outputId": "b42b1742-8ea1-43bc-956f-8ccd44bdd60a"
      },
      "execution_count": null,
      "outputs": [
        {
          "output_type": "stream",
          "name": "stdout",
          "text": [
            "<class 'pandas.core.frame.DataFrame'>\n",
            "RangeIndex: 50000 entries, 0 to 49999\n",
            "Data columns (total 11 columns):\n",
            " #   Column                Non-Null Count  Dtype \n",
            "---  ------                --------------  ----- \n",
            " 0   reviewId              50000 non-null  object\n",
            " 1   userName              50000 non-null  object\n",
            " 2   userImage             50000 non-null  object\n",
            " 3   content               50000 non-null  object\n",
            " 4   score                 50000 non-null  int64 \n",
            " 5   thumbsUpCount         50000 non-null  int64 \n",
            " 6   reviewCreatedVersion  37648 non-null  object\n",
            " 7   at                    50000 non-null  object\n",
            " 8   replyContent          34961 non-null  object\n",
            " 9   repliedAt             34961 non-null  object\n",
            " 10  appVersion            37648 non-null  object\n",
            "dtypes: int64(2), object(9)\n",
            "memory usage: 4.2+ MB\n"
          ]
        }
      ]
    },
    {
      "cell_type": "code",
      "source": [
        "df_clean = df.dropna()"
      ],
      "metadata": {
        "id": "R9iUEFbtdkhi"
      },
      "execution_count": null,
      "outputs": []
    },
    {
      "cell_type": "code",
      "source": [
        "df_clean.info()"
      ],
      "metadata": {
        "colab": {
          "base_uri": "https://localhost:8080/"
        },
        "id": "In4Hfu4-WaXv",
        "outputId": "bad3f46f-5ccc-452e-cd23-e796eca6e825"
      },
      "execution_count": null,
      "outputs": [
        {
          "output_type": "stream",
          "name": "stdout",
          "text": [
            "<class 'pandas.core.frame.DataFrame'>\n",
            "Index: 28359 entries, 0 to 49999\n",
            "Data columns (total 11 columns):\n",
            " #   Column                Non-Null Count  Dtype \n",
            "---  ------                --------------  ----- \n",
            " 0   reviewId              28359 non-null  object\n",
            " 1   userName              28359 non-null  object\n",
            " 2   userImage             28359 non-null  object\n",
            " 3   content               28359 non-null  object\n",
            " 4   score                 28359 non-null  int64 \n",
            " 5   thumbsUpCount         28359 non-null  int64 \n",
            " 6   reviewCreatedVersion  28359 non-null  object\n",
            " 7   at                    28359 non-null  object\n",
            " 8   replyContent          28359 non-null  object\n",
            " 9   repliedAt             28359 non-null  object\n",
            " 10  appVersion            28359 non-null  object\n",
            "dtypes: int64(2), object(9)\n",
            "memory usage: 2.6+ MB\n"
          ]
        }
      ]
    },
    {
      "cell_type": "code",
      "source": [
        "df_clean = df_clean.drop_duplicates()\n",
        "\n",
        "jumlah_setelah_hapus, jumlah_kolom_hapus = df_clean.shape\n",
        "\n",
        "print(\"Jumlah baris setelah menghapus duplikat:\", jumlah_setelah_hapus)\n",
        "print(\"Jumlah kolom yang dihapus:\", jumlah_kolom_hapus)"
      ],
      "metadata": {
        "colab": {
          "base_uri": "https://localhost:8080/"
        },
        "id": "SxvGByOpWj8n",
        "outputId": "5332a789-ea8c-4c61-a894-b00b94a068d8"
      },
      "execution_count": null,
      "outputs": [
        {
          "output_type": "stream",
          "name": "stdout",
          "text": [
            "Jumlah baris setelah menghapus duplikat: 28359\n",
            "Jumlah kolom yang dihapus: 11\n"
          ]
        }
      ]
    },
    {
      "cell_type": "code",
      "source": [
        "import pandas as pd\n",
        "pd.options.mode.chained_assignment = None\n",
        "import numpy as np\n",
        "seed = 0\n",
        "np.random.seed(seed)\n",
        "import matplotlib.pyplot as plt\n",
        "import seaborn as sns\n",
        "from sklearn.metrics import accuracy_score\n",
        "import datetime as dt\n"
      ],
      "metadata": {
        "id": "s4uTwNRRdxNb"
      },
      "execution_count": null,
      "outputs": []
    },
    {
      "cell_type": "code",
      "source": [
        "import re\n",
        "import string\n",
        "import nltk\n",
        "from nltk.tokenize import word_tokenize\n",
        "from nltk.corpus import stopwords\n",
        "\n",
        "!pip install sastrawi\n",
        "from Sastrawi.Stemmer.StemmerFactory import StemmerFactory\n",
        "from Sastrawi.StopWordRemover.StopWordRemoverFactory import StopWordRemoverFactory\n",
        "from wordcloud import WordCloud\n",
        "\n"
      ],
      "metadata": {
        "colab": {
          "base_uri": "https://localhost:8080/"
        },
        "id": "biuOv1EkeA2R",
        "outputId": "34ac0874-faf2-420c-a128-8c344eb50675"
      },
      "execution_count": null,
      "outputs": [
        {
          "output_type": "stream",
          "name": "stdout",
          "text": [
            "Collecting sastrawi\n",
            "  Downloading Sastrawi-1.0.1-py2.py3-none-any.whl.metadata (909 bytes)\n",
            "Downloading Sastrawi-1.0.1-py2.py3-none-any.whl (209 kB)\n",
            "\u001b[?25l   \u001b[90m━━━━━━━━━━━━━━━━━━━━━━━━━━━━━━━━━━━━━━━━\u001b[0m \u001b[32m0.0/209.7 kB\u001b[0m \u001b[31m?\u001b[0m eta \u001b[36m-:--:--\u001b[0m\r\u001b[2K   \u001b[90m━━━━━━━━━━━━━━━━━━━━━━━━━━━━━━━━━━━━━━━━\u001b[0m \u001b[32m209.7/209.7 kB\u001b[0m \u001b[31m6.3 MB/s\u001b[0m eta \u001b[36m0:00:00\u001b[0m\n",
            "\u001b[?25hInstalling collected packages: sastrawi\n",
            "Successfully installed sastrawi-1.0.1\n"
          ]
        }
      ]
    },
    {
      "cell_type": "code",
      "source": [
        "import re\n",
        "import string\n",
        "from nltk.tokenize import word_tokenize\n",
        "from nltk.corpus import stopwords\n",
        "from Sastrawi.Stemmer.StemmerFactory import StemmerFactory\n",
        "\n",
        "def cleaning_text(text):\n",
        "    text = re.sub(r'@[A-Za-z0-9]+', '', text)\n",
        "    text = re.sub(r'#[A-Za-z0-9]+', '', text)\n",
        "    text = re.sub(r'RT[\\s]', '', text)\n",
        "    text = re.sub(r\"http\\S+\", '', text)\n",
        "    text = re.sub(r'[0-9]+', '', text)\n",
        "    text = re.sub(r'[^\\w\\s]', '', text)\n",
        "\n",
        "    text = text.replace('\\n', ' ')\n",
        "    text = text.translate(str.maketrans('', '', string.punctuation))\n",
        "    text = text.strip(' ')\n",
        "    return text\n",
        "\n",
        "def casefolding_text(text):\n",
        "    text = text.lower()\n",
        "    return text\n",
        "\n",
        "def tokenizing_text(text):\n",
        "    text = word_tokenize(text)\n",
        "    return text\n",
        "\n",
        "def filtering_text(text):\n",
        "    listStopwords = set(stopwords.words('indonesian'))\n",
        "    listStopwords1 = set(stopwords.words('english'))\n",
        "    listStopwords.update(listStopwords1)\n",
        "    listStopwords.update(['yang', 'dan', 'di', 'ke', 'dari', 'ini', 'itu', 'untuk', 'dengan', 'saya', 'ada', 'akan', 'pada', 'seperti', 'karena', 'atau', 'jika', 'tidak', 'dalam','iya','yaa','gak','nya','na','sih','ku',\"di\",\"ga\",\"ya\",\"gaa\",\"loh\",\"kah\",\"woi\",\"woii\",\"woy\"])\n",
        "    filtered = []\n",
        "    for txt in text:\n",
        "        if txt not in listStopwords:\n",
        "            filtered.append(txt)\n",
        "    text = filtered\n",
        "    return text\n",
        "\n",
        "def stemming_text(text):\n",
        "    factory = StemmerFactory()\n",
        "    stemmer = factory.create_stemmer()\n",
        "\n",
        "\n",
        "    words = text.split()\n",
        "\n",
        "\n",
        "    stemmed_words = [stemmer.stem(word) for word in words]\n",
        "\n",
        "\n",
        "    stemmed_text = ' '.join(stemmed_words)\n",
        "\n",
        "    return stemmed_text\n",
        "\n",
        "def to_sentence(list_words):\n",
        "    sentence = ' '.join(word for word in list_words)\n",
        "    return sentence"
      ],
      "metadata": {
        "id": "4WAS1AvEeDpO"
      },
      "execution_count": null,
      "outputs": []
    },
    {
      "cell_type": "code",
      "source": [
        "slangwords = {\"ga\": \"tidak\", \"gak\": \"tidak\", \"udah\": \"sudah\", \"mau\": \"ingin\", \"malah\": \"justru\", \"yg\": \"yang\"}\n",
        "def fix_slangwords(text):\n",
        "  words = text.split()\n",
        "  fixed_words = []\n",
        "\n",
        "  for word in words:\n",
        "    if word.lower() in slangwords:\n",
        "      fixed_words.append(slangwords[word.lower()])\n",
        "    else:\n",
        "      fixed_words.append(word)\n",
        "  fixed_text= ' '.join(fixed_words)\n",
        "  return fixed_text"
      ],
      "metadata": {
        "id": "Obx8QVpffdUQ"
      },
      "execution_count": null,
      "outputs": []
    },
    {
      "cell_type": "code",
      "source": [
        "import nltk\n",
        "nltk.download('punkt_tab')\n",
        "nltk.download('stopwords')"
      ],
      "metadata": {
        "colab": {
          "base_uri": "https://localhost:8080/"
        },
        "id": "7ASlGvviprBA",
        "outputId": "823e4c27-975a-455c-9e91-bb343a115ede"
      },
      "execution_count": null,
      "outputs": [
        {
          "output_type": "stream",
          "name": "stderr",
          "text": [
            "[nltk_data] Downloading package punkt_tab to /root/nltk_data...\n",
            "[nltk_data]   Unzipping tokenizers/punkt_tab.zip.\n",
            "[nltk_data] Downloading package stopwords to /root/nltk_data...\n",
            "[nltk_data]   Package stopwords is already up-to-date!\n"
          ]
        },
        {
          "output_type": "execute_result",
          "data": {
            "text/plain": [
              "True"
            ]
          },
          "metadata": {},
          "execution_count": 15
        }
      ]
    },
    {
      "cell_type": "code",
      "source": [
        "df_clean['text_clean'] = df_clean['content'].apply(cleaning_text)\n",
        "df_clean['text_casefoldingText'] = df_clean['text_clean'].apply(casefolding_text)\n",
        "df_clean['text_slangwords'] = df_clean['text_casefoldingText'].apply(fix_slangwords)\n",
        "df_clean['text_tokenizingText'] = df_clean['text_slangwords'].apply(tokenizing_text)\n",
        "df_clean['text_stopword'] = df_clean['text_tokenizingText'].apply(filtering_text)\n",
        "df_clean['text_akhir'] = df_clean['text_stopword'].apply(to_sentence)"
      ],
      "metadata": {
        "id": "OkDErByAgUWr"
      },
      "execution_count": null,
      "outputs": []
    },
    {
      "cell_type": "code",
      "source": [
        "import csv\n",
        "import requests\n",
        "from io import StringIO\n",
        "\n",
        "lexicon_positive = dict()\n",
        "\n",
        "response = requests.get('https://raw.githubusercontent.com/angelmetanosaa/dataset/main/lexicon_positive.csv')\n",
        "\n",
        "\n",
        "if response.status_code == 200:\n",
        "\n",
        "    reader = csv.reader(StringIO(response.text), delimiter=',')\n",
        "\n",
        "\n",
        "    for row in reader:\n",
        "\n",
        "        lexicon_positive[row[0]] = int(row[1])\n",
        "\n",
        "else:\n",
        "    print(\"Failed to fetch positive lexicon data\")\n",
        "\n",
        "\n",
        "lexicon_negative = dict()\n",
        "\n",
        "response = requests.get('https://raw.githubusercontent.com/angelmetanosaa/dataset/main/lexicon_negative.csv')\n",
        "\n",
        "\n",
        "if response.status_code == 200:\n",
        "\n",
        "    reader = csv.reader(StringIO(response.text), delimiter=',')\n",
        "\n",
        "\n",
        "    for row in reader:\n",
        "\n",
        "        lexicon_negative[row[0]] = int(row[1])\n",
        "\n",
        "else:\n",
        "    print(\"Failed to fetch negative lexicon data\")"
      ],
      "metadata": {
        "id": "FNKP0mZOhJgZ"
      },
      "execution_count": null,
      "outputs": []
    },
    {
      "cell_type": "code",
      "source": [
        "def sentimen_analis(text):\n",
        "  score = 0\n",
        "  for word in text:\n",
        "    if(word in lexicon_positive):\n",
        "      score = score + lexicon_positive[word]\n",
        "  for word in text:\n",
        "    if(word in lexicon_negative):\n",
        "      score = score + lexicon_negative[word]\n",
        "\n",
        "  polarity =''\n",
        "\n",
        "  if(score >= 0):\n",
        "    polarity = 'positive'\n",
        "  if(score <0):\n",
        "    polarity = 'negative'\n",
        "\n",
        "  return score, polarity"
      ],
      "metadata": {
        "id": "TXaRWjs6h3GR"
      },
      "execution_count": null,
      "outputs": []
    },
    {
      "cell_type": "code",
      "source": [
        "result = df_clean['text_stopword'].apply(sentimen_analis)\n",
        "result = list(zip(*result))\n",
        "df_clean['score'] = result[0]\n",
        "df_clean['polarity'] = result[1]\n",
        "print(df_clean['polarity'].value_counts())\n"
      ],
      "metadata": {
        "colab": {
          "base_uri": "https://localhost:8080/"
        },
        "id": "FFGvZV8VihmE",
        "outputId": "92b37730-137a-4d5b-e7ab-13d49ae3e16a"
      },
      "execution_count": null,
      "outputs": [
        {
          "output_type": "stream",
          "name": "stdout",
          "text": [
            "polarity\n",
            "positive    14283\n",
            "negative    14076\n",
            "Name: count, dtype: int64\n"
          ]
        }
      ]
    },
    {
      "cell_type": "code",
      "source": [
        "from sklearn.feature_extraction.text import TfidfVectorizer\n",
        "from sklearn.model_selection import train_test_split"
      ],
      "metadata": {
        "id": "YMSUxsGbkMDg"
      },
      "execution_count": null,
      "outputs": []
    },
    {
      "cell_type": "code",
      "source": [
        "x = df_clean['text_akhir']\n",
        "y = df_clean['polarity']\n",
        "\n",
        "tfidf = TfidfVectorizer(max_features=200, min_df=5, max_df=0.8)\n",
        "x_tfidf = tfidf.fit_transform(x)\n",
        "\n",
        "fratures_df = pd.DataFrame(x_tfidf.toarray(), columns=tfidf.get_feature_names_out())\n",
        "\n",
        "fratures_df\n",
        "\n",
        "x_train, x_test, y_train, y_test = train_test_split(x_tfidf, y, test_size=0.2, random_state=42)\n"
      ],
      "metadata": {
        "id": "syUT4IFgj6Zz"
      },
      "execution_count": null,
      "outputs": []
    },
    {
      "cell_type": "code",
      "source": [
        "from sklearn.ensemble import RandomForestClassifier\n",
        "\n",
        "# Membuat objek model Random Forest\n",
        "random_forest = RandomForestClassifier()\n",
        "\n",
        "# Melatih model Random Forest pada data pelatihan\n",
        "random_forest.fit(x_train.toarray(), y_train)\n",
        "\n",
        "# Prediksi sentimen pada data pelatihan dan data uji\n",
        "y_pred_train_rf = random_forest.predict(x_train.toarray())\n",
        "y_pred_test_rf = random_forest.predict(x_test.toarray())\n",
        "\n",
        "# Evaluasi akurasi model Random Forest\n",
        "accuracy_train_rf = accuracy_score(y_pred_train_rf, y_train)\n",
        "accuracy_test_rf = accuracy_score(y_pred_test_rf, y_test)\n",
        "\n",
        "# Menampilkan akurasi\n",
        "print('Random Forest - accuracy_train:', accuracy_train_rf)\n",
        "print('Random Forest - accuracy_test:', accuracy_test_rf)"
      ],
      "metadata": {
        "colab": {
          "base_uri": "https://localhost:8080/"
        },
        "id": "c7fHU8gnk-Pn",
        "outputId": "713cadf1-05ac-49f5-d85e-b0a0cd5a5330"
      },
      "execution_count": null,
      "outputs": [
        {
          "output_type": "stream",
          "name": "stdout",
          "text": [
            "Random Forest - accuracy_train: 0.9882311455899855\n",
            "Random Forest - accuracy_test: 0.7803244005641748\n"
          ]
        }
      ]
    },
    {
      "cell_type": "code",
      "source": [
        "from sklearn.tree import DecisionTreeClassifier\n",
        "\n",
        "# Membuat objek model Decision Tree\n",
        "decision_tree = DecisionTreeClassifier()\n",
        "\n",
        "# Melatih model Decision Tree pada data pelatihan\n",
        "decision_tree.fit(x_train.toarray(), y_train)\n",
        "\n",
        "# Prediksi sentimen pada data pelatihan dan data uji\n",
        "y_pred_train_dt = decision_tree.predict(x_train.toarray())\n",
        "y_pred_test_dt = decision_tree.predict(x_test.toarray())\n",
        "\n",
        "# Evaluasi akurasi model Decision Tree\n",
        "accuracy_train_dt = accuracy_score(y_pred_train_dt, y_train)\n",
        "accuracy_test_dt = accuracy_score(y_pred_test_dt, y_test)\n",
        "\n",
        "# Menampilkan akurasi\n",
        "print('Decision Tree - accuracy_train:', accuracy_train_dt)\n",
        "print('Decision Tree - accuracy_test:', accuracy_test_dt)"
      ],
      "metadata": {
        "colab": {
          "base_uri": "https://localhost:8080/"
        },
        "id": "uyj3R-dOlRuu",
        "outputId": "41925a20-0f62-4901-e503-99818705127e"
      },
      "execution_count": null,
      "outputs": [
        {
          "output_type": "stream",
          "name": "stdout",
          "text": [
            "Decision Tree - accuracy_train: 0.9882311455899855\n",
            "Decision Tree - accuracy_test: 0.7045133991537377\n"
          ]
        }
      ]
    },
    {
      "cell_type": "code",
      "source": [
        "from sklearn.linear_model import LogisticRegression\n",
        "\n",
        "# Membuat objek model Logistic Regression\n",
        "logistic_regression = LogisticRegression()\n",
        "\n",
        "# Melatih model Logistic Regression pada data pelatihan\n",
        "logistic_regression.fit(x_train.toarray(), y_train)\n",
        "\n",
        "# Prediksi sentimen pada data pelatihan dan data uji\n",
        "y_pred_train_lr = logistic_regression.predict(x_train.toarray())\n",
        "y_pred_test_lr = logistic_regression.predict(x_test.toarray())\n",
        "\n",
        "# Evaluasi akurasi model Logistic Regression pada data pelatihan\n",
        "accuracy_train_lr = accuracy_score(y_pred_train_lr, y_train)\n",
        "\n",
        "# Evaluasi akurasi model Logistic Regression pada data uji\n",
        "accuracy_test_lr = accuracy_score(y_pred_test_lr, y_test)\n",
        "\n",
        "# Menampilkan akurasi\n",
        "print('Logistic Regression - accuracy_train:', accuracy_train_lr)\n",
        "print('Logistic Regression - accuracy_test:', accuracy_test_lr)"
      ],
      "metadata": {
        "colab": {
          "base_uri": "https://localhost:8080/"
        },
        "id": "xj1E8_UNlb5Y",
        "outputId": "298909d0-38a9-4b0c-ca76-e92265c86f57"
      },
      "execution_count": null,
      "outputs": [
        {
          "output_type": "stream",
          "name": "stdout",
          "text": [
            "Logistic Regression - accuracy_train: 0.8225415436152863\n",
            "Logistic Regression - accuracy_test: 0.8078279266572638\n"
          ]
        }
      ]
    },
    {
      "cell_type": "code",
      "source": [
        "from sklearn.svm import SVC\n",
        "svm_model = SVC(kernel='linear', C=1.0, random_state=42)\n",
        "\n",
        "# Melatih model SVM pada data pelatihan\n",
        "svm_model.fit(x_train.toarray(), y_train)\n",
        "\n",
        "# Prediksi sentimen pada data pelatihan dan data uji\n",
        "y_pred_train_svm = svm_model.predict(x_train.toarray())\n",
        "y_pred_test_svm = svm_model.predict(x_test.toarray())\n",
        "\n",
        "# Evaluasi akurasi model SVM pada data pelatihan\n",
        "accuracy_train_svm = accuracy_score(y_pred_train_svm, y_train)\n",
        "\n",
        "# Evaluasi akurasi model SVM pada data uji\n",
        "accuracy_test_svm = accuracy_score(y_pred_test_svm, y_test)\n",
        "\n",
        "# Menampilkan akurasi\n",
        "print('SVM - accuracy_train:', accuracy_train_svm)\n",
        "print('SVM - accuracy_test:', accuracy_test_svm)\n"
      ],
      "metadata": {
        "id": "Eap2H-bSl7FO"
      },
      "execution_count": null,
      "outputs": []
    },
    {
      "cell_type": "code",
      "source": [
        "from sklearn.naive_bayes import BernoulliNB\n",
        "\n",
        "# Membuat objek model Naive Bayes (Bernoulli Naive Bayes)\n",
        "naive_bayes = BernoulliNB()\n",
        "\n",
        "# Melatih model Naive Bayes pada data pelatihan\n",
        "naive_bayes.fit(x_train.toarray(), y_train)\n",
        "\n",
        "# Prediksi sentimen pada data pelatihan dan data uji\n",
        "y_pred_train_nb = naive_bayes.predict(x_train.toarray())\n",
        "y_pred_test_nb = naive_bayes.predict(x_test.toarray())\n",
        "\n",
        "# Evaluasi akurasi model Naive Bayes\n",
        "accuracy_train_nb = accuracy_score(y_pred_train_nb, y_train)\n",
        "accuracy_test_nb = accuracy_score(y_pred_test_nb, y_test)\n",
        "\n",
        "print('Naive Bayes - accuracy_train:', accuracy_train_nb)\n",
        "print('Naive Bayes - accuracy_test:', accuracy_test_nb)"
      ],
      "metadata": {
        "colab": {
          "base_uri": "https://localhost:8080/"
        },
        "id": "w-BCODVQmQVP",
        "outputId": "de546803-fc90-4b58-f489-b99bd2cb275c"
      },
      "execution_count": null,
      "outputs": [
        {
          "output_type": "stream",
          "name": "stdout",
          "text": [
            "Naive Bayes - accuracy_train: 0.7619341473090316\n",
            "Naive Bayes - accuracy_test: 0.7538787023977433\n"
          ]
        }
      ]
    }
  ]
}