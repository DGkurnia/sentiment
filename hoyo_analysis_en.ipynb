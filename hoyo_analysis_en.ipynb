{
  "cells": [
    {
      "cell_type": "markdown",
      "metadata": {
        "id": "RHldLaF2kiTK"
      },
      "source": [
        "# Instalasi"
      ]
    },
    {
      "cell_type": "markdown",
      "metadata": {
        "id": "_RbjIotRkoFa"
      },
      "source": [
        "## Bagian 1"
      ]
    },
    {
      "cell_type": "code",
      "execution_count": null,
      "metadata": {
        "colab": {
          "base_uri": "https://localhost:8080/"
        },
        "id": "nwuHUFucPzTR",
        "outputId": "774a9ed2-5dd3-4694-f136-c07b364df499"
      },
      "outputs": [
        {
          "output_type": "stream",
          "name": "stdout",
          "text": [
            "Requirement already satisfied: nltk in /usr/local/lib/python3.11/dist-packages (3.9.1)\n",
            "Requirement already satisfied: click in /usr/local/lib/python3.11/dist-packages (from nltk) (8.1.8)\n",
            "Requirement already satisfied: joblib in /usr/local/lib/python3.11/dist-packages (from nltk) (1.4.2)\n",
            "Requirement already satisfied: regex>=2021.8.3 in /usr/local/lib/python3.11/dist-packages (from nltk) (2024.11.6)\n",
            "Requirement already satisfied: tqdm in /usr/local/lib/python3.11/dist-packages (from nltk) (4.67.1)\n"
          ]
        }
      ],
      "source": [
        "#instalasi NLTK\n",
        "! pip install nltk"
      ]
    },
    {
      "cell_type": "code",
      "execution_count": null,
      "metadata": {
        "colab": {
          "base_uri": "https://localhost:8080/"
        },
        "id": "cg-Qjm3Wu6UA",
        "outputId": "57401cfa-e97c-4323-dac9-0f0bdcae916d"
      },
      "outputs": [
        {
          "output_type": "stream",
          "name": "stdout",
          "text": [
            "Requirement already satisfied: xgboost in /usr/local/lib/python3.11/dist-packages (2.1.3)\n",
            "Requirement already satisfied: numpy in /usr/local/lib/python3.11/dist-packages (from xgboost) (1.26.4)\n",
            "Requirement already satisfied: nvidia-nccl-cu12 in /usr/local/lib/python3.11/dist-packages (from xgboost) (2.21.5)\n",
            "Requirement already satisfied: scipy in /usr/local/lib/python3.11/dist-packages (from xgboost) (1.13.1)\n"
          ]
        }
      ],
      "source": [
        "#inisiasi XGBoost untuk instalasi XGBOOSTER\n",
        "!pip install xgboost"
      ]
    },
    {
      "cell_type": "code",
      "execution_count": null,
      "metadata": {
        "colab": {
          "base_uri": "https://localhost:8080/"
        },
        "id": "Q2aXrYmiwU3v",
        "outputId": "cc3645cc-1bd1-4724-9026-c715795599c8"
      },
      "outputs": [
        {
          "output_type": "stream",
          "name": "stdout",
          "text": [
            "Collecting vaderSentiment\n",
            "  Downloading vaderSentiment-3.3.2-py2.py3-none-any.whl.metadata (572 bytes)\n",
            "Requirement already satisfied: requests in /usr/local/lib/python3.11/dist-packages (from vaderSentiment) (2.32.3)\n",
            "Requirement already satisfied: charset-normalizer<4,>=2 in /usr/local/lib/python3.11/dist-packages (from requests->vaderSentiment) (3.4.1)\n",
            "Requirement already satisfied: idna<4,>=2.5 in /usr/local/lib/python3.11/dist-packages (from requests->vaderSentiment) (3.10)\n",
            "Requirement already satisfied: urllib3<3,>=1.21.1 in /usr/local/lib/python3.11/dist-packages (from requests->vaderSentiment) (2.3.0)\n",
            "Requirement already satisfied: certifi>=2017.4.17 in /usr/local/lib/python3.11/dist-packages (from requests->vaderSentiment) (2025.1.31)\n",
            "Downloading vaderSentiment-3.3.2-py2.py3-none-any.whl (125 kB)\n",
            "\u001b[2K   \u001b[90m━━━━━━━━━━━━━━━━━━━━━━━━━━━━━━━━━━━━━━━━\u001b[0m \u001b[32m126.0/126.0 kB\u001b[0m \u001b[31m2.3 MB/s\u001b[0m eta \u001b[36m0:00:00\u001b[0m\n",
            "\u001b[?25hInstalling collected packages: vaderSentiment\n",
            "Successfully installed vaderSentiment-3.3.2\n"
          ]
        }
      ],
      "source": [
        "#instalasi vader sentiment\n",
        "!pip install vaderSentiment"
      ]
    },
    {
      "cell_type": "code",
      "execution_count": null,
      "metadata": {
        "colab": {
          "base_uri": "https://localhost:8080/"
        },
        "id": "nFylLioRojEG",
        "outputId": "0baaf40b-15d6-4367-c4f6-d5af9f2ae342"
      },
      "outputs": [
        {
          "output_type": "stream",
          "name": "stdout",
          "text": [
            "Requirement already satisfied: keras in /usr/local/lib/python3.11/dist-packages (3.8.0)\n",
            "Requirement already satisfied: absl-py in /usr/local/lib/python3.11/dist-packages (from keras) (1.4.0)\n",
            "Requirement already satisfied: numpy in /usr/local/lib/python3.11/dist-packages (from keras) (1.26.4)\n",
            "Requirement already satisfied: rich in /usr/local/lib/python3.11/dist-packages (from keras) (13.9.4)\n",
            "Requirement already satisfied: namex in /usr/local/lib/python3.11/dist-packages (from keras) (0.0.8)\n",
            "Requirement already satisfied: h5py in /usr/local/lib/python3.11/dist-packages (from keras) (3.12.1)\n",
            "Requirement already satisfied: optree in /usr/local/lib/python3.11/dist-packages (from keras) (0.14.0)\n",
            "Requirement already satisfied: ml-dtypes in /usr/local/lib/python3.11/dist-packages (from keras) (0.4.1)\n",
            "Requirement already satisfied: packaging in /usr/local/lib/python3.11/dist-packages (from keras) (24.2)\n",
            "Requirement already satisfied: typing-extensions>=4.5.0 in /usr/local/lib/python3.11/dist-packages (from optree->keras) (4.12.2)\n",
            "Requirement already satisfied: markdown-it-py>=2.2.0 in /usr/local/lib/python3.11/dist-packages (from rich->keras) (3.0.0)\n",
            "Requirement already satisfied: pygments<3.0.0,>=2.13.0 in /usr/local/lib/python3.11/dist-packages (from rich->keras) (2.18.0)\n",
            "Requirement already satisfied: mdurl~=0.1 in /usr/local/lib/python3.11/dist-packages (from markdown-it-py>=2.2.0->rich->keras) (0.1.2)\n",
            "Requirement already satisfied: tensorflow in /usr/local/lib/python3.11/dist-packages (2.18.0)\n",
            "Requirement already satisfied: absl-py>=1.0.0 in /usr/local/lib/python3.11/dist-packages (from tensorflow) (1.4.0)\n",
            "Requirement already satisfied: astunparse>=1.6.0 in /usr/local/lib/python3.11/dist-packages (from tensorflow) (1.6.3)\n",
            "Requirement already satisfied: flatbuffers>=24.3.25 in /usr/local/lib/python3.11/dist-packages (from tensorflow) (25.1.24)\n",
            "Requirement already satisfied: gast!=0.5.0,!=0.5.1,!=0.5.2,>=0.2.1 in /usr/local/lib/python3.11/dist-packages (from tensorflow) (0.6.0)\n",
            "Requirement already satisfied: google-pasta>=0.1.1 in /usr/local/lib/python3.11/dist-packages (from tensorflow) (0.2.0)\n",
            "Requirement already satisfied: libclang>=13.0.0 in /usr/local/lib/python3.11/dist-packages (from tensorflow) (18.1.1)\n",
            "Requirement already satisfied: opt-einsum>=2.3.2 in /usr/local/lib/python3.11/dist-packages (from tensorflow) (3.4.0)\n",
            "Requirement already satisfied: packaging in /usr/local/lib/python3.11/dist-packages (from tensorflow) (24.2)\n",
            "Requirement already satisfied: protobuf!=4.21.0,!=4.21.1,!=4.21.2,!=4.21.3,!=4.21.4,!=4.21.5,<6.0.0dev,>=3.20.3 in /usr/local/lib/python3.11/dist-packages (from tensorflow) (4.25.6)\n",
            "Requirement already satisfied: requests<3,>=2.21.0 in /usr/local/lib/python3.11/dist-packages (from tensorflow) (2.32.3)\n",
            "Requirement already satisfied: setuptools in /usr/local/lib/python3.11/dist-packages (from tensorflow) (75.1.0)\n",
            "Requirement already satisfied: six>=1.12.0 in /usr/local/lib/python3.11/dist-packages (from tensorflow) (1.17.0)\n",
            "Requirement already satisfied: termcolor>=1.1.0 in /usr/local/lib/python3.11/dist-packages (from tensorflow) (2.5.0)\n",
            "Requirement already satisfied: typing-extensions>=3.6.6 in /usr/local/lib/python3.11/dist-packages (from tensorflow) (4.12.2)\n",
            "Requirement already satisfied: wrapt>=1.11.0 in /usr/local/lib/python3.11/dist-packages (from tensorflow) (1.17.2)\n",
            "Requirement already satisfied: grpcio<2.0,>=1.24.3 in /usr/local/lib/python3.11/dist-packages (from tensorflow) (1.70.0)\n",
            "Requirement already satisfied: tensorboard<2.19,>=2.18 in /usr/local/lib/python3.11/dist-packages (from tensorflow) (2.18.0)\n",
            "Requirement already satisfied: keras>=3.5.0 in /usr/local/lib/python3.11/dist-packages (from tensorflow) (3.8.0)\n",
            "Requirement already satisfied: numpy<2.1.0,>=1.26.0 in /usr/local/lib/python3.11/dist-packages (from tensorflow) (1.26.4)\n",
            "Requirement already satisfied: h5py>=3.11.0 in /usr/local/lib/python3.11/dist-packages (from tensorflow) (3.12.1)\n",
            "Requirement already satisfied: ml-dtypes<0.5.0,>=0.4.0 in /usr/local/lib/python3.11/dist-packages (from tensorflow) (0.4.1)\n",
            "Requirement already satisfied: tensorflow-io-gcs-filesystem>=0.23.1 in /usr/local/lib/python3.11/dist-packages (from tensorflow) (0.37.1)\n",
            "Requirement already satisfied: wheel<1.0,>=0.23.0 in /usr/local/lib/python3.11/dist-packages (from astunparse>=1.6.0->tensorflow) (0.45.1)\n",
            "Requirement already satisfied: rich in /usr/local/lib/python3.11/dist-packages (from keras>=3.5.0->tensorflow) (13.9.4)\n",
            "Requirement already satisfied: namex in /usr/local/lib/python3.11/dist-packages (from keras>=3.5.0->tensorflow) (0.0.8)\n",
            "Requirement already satisfied: optree in /usr/local/lib/python3.11/dist-packages (from keras>=3.5.0->tensorflow) (0.14.0)\n",
            "Requirement already satisfied: charset-normalizer<4,>=2 in /usr/local/lib/python3.11/dist-packages (from requests<3,>=2.21.0->tensorflow) (3.4.1)\n",
            "Requirement already satisfied: idna<4,>=2.5 in /usr/local/lib/python3.11/dist-packages (from requests<3,>=2.21.0->tensorflow) (3.10)\n",
            "Requirement already satisfied: urllib3<3,>=1.21.1 in /usr/local/lib/python3.11/dist-packages (from requests<3,>=2.21.0->tensorflow) (2.3.0)\n",
            "Requirement already satisfied: certifi>=2017.4.17 in /usr/local/lib/python3.11/dist-packages (from requests<3,>=2.21.0->tensorflow) (2025.1.31)\n",
            "Requirement already satisfied: markdown>=2.6.8 in /usr/local/lib/python3.11/dist-packages (from tensorboard<2.19,>=2.18->tensorflow) (3.7)\n",
            "Requirement already satisfied: tensorboard-data-server<0.8.0,>=0.7.0 in /usr/local/lib/python3.11/dist-packages (from tensorboard<2.19,>=2.18->tensorflow) (0.7.2)\n",
            "Requirement already satisfied: werkzeug>=1.0.1 in /usr/local/lib/python3.11/dist-packages (from tensorboard<2.19,>=2.18->tensorflow) (3.1.3)\n",
            "Requirement already satisfied: MarkupSafe>=2.1.1 in /usr/local/lib/python3.11/dist-packages (from werkzeug>=1.0.1->tensorboard<2.19,>=2.18->tensorflow) (3.0.2)\n",
            "Requirement already satisfied: markdown-it-py>=2.2.0 in /usr/local/lib/python3.11/dist-packages (from rich->keras>=3.5.0->tensorflow) (3.0.0)\n",
            "Requirement already satisfied: pygments<3.0.0,>=2.13.0 in /usr/local/lib/python3.11/dist-packages (from rich->keras>=3.5.0->tensorflow) (2.18.0)\n",
            "Requirement already satisfied: mdurl~=0.1 in /usr/local/lib/python3.11/dist-packages (from markdown-it-py>=2.2.0->rich->keras>=3.5.0->tensorflow) (0.1.2)\n"
          ]
        }
      ],
      "source": [
        "#instalasi keras lapisan/'layers', dan perlengkapan\n",
        "!pip install keras\n",
        "!pip install tensorflow"
      ]
    },
    {
      "cell_type": "code",
      "execution_count": null,
      "metadata": {
        "colab": {
          "base_uri": "https://localhost:8080/"
        },
        "id": "b0KvJZ0dlDgf",
        "outputId": "1239fb14-2118-49fe-8a3c-f82fa5eea676"
      },
      "outputs": [
        {
          "output_type": "stream",
          "name": "stdout",
          "text": [
            "Collecting backoff\n",
            "  Downloading backoff-2.2.1-py3-none-any.whl.metadata (14 kB)\n",
            "Requirement already satisfied: aiohttp in /usr/local/lib/python3.11/dist-packages (3.11.11)\n",
            "Requirement already satisfied: aiohappyeyeballs>=2.3.0 in /usr/local/lib/python3.11/dist-packages (from aiohttp) (2.4.4)\n",
            "Requirement already satisfied: aiosignal>=1.1.2 in /usr/local/lib/python3.11/dist-packages (from aiohttp) (1.3.2)\n",
            "Requirement already satisfied: attrs>=17.3.0 in /usr/local/lib/python3.11/dist-packages (from aiohttp) (25.1.0)\n",
            "Requirement already satisfied: frozenlist>=1.1.1 in /usr/local/lib/python3.11/dist-packages (from aiohttp) (1.5.0)\n",
            "Requirement already satisfied: multidict<7.0,>=4.5 in /usr/local/lib/python3.11/dist-packages (from aiohttp) (6.1.0)\n",
            "Requirement already satisfied: propcache>=0.2.0 in /usr/local/lib/python3.11/dist-packages (from aiohttp) (0.2.1)\n",
            "Requirement already satisfied: yarl<2.0,>=1.17.0 in /usr/local/lib/python3.11/dist-packages (from aiohttp) (1.18.3)\n",
            "Requirement already satisfied: idna>=2.0 in /usr/local/lib/python3.11/dist-packages (from yarl<2.0,>=1.17.0->aiohttp) (3.10)\n",
            "Downloading backoff-2.2.1-py3-none-any.whl (15 kB)\n",
            "Installing collected packages: backoff\n",
            "Successfully installed backoff-2.2.1\n"
          ]
        }
      ],
      "source": [
        "#backoff\n",
        "!pip install backoff aiohttp"
      ]
    },
    {
      "cell_type": "code",
      "execution_count": null,
      "metadata": {
        "colab": {
          "base_uri": "https://localhost:8080/"
        },
        "id": "CbDJf08RkvV5",
        "outputId": "3282a67a-a675-46c9-b8af-731a989dd64a"
      },
      "outputs": [
        {
          "output_type": "stream",
          "name": "stdout",
          "text": [
            "Requirement already satisfied: backoff in /usr/local/lib/python3.11/dist-packages (2.2.1)\n",
            "Requirement already satisfied: aiohttp in /usr/local/lib/python3.11/dist-packages (3.11.11)\n",
            "Requirement already satisfied: aiohappyeyeballs>=2.3.0 in /usr/local/lib/python3.11/dist-packages (from aiohttp) (2.4.4)\n",
            "Requirement already satisfied: aiosignal>=1.1.2 in /usr/local/lib/python3.11/dist-packages (from aiohttp) (1.3.2)\n",
            "Requirement already satisfied: attrs>=17.3.0 in /usr/local/lib/python3.11/dist-packages (from aiohttp) (25.1.0)\n",
            "Requirement already satisfied: frozenlist>=1.1.1 in /usr/local/lib/python3.11/dist-packages (from aiohttp) (1.5.0)\n",
            "Requirement already satisfied: multidict<7.0,>=4.5 in /usr/local/lib/python3.11/dist-packages (from aiohttp) (6.1.0)\n",
            "Requirement already satisfied: propcache>=0.2.0 in /usr/local/lib/python3.11/dist-packages (from aiohttp) (0.2.1)\n",
            "Requirement already satisfied: yarl<2.0,>=1.17.0 in /usr/local/lib/python3.11/dist-packages (from aiohttp) (1.18.3)\n",
            "Requirement already satisfied: idna>=2.0 in /usr/local/lib/python3.11/dist-packages (from yarl<2.0,>=1.17.0->aiohttp) (3.10)\n"
          ]
        }
      ],
      "source": [
        "#Bagian 'backoff' & aiotthp\n",
        "!pip install backoff aiohttp"
      ]
    },
    {
      "cell_type": "code",
      "execution_count": null,
      "metadata": {
        "colab": {
          "base_uri": "https://localhost:8080/"
        },
        "id": "7HDdZtuek1Rh",
        "outputId": "ecd2088a-fb8b-4182-cf8d-eff758c5a19e"
      },
      "outputs": [
        {
          "output_type": "stream",
          "name": "stdout",
          "text": [
            "Requirement already satisfied: sentencepiece in /usr/local/lib/python3.11/dist-packages (0.2.0)\n"
          ]
        }
      ],
      "source": [
        "#sentencepiece\n",
        "!pip install sentencepiece"
      ]
    },
    {
      "cell_type": "markdown",
      "metadata": {
        "id": "hC3VW1dckpJG"
      },
      "source": [
        "## Bagian 2"
      ]
    },
    {
      "cell_type": "code",
      "execution_count": null,
      "metadata": {
        "colab": {
          "base_uri": "https://localhost:8080/"
        },
        "id": "BnCkoo6_0O8w",
        "outputId": "41b3cf50-7329-4bd9-f502-77a9cbcd8515"
      },
      "outputs": [
        {
          "output_type": "stream",
          "name": "stdout",
          "text": [
            "Requirement already satisfied: imbalanced-learn in /usr/local/lib/python3.11/dist-packages (0.13.0)\n",
            "Requirement already satisfied: scikit-learn in /usr/local/lib/python3.11/dist-packages (1.6.1)\n",
            "Requirement already satisfied: pandas in /usr/local/lib/python3.11/dist-packages (2.2.2)\n",
            "Requirement already satisfied: numpy<3,>=1.24.3 in /usr/local/lib/python3.11/dist-packages (from imbalanced-learn) (1.26.4)\n",
            "Requirement already satisfied: scipy<2,>=1.10.1 in /usr/local/lib/python3.11/dist-packages (from imbalanced-learn) (1.13.1)\n",
            "Requirement already satisfied: sklearn-compat<1,>=0.1 in /usr/local/lib/python3.11/dist-packages (from imbalanced-learn) (0.1.3)\n",
            "Requirement already satisfied: joblib<2,>=1.1.1 in /usr/local/lib/python3.11/dist-packages (from imbalanced-learn) (1.4.2)\n",
            "Requirement already satisfied: threadpoolctl<4,>=2.0.0 in /usr/local/lib/python3.11/dist-packages (from imbalanced-learn) (3.5.0)\n",
            "Requirement already satisfied: python-dateutil>=2.8.2 in /usr/local/lib/python3.11/dist-packages (from pandas) (2.8.2)\n",
            "Requirement already satisfied: pytz>=2020.1 in /usr/local/lib/python3.11/dist-packages (from pandas) (2025.1)\n",
            "Requirement already satisfied: tzdata>=2022.7 in /usr/local/lib/python3.11/dist-packages (from pandas) (2025.1)\n",
            "Requirement already satisfied: six>=1.5 in /usr/local/lib/python3.11/dist-packages (from python-dateutil>=2.8.2->pandas) (1.17.0)\n"
          ]
        }
      ],
      "source": [
        "#pembaruan ketidakseimbangan\n",
        "!pip install imbalanced-learn scikit-learn pandas"
      ]
    },
    {
      "cell_type": "code",
      "execution_count": null,
      "metadata": {
        "colab": {
          "base_uri": "https://localhost:8080/"
        },
        "id": "Bb21dg_nkqPR",
        "outputId": "4c4566be-7b27-4fb4-e002-06e03eabea98"
      },
      "outputs": [
        {
          "output_type": "stream",
          "name": "stdout",
          "text": [
            "Collecting sastrawi\n",
            "  Downloading Sastrawi-1.0.1-py2.py3-none-any.whl.metadata (909 bytes)\n",
            "Downloading Sastrawi-1.0.1-py2.py3-none-any.whl (209 kB)\n",
            "\u001b[?25l   \u001b[90m━━━━━━━━━━━━━━━━━━━━━━━━━━━━━━━━━━━━━━━━\u001b[0m \u001b[32m0.0/209.7 kB\u001b[0m \u001b[31m?\u001b[0m eta \u001b[36m-:--:--\u001b[0m\r\u001b[2K   \u001b[91m━━━━━━━━━━━━━━━━━\u001b[0m\u001b[91m╸\u001b[0m\u001b[90m━━━━━━━━━━━━━━━━━━━━━━\u001b[0m \u001b[32m92.2/209.7 kB\u001b[0m \u001b[31m2.5 MB/s\u001b[0m eta \u001b[36m0:00:01\u001b[0m\r\u001b[2K   \u001b[90m━━━━━━━━━━━━━━━━━━━━━━━━━━━━━━━━━━━━━━━━\u001b[0m \u001b[32m209.7/209.7 kB\u001b[0m \u001b[31m3.4 MB/s\u001b[0m eta \u001b[36m0:00:00\u001b[0m\n",
            "\u001b[?25hInstalling collected packages: sastrawi\n",
            "Successfully installed sastrawi-1.0.1\n"
          ]
        }
      ],
      "source": [
        "#sastrawi\n",
        "!pip install sastrawi"
      ]
    },
    {
      "cell_type": "code",
      "execution_count": null,
      "metadata": {
        "colab": {
          "base_uri": "https://localhost:8080/"
        },
        "id": "VEvdbm07lOvp",
        "outputId": "38316607-2d98-464e-aafd-a10654270f29"
      },
      "outputs": [
        {
          "output_type": "stream",
          "name": "stdout",
          "text": [
            "Requirement already satisfied: wordcloud in /usr/local/lib/python3.11/dist-packages (1.9.4)\n",
            "Requirement already satisfied: numpy>=1.6.1 in /usr/local/lib/python3.11/dist-packages (from wordcloud) (1.26.4)\n",
            "Requirement already satisfied: pillow in /usr/local/lib/python3.11/dist-packages (from wordcloud) (11.1.0)\n",
            "Requirement already satisfied: matplotlib in /usr/local/lib/python3.11/dist-packages (from wordcloud) (3.10.0)\n",
            "Requirement already satisfied: contourpy>=1.0.1 in /usr/local/lib/python3.11/dist-packages (from matplotlib->wordcloud) (1.3.1)\n",
            "Requirement already satisfied: cycler>=0.10 in /usr/local/lib/python3.11/dist-packages (from matplotlib->wordcloud) (0.12.1)\n",
            "Requirement already satisfied: fonttools>=4.22.0 in /usr/local/lib/python3.11/dist-packages (from matplotlib->wordcloud) (4.55.8)\n",
            "Requirement already satisfied: kiwisolver>=1.3.1 in /usr/local/lib/python3.11/dist-packages (from matplotlib->wordcloud) (1.4.8)\n",
            "Requirement already satisfied: packaging>=20.0 in /usr/local/lib/python3.11/dist-packages (from matplotlib->wordcloud) (24.2)\n",
            "Requirement already satisfied: pyparsing>=2.3.1 in /usr/local/lib/python3.11/dist-packages (from matplotlib->wordcloud) (3.2.1)\n",
            "Requirement already satisfied: python-dateutil>=2.7 in /usr/local/lib/python3.11/dist-packages (from matplotlib->wordcloud) (2.8.2)\n",
            "Requirement already satisfied: six>=1.5 in /usr/local/lib/python3.11/dist-packages (from python-dateutil>=2.7->matplotlib->wordcloud) (1.17.0)\n"
          ]
        }
      ],
      "source": [
        "#wordcloud\n",
        "!pip install wordcloud"
      ]
    },
    {
      "cell_type": "code",
      "execution_count": null,
      "metadata": {
        "colab": {
          "base_uri": "https://localhost:8080/"
        },
        "id": "x_zv4orgk4fh",
        "outputId": "4e01976b-8554-4c03-828e-d7177c538973"
      },
      "outputs": [
        {
          "output_type": "stream",
          "name": "stdout",
          "text": [
            "Requirement already satisfied: transformers in /usr/local/lib/python3.11/dist-packages (4.48.2)\n",
            "Requirement already satisfied: filelock in /usr/local/lib/python3.11/dist-packages (from transformers) (3.17.0)\n",
            "Requirement already satisfied: huggingface-hub<1.0,>=0.24.0 in /usr/local/lib/python3.11/dist-packages (from transformers) (0.28.1)\n",
            "Requirement already satisfied: numpy>=1.17 in /usr/local/lib/python3.11/dist-packages (from transformers) (1.26.4)\n",
            "Requirement already satisfied: packaging>=20.0 in /usr/local/lib/python3.11/dist-packages (from transformers) (24.2)\n",
            "Requirement already satisfied: pyyaml>=5.1 in /usr/local/lib/python3.11/dist-packages (from transformers) (6.0.2)\n",
            "Requirement already satisfied: regex!=2019.12.17 in /usr/local/lib/python3.11/dist-packages (from transformers) (2024.11.6)\n",
            "Requirement already satisfied: requests in /usr/local/lib/python3.11/dist-packages (from transformers) (2.32.3)\n",
            "Requirement already satisfied: tokenizers<0.22,>=0.21 in /usr/local/lib/python3.11/dist-packages (from transformers) (0.21.0)\n",
            "Requirement already satisfied: safetensors>=0.4.1 in /usr/local/lib/python3.11/dist-packages (from transformers) (0.5.2)\n",
            "Requirement already satisfied: tqdm>=4.27 in /usr/local/lib/python3.11/dist-packages (from transformers) (4.67.1)\n",
            "Requirement already satisfied: fsspec>=2023.5.0 in /usr/local/lib/python3.11/dist-packages (from huggingface-hub<1.0,>=0.24.0->transformers) (2024.10.0)\n",
            "Requirement already satisfied: typing-extensions>=3.7.4.3 in /usr/local/lib/python3.11/dist-packages (from huggingface-hub<1.0,>=0.24.0->transformers) (4.12.2)\n",
            "Requirement already satisfied: charset-normalizer<4,>=2 in /usr/local/lib/python3.11/dist-packages (from requests->transformers) (3.4.1)\n",
            "Requirement already satisfied: idna<4,>=2.5 in /usr/local/lib/python3.11/dist-packages (from requests->transformers) (3.10)\n",
            "Requirement already satisfied: urllib3<3,>=1.21.1 in /usr/local/lib/python3.11/dist-packages (from requests->transformers) (2.3.0)\n",
            "Requirement already satisfied: certifi>=2017.4.17 in /usr/local/lib/python3.11/dist-packages (from requests->transformers) (2025.1.31)\n"
          ]
        }
      ],
      "source": [
        "#instalasi transformers\n",
        "!pip install transformers"
      ]
    },
    {
      "cell_type": "code",
      "execution_count": null,
      "metadata": {
        "colab": {
          "base_uri": "https://localhost:8080/"
        },
        "id": "qf_IBEPak5GQ",
        "outputId": "9b7ba433-d221-4659-faac-49db86c10943"
      },
      "outputs": [
        {
          "output_type": "stream",
          "name": "stdout",
          "text": [
            "Requirement already satisfied: transformers[torch] in /usr/local/lib/python3.11/dist-packages (4.48.2)\n",
            "Requirement already satisfied: filelock in /usr/local/lib/python3.11/dist-packages (from transformers[torch]) (3.17.0)\n",
            "Requirement already satisfied: huggingface-hub<1.0,>=0.24.0 in /usr/local/lib/python3.11/dist-packages (from transformers[torch]) (0.28.1)\n",
            "Requirement already satisfied: numpy>=1.17 in /usr/local/lib/python3.11/dist-packages (from transformers[torch]) (1.26.4)\n",
            "Requirement already satisfied: packaging>=20.0 in /usr/local/lib/python3.11/dist-packages (from transformers[torch]) (24.2)\n",
            "Requirement already satisfied: pyyaml>=5.1 in /usr/local/lib/python3.11/dist-packages (from transformers[torch]) (6.0.2)\n",
            "Requirement already satisfied: regex!=2019.12.17 in /usr/local/lib/python3.11/dist-packages (from transformers[torch]) (2024.11.6)\n",
            "Requirement already satisfied: requests in /usr/local/lib/python3.11/dist-packages (from transformers[torch]) (2.32.3)\n",
            "Requirement already satisfied: tokenizers<0.22,>=0.21 in /usr/local/lib/python3.11/dist-packages (from transformers[torch]) (0.21.0)\n",
            "Requirement already satisfied: safetensors>=0.4.1 in /usr/local/lib/python3.11/dist-packages (from transformers[torch]) (0.5.2)\n",
            "Requirement already satisfied: tqdm>=4.27 in /usr/local/lib/python3.11/dist-packages (from transformers[torch]) (4.67.1)\n",
            "Requirement already satisfied: torch>=2.0 in /usr/local/lib/python3.11/dist-packages (from transformers[torch]) (2.5.1+cu124)\n",
            "Requirement already satisfied: accelerate>=0.26.0 in /usr/local/lib/python3.11/dist-packages (from transformers[torch]) (1.3.0)\n",
            "Requirement already satisfied: psutil in /usr/local/lib/python3.11/dist-packages (from accelerate>=0.26.0->transformers[torch]) (5.9.5)\n",
            "Requirement already satisfied: fsspec>=2023.5.0 in /usr/local/lib/python3.11/dist-packages (from huggingface-hub<1.0,>=0.24.0->transformers[torch]) (2024.10.0)\n",
            "Requirement already satisfied: typing-extensions>=3.7.4.3 in /usr/local/lib/python3.11/dist-packages (from huggingface-hub<1.0,>=0.24.0->transformers[torch]) (4.12.2)\n",
            "Requirement already satisfied: networkx in /usr/local/lib/python3.11/dist-packages (from torch>=2.0->transformers[torch]) (3.4.2)\n",
            "Requirement already satisfied: jinja2 in /usr/local/lib/python3.11/dist-packages (from torch>=2.0->transformers[torch]) (3.1.5)\n",
            "Collecting nvidia-cuda-nvrtc-cu12==12.4.127 (from torch>=2.0->transformers[torch])\n",
            "  Downloading nvidia_cuda_nvrtc_cu12-12.4.127-py3-none-manylinux2014_x86_64.whl.metadata (1.5 kB)\n",
            "Collecting nvidia-cuda-runtime-cu12==12.4.127 (from torch>=2.0->transformers[torch])\n",
            "  Downloading nvidia_cuda_runtime_cu12-12.4.127-py3-none-manylinux2014_x86_64.whl.metadata (1.5 kB)\n",
            "Collecting nvidia-cuda-cupti-cu12==12.4.127 (from torch>=2.0->transformers[torch])\n",
            "  Downloading nvidia_cuda_cupti_cu12-12.4.127-py3-none-manylinux2014_x86_64.whl.metadata (1.6 kB)\n",
            "Collecting nvidia-cudnn-cu12==9.1.0.70 (from torch>=2.0->transformers[torch])\n",
            "  Downloading nvidia_cudnn_cu12-9.1.0.70-py3-none-manylinux2014_x86_64.whl.metadata (1.6 kB)\n",
            "Collecting nvidia-cublas-cu12==12.4.5.8 (from torch>=2.0->transformers[torch])\n",
            "  Downloading nvidia_cublas_cu12-12.4.5.8-py3-none-manylinux2014_x86_64.whl.metadata (1.5 kB)\n",
            "Collecting nvidia-cufft-cu12==11.2.1.3 (from torch>=2.0->transformers[torch])\n",
            "  Downloading nvidia_cufft_cu12-11.2.1.3-py3-none-manylinux2014_x86_64.whl.metadata (1.5 kB)\n",
            "Collecting nvidia-curand-cu12==10.3.5.147 (from torch>=2.0->transformers[torch])\n",
            "  Downloading nvidia_curand_cu12-10.3.5.147-py3-none-manylinux2014_x86_64.whl.metadata (1.5 kB)\n",
            "Collecting nvidia-cusolver-cu12==11.6.1.9 (from torch>=2.0->transformers[torch])\n",
            "  Downloading nvidia_cusolver_cu12-11.6.1.9-py3-none-manylinux2014_x86_64.whl.metadata (1.6 kB)\n",
            "Collecting nvidia-cusparse-cu12==12.3.1.170 (from torch>=2.0->transformers[torch])\n",
            "  Downloading nvidia_cusparse_cu12-12.3.1.170-py3-none-manylinux2014_x86_64.whl.metadata (1.6 kB)\n",
            "Requirement already satisfied: nvidia-nccl-cu12==2.21.5 in /usr/local/lib/python3.11/dist-packages (from torch>=2.0->transformers[torch]) (2.21.5)\n",
            "Requirement already satisfied: nvidia-nvtx-cu12==12.4.127 in /usr/local/lib/python3.11/dist-packages (from torch>=2.0->transformers[torch]) (12.4.127)\n",
            "Collecting nvidia-nvjitlink-cu12==12.4.127 (from torch>=2.0->transformers[torch])\n",
            "  Downloading nvidia_nvjitlink_cu12-12.4.127-py3-none-manylinux2014_x86_64.whl.metadata (1.5 kB)\n",
            "Requirement already satisfied: triton==3.1.0 in /usr/local/lib/python3.11/dist-packages (from torch>=2.0->transformers[torch]) (3.1.0)\n",
            "Requirement already satisfied: sympy==1.13.1 in /usr/local/lib/python3.11/dist-packages (from torch>=2.0->transformers[torch]) (1.13.1)\n",
            "Requirement already satisfied: mpmath<1.4,>=1.1.0 in /usr/local/lib/python3.11/dist-packages (from sympy==1.13.1->torch>=2.0->transformers[torch]) (1.3.0)\n",
            "Requirement already satisfied: charset-normalizer<4,>=2 in /usr/local/lib/python3.11/dist-packages (from requests->transformers[torch]) (3.4.1)\n",
            "Requirement already satisfied: idna<4,>=2.5 in /usr/local/lib/python3.11/dist-packages (from requests->transformers[torch]) (3.10)\n",
            "Requirement already satisfied: urllib3<3,>=1.21.1 in /usr/local/lib/python3.11/dist-packages (from requests->transformers[torch]) (2.3.0)\n",
            "Requirement already satisfied: certifi>=2017.4.17 in /usr/local/lib/python3.11/dist-packages (from requests->transformers[torch]) (2025.1.31)\n",
            "Requirement already satisfied: MarkupSafe>=2.0 in /usr/local/lib/python3.11/dist-packages (from jinja2->torch>=2.0->transformers[torch]) (3.0.2)\n",
            "Downloading nvidia_cublas_cu12-12.4.5.8-py3-none-manylinux2014_x86_64.whl (363.4 MB)\n",
            "\u001b[2K   \u001b[90m━━━━━━━━━━━━━━━━━━━━━━━━━━━━━━━━━━━━━━━━\u001b[0m \u001b[32m363.4/363.4 MB\u001b[0m \u001b[31m1.1 MB/s\u001b[0m eta \u001b[36m0:00:00\u001b[0m\n",
            "\u001b[?25hDownloading nvidia_cuda_cupti_cu12-12.4.127-py3-none-manylinux2014_x86_64.whl (13.8 MB)\n",
            "\u001b[2K   \u001b[90m━━━━━━━━━━━━━━━━━━━━━━━━━━━━━━━━━━━━━━━━\u001b[0m \u001b[32m13.8/13.8 MB\u001b[0m \u001b[31m24.7 MB/s\u001b[0m eta \u001b[36m0:00:00\u001b[0m\n",
            "\u001b[?25hDownloading nvidia_cuda_nvrtc_cu12-12.4.127-py3-none-manylinux2014_x86_64.whl (24.6 MB)\n",
            "\u001b[2K   \u001b[90m━━━━━━━━━━━━━━━━━━━━━━━━━━━━━━━━━━━━━━━━\u001b[0m \u001b[32m24.6/24.6 MB\u001b[0m \u001b[31m13.8 MB/s\u001b[0m eta \u001b[36m0:00:00\u001b[0m\n",
            "\u001b[?25hDownloading nvidia_cuda_runtime_cu12-12.4.127-py3-none-manylinux2014_x86_64.whl (883 kB)\n",
            "\u001b[2K   \u001b[90m━━━━━━━━━━━━━━━━━━━━━━━━━━━━━━━━━━━━━━━━\u001b[0m \u001b[32m883.7/883.7 kB\u001b[0m \u001b[31m12.9 MB/s\u001b[0m eta \u001b[36m0:00:00\u001b[0m\n",
            "\u001b[?25hDownloading nvidia_cudnn_cu12-9.1.0.70-py3-none-manylinux2014_x86_64.whl (664.8 MB)\n",
            "\u001b[2K   \u001b[90m━━━━━━━━━━━━━━━━━━━━━━━━━━━━━━━━━━━━━━━━\u001b[0m \u001b[32m664.8/664.8 MB\u001b[0m \u001b[31m1.2 MB/s\u001b[0m eta \u001b[36m0:00:00\u001b[0m\n",
            "\u001b[?25hDownloading nvidia_cufft_cu12-11.2.1.3-py3-none-manylinux2014_x86_64.whl (211.5 MB)\n",
            "\u001b[2K   \u001b[90m━━━━━━━━━━━━━━━━━━━━━━━━━━━━━━━━━━━━━━━━\u001b[0m \u001b[32m211.5/211.5 MB\u001b[0m \u001b[31m3.9 MB/s\u001b[0m eta \u001b[36m0:00:00\u001b[0m\n",
            "\u001b[?25hDownloading nvidia_curand_cu12-10.3.5.147-py3-none-manylinux2014_x86_64.whl (56.3 MB)\n",
            "\u001b[2K   \u001b[90m━━━━━━━━━━━━━━━━━━━━━━━━━━━━━━━━━━━━━━━━\u001b[0m \u001b[32m56.3/56.3 MB\u001b[0m \u001b[31m9.4 MB/s\u001b[0m eta \u001b[36m0:00:00\u001b[0m\n",
            "\u001b[?25hDownloading nvidia_cusolver_cu12-11.6.1.9-py3-none-manylinux2014_x86_64.whl (127.9 MB)\n",
            "\u001b[2K   \u001b[90m━━━━━━━━━━━━━━━━━━━━━━━━━━━━━━━━━━━━━━━━\u001b[0m \u001b[32m127.9/127.9 MB\u001b[0m \u001b[31m7.1 MB/s\u001b[0m eta \u001b[36m0:00:00\u001b[0m\n",
            "\u001b[?25hDownloading nvidia_cusparse_cu12-12.3.1.170-py3-none-manylinux2014_x86_64.whl (207.5 MB)\n",
            "\u001b[2K   \u001b[90m━━━━━━━━━━━━━━━━━━━━━━━━━━━━━━━━━━━━━━━━\u001b[0m \u001b[32m207.5/207.5 MB\u001b[0m \u001b[31m3.6 MB/s\u001b[0m eta \u001b[36m0:00:00\u001b[0m\n",
            "\u001b[?25hDownloading nvidia_nvjitlink_cu12-12.4.127-py3-none-manylinux2014_x86_64.whl (21.1 MB)\n",
            "\u001b[2K   \u001b[90m━━━━━━━━━━━━━━━━━━━━━━━━━━━━━━━━━━━━━━━━\u001b[0m \u001b[32m21.1/21.1 MB\u001b[0m \u001b[31m47.9 MB/s\u001b[0m eta \u001b[36m0:00:00\u001b[0m\n",
            "\u001b[?25hInstalling collected packages: nvidia-nvjitlink-cu12, nvidia-curand-cu12, nvidia-cufft-cu12, nvidia-cuda-runtime-cu12, nvidia-cuda-nvrtc-cu12, nvidia-cuda-cupti-cu12, nvidia-cublas-cu12, nvidia-cusparse-cu12, nvidia-cudnn-cu12, nvidia-cusolver-cu12\n",
            "  Attempting uninstall: nvidia-nvjitlink-cu12\n",
            "    Found existing installation: nvidia-nvjitlink-cu12 12.5.82\n",
            "    Uninstalling nvidia-nvjitlink-cu12-12.5.82:\n",
            "      Successfully uninstalled nvidia-nvjitlink-cu12-12.5.82\n",
            "  Attempting uninstall: nvidia-curand-cu12\n",
            "    Found existing installation: nvidia-curand-cu12 10.3.6.82\n",
            "    Uninstalling nvidia-curand-cu12-10.3.6.82:\n",
            "      Successfully uninstalled nvidia-curand-cu12-10.3.6.82\n",
            "  Attempting uninstall: nvidia-cufft-cu12\n",
            "    Found existing installation: nvidia-cufft-cu12 11.2.3.61\n",
            "    Uninstalling nvidia-cufft-cu12-11.2.3.61:\n",
            "      Successfully uninstalled nvidia-cufft-cu12-11.2.3.61\n",
            "  Attempting uninstall: nvidia-cuda-runtime-cu12\n",
            "    Found existing installation: nvidia-cuda-runtime-cu12 12.5.82\n",
            "    Uninstalling nvidia-cuda-runtime-cu12-12.5.82:\n",
            "      Successfully uninstalled nvidia-cuda-runtime-cu12-12.5.82\n",
            "  Attempting uninstall: nvidia-cuda-nvrtc-cu12\n",
            "    Found existing installation: nvidia-cuda-nvrtc-cu12 12.5.82\n",
            "    Uninstalling nvidia-cuda-nvrtc-cu12-12.5.82:\n",
            "      Successfully uninstalled nvidia-cuda-nvrtc-cu12-12.5.82\n",
            "  Attempting uninstall: nvidia-cuda-cupti-cu12\n",
            "    Found existing installation: nvidia-cuda-cupti-cu12 12.5.82\n",
            "    Uninstalling nvidia-cuda-cupti-cu12-12.5.82:\n",
            "      Successfully uninstalled nvidia-cuda-cupti-cu12-12.5.82\n",
            "  Attempting uninstall: nvidia-cublas-cu12\n",
            "    Found existing installation: nvidia-cublas-cu12 12.5.3.2\n",
            "    Uninstalling nvidia-cublas-cu12-12.5.3.2:\n",
            "      Successfully uninstalled nvidia-cublas-cu12-12.5.3.2\n",
            "  Attempting uninstall: nvidia-cusparse-cu12\n",
            "    Found existing installation: nvidia-cusparse-cu12 12.5.1.3\n",
            "    Uninstalling nvidia-cusparse-cu12-12.5.1.3:\n",
            "      Successfully uninstalled nvidia-cusparse-cu12-12.5.1.3\n",
            "  Attempting uninstall: nvidia-cudnn-cu12\n",
            "    Found existing installation: nvidia-cudnn-cu12 9.3.0.75\n",
            "    Uninstalling nvidia-cudnn-cu12-9.3.0.75:\n",
            "      Successfully uninstalled nvidia-cudnn-cu12-9.3.0.75\n",
            "  Attempting uninstall: nvidia-cusolver-cu12\n",
            "    Found existing installation: nvidia-cusolver-cu12 11.6.3.83\n",
            "    Uninstalling nvidia-cusolver-cu12-11.6.3.83:\n",
            "      Successfully uninstalled nvidia-cusolver-cu12-11.6.3.83\n",
            "Successfully installed nvidia-cublas-cu12-12.4.5.8 nvidia-cuda-cupti-cu12-12.4.127 nvidia-cuda-nvrtc-cu12-12.4.127 nvidia-cuda-runtime-cu12-12.4.127 nvidia-cudnn-cu12-9.1.0.70 nvidia-cufft-cu12-11.2.1.3 nvidia-curand-cu12-10.3.5.147 nvidia-cusolver-cu12-11.6.1.9 nvidia-cusparse-cu12-12.3.1.170 nvidia-nvjitlink-cu12-12.4.127\n"
          ]
        }
      ],
      "source": [
        "#seksi torch di transformers\n",
        "!pip install transformers[torch]"
      ]
    },
    {
      "cell_type": "code",
      "execution_count": null,
      "metadata": {
        "colab": {
          "base_uri": "https://localhost:8080/"
        },
        "id": "rhdHH3p1wcxE",
        "outputId": "72c596d0-f1fc-4838-e4ad-03570537da86"
      },
      "outputs": [
        {
          "output_type": "stream",
          "name": "stdout",
          "text": [
            "Requirement already satisfied: textblob in /usr/local/lib/python3.11/dist-packages (0.19.0)\n",
            "Requirement already satisfied: nltk>=3.9 in /usr/local/lib/python3.11/dist-packages (from textblob) (3.9.1)\n",
            "Requirement already satisfied: click in /usr/local/lib/python3.11/dist-packages (from nltk>=3.9->textblob) (8.1.8)\n",
            "Requirement already satisfied: joblib in /usr/local/lib/python3.11/dist-packages (from nltk>=3.9->textblob) (1.4.2)\n",
            "Requirement already satisfied: regex>=2021.8.3 in /usr/local/lib/python3.11/dist-packages (from nltk>=3.9->textblob) (2024.11.6)\n",
            "Requirement already satisfied: tqdm in /usr/local/lib/python3.11/dist-packages (from nltk>=3.9->textblob) (4.67.1)\n"
          ]
        }
      ],
      "source": [
        "#instalasi textblob\n",
        "!pip install textblob"
      ]
    },
    {
      "cell_type": "code",
      "execution_count": null,
      "metadata": {
        "colab": {
          "base_uri": "https://localhost:8080/"
        },
        "id": "PAENzDNNqTMG",
        "outputId": "394a9f75-af69-489d-8ae5-7f585d113b27"
      },
      "outputs": [
        {
          "output_type": "stream",
          "name": "stdout",
          "text": [
            "Requirement already satisfied: imbalanced-learn in /usr/local/lib/python3.11/dist-packages (0.13.0)\n",
            "Requirement already satisfied: numpy<3,>=1.24.3 in /usr/local/lib/python3.11/dist-packages (from imbalanced-learn) (1.26.4)\n",
            "Requirement already satisfied: scipy<2,>=1.10.1 in /usr/local/lib/python3.11/dist-packages (from imbalanced-learn) (1.13.1)\n",
            "Requirement already satisfied: scikit-learn<2,>=1.3.2 in /usr/local/lib/python3.11/dist-packages (from imbalanced-learn) (1.6.1)\n",
            "Requirement already satisfied: sklearn-compat<1,>=0.1 in /usr/local/lib/python3.11/dist-packages (from imbalanced-learn) (0.1.3)\n",
            "Requirement already satisfied: joblib<2,>=1.1.1 in /usr/local/lib/python3.11/dist-packages (from imbalanced-learn) (1.4.2)\n",
            "Requirement already satisfied: threadpoolctl<4,>=2.0.0 in /usr/local/lib/python3.11/dist-packages (from imbalanced-learn) (3.5.0)\n"
          ]
        }
      ],
      "source": [
        "#Bagian ketidakseimbangan\n",
        "!pip install -U imbalanced-learn"
      ]
    },
    {
      "cell_type": "code",
      "execution_count": null,
      "metadata": {
        "colab": {
          "base_uri": "https://localhost:8080/"
        },
        "id": "uX2rfBhNpYxo",
        "outputId": "1f25cb7c-aebf-4a79-9710-3d594f916de8"
      },
      "outputs": [
        {
          "output_type": "stream",
          "name": "stdout",
          "text": [
            "Collecting git+https://github.com/stavskal/ADASYN\n",
            "  Cloning https://github.com/stavskal/ADASYN to /tmp/pip-req-build-nagbsy5s\n",
            "  Running command git clone --filter=blob:none --quiet https://github.com/stavskal/ADASYN /tmp/pip-req-build-nagbsy5s\n",
            "  Resolved https://github.com/stavskal/ADASYN to commit f6a7ee26a51f18baacaf7b291811c9e9a9097a9f\n",
            "  Preparing metadata (setup.py) ... \u001b[?25l\u001b[?25hdone\n",
            "Requirement already satisfied: numpy in /usr/local/lib/python3.11/dist-packages (from ADASYN==0.1) (1.26.4)\n",
            "Requirement already satisfied: scipy in /usr/local/lib/python3.11/dist-packages (from ADASYN==0.1) (1.13.1)\n",
            "Requirement already satisfied: scikit-learn in /usr/local/lib/python3.11/dist-packages (from ADASYN==0.1) (1.6.1)\n",
            "Requirement already satisfied: joblib>=1.2.0 in /usr/local/lib/python3.11/dist-packages (from scikit-learn->ADASYN==0.1) (1.4.2)\n",
            "Requirement already satisfied: threadpoolctl>=3.1.0 in /usr/local/lib/python3.11/dist-packages (from scikit-learn->ADASYN==0.1) (3.5.0)\n",
            "Building wheels for collected packages: ADASYN\n",
            "  Building wheel for ADASYN (setup.py) ... \u001b[?25l\u001b[?25hdone\n",
            "  Created wheel for ADASYN: filename=ADASYN-0.1-py3-none-any.whl size=1927 sha256=4a00115e8c764a97e3cb99e2aba1a80dd4c36b3b7fa6f036747596db9af10657\n",
            "  Stored in directory: /tmp/pip-ephem-wheel-cache-q6xgjadu/wheels/b8/c2/84/3ee2c404e7cf76df27d3889f30ac494e4f05f8a80036212017\n",
            "Successfully built ADASYN\n",
            "Installing collected packages: ADASYN\n",
            "Successfully installed ADASYN-0.1\n"
          ]
        }
      ],
      "source": [
        "#inisiasi ADASYN\n",
        "!pip install git+https://github.com/stavskal/ADASYN"
      ]
    },
    {
      "cell_type": "markdown",
      "metadata": {
        "id": "cAqsMNos0Yp-"
      },
      "source": [
        "## Inspeksi tambahan"
      ]
    },
    {
      "cell_type": "code",
      "execution_count": null,
      "metadata": {
        "colab": {
          "base_uri": "https://localhost:8080/"
        },
        "id": "6TyMmMVZeGAb",
        "outputId": "68a8055b-9565-4fcf-b758-4292d44fc3b3"
      },
      "outputs": [
        {
          "output_type": "stream",
          "name": "stdout",
          "text": [
            "Requirement already satisfied: imbalanced-learn in /usr/local/lib/python3.11/dist-packages (0.13.0)\n",
            "Requirement already satisfied: scikit-learn in /usr/local/lib/python3.11/dist-packages (1.6.1)\n",
            "Requirement already satisfied: numpy<3,>=1.24.3 in /usr/local/lib/python3.11/dist-packages (from imbalanced-learn) (1.26.4)\n",
            "Requirement already satisfied: scipy<2,>=1.10.1 in /usr/local/lib/python3.11/dist-packages (from imbalanced-learn) (1.13.1)\n",
            "Requirement already satisfied: sklearn-compat<1,>=0.1 in /usr/local/lib/python3.11/dist-packages (from imbalanced-learn) (0.1.3)\n",
            "Requirement already satisfied: joblib<2,>=1.1.1 in /usr/local/lib/python3.11/dist-packages (from imbalanced-learn) (1.4.2)\n",
            "Requirement already satisfied: threadpoolctl<4,>=2.0.0 in /usr/local/lib/python3.11/dist-packages (from imbalanced-learn) (3.5.0)\n"
          ]
        }
      ],
      "source": [
        "#inspeksi ketidakseimbangan\n",
        "!pip install -U imbalanced-learn scikit-learn"
      ]
    },
    {
      "cell_type": "code",
      "execution_count": null,
      "metadata": {
        "colab": {
          "base_uri": "https://localhost:8080/"
        },
        "id": "1SEfmkdDSRIU",
        "outputId": "29796015-ad9c-46a7-cc99-ad13eb195962"
      },
      "outputs": [
        {
          "output_type": "stream",
          "name": "stdout",
          "text": [
            "Requirement already satisfied: scikit-learn in /usr/local/lib/python3.11/dist-packages (1.6.1)\n",
            "Requirement already satisfied: numpy>=1.19.5 in /usr/local/lib/python3.11/dist-packages (from scikit-learn) (1.26.4)\n",
            "Requirement already satisfied: scipy>=1.6.0 in /usr/local/lib/python3.11/dist-packages (from scikit-learn) (1.13.1)\n",
            "Requirement already satisfied: joblib>=1.2.0 in /usr/local/lib/python3.11/dist-packages (from scikit-learn) (1.4.2)\n",
            "Requirement already satisfied: threadpoolctl>=3.1.0 in /usr/local/lib/python3.11/dist-packages (from scikit-learn) (3.5.0)\n"
          ]
        }
      ],
      "source": [
        "#inisiasi Hasting\n",
        "!pip install scikit-learn"
      ]
    },
    {
      "cell_type": "code",
      "execution_count": null,
      "metadata": {
        "colab": {
          "base_uri": "https://localhost:8080/"
        },
        "id": "kPxBVsaB0aGN",
        "outputId": "d103804a-d70c-4d4f-e8cf-b033e6c03fd1"
      },
      "outputs": [
        {
          "output_type": "stream",
          "name": "stdout",
          "text": [
            "Name: tensorflow\n",
            "Version: 2.18.0\n",
            "Summary: TensorFlow is an open source machine learning framework for everyone.\n",
            "Home-page: https://www.tensorflow.org/\n",
            "Author: Google Inc.\n",
            "Author-email: packages@tensorflow.org\n",
            "License: Apache 2.0\n",
            "Location: /usr/local/lib/python3.11/dist-packages\n",
            "Requires: absl-py, astunparse, flatbuffers, gast, google-pasta, grpcio, h5py, keras, libclang, ml-dtypes, numpy, opt-einsum, packaging, protobuf, requests, setuptools, six, tensorboard, tensorflow-io-gcs-filesystem, termcolor, typing-extensions, wrapt\n",
            "Required-by: dopamine_rl, tensorflow-text, tf_keras\n",
            "---\n",
            "Name: keras\n",
            "Version: 3.8.0\n",
            "Summary: Multi-backend Keras\n",
            "Home-page: \n",
            "Author: \n",
            "Author-email: Keras team <keras-users@googlegroups.com>\n",
            "License: Apache License 2.0\n",
            "Location: /usr/local/lib/python3.11/dist-packages\n",
            "Requires: absl-py, h5py, ml-dtypes, namex, numpy, optree, packaging, rich\n",
            "Required-by: tensorflow\n"
          ]
        }
      ],
      "source": [
        "#cek versi tensorflow\n",
        "! pip show tensorflow keras"
      ]
    },
    {
      "cell_type": "markdown",
      "metadata": {
        "id": "xN-IDl-LlRIv"
      },
      "source": [
        "# Impor Perpustakaan"
      ]
    },
    {
      "cell_type": "markdown",
      "metadata": {
        "id": "MQRTlJ7ElTuo"
      },
      "source": [
        "## Bagian 1"
      ]
    },
    {
      "cell_type": "code",
      "execution_count": null,
      "metadata": {
        "colab": {
          "base_uri": "https://localhost:8080/"
        },
        "id": "9qB4XPJ2lUwG",
        "outputId": "3e6aff1a-f642-41b8-cf86-2e5555e74358"
      },
      "outputs": [
        {
          "output_type": "stream",
          "name": "stdout",
          "text": [
            "Mounted at /content/drive\n"
          ]
        }
      ],
      "source": [
        "#akses google drive\n",
        "from google.colab import drive\n",
        "drive.mount('/content/drive')\n",
        "#impor file lokal\n",
        "from google.colab import files"
      ]
    },
    {
      "cell_type": "code",
      "execution_count": null,
      "metadata": {
        "id": "KH3AN4FWldbd"
      },
      "outputs": [],
      "source": [
        "#aspek dasar analisis data\n",
        "import pandas as pd\n",
        "pd.options.mode.chained_assignment = None #pengaturan peringatan 'rantai'\n",
        "#numpy\n",
        "import numpy as np\n",
        "seed = 0 #reprodubilitas\n",
        "np.random.seed(seed)\n",
        "import matplotlib.pyplot as plt\n",
        "import seaborn as sns\n",
        "#penghapusan\n",
        "import gc"
      ]
    },
    {
      "cell_type": "code",
      "execution_count": null,
      "metadata": {
        "id": "YqFor5KZl89u"
      },
      "outputs": [],
      "source": [
        "#Backoff dkk\n",
        "import backoff\n",
        "import requests\n",
        "#bagian io\n",
        "import io"
      ]
    },
    {
      "cell_type": "code",
      "execution_count": null,
      "metadata": {
        "id": "0ICQD3ZmzC9x"
      },
      "outputs": [],
      "source": [
        "#Bagian re IO bentuk string\n",
        "import re\n",
        "#string dan IO string\n",
        "import string\n",
        "from io import StringIO"
      ]
    },
    {
      "cell_type": "code",
      "execution_count": null,
      "metadata": {
        "id": "R4lMgTVSeS3A"
      },
      "outputs": [],
      "source": [
        "#tambahan untuk kluster\n",
        "from sklearn.cluster import KMeans\n",
        "from imblearn.under_sampling import ClusterCentroids\n",
        "from collections import Counter\n",
        "#Kmeans minimal\n",
        "from sklearn.cluster import MiniBatchKMeans\n"
      ]
    },
    {
      "cell_type": "markdown",
      "metadata": {
        "id": "TBGR-LrTld2h"
      },
      "source": [
        "## Bagian 2: tokenisasi"
      ]
    },
    {
      "cell_type": "code",
      "execution_count": null,
      "metadata": {
        "colab": {
          "base_uri": "https://localhost:8080/"
        },
        "id": "InrpvCoDlfvJ",
        "outputId": "d0621c26-3855-4a3c-c160-1f68b55ffd98"
      },
      "outputs": [
        {
          "output_type": "stream",
          "name": "stderr",
          "text": [
            "[nltk_data] Downloading package punkt_tab to /root/nltk_data...\n",
            "[nltk_data]   Unzipping tokenizers/punkt_tab.zip.\n",
            "[nltk_data] Downloading package stopwords to /root/nltk_data...\n",
            "[nltk_data]   Unzipping corpora/stopwords.zip.\n"
          ]
        }
      ],
      "source": [
        "#sastrawi\n",
        "import nltk  # Import pustaka NLTK (Natural Language Toolkit).\n",
        "nltk.download('punkt_tab')  # Mengunduh dataset yang diperlukan untuk tokenisasi teks.\n",
        "nltk.download('stopwords')  # Mengunduh dataset yang berisi daftar kata-kata berhenti (stopwords) dalam berbagai bahasa.\n",
        "from nltk.corpus import stopwords  # Mengimpor modul stopwords dari pustaka NLTK.\n",
        "from nltk.tokenize import word_tokenize  # Mengimpor fungsi word_tokenize dari modul tokenize dalam pustaka NLTK.\n",
        "from nltk.stem.porter import PorterStemmer\n",
        "from nltk.stem import WordNetLemmatizer\n",
        "\n",
        "\n",
        "#impor wordcloud\n",
        "from wordcloud import WordCloud  # Membuat visualisasi berbentuk awan kata (word cloud) dari teks"
      ]
    },
    {
      "cell_type": "code",
      "execution_count": null,
      "metadata": {
        "id": "m11mehO10B37"
      },
      "outputs": [],
      "source": [
        "#stemmer\n",
        "from Sastrawi.Stemmer.StemmerFactory import StemmerFactory #bagian 'stemmer factory'\n",
        "from Sastrawi.StopWordRemover.StopWordRemoverFactory import StopWordRemoverFactory\n",
        "from imblearn.combine import SMOTETomek #SMOTE-Tomek"
      ]
    },
    {
      "cell_type": "code",
      "execution_count": 115,
      "metadata": {
        "id": "hP3rjdWymN6X"
      },
      "outputs": [],
      "source": [
        "#sklearn, modifikasi, dkk\n",
        "from sklearn.feature_extraction.text import CountVectorizer\n",
        "from sklearn.feature_extraction.text import TfidfVectorizer\n",
        "#joblib\n",
        "import joblib\n",
        "#sample minimal\n",
        "from imblearn.under_sampling import RandomUnderSampler"
      ]
    },
    {
      "cell_type": "code",
      "execution_count": null,
      "metadata": {
        "id": "2Us9EHIknHLW"
      },
      "outputs": [],
      "source": [
        "#garis 'pipa'\n",
        "from sklearn.pipeline import Pipeline\n",
        "from imblearn.under_sampling import RandomUnderSampler\n",
        "from imblearn.pipeline import Pipeline as imPipeline"
      ]
    },
    {
      "cell_type": "code",
      "execution_count": null,
      "metadata": {
        "id": "mvSKvv62wOIa"
      },
      "outputs": [],
      "source": [
        "#vader dkk\n",
        "import requests\n",
        "import csv\n",
        "from io import StringIO\n",
        "from textblob import TextBlob\n",
        "from vaderSentiment.vaderSentiment import SentimentIntensityAnalyzer"
      ]
    },
    {
      "cell_type": "markdown",
      "metadata": {
        "id": "IJN4OxtimLba"
      },
      "source": [
        "## Bagian 3: persiapan metode"
      ]
    },
    {
      "cell_type": "code",
      "execution_count": null,
      "metadata": {
        "id": "OLkvy30Hza8R"
      },
      "outputs": [],
      "source": [
        "#tahap multiprocessing\n",
        "import warnings #peringatan\n",
        "import multiprocessing as mp #untuk multiprocessing\n",
        "from multiprocessing import Pool, cpu_count, Manager\n",
        "import joblib #Bagian Joblib\n",
        "#berat data\n",
        "from sklearn.utils.class_weight import compute_sample_weight as csw #inspeksi berat dulu"
      ]
    },
    {
      "cell_type": "code",
      "execution_count": null,
      "metadata": {
        "id": "X7kn7SIhm_ZL"
      },
      "outputs": [],
      "source": [
        "#deklarasi modifikasi\n",
        "from sklearn.svm import SVC\n",
        "from sklearn.ensemble import RandomForestClassifier  as rfclasifi, GradientBoostingClassifier, BaggingClassifier\n",
        "from sklearn.feature_extraction.text import TfidfVectorizer\n",
        "from sklearn.linear_model import LogisticRegression as logrege\n",
        "#ke metrik"
      ]
    },
    {
      "cell_type": "code",
      "execution_count": null,
      "metadata": {
        "id": "y2Gbcyk_nm5p"
      },
      "outputs": [],
      "source": [
        "#persiapan pemisahan sampel melalui pemisahan data dengan 'train test split' dan 'label encoder'\n",
        "from sklearn.model_selection import train_test_split, cross_val_score, GridSearchCV\n",
        "#pelabelan\n",
        "from sklearn.preprocessing import LabelEncoder #untuk SVM\n",
        "#pohon keputusan\n",
        "from sklearn.tree import DecisionTreeClassifier"
      ]
    },
    {
      "cell_type": "code",
      "execution_count": null,
      "metadata": {
        "id": "YY6NktGrncTe"
      },
      "outputs": [],
      "source": [
        "#metrik untuk analisis (akurasi, lenyap/loss, nilai f1, nilai recall)\n",
        "from sklearn import metrics\n",
        "from sklearn import preprocessing\n",
        "from sklearn import model_selection\n",
        "#metrik\n",
        "from sklearn.metrics import precision_score, recall_score, f1_score, confusion_matrix as cmatrix, ConfusionMatrixDisplay as cmatdisp, classification_report as clsfrep\n",
        "from sklearn.metrics import accuracy_score, roc_auc_score, roc_curve, auc, precision_recall_curve"
      ]
    },
    {
      "cell_type": "code",
      "execution_count": null,
      "metadata": {
        "id": "p_RTVCBhgGnd"
      },
      "outputs": [],
      "source": [
        "#laporan klasifikasi\n",
        "from sklearn.datasets import make_classification\n",
        "#modifikais dengan ADASYN\n",
        "from imblearn.over_sampling import SMOTE, ADASYN\n",
        "#teknik SMOTE-Tomek\n",
        "from imblearn.combine import SMOTETomek\n",
        "#SMOTE ENN\n",
        "from imblearn.combine import SMOTEENN"
      ]
    },
    {
      "cell_type": "code",
      "execution_count": null,
      "metadata": {
        "colab": {
          "base_uri": "https://localhost:8080/",
          "height": 52
        },
        "id": "zG7ISSvlKJZY",
        "outputId": "3329b1ae-656c-4b91-9bc2-d6bfd2f25d2c"
      },
      "outputs": [
        {
          "output_type": "execute_result",
          "data": {
            "text/plain": [
              "<Figure size 800x400 with 0 Axes>"
            ]
          },
          "metadata": {},
          "execution_count": 34
        },
        {
          "output_type": "display_data",
          "data": {
            "text/plain": [
              "<Figure size 800x400 with 0 Axes>"
            ]
          },
          "metadata": {}
        }
      ],
      "source": [
        "#deklarasi seaborn\n",
        "sns.set(style='whitegrid', palette='muted', font_scale=1.2)\n",
        "HAPPY_COLORS_PALETTE = [\"#01BEFE\", \"#FFDD00\", \"#FF7D00\", \"#FF006D\", \"#ADFF02\"]\n",
        "sns.set_palette(sns.color_palette(HAPPY_COLORS_PALETTE))\n",
        "plt.figure(figsize=(8, 4))"
      ]
    },
    {
      "cell_type": "markdown",
      "metadata": {
        "id": "Mutw-mG7n8D1"
      },
      "source": [
        "## Bagian 4: metrik uji coba"
      ]
    },
    {
      "cell_type": "code",
      "execution_count": null,
      "metadata": {
        "id": "G7l_JNpjs2W2"
      },
      "outputs": [],
      "source": [
        "#instalasi privat indeksing pribadi\n",
        "from sklearn.utils import _safe_indexing"
      ]
    },
    {
      "cell_type": "code",
      "execution_count": null,
      "metadata": {
        "id": "ZkvIx5KhoSKx"
      },
      "outputs": [],
      "source": [
        "#Pohon keputusan\n",
        "from sklearn.tree import DecisionTreeClassifier"
      ]
    },
    {
      "cell_type": "code",
      "execution_count": null,
      "metadata": {
        "id": "edpg9Kq0zDC2"
      },
      "outputs": [],
      "source": [
        "#pengambilan sampel\n",
        "from imblearn.under_sampling import RandomUnderSampler\n",
        "from imblearn.pipeline import Pipeline as imPipeline\n",
        "from sklearn.pipeline import Pipeline"
      ]
    },
    {
      "cell_type": "code",
      "execution_count": null,
      "metadata": {
        "id": "mGFB9kgfvGsR"
      },
      "outputs": [],
      "source": [
        "#XGBooster: Teknik SVM dengan XGBOOST\n",
        "import xgboost as xgb\n",
        "from xgboost import XGBClassifier\n",
        "from sklearn.inspection import DecisionBoundaryDisplay\n",
        "from sklearn.svm import SVC"
      ]
    },
    {
      "cell_type": "code",
      "execution_count": null,
      "metadata": {
        "colab": {
          "base_uri": "https://localhost:8080/"
        },
        "id": "4JHWlLxvPwGz",
        "outputId": "c97ea9b4-3abc-4fdd-9f15-40bdf905a722"
      },
      "outputs": [
        {
          "output_type": "stream",
          "name": "stderr",
          "text": [
            "[nltk_data] Downloading package wordnet to /root/nltk_data...\n",
            "[nltk_data] Downloading package omw-1.4 to /root/nltk_data...\n"
          ]
        },
        {
          "output_type": "execute_result",
          "data": {
            "text/plain": [
              "True"
            ]
          },
          "metadata": {},
          "execution_count": 39
        }
      ],
      "source": [
        "#tambahan NLTK\n",
        "import nltk\n",
        "nltk.download('wordnet')\n",
        "nltk.download('omw-1.4')"
      ]
    },
    {
      "cell_type": "code",
      "execution_count": null,
      "metadata": {
        "id": "ylY9BlvwvJY4"
      },
      "outputs": [],
      "source": [
        "#proses vektorisasi\n",
        "from sklearn.feature_extraction.text import TfidfVectorizer #Tfid\n",
        "#modifikasi marisa\n",
        "from sklearn.feature_extraction.text import HashingVectorizer #untuk kata-kata\n",
        "from sklearn.feature_extraction.text import CountVectorizer #Count\n",
        "#word 2 doc\n",
        "from gensim.models import Word2Vec #word2vec\n",
        "#Transformasi kata\n",
        "from gensim.models import FastText"
      ]
    },
    {
      "cell_type": "markdown",
      "metadata": {
        "id": "-QLMHGAPlVcw"
      },
      "source": [
        "# Pengunduhan kembali csv"
      ]
    },
    {
      "cell_type": "markdown",
      "metadata": {
        "id": "KArPmHe7m1mX"
      },
      "source": [
        "## tahap 'upload' berkas"
      ]
    },
    {
      "cell_type": "code",
      "execution_count": null,
      "metadata": {
        "colab": {
          "base_uri": "https://localhost:8080/",
          "height": 73
        },
        "id": "rTN-tCq6lX-t",
        "outputId": "daced0fa-95df-47e6-e19f-81727be4495e"
      },
      "outputs": [
        {
          "output_type": "display_data",
          "data": {
            "text/plain": [
              "<IPython.core.display.HTML object>"
            ],
            "text/html": [
              "\n",
              "     <input type=\"file\" id=\"files-a5078ced-06f9-40ff-ae89-d04930281a39\" name=\"files[]\" multiple disabled\n",
              "        style=\"border:none\" />\n",
              "     <output id=\"result-a5078ced-06f9-40ff-ae89-d04930281a39\">\n",
              "      Upload widget is only available when the cell has been executed in the\n",
              "      current browser session. Please rerun this cell to enable.\n",
              "      </output>\n",
              "      <script>// Copyright 2017 Google LLC\n",
              "//\n",
              "// Licensed under the Apache License, Version 2.0 (the \"License\");\n",
              "// you may not use this file except in compliance with the License.\n",
              "// You may obtain a copy of the License at\n",
              "//\n",
              "//      http://www.apache.org/licenses/LICENSE-2.0\n",
              "//\n",
              "// Unless required by applicable law or agreed to in writing, software\n",
              "// distributed under the License is distributed on an \"AS IS\" BASIS,\n",
              "// WITHOUT WARRANTIES OR CONDITIONS OF ANY KIND, either express or implied.\n",
              "// See the License for the specific language governing permissions and\n",
              "// limitations under the License.\n",
              "\n",
              "/**\n",
              " * @fileoverview Helpers for google.colab Python module.\n",
              " */\n",
              "(function(scope) {\n",
              "function span(text, styleAttributes = {}) {\n",
              "  const element = document.createElement('span');\n",
              "  element.textContent = text;\n",
              "  for (const key of Object.keys(styleAttributes)) {\n",
              "    element.style[key] = styleAttributes[key];\n",
              "  }\n",
              "  return element;\n",
              "}\n",
              "\n",
              "// Max number of bytes which will be uploaded at a time.\n",
              "const MAX_PAYLOAD_SIZE = 100 * 1024;\n",
              "\n",
              "function _uploadFiles(inputId, outputId) {\n",
              "  const steps = uploadFilesStep(inputId, outputId);\n",
              "  const outputElement = document.getElementById(outputId);\n",
              "  // Cache steps on the outputElement to make it available for the next call\n",
              "  // to uploadFilesContinue from Python.\n",
              "  outputElement.steps = steps;\n",
              "\n",
              "  return _uploadFilesContinue(outputId);\n",
              "}\n",
              "\n",
              "// This is roughly an async generator (not supported in the browser yet),\n",
              "// where there are multiple asynchronous steps and the Python side is going\n",
              "// to poll for completion of each step.\n",
              "// This uses a Promise to block the python side on completion of each step,\n",
              "// then passes the result of the previous step as the input to the next step.\n",
              "function _uploadFilesContinue(outputId) {\n",
              "  const outputElement = document.getElementById(outputId);\n",
              "  const steps = outputElement.steps;\n",
              "\n",
              "  const next = steps.next(outputElement.lastPromiseValue);\n",
              "  return Promise.resolve(next.value.promise).then((value) => {\n",
              "    // Cache the last promise value to make it available to the next\n",
              "    // step of the generator.\n",
              "    outputElement.lastPromiseValue = value;\n",
              "    return next.value.response;\n",
              "  });\n",
              "}\n",
              "\n",
              "/**\n",
              " * Generator function which is called between each async step of the upload\n",
              " * process.\n",
              " * @param {string} inputId Element ID of the input file picker element.\n",
              " * @param {string} outputId Element ID of the output display.\n",
              " * @return {!Iterable<!Object>} Iterable of next steps.\n",
              " */\n",
              "function* uploadFilesStep(inputId, outputId) {\n",
              "  const inputElement = document.getElementById(inputId);\n",
              "  inputElement.disabled = false;\n",
              "\n",
              "  const outputElement = document.getElementById(outputId);\n",
              "  outputElement.innerHTML = '';\n",
              "\n",
              "  const pickedPromise = new Promise((resolve) => {\n",
              "    inputElement.addEventListener('change', (e) => {\n",
              "      resolve(e.target.files);\n",
              "    });\n",
              "  });\n",
              "\n",
              "  const cancel = document.createElement('button');\n",
              "  inputElement.parentElement.appendChild(cancel);\n",
              "  cancel.textContent = 'Cancel upload';\n",
              "  const cancelPromise = new Promise((resolve) => {\n",
              "    cancel.onclick = () => {\n",
              "      resolve(null);\n",
              "    };\n",
              "  });\n",
              "\n",
              "  // Wait for the user to pick the files.\n",
              "  const files = yield {\n",
              "    promise: Promise.race([pickedPromise, cancelPromise]),\n",
              "    response: {\n",
              "      action: 'starting',\n",
              "    }\n",
              "  };\n",
              "\n",
              "  cancel.remove();\n",
              "\n",
              "  // Disable the input element since further picks are not allowed.\n",
              "  inputElement.disabled = true;\n",
              "\n",
              "  if (!files) {\n",
              "    return {\n",
              "      response: {\n",
              "        action: 'complete',\n",
              "      }\n",
              "    };\n",
              "  }\n",
              "\n",
              "  for (const file of files) {\n",
              "    const li = document.createElement('li');\n",
              "    li.append(span(file.name, {fontWeight: 'bold'}));\n",
              "    li.append(span(\n",
              "        `(${file.type || 'n/a'}) - ${file.size} bytes, ` +\n",
              "        `last modified: ${\n",
              "            file.lastModifiedDate ? file.lastModifiedDate.toLocaleDateString() :\n",
              "                                    'n/a'} - `));\n",
              "    const percent = span('0% done');\n",
              "    li.appendChild(percent);\n",
              "\n",
              "    outputElement.appendChild(li);\n",
              "\n",
              "    const fileDataPromise = new Promise((resolve) => {\n",
              "      const reader = new FileReader();\n",
              "      reader.onload = (e) => {\n",
              "        resolve(e.target.result);\n",
              "      };\n",
              "      reader.readAsArrayBuffer(file);\n",
              "    });\n",
              "    // Wait for the data to be ready.\n",
              "    let fileData = yield {\n",
              "      promise: fileDataPromise,\n",
              "      response: {\n",
              "        action: 'continue',\n",
              "      }\n",
              "    };\n",
              "\n",
              "    // Use a chunked sending to avoid message size limits. See b/62115660.\n",
              "    let position = 0;\n",
              "    do {\n",
              "      const length = Math.min(fileData.byteLength - position, MAX_PAYLOAD_SIZE);\n",
              "      const chunk = new Uint8Array(fileData, position, length);\n",
              "      position += length;\n",
              "\n",
              "      const base64 = btoa(String.fromCharCode.apply(null, chunk));\n",
              "      yield {\n",
              "        response: {\n",
              "          action: 'append',\n",
              "          file: file.name,\n",
              "          data: base64,\n",
              "        },\n",
              "      };\n",
              "\n",
              "      let percentDone = fileData.byteLength === 0 ?\n",
              "          100 :\n",
              "          Math.round((position / fileData.byteLength) * 100);\n",
              "      percent.textContent = `${percentDone}% done`;\n",
              "\n",
              "    } while (position < fileData.byteLength);\n",
              "  }\n",
              "\n",
              "  // All done.\n",
              "  yield {\n",
              "    response: {\n",
              "      action: 'complete',\n",
              "    }\n",
              "  };\n",
              "}\n",
              "\n",
              "scope.google = scope.google || {};\n",
              "scope.google.colab = scope.google.colab || {};\n",
              "scope.google.colab._files = {\n",
              "  _uploadFiles,\n",
              "  _uploadFilesContinue,\n",
              "};\n",
              "})(self);\n",
              "</script> "
            ]
          },
          "metadata": {}
        },
        {
          "output_type": "stream",
          "name": "stdout",
          "text": [
            "Saving hoyo-analysis-en.csv to hoyo-analysis-en.csv\n"
          ]
        }
      ],
      "source": [
        "#unduh kembali csv untuk analisis\n",
        "uploaded = files.upload()"
      ]
    },
    {
      "cell_type": "code",
      "execution_count": null,
      "metadata": {
        "colab": {
          "base_uri": "https://localhost:8080/"
        },
        "id": "X_cmD6GympLx",
        "outputId": "ab09c859-a1bc-4b6c-beb9-41aa751f6d3d"
      },
      "outputs": [
        {
          "output_type": "stream",
          "name": "stdout",
          "text": [
            "<class 'pandas.core.frame.DataFrame'>\n",
            "RangeIndex: 118422 entries, 0 to 118421\n",
            "Data columns (total 8 columns):\n",
            " #   Column         Non-Null Count   Dtype \n",
            "---  ------         --------------   ----- \n",
            " 0   Unnamed: 0     118422 non-null  int64 \n",
            " 1   reviewId       118422 non-null  object\n",
            " 2   userName       118420 non-null  object\n",
            " 3   userImage      118422 non-null  object\n",
            " 4   score          118422 non-null  int64 \n",
            " 5   thumbsUpCount  118422 non-null  int64 \n",
            " 6   app_id         118422 non-null  object\n",
            " 7   content        118421 non-null  object\n",
            "dtypes: int64(3), object(5)\n",
            "memory usage: 7.2+ MB\n",
            "None\n"
          ]
        }
      ],
      "source": [
        "#inspeksi df hasil ekstraksi\n",
        "df1 = pd.read_csv('hoyo-analysis-en.csv')\n",
        "df2 = df1.copy()\n",
        "#informasi tentang 'df2'\n",
        "inf1 = df2.info() #lihat hasil\n",
        "print(inf1)"
      ]
    },
    {
      "cell_type": "markdown",
      "metadata": {
        "id": "vECFoKRsmyWb"
      },
      "source": [
        "## Inisiasi pengambilan data dan pembersihan"
      ]
    },
    {
      "cell_type": "code",
      "execution_count": null,
      "metadata": {
        "colab": {
          "base_uri": "https://localhost:8080/"
        },
        "id": "ksos4dZxmx8X",
        "outputId": "d8739d93-3303-4948-bbc2-ebeeca15ef31"
      },
      "outputs": [
        {
          "output_type": "stream",
          "name": "stdout",
          "text": [
            "<class 'pandas.core.frame.DataFrame'>\n",
            "RangeIndex: 118422 entries, 0 to 118421\n",
            "Data columns (total 7 columns):\n",
            " #   Column         Non-Null Count   Dtype \n",
            "---  ------         --------------   ----- \n",
            " 0   reviewId       118422 non-null  object\n",
            " 1   userName       118420 non-null  object\n",
            " 2   userImage      118422 non-null  object\n",
            " 3   score          118422 non-null  int64 \n",
            " 4   thumbsUpCount  118422 non-null  int64 \n",
            " 5   app_id         118422 non-null  object\n",
            " 6   content        118421 non-null  object\n",
            "dtypes: int64(2), object(5)\n",
            "memory usage: 6.3+ MB\n",
            "None\n"
          ]
        }
      ],
      "source": [
        "#hapus kolom ke 0\n",
        "df2.drop(df2.columns[0], axis=1, inplace=True)\n",
        "#informasi pasca penghapusan\n",
        "inf2 = df2.info()\n",
        "print(inf2)"
      ]
    },
    {
      "cell_type": "code",
      "execution_count": null,
      "metadata": {
        "colab": {
          "base_uri": "https://localhost:8080/"
        },
        "id": "lplD4UPiwuY2",
        "outputId": "82e8219d-4dcb-4232-92bd-cc3da2357dbc"
      },
      "outputs": [
        {
          "output_type": "stream",
          "name": "stdout",
          "text": [
            "<class 'pandas.core.frame.DataFrame'>\n",
            "RangeIndex: 118422 entries, 0 to 118421\n",
            "Data columns (total 7 columns):\n",
            " #   Column         Non-Null Count   Dtype \n",
            "---  ------         --------------   ----- \n",
            " 0   reviewId       118422 non-null  object\n",
            " 1   userName       118422 non-null  object\n",
            " 2   userImage      118422 non-null  object\n",
            " 3   score          118422 non-null  int64 \n",
            " 4   thumbsUpCount  118422 non-null  int64 \n",
            " 5   app_id         118422 non-null  object\n",
            " 6   content        118421 non-null  object\n",
            "dtypes: int64(2), object(5)\n",
            "memory usage: 6.3+ MB\n",
            "None\n"
          ]
        }
      ],
      "source": [
        "#pengisian nama pengguna kosong\n",
        "df2['userName'] = df2['userName'].fillna('unknown') #tanpa nama\n",
        "#informasi pasca pengisian\n",
        "inf2b = df2.info()\n",
        "print(inf2b)"
      ]
    },
    {
      "cell_type": "code",
      "execution_count": null,
      "metadata": {
        "colab": {
          "base_uri": "https://localhost:8080/"
        },
        "id": "j6hSw1b4xPBw",
        "outputId": "4dcc68e6-0af4-4132-805a-ef071009b3c3"
      },
      "outputs": [
        {
          "output_type": "stream",
          "name": "stdout",
          "text": [
            "<class 'pandas.core.frame.DataFrame'>\n",
            "RangeIndex: 118422 entries, 0 to 118421\n",
            "Data columns (total 7 columns):\n",
            " #   Column         Non-Null Count   Dtype \n",
            "---  ------         --------------   ----- \n",
            " 0   reviewId       118422 non-null  object\n",
            " 1   userName       118422 non-null  object\n",
            " 2   userImage      118422 non-null  object\n",
            " 3   score          118422 non-null  int64 \n",
            " 4   thumbsUpCount  118422 non-null  int64 \n",
            " 5   app_id         118422 non-null  object\n",
            " 6   content        118422 non-null  object\n",
            "dtypes: int64(2), object(5)\n",
            "memory usage: 6.3+ MB\n",
            "None\n"
          ]
        }
      ],
      "source": [
        "#pengisian tanpa konten\n",
        "df2['content'] = df2['content'].fillna('no message') #tanpa pesan\n",
        "#informasi pasca pengisian\n",
        "inf2c = df2.info()\n",
        "print(inf2c)"
      ]
    },
    {
      "cell_type": "markdown",
      "metadata": {
        "id": "nt0k-tOKyeSa"
      },
      "source": [
        "## Pengambilan kolom penting"
      ]
    },
    {
      "cell_type": "code",
      "execution_count": null,
      "metadata": {
        "colab": {
          "base_uri": "https://localhost:8080/"
        },
        "id": "wcp61z1WygMj",
        "outputId": "dec927cd-320c-475a-a1ad-253fb6734591"
      },
      "outputs": [
        {
          "output_type": "stream",
          "name": "stdout",
          "text": [
            "<class 'pandas.core.frame.DataFrame'>\n",
            "RangeIndex: 118422 entries, 0 to 118421\n",
            "Data columns (total 6 columns):\n",
            " #   Column         Non-Null Count   Dtype \n",
            "---  ------         --------------   ----- \n",
            " 0   userName       118422 non-null  object\n",
            " 1   userImage      118422 non-null  object\n",
            " 2   score          118422 non-null  int64 \n",
            " 3   thumbsUpCount  118422 non-null  int64 \n",
            " 4   app_id         118422 non-null  object\n",
            " 5   content        118422 non-null  object\n",
            "dtypes: int64(2), object(4)\n",
            "memory usage: 5.4+ MB\n",
            "None\n"
          ]
        }
      ],
      "source": [
        "#pengambilan kolom selain kolom ke-1\n",
        "df3 = df2.iloc[:,[1,2,3,4,5,6]].copy()\n",
        "#informasi\n",
        "inf3 = df3.info()\n",
        "print(inf3)"
      ]
    },
    {
      "cell_type": "markdown",
      "metadata": {
        "id": "rQltCPLKyuWE"
      },
      "source": [
        "#Pengaturan kata-kata bahasa inggris"
      ]
    },
    {
      "cell_type": "markdown",
      "metadata": {
        "id": "SLt58OV5yxTM"
      },
      "source": [
        "## Fungsi awal"
      ]
    },
    {
      "cell_type": "code",
      "execution_count": null,
      "metadata": {
        "colab": {
          "base_uri": "https://localhost:8080/"
        },
        "id": "yVgE8XQE4FzL",
        "outputId": "314587b1-0e5f-4f3d-9c6f-be04e67fdaca"
      },
      "outputs": [
        {
          "output_type": "execute_result",
          "data": {
            "text/plain": [
              "0"
            ]
          },
          "metadata": {},
          "execution_count": 47
        }
      ],
      "source": [
        "#instalasi gc\n",
        "gc.collect()"
      ]
    },
    {
      "cell_type": "code",
      "execution_count": null,
      "metadata": {
        "id": "XoOlF-BIyxAy"
      },
      "outputs": [],
      "source": [
        "#kumpulan fungsi pembersih\n",
        "def textcleaner (text): #Tahap 1\n",
        "   text = re.sub(r'@[A-Za-z0-9]+', '', text) #penghilangan tanda at\n",
        "   text = re.sub(r'#[A-Za-z0-9]+', '', text) #penghilangan tanda pagar\n",
        "   text = re.sub(r'RT[\\s]', '', text) #Bagian RE\n",
        "   text = re.sub(r\"http\\S+\", '', text) #Bagian penetralan HTTP\n",
        "   text = re.sub(r'[0-9]+', '', text)\n",
        "   text = re.sub(r'[^\\w\\s]', '', text)\n",
        "\n",
        "   text = text.replace('\\n', ' ')\n",
        "   text = text.translate(str.maketrans('', '', string.punctuation))\n",
        "   text = text.strip(' ')\n",
        "   return text\n",
        "#konversi ke huruf kecil dan 'tokenisasi'\n",
        "def casefoldingText(text): # Konversi ke kata kecil\n",
        "    text = text.lower()\n",
        "    return text\n",
        "\n",
        "def tokenizingText(text): # Tokenisasi\n",
        "    text = word_tokenize(text)\n",
        "    return text\n",
        "#ke 'lemetisasi'"
      ]
    },
    {
      "cell_type": "code",
      "execution_count": null,
      "metadata": {
        "id": "0OJSuKh0POxr"
      },
      "outputs": [],
      "source": [
        "#Lemetisasi\n",
        "def lemmatizingText(words):\n",
        "    lemmatizer = WordNetLemmatizer()\n",
        "    return [lemmatizer.lemmatize(word) for word in words]"
      ]
    },
    {
      "cell_type": "code",
      "execution_count": null,
      "metadata": {
        "id": "iWxR0tpTzjwB"
      },
      "outputs": [],
      "source": [
        "# Bagian 2: bagian penyaringan dan 'stemming' penyaringan\n",
        "def textfilter(text):\n",
        "    # Deklarasi stopword id dan en\n",
        "    listStopwordsid = set(stopwords.words('indonesian'))\n",
        "    listStopwordsen = set(stopwords.words('english'))\n",
        "\n",
        "    # Combine both sets into one\n",
        "    listStopwords = listStopwordsid.union(listStopwordsen)  # Digabung\n",
        "\n",
        "    filtrat = []\n",
        "    for txt in text:\n",
        "        if txt.lower() not in listStopwords:  # Meminimalkan hasil salah\n",
        "            filtrat.append(txt)\n",
        "\n",
        "    return filtrat\n",
        "\n",
        "# Tahap stemming\n",
        "def textstemmer(text):\n",
        "    factory = StemmerFactory()\n",
        "    stemmer = factory.create_stemmer()\n",
        "\n",
        "    words = text.split()\n",
        "    stemmed_words = [stemmer.stem(word) for word in words]\n",
        "\n",
        "    stemmed_text = ' '.join(stemmed_words)\n",
        "\n",
        "    return stemmed_text\n",
        "\n",
        "def sentencerer(list_words):\n",
        "    sentence = ' '.join(str(word) for word in list_words)\n",
        "    return sentence"
      ]
    },
    {
      "cell_type": "code",
      "execution_count": null,
      "metadata": {
        "id": "qG2PaX7e1xWv"
      },
      "outputs": [],
      "source": [
        "#Bagian 2a. persiapan kamus gaul en\n",
        "def load_slang_dictionary():\n",
        "    # Daftar kamus Gaul\n",
        "    url_original = \"https://raw.githubusercontent.com/Ashpex/Slang-Word/refs/heads/master/original.txt\"\n",
        "    url_slang = \"https://raw.githubusercontent.com/Ashpex/Slang-Word/master/slang.txt\"\n",
        "\n",
        "    # Pengunduhan kata-kata kotor\n",
        "    response_original = requests.get(url_original)\n",
        "    original_words = response_original.text.splitlines()\n",
        "\n",
        "    # Impor kata-kata\n",
        "    response_slang = requests.get(url_slang)\n",
        "    slang_words = response_slang.text.splitlines()\n",
        "\n",
        "    # Pembuatan kamus\n",
        "    slang_dict = {}\n",
        "\n",
        "    for original, slang in zip(original_words, slang_words):\n",
        "        slang_dict[slang.strip().lower()] = original.strip()\n",
        "\n",
        "    return slang_dict"
      ]
    },
    {
      "cell_type": "code",
      "execution_count": null,
      "metadata": {
        "id": "dky3yMVJ179c"
      },
      "outputs": [],
      "source": [
        "#deklarasi hasil kamus\n",
        "kamus_gaul = load_slang_dictionary()"
      ]
    },
    {
      "cell_type": "code",
      "execution_count": null,
      "metadata": {
        "id": "fuptj9Ne0klX"
      },
      "outputs": [],
      "source": [
        "#Bagian 3: manajemen kata-kata gaul\n",
        "def slangfixer(text): #tolong pakai etika ya\n",
        "    words = text.split()\n",
        "    fixed_words = []\n",
        "\n",
        "    for word in words:\n",
        "        if word.lower() in kamus_gaul:\n",
        "            fixed_words.append(kamus_gaul[word.lower()])\n",
        "        else:\n",
        "            fixed_words.append(word)\n",
        "\n",
        "    fixed_text = ' '.join(fixed_words)\n",
        "    return fixed_text"
      ]
    },
    {
      "cell_type": "markdown",
      "metadata": {
        "id": "tz8gZVaa2biq"
      },
      "source": [
        "## Pengaturan fungsi"
      ]
    },
    {
      "cell_type": "code",
      "execution_count": null,
      "metadata": {
        "colab": {
          "base_uri": "https://localhost:8080/"
        },
        "id": "iMsh8soeaylx",
        "outputId": "9f9b20ae-8a3c-4491-e520-68546bfa31a3"
      },
      "outputs": [
        {
          "output_type": "execute_result",
          "data": {
            "text/plain": [
              "0"
            ]
          },
          "metadata": {},
          "execution_count": 54
        }
      ],
      "source": [
        "#penyetelan gc\n",
        "gc.collect()"
      ]
    },
    {
      "cell_type": "code",
      "execution_count": null,
      "metadata": {
        "id": "W8Ab8g6o2dCa"
      },
      "outputs": [],
      "source": [
        "#proses pembersihan\n",
        "dfkopitungk = df3.copy() #hindari penulisan ulang\n",
        "#eksekusi tahap 1\n",
        "dfkopitungk['bersih'] = dfkopitungk['content'].apply(textcleaner) #pembersihan kata-kata\n",
        "#tahap 'casefolding'\n",
        "dfkopitungk['casefolding'] = dfkopitungk['bersih'].apply(casefoldingText) #tahap case folding\n",
        "#formalitas data\n",
        "dfkopitungk['sopan'] = dfkopitungk['casefolding'].apply(slangfixer) #perbaikan etika\n",
        "#proses pemecahan atau 'tokenisasi'\n",
        "dfkopitungk['token'] = dfkopitungk['sopan'].apply(tokenizingText) #fragmentasi kata-kata\n",
        "#lemetisasi\n",
        "dfkopitungk['lemetisasi'] = dfkopitungk['token'].apply(lemmatizingText)\n",
        "#inisiasi stopword\n",
        "dfkopitungk['stopword'] = dfkopitungk['lemetisasi'].apply(textfilter)#tahap stopword\n",
        "#tahap akhir\n",
        "dfkopitungk['final'] = dfkopitungk['stopword'].apply(sentencerer) #penggabungan kata-kata\n",
        "#cek hasil"
      ]
    },
    {
      "cell_type": "code",
      "execution_count": null,
      "metadata": {
        "colab": {
          "base_uri": "https://localhost:8080/",
          "height": 685
        },
        "id": "PReYQ72J27vr",
        "outputId": "548547b8-a189-4f9d-f421-59fbdbb48ee2"
      },
      "outputs": [
        {
          "output_type": "execute_result",
          "data": {
            "text/plain": [
              "           userName                                          userImage  score  \\\n",
              "0             Elyse  https://play-lh.googleusercontent.com/a-/ALV-U...      1   \n",
              "1               J T  https://play-lh.googleusercontent.com/a-/ALV-U...      1   \n",
              "2      Sarah Sarina  https://play-lh.googleusercontent.com/a-/ALV-U...      3   \n",
              "3  Anonymous Secret  https://play-lh.googleusercontent.com/a-/ALV-U...      4   \n",
              "4      Salma Dassar  https://play-lh.googleusercontent.com/a-/ALV-U...      1   \n",
              "5               Alr  https://play-lh.googleusercontent.com/a-/ALV-U...      5   \n",
              "6       Ariel Zheng  https://play-lh.googleusercontent.com/a-/ALV-U...      5   \n",
              "\n",
              "   thumbsUpCount              app_id  \\\n",
              "0              0  com.miHoYo.tot.glb   \n",
              "1              3  com.miHoYo.tot.glb   \n",
              "2              1  com.miHoYo.tot.glb   \n",
              "3              0  com.miHoYo.tot.glb   \n",
              "4              1  com.miHoYo.tot.glb   \n",
              "5              0  com.miHoYo.tot.glb   \n",
              "6              3  com.miHoYo.tot.glb   \n",
              "\n",
              "                                             content  \\\n",
              "0  GIVE ME BACK MY ACCOUNTTTTT IVE BEEN INACTIVE ...   \n",
              "1  Still love the game However I can't login for ...   \n",
              "2  Honestly, I had been playing this game for alm...   \n",
              "3  Please let us reread/play our previous sweet c...   \n",
              "4                              It keeps crashing !!!   \n",
              "5                               Artem is malewife fr   \n",
              "6  I've had this game ever since it first launche...   \n",
              "\n",
              "                                              bersih  \\\n",
              "0  GIVE ME BACK MY ACCOUNTTTTT IVE BEEN INACTIVE ...   \n",
              "1  Still love the game However I cant login for s...   \n",
              "2  Honestly I had been playing this game for almo...   \n",
              "3  Please let us rereadplay our previous sweet ch...   \n",
              "4                                  It keeps crashing   \n",
              "5                               Artem is malewife fr   \n",
              "6  Ive had this game ever since it first launched...   \n",
              "\n",
              "                                         casefolding  \\\n",
              "0  give me back my accounttttt ive been inactive ...   \n",
              "1  still love the game however i cant login for s...   \n",
              "2  honestly i had been playing this game for almo...   \n",
              "3  please let us rereadplay our previous sweet ch...   \n",
              "4                                  it keeps crashing   \n",
              "5                               artem is malewife fr   \n",
              "6  ive had this game ever since it first launched...   \n",
              "\n",
              "                                               sopan  \\\n",
              "0  give me back my accounttttt ive been inactive ...   \n",
              "1  still love the game however i cant login for s...   \n",
              "2  honestly i had been playing this game for almo...   \n",
              "3  please let us rereadplay our previous sweet ch...   \n",
              "4                                  it keeps crashing   \n",
              "5                               artem is malewife fr   \n",
              "6  ive had this game ever since it first launched...   \n",
              "\n",
              "                                               token  \\\n",
              "0  [give, me, back, my, accounttttt, ive, been, i...   \n",
              "1  [still, love, the, game, however, i, cant, log...   \n",
              "2  [honestly, i, had, been, playing, this, game, ...   \n",
              "3  [please, let, us, rereadplay, our, previous, s...   \n",
              "4                              [it, keeps, crashing]   \n",
              "5                          [artem, is, malewife, fr]   \n",
              "6  [ive, had, this, game, ever, since, it, first,...   \n",
              "\n",
              "                                          lemetisasi  \\\n",
              "0  [give, me, back, my, accounttttt, ive, been, i...   \n",
              "1  [still, love, the, game, however, i, cant, log...   \n",
              "2  [honestly, i, had, been, playing, this, game, ...   \n",
              "3  [please, let, u, rereadplay, our, previous, sw...   \n",
              "4                               [it, keep, crashing]   \n",
              "5                          [artem, is, malewife, fr]   \n",
              "6  [ive, had, this, game, ever, since, it, first,...   \n",
              "\n",
              "                                            stopword  \\\n",
              "0  [give, back, accounttttt, ive, inactive, month...   \n",
              "1  [still, love, game, however, cant, login, reas...   \n",
              "2  [honestly, playing, game, almost, year, always...   \n",
              "3  [please, let, u, rereadplay, previous, sweet, ...   \n",
              "4                                   [keep, crashing]   \n",
              "5                              [artem, malewife, fr]   \n",
              "6  [ive, game, ever, since, first, launched, toda...   \n",
              "\n",
              "                                               final  \n",
              "0  give back accounttttt ive inactive month due w...  \n",
              "1  still love game however cant login reason isnt...  \n",
              "2  honestly playing game almost year always unluc...  \n",
              "3     please let u rereadplay previous sweet chapter  \n",
              "4                                      keep crashing  \n",
              "5                                  artem malewife fr  \n",
              "6  ive game ever since first launched today dawne...  "
            ],
            "text/html": [
              "\n",
              "  <div id=\"df-ee9a4f26-c365-4f6f-8a65-1489416e4d3d\" class=\"colab-df-container\">\n",
              "    <div>\n",
              "<style scoped>\n",
              "    .dataframe tbody tr th:only-of-type {\n",
              "        vertical-align: middle;\n",
              "    }\n",
              "\n",
              "    .dataframe tbody tr th {\n",
              "        vertical-align: top;\n",
              "    }\n",
              "\n",
              "    .dataframe thead th {\n",
              "        text-align: right;\n",
              "    }\n",
              "</style>\n",
              "<table border=\"1\" class=\"dataframe\">\n",
              "  <thead>\n",
              "    <tr style=\"text-align: right;\">\n",
              "      <th></th>\n",
              "      <th>userName</th>\n",
              "      <th>userImage</th>\n",
              "      <th>score</th>\n",
              "      <th>thumbsUpCount</th>\n",
              "      <th>app_id</th>\n",
              "      <th>content</th>\n",
              "      <th>bersih</th>\n",
              "      <th>casefolding</th>\n",
              "      <th>sopan</th>\n",
              "      <th>token</th>\n",
              "      <th>lemetisasi</th>\n",
              "      <th>stopword</th>\n",
              "      <th>final</th>\n",
              "    </tr>\n",
              "  </thead>\n",
              "  <tbody>\n",
              "    <tr>\n",
              "      <th>0</th>\n",
              "      <td>Elyse</td>\n",
              "      <td>https://play-lh.googleusercontent.com/a-/ALV-U...</td>\n",
              "      <td>1</td>\n",
              "      <td>0</td>\n",
              "      <td>com.miHoYo.tot.glb</td>\n",
              "      <td>GIVE ME BACK MY ACCOUNTTTTT IVE BEEN INACTIVE ...</td>\n",
              "      <td>GIVE ME BACK MY ACCOUNTTTTT IVE BEEN INACTIVE ...</td>\n",
              "      <td>give me back my accounttttt ive been inactive ...</td>\n",
              "      <td>give me back my accounttttt ive been inactive ...</td>\n",
              "      <td>[give, me, back, my, accounttttt, ive, been, i...</td>\n",
              "      <td>[give, me, back, my, accounttttt, ive, been, i...</td>\n",
              "      <td>[give, back, accounttttt, ive, inactive, month...</td>\n",
              "      <td>give back accounttttt ive inactive month due w...</td>\n",
              "    </tr>\n",
              "    <tr>\n",
              "      <th>1</th>\n",
              "      <td>J T</td>\n",
              "      <td>https://play-lh.googleusercontent.com/a-/ALV-U...</td>\n",
              "      <td>1</td>\n",
              "      <td>3</td>\n",
              "      <td>com.miHoYo.tot.glb</td>\n",
              "      <td>Still love the game However I can't login for ...</td>\n",
              "      <td>Still love the game However I cant login for s...</td>\n",
              "      <td>still love the game however i cant login for s...</td>\n",
              "      <td>still love the game however i cant login for s...</td>\n",
              "      <td>[still, love, the, game, however, i, cant, log...</td>\n",
              "      <td>[still, love, the, game, however, i, cant, log...</td>\n",
              "      <td>[still, love, game, however, cant, login, reas...</td>\n",
              "      <td>still love game however cant login reason isnt...</td>\n",
              "    </tr>\n",
              "    <tr>\n",
              "      <th>2</th>\n",
              "      <td>Sarah Sarina</td>\n",
              "      <td>https://play-lh.googleusercontent.com/a-/ALV-U...</td>\n",
              "      <td>3</td>\n",
              "      <td>1</td>\n",
              "      <td>com.miHoYo.tot.glb</td>\n",
              "      <td>Honestly, I had been playing this game for alm...</td>\n",
              "      <td>Honestly I had been playing this game for almo...</td>\n",
              "      <td>honestly i had been playing this game for almo...</td>\n",
              "      <td>honestly i had been playing this game for almo...</td>\n",
              "      <td>[honestly, i, had, been, playing, this, game, ...</td>\n",
              "      <td>[honestly, i, had, been, playing, this, game, ...</td>\n",
              "      <td>[honestly, playing, game, almost, year, always...</td>\n",
              "      <td>honestly playing game almost year always unluc...</td>\n",
              "    </tr>\n",
              "    <tr>\n",
              "      <th>3</th>\n",
              "      <td>Anonymous Secret</td>\n",
              "      <td>https://play-lh.googleusercontent.com/a-/ALV-U...</td>\n",
              "      <td>4</td>\n",
              "      <td>0</td>\n",
              "      <td>com.miHoYo.tot.glb</td>\n",
              "      <td>Please let us reread/play our previous sweet c...</td>\n",
              "      <td>Please let us rereadplay our previous sweet ch...</td>\n",
              "      <td>please let us rereadplay our previous sweet ch...</td>\n",
              "      <td>please let us rereadplay our previous sweet ch...</td>\n",
              "      <td>[please, let, us, rereadplay, our, previous, s...</td>\n",
              "      <td>[please, let, u, rereadplay, our, previous, sw...</td>\n",
              "      <td>[please, let, u, rereadplay, previous, sweet, ...</td>\n",
              "      <td>please let u rereadplay previous sweet chapter</td>\n",
              "    </tr>\n",
              "    <tr>\n",
              "      <th>4</th>\n",
              "      <td>Salma Dassar</td>\n",
              "      <td>https://play-lh.googleusercontent.com/a-/ALV-U...</td>\n",
              "      <td>1</td>\n",
              "      <td>1</td>\n",
              "      <td>com.miHoYo.tot.glb</td>\n",
              "      <td>It keeps crashing !!!</td>\n",
              "      <td>It keeps crashing</td>\n",
              "      <td>it keeps crashing</td>\n",
              "      <td>it keeps crashing</td>\n",
              "      <td>[it, keeps, crashing]</td>\n",
              "      <td>[it, keep, crashing]</td>\n",
              "      <td>[keep, crashing]</td>\n",
              "      <td>keep crashing</td>\n",
              "    </tr>\n",
              "    <tr>\n",
              "      <th>5</th>\n",
              "      <td>Alr</td>\n",
              "      <td>https://play-lh.googleusercontent.com/a-/ALV-U...</td>\n",
              "      <td>5</td>\n",
              "      <td>0</td>\n",
              "      <td>com.miHoYo.tot.glb</td>\n",
              "      <td>Artem is malewife fr</td>\n",
              "      <td>Artem is malewife fr</td>\n",
              "      <td>artem is malewife fr</td>\n",
              "      <td>artem is malewife fr</td>\n",
              "      <td>[artem, is, malewife, fr]</td>\n",
              "      <td>[artem, is, malewife, fr]</td>\n",
              "      <td>[artem, malewife, fr]</td>\n",
              "      <td>artem malewife fr</td>\n",
              "    </tr>\n",
              "    <tr>\n",
              "      <th>6</th>\n",
              "      <td>Ariel Zheng</td>\n",
              "      <td>https://play-lh.googleusercontent.com/a-/ALV-U...</td>\n",
              "      <td>5</td>\n",
              "      <td>3</td>\n",
              "      <td>com.miHoYo.tot.glb</td>\n",
              "      <td>I've had this game ever since it first launche...</td>\n",
              "      <td>Ive had this game ever since it first launched...</td>\n",
              "      <td>ive had this game ever since it first launched...</td>\n",
              "      <td>ive had this game ever since it first launched...</td>\n",
              "      <td>[ive, had, this, game, ever, since, it, first,...</td>\n",
              "      <td>[ive, had, this, game, ever, since, it, first,...</td>\n",
              "      <td>[ive, game, ever, since, first, launched, toda...</td>\n",
              "      <td>ive game ever since first launched today dawne...</td>\n",
              "    </tr>\n",
              "  </tbody>\n",
              "</table>\n",
              "</div>\n",
              "    <div class=\"colab-df-buttons\">\n",
              "\n",
              "  <div class=\"colab-df-container\">\n",
              "    <button class=\"colab-df-convert\" onclick=\"convertToInteractive('df-ee9a4f26-c365-4f6f-8a65-1489416e4d3d')\"\n",
              "            title=\"Convert this dataframe to an interactive table.\"\n",
              "            style=\"display:none;\">\n",
              "\n",
              "  <svg xmlns=\"http://www.w3.org/2000/svg\" height=\"24px\" viewBox=\"0 -960 960 960\">\n",
              "    <path d=\"M120-120v-720h720v720H120Zm60-500h600v-160H180v160Zm220 220h160v-160H400v160Zm0 220h160v-160H400v160ZM180-400h160v-160H180v160Zm440 0h160v-160H620v160ZM180-180h160v-160H180v160Zm440 0h160v-160H620v160Z\"/>\n",
              "  </svg>\n",
              "    </button>\n",
              "\n",
              "  <style>\n",
              "    .colab-df-container {\n",
              "      display:flex;\n",
              "      gap: 12px;\n",
              "    }\n",
              "\n",
              "    .colab-df-convert {\n",
              "      background-color: #E8F0FE;\n",
              "      border: none;\n",
              "      border-radius: 50%;\n",
              "      cursor: pointer;\n",
              "      display: none;\n",
              "      fill: #1967D2;\n",
              "      height: 32px;\n",
              "      padding: 0 0 0 0;\n",
              "      width: 32px;\n",
              "    }\n",
              "\n",
              "    .colab-df-convert:hover {\n",
              "      background-color: #E2EBFA;\n",
              "      box-shadow: 0px 1px 2px rgba(60, 64, 67, 0.3), 0px 1px 3px 1px rgba(60, 64, 67, 0.15);\n",
              "      fill: #174EA6;\n",
              "    }\n",
              "\n",
              "    .colab-df-buttons div {\n",
              "      margin-bottom: 4px;\n",
              "    }\n",
              "\n",
              "    [theme=dark] .colab-df-convert {\n",
              "      background-color: #3B4455;\n",
              "      fill: #D2E3FC;\n",
              "    }\n",
              "\n",
              "    [theme=dark] .colab-df-convert:hover {\n",
              "      background-color: #434B5C;\n",
              "      box-shadow: 0px 1px 3px 1px rgba(0, 0, 0, 0.15);\n",
              "      filter: drop-shadow(0px 1px 2px rgba(0, 0, 0, 0.3));\n",
              "      fill: #FFFFFF;\n",
              "    }\n",
              "  </style>\n",
              "\n",
              "    <script>\n",
              "      const buttonEl =\n",
              "        document.querySelector('#df-ee9a4f26-c365-4f6f-8a65-1489416e4d3d button.colab-df-convert');\n",
              "      buttonEl.style.display =\n",
              "        google.colab.kernel.accessAllowed ? 'block' : 'none';\n",
              "\n",
              "      async function convertToInteractive(key) {\n",
              "        const element = document.querySelector('#df-ee9a4f26-c365-4f6f-8a65-1489416e4d3d');\n",
              "        const dataTable =\n",
              "          await google.colab.kernel.invokeFunction('convertToInteractive',\n",
              "                                                    [key], {});\n",
              "        if (!dataTable) return;\n",
              "\n",
              "        const docLinkHtml = 'Like what you see? Visit the ' +\n",
              "          '<a target=\"_blank\" href=https://colab.research.google.com/notebooks/data_table.ipynb>data table notebook</a>'\n",
              "          + ' to learn more about interactive tables.';\n",
              "        element.innerHTML = '';\n",
              "        dataTable['output_type'] = 'display_data';\n",
              "        await google.colab.output.renderOutput(dataTable, element);\n",
              "        const docLink = document.createElement('div');\n",
              "        docLink.innerHTML = docLinkHtml;\n",
              "        element.appendChild(docLink);\n",
              "      }\n",
              "    </script>\n",
              "  </div>\n",
              "\n",
              "\n",
              "<div id=\"df-0f175c8c-9b7b-4da2-aede-f5f14808b05d\">\n",
              "  <button class=\"colab-df-quickchart\" onclick=\"quickchart('df-0f175c8c-9b7b-4da2-aede-f5f14808b05d')\"\n",
              "            title=\"Suggest charts\"\n",
              "            style=\"display:none;\">\n",
              "\n",
              "<svg xmlns=\"http://www.w3.org/2000/svg\" height=\"24px\"viewBox=\"0 0 24 24\"\n",
              "     width=\"24px\">\n",
              "    <g>\n",
              "        <path d=\"M19 3H5c-1.1 0-2 .9-2 2v14c0 1.1.9 2 2 2h14c1.1 0 2-.9 2-2V5c0-1.1-.9-2-2-2zM9 17H7v-7h2v7zm4 0h-2V7h2v10zm4 0h-2v-4h2v4z\"/>\n",
              "    </g>\n",
              "</svg>\n",
              "  </button>\n",
              "\n",
              "<style>\n",
              "  .colab-df-quickchart {\n",
              "      --bg-color: #E8F0FE;\n",
              "      --fill-color: #1967D2;\n",
              "      --hover-bg-color: #E2EBFA;\n",
              "      --hover-fill-color: #174EA6;\n",
              "      --disabled-fill-color: #AAA;\n",
              "      --disabled-bg-color: #DDD;\n",
              "  }\n",
              "\n",
              "  [theme=dark] .colab-df-quickchart {\n",
              "      --bg-color: #3B4455;\n",
              "      --fill-color: #D2E3FC;\n",
              "      --hover-bg-color: #434B5C;\n",
              "      --hover-fill-color: #FFFFFF;\n",
              "      --disabled-bg-color: #3B4455;\n",
              "      --disabled-fill-color: #666;\n",
              "  }\n",
              "\n",
              "  .colab-df-quickchart {\n",
              "    background-color: var(--bg-color);\n",
              "    border: none;\n",
              "    border-radius: 50%;\n",
              "    cursor: pointer;\n",
              "    display: none;\n",
              "    fill: var(--fill-color);\n",
              "    height: 32px;\n",
              "    padding: 0;\n",
              "    width: 32px;\n",
              "  }\n",
              "\n",
              "  .colab-df-quickchart:hover {\n",
              "    background-color: var(--hover-bg-color);\n",
              "    box-shadow: 0 1px 2px rgba(60, 64, 67, 0.3), 0 1px 3px 1px rgba(60, 64, 67, 0.15);\n",
              "    fill: var(--button-hover-fill-color);\n",
              "  }\n",
              "\n",
              "  .colab-df-quickchart-complete:disabled,\n",
              "  .colab-df-quickchart-complete:disabled:hover {\n",
              "    background-color: var(--disabled-bg-color);\n",
              "    fill: var(--disabled-fill-color);\n",
              "    box-shadow: none;\n",
              "  }\n",
              "\n",
              "  .colab-df-spinner {\n",
              "    border: 2px solid var(--fill-color);\n",
              "    border-color: transparent;\n",
              "    border-bottom-color: var(--fill-color);\n",
              "    animation:\n",
              "      spin 1s steps(1) infinite;\n",
              "  }\n",
              "\n",
              "  @keyframes spin {\n",
              "    0% {\n",
              "      border-color: transparent;\n",
              "      border-bottom-color: var(--fill-color);\n",
              "      border-left-color: var(--fill-color);\n",
              "    }\n",
              "    20% {\n",
              "      border-color: transparent;\n",
              "      border-left-color: var(--fill-color);\n",
              "      border-top-color: var(--fill-color);\n",
              "    }\n",
              "    30% {\n",
              "      border-color: transparent;\n",
              "      border-left-color: var(--fill-color);\n",
              "      border-top-color: var(--fill-color);\n",
              "      border-right-color: var(--fill-color);\n",
              "    }\n",
              "    40% {\n",
              "      border-color: transparent;\n",
              "      border-right-color: var(--fill-color);\n",
              "      border-top-color: var(--fill-color);\n",
              "    }\n",
              "    60% {\n",
              "      border-color: transparent;\n",
              "      border-right-color: var(--fill-color);\n",
              "    }\n",
              "    80% {\n",
              "      border-color: transparent;\n",
              "      border-right-color: var(--fill-color);\n",
              "      border-bottom-color: var(--fill-color);\n",
              "    }\n",
              "    90% {\n",
              "      border-color: transparent;\n",
              "      border-bottom-color: var(--fill-color);\n",
              "    }\n",
              "  }\n",
              "</style>\n",
              "\n",
              "  <script>\n",
              "    async function quickchart(key) {\n",
              "      const quickchartButtonEl =\n",
              "        document.querySelector('#' + key + ' button');\n",
              "      quickchartButtonEl.disabled = true;  // To prevent multiple clicks.\n",
              "      quickchartButtonEl.classList.add('colab-df-spinner');\n",
              "      try {\n",
              "        const charts = await google.colab.kernel.invokeFunction(\n",
              "            'suggestCharts', [key], {});\n",
              "      } catch (error) {\n",
              "        console.error('Error during call to suggestCharts:', error);\n",
              "      }\n",
              "      quickchartButtonEl.classList.remove('colab-df-spinner');\n",
              "      quickchartButtonEl.classList.add('colab-df-quickchart-complete');\n",
              "    }\n",
              "    (() => {\n",
              "      let quickchartButtonEl =\n",
              "        document.querySelector('#df-0f175c8c-9b7b-4da2-aede-f5f14808b05d button');\n",
              "      quickchartButtonEl.style.display =\n",
              "        google.colab.kernel.accessAllowed ? 'block' : 'none';\n",
              "    })();\n",
              "  </script>\n",
              "</div>\n",
              "\n",
              "  <div id=\"id_fbca6165-1545-4a87-8977-9494b3a3b9d0\">\n",
              "    <style>\n",
              "      .colab-df-generate {\n",
              "        background-color: #E8F0FE;\n",
              "        border: none;\n",
              "        border-radius: 50%;\n",
              "        cursor: pointer;\n",
              "        display: none;\n",
              "        fill: #1967D2;\n",
              "        height: 32px;\n",
              "        padding: 0 0 0 0;\n",
              "        width: 32px;\n",
              "      }\n",
              "\n",
              "      .colab-df-generate:hover {\n",
              "        background-color: #E2EBFA;\n",
              "        box-shadow: 0px 1px 2px rgba(60, 64, 67, 0.3), 0px 1px 3px 1px rgba(60, 64, 67, 0.15);\n",
              "        fill: #174EA6;\n",
              "      }\n",
              "\n",
              "      [theme=dark] .colab-df-generate {\n",
              "        background-color: #3B4455;\n",
              "        fill: #D2E3FC;\n",
              "      }\n",
              "\n",
              "      [theme=dark] .colab-df-generate:hover {\n",
              "        background-color: #434B5C;\n",
              "        box-shadow: 0px 1px 3px 1px rgba(0, 0, 0, 0.15);\n",
              "        filter: drop-shadow(0px 1px 2px rgba(0, 0, 0, 0.3));\n",
              "        fill: #FFFFFF;\n",
              "      }\n",
              "    </style>\n",
              "    <button class=\"colab-df-generate\" onclick=\"generateWithVariable('kep3')\"\n",
              "            title=\"Generate code using this dataframe.\"\n",
              "            style=\"display:none;\">\n",
              "\n",
              "  <svg xmlns=\"http://www.w3.org/2000/svg\" height=\"24px\"viewBox=\"0 0 24 24\"\n",
              "       width=\"24px\">\n",
              "    <path d=\"M7,19H8.4L18.45,9,17,7.55,7,17.6ZM5,21V16.75L18.45,3.32a2,2,0,0,1,2.83,0l1.4,1.43a1.91,1.91,0,0,1,.58,1.4,1.91,1.91,0,0,1-.58,1.4L9.25,21ZM18.45,9,17,7.55Zm-12,3A5.31,5.31,0,0,0,4.9,8.1,5.31,5.31,0,0,0,1,6.5,5.31,5.31,0,0,0,4.9,4.9,5.31,5.31,0,0,0,6.5,1,5.31,5.31,0,0,0,8.1,4.9,5.31,5.31,0,0,0,12,6.5,5.46,5.46,0,0,0,6.5,12Z\"/>\n",
              "  </svg>\n",
              "    </button>\n",
              "    <script>\n",
              "      (() => {\n",
              "      const buttonEl =\n",
              "        document.querySelector('#id_fbca6165-1545-4a87-8977-9494b3a3b9d0 button.colab-df-generate');\n",
              "      buttonEl.style.display =\n",
              "        google.colab.kernel.accessAllowed ? 'block' : 'none';\n",
              "\n",
              "      buttonEl.onclick = () => {\n",
              "        google.colab.notebook.generateWithVariable('kep3');\n",
              "      }\n",
              "      })();\n",
              "    </script>\n",
              "  </div>\n",
              "\n",
              "    </div>\n",
              "  </div>\n"
            ],
            "application/vnd.google.colaboratory.intrinsic+json": {
              "type": "dataframe",
              "variable_name": "kep3",
              "summary": "{\n  \"name\": \"kep3\",\n  \"rows\": 7,\n  \"fields\": [\n    {\n      \"column\": \"userName\",\n      \"properties\": {\n        \"dtype\": \"string\",\n        \"num_unique_values\": 7,\n        \"samples\": [\n          \"Elyse\",\n          \"J T\",\n          \"Alr\"\n        ],\n        \"semantic_type\": \"\",\n        \"description\": \"\"\n      }\n    },\n    {\n      \"column\": \"userImage\",\n      \"properties\": {\n        \"dtype\": \"string\",\n        \"num_unique_values\": 7,\n        \"samples\": [\n          \"https://play-lh.googleusercontent.com/a-/ALV-UjVmnYqj-IasZBgF7gmeuBPpg4KcEGq2zrmm44gZmZ_ayf0-5fJoqA\",\n          \"https://play-lh.googleusercontent.com/a-/ALV-UjUQcu_n9cct8K4jJlKsbTSNlw3G9i2htAIZsr3UvO4Uih01BNWY\",\n          \"https://play-lh.googleusercontent.com/a-/ALV-UjU1-EULC7ElSASLP2RognOmll_APecz2hvK6KdS0_0_ih8XM4A5\"\n        ],\n        \"semantic_type\": \"\",\n        \"description\": \"\"\n      }\n    },\n    {\n      \"column\": \"score\",\n      \"properties\": {\n        \"dtype\": \"number\",\n        \"std\": 1,\n        \"min\": 1,\n        \"max\": 5,\n        \"num_unique_values\": 4,\n        \"samples\": [\n          3,\n          5,\n          1\n        ],\n        \"semantic_type\": \"\",\n        \"description\": \"\"\n      }\n    },\n    {\n      \"column\": \"thumbsUpCount\",\n      \"properties\": {\n        \"dtype\": \"number\",\n        \"std\": 1,\n        \"min\": 0,\n        \"max\": 3,\n        \"num_unique_values\": 3,\n        \"samples\": [\n          0,\n          3,\n          1\n        ],\n        \"semantic_type\": \"\",\n        \"description\": \"\"\n      }\n    },\n    {\n      \"column\": \"app_id\",\n      \"properties\": {\n        \"dtype\": \"category\",\n        \"num_unique_values\": 1,\n        \"samples\": [\n          \"com.miHoYo.tot.glb\"\n        ],\n        \"semantic_type\": \"\",\n        \"description\": \"\"\n      }\n    },\n    {\n      \"column\": \"content\",\n      \"properties\": {\n        \"dtype\": \"string\",\n        \"num_unique_values\": 7,\n        \"samples\": [\n          \"GIVE ME BACK MY ACCOUNTTTTT IVE BEEN INACTIVE FOR MONTHS DUE TO WORK OR SOME STUFF BUT COME ON?????\"\n        ],\n        \"semantic_type\": \"\",\n        \"description\": \"\"\n      }\n    },\n    {\n      \"column\": \"bersih\",\n      \"properties\": {\n        \"dtype\": \"string\",\n        \"num_unique_values\": 7,\n        \"samples\": [\n          \"GIVE ME BACK MY ACCOUNTTTTT IVE BEEN INACTIVE FOR MONTHS DUE TO WORK OR SOME STUFF BUT COME ON\"\n        ],\n        \"semantic_type\": \"\",\n        \"description\": \"\"\n      }\n    },\n    {\n      \"column\": \"casefolding\",\n      \"properties\": {\n        \"dtype\": \"string\",\n        \"num_unique_values\": 7,\n        \"samples\": [\n          \"give me back my accounttttt ive been inactive for months due to work or some stuff but come on\"\n        ],\n        \"semantic_type\": \"\",\n        \"description\": \"\"\n      }\n    },\n    {\n      \"column\": \"sopan\",\n      \"properties\": {\n        \"dtype\": \"string\",\n        \"num_unique_values\": 7,\n        \"samples\": [\n          \"give me back my accounttttt ive been inactive for months due to work or some stuff but come on\"\n        ],\n        \"semantic_type\": \"\",\n        \"description\": \"\"\n      }\n    },\n    {\n      \"column\": \"token\",\n      \"properties\": {\n        \"dtype\": \"object\",\n        \"semantic_type\": \"\",\n        \"description\": \"\"\n      }\n    },\n    {\n      \"column\": \"lemetisasi\",\n      \"properties\": {\n        \"dtype\": \"object\",\n        \"semantic_type\": \"\",\n        \"description\": \"\"\n      }\n    },\n    {\n      \"column\": \"stopword\",\n      \"properties\": {\n        \"dtype\": \"object\",\n        \"semantic_type\": \"\",\n        \"description\": \"\"\n      }\n    },\n    {\n      \"column\": \"final\",\n      \"properties\": {\n        \"dtype\": \"string\",\n        \"num_unique_values\": 7,\n        \"samples\": [\n          \"give back accounttttt ive inactive month due work stuff come\"\n        ],\n        \"semantic_type\": \"\",\n        \"description\": \"\"\n      }\n    }\n  ]\n}"
            }
          },
          "metadata": {},
          "execution_count": 56
        }
      ],
      "source": [
        "#lihat hasil\n",
        "kep3 = dfkopitungk.head(7)\n",
        "kep3"
      ]
    },
    {
      "cell_type": "markdown",
      "metadata": {
        "id": "O3D53gkM3OT0"
      },
      "source": [
        "# Pelabelan dengan Lexicon dan Textblob"
      ]
    },
    {
      "cell_type": "markdown",
      "metadata": {
        "id": "u35tXxGT81ta"
      },
      "source": [
        "## Persiapan"
      ]
    },
    {
      "cell_type": "code",
      "execution_count": null,
      "metadata": {
        "colab": {
          "base_uri": "https://localhost:8080/"
        },
        "id": "lWgoUG4I1m2e",
        "outputId": "d0dc01c6-4acf-4ad9-abce-3c0c048963d9"
      },
      "outputs": [
        {
          "output_type": "execute_result",
          "data": {
            "text/plain": [
              "31"
            ]
          },
          "metadata": {},
          "execution_count": 57
        }
      ],
      "source": [
        "#penyetelan dengan gc collect\n",
        "gc.collect()"
      ]
    },
    {
      "cell_type": "code",
      "execution_count": null,
      "metadata": {
        "id": "IYMjkauc4e9Z"
      },
      "outputs": [],
      "source": [
        "#link ke filtrasi kata-kata\n",
        "[urlfil2, urlvad] = ['https://raw.githubusercontent.com/Fj00/CEL/refs/heads/master/cel_2-45.txt', 'https://raw.githubusercontent.com/cjhutto/vaderSentiment/refs/heads/master/vaderSentiment/vader_lexicon.txt']"
      ]
    },
    {
      "cell_type": "code",
      "execution_count": null,
      "metadata": {
        "id": "CKJuWcOI64LR"
      },
      "outputs": [],
      "source": [
        "#Bagian text blob\n",
        "analyzer = SentimentIntensityAnalyzer()"
      ]
    },
    {
      "cell_type": "code",
      "execution_count": null,
      "metadata": {
        "id": "g5llY_1e3TX5"
      },
      "outputs": [],
      "source": [
        "#deklarasi cel lexicon\n",
        "plexicon = dict() #vader\n",
        "cel_lexicon = dict() #nilai CEL"
      ]
    },
    {
      "cell_type": "markdown",
      "metadata": {
        "id": "0tMVy7tA82xn"
      },
      "source": [
        "## Fungsi pembuatan nilai"
      ]
    },
    {
      "cell_type": "code",
      "execution_count": null,
      "metadata": {
        "id": "_1HDIGxF86OO"
      },
      "outputs": [],
      "source": [
        "#pembantukan kamus\n",
        "url_cel = urlfil2  #lexicon 2-45\n",
        "response_cel = requests.get(url_cel)\n",
        "\n",
        "if response_cel.status_code == 200:\n",
        "    plreader = csv.reader(StringIO(response_cel.text), delimiter=',')\n",
        "    for row in plreader:\n",
        "        if len(row) >= 2:\n",
        "            cel_lexicon[row[0]] = int(row[1])  # Assuming score is in second column\n",
        "else:\n",
        "    print(\"Failed to load CEL lexicon\")"
      ]
    },
    {
      "cell_type": "code",
      "execution_count": null,
      "metadata": {
        "id": "5KhDkrBd9TQI"
      },
      "outputs": [],
      "source": [
        "#Persiapan kombo lexicon dan Textblob\n",
        "def analyze_combined_sentiment(text):\n",
        "    # Ensure text is a single string\n",
        "    if isinstance(text, list):\n",
        "        text = ' '.join(text)\n",
        "\n",
        "    # Nilai awal\n",
        "    nilai = 0\n",
        "\n",
        "    # Analyze using TextBlob\n",
        "    textblob_score = TextBlob(text).sentiment.polarity\n",
        "\n",
        "    # Analyze using VADER\n",
        "    vader_score = analyzer.polarity_scores(text)\n",
        "\n",
        "    # Kombinasi Lexicon\n",
        "    cel_score = sum(cel_lexicon.get(word, 0) for word in text.split())\n",
        "\n",
        "    # Calculate score using plexicon (assuming plexicon contains sentiment scores)\n",
        "    for word in text.split():\n",
        "        if word in plexicon:\n",
        "            nilai += plexicon[word]\n",
        "\n",
        "    # Final score calculation (you can adjust weights as needed)\n",
        "    final_score = (textblob_score + vader_score['compound'] + cel_score + nilai) / 4\n",
        "\n",
        "    # Determine sentiment polarity\n",
        "    if final_score > 0:\n",
        "        polaritas = 'positif'\n",
        "    elif final_score < 0:\n",
        "        polaritas = 'negatif'\n",
        "    else:\n",
        "        polaritas = 'netral'\n",
        "\n",
        "    return {\n",
        "        'TextBlob Score': textblob_score,\n",
        "        'VADER Score': vader_score['compound'],\n",
        "        'CEL Score': cel_score,\n",
        "        'Plexicon Score': nilai,\n",
        "        'Final Score': final_score,\n",
        "        'Sentiment': polaritas\n",
        "    }"
      ]
    },
    {
      "cell_type": "markdown",
      "metadata": {
        "id": "iwphBrYv934b"
      },
      "source": [
        "## Bagian hasil"
      ]
    },
    {
      "cell_type": "code",
      "execution_count": null,
      "metadata": {
        "colab": {
          "base_uri": "https://localhost:8080/"
        },
        "id": "r54hRSC4P0WH",
        "outputId": "10623406-ae73-40cd-f140-6d911ac66c83"
      },
      "outputs": [
        {
          "output_type": "execute_result",
          "data": {
            "text/plain": [
              "0"
            ]
          },
          "metadata": {},
          "execution_count": 63
        }
      ],
      "source": [
        "#persiapan gc\n",
        "gc.collect()"
      ]
    },
    {
      "cell_type": "code",
      "execution_count": null,
      "metadata": {
        "id": "n_wsSoge95Eq"
      },
      "outputs": [],
      "source": [
        "#deklarasi hasil\n",
        "stpkol = dfkopitungk['stopword'].copy()\n",
        "#menampilkan hasil\n",
        "hasil = stpkol.apply(analyze_combined_sentiment)\n",
        "#deklarasi daftar\n",
        "daftar = pd.DataFrame(list(hasil))"
      ]
    },
    {
      "cell_type": "code",
      "execution_count": null,
      "metadata": {
        "colab": {
          "base_uri": "https://localhost:8080/"
        },
        "id": "zUCzeIfcAV_f",
        "outputId": "d7c5a217-c983-4107-f792-46265706e053"
      },
      "outputs": [
        {
          "output_type": "stream",
          "name": "stdout",
          "text": [
            "Sentiment\n",
            "positif    81395\n",
            "negatif    22814\n",
            "netral     14213\n",
            "Name: count, dtype: int64\n"
          ]
        }
      ],
      "source": [
        "#inspeksi persebaran hasil\n",
        "selp = daftar['Sentiment'].value_counts()\n",
        "print(selp)"
      ]
    },
    {
      "cell_type": "code",
      "execution_count": null,
      "metadata": {
        "colab": {
          "base_uri": "https://localhost:8080/",
          "height": 269
        },
        "id": "I_cjb3alEAqZ",
        "outputId": "62914b90-1d14-4c20-d975-c335562d67d2"
      },
      "outputs": [
        {
          "output_type": "execute_result",
          "data": {
            "text/plain": [
              "   Final Score Sentiment\n",
              "0    -0.015625   negatif\n",
              "1     0.229428   positif\n",
              "2     0.290645   positif\n",
              "3     0.185067   positif\n",
              "4     0.000000    netral\n",
              "5     0.000000    netral\n",
              "6     0.283111   positif"
            ],
            "text/html": [
              "\n",
              "  <div id=\"df-3e2ccadb-0289-4fad-8990-e3d917f8d798\" class=\"colab-df-container\">\n",
              "    <div>\n",
              "<style scoped>\n",
              "    .dataframe tbody tr th:only-of-type {\n",
              "        vertical-align: middle;\n",
              "    }\n",
              "\n",
              "    .dataframe tbody tr th {\n",
              "        vertical-align: top;\n",
              "    }\n",
              "\n",
              "    .dataframe thead th {\n",
              "        text-align: right;\n",
              "    }\n",
              "</style>\n",
              "<table border=\"1\" class=\"dataframe\">\n",
              "  <thead>\n",
              "    <tr style=\"text-align: right;\">\n",
              "      <th></th>\n",
              "      <th>Final Score</th>\n",
              "      <th>Sentiment</th>\n",
              "    </tr>\n",
              "  </thead>\n",
              "  <tbody>\n",
              "    <tr>\n",
              "      <th>0</th>\n",
              "      <td>-0.015625</td>\n",
              "      <td>negatif</td>\n",
              "    </tr>\n",
              "    <tr>\n",
              "      <th>1</th>\n",
              "      <td>0.229428</td>\n",
              "      <td>positif</td>\n",
              "    </tr>\n",
              "    <tr>\n",
              "      <th>2</th>\n",
              "      <td>0.290645</td>\n",
              "      <td>positif</td>\n",
              "    </tr>\n",
              "    <tr>\n",
              "      <th>3</th>\n",
              "      <td>0.185067</td>\n",
              "      <td>positif</td>\n",
              "    </tr>\n",
              "    <tr>\n",
              "      <th>4</th>\n",
              "      <td>0.000000</td>\n",
              "      <td>netral</td>\n",
              "    </tr>\n",
              "    <tr>\n",
              "      <th>5</th>\n",
              "      <td>0.000000</td>\n",
              "      <td>netral</td>\n",
              "    </tr>\n",
              "    <tr>\n",
              "      <th>6</th>\n",
              "      <td>0.283111</td>\n",
              "      <td>positif</td>\n",
              "    </tr>\n",
              "  </tbody>\n",
              "</table>\n",
              "</div>\n",
              "    <div class=\"colab-df-buttons\">\n",
              "\n",
              "  <div class=\"colab-df-container\">\n",
              "    <button class=\"colab-df-convert\" onclick=\"convertToInteractive('df-3e2ccadb-0289-4fad-8990-e3d917f8d798')\"\n",
              "            title=\"Convert this dataframe to an interactive table.\"\n",
              "            style=\"display:none;\">\n",
              "\n",
              "  <svg xmlns=\"http://www.w3.org/2000/svg\" height=\"24px\" viewBox=\"0 -960 960 960\">\n",
              "    <path d=\"M120-120v-720h720v720H120Zm60-500h600v-160H180v160Zm220 220h160v-160H400v160Zm0 220h160v-160H400v160ZM180-400h160v-160H180v160Zm440 0h160v-160H620v160ZM180-180h160v-160H180v160Zm440 0h160v-160H620v160Z\"/>\n",
              "  </svg>\n",
              "    </button>\n",
              "\n",
              "  <style>\n",
              "    .colab-df-container {\n",
              "      display:flex;\n",
              "      gap: 12px;\n",
              "    }\n",
              "\n",
              "    .colab-df-convert {\n",
              "      background-color: #E8F0FE;\n",
              "      border: none;\n",
              "      border-radius: 50%;\n",
              "      cursor: pointer;\n",
              "      display: none;\n",
              "      fill: #1967D2;\n",
              "      height: 32px;\n",
              "      padding: 0 0 0 0;\n",
              "      width: 32px;\n",
              "    }\n",
              "\n",
              "    .colab-df-convert:hover {\n",
              "      background-color: #E2EBFA;\n",
              "      box-shadow: 0px 1px 2px rgba(60, 64, 67, 0.3), 0px 1px 3px 1px rgba(60, 64, 67, 0.15);\n",
              "      fill: #174EA6;\n",
              "    }\n",
              "\n",
              "    .colab-df-buttons div {\n",
              "      margin-bottom: 4px;\n",
              "    }\n",
              "\n",
              "    [theme=dark] .colab-df-convert {\n",
              "      background-color: #3B4455;\n",
              "      fill: #D2E3FC;\n",
              "    }\n",
              "\n",
              "    [theme=dark] .colab-df-convert:hover {\n",
              "      background-color: #434B5C;\n",
              "      box-shadow: 0px 1px 3px 1px rgba(0, 0, 0, 0.15);\n",
              "      filter: drop-shadow(0px 1px 2px rgba(0, 0, 0, 0.3));\n",
              "      fill: #FFFFFF;\n",
              "    }\n",
              "  </style>\n",
              "\n",
              "    <script>\n",
              "      const buttonEl =\n",
              "        document.querySelector('#df-3e2ccadb-0289-4fad-8990-e3d917f8d798 button.colab-df-convert');\n",
              "      buttonEl.style.display =\n",
              "        google.colab.kernel.accessAllowed ? 'block' : 'none';\n",
              "\n",
              "      async function convertToInteractive(key) {\n",
              "        const element = document.querySelector('#df-3e2ccadb-0289-4fad-8990-e3d917f8d798');\n",
              "        const dataTable =\n",
              "          await google.colab.kernel.invokeFunction('convertToInteractive',\n",
              "                                                    [key], {});\n",
              "        if (!dataTable) return;\n",
              "\n",
              "        const docLinkHtml = 'Like what you see? Visit the ' +\n",
              "          '<a target=\"_blank\" href=https://colab.research.google.com/notebooks/data_table.ipynb>data table notebook</a>'\n",
              "          + ' to learn more about interactive tables.';\n",
              "        element.innerHTML = '';\n",
              "        dataTable['output_type'] = 'display_data';\n",
              "        await google.colab.output.renderOutput(dataTable, element);\n",
              "        const docLink = document.createElement('div');\n",
              "        docLink.innerHTML = docLinkHtml;\n",
              "        element.appendChild(docLink);\n",
              "      }\n",
              "    </script>\n",
              "  </div>\n",
              "\n",
              "\n",
              "<div id=\"df-fd14947b-4582-406e-9f74-dfa222213eaf\">\n",
              "  <button class=\"colab-df-quickchart\" onclick=\"quickchart('df-fd14947b-4582-406e-9f74-dfa222213eaf')\"\n",
              "            title=\"Suggest charts\"\n",
              "            style=\"display:none;\">\n",
              "\n",
              "<svg xmlns=\"http://www.w3.org/2000/svg\" height=\"24px\"viewBox=\"0 0 24 24\"\n",
              "     width=\"24px\">\n",
              "    <g>\n",
              "        <path d=\"M19 3H5c-1.1 0-2 .9-2 2v14c0 1.1.9 2 2 2h14c1.1 0 2-.9 2-2V5c0-1.1-.9-2-2-2zM9 17H7v-7h2v7zm4 0h-2V7h2v10zm4 0h-2v-4h2v4z\"/>\n",
              "    </g>\n",
              "</svg>\n",
              "  </button>\n",
              "\n",
              "<style>\n",
              "  .colab-df-quickchart {\n",
              "      --bg-color: #E8F0FE;\n",
              "      --fill-color: #1967D2;\n",
              "      --hover-bg-color: #E2EBFA;\n",
              "      --hover-fill-color: #174EA6;\n",
              "      --disabled-fill-color: #AAA;\n",
              "      --disabled-bg-color: #DDD;\n",
              "  }\n",
              "\n",
              "  [theme=dark] .colab-df-quickchart {\n",
              "      --bg-color: #3B4455;\n",
              "      --fill-color: #D2E3FC;\n",
              "      --hover-bg-color: #434B5C;\n",
              "      --hover-fill-color: #FFFFFF;\n",
              "      --disabled-bg-color: #3B4455;\n",
              "      --disabled-fill-color: #666;\n",
              "  }\n",
              "\n",
              "  .colab-df-quickchart {\n",
              "    background-color: var(--bg-color);\n",
              "    border: none;\n",
              "    border-radius: 50%;\n",
              "    cursor: pointer;\n",
              "    display: none;\n",
              "    fill: var(--fill-color);\n",
              "    height: 32px;\n",
              "    padding: 0;\n",
              "    width: 32px;\n",
              "  }\n",
              "\n",
              "  .colab-df-quickchart:hover {\n",
              "    background-color: var(--hover-bg-color);\n",
              "    box-shadow: 0 1px 2px rgba(60, 64, 67, 0.3), 0 1px 3px 1px rgba(60, 64, 67, 0.15);\n",
              "    fill: var(--button-hover-fill-color);\n",
              "  }\n",
              "\n",
              "  .colab-df-quickchart-complete:disabled,\n",
              "  .colab-df-quickchart-complete:disabled:hover {\n",
              "    background-color: var(--disabled-bg-color);\n",
              "    fill: var(--disabled-fill-color);\n",
              "    box-shadow: none;\n",
              "  }\n",
              "\n",
              "  .colab-df-spinner {\n",
              "    border: 2px solid var(--fill-color);\n",
              "    border-color: transparent;\n",
              "    border-bottom-color: var(--fill-color);\n",
              "    animation:\n",
              "      spin 1s steps(1) infinite;\n",
              "  }\n",
              "\n",
              "  @keyframes spin {\n",
              "    0% {\n",
              "      border-color: transparent;\n",
              "      border-bottom-color: var(--fill-color);\n",
              "      border-left-color: var(--fill-color);\n",
              "    }\n",
              "    20% {\n",
              "      border-color: transparent;\n",
              "      border-left-color: var(--fill-color);\n",
              "      border-top-color: var(--fill-color);\n",
              "    }\n",
              "    30% {\n",
              "      border-color: transparent;\n",
              "      border-left-color: var(--fill-color);\n",
              "      border-top-color: var(--fill-color);\n",
              "      border-right-color: var(--fill-color);\n",
              "    }\n",
              "    40% {\n",
              "      border-color: transparent;\n",
              "      border-right-color: var(--fill-color);\n",
              "      border-top-color: var(--fill-color);\n",
              "    }\n",
              "    60% {\n",
              "      border-color: transparent;\n",
              "      border-right-color: var(--fill-color);\n",
              "    }\n",
              "    80% {\n",
              "      border-color: transparent;\n",
              "      border-right-color: var(--fill-color);\n",
              "      border-bottom-color: var(--fill-color);\n",
              "    }\n",
              "    90% {\n",
              "      border-color: transparent;\n",
              "      border-bottom-color: var(--fill-color);\n",
              "    }\n",
              "  }\n",
              "</style>\n",
              "\n",
              "  <script>\n",
              "    async function quickchart(key) {\n",
              "      const quickchartButtonEl =\n",
              "        document.querySelector('#' + key + ' button');\n",
              "      quickchartButtonEl.disabled = true;  // To prevent multiple clicks.\n",
              "      quickchartButtonEl.classList.add('colab-df-spinner');\n",
              "      try {\n",
              "        const charts = await google.colab.kernel.invokeFunction(\n",
              "            'suggestCharts', [key], {});\n",
              "      } catch (error) {\n",
              "        console.error('Error during call to suggestCharts:', error);\n",
              "      }\n",
              "      quickchartButtonEl.classList.remove('colab-df-spinner');\n",
              "      quickchartButtonEl.classList.add('colab-df-quickchart-complete');\n",
              "    }\n",
              "    (() => {\n",
              "      let quickchartButtonEl =\n",
              "        document.querySelector('#df-fd14947b-4582-406e-9f74-dfa222213eaf button');\n",
              "      quickchartButtonEl.style.display =\n",
              "        google.colab.kernel.accessAllowed ? 'block' : 'none';\n",
              "    })();\n",
              "  </script>\n",
              "</div>\n",
              "\n",
              "    </div>\n",
              "  </div>\n"
            ],
            "application/vnd.google.colaboratory.intrinsic+json": {
              "type": "dataframe",
              "variable_name": "info"
            }
          },
          "metadata": {},
          "execution_count": 66
        }
      ],
      "source": [
        "#Ambil nilai alhir dan sentimen\n",
        "info = daftar[['Final Score', 'Sentiment']].copy()\n",
        "info.head(7)"
      ]
    },
    {
      "cell_type": "markdown",
      "metadata": {
        "id": "juMiageyWQNW"
      },
      "source": [
        "dua kolom ini dipakai dalam analisis"
      ]
    },
    {
      "cell_type": "markdown",
      "metadata": {
        "id": "ngzLEZu0EO6s"
      },
      "source": [
        "# Visualisasi dataframe jadi"
      ]
    },
    {
      "cell_type": "markdown",
      "metadata": {
        "id": "cTlfUgcOESbi"
      },
      "source": [
        "## Persiapan df untuk visualisasi"
      ]
    },
    {
      "cell_type": "markdown",
      "metadata": {
        "id": "VENUDHOqNUwH"
      },
      "source": [
        "### Pembentukan **'dfkombi'**"
      ]
    },
    {
      "cell_type": "code",
      "execution_count": null,
      "metadata": {
        "colab": {
          "base_uri": "https://localhost:8080/"
        },
        "id": "_uyJBrWbERL8",
        "outputId": "37a3bf39-8621-4f9f-804a-5cf31bba7125"
      },
      "outputs": [
        {
          "output_type": "stream",
          "name": "stdout",
          "text": [
            "<class 'pandas.core.frame.DataFrame'>\n",
            "RangeIndex: 118422 entries, 0 to 118421\n",
            "Data columns (total 15 columns):\n",
            " #   Column           Non-Null Count   Dtype  \n",
            "---  ------           --------------   -----  \n",
            " 0   userName         118422 non-null  object \n",
            " 1   userImage        118422 non-null  object \n",
            " 2   score            118422 non-null  int64  \n",
            " 3   thumbsUpCount    118422 non-null  int64  \n",
            " 4   app_id           118422 non-null  object \n",
            " 5   content          118422 non-null  object \n",
            " 6   bersih           118422 non-null  object \n",
            " 7   casefolding      118422 non-null  object \n",
            " 8   sopan            118422 non-null  object \n",
            " 9   token            118422 non-null  object \n",
            " 10  lemetisasi       118422 non-null  object \n",
            " 11  stopword         118422 non-null  object \n",
            " 12  final            118422 non-null  object \n",
            " 13  nilai polaritas  118422 non-null  float64\n",
            " 14  polaritas        118422 non-null  object \n",
            "dtypes: float64(1), int64(2), object(12)\n",
            "memory usage: 13.6+ MB\n"
          ]
        }
      ],
      "source": [
        "#deklarasi df gabungan\n",
        "dfkombi = pd.concat([dfkopitungk, info], axis=1,copy=True)\n",
        "#penamaan ulang kolom\n",
        "dfkombi.rename(columns={'Sentiment': 'polaritas', 'Final Score': 'nilai polaritas'}, inplace=True, copy=True)\n",
        "dfkombi.info()"
      ]
    },
    {
      "cell_type": "code",
      "execution_count": null,
      "metadata": {
        "colab": {
          "base_uri": "https://localhost:8080/",
          "height": 826
        },
        "id": "DVFL-schIu0r",
        "outputId": "4fc70788-d309-42fd-ccd8-cfbbf6a6fedc"
      },
      "outputs": [
        {
          "output_type": "execute_result",
          "data": {
            "text/plain": [
              "           userName                                          userImage  score  \\\n",
              "0             Elyse  https://play-lh.googleusercontent.com/a-/ALV-U...      1   \n",
              "1               J T  https://play-lh.googleusercontent.com/a-/ALV-U...      1   \n",
              "2      Sarah Sarina  https://play-lh.googleusercontent.com/a-/ALV-U...      3   \n",
              "3  Anonymous Secret  https://play-lh.googleusercontent.com/a-/ALV-U...      4   \n",
              "4      Salma Dassar  https://play-lh.googleusercontent.com/a-/ALV-U...      1   \n",
              "5               Alr  https://play-lh.googleusercontent.com/a-/ALV-U...      5   \n",
              "6       Ariel Zheng  https://play-lh.googleusercontent.com/a-/ALV-U...      5   \n",
              "\n",
              "   thumbsUpCount              app_id  \\\n",
              "0              0  com.miHoYo.tot.glb   \n",
              "1              3  com.miHoYo.tot.glb   \n",
              "2              1  com.miHoYo.tot.glb   \n",
              "3              0  com.miHoYo.tot.glb   \n",
              "4              1  com.miHoYo.tot.glb   \n",
              "5              0  com.miHoYo.tot.glb   \n",
              "6              3  com.miHoYo.tot.glb   \n",
              "\n",
              "                                             content  \\\n",
              "0  GIVE ME BACK MY ACCOUNTTTTT IVE BEEN INACTIVE ...   \n",
              "1  Still love the game However I can't login for ...   \n",
              "2  Honestly, I had been playing this game for alm...   \n",
              "3  Please let us reread/play our previous sweet c...   \n",
              "4                              It keeps crashing !!!   \n",
              "5                               Artem is malewife fr   \n",
              "6  I've had this game ever since it first launche...   \n",
              "\n",
              "                                              bersih  \\\n",
              "0  GIVE ME BACK MY ACCOUNTTTTT IVE BEEN INACTIVE ...   \n",
              "1  Still love the game However I cant login for s...   \n",
              "2  Honestly I had been playing this game for almo...   \n",
              "3  Please let us rereadplay our previous sweet ch...   \n",
              "4                                  It keeps crashing   \n",
              "5                               Artem is malewife fr   \n",
              "6  Ive had this game ever since it first launched...   \n",
              "\n",
              "                                         casefolding  \\\n",
              "0  give me back my accounttttt ive been inactive ...   \n",
              "1  still love the game however i cant login for s...   \n",
              "2  honestly i had been playing this game for almo...   \n",
              "3  please let us rereadplay our previous sweet ch...   \n",
              "4                                  it keeps crashing   \n",
              "5                               artem is malewife fr   \n",
              "6  ive had this game ever since it first launched...   \n",
              "\n",
              "                                               sopan  \\\n",
              "0  give me back my accounttttt ive been inactive ...   \n",
              "1  still love the game however i cant login for s...   \n",
              "2  honestly i had been playing this game for almo...   \n",
              "3  please let us rereadplay our previous sweet ch...   \n",
              "4                                  it keeps crashing   \n",
              "5                               artem is malewife fr   \n",
              "6  ive had this game ever since it first launched...   \n",
              "\n",
              "                                               token  \\\n",
              "0  [give, me, back, my, accounttttt, ive, been, i...   \n",
              "1  [still, love, the, game, however, i, cant, log...   \n",
              "2  [honestly, i, had, been, playing, this, game, ...   \n",
              "3  [please, let, us, rereadplay, our, previous, s...   \n",
              "4                              [it, keeps, crashing]   \n",
              "5                          [artem, is, malewife, fr]   \n",
              "6  [ive, had, this, game, ever, since, it, first,...   \n",
              "\n",
              "                                          lemetisasi  \\\n",
              "0  [give, me, back, my, accounttttt, ive, been, i...   \n",
              "1  [still, love, the, game, however, i, cant, log...   \n",
              "2  [honestly, i, had, been, playing, this, game, ...   \n",
              "3  [please, let, u, rereadplay, our, previous, sw...   \n",
              "4                               [it, keep, crashing]   \n",
              "5                          [artem, is, malewife, fr]   \n",
              "6  [ive, had, this, game, ever, since, it, first,...   \n",
              "\n",
              "                                            stopword  \\\n",
              "0  [give, back, accounttttt, ive, inactive, month...   \n",
              "1  [still, love, game, however, cant, login, reas...   \n",
              "2  [honestly, playing, game, almost, year, always...   \n",
              "3  [please, let, u, rereadplay, previous, sweet, ...   \n",
              "4                                   [keep, crashing]   \n",
              "5                              [artem, malewife, fr]   \n",
              "6  [ive, game, ever, since, first, launched, toda...   \n",
              "\n",
              "                                               final  nilai polaritas  \\\n",
              "0  give back accounttttt ive inactive month due w...        -0.015625   \n",
              "1  still love game however cant login reason isnt...         0.229428   \n",
              "2  honestly playing game almost year always unluc...         0.290645   \n",
              "3     please let u rereadplay previous sweet chapter         0.185067   \n",
              "4                                      keep crashing         0.000000   \n",
              "5                                  artem malewife fr         0.000000   \n",
              "6  ive game ever since first launched today dawne...         0.283111   \n",
              "\n",
              "  polaritas  \n",
              "0   negatif  \n",
              "1   positif  \n",
              "2   positif  \n",
              "3   positif  \n",
              "4    netral  \n",
              "5    netral  \n",
              "6   positif  "
            ],
            "text/html": [
              "\n",
              "  <div id=\"df-3b485d76-ad9d-4a98-80ab-222d59dbd3dd\" class=\"colab-df-container\">\n",
              "    <div>\n",
              "<style scoped>\n",
              "    .dataframe tbody tr th:only-of-type {\n",
              "        vertical-align: middle;\n",
              "    }\n",
              "\n",
              "    .dataframe tbody tr th {\n",
              "        vertical-align: top;\n",
              "    }\n",
              "\n",
              "    .dataframe thead th {\n",
              "        text-align: right;\n",
              "    }\n",
              "</style>\n",
              "<table border=\"1\" class=\"dataframe\">\n",
              "  <thead>\n",
              "    <tr style=\"text-align: right;\">\n",
              "      <th></th>\n",
              "      <th>userName</th>\n",
              "      <th>userImage</th>\n",
              "      <th>score</th>\n",
              "      <th>thumbsUpCount</th>\n",
              "      <th>app_id</th>\n",
              "      <th>content</th>\n",
              "      <th>bersih</th>\n",
              "      <th>casefolding</th>\n",
              "      <th>sopan</th>\n",
              "      <th>token</th>\n",
              "      <th>lemetisasi</th>\n",
              "      <th>stopword</th>\n",
              "      <th>final</th>\n",
              "      <th>nilai polaritas</th>\n",
              "      <th>polaritas</th>\n",
              "    </tr>\n",
              "  </thead>\n",
              "  <tbody>\n",
              "    <tr>\n",
              "      <th>0</th>\n",
              "      <td>Elyse</td>\n",
              "      <td>https://play-lh.googleusercontent.com/a-/ALV-U...</td>\n",
              "      <td>1</td>\n",
              "      <td>0</td>\n",
              "      <td>com.miHoYo.tot.glb</td>\n",
              "      <td>GIVE ME BACK MY ACCOUNTTTTT IVE BEEN INACTIVE ...</td>\n",
              "      <td>GIVE ME BACK MY ACCOUNTTTTT IVE BEEN INACTIVE ...</td>\n",
              "      <td>give me back my accounttttt ive been inactive ...</td>\n",
              "      <td>give me back my accounttttt ive been inactive ...</td>\n",
              "      <td>[give, me, back, my, accounttttt, ive, been, i...</td>\n",
              "      <td>[give, me, back, my, accounttttt, ive, been, i...</td>\n",
              "      <td>[give, back, accounttttt, ive, inactive, month...</td>\n",
              "      <td>give back accounttttt ive inactive month due w...</td>\n",
              "      <td>-0.015625</td>\n",
              "      <td>negatif</td>\n",
              "    </tr>\n",
              "    <tr>\n",
              "      <th>1</th>\n",
              "      <td>J T</td>\n",
              "      <td>https://play-lh.googleusercontent.com/a-/ALV-U...</td>\n",
              "      <td>1</td>\n",
              "      <td>3</td>\n",
              "      <td>com.miHoYo.tot.glb</td>\n",
              "      <td>Still love the game However I can't login for ...</td>\n",
              "      <td>Still love the game However I cant login for s...</td>\n",
              "      <td>still love the game however i cant login for s...</td>\n",
              "      <td>still love the game however i cant login for s...</td>\n",
              "      <td>[still, love, the, game, however, i, cant, log...</td>\n",
              "      <td>[still, love, the, game, however, i, cant, log...</td>\n",
              "      <td>[still, love, game, however, cant, login, reas...</td>\n",
              "      <td>still love game however cant login reason isnt...</td>\n",
              "      <td>0.229428</td>\n",
              "      <td>positif</td>\n",
              "    </tr>\n",
              "    <tr>\n",
              "      <th>2</th>\n",
              "      <td>Sarah Sarina</td>\n",
              "      <td>https://play-lh.googleusercontent.com/a-/ALV-U...</td>\n",
              "      <td>3</td>\n",
              "      <td>1</td>\n",
              "      <td>com.miHoYo.tot.glb</td>\n",
              "      <td>Honestly, I had been playing this game for alm...</td>\n",
              "      <td>Honestly I had been playing this game for almo...</td>\n",
              "      <td>honestly i had been playing this game for almo...</td>\n",
              "      <td>honestly i had been playing this game for almo...</td>\n",
              "      <td>[honestly, i, had, been, playing, this, game, ...</td>\n",
              "      <td>[honestly, i, had, been, playing, this, game, ...</td>\n",
              "      <td>[honestly, playing, game, almost, year, always...</td>\n",
              "      <td>honestly playing game almost year always unluc...</td>\n",
              "      <td>0.290645</td>\n",
              "      <td>positif</td>\n",
              "    </tr>\n",
              "    <tr>\n",
              "      <th>3</th>\n",
              "      <td>Anonymous Secret</td>\n",
              "      <td>https://play-lh.googleusercontent.com/a-/ALV-U...</td>\n",
              "      <td>4</td>\n",
              "      <td>0</td>\n",
              "      <td>com.miHoYo.tot.glb</td>\n",
              "      <td>Please let us reread/play our previous sweet c...</td>\n",
              "      <td>Please let us rereadplay our previous sweet ch...</td>\n",
              "      <td>please let us rereadplay our previous sweet ch...</td>\n",
              "      <td>please let us rereadplay our previous sweet ch...</td>\n",
              "      <td>[please, let, us, rereadplay, our, previous, s...</td>\n",
              "      <td>[please, let, u, rereadplay, our, previous, sw...</td>\n",
              "      <td>[please, let, u, rereadplay, previous, sweet, ...</td>\n",
              "      <td>please let u rereadplay previous sweet chapter</td>\n",
              "      <td>0.185067</td>\n",
              "      <td>positif</td>\n",
              "    </tr>\n",
              "    <tr>\n",
              "      <th>4</th>\n",
              "      <td>Salma Dassar</td>\n",
              "      <td>https://play-lh.googleusercontent.com/a-/ALV-U...</td>\n",
              "      <td>1</td>\n",
              "      <td>1</td>\n",
              "      <td>com.miHoYo.tot.glb</td>\n",
              "      <td>It keeps crashing !!!</td>\n",
              "      <td>It keeps crashing</td>\n",
              "      <td>it keeps crashing</td>\n",
              "      <td>it keeps crashing</td>\n",
              "      <td>[it, keeps, crashing]</td>\n",
              "      <td>[it, keep, crashing]</td>\n",
              "      <td>[keep, crashing]</td>\n",
              "      <td>keep crashing</td>\n",
              "      <td>0.000000</td>\n",
              "      <td>netral</td>\n",
              "    </tr>\n",
              "    <tr>\n",
              "      <th>5</th>\n",
              "      <td>Alr</td>\n",
              "      <td>https://play-lh.googleusercontent.com/a-/ALV-U...</td>\n",
              "      <td>5</td>\n",
              "      <td>0</td>\n",
              "      <td>com.miHoYo.tot.glb</td>\n",
              "      <td>Artem is malewife fr</td>\n",
              "      <td>Artem is malewife fr</td>\n",
              "      <td>artem is malewife fr</td>\n",
              "      <td>artem is malewife fr</td>\n",
              "      <td>[artem, is, malewife, fr]</td>\n",
              "      <td>[artem, is, malewife, fr]</td>\n",
              "      <td>[artem, malewife, fr]</td>\n",
              "      <td>artem malewife fr</td>\n",
              "      <td>0.000000</td>\n",
              "      <td>netral</td>\n",
              "    </tr>\n",
              "    <tr>\n",
              "      <th>6</th>\n",
              "      <td>Ariel Zheng</td>\n",
              "      <td>https://play-lh.googleusercontent.com/a-/ALV-U...</td>\n",
              "      <td>5</td>\n",
              "      <td>3</td>\n",
              "      <td>com.miHoYo.tot.glb</td>\n",
              "      <td>I've had this game ever since it first launche...</td>\n",
              "      <td>Ive had this game ever since it first launched...</td>\n",
              "      <td>ive had this game ever since it first launched...</td>\n",
              "      <td>ive had this game ever since it first launched...</td>\n",
              "      <td>[ive, had, this, game, ever, since, it, first,...</td>\n",
              "      <td>[ive, had, this, game, ever, since, it, first,...</td>\n",
              "      <td>[ive, game, ever, since, first, launched, toda...</td>\n",
              "      <td>ive game ever since first launched today dawne...</td>\n",
              "      <td>0.283111</td>\n",
              "      <td>positif</td>\n",
              "    </tr>\n",
              "  </tbody>\n",
              "</table>\n",
              "</div>\n",
              "    <div class=\"colab-df-buttons\">\n",
              "\n",
              "  <div class=\"colab-df-container\">\n",
              "    <button class=\"colab-df-convert\" onclick=\"convertToInteractive('df-3b485d76-ad9d-4a98-80ab-222d59dbd3dd')\"\n",
              "            title=\"Convert this dataframe to an interactive table.\"\n",
              "            style=\"display:none;\">\n",
              "\n",
              "  <svg xmlns=\"http://www.w3.org/2000/svg\" height=\"24px\" viewBox=\"0 -960 960 960\">\n",
              "    <path d=\"M120-120v-720h720v720H120Zm60-500h600v-160H180v160Zm220 220h160v-160H400v160Zm0 220h160v-160H400v160ZM180-400h160v-160H180v160Zm440 0h160v-160H620v160ZM180-180h160v-160H180v160Zm440 0h160v-160H620v160Z\"/>\n",
              "  </svg>\n",
              "    </button>\n",
              "\n",
              "  <style>\n",
              "    .colab-df-container {\n",
              "      display:flex;\n",
              "      gap: 12px;\n",
              "    }\n",
              "\n",
              "    .colab-df-convert {\n",
              "      background-color: #E8F0FE;\n",
              "      border: none;\n",
              "      border-radius: 50%;\n",
              "      cursor: pointer;\n",
              "      display: none;\n",
              "      fill: #1967D2;\n",
              "      height: 32px;\n",
              "      padding: 0 0 0 0;\n",
              "      width: 32px;\n",
              "    }\n",
              "\n",
              "    .colab-df-convert:hover {\n",
              "      background-color: #E2EBFA;\n",
              "      box-shadow: 0px 1px 2px rgba(60, 64, 67, 0.3), 0px 1px 3px 1px rgba(60, 64, 67, 0.15);\n",
              "      fill: #174EA6;\n",
              "    }\n",
              "\n",
              "    .colab-df-buttons div {\n",
              "      margin-bottom: 4px;\n",
              "    }\n",
              "\n",
              "    [theme=dark] .colab-df-convert {\n",
              "      background-color: #3B4455;\n",
              "      fill: #D2E3FC;\n",
              "    }\n",
              "\n",
              "    [theme=dark] .colab-df-convert:hover {\n",
              "      background-color: #434B5C;\n",
              "      box-shadow: 0px 1px 3px 1px rgba(0, 0, 0, 0.15);\n",
              "      filter: drop-shadow(0px 1px 2px rgba(0, 0, 0, 0.3));\n",
              "      fill: #FFFFFF;\n",
              "    }\n",
              "  </style>\n",
              "\n",
              "    <script>\n",
              "      const buttonEl =\n",
              "        document.querySelector('#df-3b485d76-ad9d-4a98-80ab-222d59dbd3dd button.colab-df-convert');\n",
              "      buttonEl.style.display =\n",
              "        google.colab.kernel.accessAllowed ? 'block' : 'none';\n",
              "\n",
              "      async function convertToInteractive(key) {\n",
              "        const element = document.querySelector('#df-3b485d76-ad9d-4a98-80ab-222d59dbd3dd');\n",
              "        const dataTable =\n",
              "          await google.colab.kernel.invokeFunction('convertToInteractive',\n",
              "                                                    [key], {});\n",
              "        if (!dataTable) return;\n",
              "\n",
              "        const docLinkHtml = 'Like what you see? Visit the ' +\n",
              "          '<a target=\"_blank\" href=https://colab.research.google.com/notebooks/data_table.ipynb>data table notebook</a>'\n",
              "          + ' to learn more about interactive tables.';\n",
              "        element.innerHTML = '';\n",
              "        dataTable['output_type'] = 'display_data';\n",
              "        await google.colab.output.renderOutput(dataTable, element);\n",
              "        const docLink = document.createElement('div');\n",
              "        docLink.innerHTML = docLinkHtml;\n",
              "        element.appendChild(docLink);\n",
              "      }\n",
              "    </script>\n",
              "  </div>\n",
              "\n",
              "\n",
              "<div id=\"df-edd76bba-92b9-4782-a69c-e5c977afa193\">\n",
              "  <button class=\"colab-df-quickchart\" onclick=\"quickchart('df-edd76bba-92b9-4782-a69c-e5c977afa193')\"\n",
              "            title=\"Suggest charts\"\n",
              "            style=\"display:none;\">\n",
              "\n",
              "<svg xmlns=\"http://www.w3.org/2000/svg\" height=\"24px\"viewBox=\"0 0 24 24\"\n",
              "     width=\"24px\">\n",
              "    <g>\n",
              "        <path d=\"M19 3H5c-1.1 0-2 .9-2 2v14c0 1.1.9 2 2 2h14c1.1 0 2-.9 2-2V5c0-1.1-.9-2-2-2zM9 17H7v-7h2v7zm4 0h-2V7h2v10zm4 0h-2v-4h2v4z\"/>\n",
              "    </g>\n",
              "</svg>\n",
              "  </button>\n",
              "\n",
              "<style>\n",
              "  .colab-df-quickchart {\n",
              "      --bg-color: #E8F0FE;\n",
              "      --fill-color: #1967D2;\n",
              "      --hover-bg-color: #E2EBFA;\n",
              "      --hover-fill-color: #174EA6;\n",
              "      --disabled-fill-color: #AAA;\n",
              "      --disabled-bg-color: #DDD;\n",
              "  }\n",
              "\n",
              "  [theme=dark] .colab-df-quickchart {\n",
              "      --bg-color: #3B4455;\n",
              "      --fill-color: #D2E3FC;\n",
              "      --hover-bg-color: #434B5C;\n",
              "      --hover-fill-color: #FFFFFF;\n",
              "      --disabled-bg-color: #3B4455;\n",
              "      --disabled-fill-color: #666;\n",
              "  }\n",
              "\n",
              "  .colab-df-quickchart {\n",
              "    background-color: var(--bg-color);\n",
              "    border: none;\n",
              "    border-radius: 50%;\n",
              "    cursor: pointer;\n",
              "    display: none;\n",
              "    fill: var(--fill-color);\n",
              "    height: 32px;\n",
              "    padding: 0;\n",
              "    width: 32px;\n",
              "  }\n",
              "\n",
              "  .colab-df-quickchart:hover {\n",
              "    background-color: var(--hover-bg-color);\n",
              "    box-shadow: 0 1px 2px rgba(60, 64, 67, 0.3), 0 1px 3px 1px rgba(60, 64, 67, 0.15);\n",
              "    fill: var(--button-hover-fill-color);\n",
              "  }\n",
              "\n",
              "  .colab-df-quickchart-complete:disabled,\n",
              "  .colab-df-quickchart-complete:disabled:hover {\n",
              "    background-color: var(--disabled-bg-color);\n",
              "    fill: var(--disabled-fill-color);\n",
              "    box-shadow: none;\n",
              "  }\n",
              "\n",
              "  .colab-df-spinner {\n",
              "    border: 2px solid var(--fill-color);\n",
              "    border-color: transparent;\n",
              "    border-bottom-color: var(--fill-color);\n",
              "    animation:\n",
              "      spin 1s steps(1) infinite;\n",
              "  }\n",
              "\n",
              "  @keyframes spin {\n",
              "    0% {\n",
              "      border-color: transparent;\n",
              "      border-bottom-color: var(--fill-color);\n",
              "      border-left-color: var(--fill-color);\n",
              "    }\n",
              "    20% {\n",
              "      border-color: transparent;\n",
              "      border-left-color: var(--fill-color);\n",
              "      border-top-color: var(--fill-color);\n",
              "    }\n",
              "    30% {\n",
              "      border-color: transparent;\n",
              "      border-left-color: var(--fill-color);\n",
              "      border-top-color: var(--fill-color);\n",
              "      border-right-color: var(--fill-color);\n",
              "    }\n",
              "    40% {\n",
              "      border-color: transparent;\n",
              "      border-right-color: var(--fill-color);\n",
              "      border-top-color: var(--fill-color);\n",
              "    }\n",
              "    60% {\n",
              "      border-color: transparent;\n",
              "      border-right-color: var(--fill-color);\n",
              "    }\n",
              "    80% {\n",
              "      border-color: transparent;\n",
              "      border-right-color: var(--fill-color);\n",
              "      border-bottom-color: var(--fill-color);\n",
              "    }\n",
              "    90% {\n",
              "      border-color: transparent;\n",
              "      border-bottom-color: var(--fill-color);\n",
              "    }\n",
              "  }\n",
              "</style>\n",
              "\n",
              "  <script>\n",
              "    async function quickchart(key) {\n",
              "      const quickchartButtonEl =\n",
              "        document.querySelector('#' + key + ' button');\n",
              "      quickchartButtonEl.disabled = true;  // To prevent multiple clicks.\n",
              "      quickchartButtonEl.classList.add('colab-df-spinner');\n",
              "      try {\n",
              "        const charts = await google.colab.kernel.invokeFunction(\n",
              "            'suggestCharts', [key], {});\n",
              "      } catch (error) {\n",
              "        console.error('Error during call to suggestCharts:', error);\n",
              "      }\n",
              "      quickchartButtonEl.classList.remove('colab-df-spinner');\n",
              "      quickchartButtonEl.classList.add('colab-df-quickchart-complete');\n",
              "    }\n",
              "    (() => {\n",
              "      let quickchartButtonEl =\n",
              "        document.querySelector('#df-edd76bba-92b9-4782-a69c-e5c977afa193 button');\n",
              "      quickchartButtonEl.style.display =\n",
              "        google.colab.kernel.accessAllowed ? 'block' : 'none';\n",
              "    })();\n",
              "  </script>\n",
              "</div>\n",
              "\n",
              "    </div>\n",
              "  </div>\n"
            ],
            "application/vnd.google.colaboratory.intrinsic+json": {
              "type": "dataframe",
              "variable_name": "dfkombi"
            }
          },
          "metadata": {},
          "execution_count": 68
        }
      ],
      "source": [
        "#cek sampel df\n",
        "dfkombi.head(7)"
      ]
    },
    {
      "cell_type": "markdown",
      "metadata": {
        "id": "6dhXh6B8bXDp"
      },
      "source": [
        "basis yang dipakai adalah 'dfkombi'"
      ]
    },
    {
      "cell_type": "code",
      "execution_count": null,
      "metadata": {
        "colab": {
          "base_uri": "https://localhost:8080/",
          "height": 619
        },
        "id": "5hjylSjhFbMo",
        "outputId": "1f7b1d81-1927-4518-ca99-c568c2e20dd1"
      },
      "outputs": [
        {
          "output_type": "display_data",
          "data": {
            "text/plain": [
              "<Figure size 700x700 with 1 Axes>"
            ],
            "image/png": "[encoded data removed]"
          },
          "metadata": {}
        }
      ],
      "source": [
        "#Inspeksi Pie\n",
        "fig, ax = plt.subplots(figsize=(7, 7))\n",
        "\n",
        "# Mengambil jumlah data polaritas sentimen dari DataFrame 'clean_df' dan menyimpannya dalam list 'sizes'.\n",
        "sizes = [count for count in selp]\n",
        "\n",
        "#pelabelan\n",
        "labels = list(selp.index)\n",
        "\n",
        "# Jarak\n",
        "explode = (0.01, 0.005, 0)\n",
        "\n",
        "# Membuat pie chart dengan data 'sizes', 'labels', dan 'explode' yang telah ditentukan.\n",
        "ax.pie(x=sizes, labels=labels, autopct='%1.1f%%', explode=explode, textprops={'fontsize': 14})\n",
        "\n",
        "# Menetapkan judul untuk pie chart dengan ukuran font dan jarak (padding) tertentu.\n",
        "ax.set_title('Infromasi dasar Sentimen', fontsize=16, pad=20)\n",
        "\n",
        "# Menampilkan pie chart.\n",
        "plt.show()"
      ]
    },
    {
      "cell_type": "markdown",
      "metadata": {
        "id": "oQP1qcS1FoL-"
      },
      "source": [
        "### Awan kata"
      ]
    },
    {
      "cell_type": "markdown",
      "metadata": {
        "id": "QJmb5o9wwWRm"
      },
      "source": [
        "#### Positif"
      ]
    },
    {
      "cell_type": "code",
      "execution_count": null,
      "metadata": {
        "id": "b7QXB0ycFlqf"
      },
      "outputs": [],
      "source": [
        "#Inspeksi awan kata untuk teks sentimen positif: Pengambilan kolom polaritas\n",
        "jpolaritas = dfkombi['polaritas'].copy()\n",
        "makskol = 3000\n",
        "# Mengatur opsi tampilan Pandas agar kolom dapat menampilkan teks hingga 3000 karakter.\n",
        "pd.set_option('display.max_colwidth', makskol)\n",
        "\n",
        "# Membuat DataFrame baru 'ulasanp' yang hanya berisi tweet dengan polaritas netral.\n",
        "ulasanp = dfkombi[dfkombi['polaritas'] == 'positif']\n",
        "\n",
        "# Memilih hanya kolom-kolom tertentu dari DataFrame 'ulasanz'.\n",
        "cuitanp = ulasanp[['final', 'nilai polaritas', 'polaritas','stopword']].copy()\n",
        "\n",
        "# Mengurutkan DataFrame 'positive_tweets' berdasarkan 'polarity_score' secara menurun.\n",
        "cuitanp = cuitanp.sort_values(by='nilai polaritas', ascending=False)\n",
        "\n",
        "# Mengatur ulang indeks DataFrame agar dimulai dari 0.\n",
        "cuitanp = cuitanp.reset_index(drop=True)\n",
        "\n",
        "# Menambahkan 1 ke semua indeks DataFrame.\n",
        "cuitanp.index += 1\n",
        "#ke sentimen netral"
      ]
    },
    {
      "cell_type": "code",
      "execution_count": null,
      "metadata": {
        "id": "L-Wvq7hyv3oo"
      },
      "outputs": [],
      "source": [
        "#inspeksi spesikik sentimen: Cuitan positif\n",
        "positif = ''\n",
        "\n",
        "# Iterasi melalui setiap tweet dalam kolom stopword di cuitann.\n",
        "for tweet in cuitanp['stopword']:\n",
        "    # Iterasi melalui setiap kata dalam tweet.\n",
        "    for word in tweet:\n",
        "        # Menambahkan kata ke dalam 'list_words'.\n",
        "        positif += ' ' + (word)\n",
        "\n",
        "# Membuat objek WordCloud dengan parameter tertentu.\n",
        "wordcloud = WordCloud(width=1000, height=800, background_color='white', min_font_size=10).generate(positif)\n",
        "\n",
        "# Membuat gambar dan sumbu untuk menampilkan 'word cloud'.\n",
        "fig, ax = plt.subplots(figsize=(11, 11))\n",
        "\n",
        "# Menetapkan judul untuk word cloud.\n",
        "ax.set_title('Data awan cuitan bagus tentang produk', fontsize=18)\n",
        "\n",
        "# Menonaktifkan grid pada sumbu.\n",
        "ax.grid(False)\n",
        "\n",
        "# Menampilkan word cloud dalam gambar.\n",
        "ax.imshow((wordcloud))\n",
        "\n",
        "# Mengatur layout gambar.\n",
        "fig.tight_layout(pad=0)\n",
        "\n",
        "# Menyembunyikan sumbu.\n",
        "ax.axis('off')\n",
        "\n",
        "# Menampilkan word cloud.\n",
        "plt.show()"
      ]
    },
    {
      "cell_type": "markdown",
      "metadata": {
        "id": "ymXHYLczwYMG"
      },
      "source": [
        "#### Netral"
      ]
    },
    {
      "cell_type": "code",
      "execution_count": null,
      "metadata": {
        "id": "j_dSSp2qJVU7"
      },
      "outputs": [],
      "source": [
        "#Inspeksi awan kata untuk teks sentimen netral: Pengambilan kolom polaritas\n",
        "jpolaritas = dfkombi['polaritas'].copy()\n",
        "makskol = 3000\n",
        "# Mengatur opsi tampilan Pandas agar kolom dapat menampilkan teks hingga 3000 karakter.\n",
        "pd.set_option('display.max_colwidth', makskol)\n",
        "\n",
        "# Membuat DataFrame baru 'ulasanp' yang hanya berisi tweet dengan polaritas netral.\n",
        "ulasanz = dfkombi[dfkombi['polaritas'] == 'netral']\n",
        "\n",
        "# Memilih hanya kolom-kolom tertentu dari DataFrame 'ulasanz'.\n",
        "cuitanz = ulasanz[['final', 'nilai polaritas', 'polaritas','stopword']].copy()\n",
        "\n",
        "# Mengurutkan DataFrame 'positive_tweets' berdasarkan 'polarity_score' secara menurun.\n",
        "cuitanz = cuitanz.sort_values(by='nilai polaritas', ascending=False)\n",
        "\n",
        "# Mengatur ulang indeks DataFrame agar dimulai dari 0.\n",
        "cuitanz = cuitanz.reset_index(drop=True)\n",
        "\n",
        "# Menambahkan 1 ke semua indeks DataFrame.\n",
        "cuitanp.index += 1\n",
        "#ke sentimen negatif"
      ]
    },
    {
      "cell_type": "code",
      "execution_count": null,
      "metadata": {
        "id": "cr4MsUKcv6XG"
      },
      "outputs": [],
      "source": [
        "#cuitan netral\n",
        "normal = ''\n",
        "\n",
        "# Iterasi melalui setiap tweet dalam kolom stopword di cuitann.\n",
        "for tweet in cuitanz['stopword']:\n",
        "    # Iterasi melalui setiap kata dalam tweet.\n",
        "    for word in tweet:\n",
        "        # Menambahkan kata ke dalam 'list_words'.\n",
        "        normal += ' ' + (word)\n",
        "\n",
        "# Membuat objek WordCloud dengan parameter tertentu.\n",
        "wordcloud = WordCloud(width=1000, height=1000, background_color='white', min_font_size=10).generate(normal)\n",
        "\n",
        "# Membuat gambar dan sumbu untuk menampilkan word cloud.\n",
        "fig, ax = plt.subplots(figsize=(12, 12))\n",
        "\n",
        "# Menetapkan judul untuk word cloud.\n",
        "ax.set_title('Data awan cuitan normal tentang produk', fontsize=18)\n",
        "\n",
        "# Menonaktifkan grid pada sumbu.\n",
        "ax.grid(False)\n",
        "\n",
        "# Menampilkan word cloud dalam gambar.\n",
        "ax.imshow((wordcloud))\n",
        "\n",
        "# Mengatur layout gambar.\n",
        "fig.tight_layout(pad=0)\n",
        "\n",
        "# Menyembunyikan sumbu.\n",
        "ax.axis('off')\n",
        "\n",
        "# Menampilkan word cloud.\n",
        "plt.show()"
      ]
    },
    {
      "cell_type": "markdown",
      "metadata": {
        "id": "eZHGEQXRwZzf"
      },
      "source": [
        "#### Negatif"
      ]
    },
    {
      "cell_type": "code",
      "execution_count": null,
      "metadata": {
        "id": "jeOjeLR2Jv0u"
      },
      "outputs": [],
      "source": [
        "#cuitan negatif\n",
        "#Inspeksi awan kata untuk teks sentimen netral: Pengambilan kolom polaritas\n",
        "jpolaritas = dfkombi['polaritas'].copy()\n",
        "makskol = 3000\n",
        "# Mengatur opsi tampilan Pandas agar kolom dapat menampilkan teks hingga 3000 karakter.\n",
        "pd.set_option('display.max_colwidth', makskol)\n",
        "\n",
        "# Membuat DataFrame baru 'ulasanp' yang hanya berisi tweet dengan polaritas netral.\n",
        "ulasanm = dfkombi[dfkombi['polaritas'] == 'negatif']\n",
        "\n",
        "# Memilih hanya kolom-kolom tertentu dari DataFrame 'ulasanz'.\n",
        "cuitanm = ulasanm[['final', 'nilai polaritas', 'polaritas','stopword']].copy()\n",
        "\n",
        "# Mengurutkan DataFrame 'positive_tweets' berdasarkan 'polarity_score' secara menurun.\n",
        "cuitanm = cuitanm.sort_values(by='nilai polaritas', ascending=False)\n",
        "\n",
        "# Mengatur ulang indeks DataFrame agar dimulai dari 0.\n",
        "cuitanz = cuitanz.reset_index(drop=True)\n",
        "\n",
        "# Menambahkan 1 ke semua indeks DataFrame.\n",
        "cuitanp.index += 1\n",
        "#ke sentimen negatif"
      ]
    },
    {
      "cell_type": "code",
      "execution_count": null,
      "metadata": {
        "id": "X7jDyZKtwSF3"
      },
      "outputs": [],
      "source": [
        "#cuitan negatif\n",
        "negatif = ''\n",
        "\n",
        "# Iterasi melalui setiap tweet dalam kolom stopword di cuitann.\n",
        "for tweet in cuitanm['stopword']:\n",
        "    # Iterasi melalui setiap kata dalam tweet.\n",
        "    for word in tweet:\n",
        "        # Menambahkan kata ke dalam 'list_words'.\n",
        "        negatif += ' ' + (word)\n",
        "\n",
        "# Membuat objek WordCloud dengan parameter tertentu.\n",
        "wordcloud = WordCloud(width=1000, height=1000, background_color='white', min_font_size=10).generate(negatif)\n",
        "\n",
        "# Membuat gambar dan sumbu untuk menampilkan word cloud.\n",
        "fig, ax = plt.subplots(figsize=(11, 11))\n",
        "\n",
        "# Menetapkan judul untuk word cloud.\n",
        "ax.set_title('Data awan cuitan tidak bagus tentang produk', fontsize=18)\n",
        "\n",
        "# Menonaktifkan grid pada sumbu.\n",
        "ax.grid(False)\n",
        "\n",
        "# Menampilkan word cloud dalam gambar.\n",
        "ax.imshow((wordcloud))\n",
        "\n",
        "# Mengatur layout gambar.\n",
        "fig.tight_layout(pad=0)\n",
        "\n",
        "# Menyembunyikan sumbu.\n",
        "ax.axis('off')\n",
        "\n",
        "# Menampilkan word cloud.\n",
        "plt.show()"
      ]
    },
    {
      "cell_type": "markdown",
      "metadata": {
        "id": "ONicKNBBJxQN"
      },
      "source": [
        "### Grafik pelabelan"
      ]
    },
    {
      "cell_type": "code",
      "execution_count": null,
      "metadata": {
        "colab": {
          "base_uri": "https://localhost:8080/",
          "height": 485
        },
        "id": "GFNyZSrUJ58d",
        "outputId": "b8f498b2-b467-447a-f540-48661303164c"
      },
      "outputs": [
        {
          "data": {
            "image/png": "[encoded data removed]",
            "text/plain": [
              "<Figure size 640x480 with 1 Axes>"
            ]
          },
          "metadata": {},
          "output_type": "display_data"
        }
      ],
      "source": [
        "#inspeksi bintang\n",
        "sns.countplot(x='score', data=dfkombi, hue='score', palette=HAPPY_COLORS_PALETTE, dodge=False)\n",
        "plt.title('Nilai Distribusi Ulasan')\n",
        "plt.xlabel('Review Score')\n",
        "plt.legend([],[], frameon=False)\n",
        "\n",
        "plt.show()"
      ]
    },
    {
      "cell_type": "code",
      "execution_count": null,
      "metadata": {
        "colab": {
          "base_uri": "https://localhost:8080/",
          "height": 1000
        },
        "id": "Dsdp_P-twiCY",
        "outputId": "91d971fd-2048-4c70-e6cf-980f5317f80e"
      },
      "outputs": [
        {
          "data": {
            "image/png": "[encoded data removed]",
            "text/plain": [
              "<Figure size 1200x700 with 1 Axes>"
            ]
          },
          "metadata": {},
          "output_type": "display_data"
        },
        {
          "data": {
            "image/png": "[encoded data removed]",
            "text/plain": [
              "<Figure size 1200x700 with 1 Axes>"
            ]
          },
          "metadata": {},
          "output_type": "display_data"
        }
      ],
      "source": [
        "#Tahap visualisasi Grafik batang: Penyetelan data\n",
        "plt.figure(figsize=(12, 7))\n",
        "\n",
        "# Check class distribution\n",
        "class_dist_plot = sns.countplot(x='polaritas', data=dfkombi)\n",
        "plt.title('Distribusi kelas')\n",
        "plt.xlabel('Polaritas')\n",
        "plt.ylabel('Jumlah')\n",
        "\n",
        "# Add counts above the bars on the plot\n",
        "for p in class_dist_plot.patches:\n",
        "    class_dist_plot.annotate(format(p.get_height(), '.0f'),\n",
        "                              (p.get_x() + p.get_width() / 2., p.get_height()),\n",
        "                              ha='center', va='center',\n",
        "                              xytext=(0, 10),\n",
        "                              textcoords='offset points')\n",
        "\n",
        "plt.show()\n",
        "\n",
        "# Set the figure size\n",
        "plt.figure(figsize=(12, 7))\n",
        "\n",
        "# Visualize text length distribution\n",
        "dfkopitungk['panjang_kata'] = dfkombi['final'].apply(lambda x: len(x.split()))\n",
        "sns.histplot(dfkopitungk['panjang_kata'])\n",
        "plt.title('Distribusi panjang kata')\n",
        "plt.xlabel('Panjang kata')\n",
        "plt.ylabel('Jumlah')\n",
        "plt.show()\n",
        "\n",
        "#ke bagian kata-kata"
      ]
    },
    {
      "cell_type": "code",
      "execution_count": null,
      "metadata": {
        "id": "MPkdSmn3SPW3"
      },
      "outputs": [],
      "source": [
        "#instalasi gc\n",
        "gc.collect()"
      ]
    },
    {
      "cell_type": "code",
      "execution_count": null,
      "metadata": {
        "id": "B3KzhtB7SO8u"
      },
      "outputs": [],
      "source": [
        "# Penyetelan kata-kata\n",
        "plt.figure(figsize=(12, 7))\n",
        "\n",
        "# Inspeksi kata paling sering\n",
        "vectorizer = TfidfVectorizer()\n",
        "X = vectorizer.fit_transform(dfkombi['final'])\n",
        "tfidf_df = pd.DataFrame(X.toarray(), columns=vectorizer.get_feature_names_out())\n",
        "tfidf_df = tfidf_df.sum().reset_index(name='jumlah kata')\n",
        "tfidf_df = tfidf_df.sort_values('jumlah kata', ascending=False).head(20)\n",
        "sns.barplot(x='jumlah kata', y='index', data=tfidf_df)\n",
        "plt.title('Kata paling sering')\n",
        "plt.show()"
      ]
    },
    {
      "cell_type": "markdown",
      "metadata": {
        "id": "3Igw85gk9NxP"
      },
      "source": [
        "# Eksekusi Model\n",
        "Prosedur Eksekusi model\n",
        "1. Teknik RFC ('Random Forest Classifier') dengan vektorisasi TFID Hashing\n",
        "2. Teknik Support Vector/ vektor pendukung dengan vektorisasi 'Fast Text'\n",
        "3. Teknik Regresi Logistik dengan vektorisasi word2vec\n",
        "4. Teknik pohon keputusan dengan 'Fast Text'\n",
        "Semua sampel memakai teknik sampel kombinasi dari 'Borderline-SMOTE', ADASYN, dan SMOTE dengan rincian berikut:\n",
        "- teknik 'randomforest' memakai urutan SMOTE, ADASYN, SMOTE-Tomek, SMOTE-ENN, dan modifikasi grid yang berlangsung setelah cluster centroid\n",
        "- Nilai Vektor dan pohon keputusan memiliki teknik sampel SMOTE dan ADASYN\n",
        "- Teknik Regresi Logistik memakai ADASYN tunggal\n",
        "\n",
        "> referensi: Junsomboon, N., & Phienthrakul, T. (2017). Combining Over-Sampling and Under-Sampling Techniques for Imbalance Dataset.\n",
        "Proceedings of the 9th International Conference on Machine Learning and Computing - ICMLC 2017. doi:10.1145/3055635.3056643.\n",
        "\n"
      ]
    },
    {
      "cell_type": "markdown",
      "metadata": {
        "id": "A8MYDfWtvrzA"
      },
      "source": [
        "## Penyetelan Model"
      ]
    },
    {
      "cell_type": "markdown",
      "metadata": {
        "id": "jE5Emb9qYb8r"
      },
      "source": [
        "## Inisiasi kolom nomor"
      ]
    },
    {
      "cell_type": "code",
      "execution_count": null,
      "metadata": {
        "colab": {
          "base_uri": "https://localhost:8080/"
        },
        "id": "-C_1WPRw_Cbk",
        "outputId": "cb5f2567-efe3-474c-e1e7-5f66c819a7c2"
      },
      "outputs": [
        {
          "output_type": "execute_result",
          "data": {
            "text/plain": [
              "0"
            ]
          },
          "metadata": {},
          "execution_count": 72
        }
      ],
      "source": [
        "#pelaksanaan gc\n",
        "gc.collect()"
      ]
    },
    {
      "cell_type": "code",
      "execution_count": null,
      "metadata": {
        "id": "la_5VYkapCCk"
      },
      "outputs": [],
      "source": [
        "#penyetelan label\n",
        "dfkombi['nomor'] = dfkombi['polaritas'].map({'positif': 2, 'netral': 1, 'negatif': 0}).copy()"
      ]
    },
    {
      "cell_type": "markdown",
      "metadata": {
        "id": "-2oiYLfjWbGJ"
      },
      "source": [
        "urutan dari kiri ke kanan"
      ]
    },
    {
      "cell_type": "code",
      "execution_count": null,
      "metadata": {
        "colab": {
          "base_uri": "https://localhost:8080/"
        },
        "id": "LCGyvh2Zpjnh",
        "outputId": "48acd6f0-2601-4fa9-a9cd-c0333c5d3d50"
      },
      "outputs": [
        {
          "output_type": "stream",
          "name": "stdout",
          "text": [
            "0    0\n",
            "1    2\n",
            "2    2\n",
            "3    2\n",
            "4    1\n",
            "5    1\n",
            "6    2\n",
            "Name: nomor, dtype: int64\n"
          ]
        }
      ],
      "source": [
        "#cek bentuk kolom nomor\n",
        "kepnumer = dfkombi['nomor'].head(7) #kepala untuk kolom numerik\n",
        "print(kepnumer)"
      ]
    },
    {
      "cell_type": "markdown",
      "metadata": {
        "id": "NLiuVIdHp0Dp"
      },
      "source": [
        "Proses penomoran ini bertujuan untuk mewakilkan angka dengan keterangan:\n",
        "* Kode '2' untuk positif\n",
        "* Kode '1' untuk netral\n",
        "* Kode '0' untuk negatif"
      ]
    },
    {
      "cell_type": "markdown",
      "metadata": {
        "id": "I6gG8U7Cwim7"
      },
      "source": [
        "## Vektorisasi"
      ]
    },
    {
      "cell_type": "markdown",
      "metadata": {
        "id": "0GEvzMByvvj5"
      },
      "source": [
        "### Persiapan kolom 'df'"
      ]
    },
    {
      "cell_type": "code",
      "execution_count": null,
      "metadata": {
        "colab": {
          "base_uri": "https://localhost:8080/"
        },
        "id": "YxkjTM8Z1qez",
        "outputId": "aaa7255b-8320-4951-d4ba-ebdfe7e7eea2"
      },
      "outputs": [
        {
          "output_type": "execute_result",
          "data": {
            "text/plain": [
              "0"
            ]
          },
          "metadata": {},
          "execution_count": 75
        }
      ],
      "source": [
        "#penyetelan dengan gc collect\n",
        "gc.collect()"
      ]
    },
    {
      "cell_type": "code",
      "execution_count": null,
      "metadata": {
        "id": "fOKH6KpsDmSs"
      },
      "outputs": [],
      "source": [
        "#Persiapan 'df' untuk model :\n",
        "Xst = dfkombi['final'].copy()\n",
        "yst = dfkombi['nomor'].copy() #perwakilan dari nomor\n",
        "#total kelas dari y\n",
        "totlab = len(yst.unique().copy())"
      ]
    },
    {
      "cell_type": "markdown",
      "metadata": {
        "id": "y9lxbAwKzFnP"
      },
      "source": [
        "Sumbu X adalah hasil final dari df dan sumbu y adalah perwakilan"
      ]
    },
    {
      "cell_type": "code",
      "execution_count": null,
      "metadata": {
        "id": "BBZOsa10wjrV"
      },
      "outputs": [],
      "source": [
        "#Teknik TFDIF Hashing RFC\n",
        "vectorizerh = HashingVectorizer(n_features=2**4, alternate_sign=True)\n",
        "X_tfidf = vectorizerh.fit_transform(Xst)\n",
        "#pembuatan barisan atau array\n",
        "Xtdifar = X_tfidf.toarray()\n",
        "#pembuatan kolom\n",
        "Xcolumns = [f\"feature_{i}\" for i in range(Xtdifar.shape[1])]"
      ]
    },
    {
      "cell_type": "code",
      "execution_count": null,
      "metadata": {
        "id": "xMkIAIziwRmc"
      },
      "outputs": [],
      "source": [
        "#Pembagian skala latihan dan tes: RFC\n",
        "X_train, X_test, y_train, y_test = train_test_split(Xtdifar, yst, test_size=0.2555, random_state=40, stratify=yst)"
      ]
    },
    {
      "cell_type": "markdown",
      "metadata": {
        "id": "wDf4PjErNcgh"
      },
      "source": [
        "bagian ini untuk RFC"
      ]
    },
    {
      "cell_type": "code",
      "execution_count": null,
      "metadata": {
        "colab": {
          "base_uri": "https://localhost:8080/"
        },
        "id": "vP79_XJrhQuL",
        "outputId": "0605921e-53c2-44e8-c492-115c33a777cc"
      },
      "outputs": [
        {
          "output_type": "execute_result",
          "data": {
            "text/plain": [
              "0"
            ]
          },
          "metadata": {},
          "execution_count": 81
        }
      ],
      "source": [
        "#penyetelan gc\n",
        "gc.collect()"
      ]
    },
    {
      "cell_type": "markdown",
      "metadata": {
        "id": "zvF91Kb2pWEg"
      },
      "source": [
        "### Pembuatan sampel untuk Metode percobaan"
      ]
    },
    {
      "cell_type": "code",
      "execution_count": null,
      "metadata": {
        "colab": {
          "base_uri": "https://localhost:8080/"
        },
        "id": "-mGbVqAQpzbY",
        "outputId": "36f1f698-efc0-49ee-93ae-da715170c2f1"
      },
      "outputs": [
        {
          "output_type": "execute_result",
          "data": {
            "text/plain": [
              "0"
            ]
          },
          "metadata": {},
          "execution_count": 82
        }
      ],
      "source": [
        "#pemasangan gc\n",
        "gc.collect()"
      ]
    },
    {
      "cell_type": "code",
      "execution_count": null,
      "metadata": {
        "id": "_hielWpVgRFm"
      },
      "outputs": [],
      "source": [
        "# SMOTE di RCF\n",
        "smote = SMOTE(random_state=41, k_neighbors=6)"
      ]
    },
    {
      "cell_type": "code",
      "execution_count": null,
      "metadata": {
        "id": "dxUv5_r_gWjA"
      },
      "outputs": [],
      "source": [
        "#Modifikasi latihan dan tes dengan SMOTE\n",
        "X_train2, y_train2 = smote.fit_resample(X_train, y_train) #di pengujian\n",
        "X_test2, y_test2 = smote.fit_resample(X_test, y_test) #di tes"
      ]
    },
    {
      "cell_type": "code",
      "execution_count": null,
      "metadata": {
        "id": "53GjWeonmO7d"
      },
      "outputs": [],
      "source": [
        "#Persiapan sampel melalui ADASYN\n",
        "adsyn = ADASYN(sampling_strategy='minority', random_state=40)"
      ]
    },
    {
      "cell_type": "code",
      "execution_count": null,
      "metadata": {
        "id": "AgtBetWFw_Fi"
      },
      "outputs": [],
      "source": [
        "#penyetelan pasca ADASYN\n",
        "X_traina3, y_traina3 = adsyn.fit_resample(X_train2, y_train2) #Bagian latihan\n",
        "X_testa3, y_testa3 = adsyn.fit_resample(X_test2, y_test2) #Bagian tes"
      ]
    },
    {
      "cell_type": "code",
      "execution_count": null,
      "metadata": {
        "id": "BajXGgZkqbsn"
      },
      "outputs": [],
      "source": [
        "#Penyetelan dengan SMOTE-Tomek\n",
        "stomek = SMOTETomek(random_state=40)"
      ]
    },
    {
      "cell_type": "code",
      "execution_count": null,
      "metadata": {
        "id": "LSFVsSS8yp4D"
      },
      "outputs": [],
      "source": [
        "#penyesuaian sampel dengan SMOTETOmek\n",
        "X_train4, y_train4 = stomek.fit_resample(X_traina3, y_traina3) #Bagian latihan\n",
        "X_test4, y_test4 = stomek.fit_resample(X_testa3, y_testa3) #Bagian tes"
      ]
    },
    {
      "cell_type": "code",
      "execution_count": 89,
      "metadata": {
        "id": "6FJVOLVUkmHw"
      },
      "outputs": [],
      "source": [
        "#Persiapan untuk SMOTE-ENN\n",
        "smoteenn = SMOTEENN(random_state=40)\n",
        "#penyesuaian SMOTE-ENN di latihan dan tes\n",
        "X_trainb, y_trainb = smoteenn.fit_resample(X_train4, y_train4) #Bagian latihan\n",
        "X_testb, y_testb = smoteenn.fit_resample(X_test4, y_test4) #Bagian tes"
      ]
    },
    {
      "cell_type": "code",
      "execution_count": 92,
      "metadata": {
        "id": "dqsxa17KstTt"
      },
      "outputs": [],
      "source": [
        "#deklarasi fungsi cluster centroid\n",
        "def create_cluster_centroids(X, y, random_state=40):\n",
        "    # Inisiasi K-means mini\n",
        "    mbkmeans = MiniBatchKMeans(\n",
        "        n_clusters=None,  # Will be determined automatically by ClusterCentroids\n",
        "        batch_size=2000, # Increase batch size for faster processing\n",
        "        n_init='auto',  # otomasi\n",
        "        random_state=random_state,\n",
        "        tol=2e-3,  # Adjust tolerance for faster convergence (tune as needed)\n",
        "        max_iter=100, #Limit the maximum iterations\n",
        "        max_no_improvement=10,  # Adjust based on dataset\n",
        "        verbose=0  # tanpa 'verbose'\n",
        "    )\n",
        "\n",
        "    # Insiasi kluster\n",
        "    cc = ClusterCentroids(\n",
        "        estimator=mbkmeans,\n",
        "        random_state=random_state,\n",
        "        sampling_strategy='auto'\n",
        "    )\n",
        "\n",
        "    # Inisiasi 'under sample'\n",
        "    X_traincc, y_traincc = cc.fit_resample(X_train4, y_train4) #bagian pelatihan\n",
        "    X_testcc, y_testcc = cc.fit_resample(X_test4, y_test4) #di bagian pengujian\n",
        "\n",
        "    return X_traincc, y_traincc, X_testcc, y_testcc\n"
      ]
    },
    {
      "cell_type": "code",
      "execution_count": 95,
      "metadata": {
        "id": "hzUfWVRRd6SE"
      },
      "outputs": [],
      "source": [
        "#pengubahan nama variabel\n",
        "X_train2b, y_train2b, _, _ = create_cluster_centroids(X_train4, y_train4)\n",
        "X_test2b, y_test2b, _, _ = create_cluster_centroids(X_test4, y_test4)"
      ]
    },
    {
      "cell_type": "code",
      "execution_count": 96,
      "metadata": {
        "id": "f4-Iw9Z6l2ZP",
        "colab": {
          "base_uri": "https://localhost:8080/"
        },
        "outputId": "e628a86c-d460-4020-bcac-3fa0fb392643"
      },
      "outputs": [
        {
          "output_type": "execute_result",
          "data": {
            "text/plain": [
              "2914"
            ]
          },
          "metadata": {},
          "execution_count": 96
        }
      ],
      "source": [
        "#inisiais gc\n",
        "gc.collect()"
      ]
    },
    {
      "cell_type": "markdown",
      "metadata": {
        "id": "bpvZNPhGy7o7"
      },
      "source": [
        "Penanda:\n",
        "* kondisi **'b'** menyatakan pasca SMOTE-ENN\n",
        "* kondisi **'2b'** berarti pasca pelabelan dengan kluster centroid 'bagging'\n",
        "* Dua kondisi ini melalui SMOTE, ADASYN, SMOTE-Tomek, dan SMOTE-ENN"
      ]
    },
    {
      "cell_type": "markdown",
      "metadata": {
        "id": "Fb5GdVmVxeYR"
      },
      "source": [
        "### Kondisi SVM dan Regresi Logistik"
      ]
    },
    {
      "cell_type": "markdown",
      "metadata": {
        "id": "LrIGzq-ioiM1"
      },
      "source": [
        "#### teknik Fasttext di SVM"
      ]
    },
    {
      "cell_type": "code",
      "execution_count": null,
      "metadata": {
        "id": "WOVjnaQa3JB5"
      },
      "outputs": [],
      "source": [
        "#inisiasi gc sebelum 'fasttext'\n",
        "gc.collect()"
      ]
    },
    {
      "cell_type": "code",
      "execution_count": null,
      "metadata": {
        "id": "NDvhpuDExfin"
      },
      "outputs": [],
      "source": [
        "#persiapan vektorisasi Fastext\n",
        "tokenisasi = [tweet.split() for tweet in Xst]\n",
        "\n",
        "# Pelatihan dengan 'fast text'\n",
        "fasttext_model = FastText(sentences=tokenisasi, vector_size=101, window=3, min_count=1, workers=4)\n",
        "\n",
        "# Create feature vectors for each tweet\n",
        "X_fst = []\n",
        "for tweet in tokenisasi:\n",
        "    # Get vectors for words present in the model's vocabulary\n",
        "    word_vectors = [fasttext_model.wv[word] for word in tweet if word in fasttext_model.wv]\n",
        "\n",
        "    # Perhitungan jika ada vektor atau nilai nol\n",
        "    if word_vectors:\n",
        "        vector = np.mean(word_vectors, axis=0)  # Calculate average of word vectors\n",
        "    else:\n",
        "        vector = np.zeros(fasttext_model.vector_size)  # Create zero vector\n",
        "\n",
        "    X_fst.append(vector)\n",
        "\n",
        "X_fasttext = np.array(X_fst)"
      ]
    },
    {
      "cell_type": "code",
      "execution_count": null,
      "metadata": {
        "id": "IJqOvqut1R4e"
      },
      "outputs": [],
      "source": [
        "#neteralisasi dengan gc\n",
        "gc.collect()"
      ]
    },
    {
      "cell_type": "code",
      "execution_count": null,
      "metadata": {
        "id": "6BdOb6nlyMF4"
      },
      "outputs": [],
      "source": [
        "#Persiapan tes dan latihan: SVM dengan XGBoost\n",
        "X_trainii, X_testii, y_trainii, y_testii = train_test_split(X_fasttext, yst, test_size=0.255, random_state=40, stratify=yst)"
      ]
    },
    {
      "cell_type": "markdown",
      "metadata": {
        "id": "rGrYrHAUWu2D"
      },
      "source": [
        "Teknik vektorisasi untuk SVM adalah **'Fast Text'**"
      ]
    },
    {
      "cell_type": "markdown",
      "metadata": {
        "id": "225O_mFIorAH"
      },
      "source": [
        "#### persiapan Word2vec untuk regresi logistik"
      ]
    },
    {
      "cell_type": "code",
      "execution_count": null,
      "metadata": {
        "id": "4sGbi8191GBX"
      },
      "outputs": [],
      "source": [
        "#tokenisasi untuk regresi logistik\n",
        "tokenisasi = [tweet.split() for tweet in Xst]"
      ]
    },
    {
      "cell_type": "code",
      "execution_count": null,
      "metadata": {
        "id": "JMUiT9nW1KYp"
      },
      "outputs": [],
      "source": [
        "#persiapan model untuk word2vec dengan penerapan vektorisasi 'Word2vec' untuk regresi logistik\n",
        "modelw2vec = Word2Vec(sentences=tokenisasi, vector_size=131, window=5, min_count=1, workers=4)"
      ]
    },
    {
      "cell_type": "code",
      "execution_count": null,
      "metadata": {
        "id": "aBrxNAgr1QDH"
      },
      "outputs": [],
      "source": [
        "#vektorisasi dengan word2vec\n",
        "vecray = []\n",
        "#iterasi\n",
        "for tweet in tokenisasi:\n",
        "    word_vectors = [modelw2vec.wv[word] for word in tweet if word in modelw2vec.wv]\n",
        "    # Check if word_vectors is not empty before summing\n",
        "    if word_vectors:\n",
        "        vector = np.sum(word_vectors, axis=0) # Use np.sum instead of sum\n",
        "    else:\n",
        "        vector = np.zeros(modelw2vec.vector_size)\n",
        "    vecray.append(vector)\n",
        "#ke persiapan sumbu X & y di regresi logistik"
      ]
    },
    {
      "cell_type": "code",
      "execution_count": null,
      "metadata": {
        "id": "CmUoFc1F1XEQ"
      },
      "outputs": [],
      "source": [
        "#persiapan hasil word2vec\n",
        "X_word2vec = pd.DataFrame(vecray, copy=True)"
      ]
    },
    {
      "cell_type": "code",
      "execution_count": null,
      "metadata": {
        "id": "p2k6TxwtniDW"
      },
      "outputs": [],
      "source": [
        "#penyetelan gc\n",
        "gc.collect()"
      ]
    },
    {
      "cell_type": "markdown",
      "metadata": {
        "id": "XH6jTKi81G2y"
      },
      "source": [
        "#### Persiapan word2vec untuk pohon keputusan"
      ]
    },
    {
      "cell_type": "code",
      "execution_count": 97,
      "metadata": {
        "id": "kTYDB7n01ZAv",
        "colab": {
          "base_uri": "https://localhost:8080/"
        },
        "outputId": "4d30e869-92ab-404c-a75c-d4f6e36ff958"
      },
      "outputs": [
        {
          "output_type": "execute_result",
          "data": {
            "text/plain": [
              "60"
            ]
          },
          "metadata": {},
          "execution_count": 97
        }
      ],
      "source": [
        "#inisiasi gc\n",
        "gc.collect()"
      ]
    },
    {
      "cell_type": "code",
      "execution_count": 98,
      "metadata": {
        "id": "DFc7dGcc1L0g"
      },
      "outputs": [],
      "source": [
        "#inisiasi pohon melalui tokenisasi untuk regresi logistik\n",
        "tokenisasi2 = [tweet.split() for tweet in Xst]"
      ]
    },
    {
      "cell_type": "code",
      "execution_count": 99,
      "metadata": {
        "id": "nQOPDT-K1TI5"
      },
      "outputs": [],
      "source": [
        "#model untuk pohon keputusan: persiapan model untuk word2vec di pohon keputusan\n",
        "modelw2vecb = Word2Vec(sentences=tokenisasi2, vector_size=129, window=5, min_count=1, workers=4)"
      ]
    },
    {
      "cell_type": "code",
      "execution_count": 100,
      "metadata": {
        "id": "97CPJBsx1aap"
      },
      "outputs": [],
      "source": [
        "#vektorisasi dengan word2vec\n",
        "vecray2 = []\n",
        "#iterasi\n",
        "for tweet in tokenisasi2:\n",
        "    word_vectors2 = [modelw2vecb.wv[word] for word in tweet if word in modelw2vecb.wv]\n",
        "    # Check if word_vectors is not empty before summing\n",
        "    if word_vectors2:\n",
        "        vectordt = np.sum(word_vectors2, axis=0) # Use np.sum instead of sum\n",
        "    else:\n",
        "        vectordt = np.zeros(modelw2vecb.vector_size)\n",
        "    vecray2.append(vectordt)\n",
        "#ke persiapan sumbu X & y di pohon keputusan2\n",
        "X_fasttext2 = np.array(vecray2)"
      ]
    },
    {
      "cell_type": "code",
      "execution_count": 101,
      "metadata": {
        "id": "G4y72CHg2VnB",
        "colab": {
          "base_uri": "https://localhost:8080/"
        },
        "outputId": "00ad61cb-a725-423d-de06-a983dcb7e954"
      },
      "outputs": [
        {
          "output_type": "execute_result",
          "data": {
            "text/plain": [
              "0"
            ]
          },
          "metadata": {},
          "execution_count": 101
        }
      ],
      "source": [
        "#neteralisasi dengan gc\n",
        "gc.collect()"
      ]
    },
    {
      "cell_type": "code",
      "execution_count": 102,
      "metadata": {
        "id": "N9wdBqxJ2WG-"
      },
      "outputs": [],
      "source": [
        "#Persiapan tes dan latihan: SVM dengan XGBoost\n",
        "X_trainiv, X_testiv, y_trainiv, y_testiv = train_test_split(X_fasttext2, yst, test_size=0.245, random_state=40, stratify=yst)"
      ]
    },
    {
      "cell_type": "markdown",
      "metadata": {
        "id": "st1qbSNuyzq7"
      },
      "source": [
        "#### Penyetelan dua tahap di SVM"
      ]
    },
    {
      "cell_type": "code",
      "execution_count": null,
      "metadata": {
        "id": "J_2kkj_N0WhD"
      },
      "outputs": [],
      "source": [
        "#inisiais gc collect\n",
        "gc.collect()"
      ]
    },
    {
      "cell_type": "code",
      "execution_count": null,
      "metadata": {
        "id": "7vv8lCB4UfC4"
      },
      "outputs": [],
      "source": [
        "#Modifikais smote\n",
        "smote = SMOTE(random_state=41)\n",
        "#penyetelan SMOTE\n",
        "X_trainb, y_trainb = smote.fit_resample(X_trainii, y_trainii) #Bagian latihan\n",
        "X_testb, y_testb = smote.fit_resample(X_testii, y_testii) #Bagian tes"
      ]
    },
    {
      "cell_type": "code",
      "execution_count": null,
      "metadata": {
        "id": "cB78fZgc0QEb"
      },
      "outputs": [],
      "source": [
        "#Modifikasi ADASYN di SVM\n",
        "adsyn = ADASYN(sampling_strategy='minority', random_state=40)\n",
        "#penyetelan ADASYN untuk SVM\n",
        "X_trains, y_trains = adsyn.fit_resample(X_trainb, y_trainb) #Bagian latihan\n",
        "X_tests, y_tests = adsyn.fit_resample(X_testb, y_testb) #Bagian tes"
      ]
    },
    {
      "cell_type": "markdown",
      "metadata": {
        "id": "yExO20mU1aEt"
      },
      "source": [
        "kode **'s'** menyatakan teknik SVM"
      ]
    },
    {
      "cell_type": "markdown",
      "metadata": {
        "id": "aSQB0U5X1B19"
      },
      "source": [
        "### Versi Regresi logistik"
      ]
    },
    {
      "cell_type": "code",
      "execution_count": null,
      "metadata": {
        "id": "RyRX-HgP8_yk"
      },
      "outputs": [],
      "source": [
        "#persiapan dengan gc\n",
        "gc.collect()"
      ]
    },
    {
      "cell_type": "code",
      "execution_count": null,
      "metadata": {
        "id": "Cmo5LWkW1Rum"
      },
      "outputs": [],
      "source": [
        "#Persiapan dengan regresi Logistik\n",
        "X_train3, X_test3, y_train3, y_test3 = train_test_split(X_word2vec, yst, test_size=0.255, random_state=40, stratify=yst)"
      ]
    },
    {
      "cell_type": "code",
      "execution_count": null,
      "metadata": {
        "id": "yCm9f26k9FWu"
      },
      "outputs": [],
      "source": [
        "#persiapan dengan gc\n",
        "gc.collect()"
      ]
    },
    {
      "cell_type": "code",
      "execution_count": null,
      "metadata": {
        "id": "b5Us1YQH1b8g"
      },
      "outputs": [],
      "source": [
        "#Modifikasi ADASYN\n",
        "adsyn = ADASYN(sampling_strategy='minority', random_state=40)\n",
        "#penyetelan ADASYN untuk regresi Logistik"
      ]
    },
    {
      "cell_type": "code",
      "execution_count": null,
      "metadata": {
        "id": "ERJrb16K1eEa"
      },
      "outputs": [],
      "source": [
        "#Penyetelan setelah ADASYN\n",
        "X_trainre, y_trainre = adsyn.fit_resample(X_train3, y_train3) #Bagian latihan\n",
        "X_testre, y_testre = adsyn.fit_resample(X_test3, y_test3) #Bagian tes setelah penyetelan 'Borderline-SMOTE'"
      ]
    },
    {
      "cell_type": "markdown",
      "metadata": {
        "id": "Z4dwvGRc1eWn"
      },
      "source": [
        "kode **'re'** menandakan regresi logistik"
      ]
    },
    {
      "cell_type": "markdown",
      "metadata": {
        "id": "DAOuEAxp27Yt"
      },
      "source": [
        "### Versi pohon keputusan"
      ]
    },
    {
      "cell_type": "code",
      "execution_count": 113,
      "metadata": {
        "id": "_7w3Hd6x3buw",
        "colab": {
          "base_uri": "https://localhost:8080/"
        },
        "outputId": "01a56e44-1f35-454b-dc6f-a45c6b541d61"
      },
      "outputs": [
        {
          "output_type": "execute_result",
          "data": {
            "text/plain": [
              "17112"
            ]
          },
          "metadata": {},
          "execution_count": 113
        }
      ],
      "source": [
        "#inisiasi gc\n",
        "gc.collect()"
      ]
    },
    {
      "cell_type": "code",
      "execution_count": 118,
      "metadata": {
        "id": "-IZDduni29U7"
      },
      "outputs": [],
      "source": [
        "#persiapan di SMOTE\n",
        "smote = SMOTE(random_state=41)\n",
        "#penyetelan SMOTE\n",
        "X_trainivb, y_trainivb = smote.fit_resample(X_trainiv, y_trainiv) #Bagian latihan\n",
        "X_testivb, y_testivb = smote.fit_resample(X_testiv, y_testiv) #Bagian tes"
      ]
    },
    {
      "cell_type": "code",
      "execution_count": 119,
      "metadata": {
        "id": "nqJN9RSb3aBj"
      },
      "outputs": [],
      "source": [
        "#Modifikasi ADASYN\n",
        "adsyn = ADASYN(sampling_strategy='minority', random_state=40)\n",
        "#penyetelan ADASYN untuk regresi Logistik"
      ]
    },
    {
      "cell_type": "code",
      "execution_count": 120,
      "metadata": {
        "id": "l1_bLBbg3uJF"
      },
      "outputs": [],
      "source": [
        "#persiapan pasca Penyetelan dengan ADASYN\n",
        "X_trainpk, y_trainpk = adsyn.fit_resample(X_trainivb, y_trainivb) #Bagian latihan\n",
        "X_testpk, y_testpk = adsyn.fit_resample(X_testivb, y_testivb) #Bagian tes setelah penyetelan 'Borderline-SMOTE'"
      ]
    },
    {
      "cell_type": "markdown",
      "metadata": {
        "id": "pI4HMdqh4VcE"
      },
      "source": [
        "tanda 'pk' adalah teknik pohon keputusan"
      ]
    },
    {
      "cell_type": "markdown",
      "metadata": {
        "id": "u7clDK1OwHON"
      },
      "source": [
        "### Persiapan berat data di teknik RFC"
      ]
    },
    {
      "cell_type": "markdown",
      "metadata": {
        "id": "-lxdox0Ng8T7"
      },
      "source": [
        "#### Normal"
      ]
    },
    {
      "cell_type": "code",
      "execution_count": 104,
      "metadata": {
        "id": "diHxjvmpwY_s"
      },
      "outputs": [],
      "source": [
        "#Pemasangan berat di RFC untuk pemasangan berat sampel\n",
        "brtsampllat = csw(class_weight='balanced', y=y_trainb) #menyeimbangkan berat di latihan\n",
        "brtsamptes = csw(class_weight='balanced', y=y_testb) #menyeimbangkan berat di pengujian\n",
        "#ke ADASYN"
      ]
    },
    {
      "cell_type": "code",
      "execution_count": 105,
      "metadata": {
        "id": "UeaZalO3YS77"
      },
      "outputs": [],
      "source": [
        "#Bagian ADASYN dan kluster\n",
        "brtsampllatads = csw(class_weight='balanced', y=y_trainb) #menyeimbangkan berat di pengujian pasca ADASYN\n",
        "brtsamptesads = csw(class_weight='balanced', y=y_testb) #menyeimbangkan berat di pengujian pasca ADASYN"
      ]
    },
    {
      "cell_type": "code",
      "execution_count": 106,
      "metadata": {
        "id": "lAEBfSXfzwgO"
      },
      "outputs": [],
      "source": [
        "#regulasi berat di RFC dengan pemasangan berat data melalui Persiapan kamus berat sampel [normal]\n",
        "klsbrt = np.unique(y_trainb) #kelas berat di RFC normal\n",
        "dictbrt = dict(zip(klsbrt, brtsampllat)) #dideklarasikan sebagai kampus [normal]"
      ]
    },
    {
      "cell_type": "code",
      "execution_count": 107,
      "metadata": {
        "id": "TcJjaYV00CVL"
      },
      "outputs": [],
      "source": [
        "#penyeimbangan berat di RFC Normal\n",
        "brtsimbn = {label: (len(y_trainb[y_trainb == label]) / count) for label, count in zip(klsbrt, brtsampllat)} #seimbangkan berat di SVM, Menghitung jumlah kemunculan setiap label dalam y_train\n",
        "#ubah ke bentuk barisan\n",
        "brsbrtrfc = np.array([brtsimbn.get(label, 1.0) for label in y_trainb]) #jadi baris\n",
        "#bentuk seimbang\n",
        "klsbrtseim = np.unique(y_trainb) #kelas berat di RFC tanpa ADASYN\n",
        "dictbrtseim = dict(zip(klsbrtseim, brsbrtrfc)) #dideklarasikan sebagai kampus [tanpa ADASYN]"
      ]
    },
    {
      "cell_type": "code",
      "execution_count": 108,
      "metadata": {
        "id": "huPYmyyYE7Ok"
      },
      "outputs": [],
      "source": [
        "#Penyeimbangan berat di RFC untuk fasa tes\n",
        "brtsimbnt = {label: (len(y_testb[y_testb == label]) / count) for label, count in zip(klsbrt, brtsamptes)} #seimbangkan berat di RCF dengan Menghitung jumlah kemunculan setiap label dalam 'y_test'\n",
        "#konversi ke baris\n",
        "brsbrtrfctest = np.array([brtsimbnt.get(label, 1.0) for label in y_testb]) #jadi baris\n",
        "#bentuk seimbang\n",
        "klsbrtseimtest = np.unique(y_testb) #kelas berat di RFC tanpa ADASYN\n",
        "dictbrtseimtest = dict(zip(klsbrtseimtest, brsbrtrfctest)) #dideklarasikan sebagai kampus [tanpa ADASYN]"
      ]
    },
    {
      "cell_type": "markdown",
      "metadata": {
        "id": "QeBkBjikg-Ih"
      },
      "source": [
        "#### Dengan pembentukan kluster"
      ]
    },
    {
      "cell_type": "code",
      "execution_count": 109,
      "metadata": {
        "id": "r7mEKsmrz-lC"
      },
      "outputs": [],
      "source": [
        "#pasca modifikasi kluster: regulasi berat\n",
        "klsbrta = np.unique(y_train2b) #kelas berat di RFC pasca ADASYN\n",
        "dictbrta = dict(zip(klsbrta, brtsampllatads)) #dideklarasikan sebagai kampus [pasca ADASYN]\n",
        "#untuk tes\n",
        "klsbrtb = np.unique(y_test2b) #kelas berat di RFC pasca ADASYN\n",
        "dictbrtb = dict(zip(klsbrtb, brtsamptesads)) #dideklarasikan sebagai kampus [pasca ADASYN]"
      ]
    },
    {
      "cell_type": "code",
      "execution_count": 153,
      "metadata": {
        "id": "DgblgNf70Jgm"
      },
      "outputs": [],
      "source": [
        "#Penyeimbangan dengan kluster: regulasi berat di RFC dengan ADASYN di latihan\n",
        "brtsimbnii = {label: (len(y_train2b[y_train2b == label]) / count) for label, count in zip(klsbrta,brtsampllatads)} #seimbangkan berat di RFC, Menghitung jumlah kemunculan setiap label dalam y_train\n",
        "#ubah ke bentuk barisan\n",
        "brsbrtrfcii = np.array([brtsimbn[label] for label in y_train2b]) #jadi baris\n",
        "#bentuk seimbang\n",
        "klsbrtseimii = np.unique(y_train2b) #kelas berat di RFC dengan ADASYN\n",
        "dictbrtseimii = dict(zip(klsbrtseimii, brsbrtrfcii)) #dideklarasikan sebagai kampus [melalui ADASYN]"
      ]
    },
    {
      "cell_type": "code",
      "execution_count": 111,
      "metadata": {
        "id": "HAs7nW7RYL_K"
      },
      "outputs": [],
      "source": [
        "#Regulasi berat tes di ADN melalui penyeimbangan berat tes di RFC dengan ADASYN\n",
        "brtsimbn2 = {label: (len(y_test2b[y_test2b == label]) / count) for label, count in zip(klsbrtb, brtsamptesads)} #seimbangkan berat di RFC,\n",
        "#ubah ke bentuk barisan\n",
        "brsbrtrfc2 = np.array([brtsimbn[label] for label in y_test2b]) #jadi baris\n",
        "#bentuk seimbang\n",
        "klsbrtseim2 = np.unique(y_test2b) #kelas berat di RFC tanpa ADASYN\n",
        "dictbrtseim2 = dict(zip(klsbrtseim2, brsbrtrfc2)) #dideklarasikan sebagai kampus [tanpa ADASYN]"
      ]
    },
    {
      "cell_type": "markdown",
      "metadata": {
        "id": "nbN0ii_Lb4ot"
      },
      "source": [
        "Tanda **'2b'** membedakan pemberat versi normal dan revisi pembentukan kluster"
      ]
    },
    {
      "cell_type": "markdown",
      "metadata": {
        "id": "Pj-fCGRH0wP5"
      },
      "source": [
        "#### Teknik SVM & Regresi logistik"
      ]
    },
    {
      "cell_type": "markdown",
      "metadata": {
        "id": "BljWx1RUTcTS"
      },
      "source": [
        "##### Metode SVM"
      ]
    },
    {
      "cell_type": "code",
      "execution_count": null,
      "metadata": {
        "id": "7NSz0iUhwI9I"
      },
      "outputs": [],
      "source": [
        "#penyetelan di SVM\n",
        "brtsampllatsv = csw(class_weight='balanced', y=y_trains) #menyeimbangkan berat di latihan untuk SVM\n",
        "brtsamptesv = csw(class_weight='balanced', y=y_tests) #menyeimbangkan berat di pengujian untuk SVM"
      ]
    },
    {
      "cell_type": "code",
      "execution_count": null,
      "metadata": {
        "id": "ZZ3nDrG8_4sA"
      },
      "outputs": [],
      "source": [
        "#Inisiasi berat untuk SVM\n",
        "klsbrtsv = np.unique(y_trains) #kelas berat di SVM normal\n",
        "dictbrtsv = dict(zip(klsbrtsv, brtsampllatsv)) #dideklarasikan sebagai kampus [normal]\n",
        "#ke persiapan kamus\n",
        "#untuk tes\n",
        "klsbrttessv = np.unique(y_tests) #kelas berat di SVM normal\n",
        "dictbrttessv = dict(zip(klsbrttessv, brtsamptesv)) #dideklarasikan sebagai kampus [normal]"
      ]
    },
    {
      "cell_type": "code",
      "execution_count": null,
      "metadata": {
        "id": "05ytm3xfADQx"
      },
      "outputs": [],
      "source": [
        "#penyeibangan berat di metode SVM\n",
        "brtsimbsv = {label: (len(y_trains[y_trains == label]) / count) for label, count in zip(klsbrtsv, brtsampllatsv)}\n",
        "#konversi ke barisan\n",
        "brsbrtsv = np.array([brtsimbsv[label] for label in y_trains]) #jadi baris\n",
        "# deklarasi kelas seimbang\n",
        "klsbrtseimsv = np.unique(y_trains) #kelas berat seimbang di SVM\n",
        "dictbrtseimsv = dict(zip(klsbrtseimsv, brsbrtsv)) #kamus berat yang sudah seimbang"
      ]
    },
    {
      "cell_type": "code",
      "execution_count": null,
      "metadata": {
        "id": "yFNXF3_Io8WJ"
      },
      "outputs": [],
      "source": [
        "#evaluasi di bagian tes untuk SVM\n",
        "brtsimbsvt = {label: (len(y_tests[y_tests == label]) / count) for label, count in zip(klsbrttessv, brtsamptesv)}\n",
        "#konversi ke barisan\n",
        "brsbrtsvte = np.array([brtsimbsvt[label] for label in y_tests]) #jadi baris\n",
        "# deklarasi kelas seimbang\n",
        "klsbrtseimsvte = np.unique(y_trains) #kelas berat seimbang di SVM\n",
        "dictbrtseimsvte = dict(zip(klsbrtseimsvte, brsbrtsvte)) #kamus berat yang sudah seimbang"
      ]
    },
    {
      "cell_type": "markdown",
      "metadata": {
        "id": "fA9gbi8cTeYu"
      },
      "source": [
        "##### Regresi Logistik"
      ]
    },
    {
      "cell_type": "code",
      "execution_count": null,
      "metadata": {
        "id": "PX5-9lhf0t_h"
      },
      "outputs": [],
      "source": [
        "#Penyetelan di regresi logistik\n",
        "brtsampllatreg = csw(class_weight='balanced', y=y_trainre) #menyeimbangkan berat di latihan untuk regresi\n",
        "brtsamptesreg = csw(class_weight='balanced', y=y_testre) #menyeimbangkan berat di pengujian untuk regresi"
      ]
    },
    {
      "cell_type": "code",
      "execution_count": null,
      "metadata": {
        "id": "XsxioScwAEUH"
      },
      "outputs": [],
      "source": [
        "#inisiasi untuk teknik regresi Logistik\n",
        "klsbrtreg = np.unique(y_trainre) #kelas berat di Regresi Logistik normal\n",
        "dictbrtreg = dict(zip(klsbrtreg, brtsampllatreg)) #dideklarasikan sebagai kampus [normal]"
      ]
    },
    {
      "cell_type": "code",
      "execution_count": null,
      "metadata": {
        "id": "R1a5Yc3zAHli"
      },
      "outputs": [],
      "source": [
        "#penyeimbangan berat untuk regresi logistik\n",
        "brtsimbreg = {label: (len(y_trainre[y_trainre == label]) / count) for label, count in zip(klsbrtreg, brtsampllatreg)}\n",
        "#konversi ke barisan\n",
        "brsbrtreg = np.array([brtsimbreg[label] for label in y_trainre]) #jadi baris\n",
        "#deklarasi kelas seimbang untuk regresi logistik\n",
        "klsbrtseimreg = np.unique(y_trainre) #kelas berat seimbang di Regresi Logistik\n",
        "dictbrtseimreg = dict(zip(klsbrtseimreg, brsbrtreg)) #kamus berat yang sudah seimbang"
      ]
    },
    {
      "cell_type": "code",
      "execution_count": null,
      "metadata": {
        "id": "peW2x5yZsOqZ"
      },
      "outputs": [],
      "source": [
        "#penyetelan berat untuk tes di regresi logistik melalui penyeimbangan berat untuk tes\n",
        "brtsimbreg2 = {label: (len(y_trainre[y_trainre == label]) / count) for label, count in zip(klsbrtreg, brtsampllatreg)}\n",
        "#konversi ke barisan\n",
        "brsbrtreg2 = np.array([brtsimbreg2[label] for label in y_testre]) #jadi baris\n",
        "#deklarasi kelas seimbang untuk regresi logistik\n",
        "klsbrtseimreg2 = np.unique(y_testre) #kelas berat seimbang di Regresi Logistik\n",
        "dictbrtseimreg2 = dict(zip(klsbrtseimreg2, brsbrtreg2)) #kamus berat yang sudah seimbang"
      ]
    },
    {
      "cell_type": "markdown",
      "metadata": {
        "id": "AR3BxwfN4bdG"
      },
      "source": [
        "##### Teknik pohon keputusan"
      ]
    },
    {
      "cell_type": "code",
      "execution_count": 121,
      "metadata": {
        "id": "xmq2mb-h4e6G"
      },
      "outputs": [],
      "source": [
        "#deklarasi Penyetelan di pohon keputusan\n",
        "brtsampllatpk = csw(class_weight='balanced', y=y_trainpk) #menyeimbangkan berat di latihan untuk regresi\n",
        "brtsamptespk = csw(class_weight='balanced', y=y_testpk) #menyeimbangkan berat di pengujian untuk regresi"
      ]
    },
    {
      "cell_type": "code",
      "execution_count": 122,
      "metadata": {
        "id": "Riaq9G0Q4oGZ"
      },
      "outputs": [],
      "source": [
        "#inisiasi untuk pohon keputusan\n",
        "klsbrtpk = np.unique(y_trainpk) #kelas berat di pohon keputusan normal\n",
        "dictbrtpk = dict(zip(klsbrtpk, brtsampllatpk)) #dideklarasikan sebagai kampus [normal]"
      ]
    },
    {
      "cell_type": "code",
      "execution_count": 123,
      "metadata": {
        "id": "mYelCpHG4sVh"
      },
      "outputs": [],
      "source": [
        "#penyeimbangan untuk pohon keputusan di bagian latihan\n",
        "brtsimbpk = {label: (len(y_trainpk[y_trainpk == label]) / count) for label, count in zip(klsbrtpk, brtsampllatpk)}\n",
        "#konversi ke bentuk barisan untuk fasa latihan\n",
        "brsbrtpk = np.array([brtsimbpk[label] for label in y_trainpk]) #jadi baris\n",
        "#deklarasi kelas seimbang untuk pohon keputusan\n",
        "klsbrtseimpk = np.unique(y_trainpk) #kelas berat seimbang di pohon keputusan\n",
        "dictbrtseimpk = dict(zip(klsbrtseimpk, brsbrtpk)) #kamus berat yang sudah seimbang"
      ]
    },
    {
      "cell_type": "code",
      "execution_count": 124,
      "metadata": {
        "id": "DkGQYEFA44iE"
      },
      "outputs": [],
      "source": [
        "#fasa tes\n",
        "brtsimbpk2 = {label: (len(y_testpk[y_testpk == label]) / count) for label, count in zip(klsbrtpk, brtsamptespk)}\n",
        "#pengubahan ke baris\n",
        "brsbrtpk2 = np.array([brtsimbpk2[label] for label in y_testpk]) #jadi baris\n",
        "#deklarasi kelas seimbang untuk pohon keputusan\n",
        "klsbrtseimpk2 = np.unique(y_testpk) #kelas berat\n",
        "dictbrtseimpk2 = dict(zip(klsbrtseimpk2, brsbrtpk2)) #kamus berat yang sudah seimbang"
      ]
    },
    {
      "cell_type": "markdown",
      "metadata": {
        "id": "anQek2MI-7l7"
      },
      "source": [
        "#### Eksekusi  dengan RFC"
      ]
    },
    {
      "cell_type": "markdown",
      "metadata": {
        "id": "Z3teSwFtAM8W"
      },
      "source": [
        "##### Normal"
      ]
    },
    {
      "cell_type": "code",
      "execution_count": 142,
      "metadata": {
        "id": "ljNcKpmWcRlC",
        "colab": {
          "base_uri": "https://localhost:8080/"
        },
        "outputId": "17fb0740-06e7-4d40-ec38-d561ed905646"
      },
      "outputs": [
        {
          "output_type": "execute_result",
          "data": {
            "text/plain": [
              "55"
            ]
          },
          "metadata": {},
          "execution_count": 142
        }
      ],
      "source": [
        "#penyetelan GC\n",
        "gc.collect()"
      ]
    },
    {
      "cell_type": "code",
      "execution_count": 143,
      "metadata": {
        "id": "8jINrLiX-7Yy"
      },
      "outputs": [],
      "source": [
        "#eksekusi RFC dalam kondisi normal\n",
        "randford = rfclasifi(n_estimators=225,max_depth=35, ccp_alpha=5.8e-7,min_samples_split=7,min_samples_leaf=7,\n",
        "    max_leaf_nodes=27,class_weight=dictbrtseim, random_state=40, warm_start = True, oob_score=True,verbose=1) #normal\n",
        "#ke eksekusi tanpa fungsi"
      ]
    },
    {
      "cell_type": "code",
      "execution_count": 144,
      "metadata": {
        "id": "_2HRWrNwcnPt",
        "colab": {
          "base_uri": "https://localhost:8080/"
        },
        "outputId": "8ffbc5b2-c110-40fa-aca4-151e3e7cf6ff"
      },
      "outputs": [
        {
          "output_type": "execute_result",
          "data": {
            "text/plain": [
              "0"
            ]
          },
          "metadata": {},
          "execution_count": 144
        }
      ],
      "source": [
        "#inisiais gc\n",
        "gc.collect()"
      ]
    },
    {
      "cell_type": "code",
      "execution_count": 145,
      "metadata": {
        "id": "KXqBBwVR_OvY",
        "colab": {
          "base_uri": "https://localhost:8080/"
        },
        "outputId": "f05b1442-048d-409f-e84f-60baf7d72b2f"
      },
      "outputs": [
        {
          "output_type": "stream",
          "name": "stderr",
          "text": [
            "[Parallel(n_jobs=1)]: Done  49 tasks      | elapsed:    8.2s\n",
            "[Parallel(n_jobs=1)]: Done 199 tasks      | elapsed:   26.3s\n",
            "[Parallel(n_jobs=1)]: Done  49 tasks      | elapsed:    0.1s\n",
            "[Parallel(n_jobs=1)]: Done 199 tasks      | elapsed:    0.2s\n",
            "[Parallel(n_jobs=1)]: Done  49 tasks      | elapsed:    6.2s\n",
            "[Parallel(n_jobs=1)]: Done 199 tasks      | elapsed:   23.1s\n",
            "[Parallel(n_jobs=1)]: Done  49 tasks      | elapsed:    0.0s\n",
            "[Parallel(n_jobs=1)]: Done 199 tasks      | elapsed:    0.2s\n",
            "[Parallel(n_jobs=1)]: Done  49 tasks      | elapsed:    6.2s\n",
            "[Parallel(n_jobs=1)]: Done 199 tasks      | elapsed:   23.1s\n",
            "[Parallel(n_jobs=1)]: Done  49 tasks      | elapsed:    0.0s\n",
            "[Parallel(n_jobs=1)]: Done 199 tasks      | elapsed:    0.2s\n",
            "[Parallel(n_jobs=1)]: Done  49 tasks      | elapsed:    4.8s\n",
            "[Parallel(n_jobs=1)]: Done 199 tasks      | elapsed:   21.4s\n",
            "[Parallel(n_jobs=1)]: Done  49 tasks      | elapsed:    0.0s\n",
            "[Parallel(n_jobs=1)]: Done 199 tasks      | elapsed:    0.2s\n",
            "[Parallel(n_jobs=1)]: Done  49 tasks      | elapsed:    4.7s\n",
            "[Parallel(n_jobs=1)]: Done 199 tasks      | elapsed:   20.8s\n",
            "[Parallel(n_jobs=1)]: Done  49 tasks      | elapsed:    0.1s\n",
            "[Parallel(n_jobs=1)]: Done 199 tasks      | elapsed:    0.2s\n",
            "[Parallel(n_jobs=1)]: Done  49 tasks      | elapsed:    5.3s\n",
            "[Parallel(n_jobs=1)]: Done 199 tasks      | elapsed:   21.5s\n"
          ]
        },
        {
          "output_type": "stream",
          "name": "stdout",
          "text": [
            "[0.71  0.719 0.736 0.731 0.736 0.73 ]\n"
          ]
        },
        {
          "output_type": "stream",
          "name": "stderr",
          "text": [
            "[Parallel(n_jobs=1)]: Done  49 tasks      | elapsed:    0.0s\n",
            "[Parallel(n_jobs=1)]: Done 199 tasks      | elapsed:    0.2s\n"
          ]
        }
      ],
      "source": [
        "#mplementasi 'validasi silang' normal\n",
        "scores = cross_val_score(randford, X_trainb, y_trainb, cv=6, scoring='accuracy', verbose=0)\n",
        "#pembulatan\n",
        "rounded = np.round(scores,3)\n",
        "#percetakan\n",
        "print(rounded)"
      ]
    },
    {
      "cell_type": "code",
      "execution_count": 146,
      "metadata": {
        "id": "dajs41JHAScx",
        "colab": {
          "base_uri": "https://localhost:8080/"
        },
        "outputId": "bb01efbc-30d9-4b64-9cbd-e1262839ea3c"
      },
      "outputs": [
        {
          "output_type": "execute_result",
          "data": {
            "text/plain": [
              "154"
            ]
          },
          "metadata": {},
          "execution_count": 146
        }
      ],
      "source": [
        "#aktivasi gc sebelum eksekusi RFC\n",
        "gc.collect()"
      ]
    },
    {
      "cell_type": "code",
      "execution_count": 147,
      "metadata": {
        "id": "jBm0F9vgAQOp",
        "colab": {
          "base_uri": "https://localhost:8080/",
          "height": 201
        },
        "outputId": "e932f7a3-cb2c-42ac-ca58-fb242f3f7b5e"
      },
      "outputs": [
        {
          "output_type": "stream",
          "name": "stderr",
          "text": [
            "[Parallel(n_jobs=1)]: Done  49 tasks      | elapsed:    7.6s\n",
            "[Parallel(n_jobs=1)]: Done 199 tasks      | elapsed:   27.2s\n"
          ]
        },
        {
          "output_type": "execute_result",
          "data": {
            "text/plain": [
              "RandomForestClassifier(ccp_alpha=5.8e-07,\n",
              "                       class_weight={0: 58640.81537680506, 1: 58640.81537680506,\n",
              "                                     2: 58640.81537680506},\n",
              "                       max_depth=35, max_leaf_nodes=27, min_samples_leaf=7,\n",
              "                       min_samples_split=7, n_estimators=225, oob_score=True,\n",
              "                       random_state=40, verbose=1, warm_start=True)"
            ],
            "text/html": [
              "<style>#sk-container-id-2 {\n",
              "  /* Definition of color scheme common for light and dark mode */\n",
              "  --sklearn-color-text: #000;\n",
              "  --sklearn-color-text-muted: #666;\n",
              "  --sklearn-color-line: gray;\n",
              "  /* Definition of color scheme for unfitted estimators */\n",
              "  --sklearn-color-unfitted-level-0: #fff5e6;\n",
              "  --sklearn-color-unfitted-level-1: #f6e4d2;\n",
              "  --sklearn-color-unfitted-level-2: #ffe0b3;\n",
              "  --sklearn-color-unfitted-level-3: chocolate;\n",
              "  /* Definition of color scheme for fitted estimators */\n",
              "  --sklearn-color-fitted-level-0: #f0f8ff;\n",
              "  --sklearn-color-fitted-level-1: #d4ebff;\n",
              "  --sklearn-color-fitted-level-2: #b3dbfd;\n",
              "  --sklearn-color-fitted-level-3: cornflowerblue;\n",
              "\n",
              "  /* Specific color for light theme */\n",
              "  --sklearn-color-text-on-default-background: var(--sg-text-color, var(--theme-code-foreground, var(--jp-content-font-color1, black)));\n",
              "  --sklearn-color-background: var(--sg-background-color, var(--theme-background, var(--jp-layout-color0, white)));\n",
              "  --sklearn-color-border-box: var(--sg-text-color, var(--theme-code-foreground, var(--jp-content-font-color1, black)));\n",
              "  --sklearn-color-icon: #696969;\n",
              "\n",
              "  @media (prefers-color-scheme: dark) {\n",
              "    /* Redefinition of color scheme for dark theme */\n",
              "    --sklearn-color-text-on-default-background: var(--sg-text-color, var(--theme-code-foreground, var(--jp-content-font-color1, white)));\n",
              "    --sklearn-color-background: var(--sg-background-color, var(--theme-background, var(--jp-layout-color0, #111)));\n",
              "    --sklearn-color-border-box: var(--sg-text-color, var(--theme-code-foreground, var(--jp-content-font-color1, white)));\n",
              "    --sklearn-color-icon: #878787;\n",
              "  }\n",
              "}\n",
              "\n",
              "#sk-container-id-2 {\n",
              "  color: var(--sklearn-color-text);\n",
              "}\n",
              "\n",
              "#sk-container-id-2 pre {\n",
              "  padding: 0;\n",
              "}\n",
              "\n",
              "#sk-container-id-2 input.sk-hidden--visually {\n",
              "  border: 0;\n",
              "  clip: rect(1px 1px 1px 1px);\n",
              "  clip: rect(1px, 1px, 1px, 1px);\n",
              "  height: 1px;\n",
              "  margin: -1px;\n",
              "  overflow: hidden;\n",
              "  padding: 0;\n",
              "  position: absolute;\n",
              "  width: 1px;\n",
              "}\n",
              "\n",
              "#sk-container-id-2 div.sk-dashed-wrapped {\n",
              "  border: 1px dashed var(--sklearn-color-line);\n",
              "  margin: 0 0.4em 0.5em 0.4em;\n",
              "  box-sizing: border-box;\n",
              "  padding-bottom: 0.4em;\n",
              "  background-color: var(--sklearn-color-background);\n",
              "}\n",
              "\n",
              "#sk-container-id-2 div.sk-container {\n",
              "  /* jupyter's `normalize.less` sets `[hidden] { display: none; }`\n",
              "     but bootstrap.min.css set `[hidden] { display: none !important; }`\n",
              "     so we also need the `!important` here to be able to override the\n",
              "     default hidden behavior on the sphinx rendered scikit-learn.org.\n",
              "     See: https://github.com/scikit-learn/scikit-learn/issues/21755 */\n",
              "  display: inline-block !important;\n",
              "  position: relative;\n",
              "}\n",
              "\n",
              "#sk-container-id-2 div.sk-text-repr-fallback {\n",
              "  display: none;\n",
              "}\n",
              "\n",
              "div.sk-parallel-item,\n",
              "div.sk-serial,\n",
              "div.sk-item {\n",
              "  /* draw centered vertical line to link estimators */\n",
              "  background-image: linear-gradient(var(--sklearn-color-text-on-default-background), var(--sklearn-color-text-on-default-background));\n",
              "  background-size: 2px 100%;\n",
              "  background-repeat: no-repeat;\n",
              "  background-position: center center;\n",
              "}\n",
              "\n",
              "/* Parallel-specific style estimator block */\n",
              "\n",
              "#sk-container-id-2 div.sk-parallel-item::after {\n",
              "  content: \"\";\n",
              "  width: 100%;\n",
              "  border-bottom: 2px solid var(--sklearn-color-text-on-default-background);\n",
              "  flex-grow: 1;\n",
              "}\n",
              "\n",
              "#sk-container-id-2 div.sk-parallel {\n",
              "  display: flex;\n",
              "  align-items: stretch;\n",
              "  justify-content: center;\n",
              "  background-color: var(--sklearn-color-background);\n",
              "  position: relative;\n",
              "}\n",
              "\n",
              "#sk-container-id-2 div.sk-parallel-item {\n",
              "  display: flex;\n",
              "  flex-direction: column;\n",
              "}\n",
              "\n",
              "#sk-container-id-2 div.sk-parallel-item:first-child::after {\n",
              "  align-self: flex-end;\n",
              "  width: 50%;\n",
              "}\n",
              "\n",
              "#sk-container-id-2 div.sk-parallel-item:last-child::after {\n",
              "  align-self: flex-start;\n",
              "  width: 50%;\n",
              "}\n",
              "\n",
              "#sk-container-id-2 div.sk-parallel-item:only-child::after {\n",
              "  width: 0;\n",
              "}\n",
              "\n",
              "/* Serial-specific style estimator block */\n",
              "\n",
              "#sk-container-id-2 div.sk-serial {\n",
              "  display: flex;\n",
              "  flex-direction: column;\n",
              "  align-items: center;\n",
              "  background-color: var(--sklearn-color-background);\n",
              "  padding-right: 1em;\n",
              "  padding-left: 1em;\n",
              "}\n",
              "\n",
              "\n",
              "/* Toggleable style: style used for estimator/Pipeline/ColumnTransformer box that is\n",
              "clickable and can be expanded/collapsed.\n",
              "- Pipeline and ColumnTransformer use this feature and define the default style\n",
              "- Estimators will overwrite some part of the style using the `sk-estimator` class\n",
              "*/\n",
              "\n",
              "/* Pipeline and ColumnTransformer style (default) */\n",
              "\n",
              "#sk-container-id-2 div.sk-toggleable {\n",
              "  /* Default theme specific background. It is overwritten whether we have a\n",
              "  specific estimator or a Pipeline/ColumnTransformer */\n",
              "  background-color: var(--sklearn-color-background);\n",
              "}\n",
              "\n",
              "/* Toggleable label */\n",
              "#sk-container-id-2 label.sk-toggleable__label {\n",
              "  cursor: pointer;\n",
              "  display: flex;\n",
              "  width: 100%;\n",
              "  margin-bottom: 0;\n",
              "  padding: 0.5em;\n",
              "  box-sizing: border-box;\n",
              "  text-align: center;\n",
              "  align-items: start;\n",
              "  justify-content: space-between;\n",
              "  gap: 0.5em;\n",
              "}\n",
              "\n",
              "#sk-container-id-2 label.sk-toggleable__label .caption {\n",
              "  font-size: 0.6rem;\n",
              "  font-weight: lighter;\n",
              "  color: var(--sklearn-color-text-muted);\n",
              "}\n",
              "\n",
              "#sk-container-id-2 label.sk-toggleable__label-arrow:before {\n",
              "  /* Arrow on the left of the label */\n",
              "  content: \"▸\";\n",
              "  float: left;\n",
              "  margin-right: 0.25em;\n",
              "  color: var(--sklearn-color-icon);\n",
              "}\n",
              "\n",
              "#sk-container-id-2 label.sk-toggleable__label-arrow:hover:before {\n",
              "  color: var(--sklearn-color-text);\n",
              "}\n",
              "\n",
              "/* Toggleable content - dropdown */\n",
              "\n",
              "#sk-container-id-2 div.sk-toggleable__content {\n",
              "  max-height: 0;\n",
              "  max-width: 0;\n",
              "  overflow: hidden;\n",
              "  text-align: left;\n",
              "  /* unfitted */\n",
              "  background-color: var(--sklearn-color-unfitted-level-0);\n",
              "}\n",
              "\n",
              "#sk-container-id-2 div.sk-toggleable__content.fitted {\n",
              "  /* fitted */\n",
              "  background-color: var(--sklearn-color-fitted-level-0);\n",
              "}\n",
              "\n",
              "#sk-container-id-2 div.sk-toggleable__content pre {\n",
              "  margin: 0.2em;\n",
              "  border-radius: 0.25em;\n",
              "  color: var(--sklearn-color-text);\n",
              "  /* unfitted */\n",
              "  background-color: var(--sklearn-color-unfitted-level-0);\n",
              "}\n",
              "\n",
              "#sk-container-id-2 div.sk-toggleable__content.fitted pre {\n",
              "  /* unfitted */\n",
              "  background-color: var(--sklearn-color-fitted-level-0);\n",
              "}\n",
              "\n",
              "#sk-container-id-2 input.sk-toggleable__control:checked~div.sk-toggleable__content {\n",
              "  /* Expand drop-down */\n",
              "  max-height: 200px;\n",
              "  max-width: 100%;\n",
              "  overflow: auto;\n",
              "}\n",
              "\n",
              "#sk-container-id-2 input.sk-toggleable__control:checked~label.sk-toggleable__label-arrow:before {\n",
              "  content: \"▾\";\n",
              "}\n",
              "\n",
              "/* Pipeline/ColumnTransformer-specific style */\n",
              "\n",
              "#sk-container-id-2 div.sk-label input.sk-toggleable__control:checked~label.sk-toggleable__label {\n",
              "  color: var(--sklearn-color-text);\n",
              "  background-color: var(--sklearn-color-unfitted-level-2);\n",
              "}\n",
              "\n",
              "#sk-container-id-2 div.sk-label.fitted input.sk-toggleable__control:checked~label.sk-toggleable__label {\n",
              "  background-color: var(--sklearn-color-fitted-level-2);\n",
              "}\n",
              "\n",
              "/* Estimator-specific style */\n",
              "\n",
              "/* Colorize estimator box */\n",
              "#sk-container-id-2 div.sk-estimator input.sk-toggleable__control:checked~label.sk-toggleable__label {\n",
              "  /* unfitted */\n",
              "  background-color: var(--sklearn-color-unfitted-level-2);\n",
              "}\n",
              "\n",
              "#sk-container-id-2 div.sk-estimator.fitted input.sk-toggleable__control:checked~label.sk-toggleable__label {\n",
              "  /* fitted */\n",
              "  background-color: var(--sklearn-color-fitted-level-2);\n",
              "}\n",
              "\n",
              "#sk-container-id-2 div.sk-label label.sk-toggleable__label,\n",
              "#sk-container-id-2 div.sk-label label {\n",
              "  /* The background is the default theme color */\n",
              "  color: var(--sklearn-color-text-on-default-background);\n",
              "}\n",
              "\n",
              "/* On hover, darken the color of the background */\n",
              "#sk-container-id-2 div.sk-label:hover label.sk-toggleable__label {\n",
              "  color: var(--sklearn-color-text);\n",
              "  background-color: var(--sklearn-color-unfitted-level-2);\n",
              "}\n",
              "\n",
              "/* Label box, darken color on hover, fitted */\n",
              "#sk-container-id-2 div.sk-label.fitted:hover label.sk-toggleable__label.fitted {\n",
              "  color: var(--sklearn-color-text);\n",
              "  background-color: var(--sklearn-color-fitted-level-2);\n",
              "}\n",
              "\n",
              "/* Estimator label */\n",
              "\n",
              "#sk-container-id-2 div.sk-label label {\n",
              "  font-family: monospace;\n",
              "  font-weight: bold;\n",
              "  display: inline-block;\n",
              "  line-height: 1.2em;\n",
              "}\n",
              "\n",
              "#sk-container-id-2 div.sk-label-container {\n",
              "  text-align: center;\n",
              "}\n",
              "\n",
              "/* Estimator-specific */\n",
              "#sk-container-id-2 div.sk-estimator {\n",
              "  font-family: monospace;\n",
              "  border: 1px dotted var(--sklearn-color-border-box);\n",
              "  border-radius: 0.25em;\n",
              "  box-sizing: border-box;\n",
              "  margin-bottom: 0.5em;\n",
              "  /* unfitted */\n",
              "  background-color: var(--sklearn-color-unfitted-level-0);\n",
              "}\n",
              "\n",
              "#sk-container-id-2 div.sk-estimator.fitted {\n",
              "  /* fitted */\n",
              "  background-color: var(--sklearn-color-fitted-level-0);\n",
              "}\n",
              "\n",
              "/* on hover */\n",
              "#sk-container-id-2 div.sk-estimator:hover {\n",
              "  /* unfitted */\n",
              "  background-color: var(--sklearn-color-unfitted-level-2);\n",
              "}\n",
              "\n",
              "#sk-container-id-2 div.sk-estimator.fitted:hover {\n",
              "  /* fitted */\n",
              "  background-color: var(--sklearn-color-fitted-level-2);\n",
              "}\n",
              "\n",
              "/* Specification for estimator info (e.g. \"i\" and \"?\") */\n",
              "\n",
              "/* Common style for \"i\" and \"?\" */\n",
              "\n",
              ".sk-estimator-doc-link,\n",
              "a:link.sk-estimator-doc-link,\n",
              "a:visited.sk-estimator-doc-link {\n",
              "  float: right;\n",
              "  font-size: smaller;\n",
              "  line-height: 1em;\n",
              "  font-family: monospace;\n",
              "  background-color: var(--sklearn-color-background);\n",
              "  border-radius: 1em;\n",
              "  height: 1em;\n",
              "  width: 1em;\n",
              "  text-decoration: none !important;\n",
              "  margin-left: 0.5em;\n",
              "  text-align: center;\n",
              "  /* unfitted */\n",
              "  border: var(--sklearn-color-unfitted-level-1) 1pt solid;\n",
              "  color: var(--sklearn-color-unfitted-level-1);\n",
              "}\n",
              "\n",
              ".sk-estimator-doc-link.fitted,\n",
              "a:link.sk-estimator-doc-link.fitted,\n",
              "a:visited.sk-estimator-doc-link.fitted {\n",
              "  /* fitted */\n",
              "  border: var(--sklearn-color-fitted-level-1) 1pt solid;\n",
              "  color: var(--sklearn-color-fitted-level-1);\n",
              "}\n",
              "\n",
              "/* On hover */\n",
              "div.sk-estimator:hover .sk-estimator-doc-link:hover,\n",
              ".sk-estimator-doc-link:hover,\n",
              "div.sk-label-container:hover .sk-estimator-doc-link:hover,\n",
              ".sk-estimator-doc-link:hover {\n",
              "  /* unfitted */\n",
              "  background-color: var(--sklearn-color-unfitted-level-3);\n",
              "  color: var(--sklearn-color-background);\n",
              "  text-decoration: none;\n",
              "}\n",
              "\n",
              "div.sk-estimator.fitted:hover .sk-estimator-doc-link.fitted:hover,\n",
              ".sk-estimator-doc-link.fitted:hover,\n",
              "div.sk-label-container:hover .sk-estimator-doc-link.fitted:hover,\n",
              ".sk-estimator-doc-link.fitted:hover {\n",
              "  /* fitted */\n",
              "  background-color: var(--sklearn-color-fitted-level-3);\n",
              "  color: var(--sklearn-color-background);\n",
              "  text-decoration: none;\n",
              "}\n",
              "\n",
              "/* Span, style for the box shown on hovering the info icon */\n",
              ".sk-estimator-doc-link span {\n",
              "  display: none;\n",
              "  z-index: 9999;\n",
              "  position: relative;\n",
              "  font-weight: normal;\n",
              "  right: .2ex;\n",
              "  padding: .5ex;\n",
              "  margin: .5ex;\n",
              "  width: min-content;\n",
              "  min-width: 20ex;\n",
              "  max-width: 50ex;\n",
              "  color: var(--sklearn-color-text);\n",
              "  box-shadow: 2pt 2pt 4pt #999;\n",
              "  /* unfitted */\n",
              "  background: var(--sklearn-color-unfitted-level-0);\n",
              "  border: .5pt solid var(--sklearn-color-unfitted-level-3);\n",
              "}\n",
              "\n",
              ".sk-estimator-doc-link.fitted span {\n",
              "  /* fitted */\n",
              "  background: var(--sklearn-color-fitted-level-0);\n",
              "  border: var(--sklearn-color-fitted-level-3);\n",
              "}\n",
              "\n",
              ".sk-estimator-doc-link:hover span {\n",
              "  display: block;\n",
              "}\n",
              "\n",
              "/* \"?\"-specific style due to the `<a>` HTML tag */\n",
              "\n",
              "#sk-container-id-2 a.estimator_doc_link {\n",
              "  float: right;\n",
              "  font-size: 1rem;\n",
              "  line-height: 1em;\n",
              "  font-family: monospace;\n",
              "  background-color: var(--sklearn-color-background);\n",
              "  border-radius: 1rem;\n",
              "  height: 1rem;\n",
              "  width: 1rem;\n",
              "  text-decoration: none;\n",
              "  /* unfitted */\n",
              "  color: var(--sklearn-color-unfitted-level-1);\n",
              "  border: var(--sklearn-color-unfitted-level-1) 1pt solid;\n",
              "}\n",
              "\n",
              "#sk-container-id-2 a.estimator_doc_link.fitted {\n",
              "  /* fitted */\n",
              "  border: var(--sklearn-color-fitted-level-1) 1pt solid;\n",
              "  color: var(--sklearn-color-fitted-level-1);\n",
              "}\n",
              "\n",
              "/* On hover */\n",
              "#sk-container-id-2 a.estimator_doc_link:hover {\n",
              "  /* unfitted */\n",
              "  background-color: var(--sklearn-color-unfitted-level-3);\n",
              "  color: var(--sklearn-color-background);\n",
              "  text-decoration: none;\n",
              "}\n",
              "\n",
              "#sk-container-id-2 a.estimator_doc_link.fitted:hover {\n",
              "  /* fitted */\n",
              "  background-color: var(--sklearn-color-fitted-level-3);\n",
              "}\n",
              "</style><div id=\"sk-container-id-2\" class=\"sk-top-container\"><div class=\"sk-text-repr-fallback\"><pre>RandomForestClassifier(ccp_alpha=5.8e-07,\n",
              "                       class_weight={0: 58640.81537680506, 1: 58640.81537680506,\n",
              "                                     2: 58640.81537680506},\n",
              "                       max_depth=35, max_leaf_nodes=27, min_samples_leaf=7,\n",
              "                       min_samples_split=7, n_estimators=225, oob_score=True,\n",
              "                       random_state=40, verbose=1, warm_start=True)</pre><b>In a Jupyter environment, please rerun this cell to show the HTML representation or trust the notebook. <br />On GitHub, the HTML representation is unable to render, please try loading this page with nbviewer.org.</b></div><div class=\"sk-container\" hidden><div class=\"sk-item\"><div class=\"sk-estimator fitted sk-toggleable\"><input class=\"sk-toggleable__control sk-hidden--visually\" id=\"sk-estimator-id-2\" type=\"checkbox\" checked><label for=\"sk-estimator-id-2\" class=\"sk-toggleable__label fitted sk-toggleable__label-arrow\"><div><div>RandomForestClassifier</div></div><div><a class=\"sk-estimator-doc-link fitted\" rel=\"noreferrer\" target=\"_blank\" href=\"https://scikit-learn.org/1.6/modules/generated/sklearn.ensemble.RandomForestClassifier.html\">?<span>Documentation for RandomForestClassifier</span></a><span class=\"sk-estimator-doc-link fitted\">i<span>Fitted</span></span></div></label><div class=\"sk-toggleable__content fitted\"><pre>RandomForestClassifier(ccp_alpha=5.8e-07,\n",
              "                       class_weight={0: 58640.81537680506, 1: 58640.81537680506,\n",
              "                                     2: 58640.81537680506},\n",
              "                       max_depth=35, max_leaf_nodes=27, min_samples_leaf=7,\n",
              "                       min_samples_split=7, n_estimators=225, oob_score=True,\n",
              "                       random_state=40, verbose=1, warm_start=True)</pre></div> </div></div></div></div>"
            ]
          },
          "metadata": {},
          "execution_count": 147
        }
      ],
      "source": [
        "#eksekusi tanpa modifikasi ADASYN\n",
        "randford.fit(X_trainb, y_trainb, sample_weight=brsbrtrfc) #dari berat yang diseimbangkan"
      ]
    },
    {
      "cell_type": "code",
      "execution_count": 134,
      "metadata": {
        "id": "jQyOvhYdAYPK",
        "colab": {
          "base_uri": "https://localhost:8080/"
        },
        "outputId": "68544e17-d5da-41ad-fc64-26ce57aea982"
      },
      "outputs": [
        {
          "output_type": "stream",
          "name": "stderr",
          "text": [
            "[Parallel(n_jobs=1)]: Done  49 tasks      | elapsed:    0.3s\n",
            "[Parallel(n_jobs=1)]: Done 199 tasks      | elapsed:    1.3s\n",
            "[Parallel(n_jobs=1)]: Done  49 tasks      | elapsed:    0.1s\n",
            "[Parallel(n_jobs=1)]: Done 199 tasks      | elapsed:    0.5s\n"
          ]
        }
      ],
      "source": [
        "#prediksi kondisi normal untuk sentimen pada data pelatihan dan data uji di RFC normal\n",
        "y_pred_train_rf = randford.predict(X_trainb)\n",
        "y_pred_test_rf = randford.predict(X_testb)\n",
        "\n",
        "# Evaluasi akurasi model Random Forest\n",
        "accuracy_train_rf = accuracy_score(y_pred_train_rf, y_trainb, sample_weight=brsbrtrfc)\n",
        "accuracy_test_rf = accuracy_score(y_pred_test_rf, y_testb, sample_weight=brsbrtrfctest)\n"
      ]
    },
    {
      "cell_type": "code",
      "execution_count": 135,
      "metadata": {
        "id": "MK5H6w9EAmZP",
        "colab": {
          "base_uri": "https://localhost:8080/"
        },
        "outputId": "145a2d32-6654-4974-e96a-ec76d7c57e52"
      },
      "outputs": [
        {
          "output_type": "stream",
          "name": "stdout",
          "text": [
            "Nilai Akurasi di latihan dengan RFC: 0.757\n",
            "Nilai Akurasi di tes dengan RFC: 0.72\n",
            "Nilai Presisi di RFC: 0.735\n",
            "Nilai panggilan balik di RFC: 0.72\n",
            "Inspeksi nilai F1 di RFC: 0.695\n"
          ]
        }
      ],
      "source": [
        "# Menghitung precision, recall, dan F1 score untuk data uji di kondisi normal\n",
        "precision_test_rf = precision_score(y_testb, y_pred_test_rf, average='weighted', zero_division =0, sample_weight = brsbrtrfctest)\n",
        "recall_test_rf = recall_score(y_testb, y_pred_test_rf, average='weighted', zero_division =0, sample_weight = brsbrtrfctest)\n",
        "f1_test_rf = f1_score(y_testb, y_pred_test_rf, average='weighted', zero_division =0, sample_weight = brsbrtrfctest)\n",
        "\n",
        "# Pembulatan nilai untuk kemudahan\n",
        "rounded_accuracy_train = round(accuracy_train_rf, 3)\n",
        "rounded_accuracy_test = round(accuracy_test_rf, 3)\n",
        "rounded_precision = round(precision_test_rf, 3)\n",
        "rounded_recall = round(recall_test_rf, 3)\n",
        "rounded_f1 = round(f1_test_rf, 3)\n",
        "\n",
        "# Menampilkan hasil evaluasi\n",
        "print('Nilai Akurasi di latihan dengan RFC:', rounded_accuracy_train) #Akurasi latihan\n",
        "print('Nilai Akurasi di tes dengan RFC:', rounded_accuracy_test) #Akurasi Tes\n",
        "print('Nilai Presisi di RFC:', rounded_precision) #Niai Presisi\n",
        "print('Nilai panggilan balik di RFC:', rounded_recall) #Panggilan balik\n",
        "print('Inspeksi nilai F1 di RFC:', rounded_f1) #Nilai F1"
      ]
    },
    {
      "cell_type": "code",
      "execution_count": 136,
      "metadata": {
        "id": "U34JEGgLFtoR",
        "colab": {
          "base_uri": "https://localhost:8080/"
        },
        "outputId": "31a0727e-a482-43b5-aa75-76481b33256d"
      },
      "outputs": [
        {
          "output_type": "execute_result",
          "data": {
            "text/plain": [
              "75"
            ]
          },
          "metadata": {},
          "execution_count": 136
        }
      ],
      "source": [
        "#penyetelan gc pasca eksekusi\n",
        "gc.collect()"
      ]
    },
    {
      "cell_type": "markdown",
      "metadata": {
        "id": "bhVQ_zbuAOBy"
      },
      "source": [
        "##### Pemakaian kluster untuk **'pembungkusan'**"
      ]
    },
    {
      "cell_type": "code",
      "execution_count": 148,
      "metadata": {
        "id": "yD_MM_t93J7q",
        "colab": {
          "base_uri": "https://localhost:8080/"
        },
        "outputId": "82165d97-c8ec-4ec3-e7f2-86a046c74ea7"
      },
      "outputs": [
        {
          "output_type": "execute_result",
          "data": {
            "text/plain": [
              "22"
            ]
          },
          "metadata": {},
          "execution_count": 148
        }
      ],
      "source": [
        "#penyetelan gc\n",
        "gc.collect()"
      ]
    },
    {
      "cell_type": "code",
      "execution_count": 149,
      "metadata": {
        "id": "8UQ-5tbl-_tx"
      },
      "outputs": [],
      "source": [
        "#Modifkiasi ADASYN\n",
        "randfordada = rfclasifi(n_estimators=232,max_depth=35,ccp_alpha=6.75e-7,max_leaf_nodes=30,min_samples_split=7,min_samples_leaf=7,\n",
        "                        class_weight=dictbrta,random_state=40,warm_start = True, oob_score=True, verbose=0) #pakai ADASYN\n",
        "#ke eksekusi fungsi RFC"
      ]
    },
    {
      "cell_type": "code",
      "execution_count": 150,
      "metadata": {
        "id": "UgLrAvODyc6d"
      },
      "outputs": [],
      "source": [
        "#pembungkusan melalui 'bagging'\n",
        "tas = BaggingClassifier(estimator=randfordada, n_estimators=10, random_state=42, warm_start=True, verbose=1)"
      ]
    },
    {
      "cell_type": "code",
      "execution_count": 151,
      "metadata": {
        "id": "0Qukg_gB_Qhn",
        "colab": {
          "base_uri": "https://localhost:8080/"
        },
        "outputId": "c5a9f7db-5396-4f0f-ae59-336f84b0ffc4"
      },
      "outputs": [
        {
          "output_type": "stream",
          "name": "stdout",
          "text": [
            "[0.542 0.583 0.614 0.625 0.61  0.623]\n"
          ]
        }
      ],
      "source": [
        "#Validasi silang dengan ADASYN + pembungkusan\n",
        "scoresada = cross_val_score(tas, X_train2b, y_train2b, cv=6, scoring='accuracy', verbose=1)\n",
        "#pembulatan\n",
        "roundedada = np.round(scoresada,3) #pakai ADASYN\n",
        "#percetakan\n",
        "print(roundedada)"
      ]
    },
    {
      "cell_type": "code",
      "execution_count": 154,
      "metadata": {
        "id": "vrNDwLE-AfU3",
        "colab": {
          "base_uri": "https://localhost:8080/",
          "height": 165
        },
        "outputId": "260a2f3b-5753-428c-f8e8-c170451b1a47"
      },
      "outputs": [
        {
          "output_type": "execute_result",
          "data": {
            "text/plain": [
              "BaggingClassifier(estimator=RandomForestClassifier(ccp_alpha=6.75e-07,\n",
              "                                                   class_weight={0: 0.7098298298298298,\n",
              "                                                                 1: 0.7098298298298298,\n",
              "                                                                 2: 0.7098298298298298},\n",
              "                                                   max_depth=35,\n",
              "                                                   max_leaf_nodes=30,\n",
              "                                                   min_samples_leaf=7,\n",
              "                                                   min_samples_split=7,\n",
              "                                                   n_estimators=232,\n",
              "                                                   oob_score=True,\n",
              "                                                   random_state=40,\n",
              "                                                   warm_start=True),\n",
              "                  random_state=42, verbose=1, warm_start=True)"
            ],
            "text/html": [
              "<style>#sk-container-id-3 {\n",
              "  /* Definition of color scheme common for light and dark mode */\n",
              "  --sklearn-color-text: #000;\n",
              "  --sklearn-color-text-muted: #666;\n",
              "  --sklearn-color-line: gray;\n",
              "  /* Definition of color scheme for unfitted estimators */\n",
              "  --sklearn-color-unfitted-level-0: #fff5e6;\n",
              "  --sklearn-color-unfitted-level-1: #f6e4d2;\n",
              "  --sklearn-color-unfitted-level-2: #ffe0b3;\n",
              "  --sklearn-color-unfitted-level-3: chocolate;\n",
              "  /* Definition of color scheme for fitted estimators */\n",
              "  --sklearn-color-fitted-level-0: #f0f8ff;\n",
              "  --sklearn-color-fitted-level-1: #d4ebff;\n",
              "  --sklearn-color-fitted-level-2: #b3dbfd;\n",
              "  --sklearn-color-fitted-level-3: cornflowerblue;\n",
              "\n",
              "  /* Specific color for light theme */\n",
              "  --sklearn-color-text-on-default-background: var(--sg-text-color, var(--theme-code-foreground, var(--jp-content-font-color1, black)));\n",
              "  --sklearn-color-background: var(--sg-background-color, var(--theme-background, var(--jp-layout-color0, white)));\n",
              "  --sklearn-color-border-box: var(--sg-text-color, var(--theme-code-foreground, var(--jp-content-font-color1, black)));\n",
              "  --sklearn-color-icon: #696969;\n",
              "\n",
              "  @media (prefers-color-scheme: dark) {\n",
              "    /* Redefinition of color scheme for dark theme */\n",
              "    --sklearn-color-text-on-default-background: var(--sg-text-color, var(--theme-code-foreground, var(--jp-content-font-color1, white)));\n",
              "    --sklearn-color-background: var(--sg-background-color, var(--theme-background, var(--jp-layout-color0, #111)));\n",
              "    --sklearn-color-border-box: var(--sg-text-color, var(--theme-code-foreground, var(--jp-content-font-color1, white)));\n",
              "    --sklearn-color-icon: #878787;\n",
              "  }\n",
              "}\n",
              "\n",
              "#sk-container-id-3 {\n",
              "  color: var(--sklearn-color-text);\n",
              "}\n",
              "\n",
              "#sk-container-id-3 pre {\n",
              "  padding: 0;\n",
              "}\n",
              "\n",
              "#sk-container-id-3 input.sk-hidden--visually {\n",
              "  border: 0;\n",
              "  clip: rect(1px 1px 1px 1px);\n",
              "  clip: rect(1px, 1px, 1px, 1px);\n",
              "  height: 1px;\n",
              "  margin: -1px;\n",
              "  overflow: hidden;\n",
              "  padding: 0;\n",
              "  position: absolute;\n",
              "  width: 1px;\n",
              "}\n",
              "\n",
              "#sk-container-id-3 div.sk-dashed-wrapped {\n",
              "  border: 1px dashed var(--sklearn-color-line);\n",
              "  margin: 0 0.4em 0.5em 0.4em;\n",
              "  box-sizing: border-box;\n",
              "  padding-bottom: 0.4em;\n",
              "  background-color: var(--sklearn-color-background);\n",
              "}\n",
              "\n",
              "#sk-container-id-3 div.sk-container {\n",
              "  /* jupyter's `normalize.less` sets `[hidden] { display: none; }`\n",
              "     but bootstrap.min.css set `[hidden] { display: none !important; }`\n",
              "     so we also need the `!important` here to be able to override the\n",
              "     default hidden behavior on the sphinx rendered scikit-learn.org.\n",
              "     See: https://github.com/scikit-learn/scikit-learn/issues/21755 */\n",
              "  display: inline-block !important;\n",
              "  position: relative;\n",
              "}\n",
              "\n",
              "#sk-container-id-3 div.sk-text-repr-fallback {\n",
              "  display: none;\n",
              "}\n",
              "\n",
              "div.sk-parallel-item,\n",
              "div.sk-serial,\n",
              "div.sk-item {\n",
              "  /* draw centered vertical line to link estimators */\n",
              "  background-image: linear-gradient(var(--sklearn-color-text-on-default-background), var(--sklearn-color-text-on-default-background));\n",
              "  background-size: 2px 100%;\n",
              "  background-repeat: no-repeat;\n",
              "  background-position: center center;\n",
              "}\n",
              "\n",
              "/* Parallel-specific style estimator block */\n",
              "\n",
              "#sk-container-id-3 div.sk-parallel-item::after {\n",
              "  content: \"\";\n",
              "  width: 100%;\n",
              "  border-bottom: 2px solid var(--sklearn-color-text-on-default-background);\n",
              "  flex-grow: 1;\n",
              "}\n",
              "\n",
              "#sk-container-id-3 div.sk-parallel {\n",
              "  display: flex;\n",
              "  align-items: stretch;\n",
              "  justify-content: center;\n",
              "  background-color: var(--sklearn-color-background);\n",
              "  position: relative;\n",
              "}\n",
              "\n",
              "#sk-container-id-3 div.sk-parallel-item {\n",
              "  display: flex;\n",
              "  flex-direction: column;\n",
              "}\n",
              "\n",
              "#sk-container-id-3 div.sk-parallel-item:first-child::after {\n",
              "  align-self: flex-end;\n",
              "  width: 50%;\n",
              "}\n",
              "\n",
              "#sk-container-id-3 div.sk-parallel-item:last-child::after {\n",
              "  align-self: flex-start;\n",
              "  width: 50%;\n",
              "}\n",
              "\n",
              "#sk-container-id-3 div.sk-parallel-item:only-child::after {\n",
              "  width: 0;\n",
              "}\n",
              "\n",
              "/* Serial-specific style estimator block */\n",
              "\n",
              "#sk-container-id-3 div.sk-serial {\n",
              "  display: flex;\n",
              "  flex-direction: column;\n",
              "  align-items: center;\n",
              "  background-color: var(--sklearn-color-background);\n",
              "  padding-right: 1em;\n",
              "  padding-left: 1em;\n",
              "}\n",
              "\n",
              "\n",
              "/* Toggleable style: style used for estimator/Pipeline/ColumnTransformer box that is\n",
              "clickable and can be expanded/collapsed.\n",
              "- Pipeline and ColumnTransformer use this feature and define the default style\n",
              "- Estimators will overwrite some part of the style using the `sk-estimator` class\n",
              "*/\n",
              "\n",
              "/* Pipeline and ColumnTransformer style (default) */\n",
              "\n",
              "#sk-container-id-3 div.sk-toggleable {\n",
              "  /* Default theme specific background. It is overwritten whether we have a\n",
              "  specific estimator or a Pipeline/ColumnTransformer */\n",
              "  background-color: var(--sklearn-color-background);\n",
              "}\n",
              "\n",
              "/* Toggleable label */\n",
              "#sk-container-id-3 label.sk-toggleable__label {\n",
              "  cursor: pointer;\n",
              "  display: flex;\n",
              "  width: 100%;\n",
              "  margin-bottom: 0;\n",
              "  padding: 0.5em;\n",
              "  box-sizing: border-box;\n",
              "  text-align: center;\n",
              "  align-items: start;\n",
              "  justify-content: space-between;\n",
              "  gap: 0.5em;\n",
              "}\n",
              "\n",
              "#sk-container-id-3 label.sk-toggleable__label .caption {\n",
              "  font-size: 0.6rem;\n",
              "  font-weight: lighter;\n",
              "  color: var(--sklearn-color-text-muted);\n",
              "}\n",
              "\n",
              "#sk-container-id-3 label.sk-toggleable__label-arrow:before {\n",
              "  /* Arrow on the left of the label */\n",
              "  content: \"▸\";\n",
              "  float: left;\n",
              "  margin-right: 0.25em;\n",
              "  color: var(--sklearn-color-icon);\n",
              "}\n",
              "\n",
              "#sk-container-id-3 label.sk-toggleable__label-arrow:hover:before {\n",
              "  color: var(--sklearn-color-text);\n",
              "}\n",
              "\n",
              "/* Toggleable content - dropdown */\n",
              "\n",
              "#sk-container-id-3 div.sk-toggleable__content {\n",
              "  max-height: 0;\n",
              "  max-width: 0;\n",
              "  overflow: hidden;\n",
              "  text-align: left;\n",
              "  /* unfitted */\n",
              "  background-color: var(--sklearn-color-unfitted-level-0);\n",
              "}\n",
              "\n",
              "#sk-container-id-3 div.sk-toggleable__content.fitted {\n",
              "  /* fitted */\n",
              "  background-color: var(--sklearn-color-fitted-level-0);\n",
              "}\n",
              "\n",
              "#sk-container-id-3 div.sk-toggleable__content pre {\n",
              "  margin: 0.2em;\n",
              "  border-radius: 0.25em;\n",
              "  color: var(--sklearn-color-text);\n",
              "  /* unfitted */\n",
              "  background-color: var(--sklearn-color-unfitted-level-0);\n",
              "}\n",
              "\n",
              "#sk-container-id-3 div.sk-toggleable__content.fitted pre {\n",
              "  /* unfitted */\n",
              "  background-color: var(--sklearn-color-fitted-level-0);\n",
              "}\n",
              "\n",
              "#sk-container-id-3 input.sk-toggleable__control:checked~div.sk-toggleable__content {\n",
              "  /* Expand drop-down */\n",
              "  max-height: 200px;\n",
              "  max-width: 100%;\n",
              "  overflow: auto;\n",
              "}\n",
              "\n",
              "#sk-container-id-3 input.sk-toggleable__control:checked~label.sk-toggleable__label-arrow:before {\n",
              "  content: \"▾\";\n",
              "}\n",
              "\n",
              "/* Pipeline/ColumnTransformer-specific style */\n",
              "\n",
              "#sk-container-id-3 div.sk-label input.sk-toggleable__control:checked~label.sk-toggleable__label {\n",
              "  color: var(--sklearn-color-text);\n",
              "  background-color: var(--sklearn-color-unfitted-level-2);\n",
              "}\n",
              "\n",
              "#sk-container-id-3 div.sk-label.fitted input.sk-toggleable__control:checked~label.sk-toggleable__label {\n",
              "  background-color: var(--sklearn-color-fitted-level-2);\n",
              "}\n",
              "\n",
              "/* Estimator-specific style */\n",
              "\n",
              "/* Colorize estimator box */\n",
              "#sk-container-id-3 div.sk-estimator input.sk-toggleable__control:checked~label.sk-toggleable__label {\n",
              "  /* unfitted */\n",
              "  background-color: var(--sklearn-color-unfitted-level-2);\n",
              "}\n",
              "\n",
              "#sk-container-id-3 div.sk-estimator.fitted input.sk-toggleable__control:checked~label.sk-toggleable__label {\n",
              "  /* fitted */\n",
              "  background-color: var(--sklearn-color-fitted-level-2);\n",
              "}\n",
              "\n",
              "#sk-container-id-3 div.sk-label label.sk-toggleable__label,\n",
              "#sk-container-id-3 div.sk-label label {\n",
              "  /* The background is the default theme color */\n",
              "  color: var(--sklearn-color-text-on-default-background);\n",
              "}\n",
              "\n",
              "/* On hover, darken the color of the background */\n",
              "#sk-container-id-3 div.sk-label:hover label.sk-toggleable__label {\n",
              "  color: var(--sklearn-color-text);\n",
              "  background-color: var(--sklearn-color-unfitted-level-2);\n",
              "}\n",
              "\n",
              "/* Label box, darken color on hover, fitted */\n",
              "#sk-container-id-3 div.sk-label.fitted:hover label.sk-toggleable__label.fitted {\n",
              "  color: var(--sklearn-color-text);\n",
              "  background-color: var(--sklearn-color-fitted-level-2);\n",
              "}\n",
              "\n",
              "/* Estimator label */\n",
              "\n",
              "#sk-container-id-3 div.sk-label label {\n",
              "  font-family: monospace;\n",
              "  font-weight: bold;\n",
              "  display: inline-block;\n",
              "  line-height: 1.2em;\n",
              "}\n",
              "\n",
              "#sk-container-id-3 div.sk-label-container {\n",
              "  text-align: center;\n",
              "}\n",
              "\n",
              "/* Estimator-specific */\n",
              "#sk-container-id-3 div.sk-estimator {\n",
              "  font-family: monospace;\n",
              "  border: 1px dotted var(--sklearn-color-border-box);\n",
              "  border-radius: 0.25em;\n",
              "  box-sizing: border-box;\n",
              "  margin-bottom: 0.5em;\n",
              "  /* unfitted */\n",
              "  background-color: var(--sklearn-color-unfitted-level-0);\n",
              "}\n",
              "\n",
              "#sk-container-id-3 div.sk-estimator.fitted {\n",
              "  /* fitted */\n",
              "  background-color: var(--sklearn-color-fitted-level-0);\n",
              "}\n",
              "\n",
              "/* on hover */\n",
              "#sk-container-id-3 div.sk-estimator:hover {\n",
              "  /* unfitted */\n",
              "  background-color: var(--sklearn-color-unfitted-level-2);\n",
              "}\n",
              "\n",
              "#sk-container-id-3 div.sk-estimator.fitted:hover {\n",
              "  /* fitted */\n",
              "  background-color: var(--sklearn-color-fitted-level-2);\n",
              "}\n",
              "\n",
              "/* Specification for estimator info (e.g. \"i\" and \"?\") */\n",
              "\n",
              "/* Common style for \"i\" and \"?\" */\n",
              "\n",
              ".sk-estimator-doc-link,\n",
              "a:link.sk-estimator-doc-link,\n",
              "a:visited.sk-estimator-doc-link {\n",
              "  float: right;\n",
              "  font-size: smaller;\n",
              "  line-height: 1em;\n",
              "  font-family: monospace;\n",
              "  background-color: var(--sklearn-color-background);\n",
              "  border-radius: 1em;\n",
              "  height: 1em;\n",
              "  width: 1em;\n",
              "  text-decoration: none !important;\n",
              "  margin-left: 0.5em;\n",
              "  text-align: center;\n",
              "  /* unfitted */\n",
              "  border: var(--sklearn-color-unfitted-level-1) 1pt solid;\n",
              "  color: var(--sklearn-color-unfitted-level-1);\n",
              "}\n",
              "\n",
              ".sk-estimator-doc-link.fitted,\n",
              "a:link.sk-estimator-doc-link.fitted,\n",
              "a:visited.sk-estimator-doc-link.fitted {\n",
              "  /* fitted */\n",
              "  border: var(--sklearn-color-fitted-level-1) 1pt solid;\n",
              "  color: var(--sklearn-color-fitted-level-1);\n",
              "}\n",
              "\n",
              "/* On hover */\n",
              "div.sk-estimator:hover .sk-estimator-doc-link:hover,\n",
              ".sk-estimator-doc-link:hover,\n",
              "div.sk-label-container:hover .sk-estimator-doc-link:hover,\n",
              ".sk-estimator-doc-link:hover {\n",
              "  /* unfitted */\n",
              "  background-color: var(--sklearn-color-unfitted-level-3);\n",
              "  color: var(--sklearn-color-background);\n",
              "  text-decoration: none;\n",
              "}\n",
              "\n",
              "div.sk-estimator.fitted:hover .sk-estimator-doc-link.fitted:hover,\n",
              ".sk-estimator-doc-link.fitted:hover,\n",
              "div.sk-label-container:hover .sk-estimator-doc-link.fitted:hover,\n",
              ".sk-estimator-doc-link.fitted:hover {\n",
              "  /* fitted */\n",
              "  background-color: var(--sklearn-color-fitted-level-3);\n",
              "  color: var(--sklearn-color-background);\n",
              "  text-decoration: none;\n",
              "}\n",
              "\n",
              "/* Span, style for the box shown on hovering the info icon */\n",
              ".sk-estimator-doc-link span {\n",
              "  display: none;\n",
              "  z-index: 9999;\n",
              "  position: relative;\n",
              "  font-weight: normal;\n",
              "  right: .2ex;\n",
              "  padding: .5ex;\n",
              "  margin: .5ex;\n",
              "  width: min-content;\n",
              "  min-width: 20ex;\n",
              "  max-width: 50ex;\n",
              "  color: var(--sklearn-color-text);\n",
              "  box-shadow: 2pt 2pt 4pt #999;\n",
              "  /* unfitted */\n",
              "  background: var(--sklearn-color-unfitted-level-0);\n",
              "  border: .5pt solid var(--sklearn-color-unfitted-level-3);\n",
              "}\n",
              "\n",
              ".sk-estimator-doc-link.fitted span {\n",
              "  /* fitted */\n",
              "  background: var(--sklearn-color-fitted-level-0);\n",
              "  border: var(--sklearn-color-fitted-level-3);\n",
              "}\n",
              "\n",
              ".sk-estimator-doc-link:hover span {\n",
              "  display: block;\n",
              "}\n",
              "\n",
              "/* \"?\"-specific style due to the `<a>` HTML tag */\n",
              "\n",
              "#sk-container-id-3 a.estimator_doc_link {\n",
              "  float: right;\n",
              "  font-size: 1rem;\n",
              "  line-height: 1em;\n",
              "  font-family: monospace;\n",
              "  background-color: var(--sklearn-color-background);\n",
              "  border-radius: 1rem;\n",
              "  height: 1rem;\n",
              "  width: 1rem;\n",
              "  text-decoration: none;\n",
              "  /* unfitted */\n",
              "  color: var(--sklearn-color-unfitted-level-1);\n",
              "  border: var(--sklearn-color-unfitted-level-1) 1pt solid;\n",
              "}\n",
              "\n",
              "#sk-container-id-3 a.estimator_doc_link.fitted {\n",
              "  /* fitted */\n",
              "  border: var(--sklearn-color-fitted-level-1) 1pt solid;\n",
              "  color: var(--sklearn-color-fitted-level-1);\n",
              "}\n",
              "\n",
              "/* On hover */\n",
              "#sk-container-id-3 a.estimator_doc_link:hover {\n",
              "  /* unfitted */\n",
              "  background-color: var(--sklearn-color-unfitted-level-3);\n",
              "  color: var(--sklearn-color-background);\n",
              "  text-decoration: none;\n",
              "}\n",
              "\n",
              "#sk-container-id-3 a.estimator_doc_link.fitted:hover {\n",
              "  /* fitted */\n",
              "  background-color: var(--sklearn-color-fitted-level-3);\n",
              "}\n",
              "</style><div id=\"sk-container-id-3\" class=\"sk-top-container\"><div class=\"sk-text-repr-fallback\"><pre>BaggingClassifier(estimator=RandomForestClassifier(ccp_alpha=6.75e-07,\n",
              "                                                   class_weight={0: 0.7098298298298298,\n",
              "                                                                 1: 0.7098298298298298,\n",
              "                                                                 2: 0.7098298298298298},\n",
              "                                                   max_depth=35,\n",
              "                                                   max_leaf_nodes=30,\n",
              "                                                   min_samples_leaf=7,\n",
              "                                                   min_samples_split=7,\n",
              "                                                   n_estimators=232,\n",
              "                                                   oob_score=True,\n",
              "                                                   random_state=40,\n",
              "                                                   warm_start=True),\n",
              "                  random_state=42, verbose=1, warm_start=True)</pre><b>In a Jupyter environment, please rerun this cell to show the HTML representation or trust the notebook. <br />On GitHub, the HTML representation is unable to render, please try loading this page with nbviewer.org.</b></div><div class=\"sk-container\" hidden><div class=\"sk-item sk-dashed-wrapped\"><div class=\"sk-label-container\"><div class=\"sk-label fitted sk-toggleable\"><input class=\"sk-toggleable__control sk-hidden--visually\" id=\"sk-estimator-id-3\" type=\"checkbox\" ><label for=\"sk-estimator-id-3\" class=\"sk-toggleable__label fitted sk-toggleable__label-arrow\"><div><div>BaggingClassifier</div></div><div><a class=\"sk-estimator-doc-link fitted\" rel=\"noreferrer\" target=\"_blank\" href=\"https://scikit-learn.org/1.6/modules/generated/sklearn.ensemble.BaggingClassifier.html\">?<span>Documentation for BaggingClassifier</span></a><span class=\"sk-estimator-doc-link fitted\">i<span>Fitted</span></span></div></label><div class=\"sk-toggleable__content fitted\"><pre>BaggingClassifier(estimator=RandomForestClassifier(ccp_alpha=6.75e-07,\n",
              "                                                   class_weight={0: 0.7098298298298298,\n",
              "                                                                 1: 0.7098298298298298,\n",
              "                                                                 2: 0.7098298298298298},\n",
              "                                                   max_depth=35,\n",
              "                                                   max_leaf_nodes=30,\n",
              "                                                   min_samples_leaf=7,\n",
              "                                                   min_samples_split=7,\n",
              "                                                   n_estimators=232,\n",
              "                                                   oob_score=True,\n",
              "                                                   random_state=40,\n",
              "                                                   warm_start=True),\n",
              "                  random_state=42, verbose=1, warm_start=True)</pre></div> </div></div><div class=\"sk-parallel\"><div class=\"sk-parallel-item\"><div class=\"sk-item\"><div class=\"sk-label-container\"><div class=\"sk-label fitted sk-toggleable\"><input class=\"sk-toggleable__control sk-hidden--visually\" id=\"sk-estimator-id-4\" type=\"checkbox\" ><label for=\"sk-estimator-id-4\" class=\"sk-toggleable__label fitted sk-toggleable__label-arrow\"><div><div>estimator: RandomForestClassifier</div></div></label><div class=\"sk-toggleable__content fitted\"><pre>RandomForestClassifier(ccp_alpha=6.75e-07,\n",
              "                       class_weight={0: 0.7098298298298298,\n",
              "                                     1: 0.7098298298298298,\n",
              "                                     2: 0.7098298298298298},\n",
              "                       max_depth=35, max_leaf_nodes=30, min_samples_leaf=7,\n",
              "                       min_samples_split=7, n_estimators=232, oob_score=True,\n",
              "                       random_state=40, warm_start=True)</pre></div> </div></div><div class=\"sk-serial\"><div class=\"sk-item\"><div class=\"sk-estimator fitted sk-toggleable\"><input class=\"sk-toggleable__control sk-hidden--visually\" id=\"sk-estimator-id-5\" type=\"checkbox\" ><label for=\"sk-estimator-id-5\" class=\"sk-toggleable__label fitted sk-toggleable__label-arrow\"><div><div>RandomForestClassifier</div></div><div><a class=\"sk-estimator-doc-link fitted\" rel=\"noreferrer\" target=\"_blank\" href=\"https://scikit-learn.org/1.6/modules/generated/sklearn.ensemble.RandomForestClassifier.html\">?<span>Documentation for RandomForestClassifier</span></a></div></label><div class=\"sk-toggleable__content fitted\"><pre>RandomForestClassifier(ccp_alpha=6.75e-07,\n",
              "                       class_weight={0: 0.7098298298298298,\n",
              "                                     1: 0.7098298298298298,\n",
              "                                     2: 0.7098298298298298},\n",
              "                       max_depth=35, max_leaf_nodes=30, min_samples_leaf=7,\n",
              "                       min_samples_split=7, n_estimators=232, oob_score=True,\n",
              "                       random_state=40, warm_start=True)</pre></div> </div></div></div></div></div></div></div></div></div>"
            ]
          },
          "metadata": {},
          "execution_count": 154
        }
      ],
      "source": [
        "#Eksekusi dengan Modifikasi ADASYN melalui penyesuaian\n",
        "tas.fit(X_train2b, y_train2b, sample_weight=brsbrtrfcii) #dengan ADASYN"
      ]
    },
    {
      "cell_type": "code",
      "execution_count": 155,
      "metadata": {
        "id": "mOURHR0_AxVe"
      },
      "outputs": [],
      "source": [
        "#prediksi dengan ADASYN\n",
        "y_pred_train_rfada = tas.predict(X_train2b)\n",
        "y_pred_test_rfada = tas.predict(X_test2b)\n",
        "\n",
        "# Evaluasi akurasi model Random Forest\n",
        "accuracy_train_rfada = accuracy_score(y_pred_train_rfada, y_train2b, sample_weight=brsbrtrfcii) #akurasi latihan\n",
        "accuracy_test_rfada = accuracy_score(y_pred_test_rfada, y_test2b, sample_weight=brsbrtrfc2) #akurasi tes"
      ]
    },
    {
      "cell_type": "code",
      "execution_count": 156,
      "metadata": {
        "id": "h5QANiKFA3H-",
        "colab": {
          "base_uri": "https://localhost:8080/"
        },
        "outputId": "529c388c-378e-403a-ff63-0f4a2069fe50"
      },
      "outputs": [
        {
          "output_type": "stream",
          "name": "stdout",
          "text": [
            "Nilai Akurasi di latihan dengan RFC: 0.604\n",
            "Nilai Akurasi di tes dengan RFC: 0.604\n",
            "Nilai Presisi di RFC: 0.612\n",
            "Nilai panggilan balik di RFC: 0.604\n",
            "Inspeksi nilai F1 di RFC: 0.578\n"
          ]
        }
      ],
      "source": [
        "#penampilan hasil Melalui Modifkasi ADASYN\n",
        "precision_test_rfada = precision_score(y_test2b, y_pred_test_rfada, average='weighted', zero_division =0, sample_weight = brsbrtrfc2)\n",
        "recall_test_rfada = recall_score(y_test2b, y_pred_test_rfada, average='weighted', zero_division =0, sample_weight = brsbrtrfc2)\n",
        "f1_test_rfada = f1_score(y_test2b, y_pred_test_rfada, average='weighted', zero_division =0, sample_weight = brsbrtrfc2)\n",
        "\n",
        "#pembulatan demi kemudahan\n",
        "rounded_accuracy_trainada = round(accuracy_train_rfada, 3)\n",
        "rounded_accuracy_testada = round(accuracy_test_rfada, 3)\n",
        "rounded_precisionada = round(precision_test_rfada, 3)\n",
        "rounded_recall = round(recall_test_rfada, 3)\n",
        "rounded_f1 = round(f1_test_rfada, 3)\n",
        "\n",
        "#cetak hasil\n",
        "print('Nilai Akurasi di latihan dengan RFC:', rounded_accuracy_trainada) #Akurasi Latihan pasca modifikasi\n",
        "print('Nilai Akurasi di tes dengan RFC:', rounded_accuracy_testada) #Akurasi Tes pasca modifikasi\n",
        "print('Nilai Presisi di RFC:', rounded_precisionada) #Nilai presisi pasca modifikasi\n",
        "print('Nilai panggilan balik di RFC:', rounded_recall) #Nilai panggilan balik pasca modifikasi\n",
        "print('Inspeksi nilai F1 di RFC:', rounded_f1) #Nilai f1 pasca modifikasi"
      ]
    },
    {
      "cell_type": "markdown",
      "metadata": {
        "id": "-PGH-3HbA8G2"
      },
      "source": [
        "##### Modifikasi **'Pencatian Grid'** di teknik RCF"
      ]
    },
    {
      "cell_type": "code",
      "execution_count": null,
      "metadata": {
        "id": "iIeIRmJ2BH3a"
      },
      "outputs": [],
      "source": [
        "#Persiapan modifikasi grid (modifikasi RFC dan parameter) melalui parameter RCF yang dimodifikasi\n",
        "randfordmod = rfclasifi(random_state=40, oob_score=True, class_weight=dictbrtseim, warm_start=True, verbose=0)\n",
        "#deklarasi parameter dengan grid normal\n",
        "param_grid = {'n_estimators': [108, 152],'max_features': ['auto', 'sqrt', 2],'max_depth': [3, 6, 9, 12],'min_samples_split': [2, 4, 5, 8, 10],'min_samples_leaf': [1, 2, 4, 5],\"criterion\": [\"gini\", \"entropy\"],\"ccp_alpha\": [4.5e-7, 9.5e-7, 5e-8] }\n"
      ]
    },
    {
      "cell_type": "code",
      "execution_count": null,
      "metadata": {
        "id": "oSm7WesOfT4D"
      },
      "outputs": [],
      "source": [
        "#eksekusi pencarian baris dengan pencarian baris\n",
        "grid_search = GridSearchCV(\n",
        "    estimator=randfordmod,\n",
        "    param_grid=param_grid,\n",
        "    scoring='accuracy',  # Optimiasi nilai\n",
        "    cv=5,          # Number of cross-validation folds\n",
        "    verbose=1,\n",
        "    n_jobs=-1     # Use all available cores for faster computation\n",
        ")"
      ]
    },
    {
      "cell_type": "code",
      "execution_count": null,
      "metadata": {
        "id": "J5PWhFPgoJyN"
      },
      "outputs": [],
      "source": [
        "#pelacakan parameter\n",
        "grid_search.fit(X_trainb, y_trainb)"
      ]
    },
    {
      "cell_type": "code",
      "execution_count": null,
      "metadata": {
        "id": "nBTX0rHmoP1E"
      },
      "outputs": [],
      "source": [
        "#perolehan model sesuai\n",
        "best_model = grid_search.best_estimator_"
      ]
    },
    {
      "cell_type": "code",
      "execution_count": null,
      "metadata": {
        "id": "ZFbZwP7moUbn"
      },
      "outputs": [],
      "source": [
        "#persiapan validasi\n",
        "y_predb = best_model.predict(X_testb)\n",
        "#ke evaluasi"
      ]
    },
    {
      "cell_type": "code",
      "execution_count": null,
      "metadata": {
        "id": "AMsYqBPHpA2p"
      },
      "outputs": [],
      "source": [
        "# Evaluasi metrik pasca modifikasi\n",
        "accuracy = accuracy_score(y_testb, y_predb,sample_weight=brsbrtrfcii)\n",
        "report = clsfrep(y_testb, y_predb)\n",
        "\n",
        "print(f\"Best Parameters: {grid_search.best_params_}\")\n",
        "print(f\"Accuracy: {accuracy:.2f}\")\n",
        "print(report)"
      ]
    },
    {
      "cell_type": "markdown",
      "metadata": {
        "id": "B9pae8CP_NPC"
      },
      "source": [
        "#### Eksekusi SVM"
      ]
    },
    {
      "cell_type": "code",
      "execution_count": null,
      "metadata": {
        "colab": {
          "base_uri": "https://localhost:8080/"
        },
        "id": "_W-JELfr_YyB",
        "outputId": "27f0989e-fba0-4a14-ed2e-6004bb98992f"
      },
      "outputs": [
        {
          "data": {
            "text/plain": [
              "0"
            ]
          },
          "execution_count": 257,
          "metadata": {},
          "output_type": "execute_result"
        }
      ],
      "source": [
        "#penetralan berat dengan gc\n",
        "gc.collect()"
      ]
    },
    {
      "cell_type": "code",
      "execution_count": null,
      "metadata": {
        "id": "C-aXbHeW_Q6v"
      },
      "outputs": [],
      "source": [
        "#Tahap 1 eksekusi SVM dengan pelatihan XG Boost\n",
        "dtrain = xgb.DMatrix(X_trains, label=y_trains, weight=brsbrtsv) #latihan\n",
        "dtest = xgb.DMatrix(X_tests, label=y_tests,  weight=brsbrtsvte) #untuk tes\n",
        "pnjlat = len(np.unique(y_trains)) #panjang latihan\n",
        "#parameter\n",
        "paramet  = {\n",
        "    'objective': 'multi:softmax',  # Spesifikasikan\n",
        "    'num_class': pnjlat,\n",
        "    'max_depth': 8,'min_child_weight':3 ,'eta': 0.0556,\n",
        "    'subsample': 0.8055,\n",
        "    'colsample_bytree': 0.805,\n",
        "    'eval_metric': 'mlogloss',\n",
        "    'tree_method': 'hist',\n",
        "    'eval_metric': 'mlogloss',\n",
        "    'verbosity': 1,\n",
        "}"
      ]
    },
    {
      "cell_type": "code",
      "execution_count": null,
      "metadata": {
        "colab": {
          "base_uri": "https://localhost:8080/"
        },
        "id": "4LYuquLVBNIG",
        "outputId": "bd3a9509-653c-4adc-9b51-89ae6f438fb0"
      },
      "outputs": [
        {
          "data": {
            "text/plain": [
              "0"
            ]
          },
          "execution_count": 259,
          "metadata": {},
          "output_type": "execute_result"
        }
      ],
      "source": [
        "# Aktivasi gc di SVM\n",
        "gc.collect()"
      ]
    },
    {
      "cell_type": "code",
      "execution_count": null,
      "metadata": {
        "id": "FtWqMIxuBQUf"
      },
      "outputs": [],
      "source": [
        "#latihan dataset dengan XGB\n",
        "bst = xgb.train(paramet, dtrain, num_boost_round=220)"
      ]
    },
    {
      "cell_type": "code",
      "execution_count": null,
      "metadata": {
        "colab": {
          "base_uri": "https://localhost:8080/"
        },
        "id": "HUT8ePd_BX7i",
        "outputId": "c8058674-2bda-47d1-a299-64fa01e53320"
      },
      "outputs": [
        {
          "name": "stdout",
          "output_type": "stream",
          "text": [
            "Akurasi Latihan : 0.956\n",
            "Akurasi Tes: 0.857\n",
            "Presisi : 0.858\n",
            "Pangilan ulang: 0.857\n",
            "Nilai F1: 0.858\n"
          ]
        }
      ],
      "source": [
        "#hasil terbaik\n",
        "y_pred_train_xgb = bst.predict(dtrain)\n",
        "# matriks baru\n",
        "dtest_pred = xgb.DMatrix(X_tests, label=y_tests)\n",
        "\n",
        "# Predict using the new DMatrix without weights\n",
        "y_pred_test_xgb = bst.predict(dtest_pred)\n",
        "#cetak hasil untuk Evaluasi dan Latihan\n",
        "accuracy_train_xgb = accuracy_score(y_trains, y_pred_train_xgb, sample_weight=brsbrtsv)\n",
        "accuracy_test_xgb = accuracy_score(y_tests, y_pred_test_xgb,sample_weight=brsbrtsvte)\n",
        "\n",
        "#presisi, panggilan ulang, dan nilai F1\n",
        "precision_test_xgb = precision_score(y_tests, y_pred_test_xgb, average='weighted', zero_division=0, sample_weight=brsbrtsvte)\n",
        "recall_test_xgb = recall_score(y_tests, y_pred_test_xgb, average='weighted', zero_division=0,sample_weight=brsbrtsvte)\n",
        "f1_test_xgb = f1_score(y_tests, y_pred_test_xgb, average='weighted', zero_division=0, sample_weight=brsbrtsvte)\n",
        "\n",
        "# Display results\n",
        "print(f'Akurasi Latihan : {accuracy_train_xgb:.3f}')\n",
        "print(f'Akurasi Tes: {accuracy_test_xgb:.3f}')\n",
        "print(f'Presisi : {precision_test_xgb:.3f}')\n",
        "print(f'Pangilan ulang: {recall_test_xgb:.3f}')\n",
        "print(f'Nilai F1: {f1_test_xgb:.3f}')"
      ]
    },
    {
      "cell_type": "markdown",
      "metadata": {
        "id": "vzfwb34F_nS_"
      },
      "source": [
        "#### Eksekusi Regresi Logistik"
      ]
    },
    {
      "cell_type": "code",
      "execution_count": null,
      "metadata": {
        "colab": {
          "base_uri": "https://localhost:8080/"
        },
        "id": "C6BcSt2mBbU3",
        "outputId": "88fb3d7f-3513-4501-8da4-e4e248502070"
      },
      "outputs": [
        {
          "data": {
            "text/plain": [
              "38"
            ]
          },
          "execution_count": 214,
          "metadata": {},
          "output_type": "execute_result"
        }
      ],
      "source": [
        "# Aktivasi gc di regresi Logika\n",
        "gc.collect()"
      ]
    },
    {
      "cell_type": "code",
      "execution_count": null,
      "metadata": {
        "id": "D4X9BVwH_prI"
      },
      "outputs": [],
      "source": [
        "#Proses pertama: Tahap persiapan berat\n",
        "logireg = logrege(class_weight=dictbrtseimreg, tol=1e-5 ,max_iter=1000,warm_start=True)"
      ]
    },
    {
      "cell_type": "code",
      "execution_count": null,
      "metadata": {
        "colab": {
          "base_uri": "https://localhost:8080/"
        },
        "id": "vy2RAmwPgIfC",
        "outputId": "146f42e3-abd7-47f7-ef1c-8c5797189cbc"
      },
      "outputs": [
        {
          "data": {
            "text/plain": [
              "0"
            ]
          },
          "execution_count": 216,
          "metadata": {},
          "output_type": "execute_result"
        }
      ],
      "source": [
        "#persiapan gc\n",
        "gc.collect()"
      ]
    },
    {
      "cell_type": "code",
      "execution_count": null,
      "metadata": {
        "colab": {
          "base_uri": "https://localhost:8080/",
          "height": 253
        },
        "id": "xijEUSfRtZ3A",
        "outputId": "2b70814f-ee74-4432-fd4a-d1ee9cf34570"
      },
      "outputs": [
        {
          "name": "stderr",
          "output_type": "stream",
          "text": [
            "/usr/local/lib/python3.11/dist-packages/sklearn/linear_model/_logistic.py:465: ConvergenceWarning: lbfgs failed to converge (status=1):\n",
            "STOP: TOTAL NO. of ITERATIONS REACHED LIMIT.\n",
            "\n",
            "Increase the number of iterations (max_iter) or scale the data as shown in:\n",
            "    https://scikit-learn.org/stable/modules/preprocessing.html\n",
            "Please also refer to the documentation for alternative solver options:\n",
            "    https://scikit-learn.org/stable/modules/linear_model.html#logistic-regression\n",
            "  n_iter_i = _check_optimize_result(\n"
          ]
        },
        {
          "data": {
            "text/html": [
              "<style>#sk-container-id-2 {\n",
              "  /* Definition of color scheme common for light and dark mode */\n",
              "  --sklearn-color-text: #000;\n",
              "  --sklearn-color-text-muted: #666;\n",
              "  --sklearn-color-line: gray;\n",
              "  /* Definition of color scheme for unfitted estimators */\n",
              "  --sklearn-color-unfitted-level-0: #fff5e6;\n",
              "  --sklearn-color-unfitted-level-1: #f6e4d2;\n",
              "  --sklearn-color-unfitted-level-2: #ffe0b3;\n",
              "  --sklearn-color-unfitted-level-3: chocolate;\n",
              "  /* Definition of color scheme for fitted estimators */\n",
              "  --sklearn-color-fitted-level-0: #f0f8ff;\n",
              "  --sklearn-color-fitted-level-1: #d4ebff;\n",
              "  --sklearn-color-fitted-level-2: #b3dbfd;\n",
              "  --sklearn-color-fitted-level-3: cornflowerblue;\n",
              "\n",
              "  /* Specific color for light theme */\n",
              "  --sklearn-color-text-on-default-background: var(--sg-text-color, var(--theme-code-foreground, var(--jp-content-font-color1, black)));\n",
              "  --sklearn-color-background: var(--sg-background-color, var(--theme-background, var(--jp-layout-color0, white)));\n",
              "  --sklearn-color-border-box: var(--sg-text-color, var(--theme-code-foreground, var(--jp-content-font-color1, black)));\n",
              "  --sklearn-color-icon: #696969;\n",
              "\n",
              "  @media (prefers-color-scheme: dark) {\n",
              "    /* Redefinition of color scheme for dark theme */\n",
              "    --sklearn-color-text-on-default-background: var(--sg-text-color, var(--theme-code-foreground, var(--jp-content-font-color1, white)));\n",
              "    --sklearn-color-background: var(--sg-background-color, var(--theme-background, var(--jp-layout-color0, #111)));\n",
              "    --sklearn-color-border-box: var(--sg-text-color, var(--theme-code-foreground, var(--jp-content-font-color1, white)));\n",
              "    --sklearn-color-icon: #878787;\n",
              "  }\n",
              "}\n",
              "\n",
              "#sk-container-id-2 {\n",
              "  color: var(--sklearn-color-text);\n",
              "}\n",
              "\n",
              "#sk-container-id-2 pre {\n",
              "  padding: 0;\n",
              "}\n",
              "\n",
              "#sk-container-id-2 input.sk-hidden--visually {\n",
              "  border: 0;\n",
              "  clip: rect(1px 1px 1px 1px);\n",
              "  clip: rect(1px, 1px, 1px, 1px);\n",
              "  height: 1px;\n",
              "  margin: -1px;\n",
              "  overflow: hidden;\n",
              "  padding: 0;\n",
              "  position: absolute;\n",
              "  width: 1px;\n",
              "}\n",
              "\n",
              "#sk-container-id-2 div.sk-dashed-wrapped {\n",
              "  border: 1px dashed var(--sklearn-color-line);\n",
              "  margin: 0 0.4em 0.5em 0.4em;\n",
              "  box-sizing: border-box;\n",
              "  padding-bottom: 0.4em;\n",
              "  background-color: var(--sklearn-color-background);\n",
              "}\n",
              "\n",
              "#sk-container-id-2 div.sk-container {\n",
              "  /* jupyter's `normalize.less` sets `[hidden] { display: none; }`\n",
              "     but bootstrap.min.css set `[hidden] { display: none !important; }`\n",
              "     so we also need the `!important` here to be able to override the\n",
              "     default hidden behavior on the sphinx rendered scikit-learn.org.\n",
              "     See: https://github.com/scikit-learn/scikit-learn/issues/21755 */\n",
              "  display: inline-block !important;\n",
              "  position: relative;\n",
              "}\n",
              "\n",
              "#sk-container-id-2 div.sk-text-repr-fallback {\n",
              "  display: none;\n",
              "}\n",
              "\n",
              "div.sk-parallel-item,\n",
              "div.sk-serial,\n",
              "div.sk-item {\n",
              "  /* draw centered vertical line to link estimators */\n",
              "  background-image: linear-gradient(var(--sklearn-color-text-on-default-background), var(--sklearn-color-text-on-default-background));\n",
              "  background-size: 2px 100%;\n",
              "  background-repeat: no-repeat;\n",
              "  background-position: center center;\n",
              "}\n",
              "\n",
              "/* Parallel-specific style estimator block */\n",
              "\n",
              "#sk-container-id-2 div.sk-parallel-item::after {\n",
              "  content: \"\";\n",
              "  width: 100%;\n",
              "  border-bottom: 2px solid var(--sklearn-color-text-on-default-background);\n",
              "  flex-grow: 1;\n",
              "}\n",
              "\n",
              "#sk-container-id-2 div.sk-parallel {\n",
              "  display: flex;\n",
              "  align-items: stretch;\n",
              "  justify-content: center;\n",
              "  background-color: var(--sklearn-color-background);\n",
              "  position: relative;\n",
              "}\n",
              "\n",
              "#sk-container-id-2 div.sk-parallel-item {\n",
              "  display: flex;\n",
              "  flex-direction: column;\n",
              "}\n",
              "\n",
              "#sk-container-id-2 div.sk-parallel-item:first-child::after {\n",
              "  align-self: flex-end;\n",
              "  width: 50%;\n",
              "}\n",
              "\n",
              "#sk-container-id-2 div.sk-parallel-item:last-child::after {\n",
              "  align-self: flex-start;\n",
              "  width: 50%;\n",
              "}\n",
              "\n",
              "#sk-container-id-2 div.sk-parallel-item:only-child::after {\n",
              "  width: 0;\n",
              "}\n",
              "\n",
              "/* Serial-specific style estimator block */\n",
              "\n",
              "#sk-container-id-2 div.sk-serial {\n",
              "  display: flex;\n",
              "  flex-direction: column;\n",
              "  align-items: center;\n",
              "  background-color: var(--sklearn-color-background);\n",
              "  padding-right: 1em;\n",
              "  padding-left: 1em;\n",
              "}\n",
              "\n",
              "\n",
              "/* Toggleable style: style used for estimator/Pipeline/ColumnTransformer box that is\n",
              "clickable and can be expanded/collapsed.\n",
              "- Pipeline and ColumnTransformer use this feature and define the default style\n",
              "- Estimators will overwrite some part of the style using the `sk-estimator` class\n",
              "*/\n",
              "\n",
              "/* Pipeline and ColumnTransformer style (default) */\n",
              "\n",
              "#sk-container-id-2 div.sk-toggleable {\n",
              "  /* Default theme specific background. It is overwritten whether we have a\n",
              "  specific estimator or a Pipeline/ColumnTransformer */\n",
              "  background-color: var(--sklearn-color-background);\n",
              "}\n",
              "\n",
              "/* Toggleable label */\n",
              "#sk-container-id-2 label.sk-toggleable__label {\n",
              "  cursor: pointer;\n",
              "  display: flex;\n",
              "  width: 100%;\n",
              "  margin-bottom: 0;\n",
              "  padding: 0.5em;\n",
              "  box-sizing: border-box;\n",
              "  text-align: center;\n",
              "  align-items: start;\n",
              "  justify-content: space-between;\n",
              "  gap: 0.5em;\n",
              "}\n",
              "\n",
              "#sk-container-id-2 label.sk-toggleable__label .caption {\n",
              "  font-size: 0.6rem;\n",
              "  font-weight: lighter;\n",
              "  color: var(--sklearn-color-text-muted);\n",
              "}\n",
              "\n",
              "#sk-container-id-2 label.sk-toggleable__label-arrow:before {\n",
              "  /* Arrow on the left of the label */\n",
              "  content: \"▸\";\n",
              "  float: left;\n",
              "  margin-right: 0.25em;\n",
              "  color: var(--sklearn-color-icon);\n",
              "}\n",
              "\n",
              "#sk-container-id-2 label.sk-toggleable__label-arrow:hover:before {\n",
              "  color: var(--sklearn-color-text);\n",
              "}\n",
              "\n",
              "/* Toggleable content - dropdown */\n",
              "\n",
              "#sk-container-id-2 div.sk-toggleable__content {\n",
              "  max-height: 0;\n",
              "  max-width: 0;\n",
              "  overflow: hidden;\n",
              "  text-align: left;\n",
              "  /* unfitted */\n",
              "  background-color: var(--sklearn-color-unfitted-level-0);\n",
              "}\n",
              "\n",
              "#sk-container-id-2 div.sk-toggleable__content.fitted {\n",
              "  /* fitted */\n",
              "  background-color: var(--sklearn-color-fitted-level-0);\n",
              "}\n",
              "\n",
              "#sk-container-id-2 div.sk-toggleable__content pre {\n",
              "  margin: 0.2em;\n",
              "  border-radius: 0.25em;\n",
              "  color: var(--sklearn-color-text);\n",
              "  /* unfitted */\n",
              "  background-color: var(--sklearn-color-unfitted-level-0);\n",
              "}\n",
              "\n",
              "#sk-container-id-2 div.sk-toggleable__content.fitted pre {\n",
              "  /* unfitted */\n",
              "  background-color: var(--sklearn-color-fitted-level-0);\n",
              "}\n",
              "\n",
              "#sk-container-id-2 input.sk-toggleable__control:checked~div.sk-toggleable__content {\n",
              "  /* Expand drop-down */\n",
              "  max-height: 200px;\n",
              "  max-width: 100%;\n",
              "  overflow: auto;\n",
              "}\n",
              "\n",
              "#sk-container-id-2 input.sk-toggleable__control:checked~label.sk-toggleable__label-arrow:before {\n",
              "  content: \"▾\";\n",
              "}\n",
              "\n",
              "/* Pipeline/ColumnTransformer-specific style */\n",
              "\n",
              "#sk-container-id-2 div.sk-label input.sk-toggleable__control:checked~label.sk-toggleable__label {\n",
              "  color: var(--sklearn-color-text);\n",
              "  background-color: var(--sklearn-color-unfitted-level-2);\n",
              "}\n",
              "\n",
              "#sk-container-id-2 div.sk-label.fitted input.sk-toggleable__control:checked~label.sk-toggleable__label {\n",
              "  background-color: var(--sklearn-color-fitted-level-2);\n",
              "}\n",
              "\n",
              "/* Estimator-specific style */\n",
              "\n",
              "/* Colorize estimator box */\n",
              "#sk-container-id-2 div.sk-estimator input.sk-toggleable__control:checked~label.sk-toggleable__label {\n",
              "  /* unfitted */\n",
              "  background-color: var(--sklearn-color-unfitted-level-2);\n",
              "}\n",
              "\n",
              "#sk-container-id-2 div.sk-estimator.fitted input.sk-toggleable__control:checked~label.sk-toggleable__label {\n",
              "  /* fitted */\n",
              "  background-color: var(--sklearn-color-fitted-level-2);\n",
              "}\n",
              "\n",
              "#sk-container-id-2 div.sk-label label.sk-toggleable__label,\n",
              "#sk-container-id-2 div.sk-label label {\n",
              "  /* The background is the default theme color */\n",
              "  color: var(--sklearn-color-text-on-default-background);\n",
              "}\n",
              "\n",
              "/* On hover, darken the color of the background */\n",
              "#sk-container-id-2 div.sk-label:hover label.sk-toggleable__label {\n",
              "  color: var(--sklearn-color-text);\n",
              "  background-color: var(--sklearn-color-unfitted-level-2);\n",
              "}\n",
              "\n",
              "/* Label box, darken color on hover, fitted */\n",
              "#sk-container-id-2 div.sk-label.fitted:hover label.sk-toggleable__label.fitted {\n",
              "  color: var(--sklearn-color-text);\n",
              "  background-color: var(--sklearn-color-fitted-level-2);\n",
              "}\n",
              "\n",
              "/* Estimator label */\n",
              "\n",
              "#sk-container-id-2 div.sk-label label {\n",
              "  font-family: monospace;\n",
              "  font-weight: bold;\n",
              "  display: inline-block;\n",
              "  line-height: 1.2em;\n",
              "}\n",
              "\n",
              "#sk-container-id-2 div.sk-label-container {\n",
              "  text-align: center;\n",
              "}\n",
              "\n",
              "/* Estimator-specific */\n",
              "#sk-container-id-2 div.sk-estimator {\n",
              "  font-family: monospace;\n",
              "  border: 1px dotted var(--sklearn-color-border-box);\n",
              "  border-radius: 0.25em;\n",
              "  box-sizing: border-box;\n",
              "  margin-bottom: 0.5em;\n",
              "  /* unfitted */\n",
              "  background-color: var(--sklearn-color-unfitted-level-0);\n",
              "}\n",
              "\n",
              "#sk-container-id-2 div.sk-estimator.fitted {\n",
              "  /* fitted */\n",
              "  background-color: var(--sklearn-color-fitted-level-0);\n",
              "}\n",
              "\n",
              "/* on hover */\n",
              "#sk-container-id-2 div.sk-estimator:hover {\n",
              "  /* unfitted */\n",
              "  background-color: var(--sklearn-color-unfitted-level-2);\n",
              "}\n",
              "\n",
              "#sk-container-id-2 div.sk-estimator.fitted:hover {\n",
              "  /* fitted */\n",
              "  background-color: var(--sklearn-color-fitted-level-2);\n",
              "}\n",
              "\n",
              "/* Specification for estimator info (e.g. \"i\" and \"?\") */\n",
              "\n",
              "/* Common style for \"i\" and \"?\" */\n",
              "\n",
              ".sk-estimator-doc-link,\n",
              "a:link.sk-estimator-doc-link,\n",
              "a:visited.sk-estimator-doc-link {\n",
              "  float: right;\n",
              "  font-size: smaller;\n",
              "  line-height: 1em;\n",
              "  font-family: monospace;\n",
              "  background-color: var(--sklearn-color-background);\n",
              "  border-radius: 1em;\n",
              "  height: 1em;\n",
              "  width: 1em;\n",
              "  text-decoration: none !important;\n",
              "  margin-left: 0.5em;\n",
              "  text-align: center;\n",
              "  /* unfitted */\n",
              "  border: var(--sklearn-color-unfitted-level-1) 1pt solid;\n",
              "  color: var(--sklearn-color-unfitted-level-1);\n",
              "}\n",
              "\n",
              ".sk-estimator-doc-link.fitted,\n",
              "a:link.sk-estimator-doc-link.fitted,\n",
              "a:visited.sk-estimator-doc-link.fitted {\n",
              "  /* fitted */\n",
              "  border: var(--sklearn-color-fitted-level-1) 1pt solid;\n",
              "  color: var(--sklearn-color-fitted-level-1);\n",
              "}\n",
              "\n",
              "/* On hover */\n",
              "div.sk-estimator:hover .sk-estimator-doc-link:hover,\n",
              ".sk-estimator-doc-link:hover,\n",
              "div.sk-label-container:hover .sk-estimator-doc-link:hover,\n",
              ".sk-estimator-doc-link:hover {\n",
              "  /* unfitted */\n",
              "  background-color: var(--sklearn-color-unfitted-level-3);\n",
              "  color: var(--sklearn-color-background);\n",
              "  text-decoration: none;\n",
              "}\n",
              "\n",
              "div.sk-estimator.fitted:hover .sk-estimator-doc-link.fitted:hover,\n",
              ".sk-estimator-doc-link.fitted:hover,\n",
              "div.sk-label-container:hover .sk-estimator-doc-link.fitted:hover,\n",
              ".sk-estimator-doc-link.fitted:hover {\n",
              "  /* fitted */\n",
              "  background-color: var(--sklearn-color-fitted-level-3);\n",
              "  color: var(--sklearn-color-background);\n",
              "  text-decoration: none;\n",
              "}\n",
              "\n",
              "/* Span, style for the box shown on hovering the info icon */\n",
              ".sk-estimator-doc-link span {\n",
              "  display: none;\n",
              "  z-index: 9999;\n",
              "  position: relative;\n",
              "  font-weight: normal;\n",
              "  right: .2ex;\n",
              "  padding: .5ex;\n",
              "  margin: .5ex;\n",
              "  width: min-content;\n",
              "  min-width: 20ex;\n",
              "  max-width: 50ex;\n",
              "  color: var(--sklearn-color-text);\n",
              "  box-shadow: 2pt 2pt 4pt #999;\n",
              "  /* unfitted */\n",
              "  background: var(--sklearn-color-unfitted-level-0);\n",
              "  border: .5pt solid var(--sklearn-color-unfitted-level-3);\n",
              "}\n",
              "\n",
              ".sk-estimator-doc-link.fitted span {\n",
              "  /* fitted */\n",
              "  background: var(--sklearn-color-fitted-level-0);\n",
              "  border: var(--sklearn-color-fitted-level-3);\n",
              "}\n",
              "\n",
              ".sk-estimator-doc-link:hover span {\n",
              "  display: block;\n",
              "}\n",
              "\n",
              "/* \"?\"-specific style due to the `<a>` HTML tag */\n",
              "\n",
              "#sk-container-id-2 a.estimator_doc_link {\n",
              "  float: right;\n",
              "  font-size: 1rem;\n",
              "  line-height: 1em;\n",
              "  font-family: monospace;\n",
              "  background-color: var(--sklearn-color-background);\n",
              "  border-radius: 1rem;\n",
              "  height: 1rem;\n",
              "  width: 1rem;\n",
              "  text-decoration: none;\n",
              "  /* unfitted */\n",
              "  color: var(--sklearn-color-unfitted-level-1);\n",
              "  border: var(--sklearn-color-unfitted-level-1) 1pt solid;\n",
              "}\n",
              "\n",
              "#sk-container-id-2 a.estimator_doc_link.fitted {\n",
              "  /* fitted */\n",
              "  border: var(--sklearn-color-fitted-level-1) 1pt solid;\n",
              "  color: var(--sklearn-color-fitted-level-1);\n",
              "}\n",
              "\n",
              "/* On hover */\n",
              "#sk-container-id-2 a.estimator_doc_link:hover {\n",
              "  /* unfitted */\n",
              "  background-color: var(--sklearn-color-unfitted-level-3);\n",
              "  color: var(--sklearn-color-background);\n",
              "  text-decoration: none;\n",
              "}\n",
              "\n",
              "#sk-container-id-2 a.estimator_doc_link.fitted:hover {\n",
              "  /* fitted */\n",
              "  background-color: var(--sklearn-color-fitted-level-3);\n",
              "}\n",
              "</style><div id=\"sk-container-id-2\" class=\"sk-top-container\"><div class=\"sk-text-repr-fallback\"><pre>LogisticRegression(class_weight={0: 80282.84969979258, 1: 80282.84969979258,\n",
              "                                 2: 80282.84969979258},\n",
              "                   max_iter=1000, tol=1e-05, warm_start=True)</pre><b>In a Jupyter environment, please rerun this cell to show the HTML representation or trust the notebook. <br />On GitHub, the HTML representation is unable to render, please try loading this page with nbviewer.org.</b></div><div class=\"sk-container\" hidden><div class=\"sk-item\"><div class=\"sk-estimator fitted sk-toggleable\"><input class=\"sk-toggleable__control sk-hidden--visually\" id=\"sk-estimator-id-2\" type=\"checkbox\" checked><label for=\"sk-estimator-id-2\" class=\"sk-toggleable__label fitted sk-toggleable__label-arrow\"><div><div>LogisticRegression</div></div><div><a class=\"sk-estimator-doc-link fitted\" rel=\"noreferrer\" target=\"_blank\" href=\"https://scikit-learn.org/1.6/modules/generated/sklearn.linear_model.LogisticRegression.html\">?<span>Documentation for LogisticRegression</span></a><span class=\"sk-estimator-doc-link fitted\">i<span>Fitted</span></span></div></label><div class=\"sk-toggleable__content fitted\"><pre>LogisticRegression(class_weight={0: 80282.84969979258, 1: 80282.84969979258,\n",
              "                                 2: 80282.84969979258},\n",
              "                   max_iter=1000, tol=1e-05, warm_start=True)</pre></div> </div></div></div></div>"
            ],
            "text/plain": [
              "LogisticRegression(class_weight={0: 80282.84969979258, 1: 80282.84969979258,\n",
              "                                 2: 80282.84969979258},\n",
              "                   max_iter=1000, tol=1e-05, warm_start=True)"
            ]
          },
          "execution_count": 217,
          "metadata": {},
          "output_type": "execute_result"
        }
      ],
      "source": [
        "#penyesuaian\n",
        "logireg.fit(X_trainre, y_trainre, sample_weight=brsbrtreg)"
      ]
    },
    {
      "cell_type": "code",
      "execution_count": null,
      "metadata": {
        "id": "-1ZCBf8WDHIR"
      },
      "outputs": [],
      "source": [
        "#Eksekusi hasil\n",
        "y_pred_train_lr = logireg.predict(X_trainre)\n",
        "y_pred_test_lr = logireg.predict(X_testre)\n",
        "\n",
        "accuracy_train_lr = accuracy_score(y_trainre, y_pred_train_lr, sample_weight=brsbrtreg)\n",
        "accuracy_test_lr = accuracy_score(y_testre, y_pred_test_lr, sample_weight=brsbrtreg2)"
      ]
    },
    {
      "cell_type": "code",
      "execution_count": null,
      "metadata": {
        "id": "y1LVT0pXDIpn"
      },
      "outputs": [],
      "source": [
        "#deklarasi hasil regresi\n",
        "precision_test_lr = precision_score(y_testre, y_pred_test_lr, average='weighted', zero_division=0, sample_weight=brsbrtreg2)\n",
        "recall_test_lr = recall_score(y_testre, y_pred_test_lr, average='weighted', zero_division=0, sample_weight=brsbrtreg2)\n",
        "f1_test_lr = f1_score(y_testre, y_pred_test_lr, average='weighted', zero_division=0, sample_weight=brsbrtreg2)\n",
        "#ke penampilan hasil regresi"
      ]
    },
    {
      "cell_type": "code",
      "execution_count": null,
      "metadata": {
        "colab": {
          "base_uri": "https://localhost:8080/"
        },
        "id": "TPsykfEuDLnl",
        "outputId": "0eabad24-441b-4636-c59c-1de9c983d733"
      },
      "outputs": [
        {
          "name": "stdout",
          "output_type": "stream",
          "text": [
            "Nilai Akurasi pelatihan : 0.919\n",
            "Nilai Akurasi tes: 0.924\n",
            "Aspek presisi : 0.915\n",
            "Pemangilan Kembali : 0.924\n",
            "Aspek Nilai F1 : 0.915\n"
          ]
        }
      ],
      "source": [
        "#Hasil regresi\n",
        "print(f'Nilai Akurasi pelatihan : {accuracy_train_lr:.3f}')\n",
        "print(f'Nilai Akurasi tes: {accuracy_test_lr:.3f}')\n",
        "print(f'Aspek presisi : {precision_test_lr:.3f}')\n",
        "print(f'Pemangilan Kembali : {recall_test_lr:.3f}')\n",
        "print(f'Aspek Nilai F1 : {f1_test_lr:.3f}')"
      ]
    },
    {
      "cell_type": "markdown",
      "metadata": {
        "id": "Ea3GxjPkzsVJ"
      },
      "source": [
        "#### Eksekusi dengan 'pohon keputusan'"
      ]
    },
    {
      "cell_type": "code",
      "source": [
        "#perispan dengan gc\n",
        "gc.collect()"
      ],
      "metadata": {
        "colab": {
          "base_uri": "https://localhost:8080/"
        },
        "id": "apzhxKxsYjr-",
        "outputId": "83d1d7cb-a386-4d4c-8525-081497bf6639"
      },
      "execution_count": 157,
      "outputs": [
        {
          "output_type": "execute_result",
          "data": {
            "text/plain": [
              "9455"
            ]
          },
          "metadata": {},
          "execution_count": 157
        }
      ]
    },
    {
      "cell_type": "code",
      "execution_count": 158,
      "metadata": {
        "id": "X-R94cv-zxHu"
      },
      "outputs": [],
      "source": [
        "#Tahap awal\n",
        "decision_tree = DecisionTreeClassifier(min_samples_leaf=3, min_samples_split=3, class_weight=dictbrtseimpk)"
      ]
    },
    {
      "cell_type": "code",
      "source": [
        "#persiapan kluster untuk pembungkusan di pohon keputusan\n",
        "taspk = BaggingClassifier(estimator=decision_tree, n_estimators=10, random_state=42, warm_start=True, verbose=1)"
      ],
      "metadata": {
        "id": "kPxm9jGlCqiO"
      },
      "execution_count": 159,
      "outputs": []
    },
    {
      "cell_type": "code",
      "source": [
        "#persiapan valudasi silang di teknik PK\n",
        "scorespk = cross_val_score(taspk, X_trainpk, y_trainpk, cv=6, scoring='accuracy', verbose=1)\n",
        "#pembulatan\n",
        "roundedpk = np.round(scorespk,3) #pakai Pohon Keputusan\n",
        "#percetakan\n",
        "print(roundedpk)"
      ],
      "metadata": {
        "id": "MNiaYgZVC2Nn"
      },
      "execution_count": null,
      "outputs": []
    },
    {
      "cell_type": "code",
      "execution_count": null,
      "metadata": {
        "id": "9ONwqtix5-Z3"
      },
      "outputs": [],
      "source": [
        "#Tahap lanjut\n",
        "taspk.fit(X_trainpk, y_trainpk, sample_weight=brsbrtpk)"
      ]
    },
    {
      "cell_type": "code",
      "execution_count": null,
      "metadata": {
        "id": "WqevF1Zk6EJP"
      },
      "outputs": [],
      "source": [
        "#prediksi pohon keputusan\n",
        "y_pred_train_dt = decision_tree.predict(X_trainpk)\n",
        "y_pred_test_dt = decision_tree.predict(X_testpk)"
      ]
    },
    {
      "cell_type": "code",
      "execution_count": null,
      "metadata": {
        "id": "hV8O8Few6HEw"
      },
      "outputs": [],
      "source": [
        "#instalsi hasil berupa akurasi, nilai presisi, panggilan balik, dan nilai F1\n",
        "accuracy_train_dt = accuracy_score(y_trainpk, y_pred_train_dt, sample_weight=brsbrtpk)\n",
        "accuracy_test_dt = accuracy_score(y_testpk, y_pred_test_dt, sample_weight=brsbrtpk2)\n",
        "#presisi panggilan balik dan f1\n",
        "precision_test_dt = precision_score(y_testpk, y_pred_test_dt, average='weighted', zero_division =0, sample_weight = brsbrtpk2)\n",
        "recall_test_dt = recall_score(y_testpk, y_pred_test_dt, average='weighted', zero_division =0, sample_weight = brsbrtpk2)\n",
        "f1_test_dt = f1_score(y_testpk, y_pred_test_dt, average='weighted', zero_division =0, sample_weight = brsbrtpk2)"
      ]
    },
    {
      "cell_type": "code",
      "execution_count": null,
      "metadata": {
        "id": "gjKsYOyv6uqt"
      },
      "outputs": [],
      "source": [
        "#pembulatan dan penampilan\n",
        "rounded_accuracy_train_dt = round(accuracy_train_dt, 3)\n",
        "rounded_accuracy_test_dt = round(accuracy_test_dt, 3)\n",
        "#presisi panggilan balik dan F1\n",
        "rounded_precision_dt = round(precision_test_dt, 3)\n",
        "rounded_recall_dt = round(recall_test_dt, 3)\n",
        "rounded_f1_dt = round(f1_test_dt, 3)\n",
        "#penampilan hasil\n",
        "print('Nilai Akurasi di latihan dengan pohon keputusan:', rounded_accuracy_train_dt) #Akurasi latihan\n",
        "print('Nilai Akurasi di tes dengan pohon keputusan:', rounded_accuracy_test_dt) #Akurasi Tes\n",
        "print('Nilai Presisi di pohon keputusan:', rounded_precision_dt) #Niai Presisi\n",
        "print('Nilai panggilan balik di pohon keputusan:', rounded_recall_dt) #Panggilan balik\n",
        "print('Inspeksi nilai F1 di pohon keputusan:', rounded_f1_dt) #"
      ]
    },
    {
      "cell_type": "markdown",
      "metadata": {
        "id": "y1O2xy0sOo2W"
      },
      "source": [
        "# Persiapan kebutuhan Label"
      ]
    },
    {
      "cell_type": "code",
      "execution_count": null,
      "metadata": {
        "id": "yCSWuYsCOq5E"
      },
      "outputs": [],
      "source": [
        "#kode untuk pembentukan\n"
      ]
    },
    {
      "cell_type": "markdown",
      "metadata": {
        "id": "mMWqTP-SmMNl"
      },
      "source": [
        "# Persiapan file 'requirement.txt'"
      ]
    },
    {
      "cell_type": "code",
      "execution_count": null,
      "metadata": {
        "colab": {
          "base_uri": "https://localhost:8080/"
        },
        "id": "NvNBYsOdZgHq",
        "outputId": "61ac7994-42d1-480a-bedc-a8a5fe08ac05"
      },
      "outputs": [
        {
          "name": "stdout",
          "output_type": "stream",
          "text": [
            "Collecting package_name\n",
            "  Downloading package_name-0.1.tar.gz (782 bytes)\n",
            "  Preparing metadata (setup.py) ... \u001b[?25l\u001b[?25hdone\n",
            "Building wheels for collected packages: package_name\n",
            "  Building wheel for package_name (setup.py) ... \u001b[?25l\u001b[?25hdone\n",
            "  Created wheel for package_name: filename=package_name-0.1-py3-none-any.whl size=1229 sha256=1234afa72ef515d1f96a0086545f1d7da5c52cf87140a99b6356005be8a2dd87\n",
            "  Stored in directory: /root/.cache/pip/wheels/b3/c1/6f/538e951eb00f535f43151173b4c55e463a35c17b9e90ab3b1a\n",
            "Successfully built package_name\n",
            "Installing collected packages: package_name\n",
            "Successfully installed package_name-0.1\n"
          ]
        }
      ],
      "source": [
        "#inisiasi\n",
        "!pip install package_name"
      ]
    },
    {
      "cell_type": "code",
      "execution_count": null,
      "metadata": {
        "id": "GwJflMSnZpAe"
      },
      "outputs": [],
      "source": [
        "#persiapan 'keperluan.txt'\n",
        "!pip freeze > requirements-a.txt"
      ]
    },
    {
      "cell_type": "markdown",
      "metadata": {
        "id": "Z-KMufD1Zt9X"
      },
      "source": [
        "tanda 'a' menyatakan analisis"
      ]
    },
    {
      "cell_type": "code",
      "execution_count": null,
      "metadata": {
        "colab": {
          "base_uri": "https://localhost:8080/",
          "height": 17
        },
        "id": "uUH0x6CWZwDS",
        "outputId": "9b109e41-35ee-4d34-c95f-76f6b57df6dd"
      },
      "outputs": [
        {
          "data": {
            "application/javascript": [
              "\n",
              "    async function download(id, filename, size) {\n",
              "      if (!google.colab.kernel.accessAllowed) {\n",
              "        return;\n",
              "      }\n",
              "      const div = document.createElement('div');\n",
              "      const label = document.createElement('label');\n",
              "      label.textContent = `Downloading \"${filename}\": `;\n",
              "      div.appendChild(label);\n",
              "      const progress = document.createElement('progress');\n",
              "      progress.max = size;\n",
              "      div.appendChild(progress);\n",
              "      document.body.appendChild(div);\n",
              "\n",
              "      const buffers = [];\n",
              "      let downloaded = 0;\n",
              "\n",
              "      const channel = await google.colab.kernel.comms.open(id);\n",
              "      // Send a message to notify the kernel that we're ready.\n",
              "      channel.send({})\n",
              "\n",
              "      for await (const message of channel.messages) {\n",
              "        // Send a message to notify the kernel that we're ready.\n",
              "        channel.send({})\n",
              "        if (message.buffers) {\n",
              "          for (const buffer of message.buffers) {\n",
              "            buffers.push(buffer);\n",
              "            downloaded += buffer.byteLength;\n",
              "            progress.value = downloaded;\n",
              "          }\n",
              "        }\n",
              "      }\n",
              "      const blob = new Blob(buffers, {type: 'application/binary'});\n",
              "      const a = document.createElement('a');\n",
              "      a.href = window.URL.createObjectURL(blob);\n",
              "      a.download = filename;\n",
              "      div.appendChild(a);\n",
              "      a.click();\n",
              "      div.remove();\n",
              "    }\n",
              "  "
            ],
            "text/plain": [
              "<IPython.core.display.Javascript object>"
            ]
          },
          "metadata": {},
          "output_type": "display_data"
        },
        {
          "data": {
            "application/javascript": [
              "download(\"download_60536e5e-62ef-43ce-a17e-b35869f7f136\", \"requirements-a.txt\", 11665)"
            ],
            "text/plain": [
              "<IPython.core.display.Javascript object>"
            ]
          },
          "metadata": {},
          "output_type": "display_data"
        }
      ],
      "source": [
        "#pengunduhan\n",
        "from google.colab import files\n",
        "files.download('requirements-a.txt') #ekstraksi"
      ]
    }
  ],
  "metadata": {
    "colab": {
      "collapsed_sections": [
        "_RbjIotRkoFa",
        "hC3VW1dckpJG",
        "oQP1qcS1FoL-",
        "QJmb5o9wwWRm",
        "ONicKNBBJxQN",
        "B9pae8CP_NPC",
        "vzfwb34F_nS_"
      ],
      "provenance": []
    },
    "kernelspec": {
      "display_name": "Python 3",
      "name": "python3"
    },
    "language_info": {
      "name": "python"
    }
  },
  "nbformat": 4,
  "nbformat_minor": 0
}