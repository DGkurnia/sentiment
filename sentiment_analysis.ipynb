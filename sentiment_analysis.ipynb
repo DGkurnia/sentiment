{
  "nbformat": 4,
  "nbformat_minor": 0,
  "metadata": {
    "colab": {
      "provenance": [],
      "collapsed_sections": [
        "DgveYLnX8Nht",
        "aQlsyIAC8Pbg",
        "QbenTf9WKAqu"
      ],
      "authorship_tag": "ABX9TyPCZTKkBoGJHkV4sl5Q8Qp7",
      "include_colab_link": true
    },
    "kernelspec": {
      "name": "python3",
      "display_name": "Python 3"
    },
    "language_info": {
      "name": "python"
    }
  },
  "cells": [
    {
      "cell_type": "markdown",
      "metadata": {
        "id": "view-in-github",
        "colab_type": "text"
      },
      "source": [
        "<a href=\"https://colab.research.google.com/github/DGkurnia/sentiment/blob/main/sentiment_analysis.ipynb\" target=\"_parent\"><img src=\"https://colab.research.google.com/assets/colab-badge.svg\" alt=\"Open In Colab\"/></a>"
      ]
    },
    {
      "cell_type": "markdown",
      "source": [
        "* Nama: Derfansyah Guswiranata Kurnia\n",
        "* Identitas Dicoding : dgkurnia\n",
        "* email dicoding : weerakurnia@gmail.com\n",
        "* Alamat: Jalan Malaka Hijau No 39 Perumahan Malaka Country Estate"
      ],
      "metadata": {
        "id": "uPmNRWmM6GSV"
      }
    },
    {
      "cell_type": "markdown",
      "source": [
        "# Tahap awal perpustakaan"
      ],
      "metadata": {
        "id": "8kNb0g1C5_WY"
      }
    },
    {
      "cell_type": "code",
      "source": [
        "#akses ke google drive\n",
        "from google.colab import drive\n",
        "drive.mount('/content/drive')"
      ],
      "metadata": {
        "colab": {
          "base_uri": "https://localhost:8080/"
        },
        "id": "AD2hHjhS-dK7",
        "outputId": "1c5c032e-b2e4-4461-f102-f9511c9aff22"
      },
      "execution_count": 1,
      "outputs": [
        {
          "output_type": "stream",
          "name": "stdout",
          "text": [
            "Mounted at /content/drive\n"
          ]
        }
      ]
    },
    {
      "cell_type": "markdown",
      "source": [
        "## Pembaruan"
      ],
      "metadata": {
        "id": "DgveYLnX8Nht"
      }
    },
    {
      "cell_type": "code",
      "source": [
        "#perkembangan google colab\n",
        "!apt-get update"
      ],
      "metadata": {
        "colab": {
          "base_uri": "https://localhost:8080/"
        },
        "id": "EMpzo1G38PI2",
        "outputId": "19185adb-c423-41ba-ac0b-ee5303dd56a1"
      },
      "execution_count": 2,
      "outputs": [
        {
          "output_type": "stream",
          "name": "stdout",
          "text": [
            "\r0% [Working]\r            \rGet:1 http://security.ubuntu.com/ubuntu jammy-security InRelease [129 kB]\n",
            "\r0% [Connecting to archive.ubuntu.com (185.125.190.82)] [1 InRelease 0 B/129 kB 0%] [Connected to clo\r0% [Waiting for headers] [Waiting for headers] [Connected to r2u.stat.illinois.edu (192.17.190.167)]\r                                                                                                    \rGet:2 https://cloud.r-project.org/bin/linux/ubuntu jammy-cran40/ InRelease [3,626 B]\n",
            "Hit:3 https://developer.download.nvidia.com/compute/cuda/repos/ubuntu2204/x86_64  InRelease\n",
            "Hit:4 http://archive.ubuntu.com/ubuntu jammy InRelease\n",
            "Get:5 https://r2u.stat.illinois.edu/ubuntu jammy InRelease [6,555 B]\n",
            "Get:6 http://archive.ubuntu.com/ubuntu jammy-updates InRelease [128 kB]\n",
            "Hit:7 https://ppa.launchpadcontent.net/deadsnakes/ppa/ubuntu jammy InRelease\n",
            "Get:8 http://security.ubuntu.com/ubuntu jammy-security/main amd64 Packages [2,561 kB]\n",
            "Get:9 https://ppa.launchpadcontent.net/graphics-drivers/ppa/ubuntu jammy InRelease [24.3 kB]\n",
            "Get:10 http://archive.ubuntu.com/ubuntu jammy-backports InRelease [127 kB]\n",
            "Get:11 http://security.ubuntu.com/ubuntu jammy-security/universe amd64 Packages [1,228 kB]\n",
            "Hit:12 https://ppa.launchpadcontent.net/ubuntugis/ppa/ubuntu jammy InRelease\n",
            "Get:13 https://r2u.stat.illinois.edu/ubuntu jammy/main amd64 Packages [2,646 kB]\n",
            "Get:14 https://r2u.stat.illinois.edu/ubuntu jammy/main all Packages [8,619 kB]\n",
            "Get:15 http://archive.ubuntu.com/ubuntu jammy-updates/universe amd64 Packages [1,519 kB]\n",
            "Get:16 https://ppa.launchpadcontent.net/graphics-drivers/ppa/ubuntu jammy/main amd64 Packages [53.6 kB]\n",
            "Get:17 http://archive.ubuntu.com/ubuntu jammy-updates/main amd64 Packages [2,860 kB]\n",
            "Fetched 19.9 MB in 4s (5,595 kB/s)\n",
            "Reading package lists... Done\n",
            "W: Skipping acquire of configured file 'main/source/Sources' as repository 'https://r2u.stat.illinois.edu/ubuntu jammy InRelease' does not seem to provide it (sources.list entry misspelt?)\n"
          ]
        }
      ]
    },
    {
      "cell_type": "code",
      "source": [
        "#request dan pandas\n",
        "!pip install requests pandas"
      ],
      "metadata": {
        "colab": {
          "base_uri": "https://localhost:8080/"
        },
        "id": "eheK4Fn98VWg",
        "outputId": "0795d831-d093-4950-f1bc-c511cf174759"
      },
      "execution_count": 3,
      "outputs": [
        {
          "output_type": "stream",
          "name": "stdout",
          "text": [
            "Requirement already satisfied: requests in /usr/local/lib/python3.11/dist-packages (2.32.3)\n",
            "Requirement already satisfied: pandas in /usr/local/lib/python3.11/dist-packages (2.2.2)\n",
            "Requirement already satisfied: charset-normalizer<4,>=2 in /usr/local/lib/python3.11/dist-packages (from requests) (3.4.1)\n",
            "Requirement already satisfied: idna<4,>=2.5 in /usr/local/lib/python3.11/dist-packages (from requests) (3.10)\n",
            "Requirement already satisfied: urllib3<3,>=1.21.1 in /usr/local/lib/python3.11/dist-packages (from requests) (2.3.0)\n",
            "Requirement already satisfied: certifi>=2017.4.17 in /usr/local/lib/python3.11/dist-packages (from requests) (2024.12.14)\n",
            "Requirement already satisfied: numpy>=1.23.2 in /usr/local/lib/python3.11/dist-packages (from pandas) (1.26.4)\n",
            "Requirement already satisfied: python-dateutil>=2.8.2 in /usr/local/lib/python3.11/dist-packages (from pandas) (2.8.2)\n",
            "Requirement already satisfied: pytz>=2020.1 in /usr/local/lib/python3.11/dist-packages (from pandas) (2024.2)\n",
            "Requirement already satisfied: tzdata>=2022.7 in /usr/local/lib/python3.11/dist-packages (from pandas) (2024.2)\n",
            "Requirement already satisfied: six>=1.5 in /usr/local/lib/python3.11/dist-packages (from python-dateutil>=2.8.2->pandas) (1.17.0)\n"
          ]
        }
      ]
    },
    {
      "cell_type": "code",
      "source": [
        "#instalasi sastarawi\n",
        "!pip install sastrawi"
      ],
      "metadata": {
        "colab": {
          "base_uri": "https://localhost:8080/"
        },
        "id": "RBT7W3s69r2T",
        "outputId": "f7de35ea-17fa-4c0f-b0c0-e2ba72526d9c"
      },
      "execution_count": 4,
      "outputs": [
        {
          "output_type": "stream",
          "name": "stdout",
          "text": [
            "Collecting sastrawi\n",
            "  Downloading Sastrawi-1.0.1-py2.py3-none-any.whl.metadata (909 bytes)\n",
            "Downloading Sastrawi-1.0.1-py2.py3-none-any.whl (209 kB)\n",
            "\u001b[?25l   \u001b[90m━━━━━━━━━━━━━━━━━━━━━━━━━━━━━━━━━━━━━━━━\u001b[0m \u001b[32m0.0/209.7 kB\u001b[0m \u001b[31m?\u001b[0m eta \u001b[36m-:--:--\u001b[0m\r\u001b[2K   \u001b[91m━━━━━━━━━━━━━━━━━━━━━━━━━━━━━\u001b[0m\u001b[90m╺\u001b[0m\u001b[90m━━━━━━━━━━\u001b[0m \u001b[32m153.6/209.7 kB\u001b[0m \u001b[31m4.3 MB/s\u001b[0m eta \u001b[36m0:00:01\u001b[0m\r\u001b[2K   \u001b[90m━━━━━━━━━━━━━━━━━━━━━━━━━━━━━━━━━━━━━━━━\u001b[0m \u001b[32m209.7/209.7 kB\u001b[0m \u001b[31m3.7 MB/s\u001b[0m eta \u001b[36m0:00:00\u001b[0m\n",
            "\u001b[?25hInstalling collected packages: sastrawi\n",
            "Successfully installed sastrawi-1.0.1\n"
          ]
        }
      ]
    },
    {
      "cell_type": "code",
      "source": [
        "#instalasi wordcloud\n",
        "!pip install wordcloud"
      ],
      "metadata": {
        "colab": {
          "base_uri": "https://localhost:8080/"
        },
        "id": "0fgrykPI-FD4",
        "outputId": "0ffcd323-0baf-4545-fab7-c2b546fdecd8"
      },
      "execution_count": 5,
      "outputs": [
        {
          "output_type": "stream",
          "name": "stdout",
          "text": [
            "Requirement already satisfied: wordcloud in /usr/local/lib/python3.11/dist-packages (1.9.4)\n",
            "Requirement already satisfied: numpy>=1.6.1 in /usr/local/lib/python3.11/dist-packages (from wordcloud) (1.26.4)\n",
            "Requirement already satisfied: pillow in /usr/local/lib/python3.11/dist-packages (from wordcloud) (11.1.0)\n",
            "Requirement already satisfied: matplotlib in /usr/local/lib/python3.11/dist-packages (from wordcloud) (3.10.0)\n",
            "Requirement already satisfied: contourpy>=1.0.1 in /usr/local/lib/python3.11/dist-packages (from matplotlib->wordcloud) (1.3.1)\n",
            "Requirement already satisfied: cycler>=0.10 in /usr/local/lib/python3.11/dist-packages (from matplotlib->wordcloud) (0.12.1)\n",
            "Requirement already satisfied: fonttools>=4.22.0 in /usr/local/lib/python3.11/dist-packages (from matplotlib->wordcloud) (4.55.3)\n",
            "Requirement already satisfied: kiwisolver>=1.3.1 in /usr/local/lib/python3.11/dist-packages (from matplotlib->wordcloud) (1.4.8)\n",
            "Requirement already satisfied: packaging>=20.0 in /usr/local/lib/python3.11/dist-packages (from matplotlib->wordcloud) (24.2)\n",
            "Requirement already satisfied: pyparsing>=2.3.1 in /usr/local/lib/python3.11/dist-packages (from matplotlib->wordcloud) (3.2.1)\n",
            "Requirement already satisfied: python-dateutil>=2.7 in /usr/local/lib/python3.11/dist-packages (from matplotlib->wordcloud) (2.8.2)\n",
            "Requirement already satisfied: six>=1.5 in /usr/local/lib/python3.11/dist-packages (from python-dateutil>=2.7->matplotlib->wordcloud) (1.17.0)\n"
          ]
        }
      ]
    },
    {
      "cell_type": "code",
      "source": [
        "#instalasi backoff\n",
        "!pip install backoff aiohttp"
      ],
      "metadata": {
        "colab": {
          "base_uri": "https://localhost:8080/"
        },
        "id": "EzdaE7ke-co6",
        "outputId": "ea834e21-02f6-414e-ea60-593f3f498b1d"
      },
      "execution_count": 6,
      "outputs": [
        {
          "output_type": "stream",
          "name": "stdout",
          "text": [
            "Collecting backoff\n",
            "  Downloading backoff-2.2.1-py3-none-any.whl.metadata (14 kB)\n",
            "Requirement already satisfied: aiohttp in /usr/local/lib/python3.11/dist-packages (3.11.11)\n",
            "Requirement already satisfied: aiohappyeyeballs>=2.3.0 in /usr/local/lib/python3.11/dist-packages (from aiohttp) (2.4.4)\n",
            "Requirement already satisfied: aiosignal>=1.1.2 in /usr/local/lib/python3.11/dist-packages (from aiohttp) (1.3.2)\n",
            "Requirement already satisfied: attrs>=17.3.0 in /usr/local/lib/python3.11/dist-packages (from aiohttp) (24.3.0)\n",
            "Requirement already satisfied: frozenlist>=1.1.1 in /usr/local/lib/python3.11/dist-packages (from aiohttp) (1.5.0)\n",
            "Requirement already satisfied: multidict<7.0,>=4.5 in /usr/local/lib/python3.11/dist-packages (from aiohttp) (6.1.0)\n",
            "Requirement already satisfied: propcache>=0.2.0 in /usr/local/lib/python3.11/dist-packages (from aiohttp) (0.2.1)\n",
            "Requirement already satisfied: yarl<2.0,>=1.17.0 in /usr/local/lib/python3.11/dist-packages (from aiohttp) (1.18.3)\n",
            "Requirement already satisfied: idna>=2.0 in /usr/local/lib/python3.11/dist-packages (from yarl<2.0,>=1.17.0->aiohttp) (3.10)\n",
            "Downloading backoff-2.2.1-py3-none-any.whl (15 kB)\n",
            "Installing collected packages: backoff\n",
            "Successfully installed backoff-2.2.1\n"
          ]
        }
      ]
    },
    {
      "cell_type": "markdown",
      "source": [
        "## Impor Perpustakaan"
      ],
      "metadata": {
        "id": "aQlsyIAC8Pbg"
      }
    },
    {
      "cell_type": "code",
      "execution_count": 7,
      "metadata": {
        "id": "l2H93XvT59t_"
      },
      "outputs": [],
      "source": [
        "#instalasi perpustakaan\n",
        "import requests\n",
        "import json\n",
        "import pandas as pd\n",
        "import csv\n",
        "#ke manajemen"
      ]
    },
    {
      "cell_type": "code",
      "source": [
        "#manajemen data dasar\n",
        "import numpy as np\n",
        "import matplotlib.pyplot as plt\n",
        "import datetime as dt #jika ada tanggal\n",
        "#perpustakaan untuk interpolasi\n",
        "from scipy.interpolate import interp1d\n",
        "#waktu\n",
        "import time\n",
        "#ke sastawi"
      ],
      "metadata": {
        "id": "yBuTUrC8-URj"
      },
      "execution_count": 8,
      "outputs": []
    },
    {
      "cell_type": "code",
      "source": [
        "#persiapan 'multiprocessing'\n",
        "from multiprocessing import Pool\n",
        "#Seksi Io dan lain-lain\n",
        "import os\n",
        "from io import StringIO\n",
        "#pemrograman paralel\n",
        "import concurrent.futures #untuk pemrograman paralel\n",
        "from concurrent.futures import ThreadPoolExecutor, as_completed\n",
        "#ke sastrawi"
      ],
      "metadata": {
        "id": "kCfZSw8e_UiX"
      },
      "execution_count": 9,
      "outputs": []
    },
    {
      "cell_type": "code",
      "source": [
        "#NITK\n",
        "import nltk  # Import pustaka NLTK (Natural Language Toolkit).\n",
        "nltk.download('punkt')  # Mengunduh dataset yang diperlukan untuk tokenisasi teks.\n",
        "nltk.download('stopwords')  # Mengunduh dataset yang berisi daftar kata-kata berhenti (stopwords) dalam berbagai bahasa.\n",
        "from nltk.corpus import stopwords  # Mengimpor modul stopwords dari pustaka NLTK.\n",
        "from nltk.tokenize import word_tokenize  # Mengimpor fungsi word_tokenize dari modul tokenize dalam pustaka NLTK.\n",
        "\n",
        "#impor wordcloud\n",
        "from wordcloud import WordCloud  # Membuat visualisasi berbentuk awan kata (word cloud) dari teks\n",
        "#ke sastrawi"
      ],
      "metadata": {
        "colab": {
          "base_uri": "https://localhost:8080/"
        },
        "id": "KFYVqpSC99aC",
        "outputId": "7757322a-2302-47b7-9e95-c7f37630d045"
      },
      "execution_count": 10,
      "outputs": [
        {
          "output_type": "stream",
          "name": "stderr",
          "text": [
            "[nltk_data] Downloading package punkt to /root/nltk_data...\n",
            "[nltk_data]   Unzipping tokenizers/punkt.zip.\n",
            "[nltk_data] Downloading package stopwords to /root/nltk_data...\n",
            "[nltk_data]   Unzipping corpora/stopwords.zip.\n"
          ]
        }
      ]
    },
    {
      "cell_type": "code",
      "source": [
        "#perpustakaan untuk klasifikasi\n",
        "from sklearn.ensemble import RandomForestClassifier as rfclasifi #teknik 'randomfprest'\n",
        "from sklearn.tree import DecisionTreeClassifier #teknik 'keputusan'\n",
        "from sklearn.svm import SVC #teknik SVC\n",
        "from sklearn.linear_model import LogisticRegression"
      ],
      "metadata": {
        "id": "OH20kt7O_D0g"
      },
      "execution_count": 11,
      "outputs": []
    },
    {
      "cell_type": "markdown",
      "source": [
        "# Persiapan ekstraksi situs"
      ],
      "metadata": {
        "id": "UE7_Jlij_6zP"
      }
    },
    {
      "cell_type": "markdown",
      "source": [
        "## Pendaftaran situs"
      ],
      "metadata": {
        "id": "BeLwsLIcGF8d"
      }
    },
    {
      "cell_type": "code",
      "source": [
        "#deklarasi target 'URL' dan asal\n",
        "turldoma = 'https://gql.tokopedia.com/graphql/productReviewList'\n",
        "asal = 'https://www.tokopedia.com' #semua dari Tokopedia"
      ],
      "metadata": {
        "id": "RV1TUagU16NR"
      },
      "execution_count": 13,
      "outputs": []
    },
    {
      "cell_type": "code",
      "source": [
        "#daftar url\n",
        "urllist = [\"https://www.tokopedia.com/erigo/kemeja-unisex-erigo-short-shirt-jazlyn-black-jazlyn-black-s/review\", \"https://www.tokopedia.com/erigo/kemeja-unisex-erigo-short-shirt-gribson-rayon-navy-s/review\",\n",
        "\"https://www.tokopedia.com/erigo/kemeja-unisex-erigo-short-shirt-lavrenti-white-lavrenti-white-s/review\", \"https://www.tokopedia.com/erigo/kemeja-unisex-erigo-short-shirt-nessie-dark-green-s/review\",\n",
        "\"https://www.tokopedia.com/erigo/kemeja-unisex-erigo-short-shirt-gruney-katun-red-m/review\", \"https://www.tokopedia.com/erigo/kaos-erigo-t-shirt-oversize-antelope-cotton-combed-black-m/review\"]\n",
        "#ke fragmentasi"
      ],
      "metadata": {
        "id": "UGvPm4Xg0wKf"
      },
      "execution_count": 14,
      "outputs": []
    },
    {
      "cell_type": "code",
      "source": [
        "#pengumpulan daftar 'cookie'\n",
        "cooklist = [\"_UUID_NONLOGIN_=e66ed06832acf756d426a493bf7bac26; _UUID_NONLOGIN_.sig=JpwY5Akhm0H8xr6doCJFqYqnNjM; _SID_Tokopedia_=NwrKP0GhH27USJ0-Kd_bzQmNQmkL6fJZ_hUy7px9yYDRZxXSMZ9QUiGnjxgVKNqDa3dKAKRs4PNb9KXl1lOu7EO1g8VHe6DT5qnKcwrmTq6LiJqkaQIVgDk7fGkvVozC; DID=5fc0d7cafdcac8e6f2b8b9cc5b7d62a618027955df14c273f58635e60983697a254bd4679379abc68b6565430baabd72; DID_JS=NWZjMGQ3Y2FmZGNhYzhlNmYyYjhiOWNjNWI3ZDYyYTYxODAyNzk1NWRmMTRjMjczZjU4NjM1ZTYwOTgzNjk3YTI1NGJkNDY3OTM3OWFiYzY4YjY1NjU0MzBiYWFiZDcy47DEQpj8HBSa+/TImW+5JCeuQeRkm5NMpJWZG3hSuFU=; ak_bmsc=94D1DCC12F6AF478887548E9837200FB~000000000000000000000000000000~YAAQ3i2pyqNTOWCUAQAAklTfgxrwDEn0XJX2byHL/KDtwxOnz0wDQ3WSTUw7KPiuWfUUSFYOULXksJd1NJ5McYwwmS68dg26nLjKNnh9F2yS8R9hiVZ7MJYUQYu6aelqotQUNSBBRv3OrLrWXevhmyD5xTz7K/eUXo6sqxWM7ZtobnCT9IYJceNWMr2/suwIJVeQeKFswI0Wy16DlcWcO/rSokBHAedyxW81Rj/vrhGk1h2EkVxKbGjNQHOizk+TF3TWxHgEEdktw/OLLmnuPzW+IfVPL3V1rxSYqyu04eSXsc8iFC0Iwf9QFMTjXB2mjBTjj6VgtNJq0sbEJ0ghA2n/Dbfn9eaJ4LBlXlse+UVXzOCMeBjsk9lGywcV3RatT7BAmSYPFh9FTesrWA2V19S5kYnn7K3r2sxiYOJUeyKXe2tiredmK+24EE4y+u4E3ZpPBV/zpKG+hD2Iccm7; _gcl_au=1.1.1215995700.1737379239; _gid=GA1.2.1415196745.1737379240; AMP_TOKEN=%24NOT_FOUND; _tt_enable_cookie=1; _ttp=jHsfuWBzE3VgTMaYbVweVb1J_4h.tt.1; TOPATK=SSY09UDGR6eHNQR9og9-aQ; l=1; tuid=39275554; gec_id=168687219962298048; uidh=hQ343xlJhV8WFIBvzr8NcCaECmZcWRGgONmdJbMgjPA=; g_yolo_production=1; _hjSessionUser_714968=eyJpZCI6IjQ0MzljOWJmLTBmNWQtNTAxMy1hMzJkLTg3OTg3YTk3MzNmMyIsImNyZWF0ZWQiOjE3MzczNzkyNTIxMTYsImV4aXN0aW5nIjpmYWxzZX0=; FPF=1; uide=Lz2FAkosBZ+4oXve1QBo9q+9+hv+7bEG9RpiIq9C7QGKm0pZ; aus=1; _CASE_=247d3e163b7d657d696b6a6a6e6c676b7d737d3c163b7d656e6867737d3b163b7d656d6d666d737d330a2f3b7d657d6d6f6d6a726f6e726d6f0b6d6f656d6e656d68746f68656f6f7d737d333e2b7d657d7269716d6d6b686f69667d737d333d337d657d323e333e343e7f3c30312b2d267f3a2c2b3e2b3a7f28362d3e7d737d333031387d657d6e6f6971666b6f6e686a7d737d2f1c307d657d6e6c6b696f7d737d2c163b7d656e6e6a6c6f6a686c737d2c0b262f3a7d657d30303c7d737d28163b7d656f737d28372c7d657d04027d737d28372c2c7d657d04027d22; _UUID_CAS_=d3b6a3eb-49e3-4a08-aea3-1b901c5edaea; _fbp=fb.1.1737380279403.789036172559542773; bm_sz=2F6996B87B5DF943A5AFCC637B52DE89~YAAQ3i2pyl2sOmCUAQAAJDcDhBoJna/+Pi9+9FYtVeHxERiNix50LL8tsfebKrx6XfBNH8IynBZOLh/p8zBAkCySWaHYdLjtbCQ/YLHlT6ELyZ38UB4KBgareKabnYiKrrsOkZlIWSXvXblVMUxRDYGMUJLQg4oQbpwkGHHN1g48qJyikkRxQnx8Sx1uC7C1NlWLI4wFIDetavq+E0Is6gHeFODNYROVUBE6rl+L92bKt8/ktpg+rk6xFbtA5dp//z4auKN9xu6CNone8D6fq51AnUmNLYmO2DHz4myqVigwAYbPx5CazWzCf7Swm2Owq/baJukEVcfpWtFf3zPiW1kPYAkLiy6RQM5BBvpNoA6xb8yX0/eCpHfEdChFIOHCm+4L7r9/UoyQXheoFGTS/rK3ZhrW5kiMvHsH9aCyR3cHNrL/rq5FqANMm7hRQPZzVzwCJ/UWYkU27MT7CrRKUzBKKumz518IQhuoKdbm5RamMwwJheYeQXLvhb6ihrMPFeVZcZf652MoY/A=~4403521~4273464; _abck=2795332B26E74C8E0CF18652596E7B31~0~YAAQ3i2pymOsOmCUAQAAmTcDhA1V9XSqU4VNslOTNJ6jixnQwM6L9TcOj/8AB/b+Q6IAnHcFLE/bWbR837Bk4vQ47T51LjZn/5qM9yJNtiO2505U5Ogc1UwYGHuKEPZWypEDF41mji9disNcwia6r1kzG+xBm/kJGtc7VH15Zei6awmXXES1wISqJiHWlk7BFaGWJ7AL71RvHDdh3ZeZIuRaC22xLJN4y7rOgz3oOKHRdh1YTVX+KU4ss8ABcjOEDMnwVLjwipHFqzXiUTtxS06K4yrci53+gvIdLd0aTsxcLZ9aIe5wHbeiJcW/sd8k05ROjNVD728AsgrUHrFAYomFwx3etX7raiQk8H1qYcpeJFcCiactzIC/X5oFupLu09kGjChSHZ3CkrC/TJxm1jBoAcgpAlveqpbPcsvXGE043mvIggSbY70X35082isWOJdhHL77oxfAv2i2i/nigQnze+9m7LrnZn13Jxpljl88sqTbUEb0Oue1OrTsA2FlGllm3SZWCbJoJ3ra7eTCaa7nrsIEyI0S9xReHWtli6NrMSMVqxcv/tKahdN1b3vvJrvnh5DQ9sCytJ0j6d3EA/gRkqm5DFQclJv/Zj4MEuyCRi4KcrHzQRS8Jw664d1N+Ad+MoeY5kqwpqUeTXV5EBTqOGS1wph5EOMWRoL9ZNXZ73iXKHThrP7M34Z46BvPvU2iHrGfeTgZNQWXK58=~-1~-1~-1; bm_sv=CCA5A936D5A930DB67816034A2DAC31B~YAAQ9S2pym4u622UAQAAtTwDhBrnJGZ7Jzo57FhlcO3NOvH2mBxoViK5QLiH6A05dODlIUTnmS3YC+GdYTWHE1UVYd3n/QmjKrDENUI4wOH4LoJlgQG04oKIL/q35U/UvpDLHW5u0CajNt3vpaHpS68BpezpxaSXXzB4IqT3337saHX8MaTsX+owTMs509miTATvFX7sBb2CqY6Gb2IHQ8KDWGDYc0gAS3I7IF3vBQTx9NUbIA13/rxpXgSRZxG62fkUkQ==~1; _dc_gtm_UA-126956641-6=1; ISID=%7B%22www.tokopedia.com%22%3A%22d3d3LnRva29wZWRpYS5jb20%3D.82cd0c9c95d5e4aacb8928d59402da3d.1737381620878.1737381620878.1737381772505.2%22%2C%22accounts.tokopedia.com%22%3A%22YWNjb3VudHMudG9rb3BlZGlhLmNvbQ%3D%3D.83214773cebbd44c69bc75a5fb8f653c.1737379252363.1737379252363.1737379280151.1%22%7D; _dc_gtm_UA-9801603-1=1; _ga_70947XW48P=GS1.1.1737379240.1.1.1737381772.60.0.0; _ga=GA1.1.691029263.1737379240; webauthn-session=401028bc-0678-4d07-b65a-d87c9f94f490\",\n",
        "            \"_UUID_NONLOGIN_=8f99d5dd839ad1780723e8595ad38987; _UUID_NONLOGIN_.sig=ciTgSOoFDossyyjCLdfGFWxNt2w; _gcl_au=1.1.331787603.1737412981; _SID_Tokopedia_=rE4HKUspgx3YEb4M6zHuh7FPxz7hEsGH2ilCP1heDP2T_SJ2uXv4d-NBiIN2v_xzAm39GiewdOM2V8GPEuWJttUV1m23WNsCqBNtPOTd-3gHZKhh1YOgff3lIHo1fIeO; DID=3c43b6b28f92625d9d7b390ba99c537c62a4d87462943c414f7eab7fe94efcc3e7886ac9c2aafbef560d9fde2b03553a; DID_JS=M2M0M2I2YjI4ZjkyNjI1ZDlkN2IzOTBiYTk5YzUzN2M2MmE0ZDg3NDYyOTQzYzQxNGY3ZWFiN2ZlOTRlZmNjM2U3ODg2YWM5YzJhYWZiZWY1NjBkOWZkZTJiMDM1NTNh47DEQpj8HBSa+/TImW+5JCeuQeRkm5NMpJWZG3hSuFU=; _gid=GA1.2.1786514285.1737412982; ak_bmsc=2370BD7F56AE72218B590E7172AFB6E0~000000000000000000000000000000~YAAQ5i2pyiq8GmmUAQAAqzjihRqEn1r+H8D382KNWkQF2Q5qQrV56FrBezdinISsra53rNILM2p7daQBGJhXVkQ/8NZhkZR/BsDP75R7yFtjEM0Rfjz0Tk/YpKszleH3jUNiaJT2qYkya/MH3o7st6fdrWBnZ1OtMWwipJXnpGyhJjcfbcgivGC3pbBNjtJQNZoRo0V3elQcSBAsJBvh7MtEo9vHEDxWyrL/f+a4V8+nbJih3KV+ANthkLcYWaSf7RA6ThQ57CgwcXyn5chcztUHYoJneAwI/Spa1sj6xR5ZqTRb4iaKSPblRxWY98itGrEhxasWFmsTgzhc7Sa9V8Smm9wkTkCAGKJQuPxx7l8ozJ7wLAlPIUkNequHEoVgpYrlgXYa8APW25wsEMgqCzeEqXQ4cxDTJQ+CKdl1DillrL3qTpNDj37JLcs5uMx4eOOuAmAcBVlYHMa7HKBB; AMP_TOKEN=%24NOT_FOUND; _tt_enable_cookie=1; _ttp=9ko8J_DU5G9xwpTPQmCcci2-EAb.tt.1; TOPATK=MkwobnZbQCujAywkR-WEmg; l=1; tuid=39275554; gec_id=168687219962298048; uidh=hQ343xlJhV8WFIBvzr8NcCaECmZcWRGgONmdJbMgjPA=; g_yolo_production=1; _hjSessionUser_714968=eyJpZCI6ImZhYjYyOGQ2LTFhMmQtNWM2NS1iY2E0LWI3ZmVkMTQ2YjY4MSIsImNyZWF0ZWQiOjE3Mzc0MTMwMDc5NTQsImV4aXN0aW5nIjpmYWxzZX0=; FPF=1; uide=RKzymP3PuU0ExKH5fb+TNGxXZ1glgdsMuHH0FJ3NktJuXxpF; aus=1; _CASE_=2e77341c31776f776361606064666d61777977361c31776f64626d7977311c31776f67676c67797739002531776f77676567607865647867640165606f61666f60637e65626f6565777977393421776f7778637b6767616265636c777977393739776f77383439343e3475363a3b21272c7530262134213075223c2734777977393a3b32776f776465637b6c616564626077797725163a776f776466616365777977261c31776f6464606665606266797726012c2530776f773a3a36777977221c31776f657977223d26776f770e08777977223d2626776f770e087728; _UUID_CAS_=9e9d1a0a-09c5-419f-a24b-dd1adcdbf1e6; _fbp=fb.1.1737413098523.68838001380503701; bm_sv=23F216B8BDF571EE83DBA5B0205B1B79~YAAQBJ9OcGCHKWmUAQAAD3L+hRp/QT8vjTsgrbBZ5HS3EOHVKh5GKeTybqhtIBGY/XVGwcatr669ugRz0hepTftu/NbWvUO2Kj7Q9Z01mC9KIDWhN/QNRGiMxbWynQ+qYvjGkKzrlgCaIC7DL45uUd1tB/XI95GaZ4259TRvGsKmOVaA34zhkM+/oiLiPc6oY8rR1/6yTQNlh1zczaE93WjKGosbUdkE2SYt659RWL5FMwQCJ8HGGsj/VI+6dcuzZVwklA==~1; bm_sz=5AFD8A5B2276517CD536C357A5D9F68D~YAAQCOnOF6exDoWUAQAA54D+hRo7rcYdyWKCymwMXzaP7HwNEPgrDEuRSaF519576hoiPLmx0FPlK6IIWkFg5LJAS+6743VHjN+bxYYnezxjHSGsFnsRa/kSij0lP9iETUT7VRD2BFDEbiiCYaS13AHEaADsYxf6bB4i73YmaG6e0tLw/ox92OJUliJ3WsB2zpVOmyTRTCJVh7OFOHl/onLXDBJpGo9WTPjifXMCBvcSStbld0kQMXuT7rwOocRclOOoQ2Ltp7UHA3R+X5vtG+LnYzg/x8SdSnWVXDLv5uLy5v4fY1qihi2PYTxRlt3whXXxdlN8t8X5/mLqf2bMQuJj3Y1u3kmrP5miU9SpZfskrDGgU8QeVCXycK4Vv5eL0lzjhVPI++BlCfhvt45IXH7NoABweLDEqhzN2g+gsI/Hq99pZCLAvEEJMo86IQb7pqo++yq5xm1+PwaIjWFIuRQB+bsZ1IkR3BMTh2v1ke1P4oTT/54sBKLuz0c39NzNEBKkk2uJuBTneIpE1/V6j8AqcAZwhMHwCAMe8GvwRk3S6YSz4lGJgh3wGhbmUnYI~3622200~3552837; _abck=5BD2CFC94D1BBDB7FBD23F6C7830515B~0~YAAQ5i2pyqIHG2mUAQAAhh0Phg3gcdyujPqux1AKOb2fB96tgAMucrNLZQWocTsgI+tOxBnoDsDJmksfeDUyNbGpPZrOFzbJ/fUxTFNPxtqGhIjrfVHekV9WcwFsk8oV81DFOEvxJ7TZMXkplEs129HNAcwo3bEdCALjW3nT3t/8yGQRl5PHe6eXoHX4kIQXYGPZkoFbDQjIQwaYM4T0lrqX+Im+msBvP7o6WBrtGfY7rA61OshvcobQ/MU7iUaMYA6R1NHQsQ0Zs/Ev79RPFF04oq4eEnqrgKBkzaAdjJplPv57xJ2VTIbEGLwke/eEWDN+lSLVGZl+vKUnz0TkQtsEKhDDwuFflOgYKyngQSybgyzWs0ErbsZFEeSudgn/wvS3phG4qoOdlhrq18yYEh7xMZQNUWx/YzVbO6dMQ1WqWHP9Cjo/z7w7rAbvxSAe8t6VvMMBkiiAgPYWhuYfQzIC1OyNvcRKOso/5/tFuMW+3wcz76zCrfMp+yt9ih60NHuXCz6o8cJOScdKqCZNDO8Q0tq9F2jMxpV2f96YduQ6UeAmWJxiHnDvxqOx9LNrMddpdCyAwgWrwaq7raV5/PRq/OUtTLNWtIYSMg+6ckf0UEY4GUtQ8gbJR7CBRcWgbYjlm7eZkrt1KzNXDgCidqEzgNDT1ySt/eLkR/v57yElZ8sEzKJkx+uiB9SRVIBbLcwfqMvRywQtfyPvKG4=~-1~-1~-1; _dc_gtm_UA-126956641-6=1; _dc_gtm_UA-9801603-1=1; ISID=%7B%22www.tokopedia.com%22%3A%22d3d3LnRva29wZWRpYS5jb20%3D.85eb825b3d925425e8af813e0d7c97b5.1737412981788.1737412981788.1737415929496.9%22%2C%22accounts.tokopedia.com%22%3A%22YWNjb3VudHMudG9rb3BlZGlhLmNvbQ%3D%3D.8e22ef5e53b67456ebb5f5f1684e5283.1737413008027.1737413008027.1737413033102.1%22%7D; _ga_70947XW48P=GS1.1.1737412981.1.1.1737415929.55.0.0; _ga=GA1.1.1911615655.1737412982; webauthn-session=a5036154-6256-48a0-baa1-6d1d4ead4ef9\",\n",
        "           \"_UUID_NONLOGIN_=8f99d5dd839ad1780723e8595ad38987; _UUID_NONLOGIN_.sig=ciTgSOoFDossyyjCLdfGFWxNt2w; _gcl_au=1.1.331787603.1737412981; _SID_Tokopedia_=rE4HKUspgx3YEb4M6zHuh7FPxz7hEsGH2ilCP1heDP2T_SJ2uXv4d-NBiIN2v_xzAm39GiewdOM2V8GPEuWJttUV1m23WNsCqBNtPOTd-3gHZKhh1YOgff3lIHo1fIeO; DID=3c43b6b28f92625d9d7b390ba99c537c62a4d87462943c414f7eab7fe94efcc3e7886ac9c2aafbef560d9fde2b03553a; DID_JS=M2M0M2I2YjI4ZjkyNjI1ZDlkN2IzOTBiYTk5YzUzN2M2MmE0ZDg3NDYyOTQzYzQxNGY3ZWFiN2ZlOTRlZmNjM2U3ODg2YWM5YzJhYWZiZWY1NjBkOWZkZTJiMDM1NTNh47DEQpj8HBSa+/TImW+5JCeuQeRkm5NMpJWZG3hSuFU=; _gid=GA1.2.1786514285.1737412982; ak_bmsc=2370BD7F56AE72218B590E7172AFB6E0~000000000000000000000000000000~YAAQ5i2pyiq8GmmUAQAAqzjihRqEn1r+H8D382KNWkQF2Q5qQrV56FrBezdinISsra53rNILM2p7daQBGJhXVkQ/8NZhkZR/BsDP75R7yFtjEM0Rfjz0Tk/YpKszleH3jUNiaJT2qYkya/MH3o7st6fdrWBnZ1OtMWwipJXnpGyhJjcfbcgivGC3pbBNjtJQNZoRo0V3elQcSBAsJBvh7MtEo9vHEDxWyrL/f+a4V8+nbJih3KV+ANthkLcYWaSf7RA6ThQ57CgwcXyn5chcztUHYoJneAwI/Spa1sj6xR5ZqTRb4iaKSPblRxWY98itGrEhxasWFmsTgzhc7Sa9V8Smm9wkTkCAGKJQuPxx7l8ozJ7wLAlPIUkNequHEoVgpYrlgXYa8APW25wsEMgqCzeEqXQ4cxDTJQ+CKdl1DillrL3qTpNDj37JLcs5uMx4eOOuAmAcBVlYHMa7HKBB; _tt_enable_cookie=1; _ttp=9ko8J_DU5G9xwpTPQmCcci2-EAb.tt.1; TOPATK=MkwobnZbQCujAywkR-WEmg; l=1; tuid=39275554; gec_id=168687219962298048; uidh=hQ343xlJhV8WFIBvzr8NcCaECmZcWRGgONmdJbMgjPA=; g_yolo_production=1; _hjSessionUser_714968=eyJpZCI6ImZhYjYyOGQ2LTFhMmQtNWM2NS1iY2E0LWI3ZmVkMTQ2YjY4MSIsImNyZWF0ZWQiOjE3Mzc0MTMwMDc5NTQsImV4aXN0aW5nIjpmYWxzZX0=; FPF=1; uide=RKzymP3PuU0ExKH5fb+TNGxXZ1glgdsMuHH0FJ3NktJuXxpF; aus=1; _CASE_=2e77341c31776f776361606064666d61777977361c31776f64626d7977311c31776f67676c67797739002531776f77676567607865647867640165606f61666f60637e65626f6565777977393421776f7778637b6767616265636c777977393739776f77383439343e3475363a3b21272c7530262134213075223c2734777977393a3b32776f776465637b6c616564626077797725163a776f776466616365777977261c31776f6464606665606266797726012c2530776f773a3a36777977221c31776f657977223d26776f770e08777977223d2626776f770e087728; _UUID_CAS_=9e9d1a0a-09c5-419f-a24b-dd1adcdbf1e6; _fbp=fb.1.1737413098523.68838001380503701; bm_sv=23F216B8BDF571EE83DBA5B0205B1B79~YAAQBJ9OcGCHKWmUAQAAD3L+hRp/QT8vjTsgrbBZ5HS3EOHVKh5GKeTybqhtIBGY/XVGwcatr669ugRz0hepTftu/NbWvUO2Kj7Q9Z01mC9KIDWhN/QNRGiMxbWynQ+qYvjGkKzrlgCaIC7DL45uUd1tB/XI95GaZ4259TRvGsKmOVaA34zhkM+/oiLiPc6oY8rR1/6yTQNlh1zczaE93WjKGosbUdkE2SYt659RWL5FMwQCJ8HGGsj/VI+6dcuzZVwklA==~1; bm_sz=5AFD8A5B2276517CD536C357A5D9F68D~YAAQCOnOF6exDoWUAQAA54D+hRo7rcYdyWKCymwMXzaP7HwNEPgrDEuRSaF519576hoiPLmx0FPlK6IIWkFg5LJAS+6743VHjN+bxYYnezxjHSGsFnsRa/kSij0lP9iETUT7VRD2BFDEbiiCYaS13AHEaADsYxf6bB4i73YmaG6e0tLw/ox92OJUliJ3WsB2zpVOmyTRTCJVh7OFOHl/onLXDBJpGo9WTPjifXMCBvcSStbld0kQMXuT7rwOocRclOOoQ2Ltp7UHA3R+X5vtG+LnYzg/x8SdSnWVXDLv5uLy5v4fY1qihi2PYTxRlt3whXXxdlN8t8X5/mLqf2bMQuJj3Y1u3kmrP5miU9SpZfskrDGgU8QeVCXycK4Vv5eL0lzjhVPI++BlCfhvt45IXH7NoABweLDEqhzN2g+gsI/Hq99pZCLAvEEJMo86IQb7pqo++yq5xm1+PwaIjWFIuRQB+bsZ1IkR3BMTh2v1ke1P4oTT/54sBKLuz0c39NzNEBKkk2uJuBTneIpE1/V6j8AqcAZwhMHwCAMe8GvwRk3S6YSz4lGJgh3wGhbmUnYI~3622200~3552837; _abck=5BD2CFC94D1BBDB7FBD23F6C7830515B~0~YAAQ5i2pyqIHG2mUAQAAhh0Phg3gcdyujPqux1AKOb2fB96tgAMucrNLZQWocTsgI+tOxBnoDsDJmksfeDUyNbGpPZrOFzbJ/fUxTFNPxtqGhIjrfVHekV9WcwFsk8oV81DFOEvxJ7TZMXkplEs129HNAcwo3bEdCALjW3nT3t/8yGQRl5PHe6eXoHX4kIQXYGPZkoFbDQjIQwaYM4T0lrqX+Im+msBvP7o6WBrtGfY7rA61OshvcobQ/MU7iUaMYA6R1NHQsQ0Zs/Ev79RPFF04oq4eEnqrgKBkzaAdjJplPv57xJ2VTIbEGLwke/eEWDN+lSLVGZl+vKUnz0TkQtsEKhDDwuFflOgYKyngQSybgyzWs0ErbsZFEeSudgn/wvS3phG4qoOdlhrq18yYEh7xMZQNUWx/YzVbO6dMQ1WqWHP9Cjo/z7w7rAbvxSAe8t6VvMMBkiiAgPYWhuYfQzIC1OyNvcRKOso/5/tFuMW+3wcz76zCrfMp+yt9ih60NHuXCz6o8cJOScdKqCZNDO8Q0tq9F2jMxpV2f96YduQ6UeAmWJxiHnDvxqOx9LNrMddpdCyAwgWrwaq7raV5/PRq/OUtTLNWtIYSMg+6ckf0UEY4GUtQ8gbJR7CBRcWgbYjlm7eZkrt1KzNXDgCidqEzgNDT1ySt/eLkR/v57yElZ8sEzKJkx+uiB9SRVIBbLcwfqMvRywQtfyPvKG4=~-1~-1~-1; AMP_TOKEN=%24NOT_FOUND; _dc_gtm_UA-126956641-6=1; _dc_gtm_UA-9801603-1=1; ISID=%7B%22www.tokopedia.com%22%3A%22d3d3LnRva29wZWRpYS5jb20%3D.85eb825b3d925425e8af813e0d7c97b5.1737412981788.1737412981788.1737416671574.11%22%2C%22accounts.tokopedia.com%22%3A%22YWNjb3VudHMudG9rb3BlZGlhLmNvbQ%3D%3D.8e22ef5e53b67456ebb5f5f1684e5283.1737413008027.1737413008027.1737413033102.1%22%7D; _ga_70947XW48P=GS1.1.1737412981.1.1.1737416671.41.0.0; _ga=GA1.1.1911615655.1737412982; webauthn-session=a7290a99-02a2-4e60-9cba-44a01c5d3715\",\n",
        "            \"_UUID_NONLOGIN_=8f99d5dd839ad1780723e8595ad38987; _UUID_NONLOGIN_.sig=ciTgSOoFDossyyjCLdfGFWxNt2w; _gcl_au=1.1.331787603.1737412981; _SID_Tokopedia_=rE4HKUspgx3YEb4M6zHuh7FPxz7hEsGH2ilCP1heDP2T_SJ2uXv4d-NBiIN2v_xzAm39GiewdOM2V8GPEuWJttUV1m23WNsCqBNtPOTd-3gHZKhh1YOgff3lIHo1fIeO; DID=3c43b6b28f92625d9d7b390ba99c537c62a4d87462943c414f7eab7fe94efcc3e7886ac9c2aafbef560d9fde2b03553a; DID_JS=M2M0M2I2YjI4ZjkyNjI1ZDlkN2IzOTBiYTk5YzUzN2M2MmE0ZDg3NDYyOTQzYzQxNGY3ZWFiN2ZlOTRlZmNjM2U3ODg2YWM5YzJhYWZiZWY1NjBkOWZkZTJiMDM1NTNh47DEQpj8HBSa+/TImW+5JCeuQeRkm5NMpJWZG3hSuFU=; _gid=GA1.2.1786514285.1737412982; ak_bmsc=2370BD7F56AE72218B590E7172AFB6E0~000000000000000000000000000000~YAAQ5i2pyiq8GmmUAQAAqzjihRqEn1r+H8D382KNWkQF2Q5qQrV56FrBezdinISsra53rNILM2p7daQBGJhXVkQ/8NZhkZR/BsDP75R7yFtjEM0Rfjz0Tk/YpKszleH3jUNiaJT2qYkya/MH3o7st6fdrWBnZ1OtMWwipJXnpGyhJjcfbcgivGC3pbBNjtJQNZoRo0V3elQcSBAsJBvh7MtEo9vHEDxWyrL/f+a4V8+nbJih3KV+ANthkLcYWaSf7RA6ThQ57CgwcXyn5chcztUHYoJneAwI/Spa1sj6xR5ZqTRb4iaKSPblRxWY98itGrEhxasWFmsTgzhc7Sa9V8Smm9wkTkCAGKJQuPxx7l8ozJ7wLAlPIUkNequHEoVgpYrlgXYa8APW25wsEMgqCzeEqXQ4cxDTJQ+CKdl1DillrL3qTpNDj37JLcs5uMx4eOOuAmAcBVlYHMa7HKBB; _tt_enable_cookie=1; _ttp=9ko8J_DU5G9xwpTPQmCcci2-EAb.tt.1; TOPATK=MkwobnZbQCujAywkR-WEmg; l=1; tuid=39275554; gec_id=168687219962298048; uidh=hQ343xlJhV8WFIBvzr8NcCaECmZcWRGgONmdJbMgjPA=; g_yolo_production=1; _hjSessionUser_714968=eyJpZCI6ImZhYjYyOGQ2LTFhMmQtNWM2NS1iY2E0LWI3ZmVkMTQ2YjY4MSIsImNyZWF0ZWQiOjE3Mzc0MTMwMDc5NTQsImV4aXN0aW5nIjpmYWxzZX0=; FPF=1; uide=RKzymP3PuU0ExKH5fb+TNGxXZ1glgdsMuHH0FJ3NktJuXxpF; aus=1; _CASE_=2e77341c31776f776361606064666d61777977361c31776f64626d7977311c31776f67676c67797739002531776f77676567607865647867640165606f61666f60637e65626f6565777977393421776f7778637b6767616265636c777977393739776f77383439343e3475363a3b21272c7530262134213075223c2734777977393a3b32776f776465637b6c616564626077797725163a776f776466616365777977261c31776f6464606665606266797726012c2530776f773a3a36777977221c31776f657977223d26776f770e08777977223d2626776f770e087728; _UUID_CAS_=9e9d1a0a-09c5-419f-a24b-dd1adcdbf1e6; _fbp=fb.1.1737413098523.68838001380503701; AMP_TOKEN=%24NOT_FOUND; _gat_UA-9801603-1=1; _abck=5BD2CFC94D1BBDB7FBD23F6C7830515B~0~YAAQEunOF5QG9XSUAQAAQYsnhg0mj05Y9Ang4qM7rjJrlPk3ON2Z0vVmNhUW4miM6RTVvT+NX6UCRPmFVm15V3r/RDnPIJTKSK8iu9Onw0VEtun0whzFLhIduU/ZISxnEiO8BfCNOwJex37wv/p5S3LALpsFdX93MNfpXJy1cpXtYNV/SIY7G2hLGQf66KXojR/+3uTSVA0XUrSqOYQrC2w49T1vydH2YhNJP1dyuyV2W0DrW6OirhXT8lQndyMnDtQzj2CZTMnTnTlZ1LOki44NEwfxbwAZ69awNWFX4cSVznCgMitEW1uSd2ND5eCNcmZcuHA77kVLK9aKaFZTuL1K9hbqObR6q3GV6EQhZ6uwmT5eU17Ge28mK0t591RpIeZ4I35O6WFa8eH/zr4Px474UCcigvOFlNEzRDBJXhAIdfpMsTPLyppy6OJq0ejbcnK+fBif5qe5ClsYOaYpAfvl0D/yCXYT1Rj8PiDNRi/0wYLNLkf5Ud10VUOc3tYB54mNda6Dp6wMemsata20eD3Ies94wqaTIjzl6c2342zPZzkCd1VzGwWTM/8BOqk4Nd6v7o1zzK9jd5upXelhrYAqa5HNrdfxAjAHj34DNwosSvs14Lg02cPvtBAm2ZxbtbdcWvmmgbQF7B1EjKZEaHbx4sdgCW6Ohk8=~-1~-1~-1; bm_sz=5AFD8A5B2276517CD536C357A5D9F68D~YAAQEunOF5UG9XSUAQAAQYsnhho4YAAj/sWPjXPOtJsEFS57OSLbkSqZJfLozRp3bZE2AZDs4NoE2K0ogtWNosqXqKFB7gZSsfBRhpRGyuq+xObAkjfZuREjA7YazmLZlyB3JOpUdSrMhBII1mx5E0kOI1DpwaoXuLh0GFXnMq+vo5HgBRJdnQnbXJMjj5C3GAYmOJb/o/RyZ2K9CU/8zbGe7r5mbenr0gF0SvGyNjYTzXbLeci6CU8eDWigM8yFPCv5R2OVoLRqwNUGrjiyjvLEs2c/S+17CZglH/2XK0vNlzL5QL4NgQe/Grh0zG43dOmKUQditnkSte4BhcIzE40JaGQDMkr2OguJ2yN4HTzK8QQN1WH/JeR0bLFVW/I1Jyc9cNCyACtnUf3oc3gawrmjM3s/LIW06ohyOAJRZqdQtqVdXiNVjq5OwgMEmHA5Loau+XW58N+lNjN+Pm0ZmWXsBrkNv3F1IKLcUYZiAutbh6xiaKf73boA9tHzw66/hzRpqhY1nHsktyHQdW6Eh4TYQNsKIVL9UKoGWxAHsnlL34H7/IrY3yK4hwYEfKVNexrgHA==~3622200~3552837; bm_sv=23F216B8BDF571EE83DBA5B0205B1B79~YAAQ1i2pyq+0+WiUAQAA8SQohhq+dBN7E22saUZIqzDKq5JEYOnOTTwgG7co9xZo2clMvQxsVR5S1HewinhBJdl4HqX7VgHyrqrLc6P7qqp54A+oYlYgwlkhbTNZg5zONB3iHPM5ViSgcmz6Ok6/htU+4I5Dyz5rQqN1RLbKusniDdvpeWSIzHBUPRejwbUuhjlFHR1eMXOhZ5zpngkDJpDzk987UKo2AsPi/Ve1WUecFYJ68Vl5KIZf8NxKULpMWMaPSw==~1; _dc_gtm_UA-9801603-1=1; _dc_gtm_UA-126956641-6=1; ISID=%7B%22www.tokopedia.com%22%3A%22d3d3LnRva29wZWRpYS5jb20%3D.85eb825b3d925425e8af813e0d7c97b5.1737412981788.1737412981788.1737417566956.15%22%2C%22accounts.tokopedia.com%22%3A%22YWNjb3VudHMudG9rb3BlZGlhLmNvbQ%3D%3D.8e22ef5e53b67456ebb5f5f1684e5283.1737413008027.1737413008027.1737413033102.1%22%7D; _ga_70947XW48P=GS1.1.1737412981.1.1.1737417566.60.0.0; _ga=GA1.1.1911615655.1737412982; webauthn-session=9b5829fe-2023-41d2-92be-57c4ad494f38\",\n",
        "            \"_UUID_NONLOGIN_=8f99d5dd839ad1780723e8595ad38987; _UUID_NONLOGIN_.sig=ciTgSOoFDossyyjCLdfGFWxNt2w; _gcl_au=1.1.331787603.1737412981; _SID_Tokopedia_=rE4HKUspgx3YEb4M6zHuh7FPxz7hEsGH2ilCP1heDP2T_SJ2uXv4d-NBiIN2v_xzAm39GiewdOM2V8GPEuWJttUV1m23WNsCqBNtPOTd-3gHZKhh1YOgff3lIHo1fIeO; DID=3c43b6b28f92625d9d7b390ba99c537c62a4d87462943c414f7eab7fe94efcc3e7886ac9c2aafbef560d9fde2b03553a; DID_JS=M2M0M2I2YjI4ZjkyNjI1ZDlkN2IzOTBiYTk5YzUzN2M2MmE0ZDg3NDYyOTQzYzQxNGY3ZWFiN2ZlOTRlZmNjM2U3ODg2YWM5YzJhYWZiZWY1NjBkOWZkZTJiMDM1NTNh47DEQpj8HBSa+/TImW+5JCeuQeRkm5NMpJWZG3hSuFU=; _gid=GA1.2.1786514285.1737412982; ak_bmsc=2370BD7F56AE72218B590E7172AFB6E0~000000000000000000000000000000~YAAQ5i2pyiq8GmmUAQAAqzjihRqEn1r+H8D382KNWkQF2Q5qQrV56FrBezdinISsra53rNILM2p7daQBGJhXVkQ/8NZhkZR/BsDP75R7yFtjEM0Rfjz0Tk/YpKszleH3jUNiaJT2qYkya/MH3o7st6fdrWBnZ1OtMWwipJXnpGyhJjcfbcgivGC3pbBNjtJQNZoRo0V3elQcSBAsJBvh7MtEo9vHEDxWyrL/f+a4V8+nbJih3KV+ANthkLcYWaSf7RA6ThQ57CgwcXyn5chcztUHYoJneAwI/Spa1sj6xR5ZqTRb4iaKSPblRxWY98itGrEhxasWFmsTgzhc7Sa9V8Smm9wkTkCAGKJQuPxx7l8ozJ7wLAlPIUkNequHEoVgpYrlgXYa8APW25wsEMgqCzeEqXQ4cxDTJQ+CKdl1DillrL3qTpNDj37JLcs5uMx4eOOuAmAcBVlYHMa7HKBB; _tt_enable_cookie=1; _ttp=9ko8J_DU5G9xwpTPQmCcci2-EAb.tt.1; TOPATK=MkwobnZbQCujAywkR-WEmg; l=1; tuid=39275554; gec_id=168687219962298048; uidh=hQ343xlJhV8WFIBvzr8NcCaECmZcWRGgONmdJbMgjPA=; g_yolo_production=1; _hjSessionUser_714968=eyJpZCI6ImZhYjYyOGQ2LTFhMmQtNWM2NS1iY2E0LWI3ZmVkMTQ2YjY4MSIsImNyZWF0ZWQiOjE3Mzc0MTMwMDc5NTQsImV4aXN0aW5nIjpmYWxzZX0=; FPF=1; uide=RKzymP3PuU0ExKH5fb+TNGxXZ1glgdsMuHH0FJ3NktJuXxpF; aus=1; _CASE_=2e77341c31776f776361606064666d61777977361c31776f64626d7977311c31776f67676c67797739002531776f77676567607865647867640165606f61666f60637e65626f6565777977393421776f7778637b6767616265636c777977393739776f77383439343e3475363a3b21272c7530262134213075223c2734777977393a3b32776f776465637b6c616564626077797725163a776f776466616365777977261c31776f6464606665606266797726012c2530776f773a3a36777977221c31776f657977223d26776f770e08777977223d2626776f770e087728; _UUID_CAS_=9e9d1a0a-09c5-419f-a24b-dd1adcdbf1e6; _fbp=fb.1.1737413098523.68838001380503701; AMP_TOKEN=%24NOT_FOUND; _abck=5BD2CFC94D1BBDB7FBD23F6C7830515B~0~YAAQE+nOFwmjoHWUAQAA0xEshg3H/DdlfkA3HYlkRbz5hdwp2vDzw0WTBBniSd9lP/qDmFSOd5AmA+33hyUaAyGhy9syP67J1J+qF6Xp+7Jzb7b6UELM839g3k6QQQl9l2UVx1/ibR7OGaloWv0/jFqnKeWTdpkZNCRsTcCS7+sPXZexf21Nfmd1f/vwm7G1qNvSAfBc2zlFeHRfDc7vW+NK3jwG/fPNoUeoLloJJT2FlPodcHtw7SH32A4Ijfg0UFJeUTEIhY9iLUCThYf78vZOR630FGwAmdXY6tHfRHsudAQWuHXgi9Ek1b/KjKd27CTdPqNWwB+JcDYoaZLKKFzZlcGnjNdIRhRKuAli1Mu1EDPUQLuFEAgErSQcJM7id3Uwit6pFWjhJF/mAAXmffzxVfXzC6cIbi720gHaiCT+ulgpyf7XAhnZSLLTMVtZJC/SC06DqxzIPtMLWt0D5cbPu4VjQ1IzxcTrWFdBZLVRfLeAWBTuMeT3VuMWXtFBcuV7uTMXUoyqMLGa1OaoNQdsc6cX/gyFW+qEIQYyurY6ZNObMBHDRzz739JfJ1ng/ov5QTxgbyNuxCUpF7O6S1YL22a1HX+kktRHvnYgELAWzw6VDf/ACV3t3gul3Tvlvh1R66Dpp+JiWaaUJqyN1lkwrEUrUZCfPDo=~-1~-1~-1; bm_sz=5AFD8A5B2276517CD536C357A5D9F68D~YAAQE+nOFwqjoHWUAQAA0xEshhocqAjR5TwM/b6DYUlkifT4002HQFcNQFjs+LV4zUtgLs62zYpUbo1s46fv/zc7mul7xi9r7EtL8P7YNMXcAJUvl87y/6wfW/WtsbysxzQFlu5idYnf6p7Fir8rusCcEfKnt+sSGEFsnsjem+ydZJGA2HA4ba1P0Y1dzXwcidZJJw9w6epFgvNXQshN/KPsF4pb1Z51AjB6ym38aMER74yVWjhSg/kS2YVHGvyQIiPxB7TbmRaSZGl3gkHY9Tr0/okvdN7U7SDgt/S9kxM2/lIpl+nml2k8zF/U9tFYjm9VK5a+5TNBAl6C+Jz5DXILJyG/QWAH7SoMfIsOjyYGFtUyQ9ruGm3EfwunMXDT5tWk0SY/ekveIjhQQtRxns62IaxxBUR0lvqk3uOuuvfkVKQyPgLheWPKvnPJTca+Tkik/KE5pCTFFIsGy296SZUMKe15M0Lgr1JadBmI1kAerOLrUzLwTjyxGo5JB0jAQQZ2aRpIbViye7hvEoGpARdJ83KnfzPav/dK11PIW3Mzh79bLD1rAG6ERXqTdg2emiicjrSrlg==~3622200~3552837; bm_sv=23F216B8BDF571EE83DBA5B0205B1B79~YAAQ1i2pyqXJ+WiUAQAAGE0uhhpH+Z8MdDCA+HoQmXLw8EjPpCzFi/kzBSe1Sx8fyk2NZtcjdHwb05U9UlhMcUUgABGWC5BuWRYsDk74g46VSqEAgjrBifU6/Pfx18isdxS44HAfsxBVnT36CQrPoSEX54QpvImZ+4OBwDqNmsby6+E8LP+wNnrw6AKG8wEnaD4+f8ig+r2NPyKO7VpN/izStYkyotRO0lXFt/C1cmwA+FKHCIW5Ga7y1lzwkydAKMxT5A==~1; _dc_gtm_UA-126956641-6=1; ISID=%7B%22www.tokopedia.com%22%3A%22d3d3LnRva29wZWRpYS5jb20%3D.85eb825b3d925425e8af813e0d7c97b5.1737412981788.1737412981788.1737419141703.17%22%2C%22accounts.tokopedia.com%22%3A%22YWNjb3VudHMudG9rb3BlZGlhLmNvbQ%3D%3D.8e22ef5e53b67456ebb5f5f1684e5283.1737413008027.1737413008027.1737413033102.1%22%7D; _dc_gtm_UA-9801603-1=1; _ga_70947XW48P=GS1.1.1737412981.1.1.1737419141.60.0.0; _ga=GA1.1.1911615655.1737412982; webauthn-session=35155137-d279-46fd-9f93-2cd0e963e08e\",\n",
        "            \"_UUID_NONLOGIN_=8f99d5dd839ad1780723e8595ad38987; _UUID_NONLOGIN_.sig=ciTgSOoFDossyyjCLdfGFWxNt2w; _gcl_au=1.1.331787603.1737412981; _SID_Tokopedia_=rE4HKUspgx3YEb4M6zHuh7FPxz7hEsGH2ilCP1heDP2T_SJ2uXv4d-NBiIN2v_xzAm39GiewdOM2V8GPEuWJttUV1m23WNsCqBNtPOTd-3gHZKhh1YOgff3lIHo1fIeO; DID=3c43b6b28f92625d9d7b390ba99c537c62a4d87462943c414f7eab7fe94efcc3e7886ac9c2aafbef560d9fde2b03553a; DID_JS=M2M0M2I2YjI4ZjkyNjI1ZDlkN2IzOTBiYTk5YzUzN2M2MmE0ZDg3NDYyOTQzYzQxNGY3ZWFiN2ZlOTRlZmNjM2U3ODg2YWM5YzJhYWZiZWY1NjBkOWZkZTJiMDM1NTNh47DEQpj8HBSa+/TImW+5JCeuQeRkm5NMpJWZG3hSuFU=; _gid=GA1.2.1786514285.1737412982; ak_bmsc=2370BD7F56AE72218B590E7172AFB6E0~000000000000000000000000000000~YAAQ5i2pyiq8GmmUAQAAqzjihRqEn1r+H8D382KNWkQF2Q5qQrV56FrBezdinISsra53rNILM2p7daQBGJhXVkQ/8NZhkZR/BsDP75R7yFtjEM0Rfjz0Tk/YpKszleH3jUNiaJT2qYkya/MH3o7st6fdrWBnZ1OtMWwipJXnpGyhJjcfbcgivGC3pbBNjtJQNZoRo0V3elQcSBAsJBvh7MtEo9vHEDxWyrL/f+a4V8+nbJih3KV+ANthkLcYWaSf7RA6ThQ57CgwcXyn5chcztUHYoJneAwI/Spa1sj6xR5ZqTRb4iaKSPblRxWY98itGrEhxasWFmsTgzhc7Sa9V8Smm9wkTkCAGKJQuPxx7l8ozJ7wLAlPIUkNequHEoVgpYrlgXYa8APW25wsEMgqCzeEqXQ4cxDTJQ+CKdl1DillrL3qTpNDj37JLcs5uMx4eOOuAmAcBVlYHMa7HKBB; _tt_enable_cookie=1; _ttp=9ko8J_DU5G9xwpTPQmCcci2-EAb.tt.1; TOPATK=MkwobnZbQCujAywkR-WEmg; l=1; tuid=39275554; gec_id=168687219962298048; uidh=hQ343xlJhV8WFIBvzr8NcCaECmZcWRGgONmdJbMgjPA=; g_yolo_production=1; _hjSessionUser_714968=eyJpZCI6ImZhYjYyOGQ2LTFhMmQtNWM2NS1iY2E0LWI3ZmVkMTQ2YjY4MSIsImNyZWF0ZWQiOjE3Mzc0MTMwMDc5NTQsImV4aXN0aW5nIjpmYWxzZX0=; FPF=1; uide=RKzymP3PuU0ExKH5fb+TNGxXZ1glgdsMuHH0FJ3NktJuXxpF; aus=1; _CASE_=2e77341c31776f776361606064666d61777977361c31776f64626d7977311c31776f67676c67797739002531776f77676567607865647867640165606f61666f60637e65626f6565777977393421776f7778637b6767616265636c777977393739776f77383439343e3475363a3b21272c7530262134213075223c2734777977393a3b32776f776465637b6c616564626077797725163a776f776466616365777977261c31776f6464606665606266797726012c2530776f773a3a36777977221c31776f657977223d26776f770e08777977223d2626776f770e087728; _UUID_CAS_=9e9d1a0a-09c5-419f-a24b-dd1adcdbf1e6; _fbp=fb.1.1737413098523.68838001380503701; AMP_TOKEN=%24NOT_FOUND; _abck=5BD2CFC94D1BBDB7FBD23F6C7830515B~0~YAAQE+nOFwmjoHWUAQAA0xEshg3H/DdlfkA3HYlkRbz5hdwp2vDzw0WTBBniSd9lP/qDmFSOd5AmA+33hyUaAyGhy9syP67J1J+qF6Xp+7Jzb7b6UELM839g3k6QQQl9l2UVx1/ibR7OGaloWv0/jFqnKeWTdpkZNCRsTcCS7+sPXZexf21Nfmd1f/vwm7G1qNvSAfBc2zlFeHRfDc7vW+NK3jwG/fPNoUeoLloJJT2FlPodcHtw7SH32A4Ijfg0UFJeUTEIhY9iLUCThYf78vZOR630FGwAmdXY6tHfRHsudAQWuHXgi9Ek1b/KjKd27CTdPqNWwB+JcDYoaZLKKFzZlcGnjNdIRhRKuAli1Mu1EDPUQLuFEAgErSQcJM7id3Uwit6pFWjhJF/mAAXmffzxVfXzC6cIbi720gHaiCT+ulgpyf7XAhnZSLLTMVtZJC/SC06DqxzIPtMLWt0D5cbPu4VjQ1IzxcTrWFdBZLVRfLeAWBTuMeT3VuMWXtFBcuV7uTMXUoyqMLGa1OaoNQdsc6cX/gyFW+qEIQYyurY6ZNObMBHDRzz739JfJ1ng/ov5QTxgbyNuxCUpF7O6S1YL22a1HX+kktRHvnYgELAWzw6VDf/ACV3t3gul3Tvlvh1R66Dpp+JiWaaUJqyN1lkwrEUrUZCfPDo=~-1~-1~-1; bm_sz=5AFD8A5B2276517CD536C357A5D9F68D~YAAQE+nOFwqjoHWUAQAA0xEshhocqAjR5TwM/b6DYUlkifT4002HQFcNQFjs+LV4zUtgLs62zYpUbo1s46fv/zc7mul7xi9r7EtL8P7YNMXcAJUvl87y/6wfW/WtsbysxzQFlu5idYnf6p7Fir8rusCcEfKnt+sSGEFsnsjem+ydZJGA2HA4ba1P0Y1dzXwcidZJJw9w6epFgvNXQshN/KPsF4pb1Z51AjB6ym38aMER74yVWjhSg/kS2YVHGvyQIiPxB7TbmRaSZGl3gkHY9Tr0/okvdN7U7SDgt/S9kxM2/lIpl+nml2k8zF/U9tFYjm9VK5a+5TNBAl6C+Jz5DXILJyG/QWAH7SoMfIsOjyYGFtUyQ9ruGm3EfwunMXDT5tWk0SY/ekveIjhQQtRxns62IaxxBUR0lvqk3uOuuvfkVKQyPgLheWPKvnPJTca+Tkik/KE5pCTFFIsGy296SZUMKe15M0Lgr1JadBmI1kAerOLrUzLwTjyxGo5JB0jAQQZ2aRpIbViye7hvEoGpARdJ83KnfzPav/dK11PIW3Mzh79bLD1rAG6ERXqTdg2emiicjrSrlg==~3622200~3552837; bm_sv=23F216B8BDF571EE83DBA5B0205B1B79~YAAQ1i2pyqXJ+WiUAQAAGE0uhhpH+Z8MdDCA+HoQmXLw8EjPpCzFi/kzBSe1Sx8fyk2NZtcjdHwb05U9UlhMcUUgABGWC5BuWRYsDk74g46VSqEAgjrBifU6/Pfx18isdxS44HAfsxBVnT36CQrPoSEX54QpvImZ+4OBwDqNmsby6+E8LP+wNnrw6AKG8wEnaD4+f8ig+r2NPyKO7VpN/izStYkyotRO0lXFt/C1cmwA+FKHCIW5Ga7y1lzwkydAKMxT5A==~1; _dc_gtm_UA-126956641-6=1; ISID=%7B%22www.tokopedia.com%22%3A%22d3d3LnRva29wZWRpYS5jb20%3D.85eb825b3d925425e8af813e0d7c97b5.1737412981788.1737412981788.1737419549421.17%22%2C%22accounts.tokopedia.com%22%3A%22YWNjb3VudHMudG9rb3BlZGlhLmNvbQ%3D%3D.8e22ef5e53b67456ebb5f5f1684e5283.1737413008027.1737413008027.1737413033102.1%22%7D; _dc_gtm_UA-9801603-1=1; _ga_70947XW48P=GS1.1.1737412981.1.1.1737419549.60.0.0; _ga=GA1.1.1911615655.1737412982; webauthn-session=7a923bdd-32cb-45cb-bf37-b8f374c4ccac\"]"
      ],
      "metadata": {
        "id": "TzNNwfOvxeYR"
      },
      "execution_count": 15,
      "outputs": []
    },
    {
      "cell_type": "markdown",
      "source": [
        "daftar identitas produk"
      ],
      "metadata": {
        "id": "eqoJ3_Yr0tUz"
      }
    },
    {
      "cell_type": "code",
      "source": [
        "#persiapan 'identitas produk'\n",
        "idlist =  [\"7576252307\", \"1624334615\", \"1624334615\",  \"1624323568\",  \"1624334615\",  \"2390937942\" ] #enam sampel ini dari Erigo"
      ],
      "metadata": {
        "id": "sZILChIoxcHU"
      },
      "execution_count": 16,
      "outputs": []
    },
    {
      "cell_type": "markdown",
      "source": [
        "ada **enam URL** & **enam 'cookies'**"
      ],
      "metadata": {
        "id": "B29pizG92dCc"
      }
    },
    {
      "cell_type": "code",
      "source": [
        "#fragmentasi data (di 'urllist)\n",
        "[urla, urlb, urlc, urld, urle, urlf] = urllist #daftar URL\n",
        "[cookiea, cookieb, cookiec, cookied, cookiee, cookief] = cooklist #daftar cookie\n",
        "[ida, idb, idc, idd, ide, idf] = idlist #daftar ID"
      ],
      "metadata": {
        "id": "ubMbko7B9S5n"
      },
      "execution_count": 17,
      "outputs": []
    },
    {
      "cell_type": "markdown",
      "source": [
        "## Proses ekstraksi"
      ],
      "metadata": {
        "id": "38UtBq0o7YjT"
      }
    },
    {
      "cell_type": "markdown",
      "source": [
        "### Persiapan pembuatan fungsi"
      ],
      "metadata": {
        "id": "QbenTf9WKAqu"
      }
    },
    {
      "cell_type": "code",
      "source": [
        "#situs A\n",
        "turla = turldoma\n",
        "heada = {'accept': '*/*' ,\n",
        "   'accept-language': 'en-US,en;q=0.9' ,\n",
        "   'bd-device-id': '7461986961269081617' ,\n",
        "   'content-type': 'application/json' ,\n",
        "   'cookie': cookiea,\n",
        "   'dnt': '1' ,\n",
        "   'origin': asal,\n",
        "   'priority': 'u=1, i',\n",
        "   'referer': urla,\n",
        "   'sec-ch-ua': '\"Not A(Brand\";v=\"8\", \"Chromium\";v=\"132\", \"Google Chrome\";v=\"132\"',\n",
        "   'sec-ch-ua-mobile': '?0',\n",
        "   'sec-ch-ua-platform': '\"Windows\"',\n",
        "   'sec-fetch-dest': 'empty',\n",
        "   'sec-fetch-mode': 'cors',\n",
        "   'sec-fetch-site': 'same-site',\n",
        "   'user-agent': 'Mozilla/5.0 (Windows NT 10.0; Win64; x64) AppleWebKit/537.36 (KHTML, like Gecko) Chrome/132.0.0.0 Safari/537.36',\n",
        "   'x-price-center': 'true',\n",
        "   'x-source': 'tokopedia-lite',\n",
        "   'x-tkpd-lite-service': 'zeus',\n",
        "   'x-version': '1c2c0dd'}"
      ],
      "metadata": {
        "id": "d0OM1xpnFDsf"
      },
      "execution_count": 22,
      "outputs": []
    },
    {
      "cell_type": "code",
      "source": [
        "#situs B\n",
        "turlb = turldoma\n",
        "headb = {'accept': '*/*' ,\n",
        "   'accept-language': 'en-US,en;q=0.9' ,\n",
        "   'bd-device-id': '7462131835184662033' ,\n",
        "   'content-type': 'application/json' ,\n",
        "   'cookie': cookieb,\n",
        "   'dnt': '1' ,\n",
        "   'origin': asal ,\n",
        "   'priority': 'u=1, i' ,\n",
        "   'referer': urlb ,\n",
        "   'sec-ch-ua': '\"Not A(Brand\";v=\"8\", \"Chromium\";v=\"132\", \"Google Chrome\";v=\"132\"' ,\n",
        "   'sec-ch-ua-mobile': '?0' ,\n",
        "   'sec-ch-ua-platform': '\"Windows\"' ,\n",
        "   'sec-fetch-dest': 'empty' ,\n",
        "   'sec-fetch-mode': 'cors' ,\n",
        "   'sec-fetch-site': 'same-site' ,\n",
        "   'user-agent': 'Mozilla/5.0 (Windows NT 10.0; Win64; x64) AppleWebKit/537.36 (KHTML, like Gecko) Chrome/132.0.0.0 Safari/537.36' ,\n",
        "   'x-price-center': 'true' ,\n",
        "   'x-source': 'tokopedia-lite' ,\n",
        "   'x-tkpd-lite-service': 'zeus' ,\n",
        "   'x-version': '1c2c0dd'}\n",
        "#ke situs c"
      ],
      "metadata": {
        "id": "Qk-0xBIs762d"
      },
      "execution_count": 23,
      "outputs": []
    },
    {
      "cell_type": "code",
      "source": [
        "#situs c\n",
        "turlc =  turldoma\n",
        "headc = { 'accept': '*/*' ,\n",
        "   'accept-language': 'en-US,en;q=0.9' ,\n",
        "   'bd-device-id': '7462131835184662033' ,\n",
        "   'content-type': 'application/json' ,\n",
        "   'cookie': cookiec ,\n",
        "   'dnt': '1' ,\n",
        "   'origin': asal ,\n",
        "   'priority': 'u=1, i' ,\n",
        "   'referer': urlc ,\n",
        "   'sec-ch-ua': '\"Not A(Brand\";v=\"8\", \"Chromium\";v=\"132\", \"Google Chrome\";v=\"132\"' ,\n",
        "   'sec-ch-ua-mobile': '?0' ,\n",
        "   'sec-ch-ua-platform': '\"Windows\"' ,\n",
        "   'sec-fetch-dest': 'empty' ,\n",
        "   'sec-fetch-mode': 'cors' ,\n",
        "   'sec-fetch-site': 'same-site' ,\n",
        "   'user-agent': 'Mozilla/5.0 (Windows NT 10.0; Win64; x64) AppleWebKit/537.36 (KHTML, like Gecko) Chrome/132.0.0.0 Safari/537.36' ,\n",
        "   'x-price-center': 'true' ,\n",
        "   'x-source': 'tokopedia-lite' ,\n",
        "   'x-tkpd-lite-service': 'zeus' ,\n",
        "   'x-version': '1c2c0dd' }\n",
        "#ke situs D"
      ],
      "metadata": {
        "id": "e0LcsKYdGbTK"
      },
      "execution_count": 24,
      "outputs": []
    },
    {
      "cell_type": "code",
      "source": [
        "#situs D\n",
        "turld = turldoma\n",
        "headd = {'accept': '*/*' ,\n",
        "   'accept-language': 'en-US,en;q=0.9' ,\n",
        "   'bd-device-id': '7462131835184662033' ,\n",
        "   'content-type': 'application/json' ,\n",
        "   'cookie': cookied ,\n",
        "   'dnt': '1' ,\n",
        "   'origin': asal ,\n",
        "   'priority': 'u=1, i' ,\n",
        "   'referer': urld ,\n",
        "   'sec-ch-ua': '\"Not A(Brand\";v=\"8\", \"Chromium\";v=\"132\", \"Google Chrome\";v=\"132\"' ,\n",
        "   'sec-ch-ua-mobile': '?0' ,\n",
        "   'sec-ch-ua-platform': '\"Windows\"' ,\n",
        "   'sec-fetch-dest': 'empty' ,\n",
        "   'sec-fetch-mode': 'cors' ,\n",
        "   'sec-fetch-site': 'same-site' ,\n",
        "   'user-agent': 'Mozilla/5.0 (Windows NT 10.0; Win64; x64) AppleWebKit/537.36 (KHTML, like Gecko) Chrome/132.0.0.0 Safari/537.36' ,\n",
        "   'x-price-center': 'true' ,\n",
        "   'x-source': 'tokopedia-lite' ,\n",
        "   'x-tkpd-lite-service': 'zeus' ,\n",
        "   'x-version': '1c2c0dd' }\n",
        "#ke situs E"
      ],
      "metadata": {
        "id": "cAtqr8TyJ8AM"
      },
      "execution_count": 25,
      "outputs": []
    },
    {
      "cell_type": "code",
      "source": [
        "#situs E\n",
        "turle = turldoma\n",
        "heade =  {'accept': '*/*' ,\n",
        "   'accept-language': 'en-US,en;q=0.9' ,\n",
        "   'bd-device-id': '7462131835184662033' ,\n",
        "   'content-type': 'application/json' ,\n",
        "   'cookie': cookiee,\n",
        "   'dnt': '1' ,\n",
        "   'origin': asal ,\n",
        "   'priority': 'u=1, i' ,\n",
        "   'referer': urle ,\n",
        "   'sec-ch-ua': '\"Not A(Brand\";v=\"8\", \"Chromium\";v=\"132\", \"Google Chrome\";v=\"132\"' ,\n",
        "   'sec-ch-ua-mobile': '?0' ,\n",
        "   'sec-ch-ua-platform': '\"Windows\"' ,\n",
        "   'sec-fetch-dest': 'empty' ,\n",
        "   'sec-fetch-mode': 'cors' ,\n",
        "   'sec-fetch-site': 'same-site' ,\n",
        "   'user-agent': 'Mozilla/5.0 (Windows NT 10.0; Win64; x64) AppleWebKit/537.36 (KHTML, like Gecko) Chrome/132.0.0.0 Safari/537.36' ,\n",
        "   'x-price-center': 'true' ,\n",
        "   'x-source': 'tokopedia-lite' ,\n",
        "   'x-tkpd-lite-service': 'zeus' ,\n",
        "   'x-version': '1c2c0dd'}\n",
        "#ke situs F"
      ],
      "metadata": {
        "id": "a62vIip3MZUx"
      },
      "execution_count": 26,
      "outputs": []
    },
    {
      "cell_type": "code",
      "source": [
        "#Situs F\n",
        "turlf = turldoma\n",
        "headf = { 'accept': '*/*' ,\n",
        "   'accept-language': 'en-US,en;q=0.9' ,\n",
        "   'bd-device-id': '7462131835184662033' ,\n",
        "   'content-type': 'application/json' ,\n",
        "   'cookie': cookief ,\n",
        "   'dnt': '1' ,\n",
        "   'origin': asal ,\n",
        "   'priority': 'u=1, i' ,\n",
        "   'referer': urlf ,\n",
        "   'sec-ch-ua': '\"Not A(Brand\";v=\"8\", \"Chromium\";v=\"132\", \"Google Chrome\";v=\"132\"' ,\n",
        "   'sec-ch-ua-mobile': '?0' ,\n",
        "   'sec-ch-ua-platform': '\"Windows\"' ,\n",
        "   'sec-fetch-dest': 'empty',\n",
        "   'sec-fetch-mode': 'cors' ,\n",
        "   'sec-fetch-site': 'same-site' ,\n",
        "   'user-agent': 'Mozilla/5.0 (Windows NT 10.0; Win64; x64) AppleWebKit/537.36 (KHTML, like Gecko) Chrome/132.0.0.0 Safari/537.36' ,\n",
        "   'x-price-center': 'true' ,\n",
        "   'x-source': 'tokopedia-lite' ,\n",
        "   'x-tkpd-lite-service': 'zeus' ,\n",
        "   'x-version': '1c2c0dd' }\n",
        "#ke iterasi operator"
      ],
      "metadata": {
        "id": "ke004SzsMao8"
      },
      "execution_count": 27,
      "outputs": []
    },
    {
      "cell_type": "markdown",
      "source": [
        "### Pembuatan header dinamis"
      ],
      "metadata": {
        "id": "xm7BC6Nl0wDG"
      }
    },
    {
      "cell_type": "markdown",
      "source": [
        "### Versi terbaru"
      ],
      "metadata": {
        "id": "R-gTYdyev7td"
      }
    },
    {
      "cell_type": "markdown",
      "source": [
        "###**Iterasi operator**\n",
        "\n"
      ],
      "metadata": {
        "id": "H76shtMUlGI4"
      }
    },
    {
      "cell_type": "markdown",
      "source": [
        "#### persiapan format standar"
      ],
      "metadata": {
        "id": "kHD3_HTUQwoR"
      }
    },
    {
      "cell_type": "code",
      "source": [
        "#deklarasi variabel\n",
        "pagevar = 1 #untuk objek variabel\n",
        "#judul operasi\n",
        "operasi = \"productReviewList\"\n",
        "#deklarasi produk di awal\n",
        "[idpra, idprb, idprc, idprd, idpre, idprf] = [ida, idb, idc, idd, ide, idf]"
      ],
      "metadata": {
        "id": "bf7GlGiIQ-Od"
      },
      "execution_count": 28,
      "outputs": []
    },
    {
      "cell_type": "code",
      "source": [
        "#standar query\n",
        "stdquer =  \"\"\"query productReviewList($productID: String!, $page: Int!, $limit: Int!, $sortBy: String, $filterBy: String) {\n",
        "            productrevGetProductReviewList(productID: $productID, page: $page, limit: $limit, sortBy: $sortBy, filterBy: $filterBy) {\n",
        "                productID\n",
        "                list {\n",
        "                    id: feedbackID\n",
        "                    variantName\n",
        "                    message\n",
        "                    productRating\n",
        "                    reviewCreateTime\n",
        "                    reviewCreateTimestamp\n",
        "                    isReportable\n",
        "                    isAnonymous\n",
        "                    imageAttachments {\n",
        "                        attachmentID\n",
        "                        imageThumbnailUrl\n",
        "                        imageUrl\n",
        "                    }\n",
        "                    videoAttachments {\n",
        "                        attachmentID\n",
        "                        videoUrl\n",
        "                    }\n",
        "                    reviewResponse {\n",
        "                        message\n",
        "                        createTime\n",
        "                    }\n",
        "                    user {\n",
        "                        userID\n",
        "                        fullName\n",
        "                        image\n",
        "                        url\n",
        "                    }\n",
        "                    likeDislike {\n",
        "                        totalLike\n",
        "                        likeStatus\n",
        "                    }\n",
        "                    stats {\n",
        "                        key\n",
        "                        formatted\n",
        "                        count\n",
        "                    }\n",
        "                    badRatingReasonFmt\n",
        "                }\n",
        "                shop {\n",
        "                    shopID\n",
        "                    name\n",
        "                    url\n",
        "                    image\n",
        "                }\n",
        "                hasNext\n",
        "                totalReviews\n",
        "            }\n",
        "        }\"\"\""
      ],
      "metadata": {
        "id": "4xSqbBGdPz2d"
      },
      "execution_count": 29,
      "outputs": []
    },
    {
      "cell_type": "code",
      "source": [
        "#fungsi untuk generator que\n",
        "def que_generator(idproduk):\n",
        "  hal = pagevar\n",
        "  judul = operasi\n",
        "  isique = stdquer #bagian kueri dari fungsi atas\n",
        "  #pembentukan hasil 'dumping' json\n",
        "  queres = json.dumps([{ #hasil 'queres' menyatakan kueri\n",
        "        \"operationName\": judul,\n",
        "        \"variables\": {\n",
        "            \"productID\": idproduk, #divariasikan\n",
        "            \"page\": hal,\n",
        "            \"limit\": 10,\n",
        "            \"sortBy\": \"informative_score desc\",\n",
        "            \"filterBy\": \"\"\n",
        "        },\n",
        "        \"query\": stdquer #dari bagian atas\n",
        "    }])\n",
        "  return queres\n",
        "#ke fungsi pengambilan ulasan"
      ],
      "metadata": {
        "id": "4IJpZFthN6i1"
      },
      "execution_count": 31,
      "outputs": []
    },
    {
      "cell_type": "markdown",
      "source": [
        "#### Produk A"
      ],
      "metadata": {
        "id": "rCTm3MMuLQ0e"
      }
    },
    {
      "cell_type": "code",
      "source": [
        "#Eksekusi iterasi di A\n",
        "def fetch_reviewa(page):\n",
        "  quea = que_generator(idpra)\n",
        "  #pembuatan jawaban\n",
        "  responsea = requests.post(turla, headers=heada, data=quea)\n",
        "  return responsea.json()\n",
        "#ke generator di A"
      ],
      "metadata": {
        "collapsed": true,
        "id": "Dtknj3rLezMI"
      },
      "execution_count": 34,
      "outputs": []
    },
    {
      "cell_type": "code",
      "source": [
        "#Fungsi utama di operator A\n",
        "def maina():\n",
        "    areva = []  # Ulasan situs A\n",
        "\n",
        "    # Inisiasi ekseksi paralel.\n",
        "    with Pool(processes=4) as pool:\n",
        "        page = 1\n",
        "\n",
        "        while True:\n",
        "            results = pool.map(fetch_reviewa, [page])\n",
        "            dataa = results[0]\n",
        "\n",
        "            # Extract reviews and append them to the list.\n",
        "            reviewsa = dataa[0]['data']['productrevGetProductReviewList']['list']\n",
        "            areva.extend(reviewsa)\n",
        "\n",
        "            # Check if there are more pages to fetch.\n",
        "            if not dataa[0]['data']['productrevGetProductReviewList']['hasNext']:\n",
        "                break\n",
        "\n",
        "            page += 1\n",
        "\n",
        "    # Print all reviews collected.\n",
        "    for rev in areva:\n",
        "        print(rev)\n",
        "\n",
        "if __name__ == \"__main__\":\n",
        "    areva = maina()"
      ],
      "metadata": {
        "collapsed": true,
        "id": "_ff60vusKGIW"
      },
      "execution_count": null,
      "outputs": []
    },
    {
      "cell_type": "markdown",
      "source": [
        "#### Produk B"
      ],
      "metadata": {
        "id": "AKjk00uJPCCC"
      }
    },
    {
      "cell_type": "code",
      "source": [
        "#eksekusi iterasi di B\n",
        "def fetch_reviewb(page):\n",
        "  queb = que_generator(idprb)\n",
        "  #pembuatan jawaban\n",
        "  responseb = requests.post(turlb, headers=headb, data=queb)\n",
        "  return responseb.json()\n",
        "#ke fungsi utama"
      ],
      "metadata": {
        "id": "M9etGSxhhj3J"
      },
      "execution_count": null,
      "outputs": []
    },
    {
      "cell_type": "code",
      "source": [
        "#Fungsi utama di operator B\n",
        "def mainb():\n",
        "    arevb = []  # List to store all reviews\n",
        "\n",
        "    # Inisiasi Pool untuk jawaban\n",
        "    with Pool(processes=4) as pool:\n",
        "        page = 1\n",
        "\n",
        "        while True:\n",
        "            results = pool.map(fetch_reviewb, [page])\n",
        "            datab = results[0]\n",
        "\n",
        "            # Extract reviews and append them to the list.\n",
        "            reviewsb = datab[0]['data']['productrevGetProductReviewList']['list']\n",
        "            arevb.extend(reviewsb)\n",
        "\n",
        "            # Check if there are more pages to fetch.\n",
        "            if not datab[0]['data']['productrevGetProductReviewList']['hasNext']:\n",
        "                break\n",
        "\n",
        "            page += 1\n",
        "\n",
        "    # Print all reviews collected.\n",
        "    for rev in arevb:\n",
        "        print(rev)\n",
        "\n",
        "if __name__ == \"__main__\":\n",
        "    arevb = mainb()\n",
        "#ke fungsi C"
      ],
      "metadata": {
        "collapsed": true,
        "id": "h_hUnT6YKLLE"
      },
      "execution_count": null,
      "outputs": []
    },
    {
      "cell_type": "markdown",
      "source": [
        "#### Produk C"
      ],
      "metadata": {
        "id": "Hxth1-MMLOU3"
      }
    },
    {
      "cell_type": "code",
      "source": [
        "#iterasi di produk C\n",
        "pagec = 1 #di produk C\n",
        "#eksekusi di produk C\n",
        "def fetch_reviewc(page):\n",
        "    quec = que_generator(idprc)\n",
        "    #pembuatan jawaban di situs c\n",
        "    responsec = requests.post(turlc, headers=headc, data=quec)\n",
        "    return responsec.json()\n",
        "#ke fungsi utama di operator C"
      ],
      "metadata": {
        "id": "KXdLgivVhtt2"
      },
      "execution_count": 33,
      "outputs": []
    },
    {
      "cell_type": "code",
      "source": [
        "#generator di operator C\n",
        "def review_generatorc():\n",
        "    page = 1\n",
        "    while True:\n",
        "        resultc = fetch_reviewc(page)  # Ambil halaman selanjutnya\n",
        "\n",
        "        if not resultc:\n",
        "            break\n",
        "        if not resultc or 'data' not in resultc[0] or not resultc[0]['data']['productrevGetProductReviewList']['list']:\n",
        "            break\n",
        "\n",
        "        reviewsc = resultc[0]['data']['productrevGetProductReviewList']['list']\n",
        "\n",
        "        for review in reviewsc:\n",
        "            yield review  # Yield one review at a time\n",
        "\n",
        "        page += 1  # Move to the next page\n",
        "\n",
        "#ke fungsi utama di operator C"
      ],
      "metadata": {
        "id": "ICQVfXcvBjeE"
      },
      "execution_count": null,
      "outputs": []
    },
    {
      "cell_type": "code",
      "source": [
        "#fungsi utama di operator C\n",
        "def mainc():\n",
        "    arevc = []  # Storage for reviews\n",
        "\n",
        "    with ThreadPoolExecutor(max_workers=4) as executor:\n",
        "        futures = {}\n",
        "\n",
        "        # Initiate generator.\n",
        "        generator = review_generatorc()\n",
        "\n",
        "        while True:\n",
        "            try:\n",
        "                # Modifikasi batch.\n",
        "                future = executor.submit(next, generator)\n",
        "                futures[future] = None  # Store future in the dictionary\n",
        "\n",
        "                # Check if there are completed futures.\n",
        "                for future in as_completed(futures):\n",
        "                    review = future.result()  # Collect results\n",
        "\n",
        "                    if review:  # Insersi haSIL.\n",
        "                        arevc.append(review)\n",
        "\n",
        "            except StopIteration:\n",
        "                break  # bERHENTI JIKA LELAH.\n",
        "\n",
        "    # Cetak hasil periodik.\n",
        "    for rev in arevc:\n",
        "        print(rev)\n",
        "\n",
        "# Eksekusi Kondisional.\n",
        "if __name__ == \"__main__\":\n",
        "    arevc = mainc()"
      ],
      "metadata": {
        "collapsed": true,
        "id": "Ks1j_wqBK6aM",
        "colab": {
          "base_uri": "https://localhost:8080/",
          "height": 321
        },
        "outputId": "8fb1d017-add8-46fc-d419-1f8675ee4e64"
      },
      "execution_count": null,
      "outputs": [
        {
          "output_type": "error",
          "ename": "KeyboardInterrupt",
          "evalue": "",
          "traceback": [
            "\u001b[0;31m---------------------------------------------------------------------------\u001b[0m",
            "\u001b[0;31mKeyboardInterrupt\u001b[0m                         Traceback (most recent call last)",
            "\u001b[0;32m<ipython-input-96-6080e30f037a>\u001b[0m in \u001b[0;36m<cell line: 0>\u001b[0;34m()\u001b[0m\n\u001b[1;32m     31\u001b[0m \u001b[0;31m# Eksekusi Kondisional.\u001b[0m\u001b[0;34m\u001b[0m\u001b[0;34m\u001b[0m\u001b[0m\n\u001b[1;32m     32\u001b[0m \u001b[0;32mif\u001b[0m \u001b[0m__name__\u001b[0m \u001b[0;34m==\u001b[0m \u001b[0;34m\"__main__\"\u001b[0m\u001b[0;34m:\u001b[0m\u001b[0;34m\u001b[0m\u001b[0;34m\u001b[0m\u001b[0m\n\u001b[0;32m---> 33\u001b[0;31m     \u001b[0marevc\u001b[0m \u001b[0;34m=\u001b[0m \u001b[0mmainc\u001b[0m\u001b[0;34m(\u001b[0m\u001b[0;34m)\u001b[0m\u001b[0;34m\u001b[0m\u001b[0;34m\u001b[0m\u001b[0m\n\u001b[0m",
            "\u001b[0;32m<ipython-input-96-6080e30f037a>\u001b[0m in \u001b[0;36mmainc\u001b[0;34m()\u001b[0m\n\u001b[1;32m     16\u001b[0m \u001b[0;34m\u001b[0m\u001b[0m\n\u001b[1;32m     17\u001b[0m                 \u001b[0;31m# Check if there are completed futures.\u001b[0m\u001b[0;34m\u001b[0m\u001b[0;34m\u001b[0m\u001b[0m\n\u001b[0;32m---> 18\u001b[0;31m                 \u001b[0;32mfor\u001b[0m \u001b[0mfuture\u001b[0m \u001b[0;32min\u001b[0m \u001b[0mas_completed\u001b[0m\u001b[0;34m(\u001b[0m\u001b[0mfutures\u001b[0m\u001b[0;34m)\u001b[0m\u001b[0;34m:\u001b[0m\u001b[0;34m\u001b[0m\u001b[0;34m\u001b[0m\u001b[0m\n\u001b[0m\u001b[1;32m     19\u001b[0m                     \u001b[0mreview\u001b[0m \u001b[0;34m=\u001b[0m \u001b[0mfuture\u001b[0m\u001b[0;34m.\u001b[0m\u001b[0mresult\u001b[0m\u001b[0;34m(\u001b[0m\u001b[0;34m)\u001b[0m  \u001b[0;31m# Collect results\u001b[0m\u001b[0;34m\u001b[0m\u001b[0;34m\u001b[0m\u001b[0m\n\u001b[1;32m     20\u001b[0m \u001b[0;34m\u001b[0m\u001b[0m\n",
            "\u001b[0;32m/usr/lib/python3.11/concurrent/futures/_base.py\u001b[0m in \u001b[0;36mas_completed\u001b[0;34m(fs, timeout)\u001b[0m\n\u001b[1;32m    228\u001b[0m     \u001b[0mfinished\u001b[0m \u001b[0;34m=\u001b[0m \u001b[0mlist\u001b[0m\u001b[0;34m(\u001b[0m\u001b[0mfinished\u001b[0m\u001b[0;34m)\u001b[0m\u001b[0;34m\u001b[0m\u001b[0;34m\u001b[0m\u001b[0m\n\u001b[1;32m    229\u001b[0m     \u001b[0;32mtry\u001b[0m\u001b[0;34m:\u001b[0m\u001b[0;34m\u001b[0m\u001b[0;34m\u001b[0m\u001b[0m\n\u001b[0;32m--> 230\u001b[0;31m         yield from _yield_finished_futures(finished, waiter,\n\u001b[0m\u001b[1;32m    231\u001b[0m                                            ref_collect=(fs,))\n\u001b[1;32m    232\u001b[0m \u001b[0;34m\u001b[0m\u001b[0m\n",
            "\u001b[0;32m/usr/lib/python3.11/concurrent/futures/_base.py\u001b[0m in \u001b[0;36m_yield_finished_futures\u001b[0;34m(fs, waiter, ref_collect)\u001b[0m\n\u001b[1;32m    191\u001b[0m             \u001b[0mfutures_set\u001b[0m\u001b[0;34m.\u001b[0m\u001b[0mremove\u001b[0m\u001b[0;34m(\u001b[0m\u001b[0mf\u001b[0m\u001b[0;34m)\u001b[0m\u001b[0;34m\u001b[0m\u001b[0;34m\u001b[0m\u001b[0m\n\u001b[1;32m    192\u001b[0m         \u001b[0;32mwith\u001b[0m \u001b[0mf\u001b[0m\u001b[0;34m.\u001b[0m\u001b[0m_condition\u001b[0m\u001b[0;34m:\u001b[0m\u001b[0;34m\u001b[0m\u001b[0;34m\u001b[0m\u001b[0m\n\u001b[0;32m--> 193\u001b[0;31m             \u001b[0mf\u001b[0m\u001b[0;34m.\u001b[0m\u001b[0m_waiters\u001b[0m\u001b[0;34m.\u001b[0m\u001b[0mremove\u001b[0m\u001b[0;34m(\u001b[0m\u001b[0mwaiter\u001b[0m\u001b[0;34m)\u001b[0m\u001b[0;34m\u001b[0m\u001b[0;34m\u001b[0m\u001b[0m\n\u001b[0m\u001b[1;32m    194\u001b[0m         \u001b[0;32mdel\u001b[0m \u001b[0mf\u001b[0m\u001b[0;34m\u001b[0m\u001b[0;34m\u001b[0m\u001b[0m\n\u001b[1;32m    195\u001b[0m         \u001b[0;31m# Careful not to keep a reference to the popped value\u001b[0m\u001b[0;34m\u001b[0m\u001b[0;34m\u001b[0m\u001b[0m\n",
            "\u001b[0;31mKeyboardInterrupt\u001b[0m: "
          ]
        }
      ]
    },
    {
      "cell_type": "markdown",
      "source": [
        "#### Produk D"
      ],
      "metadata": {
        "id": "JvFAdgDkLMPf"
      }
    },
    {
      "cell_type": "code",
      "source": [
        "#iterasi di produk D\n",
        "paged = 1 #di produk D\n",
        "#eksekusi di produk D\n",
        "def fetch_reviewd(page):\n",
        "  qued = que_generator(idprd)\n",
        "    #pembuatan jawaban\n",
        "  responsed = requests.post(turld, headers=headd, data=qued)\n",
        "  return responsed.json()\n",
        "#ke fungsi utama di operator D"
      ],
      "metadata": {
        "id": "BNhffW_gkhsj"
      },
      "execution_count": null,
      "outputs": []
    },
    {
      "cell_type": "code",
      "source": [
        "#generator di operator D\n",
        "def review_generator1():\n",
        "    page = 1\n",
        "    while True:\n",
        "        resultd = fetch_reviewd(page)  # Fetch reviews for the current page\n",
        "        reviewsd = resultd[0]['data']['productrevGetProductReviewList']['list']\n",
        "\n",
        "        if not reviewsd:  # Hentikan iterasi jika tidak ada\n",
        "            break\n",
        "\n",
        "        for review in reviewsd:\n",
        "            yield review  # Pengambilan satu-satu\n",
        "\n",
        "        page += 1  # Pindah ke Halaman selanjutnya\n",
        "#ke fungsi utama"
      ],
      "metadata": {
        "id": "70IK8psjBpL_"
      },
      "execution_count": null,
      "outputs": []
    },
    {
      "cell_type": "code",
      "source": [
        "#fungsi di operator D\n",
        "def maind():\n",
        "    arevd = []  # Penyimpanan\n",
        "\n",
        "    with ThreadPoolExecutor(max_workers=4) as executor:\n",
        "        futures = {}\n",
        "\n",
        "        # Inisiasi generator\n",
        "        generator = review_generator1()\n",
        "\n",
        "        while True:\n",
        "            try:\n",
        "                # Submit a new task for the next review batch\n",
        "                future = executor.submit(next, generator)\n",
        "                futures[future] = None  # Store future in the dictionary\n",
        "\n",
        "                # Check if there are completed futures\n",
        "                for future in as_completed(futures):\n",
        "                    review = future.result()  # Kumpulkan hasil\n",
        "\n",
        "                    if review:  # Penyatuan jika ada\n",
        "                        arevd.append(review)\n",
        "\n",
        "            except StopIteration:\n",
        "                break  # Jika lelah\n",
        "\n",
        "    # Cetak hasil periodik\n",
        "    for rev in arevd:\n",
        "        print(rev)\n",
        "\n",
        "# Eksekusi Kondisional\n",
        "if __name__ == \"__main__\":\n",
        "    arevd = maind()"
      ],
      "metadata": {
        "id": "BsVKl3RANAZV"
      },
      "execution_count": null,
      "outputs": []
    },
    {
      "cell_type": "markdown",
      "source": [
        "#### Produk E"
      ],
      "metadata": {
        "id": "Th3nIdNgLInU"
      }
    },
    {
      "cell_type": "code",
      "source": [
        "#iterasi di produk E\n",
        "pagee = 1 #di produk E\n",
        "#Eksekusi di produk E\n",
        "def fetch_reviewe(page):\n",
        "  quee = que_generator(idpre)\n",
        "    #pembuatan jawaban\n",
        "  responsee = requests.post(turle, headers=heade, data=quee)\n",
        "  return responsee.json()\n",
        "#ke fungsi utama di operator E"
      ],
      "metadata": {
        "id": "cul_uFdMkn31"
      },
      "execution_count": null,
      "outputs": []
    },
    {
      "cell_type": "code",
      "source": [
        "#generator di operator E\n",
        "def review_generator2():\n",
        "    page = 1\n",
        "    while True:\n",
        "        resulte = fetch_reviewe(page)  # Inspeksi halaman\n",
        "        reviewse = resulte[0]['data']['productrevGetProductReviewList']['list']\n",
        "\n",
        "        if not reviewse:  # Hentikan jika tak ada ulasan\n",
        "            break\n",
        "\n",
        "        for review in reviewse:\n",
        "            yield review  # Inspeksi ha\n",
        "\n",
        "        page += 1  # Move to the next page\n",
        "#ke fungsi utama di operator E"
      ],
      "metadata": {
        "id": "_U71qgbQCQ_Q"
      },
      "execution_count": null,
      "outputs": []
    },
    {
      "cell_type": "code",
      "source": [
        "#fungsi utama di operator E\n",
        "def maine():\n",
        "    areve = []  # Penyimpanan\n",
        "\n",
        "    with ThreadPoolExecutor(max_workers=5) as executor:\n",
        "        futures = {}\n",
        "\n",
        "        # Inisiasi generator\n",
        "        generator = review_generator2()\n",
        "\n",
        "        while True:\n",
        "            try:\n",
        "                # Submit a new task for the next review batch\n",
        "                future = executor.submit(next, generator)\n",
        "                futures[future] = None  # Store future in the dictionary\n",
        "\n",
        "                # Check if there are completed futures\n",
        "                for future in as_completed(futures):\n",
        "                    review = future.result()  # Kumpulkan hasil\n",
        "\n",
        "                    if review:  # Penyatuan jika ada\n",
        "                        areve.append(review)\n",
        "\n",
        "            except StopIteration:\n",
        "                break  # Jika lelah\n",
        "\n",
        "    # Cetak hasil periodik\n",
        "    for rev in areve:\n",
        "        print(rev)\n",
        "\n",
        "# Eksekusi Kondisional\n",
        "if __name__ == \"__main__\":\n",
        "    areve = maine()"
      ],
      "metadata": {
        "collapsed": true,
        "id": "OL6iT7YBN3a0"
      },
      "execution_count": null,
      "outputs": []
    },
    {
      "cell_type": "markdown",
      "source": [
        "#### Produk F"
      ],
      "metadata": {
        "id": "8kCZLETAO5YJ"
      }
    },
    {
      "cell_type": "code",
      "source": [
        "#inspeksi di situs F\n",
        "pagef = 1 #di produk F\n",
        "#Eksekusi di produk F\n",
        "def fetch_reviewf(page):\n",
        "  idprf = idf #identitas produk F\n",
        "  quef = que_generator(idprf)\n",
        "    #pembuatan jawaban\n",
        "  responsef = requests.post(turlf, headers=headf, data=quef)\n",
        "  return responsef.json()\n",
        "#ke eksekusi"
      ],
      "metadata": {
        "id": "UK4SbFI1kuo8"
      },
      "execution_count": null,
      "outputs": []
    },
    {
      "cell_type": "code",
      "source": [
        "#fungsi generator di operator F\n",
        "def review_generator3():\n",
        "    page = 1\n",
        "    while True:\n",
        "        resultf = fetch_reviewf(page)  # Fetch reviews for the current page\n",
        "        reviewsf = resultf[0]['data']['productrevGetProductReviewList']['list']\n",
        "\n",
        "        if not reviewsf:  # Hentkan iterasi jika kelelahan\n",
        "            break\n",
        "\n",
        "        for review in reviewsf:\n",
        "            yield review  # Inspeksi hasil\n",
        "\n",
        "        page += 1  # Pemindahan Halaman"
      ],
      "metadata": {
        "id": "SlylqNxZFbF2"
      },
      "execution_count": null,
      "outputs": []
    },
    {
      "cell_type": "code",
      "source": [
        "#Eksekusi fungsi di operator F\n",
        "def mainf():\n",
        "    arevf = []  # Penyimpanan di bagian F\n",
        "\n",
        "    with ThreadPoolExecutor(max_workers=4) as executor:\n",
        "        futures = {}\n",
        "\n",
        "        # Inisiasi generator\n",
        "        generator = review_generator3()\n",
        "\n",
        "        while True:\n",
        "            try:\n",
        "                # Submit a new task for the next review batch\n",
        "                future = executor.submit(next, generator)\n",
        "                futures[future] = None  # Store future in the dictionary\n",
        "\n",
        "                # Check if there are completed futures\n",
        "                for future in as_completed(futures):\n",
        "                    review = future.result()  # Kumpulkan hasil\n",
        "\n",
        "                    if review:  # Penyatuan jika ada\n",
        "                        arevf.append(review)\n",
        "\n",
        "            except StopIteration:\n",
        "                break  # Jika lelah\n",
        "\n",
        "    # Cetak hasil periodik\n",
        "    for rev in arevf:\n",
        "        print(rev)\n",
        "\n",
        "# Eksekusi Kondisional\n",
        "if __name__ == \"__main__\":\n",
        "    arevf = mainf()"
      ],
      "metadata": {
        "collapsed": true,
        "id": "kTmJk0YrOt3q"
      },
      "execution_count": null,
      "outputs": []
    },
    {
      "cell_type": "markdown",
      "source": [
        "### Penyederhanaan fungsi pembuatan"
      ],
      "metadata": {
        "id": "QE-hnEts3Q_e"
      }
    },
    {
      "cell_type": "markdown",
      "source": [
        "## Persiapan penyimpana hasil csv dari respon"
      ],
      "metadata": {
        "id": "7C40NWv-GYNg"
      }
    },
    {
      "cell_type": "code",
      "source": [
        "#penyatuan hasil json\n",
        "jserigo = areva + arevb + arevc + arevd + areve + arevf #enam sampel dari produk erigo\n",
        "#cek hasil\n",
        "print(jserigo)"
      ],
      "metadata": {
        "collapsed": true,
        "id": "jcxoWai-GR_0"
      },
      "execution_count": null,
      "outputs": []
    },
    {
      "cell_type": "code",
      "source": [
        "#konversi ke bentuk csv\n",
        "namacsv = 'dfori.csv' #nama yang diinginkan\n",
        "#fungsi konversi\n",
        "with open(namacsv, mode='w', newline='', encoding='utf-8') as csv_file:\n",
        "    fieldnames = [\n",
        "        'id', 'variantName', 'message', 'productRating',\n",
        "        'reviewCreateTime', 'isAnonymous', 'user_fullName',\n",
        "        'user_url', 'totalLike'\n",
        "    ]\n",
        "    writer = csv.DictWriter(csv_file, fieldnames=fieldnames)\n",
        "\n",
        "    # Write header row\n",
        "    writer.writeheader()\n",
        "\n",
        "    # Write each merged review to the CSV\n",
        "    for review in jserigo:\n",
        "        writer.writerow({\n",
        "            'id': review['id'],\n",
        "            'variantName': review.get('variantName', ''),\n",
        "            'message': review.get('message', ''),\n",
        "            'productRating': review.get('productRating', ''),\n",
        "            'reviewCreateTime': review.get('reviewCreateTime', ''),\n",
        "            'isAnonymous': review.get('isAnonymous', ''),\n",
        "            'user_fullName': review['user'].get('fullName', '') if review.get('user') else '',\n",
        "            'user_url': review['user'].get('url', '') if review.get('user') else '',\n",
        "            'totalLike': review['likeDislike'].get('totalLike', '') if review.get('likeDislike') else ''\n",
        "        })\n",
        "\n",
        "print(f'Merged reviews saved to {namacsv}')"
      ],
      "metadata": {
        "colab": {
          "base_uri": "https://localhost:8080/"
        },
        "id": "uttj6ddXaaHo",
        "outputId": "67937e1a-a227-4ecf-f976-0f2dcc298bef"
      },
      "execution_count": null,
      "outputs": [
        {
          "output_type": "stream",
          "name": "stdout",
          "text": [
            "Merged reviews saved to dfori.csv\n"
          ]
        }
      ]
    },
    {
      "cell_type": "markdown",
      "source": [
        "# Persiapan ke file csv"
      ],
      "metadata": {
        "id": "fmBakjGeGQH1"
      }
    },
    {
      "cell_type": "code",
      "source": [
        "#inspeksi sampel\n",
        "dforif = pd.read_csv('dfori.csv')\n",
        "dfkopi = dforif.copy()\n",
        "#ke inspeksi sampel"
      ],
      "metadata": {
        "id": "0xjTJAxya-gE"
      },
      "execution_count": null,
      "outputs": []
    },
    {
      "cell_type": "code",
      "source": [
        "kepala = dfkopi.head(7)\n",
        "kepala"
      ],
      "metadata": {
        "colab": {
          "base_uri": "https://localhost:8080/",
          "height": 494
        },
        "collapsed": true,
        "id": "5I-j4DEjbf55",
        "outputId": "b54ed5d9-76ba-4c8c-f031-3e0a779057e3"
      },
      "execution_count": null,
      "outputs": [
        {
          "output_type": "execute_result",
          "data": {
            "text/plain": [
              "           id         variantName  \\\n",
              "0  1096280412  Jazlyn Black - XXL   \n",
              "1  1131666530  Jazlyn Black - XXL   \n",
              "2  1130273219    Jazlyn Black - L   \n",
              "3   757190522                   L   \n",
              "4  1016018259    Jazlyn Black - L   \n",
              "5   816486546                 XXL   \n",
              "6   773225440                   L   \n",
              "\n",
              "                                             message  productRating  \\\n",
              "0  barang bagus kualitas nya top harga nya naik o...              5   \n",
              "1  modelnya keren, bahannya bagus cuma agak kepan...              5   \n",
              "2  tinggi 175 bb 60 ukuran L cocok si, pas dan en...              5   \n",
              "3  enak di pake adem dan kece pas di badan gw. ta...              5   \n",
              "4  APAAN INI WOY KEREN BANGET KEMEJA NYA ga usa r...              5   \n",
              "5  oke paket di terima dengan baik ,, untuk kuali...              5   \n",
              "6  pas, bahannya enak banget dibadan dan juga ker...              5   \n",
              "\n",
              "   reviewCreateTime  isAnonymous user_fullName  \\\n",
              "0        1727090981         True         m***l   \n",
              "1        1734432169        False         Ahmad   \n",
              "2        1734122573        False          Syah   \n",
              "3        1663576439         True         S***a   \n",
              "4        1710777365        False         raden   \n",
              "5        1671820166        False        Ostoee   \n",
              "6        1665743375        False       Indrath   \n",
              "\n",
              "                                     user_url  totalLike  \n",
              "0                                         NaN          1  \n",
              "1   https://www.tokopedia.com/people/12344984          1  \n",
              "2  https://www.tokopedia.com/people/142632910          0  \n",
              "3                                         NaN          0  \n",
              "4  https://www.tokopedia.com/people/210403877          1  \n",
              "5  https://www.tokopedia.com/people/219595677          0  \n",
              "6   https://www.tokopedia.com/people/91590875          0  "
            ],
            "text/html": [
              "\n",
              "  <div id=\"df-9dedf8d1-05bb-436a-a5df-58ff823eba7f\" class=\"colab-df-container\">\n",
              "    <div>\n",
              "<style scoped>\n",
              "    .dataframe tbody tr th:only-of-type {\n",
              "        vertical-align: middle;\n",
              "    }\n",
              "\n",
              "    .dataframe tbody tr th {\n",
              "        vertical-align: top;\n",
              "    }\n",
              "\n",
              "    .dataframe thead th {\n",
              "        text-align: right;\n",
              "    }\n",
              "</style>\n",
              "<table border=\"1\" class=\"dataframe\">\n",
              "  <thead>\n",
              "    <tr style=\"text-align: right;\">\n",
              "      <th></th>\n",
              "      <th>id</th>\n",
              "      <th>variantName</th>\n",
              "      <th>message</th>\n",
              "      <th>productRating</th>\n",
              "      <th>reviewCreateTime</th>\n",
              "      <th>isAnonymous</th>\n",
              "      <th>user_fullName</th>\n",
              "      <th>user_url</th>\n",
              "      <th>totalLike</th>\n",
              "    </tr>\n",
              "  </thead>\n",
              "  <tbody>\n",
              "    <tr>\n",
              "      <th>0</th>\n",
              "      <td>1096280412</td>\n",
              "      <td>Jazlyn Black - XXL</td>\n",
              "      <td>barang bagus kualitas nya top harga nya naik o...</td>\n",
              "      <td>5</td>\n",
              "      <td>1727090981</td>\n",
              "      <td>True</td>\n",
              "      <td>m***l</td>\n",
              "      <td>NaN</td>\n",
              "      <td>1</td>\n",
              "    </tr>\n",
              "    <tr>\n",
              "      <th>1</th>\n",
              "      <td>1131666530</td>\n",
              "      <td>Jazlyn Black - XXL</td>\n",
              "      <td>modelnya keren, bahannya bagus cuma agak kepan...</td>\n",
              "      <td>5</td>\n",
              "      <td>1734432169</td>\n",
              "      <td>False</td>\n",
              "      <td>Ahmad</td>\n",
              "      <td>https://www.tokopedia.com/people/12344984</td>\n",
              "      <td>1</td>\n",
              "    </tr>\n",
              "    <tr>\n",
              "      <th>2</th>\n",
              "      <td>1130273219</td>\n",
              "      <td>Jazlyn Black - L</td>\n",
              "      <td>tinggi 175 bb 60 ukuran L cocok si, pas dan en...</td>\n",
              "      <td>5</td>\n",
              "      <td>1734122573</td>\n",
              "      <td>False</td>\n",
              "      <td>Syah</td>\n",
              "      <td>https://www.tokopedia.com/people/142632910</td>\n",
              "      <td>0</td>\n",
              "    </tr>\n",
              "    <tr>\n",
              "      <th>3</th>\n",
              "      <td>757190522</td>\n",
              "      <td>L</td>\n",
              "      <td>enak di pake adem dan kece pas di badan gw. ta...</td>\n",
              "      <td>5</td>\n",
              "      <td>1663576439</td>\n",
              "      <td>True</td>\n",
              "      <td>S***a</td>\n",
              "      <td>NaN</td>\n",
              "      <td>0</td>\n",
              "    </tr>\n",
              "    <tr>\n",
              "      <th>4</th>\n",
              "      <td>1016018259</td>\n",
              "      <td>Jazlyn Black - L</td>\n",
              "      <td>APAAN INI WOY KEREN BANGET KEMEJA NYA ga usa r...</td>\n",
              "      <td>5</td>\n",
              "      <td>1710777365</td>\n",
              "      <td>False</td>\n",
              "      <td>raden</td>\n",
              "      <td>https://www.tokopedia.com/people/210403877</td>\n",
              "      <td>1</td>\n",
              "    </tr>\n",
              "    <tr>\n",
              "      <th>5</th>\n",
              "      <td>816486546</td>\n",
              "      <td>XXL</td>\n",
              "      <td>oke paket di terima dengan baik ,, untuk kuali...</td>\n",
              "      <td>5</td>\n",
              "      <td>1671820166</td>\n",
              "      <td>False</td>\n",
              "      <td>Ostoee</td>\n",
              "      <td>https://www.tokopedia.com/people/219595677</td>\n",
              "      <td>0</td>\n",
              "    </tr>\n",
              "    <tr>\n",
              "      <th>6</th>\n",
              "      <td>773225440</td>\n",
              "      <td>L</td>\n",
              "      <td>pas, bahannya enak banget dibadan dan juga ker...</td>\n",
              "      <td>5</td>\n",
              "      <td>1665743375</td>\n",
              "      <td>False</td>\n",
              "      <td>Indrath</td>\n",
              "      <td>https://www.tokopedia.com/people/91590875</td>\n",
              "      <td>0</td>\n",
              "    </tr>\n",
              "  </tbody>\n",
              "</table>\n",
              "</div>\n",
              "    <div class=\"colab-df-buttons\">\n",
              "\n",
              "  <div class=\"colab-df-container\">\n",
              "    <button class=\"colab-df-convert\" onclick=\"convertToInteractive('df-9dedf8d1-05bb-436a-a5df-58ff823eba7f')\"\n",
              "            title=\"Convert this dataframe to an interactive table.\"\n",
              "            style=\"display:none;\">\n",
              "\n",
              "  <svg xmlns=\"http://www.w3.org/2000/svg\" height=\"24px\" viewBox=\"0 -960 960 960\">\n",
              "    <path d=\"M120-120v-720h720v720H120Zm60-500h600v-160H180v160Zm220 220h160v-160H400v160Zm0 220h160v-160H400v160ZM180-400h160v-160H180v160Zm440 0h160v-160H620v160ZM180-180h160v-160H180v160Zm440 0h160v-160H620v160Z\"/>\n",
              "  </svg>\n",
              "    </button>\n",
              "\n",
              "  <style>\n",
              "    .colab-df-container {\n",
              "      display:flex;\n",
              "      gap: 12px;\n",
              "    }\n",
              "\n",
              "    .colab-df-convert {\n",
              "      background-color: #E8F0FE;\n",
              "      border: none;\n",
              "      border-radius: 50%;\n",
              "      cursor: pointer;\n",
              "      display: none;\n",
              "      fill: #1967D2;\n",
              "      height: 32px;\n",
              "      padding: 0 0 0 0;\n",
              "      width: 32px;\n",
              "    }\n",
              "\n",
              "    .colab-df-convert:hover {\n",
              "      background-color: #E2EBFA;\n",
              "      box-shadow: 0px 1px 2px rgba(60, 64, 67, 0.3), 0px 1px 3px 1px rgba(60, 64, 67, 0.15);\n",
              "      fill: #174EA6;\n",
              "    }\n",
              "\n",
              "    .colab-df-buttons div {\n",
              "      margin-bottom: 4px;\n",
              "    }\n",
              "\n",
              "    [theme=dark] .colab-df-convert {\n",
              "      background-color: #3B4455;\n",
              "      fill: #D2E3FC;\n",
              "    }\n",
              "\n",
              "    [theme=dark] .colab-df-convert:hover {\n",
              "      background-color: #434B5C;\n",
              "      box-shadow: 0px 1px 3px 1px rgba(0, 0, 0, 0.15);\n",
              "      filter: drop-shadow(0px 1px 2px rgba(0, 0, 0, 0.3));\n",
              "      fill: #FFFFFF;\n",
              "    }\n",
              "  </style>\n",
              "\n",
              "    <script>\n",
              "      const buttonEl =\n",
              "        document.querySelector('#df-9dedf8d1-05bb-436a-a5df-58ff823eba7f button.colab-df-convert');\n",
              "      buttonEl.style.display =\n",
              "        google.colab.kernel.accessAllowed ? 'block' : 'none';\n",
              "\n",
              "      async function convertToInteractive(key) {\n",
              "        const element = document.querySelector('#df-9dedf8d1-05bb-436a-a5df-58ff823eba7f');\n",
              "        const dataTable =\n",
              "          await google.colab.kernel.invokeFunction('convertToInteractive',\n",
              "                                                    [key], {});\n",
              "        if (!dataTable) return;\n",
              "\n",
              "        const docLinkHtml = 'Like what you see? Visit the ' +\n",
              "          '<a target=\"_blank\" href=https://colab.research.google.com/notebooks/data_table.ipynb>data table notebook</a>'\n",
              "          + ' to learn more about interactive tables.';\n",
              "        element.innerHTML = '';\n",
              "        dataTable['output_type'] = 'display_data';\n",
              "        await google.colab.output.renderOutput(dataTable, element);\n",
              "        const docLink = document.createElement('div');\n",
              "        docLink.innerHTML = docLinkHtml;\n",
              "        element.appendChild(docLink);\n",
              "      }\n",
              "    </script>\n",
              "  </div>\n",
              "\n",
              "\n",
              "<div id=\"df-a50e9c8c-3e8f-4336-8e4d-f5e9db789764\">\n",
              "  <button class=\"colab-df-quickchart\" onclick=\"quickchart('df-a50e9c8c-3e8f-4336-8e4d-f5e9db789764')\"\n",
              "            title=\"Suggest charts\"\n",
              "            style=\"display:none;\">\n",
              "\n",
              "<svg xmlns=\"http://www.w3.org/2000/svg\" height=\"24px\"viewBox=\"0 0 24 24\"\n",
              "     width=\"24px\">\n",
              "    <g>\n",
              "        <path d=\"M19 3H5c-1.1 0-2 .9-2 2v14c0 1.1.9 2 2 2h14c1.1 0 2-.9 2-2V5c0-1.1-.9-2-2-2zM9 17H7v-7h2v7zm4 0h-2V7h2v10zm4 0h-2v-4h2v4z\"/>\n",
              "    </g>\n",
              "</svg>\n",
              "  </button>\n",
              "\n",
              "<style>\n",
              "  .colab-df-quickchart {\n",
              "      --bg-color: #E8F0FE;\n",
              "      --fill-color: #1967D2;\n",
              "      --hover-bg-color: #E2EBFA;\n",
              "      --hover-fill-color: #174EA6;\n",
              "      --disabled-fill-color: #AAA;\n",
              "      --disabled-bg-color: #DDD;\n",
              "  }\n",
              "\n",
              "  [theme=dark] .colab-df-quickchart {\n",
              "      --bg-color: #3B4455;\n",
              "      --fill-color: #D2E3FC;\n",
              "      --hover-bg-color: #434B5C;\n",
              "      --hover-fill-color: #FFFFFF;\n",
              "      --disabled-bg-color: #3B4455;\n",
              "      --disabled-fill-color: #666;\n",
              "  }\n",
              "\n",
              "  .colab-df-quickchart {\n",
              "    background-color: var(--bg-color);\n",
              "    border: none;\n",
              "    border-radius: 50%;\n",
              "    cursor: pointer;\n",
              "    display: none;\n",
              "    fill: var(--fill-color);\n",
              "    height: 32px;\n",
              "    padding: 0;\n",
              "    width: 32px;\n",
              "  }\n",
              "\n",
              "  .colab-df-quickchart:hover {\n",
              "    background-color: var(--hover-bg-color);\n",
              "    box-shadow: 0 1px 2px rgba(60, 64, 67, 0.3), 0 1px 3px 1px rgba(60, 64, 67, 0.15);\n",
              "    fill: var(--button-hover-fill-color);\n",
              "  }\n",
              "\n",
              "  .colab-df-quickchart-complete:disabled,\n",
              "  .colab-df-quickchart-complete:disabled:hover {\n",
              "    background-color: var(--disabled-bg-color);\n",
              "    fill: var(--disabled-fill-color);\n",
              "    box-shadow: none;\n",
              "  }\n",
              "\n",
              "  .colab-df-spinner {\n",
              "    border: 2px solid var(--fill-color);\n",
              "    border-color: transparent;\n",
              "    border-bottom-color: var(--fill-color);\n",
              "    animation:\n",
              "      spin 1s steps(1) infinite;\n",
              "  }\n",
              "\n",
              "  @keyframes spin {\n",
              "    0% {\n",
              "      border-color: transparent;\n",
              "      border-bottom-color: var(--fill-color);\n",
              "      border-left-color: var(--fill-color);\n",
              "    }\n",
              "    20% {\n",
              "      border-color: transparent;\n",
              "      border-left-color: var(--fill-color);\n",
              "      border-top-color: var(--fill-color);\n",
              "    }\n",
              "    30% {\n",
              "      border-color: transparent;\n",
              "      border-left-color: var(--fill-color);\n",
              "      border-top-color: var(--fill-color);\n",
              "      border-right-color: var(--fill-color);\n",
              "    }\n",
              "    40% {\n",
              "      border-color: transparent;\n",
              "      border-right-color: var(--fill-color);\n",
              "      border-top-color: var(--fill-color);\n",
              "    }\n",
              "    60% {\n",
              "      border-color: transparent;\n",
              "      border-right-color: var(--fill-color);\n",
              "    }\n",
              "    80% {\n",
              "      border-color: transparent;\n",
              "      border-right-color: var(--fill-color);\n",
              "      border-bottom-color: var(--fill-color);\n",
              "    }\n",
              "    90% {\n",
              "      border-color: transparent;\n",
              "      border-bottom-color: var(--fill-color);\n",
              "    }\n",
              "  }\n",
              "</style>\n",
              "\n",
              "  <script>\n",
              "    async function quickchart(key) {\n",
              "      const quickchartButtonEl =\n",
              "        document.querySelector('#' + key + ' button');\n",
              "      quickchartButtonEl.disabled = true;  // To prevent multiple clicks.\n",
              "      quickchartButtonEl.classList.add('colab-df-spinner');\n",
              "      try {\n",
              "        const charts = await google.colab.kernel.invokeFunction(\n",
              "            'suggestCharts', [key], {});\n",
              "      } catch (error) {\n",
              "        console.error('Error during call to suggestCharts:', error);\n",
              "      }\n",
              "      quickchartButtonEl.classList.remove('colab-df-spinner');\n",
              "      quickchartButtonEl.classList.add('colab-df-quickchart-complete');\n",
              "    }\n",
              "    (() => {\n",
              "      let quickchartButtonEl =\n",
              "        document.querySelector('#df-a50e9c8c-3e8f-4336-8e4d-f5e9db789764 button');\n",
              "      quickchartButtonEl.style.display =\n",
              "        google.colab.kernel.accessAllowed ? 'block' : 'none';\n",
              "    })();\n",
              "  </script>\n",
              "</div>\n",
              "\n",
              "  <div id=\"id_9b980ed7-f93e-4667-a213-cab55509f6b3\">\n",
              "    <style>\n",
              "      .colab-df-generate {\n",
              "        background-color: #E8F0FE;\n",
              "        border: none;\n",
              "        border-radius: 50%;\n",
              "        cursor: pointer;\n",
              "        display: none;\n",
              "        fill: #1967D2;\n",
              "        height: 32px;\n",
              "        padding: 0 0 0 0;\n",
              "        width: 32px;\n",
              "      }\n",
              "\n",
              "      .colab-df-generate:hover {\n",
              "        background-color: #E2EBFA;\n",
              "        box-shadow: 0px 1px 2px rgba(60, 64, 67, 0.3), 0px 1px 3px 1px rgba(60, 64, 67, 0.15);\n",
              "        fill: #174EA6;\n",
              "      }\n",
              "\n",
              "      [theme=dark] .colab-df-generate {\n",
              "        background-color: #3B4455;\n",
              "        fill: #D2E3FC;\n",
              "      }\n",
              "\n",
              "      [theme=dark] .colab-df-generate:hover {\n",
              "        background-color: #434B5C;\n",
              "        box-shadow: 0px 1px 3px 1px rgba(0, 0, 0, 0.15);\n",
              "        filter: drop-shadow(0px 1px 2px rgba(0, 0, 0, 0.3));\n",
              "        fill: #FFFFFF;\n",
              "      }\n",
              "    </style>\n",
              "    <button class=\"colab-df-generate\" onclick=\"generateWithVariable('kepala')\"\n",
              "            title=\"Generate code using this dataframe.\"\n",
              "            style=\"display:none;\">\n",
              "\n",
              "  <svg xmlns=\"http://www.w3.org/2000/svg\" height=\"24px\"viewBox=\"0 0 24 24\"\n",
              "       width=\"24px\">\n",
              "    <path d=\"M7,19H8.4L18.45,9,17,7.55,7,17.6ZM5,21V16.75L18.45,3.32a2,2,0,0,1,2.83,0l1.4,1.43a1.91,1.91,0,0,1,.58,1.4,1.91,1.91,0,0,1-.58,1.4L9.25,21ZM18.45,9,17,7.55Zm-12,3A5.31,5.31,0,0,0,4.9,8.1,5.31,5.31,0,0,0,1,6.5,5.31,5.31,0,0,0,4.9,4.9,5.31,5.31,0,0,0,6.5,1,5.31,5.31,0,0,0,8.1,4.9,5.31,5.31,0,0,0,12,6.5,5.46,5.46,0,0,0,6.5,12Z\"/>\n",
              "  </svg>\n",
              "    </button>\n",
              "    <script>\n",
              "      (() => {\n",
              "      const buttonEl =\n",
              "        document.querySelector('#id_9b980ed7-f93e-4667-a213-cab55509f6b3 button.colab-df-generate');\n",
              "      buttonEl.style.display =\n",
              "        google.colab.kernel.accessAllowed ? 'block' : 'none';\n",
              "\n",
              "      buttonEl.onclick = () => {\n",
              "        google.colab.notebook.generateWithVariable('kepala');\n",
              "      }\n",
              "      })();\n",
              "    </script>\n",
              "  </div>\n",
              "\n",
              "    </div>\n",
              "  </div>\n"
            ],
            "application/vnd.google.colaboratory.intrinsic+json": {
              "type": "dataframe",
              "variable_name": "kepala",
              "summary": "{\n  \"name\": \"kepala\",\n  \"rows\": 7,\n  \"fields\": [\n    {\n      \"column\": \"id\",\n      \"properties\": {\n        \"dtype\": \"number\",\n        \"std\": 171651346,\n        \"min\": 757190522,\n        \"max\": 1131666530,\n        \"num_unique_values\": 7,\n        \"samples\": [\n          1096280412,\n          1131666530,\n          816486546\n        ],\n        \"semantic_type\": \"\",\n        \"description\": \"\"\n      }\n    },\n    {\n      \"column\": \"variantName\",\n      \"properties\": {\n        \"dtype\": \"string\",\n        \"num_unique_values\": 4,\n        \"samples\": [\n          \"Jazlyn Black - L\",\n          \"XXL\",\n          \"Jazlyn Black - XXL\"\n        ],\n        \"semantic_type\": \"\",\n        \"description\": \"\"\n      }\n    },\n    {\n      \"column\": \"message\",\n      \"properties\": {\n        \"dtype\": \"string\",\n        \"num_unique_values\": 7,\n        \"samples\": [\n          \"barang bagus kualitas nya top harga nya naik overall 100 dijamin ori\",\n          \"modelnya keren, bahannya bagus cuma agak kepanjangan. perlu dipermak dikit.\",\n          \"oke paket di terima dengan baik ,, untuk kualitas barang oke kok kak \\ud83d\\ude01 bagus ,, tapi sayang nya untuk pengiriman agak lama kak oke itu saja dari saya\"\n        ],\n        \"semantic_type\": \"\",\n        \"description\": \"\"\n      }\n    },\n    {\n      \"column\": \"productRating\",\n      \"properties\": {\n        \"dtype\": \"number\",\n        \"std\": 0,\n        \"min\": 5,\n        \"max\": 5,\n        \"num_unique_values\": 1,\n        \"samples\": [\n          5\n        ],\n        \"semantic_type\": \"\",\n        \"description\": \"\"\n      }\n    },\n    {\n      \"column\": \"reviewCreateTime\",\n      \"properties\": {\n        \"dtype\": \"number\",\n        \"std\": 32878870,\n        \"min\": 1663576439,\n        \"max\": 1734432169,\n        \"num_unique_values\": 7,\n        \"samples\": [\n          1727090981\n        ],\n        \"semantic_type\": \"\",\n        \"description\": \"\"\n      }\n    },\n    {\n      \"column\": \"isAnonymous\",\n      \"properties\": {\n        \"dtype\": \"boolean\",\n        \"num_unique_values\": 2,\n        \"samples\": [\n          false\n        ],\n        \"semantic_type\": \"\",\n        \"description\": \"\"\n      }\n    },\n    {\n      \"column\": \"user_fullName\",\n      \"properties\": {\n        \"dtype\": \"string\",\n        \"num_unique_values\": 7,\n        \"samples\": [\n          \"m***l\"\n        ],\n        \"semantic_type\": \"\",\n        \"description\": \"\"\n      }\n    },\n    {\n      \"column\": \"user_url\",\n      \"properties\": {\n        \"dtype\": \"string\",\n        \"num_unique_values\": 5,\n        \"samples\": [\n          \"https://www.tokopedia.com/people/142632910\"\n        ],\n        \"semantic_type\": \"\",\n        \"description\": \"\"\n      }\n    },\n    {\n      \"column\": \"totalLike\",\n      \"properties\": {\n        \"dtype\": \"number\",\n        \"std\": 0,\n        \"min\": 0,\n        \"max\": 1,\n        \"num_unique_values\": 2,\n        \"samples\": [\n          0\n        ],\n        \"semantic_type\": \"\",\n        \"description\": \"\"\n      }\n    }\n  ]\n}"
            }
          },
          "metadata": {},
          "execution_count": 152
        }
      ]
    },
    {
      "cell_type": "markdown",
      "source": [
        "# Tahap Pembersihan data"
      ],
      "metadata": {
        "id": "PBfDxJNpb2xV"
      }
    },
    {
      "cell_type": "code",
      "source": [
        "#penyimpana hasil untuk diunduh kembali\n"
      ],
      "metadata": {
        "id": "cu4SE-Ia_kXT"
      },
      "execution_count": null,
      "outputs": []
    },
    {
      "cell_type": "markdown",
      "source": [
        "## Inspeksi dan pembersihan tahap awal"
      ],
      "metadata": {
        "id": "UyBI2Ec6b5gh"
      }
    },
    {
      "cell_type": "code",
      "source": [
        "#informasi df\n",
        "dfkopinfo = dfkopi.info()\n",
        "dfkopinfo"
      ],
      "metadata": {
        "colab": {
          "base_uri": "https://localhost:8080/"
        },
        "id": "pluCDeK2b8DH",
        "outputId": "105b0812-fb66-4136-de9c-ee1af245ac65"
      },
      "execution_count": null,
      "outputs": [
        {
          "output_type": "stream",
          "name": "stdout",
          "text": [
            "<class 'pandas.core.frame.DataFrame'>\n",
            "RangeIndex: 60 entries, 0 to 59\n",
            "Data columns (total 9 columns):\n",
            " #   Column            Non-Null Count  Dtype \n",
            "---  ------            --------------  ----- \n",
            " 0   id                60 non-null     int64 \n",
            " 1   variantName       59 non-null     object\n",
            " 2   message           60 non-null     object\n",
            " 3   productRating     60 non-null     int64 \n",
            " 4   reviewCreateTime  60 non-null     int64 \n",
            " 5   isAnonymous       60 non-null     bool  \n",
            " 6   user_fullName     60 non-null     object\n",
            " 7   user_url          32 non-null     object\n",
            " 8   totalLike         60 non-null     int64 \n",
            "dtypes: bool(1), int64(4), object(4)\n",
            "memory usage: 3.9+ KB\n"
          ]
        }
      ]
    },
    {
      "cell_type": "markdown",
      "source": [],
      "metadata": {
        "id": "_-wKu3cUhad1"
      }
    }
  ]
}