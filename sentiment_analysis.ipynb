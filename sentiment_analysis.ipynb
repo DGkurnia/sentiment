{
  "cells": [
    {
      "cell_type": "markdown",
      "metadata": {
        "id": "view-in-github",
        "colab_type": "text"
      },
      "source": [
        "<a href=\"https://colab.research.google.com/github/DGkurnia/sentiment/blob/main/sentiment_analysis.ipynb\" target=\"_parent\"><img src=\"https://colab.research.google.com/assets/colab-badge.svg\" alt=\"Open In Colab\"/></a>"
      ]
    },
    {
      "cell_type": "markdown",
      "metadata": {
        "id": "7suUFOzrjVxx"
      },
      "source": [
        "* Nama: Derfansyah Guswiranata Kurnia\n",
        "* Identitas Dicoding : dgkurnia\n",
        "* email dicoding : weerakurnia@gmail.com\n",
        "* Alamat: Jalan Malaka Hijau No 39 Perumahan Malaka Country Estate Jakarta Timur"
      ]
    },
    {
      "cell_type": "markdown",
      "metadata": {
        "id": "3AnRFiL8jh8u"
      },
      "source": [
        "#Pembaruan"
      ]
    },
    {
      "cell_type": "code",
      "execution_count": 1,
      "metadata": {
        "colab": {
          "base_uri": "https://localhost:8080/"
        },
        "id": "ULv0FPtkjj95",
        "outputId": "ce8e6e0c-e7f2-4239-f1c3-34454a0478a8"
      },
      "outputs": [
        {
          "output_type": "stream",
          "name": "stdout",
          "text": [
            "Get:1 http://security.ubuntu.com/ubuntu jammy-security InRelease [129 kB]\n",
            "Get:2 https://developer.download.nvidia.com/compute/cuda/repos/ubuntu2204/x86_64  InRelease [1,581 B]\n",
            "Get:3 https://cloud.r-project.org/bin/linux/ubuntu jammy-cran40/ InRelease [3,626 B]\n",
            "Get:4 https://r2u.stat.illinois.edu/ubuntu jammy InRelease [6,555 B]\n",
            "Hit:5 http://archive.ubuntu.com/ubuntu jammy InRelease\n",
            "Get:6 http://archive.ubuntu.com/ubuntu jammy-updates InRelease [128 kB]\n",
            "Get:7 http://security.ubuntu.com/ubuntu jammy-security/main amd64 Packages [2,561 kB]\n",
            "Hit:8 https://ppa.launchpadcontent.net/deadsnakes/ppa/ubuntu jammy InRelease\n",
            "Hit:9 https://ppa.launchpadcontent.net/graphics-drivers/ppa/ubuntu jammy InRelease\n",
            "Get:10 http://security.ubuntu.com/ubuntu jammy-security/universe amd64 Packages [1,228 kB]\n",
            "Hit:11 https://ppa.launchpadcontent.net/ubuntugis/ppa/ubuntu jammy InRelease\n",
            "Get:12 http://archive.ubuntu.com/ubuntu jammy-backports InRelease [127 kB]\n",
            "Get:13 https://developer.download.nvidia.com/compute/cuda/repos/ubuntu2204/x86_64  Packages [1,283 kB]\n",
            "Get:14 https://r2u.stat.illinois.edu/ubuntu jammy/main all Packages [8,622 kB]\n",
            "Get:15 https://r2u.stat.illinois.edu/ubuntu jammy/main amd64 Packages [2,647 kB]\n",
            "Get:16 http://archive.ubuntu.com/ubuntu jammy-updates/universe amd64 Packages [1,520 kB]\n",
            "Get:17 http://archive.ubuntu.com/ubuntu jammy-updates/main amd64 Packages [2,861 kB]\n",
            "Get:18 http://archive.ubuntu.com/ubuntu jammy-backports/universe amd64 Packages [35.2 kB]\n",
            "Fetched 21.2 MB in 7s (3,231 kB/s)\n",
            "Reading package lists... Done\n",
            "W: Skipping acquire of configured file 'main/source/Sources' as repository 'https://r2u.stat.illinois.edu/ubuntu jammy InRelease' does not seem to provide it (sources.list entry misspelt?)\n"
          ]
        }
      ],
      "source": [
        "#perkembangan google colab\n",
        "!apt-get update"
      ]
    },
    {
      "cell_type": "code",
      "execution_count": 2,
      "metadata": {
        "colab": {
          "base_uri": "https://localhost:8080/"
        },
        "id": "C035kxFajoBp",
        "outputId": "317b6e68-0d47-45ff-fafd-4a9a3edbbf08"
      },
      "outputs": [
        {
          "output_type": "stream",
          "name": "stdout",
          "text": [
            "Requirement already satisfied: requests in /usr/local/lib/python3.11/dist-packages (2.32.3)\n",
            "Requirement already satisfied: pandas in /usr/local/lib/python3.11/dist-packages (2.2.2)\n",
            "Requirement already satisfied: charset-normalizer<4,>=2 in /usr/local/lib/python3.11/dist-packages (from requests) (3.4.1)\n",
            "Requirement already satisfied: idna<4,>=2.5 in /usr/local/lib/python3.11/dist-packages (from requests) (3.10)\n",
            "Requirement already satisfied: urllib3<3,>=1.21.1 in /usr/local/lib/python3.11/dist-packages (from requests) (2.3.0)\n",
            "Requirement already satisfied: certifi>=2017.4.17 in /usr/local/lib/python3.11/dist-packages (from requests) (2024.12.14)\n",
            "Requirement already satisfied: numpy>=1.23.2 in /usr/local/lib/python3.11/dist-packages (from pandas) (1.26.4)\n",
            "Requirement already satisfied: python-dateutil>=2.8.2 in /usr/local/lib/python3.11/dist-packages (from pandas) (2.8.2)\n",
            "Requirement already satisfied: pytz>=2020.1 in /usr/local/lib/python3.11/dist-packages (from pandas) (2024.2)\n",
            "Requirement already satisfied: tzdata>=2022.7 in /usr/local/lib/python3.11/dist-packages (from pandas) (2024.2)\n",
            "Requirement already satisfied: six>=1.5 in /usr/local/lib/python3.11/dist-packages (from python-dateutil>=2.8.2->pandas) (1.17.0)\n"
          ]
        }
      ],
      "source": [
        "#request dan pandas\n",
        "!pip install requests pandas"
      ]
    },
    {
      "cell_type": "code",
      "execution_count": 3,
      "metadata": {
        "colab": {
          "base_uri": "https://localhost:8080/"
        },
        "id": "DfyjO9Zajos_",
        "outputId": "2fa9ebe1-04e1-4ee8-f6df-23f827b6a80f"
      },
      "outputs": [
        {
          "output_type": "stream",
          "name": "stdout",
          "text": [
            "Collecting sastrawi\n",
            "  Downloading Sastrawi-1.0.1-py2.py3-none-any.whl.metadata (909 bytes)\n",
            "Downloading Sastrawi-1.0.1-py2.py3-none-any.whl (209 kB)\n",
            "\u001b[2K   \u001b[90m━━━━━━━━━━━━━━━━━━━━━━━━━━━━━━━━━━━━━━━━\u001b[0m \u001b[32m209.7/209.7 kB\u001b[0m \u001b[31m3.3 MB/s\u001b[0m eta \u001b[36m0:00:00\u001b[0m\n",
            "\u001b[?25hInstalling collected packages: sastrawi\n",
            "Successfully installed sastrawi-1.0.1\n"
          ]
        }
      ],
      "source": [
        "#instalasi sastarawi\n",
        "!pip install sastrawi"
      ]
    },
    {
      "cell_type": "code",
      "execution_count": 4,
      "metadata": {
        "colab": {
          "base_uri": "https://localhost:8080/"
        },
        "id": "KtTE3_R0jqxH",
        "outputId": "1b34dcb4-833c-4987-f4a4-d555668bb28e"
      },
      "outputs": [
        {
          "output_type": "stream",
          "name": "stdout",
          "text": [
            "Requirement already satisfied: wordcloud in /usr/local/lib/python3.11/dist-packages (1.9.4)\n",
            "Requirement already satisfied: numpy>=1.6.1 in /usr/local/lib/python3.11/dist-packages (from wordcloud) (1.26.4)\n",
            "Requirement already satisfied: pillow in /usr/local/lib/python3.11/dist-packages (from wordcloud) (11.1.0)\n",
            "Requirement already satisfied: matplotlib in /usr/local/lib/python3.11/dist-packages (from wordcloud) (3.10.0)\n",
            "Requirement already satisfied: contourpy>=1.0.1 in /usr/local/lib/python3.11/dist-packages (from matplotlib->wordcloud) (1.3.1)\n",
            "Requirement already satisfied: cycler>=0.10 in /usr/local/lib/python3.11/dist-packages (from matplotlib->wordcloud) (0.12.1)\n",
            "Requirement already satisfied: fonttools>=4.22.0 in /usr/local/lib/python3.11/dist-packages (from matplotlib->wordcloud) (4.55.3)\n",
            "Requirement already satisfied: kiwisolver>=1.3.1 in /usr/local/lib/python3.11/dist-packages (from matplotlib->wordcloud) (1.4.8)\n",
            "Requirement already satisfied: packaging>=20.0 in /usr/local/lib/python3.11/dist-packages (from matplotlib->wordcloud) (24.2)\n",
            "Requirement already satisfied: pyparsing>=2.3.1 in /usr/local/lib/python3.11/dist-packages (from matplotlib->wordcloud) (3.2.1)\n",
            "Requirement already satisfied: python-dateutil>=2.7 in /usr/local/lib/python3.11/dist-packages (from matplotlib->wordcloud) (2.8.2)\n",
            "Requirement already satisfied: six>=1.5 in /usr/local/lib/python3.11/dist-packages (from python-dateutil>=2.7->matplotlib->wordcloud) (1.17.0)\n"
          ]
        }
      ],
      "source": [
        "#instalasi wordcloud\n",
        "!pip install wordcloud"
      ]
    },
    {
      "cell_type": "code",
      "execution_count": 5,
      "metadata": {
        "colab": {
          "base_uri": "https://localhost:8080/"
        },
        "id": "2CNVjIdMjslQ",
        "outputId": "8bd494d2-cf97-444b-d309-748c1123256c"
      },
      "outputs": [
        {
          "output_type": "stream",
          "name": "stdout",
          "text": [
            "Collecting backoff\n",
            "  Downloading backoff-2.2.1-py3-none-any.whl.metadata (14 kB)\n",
            "Requirement already satisfied: aiohttp in /usr/local/lib/python3.11/dist-packages (3.11.11)\n",
            "Requirement already satisfied: aiohappyeyeballs>=2.3.0 in /usr/local/lib/python3.11/dist-packages (from aiohttp) (2.4.4)\n",
            "Requirement already satisfied: aiosignal>=1.1.2 in /usr/local/lib/python3.11/dist-packages (from aiohttp) (1.3.2)\n",
            "Requirement already satisfied: attrs>=17.3.0 in /usr/local/lib/python3.11/dist-packages (from aiohttp) (24.3.0)\n",
            "Requirement already satisfied: frozenlist>=1.1.1 in /usr/local/lib/python3.11/dist-packages (from aiohttp) (1.5.0)\n",
            "Requirement already satisfied: multidict<7.0,>=4.5 in /usr/local/lib/python3.11/dist-packages (from aiohttp) (6.1.0)\n",
            "Requirement already satisfied: propcache>=0.2.0 in /usr/local/lib/python3.11/dist-packages (from aiohttp) (0.2.1)\n",
            "Requirement already satisfied: yarl<2.0,>=1.17.0 in /usr/local/lib/python3.11/dist-packages (from aiohttp) (1.18.3)\n",
            "Requirement already satisfied: idna>=2.0 in /usr/local/lib/python3.11/dist-packages (from yarl<2.0,>=1.17.0->aiohttp) (3.10)\n",
            "Downloading backoff-2.2.1-py3-none-any.whl (15 kB)\n",
            "Installing collected packages: backoff\n",
            "Successfully installed backoff-2.2.1\n"
          ]
        }
      ],
      "source": [
        "#instalasi backoff\n",
        "!pip install backoff aiohttp"
      ]
    },
    {
      "cell_type": "markdown",
      "metadata": {
        "id": "LxPd4fN1jfJW"
      },
      "source": [
        "# Impor Perpustakaan"
      ]
    },
    {
      "cell_type": "code",
      "execution_count": 6,
      "metadata": {
        "colab": {
          "base_uri": "https://localhost:8080/"
        },
        "id": "_c2y7rAEjU13",
        "outputId": "28439db3-ba88-46a9-d542-580c8b3f97fc"
      },
      "outputs": [
        {
          "output_type": "stream",
          "name": "stdout",
          "text": [
            "Mounted at /content/drive\n"
          ]
        }
      ],
      "source": [
        "#untuk akses ke google drive (bila diperlukan)\n",
        "from google.colab import drive\n",
        "drive.mount('/content/drive')"
      ]
    },
    {
      "cell_type": "code",
      "execution_count": 7,
      "metadata": {
        "id": "aPT6MeMekPHN"
      },
      "outputs": [],
      "source": [
        "#instalasi perpustakaan\n",
        "import requests\n",
        "import json\n",
        "#Bagian Pandas\n",
        "import pandas as pd\n",
        "pd.options.mode.chained_assignment = None #pengaturan peringatan 'rantai'\n",
        "import csv\n",
        "#ke manajemen"
      ]
    },
    {
      "cell_type": "code",
      "execution_count": 8,
      "metadata": {
        "id": "5_nLfEynspBP"
      },
      "outputs": [],
      "source": [
        "#manajemen data dasar\n",
        "import numpy as np\n",
        "seed = 0 #reprodubilitas\n",
        "np.random.seed(seed)\n",
        "#ke plt"
      ]
    },
    {
      "cell_type": "code",
      "execution_count": 9,
      "metadata": {
        "id": "RO0Afrrp1qcK"
      },
      "outputs": [],
      "source": [
        "#Bagian plt\n",
        "import matplotlib.pyplot as plt\n",
        "import datetime as dt #jika ada tanggal\n",
        "#perpustakaan untuk interpolasi\n",
        "from scipy.interpolate import interp1d\n",
        "#waktu\n",
        "import time\n",
        "#ke sastawi, NLTK, dan wordcloud"
      ]
    },
    {
      "cell_type": "code",
      "execution_count": 10,
      "metadata": {
        "id": "-oTyyXcNzZrb"
      },
      "outputs": [],
      "source": [
        "#Sastrawi\n",
        "from Sastrawi.Stemmer.StemmerFactory import StemmerFactory #bagian 'stemmer factory'\n",
        "from Sastrawi.StopWordRemover.StopWordRemoverFactory import StopWordRemoverFactory"
      ]
    },
    {
      "cell_type": "code",
      "execution_count": 11,
      "metadata": {
        "colab": {
          "base_uri": "https://localhost:8080/"
        },
        "id": "zm35BZETkTac",
        "outputId": "2af5deb3-bd6a-406f-cd3c-857c5e49758d"
      },
      "outputs": [
        {
          "output_type": "stream",
          "name": "stderr",
          "text": [
            "[nltk_data] Downloading package punkt to /root/nltk_data...\n",
            "[nltk_data]   Unzipping tokenizers/punkt.zip.\n",
            "[nltk_data] Downloading package stopwords to /root/nltk_data...\n",
            "[nltk_data]   Unzipping corpora/stopwords.zip.\n"
          ]
        }
      ],
      "source": [
        "#sastrawi dan NITK [NITK]\n",
        "import nltk  # Import pustaka NLTK (Natural Language Toolkit).\n",
        "nltk.download('punkt')  # Mengunduh dataset yang diperlukan untuk tokenisasi teks.\n",
        "nltk.download('stopwords')  # Mengunduh dataset yang berisi daftar kata-kata berhenti (stopwords) dalam berbagai bahasa.\n",
        "from nltk.corpus import stopwords  # Mengimpor modul stopwords dari pustaka NLTK.\n",
        "from nltk.tokenize import word_tokenize  # Mengimpor fungsi word_tokenize dari modul tokenize dalam pustaka NLTK.\n",
        "\n",
        "#impor wordcloud\n",
        "from wordcloud import WordCloud  # Membuat visualisasi berbentuk awan kata (word cloud) dari teks\n",
        "#ke sastrawi"
      ]
    },
    {
      "cell_type": "markdown",
      "metadata": {
        "id": "mjkcDEu-0m1k"
      },
      "source": [
        "### Impor Teknik"
      ]
    },
    {
      "cell_type": "code",
      "execution_count": 12,
      "metadata": {
        "id": "5N-FErpM0wrh"
      },
      "outputs": [],
      "source": [
        "#pemisahan data dengan 'train test split'\n",
        "from sklearn.model_selection import train_test_split"
      ]
    },
    {
      "cell_type": "code",
      "execution_count": 13,
      "metadata": {
        "id": "zvvDyt4XtVbN"
      },
      "outputs": [],
      "source": [
        "#Teknik untuk inspeksi: perpustakaan untuk klasifikasi\n",
        "from sklearn.ensemble import RandomForestClassifier as rfclasifi #teknik 'randomfprest'\n",
        "from sklearn.tree import DecisionTreeClassifier #teknik 'keputusan'\n",
        "from sklearn.svm import SVC #teknik SVC\n",
        "from sklearn.linear_model import LogisticRegression"
      ]
    },
    {
      "cell_type": "code",
      "execution_count": 14,
      "metadata": {
        "id": "rhwbdken0be8"
      },
      "outputs": [],
      "source": [
        "#Bagian re IO bentuk string\n",
        "import re\n",
        "from io import StringIO"
      ]
    },
    {
      "cell_type": "code",
      "execution_count": 15,
      "metadata": {
        "id": "ksC2L9dU0pIv"
      },
      "outputs": [],
      "source": [
        "#metrik penilaian (akurasi, lenyap/loss, nilai f1, nilai recall)\n",
        "from sklearn.metrics import accuracy_score, precision_score, recall_score, f1_score"
      ]
    },
    {
      "cell_type": "markdown",
      "metadata": {
        "id": "VBwWST5ktCFB"
      },
      "source": [
        "#Persiapan Ekstraksi situs"
      ]
    },
    {
      "cell_type": "markdown",
      "metadata": {
        "id": "lDc1vrfCtElA"
      },
      "source": [
        "##Pendaftaran situs"
      ]
    },
    {
      "cell_type": "code",
      "execution_count": 16,
      "metadata": {
        "id": "WBcZhmXntGTz"
      },
      "outputs": [],
      "source": [
        "#deklarasi 'URL target' dan asal URL\n",
        "turldoma = 'https://gql.tokopedia.com/graphql/productReviewList'\n",
        "asal = 'https://www.tokopedia.com' #semua dari Tokopedia\n",
        "#ke pendaftaran URL"
      ]
    },
    {
      "cell_type": "code",
      "execution_count": 17,
      "metadata": {
        "id": "KySFWJx5t2h5"
      },
      "outputs": [],
      "source": [
        "\"\"\"\n",
        "#Daftar 'URL referensi' dan 'cookie' di Tokopedia\n",
        "#daftar URL referensi\n",
        "\"\"\"\n",
        "urllist = [\"https://www.tokopedia.com/erigo/kemeja-unisex-erigo-short-shirt-jazlyn-black-jazlyn-black-s/review\", \"https://www.tokopedia.com/erigo/kemeja-unisex-erigo-short-shirt-gribson-rayon-navy-s/review\",\n",
        "\"https://www.tokopedia.com/erigo/kemeja-unisex-erigo-short-shirt-lavrenti-white-lavrenti-white-s/review\", \"https://www.tokopedia.com/erigo/kemeja-unisex-erigo-short-shirt-nessie-dark-green-s/review\",\n",
        "\"https://www.tokopedia.com/erigo/kemeja-unisex-erigo-short-shirt-gruney-katun-red-m/review\", \"https://www.tokopedia.com/erigo/kaos-erigo-t-shirt-oversize-antelope-cotton-combed-black-m/review\"]\n",
        "#ke cookie"
      ]
    },
    {
      "cell_type": "code",
      "source": [
        "#pendaftaran cookie (dari atas ke bawah: a,b,c,d,e,f)\n",
        "\"\"\"\n",
        "cooklist = [\"_UUID_NONLOGIN_=1be9d5e19945cd39ace4288e4df11d97; _UUID_NONLOGIN_.sig=bMaPjt3Ge3Az_etBinByCA2l1rk; _SID_Tokopedia_=DtlRcaR45Ls8u2zR0EyWMaCwIb-lKujUkDrfjGHXD-LOu-8fCzNx6wcE7ORneoiESvjPzMmhkVKp_432p8WHLsvpD-z9xgx1tmq-zHGi5wycyVr7_qPcLfop7H6iXdPJ; DID=c2f41feb0dd15c191936312af3fa4e2422dd2c3bbb9f3e9541c1776d147235161cfabfb1c97d136b51b6dbc495b1e623; DID_JS=YzJmNDFmZWIwZGQxNWMxOTE5MzYzMTJhZjNmYTRlMjQyMmRkMmMzYmJiOWYzZTk1NDFjMTc3NmQxNDcyMzUxNjFjZmFiZmIxYzk3ZDEzNmI1MWI2ZGJjNDk1YjFlNjIz47DEQpj8HBSa+/TImW+5JCeuQeRkm5NMpJWZG3hSuFU=; _gid=GA1.2.306711698.1737673189; _gcl_au=1.1.1226888024.1737673189; ak_bmsc=F9D6DDE8942BCC4E03713784C42C8052~000000000000000000000000000000~YAAQ5i2pyvOT/5SUAQAANaZklRrhCMh7MdRKtpAkAT/TwhoJpym+giJyrAuJTOGNv+ohla9ReoK+hsgALoV7fD+GGPan21FmvmDA3Jpz1l+G8VPziqy9CfJ5rLLAcar24GlhvuIuN92yOa61cj6XP1wtwpdn2F6mYFZXvbU7QcT0+eqWjBmUDXFDkVs8D1GD5gAjSJD/VDtaRCf0prWFs3kOg16XYNTSegCScJ8Kv8L2UGkEG/B5FhTlwwIu6FzVCQW6M3ZdH3GUGgiUzL5ytrBlQyOvov2YVLwyZwAw37LCLDtbeeHV8RQTdwIHrjrzsz0Fue1Ji3/Wev90Tdl/wVsDzmZP4TISuaW9AcjIMLD3ST2Uc4pA6EulACQadieVuL3tPeZmySNEvZre0qT1ax20YjNqlWsd6eb8I0N3EphQ0QwozUoEbUNJO17X4ba/RRpGoj8tZ7JGCvF+Ga9q; _tt_enable_cookie=1; _ttp=_IQX8m81OgCxhAo11C3x8JEYJOn.tt.1; AMP_TOKEN=%24NOT_FOUND; TOPATK=ReLaxbN0Sma8Hy5pndRT5w; l=1; tuid=39275554; gec_id=168687219962298048; uidh=hQ343xlJhV8WFIBvzr8NcCaECmZcWRGgONmdJbMgjPA=; g_yolo_production=1; _hjSessionUser_714968=eyJpZCI6ImI2NWU2NDJkLWUzNjQtNWJkNS1iYmZlLTEwNmQ0NDFhMGYzMSIsImNyZWF0ZWQiOjE3Mzc2NzMxOTU0OTQsImV4aXN0aW5nIjpmYWxzZX0=; _hjSession_714968=eyJpZCI6ImVkMDdhZTczLTgzZmQtNDJiZS1iN2FlLTU0ZWEzMGVkMWRmMiIsImMiOjE3Mzc2NzMxOTU0OTUsInMiOjEsInIiOjAsInNiIjowLCJzciI6MCwic2UiOjAsImZzIjoxfQ==; FPF=1; uide=5qQ0pbbCxjoGja6Ax6qAQqJlBFCD/TpsLQvYJ5OPxJSbNnPv; _abck=9D01A68AF9735B44B661F7443776CBFC~0~YAAQCOnOF74i9I6UAQAA3fVklQ2RZncTh0GbsOGuOQhk8j87LPzIjovZ0eQzg5ndulVy7y1ZXGxKtJvvUbnmcJojUcEmmxgZLEeB07lgwLRCszxmuNAKrT/My+TBhAwTqXEqvinKZAU/jkBOPmYZZnzCMSAs1b2UM18wmrGUEXFCTtvqlZaNH5SyL5nJr39C8pYVdXQi0zs8gz5LOsxNlrKzpZ3mZiB6lOFDSgsXcZZ26pASD6Sc+FggZmDmrg7xaw5OonWfFs8I2MnhcJl9JnVHC+V5ZRAGsVhpBx8C1+aVQygF2Ran9DVqbI0szhLr++eeFSXbVLVKEnd28i0TeKOi258YEzQ8zUkXnfzXIhdh6SzfQ9SWE9mNoqM2Zza5411V7C+G55fMxN4ch4UapD+wP6RW8i/fbzajbhwZ8L90yOWFIjJNAwlSicNbi1DsLBe/6GMQPUWGSoa6DKFb5YRTVnQDws/iIwhxWtCd2ssOjXRrP/2+E2EEgaLuXvsZwZa7GDhtrhR7sOiYwGaZushVD8mVIS4BNvttUfUbOvFd8+Eumt1loi5KGmF887ayJLy2KXrgw3ZdpR/a7v0uIjdonfr2CRjFIKnanBfrBVTIPMK/K7JcqzzWXrtEpyj/NATBCkDC/kBFxe/xT7aVwzRPODrKV6pmUBmO0SFnJBz/0zKQ3gSzdmxhGQCCE68NhWOVpU0Fa72yDjNafa8=~-1~-1~-1; aus=1; _CASE_=7821624a672139213537363632303b37212f21604a67213932343b2f21674a67213931313a312f216f567367213921313331362e33322e3137573335393333393233283334393333212f216f62772139212e352d3131373433353a212f216f616f2139216e626f62686223606c6d77717a2366707762776623746a7162212f216f6c6d642139213233352d3a3733323436212f2173406c2139213230373533212f21704a67213932323630333634302f2170577a73662139216c6c60212f21744a672139332f21746b70213921585e212f21746b7070213921585e217e; _UUID_CAS_=80e2035b-0ec3-49de-9c32-8100f3d1a615; bm_sz=3CE7B2902701DC0811ED7846832A24AA~YAAQ5i2pyp6n/5SUAQAAbWB1lRozF/IxrbIMwpg86iHC/H7y3/yVRvDgxJibonZ/tuwlVJt0SOyw+VN7SOgqwBayG3Uj9/mPaQQf8YeUoWktS/DJXRUeOQXLNewrTFcqLxKCtpgWMGWx1uGRXNgbyZ11FvsVaQbNWnQ++hW4WoBOPQx15a/snrkNz7W6azb9ekdZNh0RGquEYp7PgQEe2czOQY9NppbVum8H0gV9j/78PDbyMo6JQB4QRv+TBpz16YWULhwO/QiNkJP8w1TLhAcIMT6b/K2La+RHl73HPxSubIKFEdl1bG7IvI7hK208NdsDxYgf5K2/Ll8Djxo/o9ggbJeAj0D6I3FD4ksggJIJxzYM0/1R4Qk8g9OSDKmcjaH1weAspY+vOIj+oDhtxCDqnh6BjErFYPY/gYh5tAOTTfhHtKP+NfT/PWsKdzP/d2ioEqzZfKpZdV1bLyJC0Sa/wKUmxq/rGlFN1to=~3682608~3621682; bm_sv=0087E52D3BACBBB4877168E03A2371D6~YAAQ1i2pyvu2AJWUAQAAzRp4lRpsSK9Kq9IKEENQmF/NP0n81a4G9NW2z1k3l0EdQf8ZoypFgm3B1ftEaI4VqiM6tdlXanArsn4PVjfxjVZ37K08ajCP5hsWmqZnfgkbuPo27GCggtcgw7GC7PFKThXlJkMSawZfzEkjtIFYDoyLOXUoqnbDVarjt7IK99YGIXqrDFPs9DNyn7cqCegduQbkpKQth4SFdyMOJ17gugVxzx1GSsx+QcR1Qtfa9Mcf2mme~1; _dc_gtm_UA-126956641-6=1; _dc_gtm_UA-9801603-1=1; ISID=%7B%22www.tokopedia.com%22%3A%22d3d3LnRva29wZWRpYS5jb20%3D.85807bf8ab475413281ab9e18cc2d094.1737673188674.1737673188674.1737674925795.17%22%2C%22accounts.tokopedia.com%22%3A%22YWNjb3VudHMudG9rb3BlZGlhLmNvbQ%3D%3D.88577841d29294c228b61cfba507abab.1737673195280.1737673195280.1737673208276.1%22%7D; _ga_70947XW48P=GS1.1.1737673188.1.1.1737674925.57.0.0; _ga=GA1.1.108146749.1737673189; webauthn-session=231d1a0a-4caf-4293-8ee5-445a599b6786\",\n",
        "            \"_UUID_NONLOGIN_=1be9d5e19945cd39ace4288e4df11d97; _UUID_NONLOGIN_.sig=bMaPjt3Ge3Az_etBinByCA2l1rk; _SID_Tokopedia_=DtlRcaR45Ls8u2zR0EyWMaCwIb-lKujUkDrfjGHXD-LOu-8fCzNx6wcE7ORneoiESvjPzMmhkVKp_432p8WHLsvpD-z9xgx1tmq-zHGi5wycyVr7_qPcLfop7H6iXdPJ; DID=c2f41feb0dd15c191936312af3fa4e2422dd2c3bbb9f3e9541c1776d147235161cfabfb1c97d136b51b6dbc495b1e623; DID_JS=YzJmNDFmZWIwZGQxNWMxOTE5MzYzMTJhZjNmYTRlMjQyMmRkMmMzYmJiOWYzZTk1NDFjMTc3NmQxNDcyMzUxNjFjZmFiZmIxYzk3ZDEzNmI1MWI2ZGJjNDk1YjFlNjIz47DEQpj8HBSa+/TImW+5JCeuQeRkm5NMpJWZG3hSuFU=; _gid=GA1.2.306711698.1737673189; _gcl_au=1.1.1226888024.1737673189; ak_bmsc=F9D6DDE8942BCC4E03713784C42C8052~000000000000000000000000000000~YAAQ5i2pyvOT/5SUAQAANaZklRrhCMh7MdRKtpAkAT/TwhoJpym+giJyrAuJTOGNv+ohla9ReoK+hsgALoV7fD+GGPan21FmvmDA3Jpz1l+G8VPziqy9CfJ5rLLAcar24GlhvuIuN92yOa61cj6XP1wtwpdn2F6mYFZXvbU7QcT0+eqWjBmUDXFDkVs8D1GD5gAjSJD/VDtaRCf0prWFs3kOg16XYNTSegCScJ8Kv8L2UGkEG/B5FhTlwwIu6FzVCQW6M3ZdH3GUGgiUzL5ytrBlQyOvov2YVLwyZwAw37LCLDtbeeHV8RQTdwIHrjrzsz0Fue1Ji3/Wev90Tdl/wVsDzmZP4TISuaW9AcjIMLD3ST2Uc4pA6EulACQadieVuL3tPeZmySNEvZre0qT1ax20YjNqlWsd6eb8I0N3EphQ0QwozUoEbUNJO17X4ba/RRpGoj8tZ7JGCvF+Ga9q; _tt_enable_cookie=1; _ttp=_IQX8m81OgCxhAo11C3x8JEYJOn.tt.1; AMP_TOKEN=%24NOT_FOUND; TOPATK=ReLaxbN0Sma8Hy5pndRT5w; l=1; tuid=39275554; gec_id=168687219962298048; uidh=hQ343xlJhV8WFIBvzr8NcCaECmZcWRGgONmdJbMgjPA=; g_yolo_production=1; _hjSessionUser_714968=eyJpZCI6ImI2NWU2NDJkLWUzNjQtNWJkNS1iYmZlLTEwNmQ0NDFhMGYzMSIsImNyZWF0ZWQiOjE3Mzc2NzMxOTU0OTQsImV4aXN0aW5nIjpmYWxzZX0=; FPF=1; uide=5qQ0pbbCxjoGja6Ax6qAQqJlBFCD/TpsLQvYJ5OPxJSbNnPv; _abck=9D01A68AF9735B44B661F7443776CBFC~0~YAAQCOnOF74i9I6UAQAA3fVklQ2RZncTh0GbsOGuOQhk8j87LPzIjovZ0eQzg5ndulVy7y1ZXGxKtJvvUbnmcJojUcEmmxgZLEeB07lgwLRCszxmuNAKrT/My+TBhAwTqXEqvinKZAU/jkBOPmYZZnzCMSAs1b2UM18wmrGUEXFCTtvqlZaNH5SyL5nJr39C8pYVdXQi0zs8gz5LOsxNlrKzpZ3mZiB6lOFDSgsXcZZ26pASD6Sc+FggZmDmrg7xaw5OonWfFs8I2MnhcJl9JnVHC+V5ZRAGsVhpBx8C1+aVQygF2Ran9DVqbI0szhLr++eeFSXbVLVKEnd28i0TeKOi258YEzQ8zUkXnfzXIhdh6SzfQ9SWE9mNoqM2Zza5411V7C+G55fMxN4ch4UapD+wP6RW8i/fbzajbhwZ8L90yOWFIjJNAwlSicNbi1DsLBe/6GMQPUWGSoa6DKFb5YRTVnQDws/iIwhxWtCd2ssOjXRrP/2+E2EEgaLuXvsZwZa7GDhtrhR7sOiYwGaZushVD8mVIS4BNvttUfUbOvFd8+Eumt1loi5KGmF887ayJLy2KXrgw3ZdpR/a7v0uIjdonfr2CRjFIKnanBfrBVTIPMK/K7JcqzzWXrtEpyj/NATBCkDC/kBFxe/xT7aVwzRPODrKV6pmUBmO0SFnJBz/0zKQ3gSzdmxhGQCCE68NhWOVpU0Fa72yDjNafa8=~-1~-1~-1; aus=1; _CASE_=7821624a672139213537363632303b37212f21604a67213932343b2f21674a67213931313a312f216f567367213921313331362e33322e3137573335393333393233283334393333212f216f62772139212e352d3131373433353a212f216f616f2139216e626f62686223606c6d77717a2366707762776623746a7162212f216f6c6d642139213233352d3a3733323436212f2173406c2139213230373533212f21704a67213932323630333634302f2170577a73662139216c6c60212f21744a672139332f21746b70213921585e212f21746b7070213921585e217e; _UUID_CAS_=80e2035b-0ec3-49de-9c32-8100f3d1a615; bm_sz=3CE7B2902701DC0811ED7846832A24AA~YAAQ5i2pyp6n/5SUAQAAbWB1lRozF/IxrbIMwpg86iHC/H7y3/yVRvDgxJibonZ/tuwlVJt0SOyw+VN7SOgqwBayG3Uj9/mPaQQf8YeUoWktS/DJXRUeOQXLNewrTFcqLxKCtpgWMGWx1uGRXNgbyZ11FvsVaQbNWnQ++hW4WoBOPQx15a/snrkNz7W6azb9ekdZNh0RGquEYp7PgQEe2czOQY9NppbVum8H0gV9j/78PDbyMo6JQB4QRv+TBpz16YWULhwO/QiNkJP8w1TLhAcIMT6b/K2La+RHl73HPxSubIKFEdl1bG7IvI7hK208NdsDxYgf5K2/Ll8Djxo/o9ggbJeAj0D6I3FD4ksggJIJxzYM0/1R4Qk8g9OSDKmcjaH1weAspY+vOIj+oDhtxCDqnh6BjErFYPY/gYh5tAOTTfhHtKP+NfT/PWsKdzP/d2ioEqzZfKpZdV1bLyJC0Sa/wKUmxq/rGlFN1to=~3682608~3621682; _dc_gtm_UA-126956641-6=1; _dc_gtm_UA-9801603-1=1; bm_sv=0087E52D3BACBBB4877168E03A2371D6~YAAQ1i2pyjjOAJWUAQAAtGaAlRpbTEBP9/HiKaOsYGziDZVk9jU6zEqoEoWY+MZYyAYSDo4mqT5sAxyJ21PWDFu8Mr1AUp+ISb/kJ2/4XVKxu2h9jxp79rj2Do4zGKQLJTOddP4KyIsjj3MsmAAgT5rJfAH0EwEBita1VzOs+Wnf72V27hw6ijN2PPIvZ+uiWklUBeoTIG84ZdY0n/Ez/JM59vEsSKHXG8N8RBWpKzcaEoZSuZZXXlZGA1FPpBC3dEnC~1; ISID=%7B%22www.tokopedia.com%22%3A%22d3d3LnRva29wZWRpYS5jb20%3D.85807bf8ab475413281ab9e18cc2d094.1737673188674.1737673188674.1737675011304.19%22%2C%22accounts.tokopedia.com%22%3A%22YWNjb3VudHMudG9rb3BlZGlhLmNvbQ%3D%3D.88577841d29294c228b61cfba507abab.1737673195280.1737673195280.1737673208276.1%22%7D; _ga_70947XW48P=GS1.1.1737673188.1.1.1737675011.55.0.0; _ga=GA1.1.108146749.1737673189; webauthn-session=b6a6fad4-1d28-40d4-a059-e96aeb37c794\",\n",
        "            \"_UUID_NONLOGIN_=1be9d5e19945cd39ace4288e4df11d97; _UUID_NONLOGIN_.sig=bMaPjt3Ge3Az_etBinByCA2l1rk; _SID_Tokopedia_=DtlRcaR45Ls8u2zR0EyWMaCwIb-lKujUkDrfjGHXD-LOu-8fCzNx6wcE7ORneoiESvjPzMmhkVKp_432p8WHLsvpD-z9xgx1tmq-zHGi5wycyVr7_qPcLfop7H6iXdPJ; DID=c2f41feb0dd15c191936312af3fa4e2422dd2c3bbb9f3e9541c1776d147235161cfabfb1c97d136b51b6dbc495b1e623; DID_JS=YzJmNDFmZWIwZGQxNWMxOTE5MzYzMTJhZjNmYTRlMjQyMmRkMmMzYmJiOWYzZTk1NDFjMTc3NmQxNDcyMzUxNjFjZmFiZmIxYzk3ZDEzNmI1MWI2ZGJjNDk1YjFlNjIz47DEQpj8HBSa+/TImW+5JCeuQeRkm5NMpJWZG3hSuFU=; _gid=GA1.2.306711698.1737673189; _gcl_au=1.1.1226888024.1737673189; ak_bmsc=F9D6DDE8942BCC4E03713784C42C8052~000000000000000000000000000000~YAAQ5i2pyvOT/5SUAQAANaZklRrhCMh7MdRKtpAkAT/TwhoJpym+giJyrAuJTOGNv+ohla9ReoK+hsgALoV7fD+GGPan21FmvmDA3Jpz1l+G8VPziqy9CfJ5rLLAcar24GlhvuIuN92yOa61cj6XP1wtwpdn2F6mYFZXvbU7QcT0+eqWjBmUDXFDkVs8D1GD5gAjSJD/VDtaRCf0prWFs3kOg16XYNTSegCScJ8Kv8L2UGkEG/B5FhTlwwIu6FzVCQW6M3ZdH3GUGgiUzL5ytrBlQyOvov2YVLwyZwAw37LCLDtbeeHV8RQTdwIHrjrzsz0Fue1Ji3/Wev90Tdl/wVsDzmZP4TISuaW9AcjIMLD3ST2Uc4pA6EulACQadieVuL3tPeZmySNEvZre0qT1ax20YjNqlWsd6eb8I0N3EphQ0QwozUoEbUNJO17X4ba/RRpGoj8tZ7JGCvF+Ga9q; _tt_enable_cookie=1; _ttp=_IQX8m81OgCxhAo11C3x8JEYJOn.tt.1; AMP_TOKEN=%24NOT_FOUND; TOPATK=ReLaxbN0Sma8Hy5pndRT5w; l=1; tuid=39275554; gec_id=168687219962298048; uidh=hQ343xlJhV8WFIBvzr8NcCaECmZcWRGgONmdJbMgjPA=; g_yolo_production=1; _hjSessionUser_714968=eyJpZCI6ImI2NWU2NDJkLWUzNjQtNWJkNS1iYmZlLTEwNmQ0NDFhMGYzMSIsImNyZWF0ZWQiOjE3Mzc2NzMxOTU0OTQsImV4aXN0aW5nIjpmYWxzZX0=; FPF=1; uide=5qQ0pbbCxjoGja6Ax6qAQqJlBFCD/TpsLQvYJ5OPxJSbNnPv; _abck=9D01A68AF9735B44B661F7443776CBFC~0~YAAQCOnOF74i9I6UAQAA3fVklQ2RZncTh0GbsOGuOQhk8j87LPzIjovZ0eQzg5ndulVy7y1ZXGxKtJvvUbnmcJojUcEmmxgZLEeB07lgwLRCszxmuNAKrT/My+TBhAwTqXEqvinKZAU/jkBOPmYZZnzCMSAs1b2UM18wmrGUEXFCTtvqlZaNH5SyL5nJr39C8pYVdXQi0zs8gz5LOsxNlrKzpZ3mZiB6lOFDSgsXcZZ26pASD6Sc+FggZmDmrg7xaw5OonWfFs8I2MnhcJl9JnVHC+V5ZRAGsVhpBx8C1+aVQygF2Ran9DVqbI0szhLr++eeFSXbVLVKEnd28i0TeKOi258YEzQ8zUkXnfzXIhdh6SzfQ9SWE9mNoqM2Zza5411V7C+G55fMxN4ch4UapD+wP6RW8i/fbzajbhwZ8L90yOWFIjJNAwlSicNbi1DsLBe/6GMQPUWGSoa6DKFb5YRTVnQDws/iIwhxWtCd2ssOjXRrP/2+E2EEgaLuXvsZwZa7GDhtrhR7sOiYwGaZushVD8mVIS4BNvttUfUbOvFd8+Eumt1loi5KGmF887ayJLy2KXrgw3ZdpR/a7v0uIjdonfr2CRjFIKnanBfrBVTIPMK/K7JcqzzWXrtEpyj/NATBCkDC/kBFxe/xT7aVwzRPODrKV6pmUBmO0SFnJBz/0zKQ3gSzdmxhGQCCE68NhWOVpU0Fa72yDjNafa8=~-1~-1~-1; aus=1; _CASE_=7821624a672139213537363632303b37212f21604a67213932343b2f21674a67213931313a312f216f567367213921313331362e33322e3137573335393333393233283334393333212f216f62772139212e352d3131373433353a212f216f616f2139216e626f62686223606c6d77717a2366707762776623746a7162212f216f6c6d642139213233352d3a3733323436212f2173406c2139213230373533212f21704a67213932323630333634302f2170577a73662139216c6c60212f21744a672139332f21746b70213921585e212f21746b7070213921585e217e; _UUID_CAS_=80e2035b-0ec3-49de-9c32-8100f3d1a615; bm_sz=3CE7B2902701DC0811ED7846832A24AA~YAAQ5i2pyp6n/5SUAQAAbWB1lRozF/IxrbIMwpg86iHC/H7y3/yVRvDgxJibonZ/tuwlVJt0SOyw+VN7SOgqwBayG3Uj9/mPaQQf8YeUoWktS/DJXRUeOQXLNewrTFcqLxKCtpgWMGWx1uGRXNgbyZ11FvsVaQbNWnQ++hW4WoBOPQx15a/snrkNz7W6azb9ekdZNh0RGquEYp7PgQEe2czOQY9NppbVum8H0gV9j/78PDbyMo6JQB4QRv+TBpz16YWULhwO/QiNkJP8w1TLhAcIMT6b/K2La+RHl73HPxSubIKFEdl1bG7IvI7hK208NdsDxYgf5K2/Ll8Djxo/o9ggbJeAj0D6I3FD4ksggJIJxzYM0/1R4Qk8g9OSDKmcjaH1weAspY+vOIj+oDhtxCDqnh6BjErFYPY/gYh5tAOTTfhHtKP+NfT/PWsKdzP/d2ioEqzZfKpZdV1bLyJC0Sa/wKUmxq/rGlFN1to=~3682608~3621682; bm_sv=0087E52D3BACBBB4877168E03A2371D6~YAAQ1i2pyjjOAJWUAQAAtGaAlRpbTEBP9/HiKaOsYGziDZVk9jU6zEqoEoWY+MZYyAYSDo4mqT5sAxyJ21PWDFu8Mr1AUp+ISb/kJ2/4XVKxu2h9jxp79rj2Do4zGKQLJTOddP4KyIsjj3MsmAAgT5rJfAH0EwEBita1VzOs+Wnf72V27hw6ijN2PPIvZ+uiWklUBeoTIG84ZdY0n/Ez/JM59vEsSKHXG8N8RBWpKzcaEoZSuZZXXlZGA1FPpBC3dEnC~1; _dc_gtm_UA-126956641-6=1; _dc_gtm_UA-9801603-1=1; ISID=%7B%22www.tokopedia.com%22%3A%22d3d3LnRva29wZWRpYS5jb20%3D.85807bf8ab475413281ab9e18cc2d094.1737673188674.1737673188674.1737675112541.21%22%2C%22accounts.tokopedia.com%22%3A%22YWNjb3VudHMudG9rb3BlZGlhLmNvbQ%3D%3D.88577841d29294c228b61cfba507abab.1737673195280.1737673195280.1737673208276.1%22%7D; _ga_70947XW48P=GS1.1.1737673188.1.1.1737675112.19.0.0; _ga=GA1.1.108146749.1737673189; webauthn-session=db5340ce-e46c-4570-8ff2-eea15fef8204\",\n",
        "            \"_UUID_NONLOGIN_=1be9d5e19945cd39ace4288e4df11d97; _UUID_NONLOGIN_.sig=bMaPjt3Ge3Az_etBinByCA2l1rk; _SID_Tokopedia_=DtlRcaR45Ls8u2zR0EyWMaCwIb-lKujUkDrfjGHXD-LOu-8fCzNx6wcE7ORneoiESvjPzMmhkVKp_432p8WHLsvpD-z9xgx1tmq-zHGi5wycyVr7_qPcLfop7H6iXdPJ; DID=c2f41feb0dd15c191936312af3fa4e2422dd2c3bbb9f3e9541c1776d147235161cfabfb1c97d136b51b6dbc495b1e623; DID_JS=YzJmNDFmZWIwZGQxNWMxOTE5MzYzMTJhZjNmYTRlMjQyMmRkMmMzYmJiOWYzZTk1NDFjMTc3NmQxNDcyMzUxNjFjZmFiZmIxYzk3ZDEzNmI1MWI2ZGJjNDk1YjFlNjIz47DEQpj8HBSa+/TImW+5JCeuQeRkm5NMpJWZG3hSuFU=; _gid=GA1.2.306711698.1737673189; _gcl_au=1.1.1226888024.1737673189; ak_bmsc=F9D6DDE8942BCC4E03713784C42C8052~000000000000000000000000000000~YAAQ5i2pyvOT/5SUAQAANaZklRrhCMh7MdRKtpAkAT/TwhoJpym+giJyrAuJTOGNv+ohla9ReoK+hsgALoV7fD+GGPan21FmvmDA3Jpz1l+G8VPziqy9CfJ5rLLAcar24GlhvuIuN92yOa61cj6XP1wtwpdn2F6mYFZXvbU7QcT0+eqWjBmUDXFDkVs8D1GD5gAjSJD/VDtaRCf0prWFs3kOg16XYNTSegCScJ8Kv8L2UGkEG/B5FhTlwwIu6FzVCQW6M3ZdH3GUGgiUzL5ytrBlQyOvov2YVLwyZwAw37LCLDtbeeHV8RQTdwIHrjrzsz0Fue1Ji3/Wev90Tdl/wVsDzmZP4TISuaW9AcjIMLD3ST2Uc4pA6EulACQadieVuL3tPeZmySNEvZre0qT1ax20YjNqlWsd6eb8I0N3EphQ0QwozUoEbUNJO17X4ba/RRpGoj8tZ7JGCvF+Ga9q; _tt_enable_cookie=1; _ttp=_IQX8m81OgCxhAo11C3x8JEYJOn.tt.1; AMP_TOKEN=%24NOT_FOUND; TOPATK=ReLaxbN0Sma8Hy5pndRT5w; l=1; tuid=39275554; gec_id=168687219962298048; uidh=hQ343xlJhV8WFIBvzr8NcCaECmZcWRGgONmdJbMgjPA=; g_yolo_production=1; _hjSessionUser_714968=eyJpZCI6ImI2NWU2NDJkLWUzNjQtNWJkNS1iYmZlLTEwNmQ0NDFhMGYzMSIsImNyZWF0ZWQiOjE3Mzc2NzMxOTU0OTQsImV4aXN0aW5nIjpmYWxzZX0=; FPF=1; uide=5qQ0pbbCxjoGja6Ax6qAQqJlBFCD/TpsLQvYJ5OPxJSbNnPv; _abck=9D01A68AF9735B44B661F7443776CBFC~0~YAAQCOnOF74i9I6UAQAA3fVklQ2RZncTh0GbsOGuOQhk8j87LPzIjovZ0eQzg5ndulVy7y1ZXGxKtJvvUbnmcJojUcEmmxgZLEeB07lgwLRCszxmuNAKrT/My+TBhAwTqXEqvinKZAU/jkBOPmYZZnzCMSAs1b2UM18wmrGUEXFCTtvqlZaNH5SyL5nJr39C8pYVdXQi0zs8gz5LOsxNlrKzpZ3mZiB6lOFDSgsXcZZ26pASD6Sc+FggZmDmrg7xaw5OonWfFs8I2MnhcJl9JnVHC+V5ZRAGsVhpBx8C1+aVQygF2Ran9DVqbI0szhLr++eeFSXbVLVKEnd28i0TeKOi258YEzQ8zUkXnfzXIhdh6SzfQ9SWE9mNoqM2Zza5411V7C+G55fMxN4ch4UapD+wP6RW8i/fbzajbhwZ8L90yOWFIjJNAwlSicNbi1DsLBe/6GMQPUWGSoa6DKFb5YRTVnQDws/iIwhxWtCd2ssOjXRrP/2+E2EEgaLuXvsZwZa7GDhtrhR7sOiYwGaZushVD8mVIS4BNvttUfUbOvFd8+Eumt1loi5KGmF887ayJLy2KXrgw3ZdpR/a7v0uIjdonfr2CRjFIKnanBfrBVTIPMK/K7JcqzzWXrtEpyj/NATBCkDC/kBFxe/xT7aVwzRPODrKV6pmUBmO0SFnJBz/0zKQ3gSzdmxhGQCCE68NhWOVpU0Fa72yDjNafa8=~-1~-1~-1; aus=1; _CASE_=7821624a672139213537363632303b37212f21604a67213932343b2f21674a67213931313a312f216f567367213921313331362e33322e3137573335393333393233283334393333212f216f62772139212e352d3131373433353a212f216f616f2139216e626f62686223606c6d77717a2366707762776623746a7162212f216f6c6d642139213233352d3a3733323436212f2173406c2139213230373533212f21704a67213932323630333634302f2170577a73662139216c6c60212f21744a672139332f21746b70213921585e212f21746b7070213921585e217e; _UUID_CAS_=80e2035b-0ec3-49de-9c32-8100f3d1a615; bm_sz=3CE7B2902701DC0811ED7846832A24AA~YAAQ5i2pyp6n/5SUAQAAbWB1lRozF/IxrbIMwpg86iHC/H7y3/yVRvDgxJibonZ/tuwlVJt0SOyw+VN7SOgqwBayG3Uj9/mPaQQf8YeUoWktS/DJXRUeOQXLNewrTFcqLxKCtpgWMGWx1uGRXNgbyZ11FvsVaQbNWnQ++hW4WoBOPQx15a/snrkNz7W6azb9ekdZNh0RGquEYp7PgQEe2czOQY9NppbVum8H0gV9j/78PDbyMo6JQB4QRv+TBpz16YWULhwO/QiNkJP8w1TLhAcIMT6b/K2La+RHl73HPxSubIKFEdl1bG7IvI7hK208NdsDxYgf5K2/Ll8Djxo/o9ggbJeAj0D6I3FD4ksggJIJxzYM0/1R4Qk8g9OSDKmcjaH1weAspY+vOIj+oDhtxCDqnh6BjErFYPY/gYh5tAOTTfhHtKP+NfT/PWsKdzP/d2ioEqzZfKpZdV1bLyJC0Sa/wKUmxq/rGlFN1to=~3682608~3621682; bm_sv=0087E52D3BACBBB4877168E03A2371D6~YAAQ1i2pyjjOAJWUAQAAtGaAlRpbTEBP9/HiKaOsYGziDZVk9jU6zEqoEoWY+MZYyAYSDo4mqT5sAxyJ21PWDFu8Mr1AUp+ISb/kJ2/4XVKxu2h9jxp79rj2Do4zGKQLJTOddP4KyIsjj3MsmAAgT5rJfAH0EwEBita1VzOs+Wnf72V27hw6ijN2PPIvZ+uiWklUBeoTIG84ZdY0n/Ez/JM59vEsSKHXG8N8RBWpKzcaEoZSuZZXXlZGA1FPpBC3dEnC~1; _dc_gtm_UA-126956641-6=1; _dc_gtm_UA-9801603-1=1; ISID=%7B%22www.tokopedia.com%22%3A%22d3d3LnRva29wZWRpYS5jb20%3D.85807bf8ab475413281ab9e18cc2d094.1737673188674.1737673188674.1737675229289.23%22%2C%22accounts.tokopedia.com%22%3A%22YWNjb3VudHMudG9rb3BlZGlhLmNvbQ%3D%3D.88577841d29294c228b61cfba507abab.1737673195280.1737673195280.1737673208276.1%22%7D; _ga_70947XW48P=GS1.1.1737673188.1.1.1737675229.48.0.0; _ga=GA1.1.108146749.1737673189; webauthn-session=2afacd32-857a-4612-8138-0f90f5fe16cc\",\n",
        "            \" _gcl_au=1.1.1639389662.1737713243; _UUID_NONLOGIN_=121bb529a74834442acf6c81b5e09f6c; hfv_banner=true; _gid=GA1.2.1683694316.1737713243; _SID_Tokopedia_=DaTj-m583Yd83uszVV1bpFMY5f6kxR6OtaXytjTmvr48DJKl-hmDxy2KuwFe8kRaiHQ_Gwu5BAxSJqUUomOSlErgNxDiT6ZCByLuwn_ti43GZbXJ5vDVVxcHBbuTI_ne; DID=4b056bb420287f9ec4ae4848579bbb0551e0e7338740a5ac0ea671abdc8f10f1d4c55c9d04876bf416c20a99a5f6e2f3; DID_JS=NGIwNTZiYjQyMDI4N2Y5ZWM0YWU0ODQ4NTc5YmJiMDU1MWUwZTczMzg3NDBhNWFjMGVhNjcxYWJkYzhmMTBmMWQ0YzU1YzlkMDQ4NzZiZjQxNmMyMGE5OWE1ZjZlMmYz47DEQpj8HBSa+/TImW+5JCeuQeRkm5NMpJWZG3hSuFU=; ak_bmsc=82C3E4FBC1F435D1042B5CFEF139563D~000000000000000000000000000000~YAAQ5y2pylKuXGqUAQAAZdrHlxoGYEc1MUW4hh9VCnd4/arQZBSX2AXz44UZcPTCijUcqVwKiIx3s0nIOaTxYunDhZVAomDzZEvr5bnY44jpvpHWYe9gMki93xFX5n+/LNmW8jQQzgTw7346xT65MwLnQ0GTlynrOiKulxEzkRyt9TX/KP84am26ZadVUcg8poXdvDPNjX2Q4BDpWeMboxZv/FNSSVmPPMx+bDoqMth6KqVgxn/pfE419hyoP6DlRLsrhwXtamNhPLDa+w1bbnzR5MVJYlb6uZE08xwfXsE2f8qMwEuAXg0cSuxv24Dp1KZrz4O+sUbHc1UzjdgVNafCMatzcEFZVgiBxdNOFaZ98HoK8c8L7jjC8ZJ4gnM39SvIRB9JWiO0NFfFtBFV5eLZCpdCypZzrbBE3ALgMcIKngxDp3l4LNyKAwd5uY7WE575+4sDTcw4k9pwRQ8L; _tt_enable_cookie=1; _ttp=l5D7lbwu4aAQYkIQZTVFCegxzBc.tt.1; AMP_TOKEN=%24NOT_FOUND; _fbp=fb.1.1737713248500.158953258786947229; TOPATK=7zc_0Hg8TgOW1zcFE2KV8w; l=1; tuid=39275554; gec_id=168687219962298048; uidh=hQ343xlJhV8WFIBvzr8NcCaECmZcWRGgONmdJbMgjPA=; FPF=1; uide=pI7BGrsyMVJyePibts4sZZa6FDBGuydJEUT0Xdf+hc4/be7+; _abck=A3E412D90A6099E29D306E267A5C41E0~0~YAAQ5y2pyqGyXGqUAQAA+bzIlw30vKqekH2BBb9bkfFNBMv3w9g14QJp/EY1ix8P9JyJZmk7z2ieQT6wJP1kcZl/9a5z884LsAElieZ//2yOXKqgHe1++BOj/ABIAEkx2QCAy9uqyGtDC18L5UGcIlKxHtd8qva2/qmPtFsrhw1JVMkvnONx1Le4tYiS1/tfAjPIURknAlrI7t9sAfjQTAVED6a4vVsb2N65wjf457gORUbfl6NBWW8WaBoei2Dupobj6rnw5iiIHXia+IU7KJ1+M5I7adRU7IgB99PHvsI6tVtW9v8r4G4jiJ3UGxofxNkUryWuMozM6BXjDQtWcZh0yFsE12uteq5QB3GcwVgTzM1Pz/ibWlPON+AKfPu5aHvs4VH+3kx+coK9vNLTlDxdNYJ0YWHz/hifA3ky2lU9jn4Hj9HS3+D45GLz87gPz0+YJlEdBFNvBlrG4aWeG4Eq+AN/bDOseoAbmGte4S9ryw8v9KenrjhSD5nwgeofo3KGEe5jMG/ALdUl0T2xMjlbmFoCjUJh1WQs/sMHwwBeCqsr2C5NHBWGjFyn9QLTA6CDA4r6sz4OvAEXXi/KLfImDUEhaGDanZDtbpBfbKdHVgPNTjPztBhiue0FOckiedrMXqDXlRP2F4+b7jH5/0ORH+qhtvcSABBxa0tgwoTLymbfwRP+1NSGzuJJ1EkReHqig3KzKeBa6R7OQhM=~-1~-1~-1; aus=1; _CASE_=7821624a672139213537363632303b37212f21604a67213932343b2f21674a67213931313a312f216f567367213921313331362e33322e313757323439333b393130283334393333212f216f62772139212e352d3131373433353a212f216f616f2139216e626f62686223606c6d77717a2366707762776623746a7162212f216f6c6d642139213233352d3a3733323436212f2173406c2139213230373533212f21704a67213932323630333634302f2170577a73662139216c6c60212f21744a672139332f21746b70213921585e212f21746b7070213921585e217e; _UUID_CAS_=f0ab12ec-96bb-4c29-a405-7d22c65f4661; bm_sv=FD00D167DBF2190289DB0BE0959F6824~YAAQ1i2pyh+7CpWUAQAA/b/QlxpzX1HYcRWDsW54jwa08Z1CZQgoRy5iDvkrXamhqE4zmLRrf4flzhna5R1Cd1uIf52DTJm3rnI1SuPIgw+yVezataLTsFegYr0cf5tSVT/ESqzc463iT1JXH7r+6HjiRaQmODg+a7q+hjqK14R7yuYBUVsIXsR5XEbaLqn5+y7HDCTP1381QJzQyk1+CCa8oQnnxzsCbLYZXNAb88BQA5tCFcpq3qqrLhMN7NZe4mbg~1; bm_sz=D1E57C24BFE5447079B254F515DBD59A~YAAQD+nOFxdD95CUAQAAV37llxqatZcudbg3kOkx+Ux7+E/ljRrghY+y3avONARz753pJWXlHasXWewJDkw94OEbjrkBhBcjr7tIHaONBOI844nIGKH8oEg8jadNA5Ylt4xZVqEo+0y8feyRSUYUZSogQrFXBbpAnfAhQuM+YJdsFPfkHxYJQwtRsMDE20CSFKvyCTCmwTtUfIqAHQWMMfJljJVdy+dY8eH/QJSQcPtkPEY0vx5P/VpPAwSszojewxd/JwHi46MEOKj1c46I3vtM/NK7V2ujliS4YGGYpu3sN7u8qWikJV4b/nM+Z63NzGiCCXoZyoIFFA3Q/RsKPi6jecylapyLqt7D67gFqdUYlGOu4sanox2Qg8sin2opu5h5EFlNCdtMG8yVtL/wiaL6CNyFOj/DR83qCZcZymBJ8QIkCcTwgnLDix/ipm3SRwBEeRXijhdltyPaBSpXiMQrgWjpz5//Az7ARN7t77ANlrrc3G4x4QTAKDrfOg==~3227970~3159095; _dc_gtm_UA-126956641-6=1; _dc_gtm_UA-9801603-1=1; ISID=%7B%22www.tokopedia.com%22%3A%22d3d3LnRva29wZWRpYS5jb20%3D.8109202435e7e49eaa74f4f7a9fca585.1737713243405.1737713243405.1737715347261.17%22%7D; _ga_70947XW48P=GS1.1.1737713243.1.1.1737715347.6.0.0; _ga=GA1.1.1612239045.1737713243; webauthn-session=b3774ea3-7d42-4271-bfda-5567909804a2\",\n",
        "            \" _gcl_au=1.1.1639389662.1737713243; _UUID_NONLOGIN_=121bb529a74834442acf6c81b5e09f6c; hfv_banner=true; _gid=GA1.2.1683694316.1737713243; _SID_Tokopedia_=DaTj-m583Yd83uszVV1bpFMY5f6kxR6OtaXytjTmvr48DJKl-hmDxy2KuwFe8kRaiHQ_Gwu5BAxSJqUUomOSlErgNxDiT6ZCByLuwn_ti43GZbXJ5vDVVxcHBbuTI_ne; DID=4b056bb420287f9ec4ae4848579bbb0551e0e7338740a5ac0ea671abdc8f10f1d4c55c9d04876bf416c20a99a5f6e2f3; DID_JS=NGIwNTZiYjQyMDI4N2Y5ZWM0YWU0ODQ4NTc5YmJiMDU1MWUwZTczMzg3NDBhNWFjMGVhNjcxYWJkYzhmMTBmMWQ0YzU1YzlkMDQ4NzZiZjQxNmMyMGE5OWE1ZjZlMmYz47DEQpj8HBSa+/TImW+5JCeuQeRkm5NMpJWZG3hSuFU=; ak_bmsc=82C3E4FBC1F435D1042B5CFEF139563D~000000000000000000000000000000~YAAQ5y2pylKuXGqUAQAAZdrHlxoGYEc1MUW4hh9VCnd4/arQZBSX2AXz44UZcPTCijUcqVwKiIx3s0nIOaTxYunDhZVAomDzZEvr5bnY44jpvpHWYe9gMki93xFX5n+/LNmW8jQQzgTw7346xT65MwLnQ0GTlynrOiKulxEzkRyt9TX/KP84am26ZadVUcg8poXdvDPNjX2Q4BDpWeMboxZv/FNSSVmPPMx+bDoqMth6KqVgxn/pfE419hyoP6DlRLsrhwXtamNhPLDa+w1bbnzR5MVJYlb6uZE08xwfXsE2f8qMwEuAXg0cSuxv24Dp1KZrz4O+sUbHc1UzjdgVNafCMatzcEFZVgiBxdNOFaZ98HoK8c8L7jjC8ZJ4gnM39SvIRB9JWiO0NFfFtBFV5eLZCpdCypZzrbBE3ALgMcIKngxDp3l4LNyKAwd5uY7WE575+4sDTcw4k9pwRQ8L; _tt_enable_cookie=1; _ttp=l5D7lbwu4aAQYkIQZTVFCegxzBc.tt.1; AMP_TOKEN=%24NOT_FOUND; _fbp=fb.1.1737713248500.158953258786947229; TOPATK=7zc_0Hg8TgOW1zcFE2KV8w; l=1; tuid=39275554; gec_id=168687219962298048; uidh=hQ343xlJhV8WFIBvzr8NcCaECmZcWRGgONmdJbMgjPA=; FPF=1; uide=pI7BGrsyMVJyePibts4sZZa6FDBGuydJEUT0Xdf+hc4/be7+; _abck=A3E412D90A6099E29D306E267A5C41E0~0~YAAQ5y2pyqGyXGqUAQAA+bzIlw30vKqekH2BBb9bkfFNBMv3w9g14QJp/EY1ix8P9JyJZmk7z2ieQT6wJP1kcZl/9a5z884LsAElieZ//2yOXKqgHe1++BOj/ABIAEkx2QCAy9uqyGtDC18L5UGcIlKxHtd8qva2/qmPtFsrhw1JVMkvnONx1Le4tYiS1/tfAjPIURknAlrI7t9sAfjQTAVED6a4vVsb2N65wjf457gORUbfl6NBWW8WaBoei2Dupobj6rnw5iiIHXia+IU7KJ1+M5I7adRU7IgB99PHvsI6tVtW9v8r4G4jiJ3UGxofxNkUryWuMozM6BXjDQtWcZh0yFsE12uteq5QB3GcwVgTzM1Pz/ibWlPON+AKfPu5aHvs4VH+3kx+coK9vNLTlDxdNYJ0YWHz/hifA3ky2lU9jn4Hj9HS3+D45GLz87gPz0+YJlEdBFNvBlrG4aWeG4Eq+AN/bDOseoAbmGte4S9ryw8v9KenrjhSD5nwgeofo3KGEe5jMG/ALdUl0T2xMjlbmFoCjUJh1WQs/sMHwwBeCqsr2C5NHBWGjFyn9QLTA6CDA4r6sz4OvAEXXi/KLfImDUEhaGDanZDtbpBfbKdHVgPNTjPztBhiue0FOckiedrMXqDXlRP2F4+b7jH5/0ORH+qhtvcSABBxa0tgwoTLymbfwRP+1NSGzuJJ1EkReHqig3KzKeBa6R7OQhM=~-1~-1~-1; aus=1; _CASE_=7821624a672139213537363632303b37212f21604a67213932343b2f21674a67213931313a312f216f567367213921313331362e33322e313757323439333b393130283334393333212f216f62772139212e352d3131373433353a212f216f616f2139216e626f62686223606c6d77717a2366707762776623746a7162212f216f6c6d642139213233352d3a3733323436212f2173406c2139213230373533212f21704a67213932323630333634302f2170577a73662139216c6c60212f21744a672139332f21746b70213921585e212f21746b7070213921585e217e; _UUID_CAS_=f0ab12ec-96bb-4c29-a405-7d22c65f4661; bm_sv=FD00D167DBF2190289DB0BE0959F6824~YAAQ1i2pyh+7CpWUAQAA/b/QlxpzX1HYcRWDsW54jwa08Z1CZQgoRy5iDvkrXamhqE4zmLRrf4flzhna5R1Cd1uIf52DTJm3rnI1SuPIgw+yVezataLTsFegYr0cf5tSVT/ESqzc463iT1JXH7r+6HjiRaQmODg+a7q+hjqK14R7yuYBUVsIXsR5XEbaLqn5+y7HDCTP1381QJzQyk1+CCa8oQnnxzsCbLYZXNAb88BQA5tCFcpq3qqrLhMN7NZe4mbg~1; bm_sz=D1E57C24BFE5447079B254F515DBD59A~YAAQD+nOFxdD95CUAQAAV37llxqatZcudbg3kOkx+Ux7+E/ljRrghY+y3avONARz753pJWXlHasXWewJDkw94OEbjrkBhBcjr7tIHaONBOI844nIGKH8oEg8jadNA5Ylt4xZVqEo+0y8feyRSUYUZSogQrFXBbpAnfAhQuM+YJdsFPfkHxYJQwtRsMDE20CSFKvyCTCmwTtUfIqAHQWMMfJljJVdy+dY8eH/QJSQcPtkPEY0vx5P/VpPAwSszojewxd/JwHi46MEOKj1c46I3vtM/NK7V2ujliS4YGGYpu3sN7u8qWikJV4b/nM+Z63NzGiCCXoZyoIFFA3Q/RsKPi6jecylapyLqt7D67gFqdUYlGOu4sanox2Qg8sin2opu5h5EFlNCdtMG8yVtL/wiaL6CNyFOj/DR83qCZcZymBJ8QIkCcTwgnLDix/ipm3SRwBEeRXijhdltyPaBSpXiMQrgWjpz5//Az7ARN7t77ANlrrc3G4x4QTAKDrfOg==~3227970~3159095; _dc_gtm_UA-126956641-6=1; ISID=%7B%22www.tokopedia.com%22%3A%22d3d3LnRva29wZWRpYS5jb20%3D.8109202435e7e49eaa74f4f7a9fca585.1737713243405.1737713243405.1737715293578.16%22%7D; _dc_gtm_UA-9801603-1=1; _ga_70947XW48P=GS1.1.1737713243.1.1.1737715293.60.0.0; _ga=GA1.1.1612239045.1737713243; webauthn-session=02678496-f1f1-45e8-8bdc-7ea6e24fd215\"]\n",
        "\"\"\""
      ],
      "metadata": {
        "id": "1f8mX3N6fnnZ",
        "colab": {
          "base_uri": "https://localhost:8080/",
          "height": 104
        },
        "collapsed": true,
        "outputId": "4099cc43-f0f1-4194-b257-a963e0a0de9b"
      },
      "execution_count": 52,
      "outputs": [
        {
          "output_type": "execute_result",
          "data": {
            "text/plain": [
              "'\\ncooklist = [\"_UUID_NONLOGIN_=1be9d5e19945cd39ace4288e4df11d97; _UUID_NONLOGIN_.sig=bMaPjt3Ge3Az_etBinByCA2l1rk; _SID_Tokopedia_=DtlRcaR45Ls8u2zR0EyWMaCwIb-lKujUkDrfjGHXD-LOu-8fCzNx6wcE7ORneoiESvjPzMmhkVKp_432p8WHLsvpD-z9xgx1tmq-zHGi5wycyVr7_qPcLfop7H6iXdPJ; DID=c2f41feb0dd15c191936312af3fa4e2422dd2c3bbb9f3e9541c1776d147235161cfabfb1c97d136b51b6dbc495b1e623; DID_JS=YzJmNDFmZWIwZGQxNWMxOTE5MzYzMTJhZjNmYTRlMjQyMmRkMmMzYmJiOWYzZTk1NDFjMTc3NmQxNDcyMzUxNjFjZmFiZmIxYzk3ZDEzNmI1MWI2ZGJjNDk1YjFlNjIz47DEQpj8HBSa+/TImW+5JCeuQeRkm5NMpJWZG3hSuFU=; _gid=GA1.2.306711698.1737673189; _gcl_au=1.1.1226888024.1737673189; ak_bmsc=F9D6DDE8942BCC4E03713784C42C8052~000000000000000000000000000000~YAAQ5i2pyvOT/5SUAQAANaZklRrhCMh7MdRKtpAkAT/TwhoJpym+giJyrAuJTOGNv+ohla9ReoK+hsgALoV7fD+GGPan21FmvmDA3Jpz1l+G8VPziqy9CfJ5rLLAcar24GlhvuIuN92yOa61cj6XP1wtwpdn2F6mYFZXvbU7QcT0+eqWjBmUDXFDkVs8D1GD5gAjSJD/VDtaRCf0prWFs3kOg16XYNTSegCScJ8Kv8L2UGkEG/B5FhTlwwIu6FzVCQW6M3ZdH3GUGgiUzL5ytrBlQyOvov2YVLwyZwAw37LCLDtbeeHV8RQTdwIHrjrzsz0Fue1Ji3/Wev90Tdl/wVsDzmZP4TISuaW9AcjIMLD3ST2Uc4pA6EulACQadieVuL3tPeZmySNEvZre0qT1ax20YjNqlWsd6eb8I0N3EphQ0QwozUoEbUNJO17X4ba/RRpGoj8tZ7JGCvF+Ga9q; _tt_enable_cookie=1; _ttp=_IQX8m81OgCxhAo11C3x8JEYJOn.tt.1; AMP_TOKEN=%24NOT_FOUND; TOPATK=ReLaxbN0Sma8Hy5pndRT5w; l=1; tuid=39275554; gec_id=168687219962298048; uidh=hQ343xlJhV8WFIBvzr8NcCaECmZcWRGgONmdJbMgjPA=; g_yolo_production=1; _hjSessionUser_714968=eyJpZCI6ImI2NWU2NDJkLWUzNjQtNWJkNS1iYmZlLTEwNmQ0NDFhMGYzMSIsImNyZWF0ZWQiOjE3Mzc2NzMxOTU0OTQsImV4aXN0aW5nIjpmYWxzZX0=; _hjSession_714968=eyJpZCI6ImVkMDdhZTczLTgzZmQtNDJiZS1iN2FlLTU0ZWEzMGVkMWRmMiIsImMiOjE3Mzc2NzMxOTU0OTUsInMiOjEsInIiOjAsInNiIjowLCJzciI6MCwic2UiOjAsImZzIjoxfQ==; FPF=1; uide=5qQ0pbbCxjoGja6Ax6qAQqJlBFCD/TpsLQvYJ5OPxJSbNnPv; _abck=9D01A68AF9735B44B661F7443776CBFC~0~YAAQCOnOF74i9I6UAQAA3fVklQ2RZncTh0GbsOGuOQhk8j87LPzIjovZ0eQzg5ndulVy7y1ZXGxKtJvvUbnmcJojUcEmmxgZLEeB07lgwLRCszxmuNAKrT/My+TBhAwTqXEqvinKZAU/jkBOPmYZZnzCMSAs1b2UM18wmrGUEXFCTtvqlZaNH5SyL5nJr39C8pYVdXQi0zs8gz5LOsxNlrKzpZ3mZiB6lOFDSgsXcZZ26pASD6Sc+FggZmDmrg7xaw5OonWfFs8I2MnhcJl9JnVHC+V5ZRAGsVhpBx8C1+aVQygF2Ran9DVqbI0szhLr++eeFSXbVLVKEnd28i0TeKOi258YEzQ8zUkXnfzXIhdh6SzfQ9SWE9mNoqM2Zza5411V7C+G55fMxN4ch4UapD+wP6RW8i/fbzajbhwZ8L90yOWFIjJNAwlSicNbi1DsLBe/6GMQPUWGSoa6DKFb5YRTVnQDws/iIwhxWtCd2ssOjXRrP/2+E2EEgaLuXvsZwZa7GDhtrhR7sOiYwGaZushVD8mVIS4BNvttUfUbOvFd8+Eumt1loi5KGmF887ayJLy2KXrgw3ZdpR/a7v0uIjdonfr2CRjFIKnanBfrBVTIPMK/K7JcqzzWXrtEpyj/NATBCkDC/kBFxe/xT7aVwzRPODrKV6pmUBmO0SFnJBz/0zKQ3gSzdmxhGQCCE68NhWOVpU0Fa72yDjNafa8=~-1~-1~-1; aus=1; _CASE_=7821624a672139213537363632303b37212f21604a67213932343b2f21674a67213931313a312f216f567367213921313331362e33322e3137573335393333393233283334393333212f216f62772139212e352d3131373433353a212f216f616f2139216e626f62686223606c6d77717a2366707762776623746a7162212f216f6c6d642139213233352d3a3733323436212f2173406c2139213230373533212f21704a67213932323630333634302f2170577a73662139216c6c60212f21744a672139332f21746b70213921585e212f21746b7070213921585e217e; _UUID_CAS_=80e2035b-0ec3-49de-9c32-8100f3d1a615; bm_sz=3CE7B2902701DC0811ED7846832A24AA~YAAQ5i2pyp6n/5SUAQAAbWB1lRozF/IxrbIMwpg86iHC/H7y3/yVRvDgxJibonZ/tuwlVJt0SOyw+VN7SOgqwBayG3Uj9/mPaQQf8YeUoWktS/DJXRUeOQXLNewrTFcqLxKCtpgWMGWx1uGRXNgbyZ11FvsVaQbNWnQ++hW4WoBOPQx15a/snrkNz7W6azb9ekdZNh0RGquEYp7PgQEe2czOQY9NppbVum8H0gV9j/78PDbyMo6JQB4QRv+TBpz16YWULhwO/QiNkJP8w1TLhAcIMT6b/K2La+RHl73HPxSubIKFEdl1bG7IvI7hK208NdsDxYgf5K2/Ll8Djxo/o9ggbJeAj0D6I3FD4ksggJIJxzYM0/1R4Qk8g9OSDKmcjaH1weAspY+vOIj+oDhtxCDqnh6BjErFYPY/gYh5tAOTTfhHtKP+NfT/PWsKdzP/d2ioEqzZfKpZdV1bLyJC0Sa/wKUmxq/rGlFN1to=~3682608~3621682; bm_sv=0087E52D3BACBBB4877168E03A2371D6~YAAQ1i2pyvu2AJWUAQAAzRp4lRpsSK9Kq9IKEENQmF/NP0n81a4G9NW2z1k3l0EdQf8ZoypFgm3B1ftEaI4VqiM6tdlXanArsn4PVjfxjVZ37K08ajCP5hsWmqZnfgkbuPo27GCggtcgw7GC7PFKThXlJkMSawZfzEkjtIFYDoyLOXUoqnbDVarjt7IK99YGIXqrDFPs9DNyn7cqCegduQbkpKQth4SFdyMOJ17gugVxzx1GSsx+QcR1Qtfa9Mcf2mme~1; _dc_gtm_UA-126956641-6=1; _dc_gtm_UA-9801603-1=1; ISID=%7B%22www.tokopedia.com%22%3A%22d3d3LnRva29wZWRpYS5jb20%3D.85807bf8ab475413281ab9e18cc2d094.1737673188674.1737673188674.1737674925795.17%22%2C%22accounts.tokopedia.com%22%3A%22YWNjb3VudHMudG9rb3BlZGlhLmNvbQ%3D%3D.88577841d29294c228b61cfba507abab.1737673195280.1737673195280.1737673208276.1%22%7D; _ga_70947XW48P=GS1.1.1737673188.1.1.1737674925.57.0.0; _ga=GA1.1.108146749.1737673189; webauthn-session=231d1a0a-4caf-4293-8ee5-445a599b6786\",\\n            \"_UUID_NONLOGIN_=1be9d5e19945cd39ace4288e4df11d97; _UUID_NONLOGIN_.sig=bMaPjt3Ge3Az_etBinByCA2l1rk; _SID_Tokopedia_=DtlRcaR45Ls8u2zR0EyWMaCwIb-lKujUkDrfjGHXD-LOu-8fCzNx6wcE7ORneoiESvjPzMmhkVKp_432p8WHLsvpD-z9xgx1tmq-zHGi5wycyVr7_qPcLfop7H6iXdPJ; DID=c2f41feb0dd15c191936312af3fa4e2422dd2c3bbb9f3e9541c1776d147235161cfabfb1c97d136b51b6dbc495b1e623; DID_JS=YzJmNDFmZWIwZGQxNWMxOTE5MzYzMTJhZjNmYTRlMjQyMmRkMmMzYmJiOWYzZTk1NDFjMTc3NmQxNDcyMzUxNjFjZmFiZmIxYzk3ZDEzNmI1MWI2ZGJjNDk1YjFlNjIz47DEQpj8HBSa+/TImW+5JCeuQeRkm5NMpJWZG3hSuFU=; _gid=GA1.2.306711698.1737673189; _gcl_au=1.1.1226888024.1737673189; ak_bmsc=F9D6DDE8942BCC4E03713784C42C8052~000000000000000000000000000000~YAAQ5i2pyvOT/5SUAQAANaZklRrhCMh7MdRKtpAkAT/TwhoJpym+giJyrAuJTOGNv+ohla9ReoK+hsgALoV7fD+GGPan21FmvmDA3Jpz1l+G8VPziqy9CfJ5rLLAcar24GlhvuIuN92yOa61cj6XP1wtwpdn2F6mYFZXvbU7QcT0+eqWjBmUDXFDkVs8D1GD5gAjSJD/VDtaRCf0prWFs3kOg16XYNTSegCScJ8Kv8L2UGkEG/B5FhTlwwIu6FzVCQW6M3ZdH3GUGgiUzL5ytrBlQyOvov2YVLwyZwAw37LCLDtbeeHV8RQTdwIHrjrzsz0Fue1Ji3/Wev90Tdl/wVsDzmZP4TISuaW9AcjIMLD3ST2Uc4pA6EulACQadieVuL3tPeZmySNEvZre0qT1ax20YjNqlWsd6eb8I0N3EphQ0QwozUoEbUNJO17X4ba/RRpGoj8tZ7JGCvF+Ga9q; _tt_enable_cookie=1; _ttp=_IQX8m81OgCxhAo11C3x8JEYJOn.tt.1; AMP_TOKEN=%24NOT_FOUND; TOPATK=ReLaxbN0Sma8Hy5pndRT5w; l=1; tuid=39275554; gec_id=168687219962298048; uidh=hQ343xlJhV8WFIBvzr8NcCaECmZcWRGgONmdJbMgjPA=; g_yolo_production=1; _hjSessionUser_714968=eyJpZCI6ImI2NWU2NDJkLWUzNjQtNWJkNS1iYmZlLTEwNmQ0NDFhMGYzMSIsImNyZWF0ZWQiOjE3Mzc2NzMxOTU0OTQsImV4aXN0aW5nIjpmYWxzZX0=; FPF=1; uide=5qQ0pbbCxjoGja6Ax6qAQqJlBFCD/TpsLQvYJ5OPxJSbNnPv; _abck=9D01A68AF9735B44B661F7443776CBFC~0~YAAQCOnOF74i9I6UAQAA3fVklQ2RZncTh0GbsOGuOQhk8j87LPzIjovZ0eQzg5ndulVy7y1ZXGxKtJvvUbnmcJojUcEmmxgZLEeB07lgwLRCszxmuNAKrT/My+TBhAwTqXEqvinKZAU/jkBOPmYZZnzCMSAs1b2UM18wmrGUEXFCTtvqlZaNH5SyL5nJr39C8pYVdXQi0zs8gz5LOsxNlrKzpZ3mZiB6lOFDSgsXcZZ26pASD6Sc+FggZmDmrg7xaw5OonWfFs8I2MnhcJl9JnVHC+V5ZRAGsVhpBx8C1+aVQygF2Ran9DVqbI0szhLr++eeFSXbVLVKEnd28i0TeKOi258YEzQ8zUkXnfzXIhdh6SzfQ9SWE9mNoqM2Zza5411V7C+G55fMxN4ch4UapD+wP6RW8i/fbzajbhwZ8L90yOWFIjJNAwlSicNbi1DsLBe/6GMQPUWGSoa6DKFb5YRTVnQDws/iIwhxWtCd2ssOjXRrP/2+E2EEgaLuXvsZwZa7GDhtrhR7sOiYwGaZushVD8mVIS4BNvttUfUbOvFd8+Eumt1loi5KGmF887ayJLy2KXrgw3ZdpR/a7v0uIjdonfr2CRjFIKnanBfrBVTIPMK/K7JcqzzWXrtEpyj/NATBCkDC/kBFxe/xT7aVwzRPODrKV6pmUBmO0SFnJBz/0zKQ3gSzdmxhGQCCE68NhWOVpU0Fa72yDjNafa8=~-1~-1~-1; aus=1; _CASE_=7821624a672139213537363632303b37212f21604a67213932343b2f21674a67213931313a312f216f567367213921313331362e33322e3137573335393333393233283334393333212f216f62772139212e352d3131373433353a212f216f616f2139216e626f62686223606c6d77717a2366707762776623746a7162212f216f6c6d642139213233352d3a3733323436212f2173406c2139213230373533212f21704a67213932323630333634302f2170577a73662139216c6c60212f21744a672139332f21746b70213921585e212f21746b7070213921585e217e; _UUID_CAS_=80e2035b-0ec3-49de-9c32-8100f3d1a615; bm_sz=3CE7B2902701DC0811ED7846832A24AA~YAAQ5i2pyp6n/5SUAQAAbWB1lRozF/IxrbIMwpg86iHC/H7y3/yVRvDgxJibonZ/tuwlVJt0SOyw+VN7SOgqwBayG3Uj9/mPaQQf8YeUoWktS/DJXRUeOQXLNewrTFcqLxKCtpgWMGWx1uGRXNgbyZ11FvsVaQbNWnQ++hW4WoBOPQx15a/snrkNz7W6azb9ekdZNh0RGquEYp7PgQEe2czOQY9NppbVum8H0gV9j/78PDbyMo6JQB4QRv+TBpz16YWULhwO/QiNkJP8w1TLhAcIMT6b/K2La+RHl73HPxSubIKFEdl1bG7IvI7hK208NdsDxYgf5K2/Ll8Djxo/o9ggbJeAj0D6I3FD4ksggJIJxzYM0/1R4Qk8g9OSDKmcjaH1weAspY+vOIj+oDhtxCDqnh6BjErFYPY/gYh5tAOTTfhHtKP+NfT/PWsKdzP/d2ioEqzZfKpZdV1bLyJC0Sa/wKUmxq/rGlFN1to=~3682608~3621682; _dc_gtm_UA-126956641-6=1; _dc_gtm_UA-9801603-1=1; bm_sv=0087E52D3BACBBB4877168E03A2371D6~YAAQ1i2pyjjOAJWUAQAAtGaAlRpbTEBP9/HiKaOsYGziDZVk9jU6zEqoEoWY+MZYyAYSDo4mqT5sAxyJ21PWDFu8Mr1AUp+ISb/kJ2/4XVKxu2h9jxp79rj2Do4zGKQLJTOddP4KyIsjj3MsmAAgT5rJfAH0EwEBita1VzOs+Wnf72V27hw6ijN2PPIvZ+uiWklUBeoTIG84ZdY0n/Ez/JM59vEsSKHXG8N8RBWpKzcaEoZSuZZXXlZGA1FPpBC3dEnC~1; ISID=%7B%22www.tokopedia.com%22%3A%22d3d3LnRva29wZWRpYS5jb20%3D.85807bf8ab475413281ab9e18cc2d094.1737673188674.1737673188674.1737675011304.19%22%2C%22accounts.tokopedia.com%22%3A%22YWNjb3VudHMudG9rb3BlZGlhLmNvbQ%3D%3D.88577841d29294c228b61cfba507abab.1737673195280.1737673195280.1737673208276.1%22%7D; _ga_70947XW48P=GS1.1.1737673188.1.1.1737675011.55.0.0; _ga=GA1.1.108146749.1737673189; webauthn-session=b6a6fad4-1d28-40d4-a059-e96aeb37c794\",\\n            \"_UUID_NONLOGIN_=1be9d5e19945cd39ace4288e4df11d97; _UUID_NONLOGIN_.sig=bMaPjt3Ge3Az_etBinByCA2l1rk; _SID_Tokopedia_=DtlRcaR45Ls8u2zR0EyWMaCwIb-lKujUkDrfjGHXD-LOu-8fCzNx6wcE7ORneoiESvjPzMmhkVKp_432p8WHLsvpD-z9xgx1tmq-zHGi5wycyVr7_qPcLfop7H6iXdPJ; DID=c2f41feb0dd15c191936312af3fa4e2422dd2c3bbb9f3e9541c1776d147235161cfabfb1c97d136b51b6dbc495b1e623; DID_JS=YzJmNDFmZWIwZGQxNWMxOTE5MzYzMTJhZjNmYTRlMjQyMmRkMmMzYmJiOWYzZTk1NDFjMTc3NmQxNDcyMzUxNjFjZmFiZmIxYzk3ZDEzNmI1MWI2ZGJjNDk1YjFlNjIz47DEQpj8HBSa+/TImW+5JCeuQeRkm5NMpJWZG3hSuFU=; _gid=GA1.2.306711698.1737673189; _gcl_au=1.1.1226888024.1737673189; ak_bmsc=F9D6DDE8942BCC4E03713784C42C8052~000000000000000000000000000000~YAAQ5i2pyvOT/5SUAQAANaZklRrhCMh7MdRKtpAkAT/TwhoJpym+giJyrAuJTOGNv+ohla9ReoK+hsgALoV7fD+GGPan21FmvmDA3Jpz1l+G8VPziqy9CfJ5rLLAcar24GlhvuIuN92yOa61cj6XP1wtwpdn2F6mYFZXvbU7QcT0+eqWjBmUDXFDkVs8D1GD5gAjSJD/VDtaRCf0prWFs3kOg16XYNTSegCScJ8Kv8L2UGkEG/B5FhTlwwIu6FzVCQW6M3ZdH3GUGgiUzL5ytrBlQyOvov2YVLwyZwAw37LCLDtbeeHV8RQTdwIHrjrzsz0Fue1Ji3/Wev90Tdl/wVsDzmZP4TISuaW9AcjIMLD3ST2Uc4pA6EulACQadieVuL3tPeZmySNEvZre0qT1ax20YjNqlWsd6eb8I0N3EphQ0QwozUoEbUNJO17X4ba/RRpGoj8tZ7JGCvF+Ga9q; _tt_enable_cookie=1; _ttp=_IQX8m81OgCxhAo11C3x8JEYJOn.tt.1; AMP_TOKEN=%24NOT_FOUND; TOPATK=ReLaxbN0Sma8Hy5pndRT5w; l=1; tuid=39275554; gec_id=168687219962298048; uidh=hQ343xlJhV8WFIBvzr8NcCaECmZcWRGgONmdJbMgjPA=; g_yolo_production=1; _hjSessionUser_714968=eyJpZCI6ImI2NWU2NDJkLWUzNjQtNWJkNS1iYmZlLTEwNmQ0NDFhMGYzMSIsImNyZWF0ZWQiOjE3Mzc2NzMxOTU0OTQsImV4aXN0aW5nIjpmYWxzZX0=; FPF=1; uide=5qQ0pbbCxjoGja6Ax6qAQqJlBFCD/TpsLQvYJ5OPxJSbNnPv; _abck=9D01A68AF9735B44B661F7443776CBFC~0~YAAQCOnOF74i9I6UAQAA3fVklQ2RZncTh0GbsOGuOQhk8j87LPzIjovZ0eQzg5ndulVy7y1ZXGxKtJvvUbnmcJojUcEmmxgZLEeB07lgwLRCszxmuNAKrT/My+TBhAwTqXEqvinKZAU/jkBOPmYZZnzCMSAs1b2UM18wmrGUEXFCTtvqlZaNH5SyL5nJr39C8pYVdXQi0zs8gz5LOsxNlrKzpZ3mZiB6lOFDSgsXcZZ26pASD6Sc+FggZmDmrg7xaw5OonWfFs8I2MnhcJl9JnVHC+V5ZRAGsVhpBx8C1+aVQygF2Ran9DVqbI0szhLr++eeFSXbVLVKEnd28i0TeKOi258YEzQ8zUkXnfzXIhdh6SzfQ9SWE9mNoqM2Zza5411V7C+G55fMxN4ch4UapD+wP6RW8i/fbzajbhwZ8L90yOWFIjJNAwlSicNbi1DsLBe/6GMQPUWGSoa6DKFb5YRTVnQDws/iIwhxWtCd2ssOjXRrP/2+E2EEgaLuXvsZwZa7GDhtrhR7sOiYwGaZushVD8mVIS4BNvttUfUbOvFd8+Eumt1loi5KGmF887ayJLy2KXrgw3ZdpR/a7v0uIjdonfr2CRjFIKnanBfrBVTIPMK/K7JcqzzWXrtEpyj/NATBCkDC/kBFxe/xT7aVwzRPODrKV6pmUBmO0SFnJBz/0zKQ3gSzdmxhGQCCE68NhWOVpU0Fa72yDjNafa8=~-1~-1~-1; aus=1; _CASE_=7821624a672139213537363632303b37212f21604a67213932343b2f21674a67213931313a312f216f567367213921313331362e33322e3137573335393333393233283334393333212f216f62772139212e352d3131373433353a212f216f616f2139216e626f62686223606c6d77717a2366707762776623746a7162212f216f6c6d642139213233352d3a3733323436212f2173406c2139213230373533212f21704a67213932323630333634302f2170577a73662139216c6c60212f21744a672139332f21746b70213921585e212f21746b7070213921585e217e; _UUID_CAS_=80e2035b-0ec3-49de-9c32-8100f3d1a615; bm_sz=3CE7B2902701DC0811ED7846832A24AA~YAAQ5i2pyp6n/5SUAQAAbWB1lRozF/IxrbIMwpg86iHC/H7y3/yVRvDgxJibonZ/tuwlVJt0SOyw+VN7SOgqwBayG3Uj9/mPaQQf8YeUoWktS/DJXRUeOQXLNewrTFcqLxKCtpgWMGWx1uGRXNgbyZ11FvsVaQbNWnQ++hW4WoBOPQx15a/snrkNz7W6azb9ekdZNh0RGquEYp7PgQEe2czOQY9NppbVum8H0gV9j/78PDbyMo6JQB4QRv+TBpz16YWULhwO/QiNkJP8w1TLhAcIMT6b/K2La+RHl73HPxSubIKFEdl1bG7IvI7hK208NdsDxYgf5K2/Ll8Djxo/o9ggbJeAj0D6I3FD4ksggJIJxzYM0/1R4Qk8g9OSDKmcjaH1weAspY+vOIj+oDhtxCDqnh6BjErFYPY/gYh5tAOTTfhHtKP+NfT/PWsKdzP/d2ioEqzZfKpZdV1bLyJC0Sa/wKUmxq/rGlFN1to=~3682608~3621682; bm_sv=0087E52D3BACBBB4877168E03A2371D6~YAAQ1i2pyjjOAJWUAQAAtGaAlRpbTEBP9/HiKaOsYGziDZVk9jU6zEqoEoWY+MZYyAYSDo4mqT5sAxyJ21PWDFu8Mr1AUp+ISb/kJ2/4XVKxu2h9jxp79rj2Do4zGKQLJTOddP4KyIsjj3MsmAAgT5rJfAH0EwEBita1VzOs+Wnf72V27hw6ijN2PPIvZ+uiWklUBeoTIG84ZdY0n/Ez/JM59vEsSKHXG8N8RBWpKzcaEoZSuZZXXlZGA1FPpBC3dEnC~1; _dc_gtm_UA-126956641-6=1; _dc_gtm_UA-9801603-1=1; ISID=%7B%22www.tokopedia.com%22%3A%22d3d3LnRva29wZWRpYS5jb20%3D.85807bf8ab475413281ab9e18cc2d094.1737673188674.1737673188674.1737675112541.21%22%2C%22accounts.tokopedia.com%22%3A%22YWNjb3VudHMudG9rb3BlZGlhLmNvbQ%3D%3D.88577841d29294c228b61cfba507abab.1737673195280.1737673195280.1737673208276.1%22%7D; _ga_70947XW48P=GS1.1.1737673188.1.1.1737675112.19.0.0; _ga=GA1.1.108146749.1737673189; webauthn-session=db5340ce-e46c-4570-8ff2-eea15fef8204\",\\n            \"_UUID_NONLOGIN_=1be9d5e19945cd39ace4288e4df11d97; _UUID_NONLOGIN_.sig=bMaPjt3Ge3Az_etBinByCA2l1rk; _SID_Tokopedia_=DtlRcaR45Ls8u2zR0EyWMaCwIb-lKujUkDrfjGHXD-LOu-8fCzNx6wcE7ORneoiESvjPzMmhkVKp_432p8WHLsvpD-z9xgx1tmq-zHGi5wycyVr7_qPcLfop7H6iXdPJ; DID=c2f41feb0dd15c191936312af3fa4e2422dd2c3bbb9f3e9541c1776d147235161cfabfb1c97d136b51b6dbc495b1e623; DID_JS=YzJmNDFmZWIwZGQxNWMxOTE5MzYzMTJhZjNmYTRlMjQyMmRkMmMzYmJiOWYzZTk1NDFjMTc3NmQxNDcyMzUxNjFjZmFiZmIxYzk3ZDEzNmI1MWI2ZGJjNDk1YjFlNjIz47DEQpj8HBSa+/TImW+5JCeuQeRkm5NMpJWZG3hSuFU=; _gid=GA1.2.306711698.1737673189; _gcl_au=1.1.1226888024.1737673189; ak_bmsc=F9D6DDE8942BCC4E03713784C42C8052~000000000000000000000000000000~YAAQ5i2pyvOT/5SUAQAANaZklRrhCMh7MdRKtpAkAT/TwhoJpym+giJyrAuJTOGNv+ohla9ReoK+hsgALoV7fD+GGPan21FmvmDA3Jpz1l+G8VPziqy9CfJ5rLLAcar24GlhvuIuN92yOa61cj6XP1wtwpdn2F6mYFZXvbU7QcT0+eqWjBmUDXFDkVs8D1GD5gAjSJD/VDtaRCf0prWFs3kOg16XYNTSegCScJ8Kv8L2UGkEG/B5FhTlwwIu6FzVCQW6M3ZdH3GUGgiUzL5ytrBlQyOvov2YVLwyZwAw37LCLDtbeeHV8RQTdwIHrjrzsz0Fue1Ji3/Wev90Tdl/wVsDzmZP4TISuaW9AcjIMLD3ST2Uc4pA6EulACQadieVuL3tPeZmySNEvZre0qT1ax20YjNqlWsd6eb8I0N3EphQ0QwozUoEbUNJO17X4ba/RRpGoj8tZ7JGCvF+Ga9q; _tt_enable_cookie=1; _ttp=_IQX8m81OgCxhAo11C3x8JEYJOn.tt.1; AMP_TOKEN=%24NOT_FOUND; TOPATK=ReLaxbN0Sma8Hy5pndRT5w; l=1; tuid=39275554; gec_id=168687219962298048; uidh=hQ343xlJhV8WFIBvzr8NcCaECmZcWRGgONmdJbMgjPA=; g_yolo_production=1; _hjSessionUser_714968=eyJpZCI6ImI2NWU2NDJkLWUzNjQtNWJkNS1iYmZlLTEwNmQ0NDFhMGYzMSIsImNyZWF0ZWQiOjE3Mzc2NzMxOTU0OTQsImV4aXN0aW5nIjpmYWxzZX0=; FPF=1; uide=5qQ0pbbCxjoGja6Ax6qAQqJlBFCD/TpsLQvYJ5OPxJSbNnPv; _abck=9D01A68AF9735B44B661F7443776CBFC~0~YAAQCOnOF74i9I6UAQAA3fVklQ2RZncTh0GbsOGuOQhk8j87LPzIjovZ0eQzg5ndulVy7y1ZXGxKtJvvUbnmcJojUcEmmxgZLEeB07lgwLRCszxmuNAKrT/My+TBhAwTqXEqvinKZAU/jkBOPmYZZnzCMSAs1b2UM18wmrGUEXFCTtvqlZaNH5SyL5nJr39C8pYVdXQi0zs8gz5LOsxNlrKzpZ3mZiB6lOFDSgsXcZZ26pASD6Sc+FggZmDmrg7xaw5OonWfFs8I2MnhcJl9JnVHC+V5ZRAGsVhpBx8C1+aVQygF2Ran9DVqbI0szhLr++eeFSXbVLVKEnd28i0TeKOi258YEzQ8zUkXnfzXIhdh6SzfQ9SWE9mNoqM2Zza5411V7C+G55fMxN4ch4UapD+wP6RW8i/fbzajbhwZ8L90yOWFIjJNAwlSicNbi1DsLBe/6GMQPUWGSoa6DKFb5YRTVnQDws/iIwhxWtCd2ssOjXRrP/2+E2EEgaLuXvsZwZa7GDhtrhR7sOiYwGaZushVD8mVIS4BNvttUfUbOvFd8+Eumt1loi5KGmF887ayJLy2KXrgw3ZdpR/a7v0uIjdonfr2CRjFIKnanBfrBVTIPMK/K7JcqzzWXrtEpyj/NATBCkDC/kBFxe/xT7aVwzRPODrKV6pmUBmO0SFnJBz/0zKQ3gSzdmxhGQCCE68NhWOVpU0Fa72yDjNafa8=~-1~-1~-1; aus=1; _CASE_=7821624a672139213537363632303b37212f21604a67213932343b2f21674a67213931313a312f216f567367213921313331362e33322e3137573335393333393233283334393333212f216f62772139212e352d3131373433353a212f216f616f2139216e626f62686223606c6d77717a2366707762776623746a7162212f216f6c6d642139213233352d3a3733323436212f2173406c2139213230373533212f21704a67213932323630333634302f2170577a73662139216c6c60212f21744a672139332f21746b70213921585e212f21746b7070213921585e217e; _UUID_CAS_=80e2035b-0ec3-49de-9c32-8100f3d1a615; bm_sz=3CE7B2902701DC0811ED7846832A24AA~YAAQ5i2pyp6n/5SUAQAAbWB1lRozF/IxrbIMwpg86iHC/H7y3/yVRvDgxJibonZ/tuwlVJt0SOyw+VN7SOgqwBayG3Uj9/mPaQQf8YeUoWktS/DJXRUeOQXLNewrTFcqLxKCtpgWMGWx1uGRXNgbyZ11FvsVaQbNWnQ++hW4WoBOPQx15a/snrkNz7W6azb9ekdZNh0RGquEYp7PgQEe2czOQY9NppbVum8H0gV9j/78PDbyMo6JQB4QRv+TBpz16YWULhwO/QiNkJP8w1TLhAcIMT6b/K2La+RHl73HPxSubIKFEdl1bG7IvI7hK208NdsDxYgf5K2/Ll8Djxo/o9ggbJeAj0D6I3FD4ksggJIJxzYM0/1R4Qk8g9OSDKmcjaH1weAspY+vOIj+oDhtxCDqnh6BjErFYPY/gYh5tAOTTfhHtKP+NfT/PWsKdzP/d2ioEqzZfKpZdV1bLyJC0Sa/wKUmxq/rGlFN1to=~3682608~3621682; bm_sv=0087E52D3BACBBB4877168E03A2371D6~YAAQ1i2pyjjOAJWUAQAAtGaAlRpbTEBP9/HiKaOsYGziDZVk9jU6zEqoEoWY+MZYyAYSDo4mqT5sAxyJ21PWDFu8Mr1AUp+ISb/kJ2/4XVKxu2h9jxp79rj2Do4zGKQLJTOddP4KyIsjj3MsmAAgT5rJfAH0EwEBita1VzOs+Wnf72V27hw6ijN2PPIvZ+uiWklUBeoTIG84ZdY0n/Ez/JM59vEsSKHXG8N8RBWpKzcaEoZSuZZXXlZGA1FPpBC3dEnC~1; _dc_gtm_UA-126956641-6=1; _dc_gtm_UA-9801603-1=1; ISID=%7B%22www.tokopedia.com%22%3A%22d3d3LnRva29wZWRpYS5jb20%3D.85807bf8ab475413281ab9e18cc2d094.1737673188674.1737673188674.1737675229289.23%22%2C%22accounts.tokopedia.com%22%3A%22YWNjb3VudHMudG9rb3BlZGlhLmNvbQ%3D%3D.88577841d29294c228b61cfba507abab.1737673195280.1737673195280.1737673208276.1%22%7D; _ga_70947XW48P=GS1.1.1737673188.1.1.1737675229.48.0.0; _ga=GA1.1.108146749.1737673189; webauthn-session=2afacd32-857a-4612-8138-0f90f5fe16cc\",\\n            \" _gcl_au=1.1.1639389662.1737713243; _UUID_NONLOGIN_=121bb529a74834442acf6c81b5e09f6c; hfv_banner=true; _gid=GA1.2.1683694316.1737713243; _SID_Tokopedia_=DaTj-m583Yd83uszVV1bpFMY5f6kxR6OtaXytjTmvr48DJKl-hmDxy2KuwFe8kRaiHQ_Gwu5BAxSJqUUomOSlErgNxDiT6ZCByLuwn_ti43GZbXJ5vDVVxcHBbuTI_ne; DID=4b056bb420287f9ec4ae4848579bbb0551e0e7338740a5ac0ea671abdc8f10f1d4c55c9d04876bf416c20a99a5f6e2f3; DID_JS=NGIwNTZiYjQyMDI4N2Y5ZWM0YWU0ODQ4NTc5YmJiMDU1MWUwZTczMzg3NDBhNWFjMGVhNjcxYWJkYzhmMTBmMWQ0YzU1YzlkMDQ4NzZiZjQxNmMyMGE5OWE1ZjZlMmYz47DEQpj8HBSa+/TImW+5JCeuQeRkm5NMpJWZG3hSuFU=; ak_bmsc=82C3E4FBC1F435D1042B5CFEF139563D~000000000000000000000000000000~YAAQ5y2pylKuXGqUAQAAZdrHlxoGYEc1MUW4hh9VCnd4/arQZBSX2AXz44UZcPTCijUcqVwKiIx3s0nIOaTxYunDhZVAomDzZEvr5bnY44jpvpHWYe9gMki93xFX5n+/LNmW8jQQzgTw7346xT65MwLnQ0GTlynrOiKulxEzkRyt9TX/KP84am26ZadVUcg8poXdvDPNjX2Q4BDpWeMboxZv/FNSSVmPPMx+bDoqMth6KqVgxn/pfE419hyoP6DlRLsrhwXtamNhPLDa+w1bbnzR5MVJYlb6uZE08xwfXsE2f8qMwEuAXg0cSuxv24Dp1KZrz4O+sUbHc1UzjdgVNafCMatzcEFZVgiBxdNOFaZ98HoK8c8L7jjC8ZJ4gnM39SvIRB9JWiO0NFfFtBFV5eLZCpdCypZzrbBE3ALgMcIKngxDp3l4LNyKAwd5uY7WE575+4sDTcw4k9pwRQ8L; _tt_enable_cookie=1; _ttp=l5D7lbwu4aAQYkIQZTVFCegxzBc.tt.1; AMP_TOKEN=%24NOT_FOUND; _fbp=fb.1.1737713248500.158953258786947229; TOPATK=7zc_0Hg8TgOW1zcFE2KV8w; l=1; tuid=39275554; gec_id=168687219962298048; uidh=hQ343xlJhV8WFIBvzr8NcCaECmZcWRGgONmdJbMgjPA=; FPF=1; uide=pI7BGrsyMVJyePibts4sZZa6FDBGuydJEUT0Xdf+hc4/be7+; _abck=A3E412D90A6099E29D306E267A5C41E0~0~YAAQ5y2pyqGyXGqUAQAA+bzIlw30vKqekH2BBb9bkfFNBMv3w9g14QJp/EY1ix8P9JyJZmk7z2ieQT6wJP1kcZl/9a5z884LsAElieZ//2yOXKqgHe1++BOj/ABIAEkx2QCAy9uqyGtDC18L5UGcIlKxHtd8qva2/qmPtFsrhw1JVMkvnONx1Le4tYiS1/tfAjPIURknAlrI7t9sAfjQTAVED6a4vVsb2N65wjf457gORUbfl6NBWW8WaBoei2Dupobj6rnw5iiIHXia+IU7KJ1+M5I7adRU7IgB99PHvsI6tVtW9v8r4G4jiJ3UGxofxNkUryWuMozM6BXjDQtWcZh0yFsE12uteq5QB3GcwVgTzM1Pz/ibWlPON+AKfPu5aHvs4VH+3kx+coK9vNLTlDxdNYJ0YWHz/hifA3ky2lU9jn4Hj9HS3+D45GLz87gPz0+YJlEdBFNvBlrG4aWeG4Eq+AN/bDOseoAbmGte4S9ryw8v9KenrjhSD5nwgeofo3KGEe5jMG/ALdUl0T2xMjlbmFoCjUJh1WQs/sMHwwBeCqsr2C5NHBWGjFyn9QLTA6CDA4r6sz4OvAEXXi/KLfImDUEhaGDanZDtbpBfbKdHVgPNTjPztBhiue0FOckiedrMXqDXlRP2F4+b7jH5/0ORH+qhtvcSABBxa0tgwoTLymbfwRP+1NSGzuJJ1EkReHqig3KzKeBa6R7OQhM=~-1~-1~-1; aus=1; _CASE_=7821624a672139213537363632303b37212f21604a67213932343b2f21674a67213931313a312f216f567367213921313331362e33322e313757323439333b393130283334393333212f216f62772139212e352d3131373433353a212f216f616f2139216e626f62686223606c6d77717a2366707762776623746a7162212f216f6c6d642139213233352d3a3733323436212f2173406c2139213230373533212f21704a67213932323630333634302f2170577a73662139216c6c60212f21744a672139332f21746b70213921585e212f21746b7070213921585e217e; _UUID_CAS_=f0ab12ec-96bb-4c29-a405-7d22c65f4661; bm_sv=FD00D167DBF2190289DB0BE0959F6824~YAAQ1i2pyh+7CpWUAQAA/b/QlxpzX1HYcRWDsW54jwa08Z1CZQgoRy5iDvkrXamhqE4zmLRrf4flzhna5R1Cd1uIf52DTJm3rnI1SuPIgw+yVezataLTsFegYr0cf5tSVT/ESqzc463iT1JXH7r+6HjiRaQmODg+a7q+hjqK14R7yuYBUVsIXsR5XEbaLqn5+y7HDCTP1381QJzQyk1+CCa8oQnnxzsCbLYZXNAb88BQA5tCFcpq3qqrLhMN7NZe4mbg~1; bm_sz=D1E57C24BFE5447079B254F515DBD59A~YAAQD+nOFxdD95CUAQAAV37llxqatZcudbg3kOkx+Ux7+E/ljRrghY+y3avONARz753pJWXlHasXWewJDkw94OEbjrkBhBcjr7tIHaONBOI844nIGKH8oEg8jadNA5Ylt4xZVqEo+0y8feyRSUYUZSogQrFXBbpAnfAhQuM+YJdsFPfkHxYJQwtRsMDE20CSFKvyCTCmwTtUfIqAHQWMMfJljJVdy+dY8eH/QJSQcPtkPEY0vx5P/VpPAwSszojewxd/JwHi46MEOKj1c46I3vtM/NK7V2ujliS4YGGYpu3sN7u8qWikJV4b/nM+Z63NzGiCCXoZyoIFFA3Q/RsKPi6jecylapyLqt7D67gFqdUYlGOu4sanox2Qg8sin2opu5h5EFlNCdtMG8yVtL/wiaL6CNyFOj/DR83qCZcZymBJ8QIkCcTwgnLDix/ipm3SRwBEeRXijhdltyPaBSpXiMQrgWjpz5//Az7ARN7t77ANlrrc3G4x4QTAKDrfOg==~3227970~3159095; _dc_gtm_UA-126956641-6=1; _dc_gtm_UA-9801603-1=1; ISID=%7B%22www.tokopedia.com%22%3A%22d3d3LnRva29wZWRpYS5jb20%3D.8109202435e7e49eaa74f4f7a9fca585.1737713243405.1737713243405.1737715347261.17%22%7D; _ga_70947XW48P=GS1.1.1737713243.1.1.1737715347.6.0.0; _ga=GA1.1.1612239045.1737713243; webauthn-session=b3774ea3-7d42-4271-bfda-5567909804a2\",\\n            \" _gcl_au=1.1.1639389662.1737713243; _UUID_NONLOGIN_=121bb529a74834442acf6c81b5e09f6c; hfv_banner=true; _gid=GA1.2.1683694316.1737713243; _SID_Tokopedia_=DaTj-m583Yd83uszVV1bpFMY5f6kxR6OtaXytjTmvr48DJKl-hmDxy2KuwFe8kRaiHQ_Gwu5BAxSJqUUomOSlErgNxDiT6ZCByLuwn_ti43GZbXJ5vDVVxcHBbuTI_ne; DID=4b056bb420287f9ec4ae4848579bbb0551e0e7338740a5ac0ea671abdc8f10f1d4c55c9d04876bf416c20a99a5f6e2f3; DID_JS=NGIwNTZiYjQyMDI4N2Y5ZWM0YWU0ODQ4NTc5YmJiMDU1MWUwZTczMzg3NDBhNWFjMGVhNjcxYWJkYzhmMTBmMWQ0YzU1YzlkMDQ4NzZiZjQxNmMyMGE5OWE1ZjZlMmYz47DEQpj8HBSa+/TImW+5JCeuQeRkm5NMpJWZG3hSuFU=; ak_bmsc=82C3E4FBC1F435D1042B5CFEF139563D~000000000000000000000000000000~YAAQ5y2pylKuXGqUAQAAZdrHlxoGYEc1MUW4hh9VCnd4/arQZBSX2AXz44UZcPTCijUcqVwKiIx3s0nIOaTxYunDhZVAomDzZEvr5bnY44jpvpHWYe9gMki93xFX5n+/LNmW8jQQzgTw7346xT65MwLnQ0GTlynrOiKulxEzkRyt9TX/KP84am26ZadVUcg8poXdvDPNjX2Q4BDpWeMboxZv/FNSSVmPPMx+bDoqMth6KqVgxn/pfE419hyoP6DlRLsrhwXtamNhPLDa+w1bbnzR5MVJYlb6uZE08xwfXsE2f8qMwEuAXg0cSuxv24Dp1KZrz4O+sUbHc1UzjdgVNafCMatzcEFZVgiBxdNOFaZ98HoK8c8L7jjC8ZJ4gnM39SvIRB9JWiO0NFfFtBFV5eLZCpdCypZzrbBE3ALgMcIKngxDp3l4LNyKAwd5uY7WE575+4sDTcw4k9pwRQ8L; _tt_enable_cookie=1; _ttp=l5D7lbwu4aAQYkIQZTVFCegxzBc.tt.1; AMP_TOKEN=%24NOT_FOUND; _fbp=fb.1.1737713248500.158953258786947229; TOPATK=7zc_0Hg8TgOW1zcFE2KV8w; l=1; tuid=39275554; gec_id=168687219962298048; uidh=hQ343xlJhV8WFIBvzr8NcCaECmZcWRGgONmdJbMgjPA=; FPF=1; uide=pI7BGrsyMVJyePibts4sZZa6FDBGuydJEUT0Xdf+hc4/be7+; _abck=A3E412D90A6099E29D306E267A5C41E0~0~YAAQ5y2pyqGyXGqUAQAA+bzIlw30vKqekH2BBb9bkfFNBMv3w9g14QJp/EY1ix8P9JyJZmk7z2ieQT6wJP1kcZl/9a5z884LsAElieZ//2yOXKqgHe1++BOj/ABIAEkx2QCAy9uqyGtDC18L5UGcIlKxHtd8qva2/qmPtFsrhw1JVMkvnONx1Le4tYiS1/tfAjPIURknAlrI7t9sAfjQTAVED6a4vVsb2N65wjf457gORUbfl6NBWW8WaBoei2Dupobj6rnw5iiIHXia+IU7KJ1+M5I7adRU7IgB99PHvsI6tVtW9v8r4G4jiJ3UGxofxNkUryWuMozM6BXjDQtWcZh0yFsE12uteq5QB3GcwVgTzM1Pz/ibWlPON+AKfPu5aHvs4VH+3kx+coK9vNLTlDxdNYJ0YWHz/hifA3ky2lU9jn4Hj9HS3+D45GLz87gPz0+YJlEdBFNvBlrG4aWeG4Eq+AN/bDOseoAbmGte4S9ryw8v9KenrjhSD5nwgeofo3KGEe5jMG/ALdUl0T2xMjlbmFoCjUJh1WQs/sMHwwBeCqsr2C5NHBWGjFyn9QLTA6CDA4r6sz4OvAEXXi/KLfImDUEhaGDanZDtbpBfbKdHVgPNTjPztBhiue0FOckiedrMXqDXlRP2F4+b7jH5/0ORH+qhtvcSABBxa0tgwoTLymbfwRP+1NSGzuJJ1EkReHqig3KzKeBa6R7OQhM=~-1~-1~-1; aus=1; _CASE_=7821624a672139213537363632303b37212f21604a67213932343b2f21674a67213931313a312f216f567367213921313331362e33322e313757323439333b393130283334393333212f216f62772139212e352d3131373433353a212f216f616f2139216e626f62686223606c6d77717a2366707762776623746a7162212f216f6c6d642139213233352d3a3733323436212f2173406c2139213230373533212f21704a67213932323630333634302f2170577a73662139216c6c60212f21744a672139332f21746b70213921585e212f21746b7070213921585e217e; _UUID_CAS_=f0ab12ec-96bb-4c29-a405-7d22c65f4661; bm_sv=FD00D167DBF2190289DB0BE0959F6824~YAAQ1i2pyh+7CpWUAQAA/b/QlxpzX1HYcRWDsW54jwa08Z1CZQgoRy5iDvkrXamhqE4zmLRrf4flzhna5R1Cd1uIf52DTJm3rnI1SuPIgw+yVezataLTsFegYr0cf5tSVT/ESqzc463iT1JXH7r+6HjiRaQmODg+a7q+hjqK14R7yuYBUVsIXsR5XEbaLqn5+y7HDCTP1381QJzQyk1+CCa8oQnnxzsCbLYZXNAb88BQA5tCFcpq3qqrLhMN7NZe4mbg~1; bm_sz=D1E57C24BFE5447079B254F515DBD59A~YAAQD+nOFxdD95CUAQAAV37llxqatZcudbg3kOkx+Ux7+E/ljRrghY+y3avONARz753pJWXlHasXWewJDkw94OEbjrkBhBcjr7tIHaONBOI844nIGKH8oEg8jadNA5Ylt4xZVqEo+0y8feyRSUYUZSogQrFXBbpAnfAhQuM+YJdsFPfkHxYJQwtRsMDE20CSFKvyCTCmwTtUfIqAHQWMMfJljJVdy+dY8eH/QJSQcPtkPEY0vx5P/VpPAwSszojewxd/JwHi46MEOKj1c46I3vtM/NK7V2ujliS4YGGYpu3sN7u8qWikJV4b/nM+Z63NzGiCCXoZyoIFFA3Q/RsKPi6jecylapyLqt7D67gFqdUYlGOu4sanox2Qg8sin2opu5h5EFlNCdtMG8yVtL/wiaL6CNyFOj/DR83qCZcZymBJ8QIkCcTwgnLDix/ipm3SRwBEeRXijhdltyPaBSpXiMQrgWjpz5//Az7ARN7t77ANlrrc3G4x4QTAKDrfOg==~3227970~3159095; _dc_gtm_UA-126956641-6=1; ISID=%7B%22www.tokopedia.com%22%3A%22d3d3LnRva29wZWRpYS5jb20%3D.8109202435e7e49eaa74f4f7a9fca585.1737713243405.1737713243405.1737715293578.16%22%7D; _dc_gtm_UA-9801603-1=1; _ga_70947XW48P=GS1.1.1737713243.1.1.1737715293.60.0.0; _ga=GA1.1.1612239045.1737713243; webauthn-session=02678496-f1f1-45e8-8bdc-7ea6e24fd215\"]\\n'"
            ],
            "application/vnd.google.colaboratory.intrinsic+json": {
              "type": "string"
            }
          },
          "metadata": {},
          "execution_count": 52
        }
      ]
    },
    {
      "cell_type": "code",
      "execution_count": 19,
      "metadata": {
        "id": "77qFL8mVu-PW"
      },
      "outputs": [],
      "source": [
        "#persiapan 'identitas produk'\n",
        "idlist =  [\"7576252307\", \"1624334615\", \"7576433902\",  \"1624293521\",  \"1624323568\",  \"2390937942\" ] #enam sampel ini dari Erigo\n",
        "#urutan dari kiri ke kanan : [a,b,c,d,e,f]\n",
        "#ke fragmentasi"
      ]
    },
    {
      "cell_type": "code",
      "execution_count": 53,
      "metadata": {
        "id": "tD5CIWA_vPtL"
      },
      "outputs": [],
      "source": [
        "#fragmentasi data untuk kemudahan\n",
        "[urla, urlb, urlc, urld, urle, urlf] = urllist #daftar URL referensi\n",
        "#[cookiea, cookieb, cookiec, cookied, cookiee, cookief] = cooklist #daftar cookie\n",
        "[ida, idb, idc, idd, ide, idf] = idlist #daftar ID produk\n",
        "#ke persiapan target dan kepala"
      ]
    },
    {
      "cell_type": "markdown",
      "metadata": {
        "id": "nMKgccHdvx12"
      },
      "source": [
        "# Proses Iterasi untuk data"
      ]
    },
    {
      "cell_type": "markdown",
      "metadata": {
        "id": "TXLxxwqvv0yS"
      },
      "source": [
        "## Persiapan"
      ]
    },
    {
      "cell_type": "markdown",
      "metadata": {
        "id": "WpGdaDrwxl_U"
      },
      "source": [
        "### Pembentukan kepala dan **'bentuk kueri'**"
      ]
    },
    {
      "cell_type": "code",
      "execution_count": 54,
      "metadata": {
        "id": "0Ic-IFTtxwL-"
      },
      "outputs": [],
      "source": [
        "#Persiapan kepala dan kueri yang distandardisasi\n",
        "def stdheader(url, idpr): #idpr adalah identitas produk\n",
        "  halaman_awal = 1 #di kueri\n",
        "  kplstd = {'accept': '*/*',\n",
        "   'accept-language': 'en-US,en;q=0.9',\n",
        "   'bd-device-id': '7463084441910052353',\n",
        "   'content-type': 'application/json',\n",
        "   'dnt': '1' ,\n",
        "   'origin': asal,\n",
        "   'priority': 'u=1, i',\n",
        "   'referer': url,\n",
        "   'sec-ch-ua': '\"Not A(Brand\";v=\"8\", \"Chromium\";v=\"132\", \"Google Chrome\";v=\"132\"',\n",
        "   'sec-ch-ua-mobile': '?0',\n",
        "   'sec-ch-ua-platform': '\"Windows\"',\n",
        "   'sec-fetch-dest': 'empty',\n",
        "   'sec-fetch-mode': 'cors',\n",
        "   'sec-fetch-site': 'same-site',\n",
        "   'user-agent': 'Mozilla/5.0 (Windows NT 10.0; Win64; x64) AppleWebKit/537.36 (KHTML, like Gecko) Chrome/132.0.0.0 Safari/537.36',\n",
        "   'x-price-center': 'true',\n",
        "   'x-source': 'tokopedia-lite',\n",
        "   'x-tkpd-lite-service': 'zeus',\n",
        "   'x-version': '1c2c0dd'}\n",
        "  return kplstd"
      ]
    },
    {
      "cell_type": "code",
      "execution_count": 55,
      "metadata": {
        "id": "KJDfP1ajzPUT"
      },
      "outputs": [],
      "source": [
        "#variasi kepala untuk iterasi [dari indeks 0 ke lima dengan arah kiri ke kanan]\n",
        "kplstdlist = [stdheader(urla, ida), stdheader(urlb, idb), stdheader(urlc, idc), stdheader(urld, idd), stdheader(urle, ide), stdheader(urlf, idf)]\n",
        "#ke persiapan bentuk"
      ]
    },
    {
      "cell_type": "markdown",
      "metadata": {
        "id": "VSgLYUElzve9"
      },
      "source": [
        "### Iterasi utama"
      ]
    },
    {
      "cell_type": "code",
      "execution_count": 58,
      "metadata": {
        "id": "Skfzhb77zxeS"
      },
      "outputs": [],
      "source": [
        "# Proses iterasi produk\n",
        "def datagenerator(url, idpr):\n",
        "    # Pemanggilan fungsi pertama (stdheader)\n",
        "    header = stdheader(url, idpr)\n",
        "    # Persiapan bentuk untuk iterasi\n",
        "    daftar_teks = []\n",
        "    daftar_nilai = []\n",
        "    daftar_label = []\n",
        "\n",
        "    # Batas halaman untuk ulasan\n",
        "    awal = 1  # dari halaman 1\n",
        "    akhir = 50  # batas ulasan paling tinggi\n",
        "\n",
        "    # Iterasi\n",
        "    while awal <= akhir:\n",
        "        # Pemformatan kueri\n",
        "        fquery = f'[{{\"operationName\":\"productReviewList\",\"variables\":{{\"productID\":\"{idpr}\",\"page\":{awal},\"limit\":10,\"sortBy\":\"informative_score desc\",\"filterBy\":\"\"}},\"query\":\"query productReviewList($productID: String\\u0021, $page: Int\\u0021, $limit: Int\\u0021, $sortBy: String, $filterBy: String) {{\\\\n  productrevGetProductReviewList(productID: $productID, page: $page, limit: $limit, sortBy: $sortBy, filterBy: $filterBy) {{\\\\n    productID\\\\n    list {{\\\\n      id: feedbackID\\\\n      variantName\\\\n      message\\\\n      productRating\\\\n      reviewCreateTime\\\\n      reviewCreateTimestamp\\\\n      isReportable\\\\n      isAnonymous\\\\n      imageAttachments {{\\\\n        attachmentID\\\\n        imageThumbnailUrl\\\\n        imageUrl\\\\n        __typename\\\\n      }}\\\\n      videoAttachments {{\\\\n        attachmentID\\\\n        videoUrl\\\\n        __typename\\\\n      }}\\\\n      reviewResponse {{\\\\n        message\\\\n        createTime\\\\n        __typename\\\\n      }}\\\\n      user {{\\\\n        userID\\\\n        fullName\\\\n        image\\\\n        url\\\\n        __typename\\\\n      }}\\\\n      likeDislike {{\\\\n        totalLike\\\\n        likeStatus\\\\n        __typename\\\\n      }}\\\\n      stats {{\\\\n        key\\\\n        formatted\\\\n        count\\\\n        __typename\\\\n      }}\\\\n      badRatingReasonFmt\\\\n      __typename\\\\n    }}\\\\n    shop {{\\\\n      shopID\\\\n      name\\\\n      url\\\\n      image\\\\n      __typename\\\\n    }}\\\\n    hasNext\\\\n    totalReviews\\\\n    __typename\\\\n  }}\\\\n}}\\\\n\"}}]'\n",
        "\n",
        "        # Make request\n",
        "        response = requests.post(turldoma, headers=header, data=fquery)\n",
        "\n",
        "        # Check for HTTP errors\n",
        "        if response.status_code != 200:\n",
        "            print(f\"Error: Received status code {response.status_code}\")\n",
        "            break\n",
        "\n",
        "        try:\n",
        "            daftar_ulasan = response.json()[0]['data']['productrevGetProductReviewList']['list']\n",
        "            if not daftar_ulasan:\n",
        "                break  # Exit loop if no reviews are returned\n",
        "\n",
        "            for review in daftar_ulasan:\n",
        "                daftar_teks.append(review['message'])\n",
        "                daftar_nilai.append(review['productRating'])\n",
        "                if review['productRating'] == 0:\n",
        "                    daftar_label.append('total disappointment')\n",
        "                elif review['productRating'] == 1:\n",
        "                    daftar_label.append('so inferior')\n",
        "                elif review['productRating'] == 2:\n",
        "                    daftar_label.append('very low')\n",
        "                elif review['productRating'] == 3:\n",
        "                    daftar_label.append('average')\n",
        "                elif review['productRating'] == 4:\n",
        "                    daftar_label.append('good')\n",
        "                elif review['productRating'] == 5:\n",
        "                    daftar_label.append('excellent')\n",
        "                else:\n",
        "                    daftar_label.append('No score')\n",
        "            awal += 1\n",
        "\n",
        "        except (KeyError, IndexError) as e:\n",
        "            print(f\"Error parsing JSON response: {e}\")\n",
        "            break\n",
        "\n",
        "    return daftar_teks, daftar_nilai, daftar_label\n",
        "#ke eksekusi"
      ]
    },
    {
      "cell_type": "code",
      "execution_count": 59,
      "metadata": {
        "id": "_R3ZAg_n3iPC"
      },
      "outputs": [],
      "source": [
        "#Proses pembentukan daftar dari enam produk untuk disatukan (Bagian 1)\n",
        "teks1, nilai1, label1 = datagenerator(urla, ida) #ProdukA\n",
        "teks2, nilai2, label2 = datagenerator(urlb, idb) #ProdukB\n",
        "teks3, nilai3, label3 = datagenerator(urlc, idc) #ProdukC\n",
        "#ke bagian 2"
      ]
    },
    {
      "cell_type": "code",
      "execution_count": 60,
      "metadata": {
        "id": "RuvUTpU5UPJX"
      },
      "outputs": [],
      "source": [
        "#Bagian 2\n",
        "teks4, nilai4, label4 = datagenerator(urld, idd) #ProdukD\n",
        "#ke bagian 3"
      ]
    },
    {
      "cell_type": "code",
      "source": [
        "#Bagian 3\n",
        "teks5, nilai5, label5 = datagenerator(urle, ide) #ProdukE\n",
        "teks6, nilai6, label6 = datagenerator(urlf,idf)"
      ],
      "metadata": {
        "id": "qgczaGiwlL5_"
      },
      "execution_count": 61,
      "outputs": []
    },
    {
      "cell_type": "markdown",
      "metadata": {
        "id": "jrDAugQi7vBw"
      },
      "source": [
        "### Penyatuan ke satu data"
      ]
    },
    {
      "cell_type": "code",
      "source": [
        "#inspeksi bentuk data\n",
        "print(teks1) #teks pesan\n",
        "print(nilai1) #nilai\n",
        "print(label1) #label"
      ],
      "metadata": {
        "id": "ezNfY1iDTsqr",
        "colab": {
          "base_uri": "https://localhost:8080/"
        },
        "outputId": "274baa4a-3ce4-4c41-e316-ee8e202685fa"
      },
      "execution_count": 62,
      "outputs": [
        {
          "output_type": "stream",
          "name": "stdout",
          "text": [
            "['barang bagus kualitas nya top harga nya naik overall 100 dijamin ori', 'modelnya keren, bahannya bagus cuma agak kepanjangan. perlu dipermak dikit.', 'tinggi 175 bb 60 ukuran L cocok si, pas dan enak banget bahannya adem, murah lagi', 'enak di pake adem dan kece pas di badan gw. tapi kayaknya mudah lecek. Nyaman dipakai Modelnya keren 😎 Jahitannya rapi Ukuran sesuai Warnanya mantap Bahannya adem Kancing tidak mudah lepas Produk sesuai dengan foto Kualitas produk bagus', 'APAAN INI WOY KEREN BANGET KEMEJA NYA ga usa ragu kualitas Erigo ganteng banget sumpah, kemeja nya ga kaku tapi juga ga kerut bahan adem lembut halus gmn yah Kyk ga mau Di lepas kalau pakai ini kemeja. Sukses terus erigo pertahankan ya kualitas barang udh ganteng banget ini mah harga setara 200 rb. Ydh itu aja review nya', 'oke paket di terima dengan baik ,, untuk kualitas barang oke kok kak 😁 bagus ,, tapi sayang nya untuk pengiriman agak lama kak oke itu saja dari saya', 'pas, bahannya enak banget dibadan dan juga keren. ga heran sih karena ini dari erigo, mantap dah', 'overall bagus. lebih baik pilih satu soze keatas. rada susah disetrika.', 'Keren. Pas ukurannya. Bagus bahannya. Premium. Top. Terima Kasih.......................', 'bahan adem, warna sesuai. \\npacking aman. \\nproses dan pengiriman cepat.', 'Ukurannya terlalu besar Tinggi badan 160 - 170 cm Berat badan &gt; 80 kg', 'produk original mantap bener cooyy 🤩🤩', 'Modelnya Keren! Pas dibadan &amp; nyaman waktu dipakai kerja atau pun beraktivitas. Bahannya Cukup Tebal tapi tidak panas.', 'mantap, one piece udah episode 1034 dan terus berjalan, terus ada house of dragon juga. hat tontonan, pkoknya mantap dah', 'ini cutting-annya gimana sih? gak jelas!\\nawal beli L kegedean, terus beli yang M masih agak kegedean, nah sekarang beli yang S, malah lebih gede dari yang L 😅🤣😂', 'model nya pas bgus..😁🔥 top mamtap is the bet', 'Barang sesuai \\nRespon toko cepat', 'yg kanan brand lain ukuran M sesuai deskripsi...yang kiri Erigo &#34;Lebel&#34; ukuran M. tp panjang baju gk sesuai deskripsi...yg datang panjang ±75cm &#34;XXL&#34;', 'Bahan sendiri kelihatan tipis tapi ternyata ketika dipake ngga seperti itu. bahannya enak jugaa buat dipake. emang ngga pernah nyesel beli di sini.', 'Warnanya lucu dan bahan yang dipakai nyaman apalagi di cuaca panas. Terima kasih ya 😊', 'Nyaman dipakai.\\xa0Ukuran sesuai.\\xa0Warnanya mantap.\\xa0cuma bahannya tipis', 'bahan super lembut dan lemes nyaman di pakai kain berkualitas kancing jahitan rapi dll sempurna', 'Bahan baju adem bgt, baru tau ternyata bahan rayon itu adem dan lumayan lemes, jadi cocok buat jalan. desain baju baikk, pengiriman regulernya cepat. terima kasih!', 'Pesanan sdh diterima dlm kondisi baik sesuai note size dan warnanya, seller respon cepat, bahan adem dipakai nyaman, model jg bagus, semoga awet, pengiriman cepat sampai. terima kasih', 'Gila mantap bener cuy. Kainnya adem lemes, ringan banget, dipake jalan kaki ke kampus juga adem parah padahal Depok panas. Top lah, ditunggu ya next order buat warna lainnya (saran buat TB 170 BB +-68 pake ukuran yg aku pesan aja)', 'Cukup puas.\\nQuality control harus lebih diperhatikan. Masih banyak benang sisa jahitan berlebihan di setiap sisi. Bikin jahitan kurang rapih. Tapi bahan sudah bagus.', 'cukup tebal dan agak sedikit menerawang tapi tidak masalah. \\n\\nnamun looks pertama yang diliat adalah ada seperti kilauan bekas setrika ketika kena pantulan cahaya. mungkin terlalu panas saat setrika produk.', 'sesuai pesanan, bahannya halus juga adem\\nerigo is the best', 'murah yg bukan murahan! bagus, jahitan rapi, adem, bahan jatuh ngga kaku. Next pasti bakal beli lagi. saya pakai size Large, TB 172, BB 75. Pas bgt size nya!', 'Barang Bagus.\\n\\nkalau bisa jangan lagi pakai exp JN* pesen barang di tiga 3 toko berbeda dan beda kota, semua nya lambat karna pengiriman di bulak balik gudang A ke B balik lagi ke A lalu ke B lagi dan baru ke C dan mandet 2 hari, baru sampai hari ini.', 'bahannya bagus, tapi jahitannya kurang rapih pada bagian lengan sebelah kanan tidak simetris dengan yg kiri panjang sebelah.\\n\\npengiriman lemooott', 'Ukurannya pas Tinggi badan 171 - 180 cm\\nbahannya adem dan nyaman dipakai, keren n bagus pokoknya mah👍🙏', 'Packing rapih. Bahannya bagus, adem. \\nUkurannya pas Tinggi badan 171 - 180 cm Berat badan 71 - 80 kg. Thanks 👍', 'pengiriman cepat, packagingnya aman, bahan halus, model bagus', 'Sesuai gambar, bahan cukup tebal. Adem dipakai. \\nJahitan dan Cutting rapih.', 'kain adem jahitan rapi modelnya stylish keren nyaman dipake', 'bahan nya adem tebal dan lembut  Ukurannya pas', 'pengiriman cepat.\\npackaging aman.\\nBahan kemejanya adem dan nyerap keringat.', 'Bahannya soft and cool, cocok untuk aktivitas kerja atau kuliah ✊', 'kaos bagus, hanya beberapa kendala saya alami. mungkin karena faktor lebaran. pengiriman terlalu lama dan tidak sesuai pesanan. tetapi komplain dilayani dengan baik. terimakasih', 'Ukurannya pas, bahan lembut dan enak. top 👌', 'Good 👍,,,bahan adem n nyaman dipakai,,,thx', 'MantapKualitas produk bagus. Ukuran sesuai. Modelnya keren 😎. Tidak menerawang. Kancing tidak mudah lepas. Produk sesuai dengan foto.', 'Kemejanya bagus. Bahannya adem, tidak mudah kusut dan terlihat premium. good.', 'bahanyah bagus alus adem juga saat dipakai', 'bajunya adem enak dipakai jaitanya juga rapi, kurir baik banget', 'Keren... Bahannya adem dan ukurannya pas.', 'barang sesuai pesanan dan telah dicoba pas d badan saya BB 74 TB 170 ukuran L. hanya proses pengiriman saja yang bermasalah', 'untuk barang oke&#34; saja dan aman\\nkualitas oke\\nuntuk pengirimanya lumayan lama', 'bagus, cuma ya ga setebel celana yg harga 160 keatas. tp hampir menyaingi keren banget. ga salah brand ini tembus ampe ke amerika.. keren erigo👍👍', 'Bahannya sih enak cuma ya Jahitannya gk rapih ,keliatan soalnya ….', 'Ukurannya pas,sesuai,bahan lembut ..adem...rajin strika yaaaa....', 'overall bagus tp masih ada bahan yg kurang rapi', 'barang sesuai pesanan, bahan well sekalii thanks', 'beli 2, warna hitam dan hijau agak tua.\\nbahan oke, jaitan oke, pengiriman cepat\\n\\ntapi....\\n\\nyang hitam ini mengecewakan.. ngga XL ngga XXL juga, fittingnya beda dengan warna satunya lumayan jauh padahal model dan tipe sama hanya beda warna. \\n\\nentah karena beda supplier atau apa alasannya. tapi sekelas erigo punya model sama hanya beda warna sizenya beda itu kacau sih...\\n\\npesannya sama sama XXL padahal.\\nsemoga diperbaiki aja kualitasnya', 'Bahan bagus keren sesuai dengan brand 👍🏻👍🏻', 'pengiriman cepat, produck original makasih ya', 'Pengirman cepat, kwalitas jelas mantap tq #erigo', 'Tinggi badan 171 - 180 cm Berat badan 71 - 80 kg Ukurannya pas', 'Baju pas, sesuai chart, kualitas bagus, tipis tapi adem, seller membantu masalah ukuran, uda sering beli Erigo, so far ngga pernah kecewa/di kecewain.', 'ukuran agak besar, bahan alus nyaman dipakai, paking rapi, pengiriman cepat. Terimakasih.', 'bahan enak , pas , Pengiriman standar , gak jera intinya beli di erigo bahan ama harga sesuai kualitas.\\napalagi ada diskon auto gercep beli', 'Kualitas produk bagus.\\xa0Nyaman dipakai.\\xa0Jahitannya rapi.\\xa0Ukuran sesuai.\\xa0Bahannya adem.\\xa0Tidak menerawang.\\xa0Produk sesuai dengan foto.\\xa0 pengiriman cepat. thanks', 'Kualitas oke, barang sesuai pesanan, cuma packing kurang, packing sobek seperti dibuka oleh pihak jasa kirim Sicepat. Mohon diperbaiki agar kejadian tidak terulang kembali. Terima kasih', 'Kualitas produk bagus.\\xa0Modelnya keren 😎.\\xa0Warnanya mantap.\\xa0Bahan menyerap keringat.\\xa0Kancing tidak mudah lepas.\\xa0Ukuran sesuai.\\xa0Nyaman dipakai.\\xa0Tidak menerawang.\\xa0Produk sesuai dengan foto.\\xa0Jahitannya rapi.\\xa0Bahannya adem.', 'Ukurannya pas sesuai rekomendasi adminnya.,sangat membantu\\nBahannya enak adem.model keren warnanya bagus', 'ukuran pas bahan agak tipis tapi bagus, kirain sama kaya hem nya ternyata kain nya lemes, okelah', 'mantap pengiriman cepat bahan halus dan adem banget,..  Kualitas produk bagus Modelnya keren 😎', 'Kualitas produk bagus.\\xa0Nyaman dipakai.\\xa0Modelnya keren 😎.\\xa0Jahitannya rapi.\\xa0Bahannya adem.\\xa0Produk sesuai dengan foto.\\xa0Kancing tidak mudah lepas.\\xa0Ukuran sesuai.', 'Tinggi badan 165, berat badan 75, serasa memakai kemeja oversized, tapi karena bahannya jatuh jadi bagus2 aja. mungkin bakal coba yang ukuran M selanjutnya.', 'Ukurannya pas Tinggi badan 160 - 170 cm Berat badan &gt; 80 kg', 'Produk sesuai deskripsi, bahannya adem,  Ukurannya terlalu besar, padahal  Tinggi badan 171 - 180 cm berat sekitar 80 kg, karena kebiasaan pakai model slim fit mestinya ambil ukuran L, jadi mesti di rombak dikit ke tukang jahit, overall bagus sih', 'bahan enak, ga panas, fittingan bagus, semoga awet 👌', 'sudah sesuai pesanan bahan bagus sesuai ekspetasi, pengiriman juga tokcer cepat pake banget harga juga oke, intinya puas', 'nyaman dipake bahan adem mantap lah pokokke', 'bahannya bagus, tapi ukuran S seperti ukuran L kalau untuk size lokal', 'Pas dibadan, kwalitas bahan oke banget, pengiriman cepat', 'bahannya adem dan ga gampang lecek. ga heran sih kalo erigo pasti kualitasnya cucok dan harganya terjangkauu', 'Ukurannya pas, bahan nyaman, hanya saja sayangnya minus kantong :(', 'Tinggi badan 160 - 170 cm Berat badan 60 - 70 kg. Bahan alus dan adem. Sebaiknya pakai M atau L. Tetapi tetap nyaman meski agak kebesaran dikit.', 'adem, berat 70, tinggi 173, pake L, cocok, ga kecil ga besar, mines pengiriman', 'Ukurannya pas mantap, bahan keren adem dipake', 'sip mantab sesuai pesanan, brg bagus bahan nyaman.. Ukurannya pas', 'Modelnya cakep, bahan juga nyaman ga bikin gerah', 'respon penjual baik pengemasan dan pengiriman cepat sampai, bahan nya adem bgt jatuh enak dipakai, harga hemat', 'packing rapih, pengiriman cepat, nyaman digunakan tapi terlalu gampang lecek jadi harus rajin&#34; ngegosok, overall puas', 'Bahan nya bagus dan adem bikin nyaman dipake', 'seller cukup fast respond, packing rapi.\\nbahannya jatoh gitu, adem, tp mayan gampang kusut. tp overall oke sih.', 'bahan nya nyaman, seller respon nya baik sangat informatif', 'Kualitas produk bagus Nyaman dipakai Ukuran sesuai', 'nyaman banget dipake. erigo kualitasnya the best 👍', 'Bahannya jatoh gtu halus, sesuai harapan. Ukuran sesuai.', 'Worth it 99k, bahan adem + halus, tipis jadi cocok untuk cuaca indo, di cuci ngga luntur, pengiriman cepat banget ke pacitan', 'Bahan kainnya bagus,pakaian nyaman dan lenih dingin ketika di pakai', 'pengirimann cepat, respon luar biasa cepat, mantep sih adminnya banyak, keren dan fitnya sebagus itu di gw dan pasti murah, promonya gila sih.\\n\\nNew customer kaya gw sih puas banget, bakal beli klu ada rezeki tambahan 👍', 'ukurannya tidak sesuai, setelah baca review ternyata memang warna hitam tidak sesuai ukurannya(JAUH LEBIH BESAER). \\ndan cek di gerai nya pun di aeon deltamas juga ukurannya memang yang hitam lebih besar dari warna yang lain.', 'bahan nyaman jahitan rapi ukuran pass banget', 'kualitas bagus\\nbarang oke\\npengiriman cepat\\nseller ramah bintang 5\\nsukses terus buat selernya', 'Modelnya bagus, Bahan adem jatuh, Jahitan Rapi..', 'paket sampai dengan aman, bahan halus dan nyaman, cm qc perlu diperhatikan, banyak serabut2 benangnya', 'adem. bahan nya bagus. tp kata emak bahan kyak gini gak bakal tahan.. oke kita coba aja kali yaa. setelah cuci 2 kali', 'cakeeep lah sesuai dengan ukuran harganya. tidak mengecewakan dan bahan halus rapiih. haruus rajiin di setrika sebelum dipakai biar ga leceek', 'Mantap, bahan lembut dengan tinggi 180 dan BB 80 ukuran XL terasa pas. \\nini agak kusut karena baru unboxing dan belum disetrika. \\nmantap pokoknya Erigo. 👏👍', 'produknya bagus. cuma ukurannya terlalu besar', 'Kualitas produk bagus Modelnya keren 😎 Nyaman dipakai Bahannya adem', 'barangnya bagus nyaman dipakai bahannya juga adem pokoknya best deh erigo', 'kainnya bagus, pastinya kalau dipakai gk bikin panas jadinya nyaman, pokoknya worth it dah 👍👍', 'jahitan rapi, pas dipakai. murah tapi gak murahan', 'mantap bahannya bagus, jahitan juga rapi Dengan tinggi 180cm dan berat 74 Kg produknya pas dibadan', 'Ukurannya pas Berat badan &gt; 80 kg,\\nBahan nya juga oke, cuma kemarin waktu pengiriman nya lama di ekspedisi', 'Ada bercak noda putih pucat dibagian perut sebelah kanan. kondisi baju belum dicuci', 'Ukurannya pas Tinggi badan &lt; 160 cm Ukurannya terlalu kecil Tinggi badan &gt; 180 cm Ukurannya terlalu besar Tinggi badan 171 - 180 cm Berat badan &lt; 60 kg Tinggi badan 160 - 170 cm', 'bagus, bahan adem, ukuran di lebihin supaya masih OK kalo nyusut', 'Beyond expectation bagus banget l, bahan adem, cutting nya cocok, xl nya gede, jadi mungkin next order yg L deh, keren Erigo!', 'modelnya keren, pas dibadan dan adem juga bahannya Ukurannya pas', 'Model keren, bahannya tebel tapi adem banget. Cocok banget buat santai.', 'sebenernya ini buat kado dan langsung dikasih jd gatau detail testinya gmn. tp dri penerima sih gaada komplain, bagus katanya. so pasti bagus, makanya saya kasih kado erigo✨✨✨', 'pengiriman cepet banget,...estimasi Dateng tgl 3 tgl 2 udah Dateng..... walaupun bahannya tebal tapi adem dipake', 'bagus bahannya, modelnya oke, jahitan rapih, warnanya kalem, ukuran sesuai, dikirim cepat, harga murah tapi gak murahan. ERIGO koq kamu gak ada kurangnya sih.....? 🤩', 'mantap.. barang cpt sampai. bahan nyaman dan tebal 👍👍👍', 'Ukurannya pas Ukurannya terlalu besar Ukurannya terlalu kecil Tinggi badan 171 - 180 cm Tinggi badan &lt; 160 cm Tinggi badan 160 - 170 cm Berat badan 60 - 70 kg Tinggi badan &gt; 180 cm Berat badan &gt; 80 kg Berat badan &lt; 60 kg Berat badan 71 - 80 kg', 'udh beli 2 x.. bagus bgtt .. bahannya gak kalah ma brand2 di mall..cepet respon lagi.. gak kecewa..', 'bahannya adem enak dipakai, tapi maaf yah, cepet sobek dibagian lehernya, smg kedepan jahitannya oke lagi mksh', 'Tinggi badan &lt; 160 cm, barangnya oke punya ga boong, asli enak banget dipakenya juga Ukurannya pas', 'packing aman, bahannya lembut dan enak', 'Bagus Banget ngga nyesel bahannya OKK BGT...erigo is the best', 'Barangnya cepat sampai, bahan halus jadi adem di pakai, model juga bagus, recomended seller deh pokoknya👍🏻👍🏻👍🏻', 'bahannya adem dan nyaman. jahitannya rapi, dapet harga diskon juga. terima kasih', 'bahan bagus, ok, tapi pengiriman lama, Ukurannya pas', 'ngga usah di tanya lagi, the best', 'baju sesuai pesanan, bahannya nyaman dan adem', 'pengiriman cepat, bahannya juga bagus 👍', 'Model nya gw suka simple polos, ukuran nya juga pas, kapan kapan beli lagi si ini, harga nya juga terjangkau', 'bajunya pas di badan,bahannya lembut,modelnya bagus,jahitannya rapi.gk rugi deh kalo beli di erigo', 'Barang sesuai deskripsi, packing rapih n aman, pengiriman jg cepat. POKOKNYA TOP 👍👍👍', 'bahan bagus, harga diskon &amp; pengiriman cepat, ditunggu order selanjutnya', 'erigo keren banget, kemarin belanja sekali puas langsung reorder. mumpung diskon ya 😄', 'pas di badan . jadi Ngak perlu potong lagi bawah nya', 'Bagus, bahan rayon nya adem dan gak ada cacat sama barangnya. Terbaiklah erigo', 'pengiriman cepat,packing rapih, kondisi produk aman..👍👍', 'Kemeja erigo emang ga pernah salah, bahannya lembut, warnanya beneran item, size juga pas sesuai deskripsi size chart.', 'bagus banget, bahannya rayon, adem. pengiriman juga cepat. dapat stiker juga. thanks', 'Seperti biasa bahan nya bagus dan adem, pengiriman cepat.\\nOrderan ke 5 ini.', 'barangnya sudah sampai, pas bgt, bahannya juga adem, dapat stiker juaga, pokoknya top lah, makasih seller.', 'overall suka bgt sm bajunya. bahannya rayon tebel halus dan nyaman bgt. tapi sumpah sebelom checkout tau banget dapet cashback 16 rb (10 dr voucher erigo + 6rb cashback 5% dr tokped) tp masa pas udh pesanan selesai cuma dapet goceng sii??', 'produk sesuai. bahan adem dan halus. tapi salah pilih size jadi kegedean, tapi gpp..\\npengiriman cepat', 'nice, sesuai pesanan &amp; ukuran pass 👍 Tinggi badan 171 - 180 cm', 'Ukurannya pas Tinggi badan 160 - 170 cm, berat 75kg cocok bahan adem, rekomendasi', 'barang oke, cuma proses packing dan pengiriman masih lama', 'Tebalnya pas, bahannya adem. Tapi ga pernah sama bentukannya tiap kali beli, ada sobek dikit bagian lengan', 'Dapet harga 35rb plus ongkir 13rb gpp jd 48rb dapet Erigo ini Suka sama Bahannya Adem Banget Nyaman bahannya gatipis..', 'Dapet harga 35rb plus ongkir 13rb gpp jd 48rb dapet Erigo ini Suka sama Bahannya Adem Banget Nyaman bahannya gatipis..', 'Tinggi 182-82 pake size xl kepanjangan coy gile kaya baju ondel ondel', 'kemeja sdh diterima, bahannya halus ,lembut. semoga adem dipakai. 👍 full star deh', 'Bahannya adem bagus sesuai foto. sesuai ekspektasi. Mantap', 'gausa di raguin lagi kalo di erigo, udah pasti bagus dari kualitas dan harga yg masih terjangkau👍🏻👍🏻👍🏻 Tinggi badan &lt; 160 cm Berat badan &lt; 60 kg Ukurannya terlalu besar', 'keren sih mau kurus mau badan geden pun coccok pakenya\\nbahan bagus', 'Ukurannya terlalu besar, padahal sudah pesan ukuran S.', 'Kek gitu lah ya packaging-nya alias baguss bgttt. bajunya lagi di laundry tp bener2 bagus bgt, adem gitu dan ga gampang kusut. buat uk xxl di badan 87kg tb 180an bagus bgtt cmn agak kegedean sedikit, but overall so good', 'kerennn, bahannya juga adem,adminnya jg ramah,tengkyu 🙏', '2024 beli warna putih ukuran XL lebih longgar. 2025 beli yang hitam ukuran XL lebih sempit. Pas dibandingkan memang yang hitam lebih kecil sedikit', 'bahannya adem dan tebel, warna hitamnya oke banget!', 'pengiriman cepat, packing rapih. kondisi produk sesuai..👍👍', 'bagus bahannya adem , gak gerak , ukursn pas , next beli lagi', 'Bahan bagus, pengiriman cepat. Sukses selalu✨', 'Modelnya Keren, Bahan Adem, Cocok Untuk Harian.', 'Pengemasanny cepet sangat 👍\\nbahanny adem nih. keren deh pokokny.\\nkukira bakalan kebesaran untuk ukuran XL ternyata pas :v\\nbest lah', 'Bahan adem bagus buat formal atau kepantai', 'pas sesuai ukuran badan saya Tb: 174 cm, Bb: 83 kg. bahannya halus dan agak licik tapi mungkin emang modelnya begitu. top', 'SIZE sama tapi panjang selisih 10cm lebih.\\n\\nkalau 1cm atau 2cm bahkan 3cm pun masih gw wajarin.\\n\\nini 10cm,\\n10cm njir🥲', 'saat fase proses tidak dibolehkan tukar barang, karena ternyata nggak ada kantong depan, dan mau cancel pun ditolak huhu.. its ok,\\npas datang barang nya baru mau dicoba kancing nya udah copot huhu..', 'barang sesuai semoga cocok dan awet dipakai Ukurannya pas', 'pesen 2 pcs warna coklat dan hitam. sama2 ambil ukuran L, tapi pas di pakai ukurannya beda, yg coklat terlalu kecil, sedangkan yg hitam kebesaran. Jahitan yang warna hitam juga tidak simetris. Padahal brand sebesar ini.', 'agak kepanjangan, jadi masukin baju ke celana, ... bahan halus, lumayan neh', 'Brg sdh diterima dgn baik, ukuran sesuai order, bhn bgs halus, ga panas, warna ok, model ok, packing ok, size XXL kebesaran dan kepanjangan utk TB 175cm BB 87kg, hrsnya pilih yg L/XL aja, pengiriman cepat, thx', 'Sudah kesekian kali beli, selalu bagus. Bahan adem.. masukan saja prodksi barang nya jangan terlalu banyak biar ga terlalu pasaran', 'ok bnget, cuma kurirnya aja sampe 2 hari bad adress mulu Ukurannya pas', 'Bahannya adem, ukuran pas. pengiriman nya lama. Tp tetap puas dg produk yg diterima', 'mantappp minn bahan nya bagus banget ga rugi deh', 'bahan lembut, tapi di bandingkan sentuhan dia lebih lembut sentuhan dia sih. overall enak di pake tanpa kaos dalam juga sih.', 'Deskripsi ukuran harus lebih presisi. Sy beli yg wrn hitam utk yg ke 2x ny dgn ukuran yg sama spt sebelumnya yaitu XL, ternyata kali ini kemeja yg dateng cuttingnya seperti XXXL meski di baju tertera ukuran XL. Dan warna lain putih, hijau yg di beli bersamaan jg ukurannya tdk ada yg sama meski semuanya sy pilih ukuran XL. Padahal ini produk ke 10 (kaos &amp; kemeja) yg sy beli..smg kedepannya lbh konsisten ukurannya. Sayang bgt pdhl material &amp; modelnya bagus2', 'fast respon, pengiriman sangat cepat, kemeja nya keren dan size M nya pas. mantap dah', 'bGus dan keren.   gak panas kain nya .. rasanya ringan bgt', 'Barang keren ukuran pas ini beli ke berapa kalinya baik semua hasilnya', 'Barang kurang 1, untung bisa balik duit nya, buat pelajaran aja jd bintang 1', 'barang bagus, pengiriman lama sekali, keterangan gagal pick up barang belum siap terus.', 'tampak jauh perjalanan kemeja-kemeja ini.. agak lama proses dan kirim barangnya,, enak beli langsung di toko/bazarnya erigo daripada online,, lama 😅', 'Alhamdulillah tdinya salah pesen malah UK L eh taunya pas.. bahannya juga bagus sukakk', 'Ukurannya terlalu besar, m aja gede bgt 😥', 'BARANG JELEK GINI DIKASIH KE COSTUMER. BIKIN KECEWA AJA. PARAH PARAH!', 'bahannya enakkk dan bagus..\\nukuran L untuk saya tinggi 172 an sesuai.', 'produk sesuai deskripsi n foto... ukuran dan warna yg dikirimkan sesuai request... fast delivery, jum&#39;at siang placing order, sabtu siang dah datang... bahan adem', 'Pengirimannya lama banget padahal deket lokasinya. jahitan kurang rapi. bahan adem enak nyaman.', 'pengiriman cepat sekali . pesanan ok .  Ukurannya pas', 'kemejanya bagus tapi pesan S masih kebesaran bagiku wkwkw', 'cuttingan dan bahanya sesuai deskripsi, bagi yang berbadan tebal wajib up size biar ga ngatung', 'barangnya bagus bahanya lembut semoga warnanya ga gampang luntur', 'mayan murah drpd yg di offline store, bahan adem, cuttingan ok', 'model nya keren bhn nya tebal,sya suka.cuma sayang ke gedean.biasa pke uk M ini mlah ke gedean..edisi geser ke tukang jait...', 'modelnya keren, pas dibadan', 'Barang sesuai pesanan, packaging ok, pengiriman ok. Tks 🙏🏼', 'Barang sesuai pesanan, packaging ok, pengiriman ok. Tks 🙏🏼', 'baguuus bahan nyaa, jatuh gtuuh\\nmuraah meriah aselii', 'Kualitas sesuai harga, luntur parah ternyata', 'katanya kemejanya bagus, terimakaaih admin', 'Ukurannya pas Berat badan 60 - 70 kg Tinggi badan 171 - 180 cm', 'kalo belanja online langsung dari official storenya insya allah gakan kecewa , barang bagus!', 'Ukurannya pas untuk Tinggi badan 171 - 180 cm dan Berat badan 71 - 80 kg, mantaps....', 'Ukurannya pas Tinggi badan 160 - 170 cm Berat badan 60 - 70 kg', 'Bahannya enak banget, adem. Oversized dikit buat BB 83kg TB 172cm.', 'Ukurannya pas Tinggi badan 160 - 170 cm Berat badan 60 - 70 kg', 'Ukurannya pas Tinggi badan 160 - 170 cm Berat badan 60 - 70 kg', 'bahanya lembut dan adem, cocok untuk casual dan santai', 'Hendaklah engkau cari pengganti\\nAku tak pantas engkau miliki\\nKita bagaikan langit dan bumi\\nJauh sekali\\n\\nSungguh sukar memilikimu\\nIngin kugapai tapi tak mampu\\nCinta yang dulu sangat menggebu\\nHilang berlalu', 'baju ke3 dengan model ini.. uda koleksi pink, navy, sm green.. cucokkkkk bgt sm baju2nya erigo.. ud punya 6 baju erigo.. wkwkkwkwkw... dan 4 di antaranya model ini... thanks erigooo...', 'kainnya sangat bagus modelnya juga keren cuma minus kerahnya kliwir2 sprti barang reject pabrik', 'Makin kesini QCnya makin rapi, yuk ditingkatin lagi yuk Erigo, Local Pride! 😃', 'Bajunya bangusss. Ukuran XL cocok di suamiku tb 175 bb 77. Bahannya (kayaknya) adem', 'bagus, realpict, udh , btw ini ukurannya gede ya M aja masih kegedean di aku bb55 oversize si lebih tepatnya.', 'ok pake banget...SDH sering beli erigo Ukurannya pas', 'Ukurannya pas Berat badan &lt; 60 kg Tinggi badan 160 - 170 cm', 'belum buka sih tapi semoga bagus... baru dapat info kalo sudah sampai rumah, tapi cepat kok sampai nya semoga laris manis... maaf ini baru jaga toko boneka pertama di jogja terlaris dan terlengkap... grosir boneka impianku Jogja, coba saja googling pasti ada plus map dan foto boneka nya, sukses buat kita semuanya.', 'pengiriman cepat dan barang bagus.', 'beli 3 yang datang cuman 1 dan tidak sesuai pesanan', 'bhan lumayan bagus dan adem...\\npengiriman cepat dan paking cukup rapih...', 'Ukurannya pas Berat badan &gt; 80 kg Tinggi badan 171 - 180 cm', 'bahannya adem. buat ngantor kece juga sih.', 'keren lah ulasannya kalau dapat harga murah mah. mantep pisan euy. sukses terus erigo!', 'Barang sesuai pesanan, pengiriman ok, packaging ok. Tks 🙏🏼', 'Ukurannya pas Tinggi badan 160 - 170 cm Berat badan 71 - 80 kg', 'Ukurannya pas Tinggi badan 160 - 170 cm Berat badan 71 - 80 kg', 'Ukurannya pas Tinggi badan 160 - 170 cm Berat badan &lt; 60 kg', 'Ukurannya pas Tinggi badan 160 - 170 cm Berat badan &lt; 60 kg', 'bagus bangeeet overal okeey pengiriman cepat', 'Bagus produknya bikin hati ku dag dig dug ...', 'Ukurannya pas Tinggi badan 160 - 170 cm Berat badan &gt; 80 kg', 'keren, bahannya adem. bakalan repeat order deh.', 'Ukurannya pas, bahan nyaman digunakan', 'pko&#39;y udh kesekian Kalinya bli Erigo &amp; ga pernah mengecewakan, selalu Oke..yg sya suka itu model simpel tpi elegan.', 'Ukurannya pas Tinggi badan 171 - 180 cm Berat badan 71 - 80 kg', 'Biar dikira diskon harga asliny tertera d tag 300 wkwk\\nTp yaudah lah support brand lokal judulny 🤣', 'Ukurannya pas Tinggi badan 171 - 180 cm Berat badan &gt; 80 kg', 'Ukurannya pas Tinggi badan 171 - 180 cm Berat badan &gt; 80 kg', 'kalo weekend tokonya tutup, kurirnya bingung wkwk', 'Ukurannya pas Tinggi badan &lt; 160 cm Tinggi badan 160 - 170 cm', 'Ukurannya pas, tinggi badan 171 cm berat badan 67 kg', 'sudah mendarat\\ntetapi sayangnya respon dalam memproses pesanan lama banget untuk sampai ke ekspedisi, mohon untuk ditingkatkan lagi.', 'Ukurannya pas Tinggi badan 160 - 170 cm', 'ukuran barang tidak sesuai size chart. \\nxxl di size chart LD 59 cm, kenyataan barang 63 cm.', '🤣🤣🤣Padahal Ukurannya Sama L tapi ini yg warna item malah lebih besar dari yg warna hijau🤣🤣🤣QCnya makan gaji buta kah???🤣🤣🤣', 'Mantap udah order ke dua tapi kaya beda ukuran wkwkwk yang penting cukup lah', 'Tinggi badan 160 - 170 cm Berat badan 60 - 70 kg', 'Bahannya super enakk ademm recomended mantap 👍🏼👍🏼👍🏼', 'pesan malem sore dateng, mimin nya juga sigap banget 👍', 'bagus barangnya pengiriman cepat', 'mantaf sesuai bahan dingin lumayan tebal', 'Keren. Bahan Bagus. Terbaik. Pengen beli lagi!!!', 'jahatahanbagahsjsjs susisaoqkjsysybjwus. sususu', 'bahannya nyaman, warnanya sesuai', 'mendarat dengan aman, kualitas sesuai dengan harga', 'Top spt biasa bt semuanya, Trm ksh 🙏🙏', 'Mantapp sii erigo bahan tydak kaleng kyaleng', 'Bahan nya adem, halus, nyaman di pakai', 'Pengiriman terlalu lama, tapi Erigo tidak pernah mengecewakan, belum saya coba, semoga cocok.', 'Mantap, bahannya adem, ukuran pas,', 'bahan lembut tebal model modis \\npuas', 'Udh 2x beli ternyta kualitas jaitannya sama aja, jelek + gak rapi + berantakan. Ini brg baru dateng aja udh begini jaitannya bredel di bagian lengan. ntar makin lama bener2 bredel smua selingkaran lengan percis jazlyn yg lama. Terlanjur gak cek detail pas brg baru dtg karna gak kpikiran kalo brg baru bakal ada riject 😪', 'bahannya halus n adem.like 👍', 'puas. sesuai dengan ekspektasi.  ukuran M BB 63 TB 165', 'barang sesuai deskripsi, bahan adem', 'kualitas baju oke, bahannya adem', 'bahannya bagus baget kualitas terbaik', 'Akan ku buat kau pilih, tanpa berfikir tentang siapa yg akan kau pilih, setelah kau pulih.', 'tarlalu besar keknya, salah size', 'Good barangnoriginal dan memeuaskan tencuu seller🥰', 'Respond seller kurang, barang ok', 'Kepanjangan, keliatan kayak pakai jubah, jaritan lengan juga di luar', 'sobek gan.... gimana yak ini realitanya maap bang erigo yak klo org jadi mikir2 lg klo beli haha', 'selalu nya happy, selalu nya repeat order', 'barang dtg sesuai warna dan ukurannya. thanks.', 'sesuai. krim n pack bagus. semoga awe, terimakasih', 'Jahitan nya gak rapih mohon di tingkatkan kualitas nya', 'barang bagus cuman kegedean 🤣', 'bahannya katun linen ademm bangeetttt', '3 hari sampe bandung, ukuran pas sih sama perut buncit haha thx', 'bahan adem dan nyaman ini keren sih', 'Yuk, ceritakan pengalamanmu berbelanja di Erigo Official', 'blm d coba karna masih kerja d luar kota barang dah sampe d rmah smga pass', 'jelek, barang cacat maen dikirim ajah nyesel gue beli erigo', 'model keren, kualitas baik, worth it', 'maaf ga sempet foto produknya. udah pembelian yg ke sekian kali untuk kemeja ini. dabest lah !!', 'keren, bahannya jatoh, adem cuy', 'jenis kain &amp; warna berbeda dari pemesanan pertama, pesanan pertama (1) lebih bagus dr segi material + warna kain', 'bahannya sih aku suka bagus kok.', 'bagus banget, pengiriman juga cepat', 'Ukurannya pas Berat badan &gt; 80 kg', 'Bahannya adem, semoga awet\\nTerima kasih', 'Pesan dari tgl 26 April, baru dikirim tgl 30 April.\\nNiat dibawa Mudik, jadi gagal.', 'model keren Dan ukurannya sesuai', 'gak nyesal beli di erigo store. terutama yg yg suka katun rayon.', 'Packing aman dan rapi, mantap.', 'mantap bahannya nyaman', 'M oversize, lebih besar dari biasanya', 'Ukurannya pas Tinggi badan 160 - 170 cm', 'Ukurannya pas Tinggi badan &lt; 160 cm', 'Ukurannya pas Tinggi badan &gt; 180 cm', 'Alhamdulillah barang sesuai deskripsi', 'Ukurannya pas Tinggi badan 171', 'TB 165, BB 67. ukuran L pas banget. 👍', 'Ukurannya pas, modelnya mantep', 'pesen black malah dikirim navy, padahal udah diingetin dah dibilang kalo gada gausah dikirim uang dibalikin aja ehh masih aja dikirim. tokonya ngga amanah', 'saya jadi tambah ganteng nih , puass banget , bismillah', 'Harga terjangkau, kualitas dan model bolehlah, lumayan dipake buat sehari-hari. Pengiriman juga cepat.', 'untuk bahan adem dan gak panas, hanya saja pengiriman yang lama. sesama Tangerang masa 4 hari.', 'bahannya keren, enak banget dipake nyaman sama badan. Pakai ukuran L pun sangat pas. namun dari sisi pengiriman masih banyak haeus dibenahi, hampir 3 hari barang ketahan di gudang gagal dipickup. produk bagus, pelayanan masi kurang oke', 'ukuran pas, bahan jatuh, masih belum dipakai, tapi cocok', 'mantap, ukuran sesuai bahan nyaman dan tidak panas', 'ukuran XL cocok untuk yang memiliki tinggi badan 175-180, tidak terlihat oversize jika dipakai. Kainnya dingin nyaman dipakai walaupun di suhu luar ruangan yang cukup tinggi. Desain baju ya seperti kemeja pada umumnya hanya beda di bahan kainnya yang engga kaku. Overall kemejanya nyaman dipakai', 'Pengiriman agak lama, packing aman.\\nKemeja bahannya halus, nyaman dipakai, dapet stiker\\nThanks erigo', 'baru co sore besok nya langsung sampe. ManTul Kualitas produk bagus Ukuran sesuai Jahitannya rapi Nyaman dipakai Warnanya mantap Bahannya adem Produk sesuai dengan foto', 'Kualitas produk bagus.\\xa0Jahitannya rapi.\\xa0Ukuran sesuai.\\xa0Warnanya mantap.\\xa0Modelnya keren 😎.\\xa0Nyaman dipakai.\\xa0Bahannya adem.\\xa0Bahan menyerap keringat.\\xa0Tidak menerawang.\\xa0Kancing tidak mudah lepas.\\xa0Produk sesuai dengan foto.', 'Kualitas produk bagus.\\xa0Modelnya keren 😎.\\xa0Nyaman dipakai.\\xa0Ukuran sesuai.\\xa0Jahitannya rapi.\\xa0Tidak menerawang.\\xa0Bahannya adem.\\xa0Warnanya mantap.\\xa0Bahan menyerap keringat.\\xa0Kancing tidak mudah lepas.\\xa0Produk sesuai dengan foto.', 'Kualitas bagus, bahan adem, lemes, enak dipake, tapi ntah emang oversize, untuk yg biasa pake ukuran L lumayan kegedean.', 'ga pernah kecewa sama produk erigo, bahannya alus dan adem nyaman sekali dipakai, pengiriman packaging rapi dan cepat sampai 🙏', 'Modelnya bagus, bahan nyaman dipakai dan pas ukurannya', 'ada sedikit jatihan kurang rapi, bisa dirapikan sendiri kurang dari 1 jam\\n(beli lagi diskon)\\ntebel, tapi pori-pori besar\\nbisa buat cuaca sejuk dan panas', 'Kualitas produk bagus Nyaman dipakai Jahitannya rapi Bahannya adem Modelnya keren 😎', 'Ukurannya pas, bahannya nyaman, modelnya bagus. love it', 'Bahannya bagus, nyaman di pake ga bikin gerah. tp pengirimannya lama maklum mau lebaran orderan membludak. Thanks Erigo', 'baguss bangett bangg, pas awal buka paketnya liat bahanya aga khawatir bakal panas. eh ternyata pas di coba adem. enakk juga kainnya jatuh gitu', 'pengiriman cepat proses cepat  Ukurannya pas bahan tebal', 'Ukurannya pas warna hitamnya legit', 'nyaman dipakai dan adem, ukuran sesuai dengan deskripsi. pelayanan bagus, response pengiriman cepat sekali.', 'baru nyobain beli erigo, pengiriman cepet banget. kualitas produk ga kalah sm brand yang ada di mall. support local product!', 'Bahan bagus, halus, dan mulus \\nSesuai dengan fulus :D', 'barang sudah sampai, kualitas bagus baha dingin dipakai nyaman ukuran pass. Next time bakal order lagi sepertinya', 'untuk bahannya bagus.. paling yang mesti diperhatikan masalah sisa2 jahitan masih tertinggal aja, dan buat kemeja nya untuk oversize ini malah terlalu over untuk size s, tapi ya sudahlah', 'Mantap, bahan halus dan nyaman dipakai. Rekomended.', 'BAHANNYA GAMPANG BGT LECEK, DI SETRIKA SUSAH POL. TAPI ADEM SI', 'bahan bagus tidak tipis, adem nyaman, ukuran pas sayangnya pengiriman molor', 'Kualitas produk bagus.\\xa0Jahitannya rapi.\\xa0Bahannya adem.\\xa0Ukuran sesuai.\\xa0Warnanya mantap.\\xa0Tidak menerawang.', 'bahan agak tipis letoy kirain kaya kemeja umumnya, tapi ya worth it sih', 'kain adem dan tebal halus, kwalitas ok respon seller sangat cepat', 'Barang pas sesuai pesanan, nyaman dipake, dan bahannya bagus...', 'Bahannya gampang lecek.. Mungkin karena full catton', 'produk erigo ga pernah ngecewain walau brand lokal tp tetep kwalitas nya ga kalah sama merk merk mahal lainnya. bahannya itu loh adem banget.', 'Kualitas produk bagus Nyaman dipakai Bahannya adem', 'Kualitas produk bagus.\\xa0Nyaman dipakai.\\xa0Warnanya mantap.\\xa0Ukuran sesuai.', 'Bahannya enak dipakai, ukuran juga pas di badan, warna dan modelnya keren', 'Kualitas produk bagus Modelnya keren 😎 Warnanya mantap Jahitannya rapi Bahannya adem Ukuran sesuai Produk sesuai dengan foto', 'Kualitas produk bagus Jahitannya rapi Ukuran sesuai Warnanya mantap Nyaman dipakai Modelnya keren 😎 Bahannya adem Kancing tidak mudah lepas Produk sesuai dengan foto', 'Modelnya bagus, bahannya halus, ukuran Pas. terima kasih', 'Bahan sangat bagus, nyaman dipakai, ukuran pas....', 'Kualitas produk bagus. Bahannya adem. Nyaman dipakai.', 'admin ramah, pengiriman cepat, ukuran pas, cuman ada beberapa jahitan yang kurang rapi. dianjurkan cuci pakai tangan, karena bahan mudah luntur. \\n\\nbakal repeat order lagi buat warna yang lain🤙🏻', 'Top top markotop.  sesuai deskripsi.\\nbahan enak dipakai. layanan penjual cepat', 'Cool, bahan lembut dan halus, enak dipakai tidur', 'Kualitas produk bagus Modelnya keren 😎 Nyaman dipakai Jahitannya rapi Bahannya adem Tidak menerawang', 'Bahannya bagus,adem dipake ya juga,cuma ga ada kantong depannya aja gan,kalo ada kantongnya tambah keren banget pasti 😎', 'bintang 4 dulu saya kasi karena kurang lengkap nggak ada sakunya, fokus saya ke bahan rayon jadi nggak perhatikan sakunya setelah dibuka ee... ternyata nggak ada sakunya,bagi saya sangat penting itu sakunya yaaa... udah terlanjur beli', 'kainnya agak tipis,tapi bagus sih adem kalo dipake', 'Pengiriman cepat dan bahan bagus dan lembut harga termasuk murah dengan kualitas yg bagus', 'kualitas bahan nya bagus, ukuran pas.. saya tinggi 172 berat 69 pake XL', 'Bagus sih, tapi ternyata bahannya tidak seperti yang diperkirakan. Tetap jos ganjos lah, apalagi ini beli saat diskon', 'mantap pokonya,tengkyu.', 'Nyaman dipakai Kualitas produk bagus Jahitannya rapi', 'Bahan adem., tp secara size sesama L ada yg beda cm nya lbh panjang., ku pesan untuk suami hijau army, coklat tua dan hitam ada beda size dikit., but overall product sangat adem dan nyaman dia pakai', 'Kalo erigo mah udah pasti enak bahannya, nyaman dipake, adem.', 'Bahannya halus, enak dipakai. Ga kerasa kalau lagi pakai shirt, berasa pakai kaos 👌👌👌', 'Barangnya bagus, pengiriman cepat, packingnya rapih, penjual responsif dan ramah.. RECOMMENDED.. Tuhan Yesus memberkati', 'Barangnya bagus, pengiriman cepat, packingnya rapih, penjual responsif dan ramah.. RECOMMENDED.. Tuhan Yesus memberkati', 'Barangnya bagus, pengiriman cepat, packingnya rapih, penjual responsif dan ramah.. RECOMMENDED.. Tuhan Yesus memberkati', 'Bagus.Enak bahan nya juga. Tapi yang M kok gak beda jauh ukuran nya sama yang L ya.', 'bahannya halus, enak banget buat di pakai', 'cepat bgt nganter barangnya. . keren', 'bahannya nyaman, kece badai pas dipake. pokoknya ga nyesel beli deh. mantap min 👍👍👍', 'Kualitas produk bagus. Ukuran sesuai. Modelnya keren 😎. Tidak menerawang. Kancing tidak mudah lepas. Produk sesuai dengan foto. Jahitannya rapi.', 'Modelnya keren, cutting dan fit nya bagus banget, bahannya nyaman', 'Bahan nyaman, packaging rapih, sesuai deskripsi', 'Kualitas produk bagus Nyaman dipakai Modelnya keren 😎 Bahannya adem', 'Ukurannya pas Ukurannya terlalu besar Ukurannya terlalu kecil Tinggi badan &lt; 160 cm Tinggi badan 160 - 170 cm Tinggi badan 171 - 180 cm Berat badan &lt; 60 kg', 'Kalo deri segi bahan dan design nya bagus, yg diharapkan moga aja ga perlu disetrika sudah rapi, males strika soalnya, beberapa kemeja dirumah ga perlu distrika dan ga pernah lecek', 'enakeun bahan nya adem tapi ga tipis juga ga ketebelan juga mantappp', 'entah kenapa size s nya besar. ga seperti size sebelumnya.. padahal size s', 'bahan bagus, tp hampir gak jd pake u acara, seller respondnya ketika ada masalah pengiriman kurang friendly', 'gaada kantong ternyata, dan bahan lebih tipis dibanding varian kemeja lain', 'bagus bgt bahannya tebel, bahan jatoh gitu, adem jg', 'Jahitannya rapi, dipakai kainnya tdk panas dan nyaman', 'produk sesuai dengan deskripsi dan seller sangat responsif 👍👍👍', 'produk bagus, nyaman, sesuai deskripsi. Packaging aman', 'barangnya bagus, bahannya nyaman dan ringan, saran untuk yg BB diatas 90 an ambil ukuran XL saja krna dibadan saya XXL masih sangat kebesaran. tapi overall bagus!', 'Kualitas produk bagus.\\xa0Nyaman dipakai.\\xa0Warnanya mantap.', 'model kemejanya bagus tp gampang bgt lecek karna tipis', 'Bahan bagus, size asli lebih besar dr panduan', 'top, adem bajunya, walaupun agak kebesaran, tapi oke dari pada kekecilan', 'Barang sesuai dgn deskripsi. Pelayanan dan respon seller jg ok. Pengiriman cepat, packing bagus. Thanks', 'udh 2 kali beli short shirtnya. nyaman bgt dipakenya, adem bahannya (bahan lemes gitu). Pokoknya the best lah', 'Bahannya adem pas dipegang, belum dipake sih mau dicuci dulu. Kalo order lagi kemeja ini berarti top banget kualitasnya.', 'Bahan super duper adem, bahannya enak sekali', 'bahan oke, keliatan keren, tp kepanjangan bajunya, jadi harus dipotong ke tukang jait. tp overall gw kasih bintang 5', 'adem banget bahannya. utk seharian di rumah bisa buat kerja, rebahan, enak banget dipake.', 'aga beda ukuran nya dengan sebelumnya tapi masih muat', 'bahannya enak dipakai dan tidak panas saat di pakai 😃😄', 'mantab , bahannya bagus , adem dingin , gak bikin gerah', 'Bahan &amp; material’y bagus, adem nyaman di pakai', 'bahannya adem bgt suka tipe bahan kesukaanku modelnya juga kesukaan', 'Kualitas produk bagus.\\xa0Modelnya keren 😎.\\xa0Nyaman dipakai.\\xa0Ukuran sesuai.\\xa0Jahitannya rapi.', 'Barang sesuai pesanan, hanya saya kurang suka untuk desain bagian lengan nya', 'barangnya bagus kok, ukuran M pas di saya, bahannya adem dan gak nerawang\\ntp pengirimannya lama bgt\\nhampir seminggu prosesnya', 'berkali&#34; beli erigo yg masalah selalu dijahitan lubang kancing yang ga rapi benangnya serawutan keluar&#34; kalo ngga ya kancingnya yg gampang lepas jadi harus dibenerin dijahitan lagi, kualitas bahan dll oke semua', 'Nyaman model bagus jahitan rapi ukuran pas', 'bahannya bagus, dari segi harga sangat amat worth it, size pas👍', 'Mantap, bahannya lembut banget dan nyaman 👍🏻', 'Ukurannya pas Ukurannya terlalu besar Tinggi badan 171 - 180 cm Berat badan 71 - 80 kg', 'Keren kemejanya min. Uk pas bahan enak gak kaku', 'Alhamdulillah kemeja real pick sesuai ekspetasi. Namun agk sedikit kebesaran, no problem bisa buat jangka panjang. thanks erigo!', 'baru 3 kali pakai dan 3 kalu cuci sudah sobek', 'cepet banget proses pengirimannya. adminnya jg interaktif. produk sesuai pesanan, bahannya adeem beneerr', 'Ukurannya pas Ukurannya terlalu besar Ukurannya terlalu kecil Tinggi badan 160 - 170 cm Tinggi badan &lt; 160 cm Berat badan 60 - 70 kg Tinggi badan &gt; 180 cm Berat badan &lt; 60 kg Tinggi badan 171 - 180 cm Berat badan &gt; 80 kg Berat badan 71 - 80 kg', 'Ukurannya pas. bahan adem, jahitan rapi, bagus.. trima kasih', 'cakep sesuai ekspetasi, kainya enak dan ukuran jg pas', 'Kualitas produk bagus.\\xa0Modelnya keren 😎.\\xa0Kancing tidak mudah lepas.\\xa0Produk sesuai dengan foto.', 'Proses order agak lama, produk sesuai deskripsi, kualitas cukup bagus', 'barangnya bagus. packagingnya rapi. sampai dengan cepat. penjual fast respon. ukurannya juga pas. puas belanja di sini.', 'Mantap bangett pas di badan bahannya ternyata bagus dan tebel cuyyy', 'kualitas bahan nya bagus banget...tp ukuran udah double xl lengan nya pendek banget ga sesuai dengan ukuran nya', 'barang bagus, tapi kayanya agak beda sama yg sebelumnya, yg lebih lemes dan ukuran M nya agak besar yg sekarang', 'menyusutnya sedikit ternyata jadi kegedean, sisanya bagus', 'mantapu jiwa Ukurannya pas Ukurannya terlalu besar Ukurannya terlalu kecil Tinggi badan &lt; 160 cm Tinggi badan &gt; 180 cm Tinggi badan 171 - 180 cm Berat badan 71 - 80 kg Tinggi badan 160 - 170 cm Berat badan 60 - 70 kg Berat badan &lt; 60 kg Berat badan &gt; 80 kg', 'Model oke, size pas, dan bahan ny masuk kategori comfy.', 'keren bagus bahan nyaman dan mantaf sekali', 'Adem bahannya, lembut banget. Pengirimannya cepat, pengemasan baik.', 'bahan halus adem banget, modelnya bagus. 👍', 'U u u u u u u u u u u u u u u u u u u u uk k k k k k kk uuuuran', 'Tinggi badan 171 - 180 cm\\n Karena Saya suka yang modelan oversize saya pesan size XL ,bahan bagus,adem,nyaman dipakai', 'Kemeja nya keren. Recomend lah untuk kalian. \\nSoon koleksi warna lain. \\npict pemanis.', 'bahannya bagus tapi kekmua aga kegedean milih xl tp gaamsalah', 'Bahannya bagus banget, harga nya juga sesuai bgt, mantap seperti biasa', 'oke lah untuk sehari2 di pakai, cuma ukuran nya ternyata kebersaran', 'Bahan adem,bagus,packing rapih. Kelas🔥🔥🔥🔥🔥🔥\\nKualitas produk bagus.\\xa0Modelnya keren 😎.', 'produknya bagus,tapi pengirinannya lama. seller slow respon', 'Ukurannya pas Tinggi badan &lt; 160 cm Ukurannya terlalu kecil', 'Orderan dtg tepat waktu , packaging nya rapi , kwalitas kemeja bgs sekali , pelayanan costumer service nya baik dan ramah 👍👍👍👍👍', 'Alhamdulillah aman sesuai dengan pesanan, sellernya pun fast respon MaaSyaaAllaah.. Ukurannya sesuai', 'Ukurannya pas Berat badan &gt; 80 kg, bahannya sangat bagus, cutting nya pas', 'Kualitas produk bagus.\\xa0Modelnya keren 😎.\\xa0Jahitannya rapi.\\xa0Ukuran sesuai.\\xa0Bahannya adem.', 'Suka bahan nya sama jahitan nya rapih. Gak kalah sam brand luar', 'bahan adem\\n Tinggi badan 171 - 180 cm Ukurannya terlalu besar', 'ukurannya kecil untuk tinggi 170 kayanya harus XL, sama kusut jadi gak di steam dulu kayanya', 'admin nya ramah, pengiriman cepat, bahan nya jg bagus', 'Bahannya baguss, tebel tapi ga gerah, halus, keren pokoknya dehh, buat BB gua yg tergolong kurus 45kg TB 169cm pas di pundak sama lengan, semoga membantu yg nyari ukuran S 🙂🙂', 'lumayan kain enak dipakai, tapi keknya sumuk', 'pertama kali beli baju erigo. speechless bagus bgt bahannya. harga sangat terjangkau', 'Total udah punya 10, beli 3 bulan sekali 🤣 bahan enak soalnya', 'Alhamdulillah barangnya sudah saya terima dengan keadaan baik. Saya sangat puas dengan pelayanan yang di berikan. Fast respon dan produk-produknya juga unik tetapi dijual dengan harga yang terjangkau.', 'barangnya bagus dengan kualitas bahan yg keren\\n\\npengiriman juga cepat terima kasih', 'bahannya nyaman, bagus , lembut. mudah menyerap', 'ukuran pas sih longgar. tapi pendek banget jadi keliatan jangkis', 'bahannya adem, pas ukurannya. cuman lama sampe nya', 'bagus bahannya adem . ukuran besar tp jatuhnya ga kegedean', 'luar biasa, kualitas sangat baik, tidak heran brand ini di undang ke new york. Tapi yang lebih luar biasa adalah pengirimannya, sangat cepat hanya 24jam', 'terlalu besar untuk ukuran M\\nBerat badan &lt; 60 kg\\n Tinggi badan 160 cm\\n\\nbahan bagus', 'Sepertinya size internasional karna S nya cukup besar di tinggi 170cm', 'Kualitas produk bagus. Ukuran sesuai. Modelnya keren 😎. Produk sesuai dengan foto.', 'Tinggi badan 171 - 180 cm Berat badan 60 - 70 kg Ukurannya terlalu besar', 'barang ok,, tapi size L agak gede,, yg mau beli mungkin turunin size satu ukuran.', 'jahitan bagian lengan nya banyak yang putus ( brodol2) , bahannya tipis tapi nyaman , admin ramah dan pengiriman cepet , ya itu tadi minusnya di jahitan bagian lengan rusak , akhirnya aku jahitin ke tukang jahit', 'Ukurannya pas Tinggi badan 160 - 170 cm Berat badan &gt; 80 kg enak banget bahannya', 'Bahan bagus dan adem. Ukuran pas dan sesuai deskripsi. Puass', 'Seller ramah. Barang cepat sampai. Sesuai spek tulisan.', 'Bahan nya lembut,elastis,, mantap Ukurannya pas Tinggi badan 171 - 180 cm', 'keren banget bahan alus dan sesuai ekspektasi👍👍', 'Panjangnya beda kayak yang size s sebelumnya, saya beli yang navy pas, beli yang item lebih panjang padahal sama” size S', 'bahan jatuh dan tidak panas', 'produk sesuai deksripsi, packing oke, respons juga oke, terima kasih', 'kain alus, nyaman, adem. cutting bagus. jahitan rapih dan kuat.', 'bahannya bagus nyaman dipake', 'Ada kekeliruan dalam size, tapi bahan dan warna oke, ga jadi komplain refund, dipakai ayah saya. Semoga bisa lebih ditingkatkan good job nya', 'untuk size s saya pesan dengan warna berbeda2 ukuran nya pun semua beda2 padahal untuk size s sudah termasuk paling kecil. tapi ini sangat ngaco dalam ukuran cutting nya', 'Pesanan semua sesuai size M, tapi ada 1 baju yang ukuran nya kecil sendiri padahal label size nya sama sama M, tapi ukuran nya beda kecil sendiri. Overall udah oke banget kok', 'cakep banget, nyaman, jahitan bagus, kek jadi oppa oppa korea.', 'yg L uda cocok ga besar dan ga kecil  untuk bb 85kg', 'Bahan adem, jahitan rapi, sudah dicoba dan ukuran pas, terima kasih', 'bagus banget. adem. jatuh. cakep. thx seller. tadinya kupikir ga akan dikirim karena dapat harga 33k, tapi ternyata tetap dikirim. terimakasih', 'sesuai pesanan, bahan enak adem màńtàáp👍', 'kalau soal kualitas Erigo jangan di tanya,, bagus....\\nTapi Tolong Ditingkatkan lagi pengiriman nya sesuai pesanan ya...', 'Bahan lembut, semoga tetap awet dipakai dalam jangka waktu lama. Ukuran pas dengan tubuh.', 'seller ramah, pengiriman dan update nya sangat mengecewakan sepertinya krn bebas ongkir jd dilama² in lewat 1 dr hari pengiriman dan giliran penambahan wkt pengiriman cepet sekali update nya, mohon si cepat dan tokped diperbaiki lagi pelayanannya', 'ukuran sesuai.  bahan rayon adem. jahitan rapi.  harga lg promo. packing rapi.  pengiriman tepat waktu', 'Bahan adem, jaitan rapi, pengiriman cepat, terima kasih', 'Biasa aja bahannya tipis banget mudah sobek, but overall not that bad', 'bahan terlalu tipis dan untuk size xl seperti L', 'gatau ganerima barangnya karena alesan qt reject, refund 100%', 'Bahan setipis tisue cocok untuk dipakai di pantai', 'kegedeann :( tp gapapa pengirimannya cepat, bahannya juga bagus! thank youu', 'ukuran pas, bahan alis dan adem, bakal beli nanti lagi', 'Mantap, bahannya alus, pengiriman cepat sehari sampai', 'agak sedikit kecewa dengan erigo kali ini karena slow respon , dan tidak ada balasan dari admin nya , meskipun barang nya sampai namun telat', 'pas,nyaman,1 jangan pakai sicep.. kalo mau sampe lebih cepat', 'Bahan dingin banget sih. Belum tau kalo keringetan, aman apa enggak.']\n",
            "[5, 5, 5, 5, 5, 5, 5, 5, 5, 5, 5, 5, 5, 5, 1, 5, 5, 1, 5, 5, 5, 5, 5, 5, 5, 4, 5, 5, 5, 5, 4, 5, 5, 5, 5, 5, 5, 5, 5, 5, 5, 5, 5, 5, 5, 5, 5, 5, 4, 5, 4, 5, 3, 5, 3, 5, 5, 5, 5, 5, 5, 5, 5, 4, 5, 4, 5, 5, 5, 5, 5, 5, 5, 5, 5, 5, 5, 5, 5, 5, 5, 5, 5, 5, 5, 5, 5, 5, 5, 5, 5, 5, 5, 5, 5, 1, 5, 5, 5, 5, 5, 5, 5, 5, 5, 5, 5, 5, 5, 5, 4, 5, 5, 5, 5, 5, 5, 5, 5, 5, 5, 5, 4, 5, 5, 5, 5, 5, 5, 5, 5, 5, 5, 5, 5, 5, 5, 5, 5, 5, 5, 5, 5, 5, 4, 5, 5, 5, 5, 3, 5, 5, 3, 5, 5, 5, 5, 5, 5, 5, 5, 5, 5, 5, 5, 5, 5, 5, 5, 1, 3, 5, 2, 5, 5, 5, 5, 5, 5, 5, 5, 5, 5, 5, 1, 4, 4, 5, 5, 1, 5, 5, 3, 5, 5, 5, 5, 5, 4, 5, 5, 5, 5, 3, 5, 5, 5, 5, 5, 5, 5, 5, 5, 5, 5, 3, 5, 5, 5, 5, 5, 5, 5, 1, 5, 5, 5, 5, 5, 5, 5, 5, 5, 5, 5, 5, 5, 5, 5, 5, 3, 5, 5, 5, 5, 5, 3, 5, 1, 1, 5, 5, 5, 5, 5, 4, 5, 4, 5, 5, 5, 5, 5, 5, 5, 5, 2, 5, 5, 5, 5, 5, 5, 4, 5, 5, 1, 4, 5, 5, 5, 2, 5, 5, 5, 5, 4, 5, 1, 5, 5, 5, 2, 5, 5, 5, 5, 1, 5, 5, 5, 5, 5, 5, 5, 5, 5, 5, 5, 5, 1, 5, 5, 4, 4, 5, 5, 5, 5, 5, 5, 5, 5, 5, 5, 5, 5, 5, 5, 5, 5, 5, 5, 5, 5, 5, 4, 5, 4, 4, 5, 5, 5, 5, 4, 5, 5, 5, 5, 5, 5, 5, 5, 5, 5, 5, 5, 5, 5, 4, 4, 5, 5, 5, 5, 5, 5, 5, 5, 5, 5, 5, 5, 5, 5, 5, 5, 5, 4, 5, 5, 5, 5, 4, 4, 4, 5, 5, 5, 5, 5, 5, 5, 5, 5, 5, 5, 5, 5, 5, 5, 4, 5, 5, 5, 5, 5, 4, 5, 4, 5, 5, 5, 5, 5, 5, 1, 5, 5, 5, 5, 5, 5, 5, 5, 5, 5, 5, 5, 5, 5, 5, 5, 3, 5, 5, 5, 5, 5, 5, 5, 5, 5, 5, 5, 5, 5, 5, 5, 5, 5, 4, 5, 5, 5, 5, 5, 4, 5, 5, 5, 5, 5, 5, 5, 4, 3, 5, 5, 5, 5, 5, 4, 5, 5, 5, 5, 4, 3, 3, 5, 5, 5, 5, 5, 4, 5, 3, 5, 5, 3, 3, 5, 5, 5, 5, 5, 3, 5, 5]\n",
            "['excellent', 'excellent', 'excellent', 'excellent', 'excellent', 'excellent', 'excellent', 'excellent', 'excellent', 'excellent', 'excellent', 'excellent', 'excellent', 'excellent', 'so inferior', 'excellent', 'excellent', 'so inferior', 'excellent', 'excellent', 'excellent', 'excellent', 'excellent', 'excellent', 'excellent', 'good', 'excellent', 'excellent', 'excellent', 'excellent', 'good', 'excellent', 'excellent', 'excellent', 'excellent', 'excellent', 'excellent', 'excellent', 'excellent', 'excellent', 'excellent', 'excellent', 'excellent', 'excellent', 'excellent', 'excellent', 'excellent', 'excellent', 'good', 'excellent', 'good', 'excellent', 'average', 'excellent', 'average', 'excellent', 'excellent', 'excellent', 'excellent', 'excellent', 'excellent', 'excellent', 'excellent', 'good', 'excellent', 'good', 'excellent', 'excellent', 'excellent', 'excellent', 'excellent', 'excellent', 'excellent', 'excellent', 'excellent', 'excellent', 'excellent', 'excellent', 'excellent', 'excellent', 'excellent', 'excellent', 'excellent', 'excellent', 'excellent', 'excellent', 'excellent', 'excellent', 'excellent', 'excellent', 'excellent', 'excellent', 'excellent', 'excellent', 'excellent', 'so inferior', 'excellent', 'excellent', 'excellent', 'excellent', 'excellent', 'excellent', 'excellent', 'excellent', 'excellent', 'excellent', 'excellent', 'excellent', 'excellent', 'excellent', 'good', 'excellent', 'excellent', 'excellent', 'excellent', 'excellent', 'excellent', 'excellent', 'excellent', 'excellent', 'excellent', 'excellent', 'good', 'excellent', 'excellent', 'excellent', 'excellent', 'excellent', 'excellent', 'excellent', 'excellent', 'excellent', 'excellent', 'excellent', 'excellent', 'excellent', 'excellent', 'excellent', 'excellent', 'excellent', 'excellent', 'excellent', 'excellent', 'excellent', 'good', 'excellent', 'excellent', 'excellent', 'excellent', 'average', 'excellent', 'excellent', 'average', 'excellent', 'excellent', 'excellent', 'excellent', 'excellent', 'excellent', 'excellent', 'excellent', 'excellent', 'excellent', 'excellent', 'excellent', 'excellent', 'excellent', 'excellent', 'excellent', 'so inferior', 'average', 'excellent', 'very low', 'excellent', 'excellent', 'excellent', 'excellent', 'excellent', 'excellent', 'excellent', 'excellent', 'excellent', 'excellent', 'excellent', 'so inferior', 'good', 'good', 'excellent', 'excellent', 'so inferior', 'excellent', 'excellent', 'average', 'excellent', 'excellent', 'excellent', 'excellent', 'excellent', 'good', 'excellent', 'excellent', 'excellent', 'excellent', 'average', 'excellent', 'excellent', 'excellent', 'excellent', 'excellent', 'excellent', 'excellent', 'excellent', 'excellent', 'excellent', 'excellent', 'average', 'excellent', 'excellent', 'excellent', 'excellent', 'excellent', 'excellent', 'excellent', 'so inferior', 'excellent', 'excellent', 'excellent', 'excellent', 'excellent', 'excellent', 'excellent', 'excellent', 'excellent', 'excellent', 'excellent', 'excellent', 'excellent', 'excellent', 'excellent', 'excellent', 'average', 'excellent', 'excellent', 'excellent', 'excellent', 'excellent', 'average', 'excellent', 'so inferior', 'so inferior', 'excellent', 'excellent', 'excellent', 'excellent', 'excellent', 'good', 'excellent', 'good', 'excellent', 'excellent', 'excellent', 'excellent', 'excellent', 'excellent', 'excellent', 'excellent', 'very low', 'excellent', 'excellent', 'excellent', 'excellent', 'excellent', 'excellent', 'good', 'excellent', 'excellent', 'so inferior', 'good', 'excellent', 'excellent', 'excellent', 'very low', 'excellent', 'excellent', 'excellent', 'excellent', 'good', 'excellent', 'so inferior', 'excellent', 'excellent', 'excellent', 'very low', 'excellent', 'excellent', 'excellent', 'excellent', 'so inferior', 'excellent', 'excellent', 'excellent', 'excellent', 'excellent', 'excellent', 'excellent', 'excellent', 'excellent', 'excellent', 'excellent', 'excellent', 'so inferior', 'excellent', 'excellent', 'good', 'good', 'excellent', 'excellent', 'excellent', 'excellent', 'excellent', 'excellent', 'excellent', 'excellent', 'excellent', 'excellent', 'excellent', 'excellent', 'excellent', 'excellent', 'excellent', 'excellent', 'excellent', 'excellent', 'excellent', 'excellent', 'excellent', 'good', 'excellent', 'good', 'good', 'excellent', 'excellent', 'excellent', 'excellent', 'good', 'excellent', 'excellent', 'excellent', 'excellent', 'excellent', 'excellent', 'excellent', 'excellent', 'excellent', 'excellent', 'excellent', 'excellent', 'excellent', 'excellent', 'good', 'good', 'excellent', 'excellent', 'excellent', 'excellent', 'excellent', 'excellent', 'excellent', 'excellent', 'excellent', 'excellent', 'excellent', 'excellent', 'excellent', 'excellent', 'excellent', 'excellent', 'excellent', 'good', 'excellent', 'excellent', 'excellent', 'excellent', 'good', 'good', 'good', 'excellent', 'excellent', 'excellent', 'excellent', 'excellent', 'excellent', 'excellent', 'excellent', 'excellent', 'excellent', 'excellent', 'excellent', 'excellent', 'excellent', 'excellent', 'good', 'excellent', 'excellent', 'excellent', 'excellent', 'excellent', 'good', 'excellent', 'good', 'excellent', 'excellent', 'excellent', 'excellent', 'excellent', 'excellent', 'so inferior', 'excellent', 'excellent', 'excellent', 'excellent', 'excellent', 'excellent', 'excellent', 'excellent', 'excellent', 'excellent', 'excellent', 'excellent', 'excellent', 'excellent', 'excellent', 'excellent', 'average', 'excellent', 'excellent', 'excellent', 'excellent', 'excellent', 'excellent', 'excellent', 'excellent', 'excellent', 'excellent', 'excellent', 'excellent', 'excellent', 'excellent', 'excellent', 'excellent', 'excellent', 'good', 'excellent', 'excellent', 'excellent', 'excellent', 'excellent', 'good', 'excellent', 'excellent', 'excellent', 'excellent', 'excellent', 'excellent', 'excellent', 'good', 'average', 'excellent', 'excellent', 'excellent', 'excellent', 'excellent', 'good', 'excellent', 'excellent', 'excellent', 'excellent', 'good', 'average', 'average', 'excellent', 'excellent', 'excellent', 'excellent', 'excellent', 'good', 'excellent', 'average', 'excellent', 'excellent', 'average', 'average', 'excellent', 'excellent', 'excellent', 'excellent', 'excellent', 'average', 'excellent', 'excellent']\n"
          ]
        }
      ]
    },
    {
      "cell_type": "code",
      "execution_count": 63,
      "metadata": {
        "id": "CkuCKeM47_Ov"
      },
      "outputs": [],
      "source": [
        "#deklarasi total ulasan\n",
        "sampteks = teks1 + teks2 + teks3 + teks4 + teks5 + teks6 #bagian teks\n",
        "sampnilai = nilai1 + nilai2 + nilai3 + nilai4 + nilai5 + nilai6 #bagian nilai\n",
        "samplabel = label1 + label2 + label3 + label4 + label5 + label6 #bagian label\n",
        "#ke penyatuan"
      ]
    },
    {
      "cell_type": "markdown",
      "metadata": {
        "id": "qDB8RqyG-JxB"
      },
      "source": [
        "enam ulasan ini berasal dari enam produk berasal dari Erigo"
      ]
    },
    {
      "cell_type": "code",
      "execution_count": 64,
      "metadata": {
        "colab": {
          "base_uri": "https://localhost:8080/"
        },
        "id": "EgZAj6wA9fC4",
        "outputId": "596023cb-1e85-46aa-a5d6-a0ec8c5629b2"
      },
      "outputs": [
        {
          "output_type": "stream",
          "name": "stdout",
          "text": [
            "2210\n"
          ]
        }
      ],
      "source": [
        "#penyatuan ke dataframe\n",
        "dfori = pd.DataFrame({'Pesan': sampteks,'Nilai': sampnilai,'Label': samplabel})\n",
        "dfkopi = dfori.copy()\n",
        "#cek panjang\n",
        "lendfkop = len(dfkopi)\n",
        "print(lendfkop)"
      ]
    },
    {
      "cell_type": "markdown",
      "metadata": {
        "id": "RnPhg_j79hp1"
      },
      "source": [
        "#### Inspeksi hasil data dari kesalahan"
      ]
    },
    {
      "cell_type": "code",
      "execution_count": 65,
      "metadata": {
        "colab": {
          "base_uri": "https://localhost:8080/",
          "height": 269
        },
        "collapsed": true,
        "id": "zGkt42n6-9Ou",
        "outputId": "b05ccb1f-4039-470a-d2c6-4220b4016a2b"
      },
      "outputs": [
        {
          "output_type": "execute_result",
          "data": {
            "text/plain": [
              "                                               Pesan  Nilai      Label\n",
              "0  barang bagus kualitas nya top harga nya naik o...      5  excellent\n",
              "1  modelnya keren, bahannya bagus cuma agak kepan...      5  excellent\n",
              "2  tinggi 175 bb 60 ukuran L cocok si, pas dan en...      5  excellent\n",
              "3  enak di pake adem dan kece pas di badan gw. ta...      5  excellent\n",
              "4  APAAN INI WOY KEREN BANGET KEMEJA NYA ga usa r...      5  excellent\n",
              "5  oke paket di terima dengan baik ,, untuk kuali...      5  excellent\n",
              "6  pas, bahannya enak banget dibadan dan juga ker...      5  excellent"
            ],
            "text/html": [
              "\n",
              "  <div id=\"df-0437110f-a7d0-4c28-9264-2de5a2836a14\" class=\"colab-df-container\">\n",
              "    <div>\n",
              "<style scoped>\n",
              "    .dataframe tbody tr th:only-of-type {\n",
              "        vertical-align: middle;\n",
              "    }\n",
              "\n",
              "    .dataframe tbody tr th {\n",
              "        vertical-align: top;\n",
              "    }\n",
              "\n",
              "    .dataframe thead th {\n",
              "        text-align: right;\n",
              "    }\n",
              "</style>\n",
              "<table border=\"1\" class=\"dataframe\">\n",
              "  <thead>\n",
              "    <tr style=\"text-align: right;\">\n",
              "      <th></th>\n",
              "      <th>Pesan</th>\n",
              "      <th>Nilai</th>\n",
              "      <th>Label</th>\n",
              "    </tr>\n",
              "  </thead>\n",
              "  <tbody>\n",
              "    <tr>\n",
              "      <th>0</th>\n",
              "      <td>barang bagus kualitas nya top harga nya naik o...</td>\n",
              "      <td>5</td>\n",
              "      <td>excellent</td>\n",
              "    </tr>\n",
              "    <tr>\n",
              "      <th>1</th>\n",
              "      <td>modelnya keren, bahannya bagus cuma agak kepan...</td>\n",
              "      <td>5</td>\n",
              "      <td>excellent</td>\n",
              "    </tr>\n",
              "    <tr>\n",
              "      <th>2</th>\n",
              "      <td>tinggi 175 bb 60 ukuran L cocok si, pas dan en...</td>\n",
              "      <td>5</td>\n",
              "      <td>excellent</td>\n",
              "    </tr>\n",
              "    <tr>\n",
              "      <th>3</th>\n",
              "      <td>enak di pake adem dan kece pas di badan gw. ta...</td>\n",
              "      <td>5</td>\n",
              "      <td>excellent</td>\n",
              "    </tr>\n",
              "    <tr>\n",
              "      <th>4</th>\n",
              "      <td>APAAN INI WOY KEREN BANGET KEMEJA NYA ga usa r...</td>\n",
              "      <td>5</td>\n",
              "      <td>excellent</td>\n",
              "    </tr>\n",
              "    <tr>\n",
              "      <th>5</th>\n",
              "      <td>oke paket di terima dengan baik ,, untuk kuali...</td>\n",
              "      <td>5</td>\n",
              "      <td>excellent</td>\n",
              "    </tr>\n",
              "    <tr>\n",
              "      <th>6</th>\n",
              "      <td>pas, bahannya enak banget dibadan dan juga ker...</td>\n",
              "      <td>5</td>\n",
              "      <td>excellent</td>\n",
              "    </tr>\n",
              "  </tbody>\n",
              "</table>\n",
              "</div>\n",
              "    <div class=\"colab-df-buttons\">\n",
              "\n",
              "  <div class=\"colab-df-container\">\n",
              "    <button class=\"colab-df-convert\" onclick=\"convertToInteractive('df-0437110f-a7d0-4c28-9264-2de5a2836a14')\"\n",
              "            title=\"Convert this dataframe to an interactive table.\"\n",
              "            style=\"display:none;\">\n",
              "\n",
              "  <svg xmlns=\"http://www.w3.org/2000/svg\" height=\"24px\" viewBox=\"0 -960 960 960\">\n",
              "    <path d=\"M120-120v-720h720v720H120Zm60-500h600v-160H180v160Zm220 220h160v-160H400v160Zm0 220h160v-160H400v160ZM180-400h160v-160H180v160Zm440 0h160v-160H620v160ZM180-180h160v-160H180v160Zm440 0h160v-160H620v160Z\"/>\n",
              "  </svg>\n",
              "    </button>\n",
              "\n",
              "  <style>\n",
              "    .colab-df-container {\n",
              "      display:flex;\n",
              "      gap: 12px;\n",
              "    }\n",
              "\n",
              "    .colab-df-convert {\n",
              "      background-color: #E8F0FE;\n",
              "      border: none;\n",
              "      border-radius: 50%;\n",
              "      cursor: pointer;\n",
              "      display: none;\n",
              "      fill: #1967D2;\n",
              "      height: 32px;\n",
              "      padding: 0 0 0 0;\n",
              "      width: 32px;\n",
              "    }\n",
              "\n",
              "    .colab-df-convert:hover {\n",
              "      background-color: #E2EBFA;\n",
              "      box-shadow: 0px 1px 2px rgba(60, 64, 67, 0.3), 0px 1px 3px 1px rgba(60, 64, 67, 0.15);\n",
              "      fill: #174EA6;\n",
              "    }\n",
              "\n",
              "    .colab-df-buttons div {\n",
              "      margin-bottom: 4px;\n",
              "    }\n",
              "\n",
              "    [theme=dark] .colab-df-convert {\n",
              "      background-color: #3B4455;\n",
              "      fill: #D2E3FC;\n",
              "    }\n",
              "\n",
              "    [theme=dark] .colab-df-convert:hover {\n",
              "      background-color: #434B5C;\n",
              "      box-shadow: 0px 1px 3px 1px rgba(0, 0, 0, 0.15);\n",
              "      filter: drop-shadow(0px 1px 2px rgba(0, 0, 0, 0.3));\n",
              "      fill: #FFFFFF;\n",
              "    }\n",
              "  </style>\n",
              "\n",
              "    <script>\n",
              "      const buttonEl =\n",
              "        document.querySelector('#df-0437110f-a7d0-4c28-9264-2de5a2836a14 button.colab-df-convert');\n",
              "      buttonEl.style.display =\n",
              "        google.colab.kernel.accessAllowed ? 'block' : 'none';\n",
              "\n",
              "      async function convertToInteractive(key) {\n",
              "        const element = document.querySelector('#df-0437110f-a7d0-4c28-9264-2de5a2836a14');\n",
              "        const dataTable =\n",
              "          await google.colab.kernel.invokeFunction('convertToInteractive',\n",
              "                                                    [key], {});\n",
              "        if (!dataTable) return;\n",
              "\n",
              "        const docLinkHtml = 'Like what you see? Visit the ' +\n",
              "          '<a target=\"_blank\" href=https://colab.research.google.com/notebooks/data_table.ipynb>data table notebook</a>'\n",
              "          + ' to learn more about interactive tables.';\n",
              "        element.innerHTML = '';\n",
              "        dataTable['output_type'] = 'display_data';\n",
              "        await google.colab.output.renderOutput(dataTable, element);\n",
              "        const docLink = document.createElement('div');\n",
              "        docLink.innerHTML = docLinkHtml;\n",
              "        element.appendChild(docLink);\n",
              "      }\n",
              "    </script>\n",
              "  </div>\n",
              "\n",
              "\n",
              "<div id=\"df-4dd91ec5-7b7d-43f4-ae10-4ea7aa7dbde8\">\n",
              "  <button class=\"colab-df-quickchart\" onclick=\"quickchart('df-4dd91ec5-7b7d-43f4-ae10-4ea7aa7dbde8')\"\n",
              "            title=\"Suggest charts\"\n",
              "            style=\"display:none;\">\n",
              "\n",
              "<svg xmlns=\"http://www.w3.org/2000/svg\" height=\"24px\"viewBox=\"0 0 24 24\"\n",
              "     width=\"24px\">\n",
              "    <g>\n",
              "        <path d=\"M19 3H5c-1.1 0-2 .9-2 2v14c0 1.1.9 2 2 2h14c1.1 0 2-.9 2-2V5c0-1.1-.9-2-2-2zM9 17H7v-7h2v7zm4 0h-2V7h2v10zm4 0h-2v-4h2v4z\"/>\n",
              "    </g>\n",
              "</svg>\n",
              "  </button>\n",
              "\n",
              "<style>\n",
              "  .colab-df-quickchart {\n",
              "      --bg-color: #E8F0FE;\n",
              "      --fill-color: #1967D2;\n",
              "      --hover-bg-color: #E2EBFA;\n",
              "      --hover-fill-color: #174EA6;\n",
              "      --disabled-fill-color: #AAA;\n",
              "      --disabled-bg-color: #DDD;\n",
              "  }\n",
              "\n",
              "  [theme=dark] .colab-df-quickchart {\n",
              "      --bg-color: #3B4455;\n",
              "      --fill-color: #D2E3FC;\n",
              "      --hover-bg-color: #434B5C;\n",
              "      --hover-fill-color: #FFFFFF;\n",
              "      --disabled-bg-color: #3B4455;\n",
              "      --disabled-fill-color: #666;\n",
              "  }\n",
              "\n",
              "  .colab-df-quickchart {\n",
              "    background-color: var(--bg-color);\n",
              "    border: none;\n",
              "    border-radius: 50%;\n",
              "    cursor: pointer;\n",
              "    display: none;\n",
              "    fill: var(--fill-color);\n",
              "    height: 32px;\n",
              "    padding: 0;\n",
              "    width: 32px;\n",
              "  }\n",
              "\n",
              "  .colab-df-quickchart:hover {\n",
              "    background-color: var(--hover-bg-color);\n",
              "    box-shadow: 0 1px 2px rgba(60, 64, 67, 0.3), 0 1px 3px 1px rgba(60, 64, 67, 0.15);\n",
              "    fill: var(--button-hover-fill-color);\n",
              "  }\n",
              "\n",
              "  .colab-df-quickchart-complete:disabled,\n",
              "  .colab-df-quickchart-complete:disabled:hover {\n",
              "    background-color: var(--disabled-bg-color);\n",
              "    fill: var(--disabled-fill-color);\n",
              "    box-shadow: none;\n",
              "  }\n",
              "\n",
              "  .colab-df-spinner {\n",
              "    border: 2px solid var(--fill-color);\n",
              "    border-color: transparent;\n",
              "    border-bottom-color: var(--fill-color);\n",
              "    animation:\n",
              "      spin 1s steps(1) infinite;\n",
              "  }\n",
              "\n",
              "  @keyframes spin {\n",
              "    0% {\n",
              "      border-color: transparent;\n",
              "      border-bottom-color: var(--fill-color);\n",
              "      border-left-color: var(--fill-color);\n",
              "    }\n",
              "    20% {\n",
              "      border-color: transparent;\n",
              "      border-left-color: var(--fill-color);\n",
              "      border-top-color: var(--fill-color);\n",
              "    }\n",
              "    30% {\n",
              "      border-color: transparent;\n",
              "      border-left-color: var(--fill-color);\n",
              "      border-top-color: var(--fill-color);\n",
              "      border-right-color: var(--fill-color);\n",
              "    }\n",
              "    40% {\n",
              "      border-color: transparent;\n",
              "      border-right-color: var(--fill-color);\n",
              "      border-top-color: var(--fill-color);\n",
              "    }\n",
              "    60% {\n",
              "      border-color: transparent;\n",
              "      border-right-color: var(--fill-color);\n",
              "    }\n",
              "    80% {\n",
              "      border-color: transparent;\n",
              "      border-right-color: var(--fill-color);\n",
              "      border-bottom-color: var(--fill-color);\n",
              "    }\n",
              "    90% {\n",
              "      border-color: transparent;\n",
              "      border-bottom-color: var(--fill-color);\n",
              "    }\n",
              "  }\n",
              "</style>\n",
              "\n",
              "  <script>\n",
              "    async function quickchart(key) {\n",
              "      const quickchartButtonEl =\n",
              "        document.querySelector('#' + key + ' button');\n",
              "      quickchartButtonEl.disabled = true;  // To prevent multiple clicks.\n",
              "      quickchartButtonEl.classList.add('colab-df-spinner');\n",
              "      try {\n",
              "        const charts = await google.colab.kernel.invokeFunction(\n",
              "            'suggestCharts', [key], {});\n",
              "      } catch (error) {\n",
              "        console.error('Error during call to suggestCharts:', error);\n",
              "      }\n",
              "      quickchartButtonEl.classList.remove('colab-df-spinner');\n",
              "      quickchartButtonEl.classList.add('colab-df-quickchart-complete');\n",
              "    }\n",
              "    (() => {\n",
              "      let quickchartButtonEl =\n",
              "        document.querySelector('#df-4dd91ec5-7b7d-43f4-ae10-4ea7aa7dbde8 button');\n",
              "      quickchartButtonEl.style.display =\n",
              "        google.colab.kernel.accessAllowed ? 'block' : 'none';\n",
              "    })();\n",
              "  </script>\n",
              "</div>\n",
              "\n",
              "  <div id=\"id_61579629-114b-4399-a969-bec614970ca4\">\n",
              "    <style>\n",
              "      .colab-df-generate {\n",
              "        background-color: #E8F0FE;\n",
              "        border: none;\n",
              "        border-radius: 50%;\n",
              "        cursor: pointer;\n",
              "        display: none;\n",
              "        fill: #1967D2;\n",
              "        height: 32px;\n",
              "        padding: 0 0 0 0;\n",
              "        width: 32px;\n",
              "      }\n",
              "\n",
              "      .colab-df-generate:hover {\n",
              "        background-color: #E2EBFA;\n",
              "        box-shadow: 0px 1px 2px rgba(60, 64, 67, 0.3), 0px 1px 3px 1px rgba(60, 64, 67, 0.15);\n",
              "        fill: #174EA6;\n",
              "      }\n",
              "\n",
              "      [theme=dark] .colab-df-generate {\n",
              "        background-color: #3B4455;\n",
              "        fill: #D2E3FC;\n",
              "      }\n",
              "\n",
              "      [theme=dark] .colab-df-generate:hover {\n",
              "        background-color: #434B5C;\n",
              "        box-shadow: 0px 1px 3px 1px rgba(0, 0, 0, 0.15);\n",
              "        filter: drop-shadow(0px 1px 2px rgba(0, 0, 0, 0.3));\n",
              "        fill: #FFFFFF;\n",
              "      }\n",
              "    </style>\n",
              "    <button class=\"colab-df-generate\" onclick=\"generateWithVariable('kepdfkopi')\"\n",
              "            title=\"Generate code using this dataframe.\"\n",
              "            style=\"display:none;\">\n",
              "\n",
              "  <svg xmlns=\"http://www.w3.org/2000/svg\" height=\"24px\"viewBox=\"0 0 24 24\"\n",
              "       width=\"24px\">\n",
              "    <path d=\"M7,19H8.4L18.45,9,17,7.55,7,17.6ZM5,21V16.75L18.45,3.32a2,2,0,0,1,2.83,0l1.4,1.43a1.91,1.91,0,0,1,.58,1.4,1.91,1.91,0,0,1-.58,1.4L9.25,21ZM18.45,9,17,7.55Zm-12,3A5.31,5.31,0,0,0,4.9,8.1,5.31,5.31,0,0,0,1,6.5,5.31,5.31,0,0,0,4.9,4.9,5.31,5.31,0,0,0,6.5,1,5.31,5.31,0,0,0,8.1,4.9,5.31,5.31,0,0,0,12,6.5,5.46,5.46,0,0,0,6.5,12Z\"/>\n",
              "  </svg>\n",
              "    </button>\n",
              "    <script>\n",
              "      (() => {\n",
              "      const buttonEl =\n",
              "        document.querySelector('#id_61579629-114b-4399-a969-bec614970ca4 button.colab-df-generate');\n",
              "      buttonEl.style.display =\n",
              "        google.colab.kernel.accessAllowed ? 'block' : 'none';\n",
              "\n",
              "      buttonEl.onclick = () => {\n",
              "        google.colab.notebook.generateWithVariable('kepdfkopi');\n",
              "      }\n",
              "      })();\n",
              "    </script>\n",
              "  </div>\n",
              "\n",
              "    </div>\n",
              "  </div>\n"
            ],
            "application/vnd.google.colaboratory.intrinsic+json": {
              "type": "dataframe",
              "variable_name": "kepdfkopi",
              "summary": "{\n  \"name\": \"kepdfkopi\",\n  \"rows\": 7,\n  \"fields\": [\n    {\n      \"column\": \"Pesan\",\n      \"properties\": {\n        \"dtype\": \"string\",\n        \"num_unique_values\": 7,\n        \"samples\": [\n          \"barang bagus kualitas nya top harga nya naik overall 100 dijamin ori\",\n          \"modelnya keren, bahannya bagus cuma agak kepanjangan. perlu dipermak dikit.\",\n          \"oke paket di terima dengan baik ,, untuk kualitas barang oke kok kak \\ud83d\\ude01 bagus ,, tapi sayang nya untuk pengiriman agak lama kak oke itu saja dari saya\"\n        ],\n        \"semantic_type\": \"\",\n        \"description\": \"\"\n      }\n    },\n    {\n      \"column\": \"Nilai\",\n      \"properties\": {\n        \"dtype\": \"number\",\n        \"std\": 0,\n        \"min\": 5,\n        \"max\": 5,\n        \"num_unique_values\": 1,\n        \"samples\": [\n          5\n        ],\n        \"semantic_type\": \"\",\n        \"description\": \"\"\n      }\n    },\n    {\n      \"column\": \"Label\",\n      \"properties\": {\n        \"dtype\": \"category\",\n        \"num_unique_values\": 1,\n        \"samples\": [\n          \"excellent\"\n        ],\n        \"semantic_type\": \"\",\n        \"description\": \"\"\n      }\n    }\n  ]\n}"
            }
          },
          "metadata": {},
          "execution_count": 65
        }
      ],
      "source": [
        "#cek sampel data\n",
        "kepdfkopi = dfkopi.head(7)\n",
        "kepdfkopi"
      ]
    },
    {
      "cell_type": "code",
      "execution_count": 66,
      "metadata": {
        "colab": {
          "base_uri": "https://localhost:8080/"
        },
        "id": "mIvLzU2I-ov_",
        "outputId": "10fa3090-6360-47bf-895b-06b2698c284d"
      },
      "outputs": [
        {
          "output_type": "stream",
          "name": "stdout",
          "text": [
            "<class 'pandas.core.frame.DataFrame'>\n",
            "RangeIndex: 2210 entries, 0 to 2209\n",
            "Data columns (total 3 columns):\n",
            " #   Column  Non-Null Count  Dtype \n",
            "---  ------  --------------  ----- \n",
            " 0   Pesan   2210 non-null   object\n",
            " 1   Nilai   2210 non-null   int64 \n",
            " 2   Label   2210 non-null   object\n",
            "dtypes: int64(1), object(2)\n",
            "memory usage: 51.9+ KB\n",
            "None\n"
          ]
        }
      ],
      "source": [
        "#cek kolom\n",
        "dfkopinfo = dfkopi.info()\n",
        "print(dfkopinfo)"
      ]
    },
    {
      "cell_type": "markdown",
      "metadata": {
        "id": "xSUBVfNRz5Cg"
      },
      "source": [
        "#### Pembersihan data (bebas dari data duplikat dan kosong)"
      ]
    },
    {
      "cell_type": "code",
      "execution_count": 69,
      "metadata": {
        "id": "zHc9f-3Dc-Ku",
        "colab": {
          "base_uri": "https://localhost:8080/",
          "height": 178
        },
        "outputId": "58648944-18f9-4459-d4ae-fbc260354ba2"
      },
      "outputs": [
        {
          "output_type": "execute_result",
          "data": {
            "text/plain": [
              "Pesan    0\n",
              "Nilai    0\n",
              "Label    0\n",
              "dtype: int64"
            ],
            "text/html": [
              "<div>\n",
              "<style scoped>\n",
              "    .dataframe tbody tr th:only-of-type {\n",
              "        vertical-align: middle;\n",
              "    }\n",
              "\n",
              "    .dataframe tbody tr th {\n",
              "        vertical-align: top;\n",
              "    }\n",
              "\n",
              "    .dataframe thead th {\n",
              "        text-align: right;\n",
              "    }\n",
              "</style>\n",
              "<table border=\"1\" class=\"dataframe\">\n",
              "  <thead>\n",
              "    <tr style=\"text-align: right;\">\n",
              "      <th></th>\n",
              "      <th>0</th>\n",
              "    </tr>\n",
              "  </thead>\n",
              "  <tbody>\n",
              "    <tr>\n",
              "      <th>Pesan</th>\n",
              "      <td>0</td>\n",
              "    </tr>\n",
              "    <tr>\n",
              "      <th>Nilai</th>\n",
              "      <td>0</td>\n",
              "    </tr>\n",
              "    <tr>\n",
              "      <th>Label</th>\n",
              "      <td>0</td>\n",
              "    </tr>\n",
              "  </tbody>\n",
              "</table>\n",
              "</div><br><label><b>dtype:</b> int64</label>"
            ]
          },
          "metadata": {},
          "execution_count": 69
        }
      ],
      "source": [
        "#Data Kosong\n",
        "totkos = dfkopi.isnull().sum() #Kosong\n",
        "totkos"
      ]
    },
    {
      "cell_type": "code",
      "execution_count": 68,
      "metadata": {
        "colab": {
          "base_uri": "https://localhost:8080/"
        },
        "id": "VBL4dxhLW16O",
        "outputId": "0cf1471c-3859-4903-e0a1-1cb69440f6f3"
      },
      "outputs": [
        {
          "output_type": "stream",
          "name": "stdout",
          "text": [
            "Pesan    0\n",
            "Nilai    0\n",
            "Label    0\n",
            "dtype: int64\n"
          ]
        }
      ],
      "source": [
        "#inspeksi data hilang\n",
        "tothil = dfkopi.isna().sum() #Hilang\n",
        "print(tothil)"
      ]
    },
    {
      "cell_type": "code",
      "execution_count": 70,
      "metadata": {
        "colab": {
          "base_uri": "https://localhost:8080/"
        },
        "id": "lcIkE-2PUwBv",
        "outputId": "a59794b7-2887-4a68-ce36-6440486f4375"
      },
      "outputs": [
        {
          "output_type": "execute_result",
          "data": {
            "text/plain": [
              "452"
            ]
          },
          "metadata": {},
          "execution_count": 70
        }
      ],
      "source": [
        "#inspeksi data duplikat\n",
        "dfkopi.duplicated().sum()"
      ]
    },
    {
      "cell_type": "code",
      "execution_count": 71,
      "metadata": {
        "colab": {
          "base_uri": "https://localhost:8080/"
        },
        "id": "sCRDbZe5W9ei",
        "outputId": "6ac46cfb-9838-4296-b287-63ddd2f07d33"
      },
      "outputs": [
        {
          "output_type": "stream",
          "name": "stdout",
          "text": [
            "                                               Pesan  Nilai      Label\n",
            "0  barang bagus kualitas nya top harga nya naik o...      5  excellent\n",
            "1  modelnya keren, bahannya bagus cuma agak kepan...      5  excellent\n",
            "2  tinggi 175 bb 60 ukuran L cocok si, pas dan en...      5  excellent\n",
            "3  enak di pake adem dan kece pas di badan gw. ta...      5  excellent\n",
            "4  APAAN INI WOY KEREN BANGET KEMEJA NYA ga usa r...      5  excellent\n",
            "5  oke paket di terima dengan baik ,, untuk kuali...      5  excellent\n",
            "6  pas, bahannya enak banget dibadan dan juga ker...      5  excellent\n"
          ]
        }
      ],
      "source": [
        "#Pembersihan data duplikat\n",
        "dfkopi.drop_duplicates(inplace=True)\n",
        "dfkopitung = dfkopi.copy()\n",
        "kep2 = dfkopitung.head(7) #pasca pembersihan\n",
        "print(kep2)"
      ]
    },
    {
      "cell_type": "code",
      "execution_count": 72,
      "metadata": {
        "colab": {
          "base_uri": "https://localhost:8080/"
        },
        "id": "KSs3MN6PXiv0",
        "outputId": "305bc735-8352-4202-caa3-8a06f4a8cfb2"
      },
      "outputs": [
        {
          "output_type": "stream",
          "name": "stdout",
          "text": [
            "1758\n"
          ]
        }
      ],
      "source": [
        "#cek panjang\n",
        "lendfkop2 = len(dfkopitung)\n",
        "print(lendfkop2)"
      ]
    },
    {
      "cell_type": "markdown",
      "metadata": {
        "id": "RbXhm1c9qLlB"
      },
      "source": [
        "# Persiapan tahapan ulasan"
      ]
    },
    {
      "cell_type": "markdown",
      "metadata": {
        "id": "gcHgGv8zqYTx"
      },
      "source": [
        "## Penataan ulang kata-kata"
      ]
    },
    {
      "cell_type": "code",
      "execution_count": null,
      "metadata": {
        "id": "Y4aU0ywFqNmH"
      },
      "outputs": [],
      "source": [
        "#pembuatan daftar kata-kata bahasa gaul\n",
        "kata_gaul = ['yang', 'dan', 'di', 'ke', 'dari', 'ini', 'itu', 'untuk', 'dengan', 'saya', 'ada', 'akan', 'pada',\n",
        "             'seperti', 'karena', 'atau', 'jika', 'tidak', 'dalam','iya','yaa','gak','nya','na','sih','ku',\"di\",\"ga\",\"ya\",\"gaa\",\"loh\",\"kah\",\"woi\",\"woii\",\"woy\"] #daftar kata gaul\n",
        "#Bahasa gaul yang populer"
      ]
    }
  ],
  "metadata": {
    "colab": {
      "collapsed_sections": [
        "3AnRFiL8jh8u"
      ],
      "provenance": [],
      "authorship_tag": "ABX9TyPDFgKvQEsGCU9sf3yeuPpu",
      "include_colab_link": true
    },
    "kernelspec": {
      "display_name": "Python 3",
      "name": "python3"
    },
    "language_info": {
      "name": "python"
    }
  },
  "nbformat": 4,
  "nbformat_minor": 0
}