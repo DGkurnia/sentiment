{
  "nbformat": 4,
  "nbformat_minor": 0,
  "metadata": {
    "colab": {
      "provenance": [],
      "collapsed_sections": [
        "8kNb0g1C5_WY"
      ],
      "authorship_tag": "ABX9TyPxSyycwcI+xD/3wJnA1t15",
      "include_colab_link": true
    },
    "kernelspec": {
      "name": "python3",
      "display_name": "Python 3"
    },
    "language_info": {
      "name": "python"
    }
  },
  "cells": [
    {
      "cell_type": "markdown",
      "metadata": {
        "id": "view-in-github",
        "colab_type": "text"
      },
      "source": [
        "<a href=\"https://colab.research.google.com/github/DGkurnia/sentiment/blob/main/sentiment_analysis.ipynb\" target=\"_parent\"><img src=\"https://colab.research.google.com/assets/colab-badge.svg\" alt=\"Open In Colab\"/></a>"
      ]
    },
    {
      "cell_type": "markdown",
      "source": [
        "* Nama: Derfansyah Guswiranata Kurnia\n",
        "* Identitas Dicoding : dgkurnia\n",
        "* email dicoding : weerakurnia@gmail.com\n",
        "* Alamat: Jalan Malaka Hijau No 39 Perumahan Malaka Country Estate"
      ],
      "metadata": {
        "id": "uPmNRWmM6GSV"
      }
    },
    {
      "cell_type": "markdown",
      "source": [
        "# Tahap awal perpustakaan"
      ],
      "metadata": {
        "id": "8kNb0g1C5_WY"
      }
    },
    {
      "cell_type": "markdown",
      "source": [
        "## Pembaruan"
      ],
      "metadata": {
        "id": "DgveYLnX8Nht"
      }
    },
    {
      "cell_type": "code",
      "source": [
        "#perkembangan google colab\n",
        "!apt-get update"
      ],
      "metadata": {
        "colab": {
          "base_uri": "https://localhost:8080/"
        },
        "id": "EMpzo1G38PI2",
        "outputId": "ecbe80c7-b4e5-4812-95d7-1092632ff7db"
      },
      "execution_count": 1,
      "outputs": [
        {
          "output_type": "stream",
          "name": "stdout",
          "text": [
            "\r0% [Working]\r            \rGet:1 https://cloud.r-project.org/bin/linux/ubuntu jammy-cran40/ InRelease [3,626 B]\n",
            "\r0% [Connecting to archive.ubuntu.com (185.125.190.82)] [Waiting for headers] [1 InRelease 3,626 B/3,\r0% [Connecting to archive.ubuntu.com (185.125.190.82)] [Waiting for headers] [Connected to r2u.stat.\r                                                                                                    \rGet:2 https://developer.download.nvidia.com/compute/cuda/repos/ubuntu2204/x86_64  InRelease [1,581 B]\n",
            "\r0% [Connecting to archive.ubuntu.com (185.125.190.82)] [Waiting for headers] [Waiting for headers] [\r                                                                                                    \rGet:3 http://security.ubuntu.com/ubuntu jammy-security InRelease [129 kB]\n",
            "\r0% [Waiting for headers] [3 InRelease 5,484 B/129 kB 4%] [Waiting for headers] [Connected to ppa.lau\r                                                                                                    \rGet:4 https://r2u.stat.illinois.edu/ubuntu jammy InRelease [6,555 B]\n",
            "Hit:5 http://archive.ubuntu.com/ubuntu jammy InRelease\n",
            "Get:6 http://archive.ubuntu.com/ubuntu jammy-updates InRelease [128 kB]\n",
            "Get:7 https://cloud.r-project.org/bin/linux/ubuntu jammy-cran40/ Packages [62.5 kB]\n",
            "Hit:8 https://ppa.launchpadcontent.net/deadsnakes/ppa/ubuntu jammy InRelease\n",
            "Get:9 https://developer.download.nvidia.com/compute/cuda/repos/ubuntu2204/x86_64  Packages [1,234 kB]\n",
            "Hit:10 https://ppa.launchpadcontent.net/graphics-drivers/ppa/ubuntu jammy InRelease\n",
            "Get:11 http://archive.ubuntu.com/ubuntu jammy-backports InRelease [127 kB]\n",
            "Hit:12 https://ppa.launchpadcontent.net/ubuntugis/ppa/ubuntu jammy InRelease\n",
            "Get:13 https://r2u.stat.illinois.edu/ubuntu jammy/main amd64 Packages [2,641 kB]\n",
            "Get:14 https://r2u.stat.illinois.edu/ubuntu jammy/main all Packages [8,606 kB]\n",
            "Get:15 http://security.ubuntu.com/ubuntu jammy-security/universe amd64 Packages [1,228 kB]\n",
            "Get:16 http://security.ubuntu.com/ubuntu jammy-security/main amd64 Packages [2,560 kB]\n",
            "Get:17 http://archive.ubuntu.com/ubuntu jammy-updates/universe amd64 Packages [1,519 kB]\n",
            "Get:18 http://archive.ubuntu.com/ubuntu jammy-updates/main amd64 Packages [2,860 kB]\n",
            "Fetched 21.1 MB in 5s (4,002 kB/s)\n",
            "Reading package lists... Done\n",
            "W: Skipping acquire of configured file 'main/source/Sources' as repository 'https://r2u.stat.illinois.edu/ubuntu jammy InRelease' does not seem to provide it (sources.list entry misspelt?)\n"
          ]
        }
      ]
    },
    {
      "cell_type": "code",
      "source": [
        "#request dan pandas\n",
        "!pip install requests pandas"
      ],
      "metadata": {
        "colab": {
          "base_uri": "https://localhost:8080/"
        },
        "id": "eheK4Fn98VWg",
        "outputId": "338f811d-9ceb-4a5e-cf04-1d5bf8d6dc19"
      },
      "execution_count": 2,
      "outputs": [
        {
          "output_type": "stream",
          "name": "stdout",
          "text": [
            "Requirement already satisfied: requests in /usr/local/lib/python3.11/dist-packages (2.32.3)\n",
            "Requirement already satisfied: pandas in /usr/local/lib/python3.11/dist-packages (2.2.2)\n",
            "Requirement already satisfied: charset-normalizer<4,>=2 in /usr/local/lib/python3.11/dist-packages (from requests) (3.4.1)\n",
            "Requirement already satisfied: idna<4,>=2.5 in /usr/local/lib/python3.11/dist-packages (from requests) (3.10)\n",
            "Requirement already satisfied: urllib3<3,>=1.21.1 in /usr/local/lib/python3.11/dist-packages (from requests) (2.3.0)\n",
            "Requirement already satisfied: certifi>=2017.4.17 in /usr/local/lib/python3.11/dist-packages (from requests) (2024.12.14)\n",
            "Requirement already satisfied: numpy>=1.23.2 in /usr/local/lib/python3.11/dist-packages (from pandas) (1.26.4)\n",
            "Requirement already satisfied: python-dateutil>=2.8.2 in /usr/local/lib/python3.11/dist-packages (from pandas) (2.8.2)\n",
            "Requirement already satisfied: pytz>=2020.1 in /usr/local/lib/python3.11/dist-packages (from pandas) (2024.2)\n",
            "Requirement already satisfied: tzdata>=2022.7 in /usr/local/lib/python3.11/dist-packages (from pandas) (2024.2)\n",
            "Requirement already satisfied: six>=1.5 in /usr/local/lib/python3.11/dist-packages (from python-dateutil>=2.8.2->pandas) (1.17.0)\n"
          ]
        }
      ]
    },
    {
      "cell_type": "code",
      "source": [
        "#instalasi sastarawi\n",
        "!pip install sastrawi"
      ],
      "metadata": {
        "colab": {
          "base_uri": "https://localhost:8080/"
        },
        "id": "RBT7W3s69r2T",
        "outputId": "008d2b69-4935-409b-d491-2e33f0e40715"
      },
      "execution_count": 3,
      "outputs": [
        {
          "output_type": "stream",
          "name": "stdout",
          "text": [
            "Collecting sastrawi\n",
            "  Downloading Sastrawi-1.0.1-py2.py3-none-any.whl.metadata (909 bytes)\n",
            "Downloading Sastrawi-1.0.1-py2.py3-none-any.whl (209 kB)\n",
            "\u001b[?25l   \u001b[90m━━━━━━━━━━━━━━━━━━━━━━━━━━━━━━━━━━━━━━━━\u001b[0m \u001b[32m0.0/209.7 kB\u001b[0m \u001b[31m?\u001b[0m eta \u001b[36m-:--:--\u001b[0m\r\u001b[2K   \u001b[90m━━━━━━━━━━━━━━━━━━━━━━━━━━━━━━━━━━━━━━━━\u001b[0m \u001b[32m209.7/209.7 kB\u001b[0m \u001b[31m8.0 MB/s\u001b[0m eta \u001b[36m0:00:00\u001b[0m\n",
            "\u001b[?25hInstalling collected packages: sastrawi\n",
            "Successfully installed sastrawi-1.0.1\n"
          ]
        }
      ]
    },
    {
      "cell_type": "code",
      "source": [
        "#instalasi wordcloud\n",
        "!pip install wordcloud"
      ],
      "metadata": {
        "colab": {
          "base_uri": "https://localhost:8080/"
        },
        "id": "0fgrykPI-FD4",
        "outputId": "6b161be2-4440-4223-9faa-ba739ffb2dde"
      },
      "execution_count": 4,
      "outputs": [
        {
          "output_type": "stream",
          "name": "stdout",
          "text": [
            "Requirement already satisfied: wordcloud in /usr/local/lib/python3.11/dist-packages (1.9.4)\n",
            "Requirement already satisfied: numpy>=1.6.1 in /usr/local/lib/python3.11/dist-packages (from wordcloud) (1.26.4)\n",
            "Requirement already satisfied: pillow in /usr/local/lib/python3.11/dist-packages (from wordcloud) (11.1.0)\n",
            "Requirement already satisfied: matplotlib in /usr/local/lib/python3.11/dist-packages (from wordcloud) (3.10.0)\n",
            "Requirement already satisfied: contourpy>=1.0.1 in /usr/local/lib/python3.11/dist-packages (from matplotlib->wordcloud) (1.3.1)\n",
            "Requirement already satisfied: cycler>=0.10 in /usr/local/lib/python3.11/dist-packages (from matplotlib->wordcloud) (0.12.1)\n",
            "Requirement already satisfied: fonttools>=4.22.0 in /usr/local/lib/python3.11/dist-packages (from matplotlib->wordcloud) (4.55.3)\n",
            "Requirement already satisfied: kiwisolver>=1.3.1 in /usr/local/lib/python3.11/dist-packages (from matplotlib->wordcloud) (1.4.8)\n",
            "Requirement already satisfied: packaging>=20.0 in /usr/local/lib/python3.11/dist-packages (from matplotlib->wordcloud) (24.2)\n",
            "Requirement already satisfied: pyparsing>=2.3.1 in /usr/local/lib/python3.11/dist-packages (from matplotlib->wordcloud) (3.2.1)\n",
            "Requirement already satisfied: python-dateutil>=2.7 in /usr/local/lib/python3.11/dist-packages (from matplotlib->wordcloud) (2.8.2)\n",
            "Requirement already satisfied: six>=1.5 in /usr/local/lib/python3.11/dist-packages (from python-dateutil>=2.7->matplotlib->wordcloud) (1.17.0)\n"
          ]
        }
      ]
    },
    {
      "cell_type": "code",
      "source": [
        "#instalasi backoff\n",
        "!pip install backoff aiohttp"
      ],
      "metadata": {
        "colab": {
          "base_uri": "https://localhost:8080/"
        },
        "id": "EzdaE7ke-co6",
        "outputId": "da936281-de25-4f9e-db26-1e8ba17bb216"
      },
      "execution_count": 5,
      "outputs": [
        {
          "output_type": "stream",
          "name": "stdout",
          "text": [
            "Collecting backoff\n",
            "  Downloading backoff-2.2.1-py3-none-any.whl.metadata (14 kB)\n",
            "Requirement already satisfied: aiohttp in /usr/local/lib/python3.11/dist-packages (3.11.11)\n",
            "Requirement already satisfied: aiohappyeyeballs>=2.3.0 in /usr/local/lib/python3.11/dist-packages (from aiohttp) (2.4.4)\n",
            "Requirement already satisfied: aiosignal>=1.1.2 in /usr/local/lib/python3.11/dist-packages (from aiohttp) (1.3.2)\n",
            "Requirement already satisfied: attrs>=17.3.0 in /usr/local/lib/python3.11/dist-packages (from aiohttp) (24.3.0)\n",
            "Requirement already satisfied: frozenlist>=1.1.1 in /usr/local/lib/python3.11/dist-packages (from aiohttp) (1.5.0)\n",
            "Requirement already satisfied: multidict<7.0,>=4.5 in /usr/local/lib/python3.11/dist-packages (from aiohttp) (6.1.0)\n",
            "Requirement already satisfied: propcache>=0.2.0 in /usr/local/lib/python3.11/dist-packages (from aiohttp) (0.2.1)\n",
            "Requirement already satisfied: yarl<2.0,>=1.17.0 in /usr/local/lib/python3.11/dist-packages (from aiohttp) (1.18.3)\n",
            "Requirement already satisfied: idna>=2.0 in /usr/local/lib/python3.11/dist-packages (from yarl<2.0,>=1.17.0->aiohttp) (3.10)\n",
            "Downloading backoff-2.2.1-py3-none-any.whl (15 kB)\n",
            "Installing collected packages: backoff\n",
            "Successfully installed backoff-2.2.1\n"
          ]
        }
      ]
    },
    {
      "cell_type": "markdown",
      "source": [
        "## Impor Perpustakaan"
      ],
      "metadata": {
        "id": "aQlsyIAC8Pbg"
      }
    },
    {
      "cell_type": "code",
      "source": [
        "#akses ke google drive\n",
        "from google.colab import drive\n",
        "drive.mount('/content/drive')"
      ],
      "metadata": {
        "colab": {
          "base_uri": "https://localhost:8080/"
        },
        "id": "AD2hHjhS-dK7",
        "outputId": "689f680c-40a2-4c82-dc0c-e405a58fd568"
      },
      "execution_count": 6,
      "outputs": [
        {
          "output_type": "stream",
          "name": "stdout",
          "text": [
            "Mounted at /content/drive\n"
          ]
        }
      ]
    },
    {
      "cell_type": "code",
      "execution_count": 7,
      "metadata": {
        "id": "l2H93XvT59t_"
      },
      "outputs": [],
      "source": [
        "#instalasi perpustakaan\n",
        "import requests\n",
        "import json\n",
        "import pandas as pd\n",
        "import csv\n",
        "#ke manajemen"
      ]
    },
    {
      "cell_type": "code",
      "source": [
        "#manajemen data dasar\n",
        "import numpy as np\n",
        "import matplotlib.pyplot as plt\n",
        "import datetime as dt #jika ada tanggal\n",
        "#perpustakaan untuk interpolasi\n",
        "from scipy.interpolate import interp1d\n",
        "#ke sastawi"
      ],
      "metadata": {
        "id": "yBuTUrC8-URj"
      },
      "execution_count": 8,
      "outputs": []
    },
    {
      "cell_type": "code",
      "source": [
        "#persiapan 'multiprocessing'\n",
        "from multiprocessing import Pool\n",
        "#Seksi Io dan lain-lain\n",
        "import os\n",
        "from io import StringIO\n",
        "#pemrograman paralel\n",
        "import concurrent.futures #untuk pemrograman paralel\n",
        "from concurrent.futures import ProcessPoolExecutor\n",
        "from concurrent.futures import ThreadPoolExecutor\n",
        "#ke sastrawi"
      ],
      "metadata": {
        "id": "kCfZSw8e_UiX"
      },
      "execution_count": 9,
      "outputs": []
    },
    {
      "cell_type": "code",
      "source": [
        "#NITK\n",
        "import nltk  # Import pustaka NLTK (Natural Language Toolkit).\n",
        "nltk.download('punkt')  # Mengunduh dataset yang diperlukan untuk tokenisasi teks.\n",
        "nltk.download('stopwords')  # Mengunduh dataset yang berisi daftar kata-kata berhenti (stopwords) dalam berbagai bahasa.\n",
        "from nltk.corpus import stopwords  # Mengimpor modul stopwords dari pustaka NLTK.\n",
        "from nltk.tokenize import word_tokenize  # Mengimpor fungsi word_tokenize dari modul tokenize dalam pustaka NLTK.\n",
        "\n",
        "#impor wordcloud\n",
        "from wordcloud import WordCloud  # Membuat visualisasi berbentuk awan kata (word cloud) dari teks\n",
        "#ke sastrawi"
      ],
      "metadata": {
        "colab": {
          "base_uri": "https://localhost:8080/"
        },
        "id": "KFYVqpSC99aC",
        "outputId": "e30aef86-75f4-4923-bf75-a5c07008e89a"
      },
      "execution_count": 10,
      "outputs": [
        {
          "output_type": "stream",
          "name": "stderr",
          "text": [
            "[nltk_data] Downloading package punkt to /root/nltk_data...\n",
            "[nltk_data]   Unzipping tokenizers/punkt.zip.\n",
            "[nltk_data] Downloading package stopwords to /root/nltk_data...\n",
            "[nltk_data]   Unzipping corpora/stopwords.zip.\n"
          ]
        }
      ]
    },
    {
      "cell_type": "code",
      "source": [
        "#perpustakaan untuk klasifikasi\n",
        "from sklearn.ensemble import RandomForestClassifier as rfclasifi #teknik 'randomfprest'\n",
        "from sklearn.tree import DecisionTreeClassifier #teknik 'keputusan'\n",
        "from sklearn.svm import SVC #teknik SVC\n",
        "from sklearn.linear_model import LogisticRegression"
      ],
      "metadata": {
        "id": "OH20kt7O_D0g"
      },
      "execution_count": 11,
      "outputs": []
    },
    {
      "cell_type": "markdown",
      "source": [
        "# Persiapan ekstraksi situs"
      ],
      "metadata": {
        "id": "UE7_Jlij_6zP"
      }
    },
    {
      "cell_type": "markdown",
      "source": [
        "## Pendaftaran situs"
      ],
      "metadata": {
        "id": "BeLwsLIcGF8d"
      }
    },
    {
      "cell_type": "code",
      "source": [
        "#daftar url\n",
        "urllist = [\"https://www.tokopedia.com/erigo/kemeja-unisex-erigo-short-shirt-jazlyn-black-jazlyn-black-s/review\", \"https://www.tokopedia.com/erigo/kemeja-unisex-erigo-short-shirt-gribson-rayon-navy-s/review\",\n",
        "\"https://www.tokopedia.com/erigo/kemeja-unisex-erigo-short-shirt-lavrenti-white-lavrenti-white-s/review\", \"https://www.tokopedia.com/erigo/kemeja-unisex-erigo-short-shirt-nessie-dark-green-s/review\",\n",
        "\"https://www.tokopedia.com/erigo/kemeja-unisex-erigo-short-shirt-gruney-katun-red-m/review\", \"https://www.tokopedia.com/erigo/kaos-erigo-t-shirt-oversize-antelope-cotton-combed-black-m/review\"]\n",
        "#ke fragmentasi"
      ],
      "metadata": {
        "id": "UGvPm4Xg0wKf"
      },
      "execution_count": 109,
      "outputs": []
    },
    {
      "cell_type": "code",
      "source": [
        "#fragmentasi url\n",
        "[urla,urlb,urlc,urld,urle,urlf] = urllist\n",
        "#ke proses ekstraksi informasi"
      ],
      "metadata": {
        "id": "uBpRhU5q_5_e"
      },
      "execution_count": 110,
      "outputs": []
    },
    {
      "cell_type": "markdown",
      "source": [
        "## Proses ekstraksi"
      ],
      "metadata": {
        "id": "38UtBq0o7YjT"
      }
    },
    {
      "cell_type": "code",
      "source": [
        "#situs A\n",
        "turla = 'https://gql.tokopedia.com/graphql/productReviewList'\n",
        "heada = {'accept': '*/*' ,\n",
        "   'accept-language': 'en-US,en;q=0.9' ,\n",
        "   'bd-device-id': '7461986961269081617' ,\n",
        "   'content-type': 'application/json' ,\n",
        "   'cookie': '_UUID_NONLOGIN_=e66ed06832acf756d426a493bf7bac26; _UUID_NONLOGIN_.sig=JpwY5Akhm0H8xr6doCJFqYqnNjM; _SID_Tokopedia_=NwrKP0GhH27USJ0-Kd_bzQmNQmkL6fJZ_hUy7px9yYDRZxXSMZ9QUiGnjxgVKNqDa3dKAKRs4PNb9KXl1lOu7EO1g8VHe6DT5qnKcwrmTq6LiJqkaQIVgDk7fGkvVozC; DID=5fc0d7cafdcac8e6f2b8b9cc5b7d62a618027955df14c273f58635e60983697a254bd4679379abc68b6565430baabd72; DID_JS=NWZjMGQ3Y2FmZGNhYzhlNmYyYjhiOWNjNWI3ZDYyYTYxODAyNzk1NWRmMTRjMjczZjU4NjM1ZTYwOTgzNjk3YTI1NGJkNDY3OTM3OWFiYzY4YjY1NjU0MzBiYWFiZDcy47DEQpj8HBSa+/TImW+5JCeuQeRkm5NMpJWZG3hSuFU=; ak_bmsc=94D1DCC12F6AF478887548E9837200FB~000000000000000000000000000000~YAAQ3i2pyqNTOWCUAQAAklTfgxrwDEn0XJX2byHL/KDtwxOnz0wDQ3WSTUw7KPiuWfUUSFYOULXksJd1NJ5McYwwmS68dg26nLjKNnh9F2yS8R9hiVZ7MJYUQYu6aelqotQUNSBBRv3OrLrWXevhmyD5xTz7K/eUXo6sqxWM7ZtobnCT9IYJceNWMr2/suwIJVeQeKFswI0Wy16DlcWcO/rSokBHAedyxW81Rj/vrhGk1h2EkVxKbGjNQHOizk+TF3TWxHgEEdktw/OLLmnuPzW+IfVPL3V1rxSYqyu04eSXsc8iFC0Iwf9QFMTjXB2mjBTjj6VgtNJq0sbEJ0ghA2n/Dbfn9eaJ4LBlXlse+UVXzOCMeBjsk9lGywcV3RatT7BAmSYPFh9FTesrWA2V19S5kYnn7K3r2sxiYOJUeyKXe2tiredmK+24EE4y+u4E3ZpPBV/zpKG+hD2Iccm7; _gcl_au=1.1.1215995700.1737379239; _gid=GA1.2.1415196745.1737379240; AMP_TOKEN=%24NOT_FOUND; _tt_enable_cookie=1; _ttp=jHsfuWBzE3VgTMaYbVweVb1J_4h.tt.1; TOPATK=SSY09UDGR6eHNQR9og9-aQ; l=1; tuid=39275554; gec_id=168687219962298048; uidh=hQ343xlJhV8WFIBvzr8NcCaECmZcWRGgONmdJbMgjPA=; g_yolo_production=1; _hjSessionUser_714968=eyJpZCI6IjQ0MzljOWJmLTBmNWQtNTAxMy1hMzJkLTg3OTg3YTk3MzNmMyIsImNyZWF0ZWQiOjE3MzczNzkyNTIxMTYsImV4aXN0aW5nIjpmYWxzZX0=; FPF=1; uide=Lz2FAkosBZ+4oXve1QBo9q+9+hv+7bEG9RpiIq9C7QGKm0pZ; aus=1; _CASE_=247d3e163b7d657d696b6a6a6e6c676b7d737d3c163b7d656e6867737d3b163b7d656d6d666d737d330a2f3b7d657d6d6f6d6a726f6e726d6f0b6d6f656d6e656d68746f68656f6f7d737d333e2b7d657d7269716d6d6b686f69667d737d333d337d657d323e333e343e7f3c30312b2d267f3a2c2b3e2b3a7f28362d3e7d737d333031387d657d6e6f6971666b6f6e686a7d737d2f1c307d657d6e6c6b696f7d737d2c163b7d656e6e6a6c6f6a686c737d2c0b262f3a7d657d30303c7d737d28163b7d656f737d28372c7d657d04027d737d28372c2c7d657d04027d22; _UUID_CAS_=d3b6a3eb-49e3-4a08-aea3-1b901c5edaea; _fbp=fb.1.1737380279403.789036172559542773; bm_sz=2F6996B87B5DF943A5AFCC637B52DE89~YAAQ3i2pyl2sOmCUAQAAJDcDhBoJna/+Pi9+9FYtVeHxERiNix50LL8tsfebKrx6XfBNH8IynBZOLh/p8zBAkCySWaHYdLjtbCQ/YLHlT6ELyZ38UB4KBgareKabnYiKrrsOkZlIWSXvXblVMUxRDYGMUJLQg4oQbpwkGHHN1g48qJyikkRxQnx8Sx1uC7C1NlWLI4wFIDetavq+E0Is6gHeFODNYROVUBE6rl+L92bKt8/ktpg+rk6xFbtA5dp//z4auKN9xu6CNone8D6fq51AnUmNLYmO2DHz4myqVigwAYbPx5CazWzCf7Swm2Owq/baJukEVcfpWtFf3zPiW1kPYAkLiy6RQM5BBvpNoA6xb8yX0/eCpHfEdChFIOHCm+4L7r9/UoyQXheoFGTS/rK3ZhrW5kiMvHsH9aCyR3cHNrL/rq5FqANMm7hRQPZzVzwCJ/UWYkU27MT7CrRKUzBKKumz518IQhuoKdbm5RamMwwJheYeQXLvhb6ihrMPFeVZcZf652MoY/A=~4403521~4273464; _abck=2795332B26E74C8E0CF18652596E7B31~0~YAAQ3i2pymOsOmCUAQAAmTcDhA1V9XSqU4VNslOTNJ6jixnQwM6L9TcOj/8AB/b+Q6IAnHcFLE/bWbR837Bk4vQ47T51LjZn/5qM9yJNtiO2505U5Ogc1UwYGHuKEPZWypEDF41mji9disNcwia6r1kzG+xBm/kJGtc7VH15Zei6awmXXES1wISqJiHWlk7BFaGWJ7AL71RvHDdh3ZeZIuRaC22xLJN4y7rOgz3oOKHRdh1YTVX+KU4ss8ABcjOEDMnwVLjwipHFqzXiUTtxS06K4yrci53+gvIdLd0aTsxcLZ9aIe5wHbeiJcW/sd8k05ROjNVD728AsgrUHrFAYomFwx3etX7raiQk8H1qYcpeJFcCiactzIC/X5oFupLu09kGjChSHZ3CkrC/TJxm1jBoAcgpAlveqpbPcsvXGE043mvIggSbY70X35082isWOJdhHL77oxfAv2i2i/nigQnze+9m7LrnZn13Jxpljl88sqTbUEb0Oue1OrTsA2FlGllm3SZWCbJoJ3ra7eTCaa7nrsIEyI0S9xReHWtli6NrMSMVqxcv/tKahdN1b3vvJrvnh5DQ9sCytJ0j6d3EA/gRkqm5DFQclJv/Zj4MEuyCRi4KcrHzQRS8Jw664d1N+Ad+MoeY5kqwpqUeTXV5EBTqOGS1wph5EOMWRoL9ZNXZ73iXKHThrP7M34Z46BvPvU2iHrGfeTgZNQWXK58=~-1~-1~-1; bm_sv=CCA5A936D5A930DB67816034A2DAC31B~YAAQ9S2pym4u622UAQAAtTwDhBrnJGZ7Jzo57FhlcO3NOvH2mBxoViK5QLiH6A05dODlIUTnmS3YC+GdYTWHE1UVYd3n/QmjKrDENUI4wOH4LoJlgQG04oKIL/q35U/UvpDLHW5u0CajNt3vpaHpS68BpezpxaSXXzB4IqT3337saHX8MaTsX+owTMs509miTATvFX7sBb2CqY6Gb2IHQ8KDWGDYc0gAS3I7IF3vBQTx9NUbIA13/rxpXgSRZxG62fkUkQ==~1; _dc_gtm_UA-126956641-6=1; ISID=%7B%22www.tokopedia.com%22%3A%22d3d3LnRva29wZWRpYS5jb20%3D.82cd0c9c95d5e4aacb8928d59402da3d.1737381620878.1737381620878.1737381772505.2%22%2C%22accounts.tokopedia.com%22%3A%22YWNjb3VudHMudG9rb3BlZGlhLmNvbQ%3D%3D.83214773cebbd44c69bc75a5fb8f653c.1737379252363.1737379252363.1737379280151.1%22%7D; _dc_gtm_UA-9801603-1=1; _ga_70947XW48P=GS1.1.1737379240.1.1.1737381772.60.0.0; _ga=GA1.1.691029263.1737379240; webauthn-session=401028bc-0678-4d07-b65a-d87c9f94f490',\n",
        "   'dnt': '1' ,\n",
        "   'origin': 'https://www.tokopedia.com',\n",
        "   'priority': 'u=1, i',\n",
        "   'referer': urla,\n",
        "   'sec-ch-ua': '\"Not A(Brand\";v=\"8\", \"Chromium\";v=\"132\", \"Google Chrome\";v=\"132\"',\n",
        "   'sec-ch-ua-mobile': '?0',\n",
        "   'sec-ch-ua-platform': '\"Windows\"',\n",
        "   'sec-fetch-dest': 'empty',\n",
        "   'sec-fetch-mode': 'cors',\n",
        "   'sec-fetch-site': 'same-site',\n",
        "   'user-agent': 'Mozilla/5.0 (Windows NT 10.0; Win64; x64) AppleWebKit/537.36 (KHTML, like Gecko) Chrome/132.0.0.0 Safari/537.36',\n",
        "   'x-price-center': 'true',\n",
        "   'x-source': 'tokopedia-lite',\n",
        "   'x-tkpd-lite-service': 'zeus',\n",
        "   'x-version': '1c2c0dd'}\n",
        "#operator A\n",
        "quea = f'[{{\"operationName\":\"productReviewList\",\"variables\":{{\"productID\":\"7576252307\",\"page\":1,\"limit\":10,\"sortBy\":\"informative_score desc\",\"filterBy\":\"\"}},\"query\":\"query productReviewList($productID: String\\u0021, $page: Int\\u0021, $limit: Int\\u0021, $sortBy: String, $filterBy: String) {{\\\\n  productrevGetProductReviewList(productID: $productID, page: $page, limit: $limit, sortBy: $sortBy, filterBy: $filterBy) {{\\\\n    productID\\\\n    list {{\\\\n      id: feedbackID\\\\n      variantName\\\\n      message\\\\n      productRating\\\\n      reviewCreateTime\\\\n      reviewCreateTimestamp\\\\n      isReportable\\\\n      isAnonymous\\\\n      imageAttachments {{\\\\n        attachmentID\\\\n        imageThumbnailUrl\\\\n        imageUrl\\\\n        __typename\\\\n      }}\\\\n      videoAttachments {{\\\\n        attachmentID\\\\n        videoUrl\\\\n        __typename\\\\n      }}\\\\n      reviewResponse {{\\\\n        message\\\\n        createTime\\\\n        __typename\\\\n      }}\\\\n      user {{\\\\n        userID\\\\n        fullName\\\\n        image\\\\n        url\\\\n        __typename\\\\n      }}\\\\n      likeDislike {{\\\\n        totalLike\\\\n        likeStatus\\\\n        __typename\\\\n      }}\\\\n      stats {{\\\\n        key\\\\n        formatted\\\\n        count\\\\n        __typename\\\\n      }}\\\\n      badRatingReasonFmt\\\\n      __typename\\\\n    }}\\\\n    shop {{\\\\n      shopID\\\\n      name\\\\n      url\\\\n      image\\\\n      __typename\\\\n    }}\\\\n    hasNext\\\\n    totalReviews\\\\n    __typename\\\\n  }}\\\\n}}\\\\n\"}}]'"
      ],
      "metadata": {
        "id": "d0OM1xpnFDsf"
      },
      "execution_count": 47,
      "outputs": []
    },
    {
      "cell_type": "code",
      "source": [
        "#situs B\n",
        "turlb ='https://gql.tokopedia.com/graphql/productReviewList'\n",
        "headb = {'accept': '*/*' ,\n",
        "   'accept-language': 'en-US,en;q=0.9' ,\n",
        "   'bd-device-id': '7462131835184662033' ,\n",
        "   'content-type': 'application/json' ,\n",
        "   'cookie': '_UUID_NONLOGIN_=8f99d5dd839ad1780723e8595ad38987; _UUID_NONLOGIN_.sig=ciTgSOoFDossyyjCLdfGFWxNt2w; _gcl_au=1.1.331787603.1737412981; _SID_Tokopedia_=rE4HKUspgx3YEb4M6zHuh7FPxz7hEsGH2ilCP1heDP2T_SJ2uXv4d-NBiIN2v_xzAm39GiewdOM2V8GPEuWJttUV1m23WNsCqBNtPOTd-3gHZKhh1YOgff3lIHo1fIeO; DID=3c43b6b28f92625d9d7b390ba99c537c62a4d87462943c414f7eab7fe94efcc3e7886ac9c2aafbef560d9fde2b03553a; DID_JS=M2M0M2I2YjI4ZjkyNjI1ZDlkN2IzOTBiYTk5YzUzN2M2MmE0ZDg3NDYyOTQzYzQxNGY3ZWFiN2ZlOTRlZmNjM2U3ODg2YWM5YzJhYWZiZWY1NjBkOWZkZTJiMDM1NTNh47DEQpj8HBSa+/TImW+5JCeuQeRkm5NMpJWZG3hSuFU=; _gid=GA1.2.1786514285.1737412982; ak_bmsc=2370BD7F56AE72218B590E7172AFB6E0~000000000000000000000000000000~YAAQ5i2pyiq8GmmUAQAAqzjihRqEn1r+H8D382KNWkQF2Q5qQrV56FrBezdinISsra53rNILM2p7daQBGJhXVkQ/8NZhkZR/BsDP75R7yFtjEM0Rfjz0Tk/YpKszleH3jUNiaJT2qYkya/MH3o7st6fdrWBnZ1OtMWwipJXnpGyhJjcfbcgivGC3pbBNjtJQNZoRo0V3elQcSBAsJBvh7MtEo9vHEDxWyrL/f+a4V8+nbJih3KV+ANthkLcYWaSf7RA6ThQ57CgwcXyn5chcztUHYoJneAwI/Spa1sj6xR5ZqTRb4iaKSPblRxWY98itGrEhxasWFmsTgzhc7Sa9V8Smm9wkTkCAGKJQuPxx7l8ozJ7wLAlPIUkNequHEoVgpYrlgXYa8APW25wsEMgqCzeEqXQ4cxDTJQ+CKdl1DillrL3qTpNDj37JLcs5uMx4eOOuAmAcBVlYHMa7HKBB; AMP_TOKEN=%24NOT_FOUND; _tt_enable_cookie=1; _ttp=9ko8J_DU5G9xwpTPQmCcci2-EAb.tt.1; TOPATK=MkwobnZbQCujAywkR-WEmg; l=1; tuid=39275554; gec_id=168687219962298048; uidh=hQ343xlJhV8WFIBvzr8NcCaECmZcWRGgONmdJbMgjPA=; g_yolo_production=1; _hjSessionUser_714968=eyJpZCI6ImZhYjYyOGQ2LTFhMmQtNWM2NS1iY2E0LWI3ZmVkMTQ2YjY4MSIsImNyZWF0ZWQiOjE3Mzc0MTMwMDc5NTQsImV4aXN0aW5nIjpmYWxzZX0=; FPF=1; uide=RKzymP3PuU0ExKH5fb+TNGxXZ1glgdsMuHH0FJ3NktJuXxpF; aus=1; _CASE_=2e77341c31776f776361606064666d61777977361c31776f64626d7977311c31776f67676c67797739002531776f77676567607865647867640165606f61666f60637e65626f6565777977393421776f7778637b6767616265636c777977393739776f77383439343e3475363a3b21272c7530262134213075223c2734777977393a3b32776f776465637b6c616564626077797725163a776f776466616365777977261c31776f6464606665606266797726012c2530776f773a3a36777977221c31776f657977223d26776f770e08777977223d2626776f770e087728; _UUID_CAS_=9e9d1a0a-09c5-419f-a24b-dd1adcdbf1e6; _fbp=fb.1.1737413098523.68838001380503701; bm_sv=23F216B8BDF571EE83DBA5B0205B1B79~YAAQBJ9OcGCHKWmUAQAAD3L+hRp/QT8vjTsgrbBZ5HS3EOHVKh5GKeTybqhtIBGY/XVGwcatr669ugRz0hepTftu/NbWvUO2Kj7Q9Z01mC9KIDWhN/QNRGiMxbWynQ+qYvjGkKzrlgCaIC7DL45uUd1tB/XI95GaZ4259TRvGsKmOVaA34zhkM+/oiLiPc6oY8rR1/6yTQNlh1zczaE93WjKGosbUdkE2SYt659RWL5FMwQCJ8HGGsj/VI+6dcuzZVwklA==~1; bm_sz=5AFD8A5B2276517CD536C357A5D9F68D~YAAQCOnOF6exDoWUAQAA54D+hRo7rcYdyWKCymwMXzaP7HwNEPgrDEuRSaF519576hoiPLmx0FPlK6IIWkFg5LJAS+6743VHjN+bxYYnezxjHSGsFnsRa/kSij0lP9iETUT7VRD2BFDEbiiCYaS13AHEaADsYxf6bB4i73YmaG6e0tLw/ox92OJUliJ3WsB2zpVOmyTRTCJVh7OFOHl/onLXDBJpGo9WTPjifXMCBvcSStbld0kQMXuT7rwOocRclOOoQ2Ltp7UHA3R+X5vtG+LnYzg/x8SdSnWVXDLv5uLy5v4fY1qihi2PYTxRlt3whXXxdlN8t8X5/mLqf2bMQuJj3Y1u3kmrP5miU9SpZfskrDGgU8QeVCXycK4Vv5eL0lzjhVPI++BlCfhvt45IXH7NoABweLDEqhzN2g+gsI/Hq99pZCLAvEEJMo86IQb7pqo++yq5xm1+PwaIjWFIuRQB+bsZ1IkR3BMTh2v1ke1P4oTT/54sBKLuz0c39NzNEBKkk2uJuBTneIpE1/V6j8AqcAZwhMHwCAMe8GvwRk3S6YSz4lGJgh3wGhbmUnYI~3622200~3552837; _abck=5BD2CFC94D1BBDB7FBD23F6C7830515B~0~YAAQ5i2pyqIHG2mUAQAAhh0Phg3gcdyujPqux1AKOb2fB96tgAMucrNLZQWocTsgI+tOxBnoDsDJmksfeDUyNbGpPZrOFzbJ/fUxTFNPxtqGhIjrfVHekV9WcwFsk8oV81DFOEvxJ7TZMXkplEs129HNAcwo3bEdCALjW3nT3t/8yGQRl5PHe6eXoHX4kIQXYGPZkoFbDQjIQwaYM4T0lrqX+Im+msBvP7o6WBrtGfY7rA61OshvcobQ/MU7iUaMYA6R1NHQsQ0Zs/Ev79RPFF04oq4eEnqrgKBkzaAdjJplPv57xJ2VTIbEGLwke/eEWDN+lSLVGZl+vKUnz0TkQtsEKhDDwuFflOgYKyngQSybgyzWs0ErbsZFEeSudgn/wvS3phG4qoOdlhrq18yYEh7xMZQNUWx/YzVbO6dMQ1WqWHP9Cjo/z7w7rAbvxSAe8t6VvMMBkiiAgPYWhuYfQzIC1OyNvcRKOso/5/tFuMW+3wcz76zCrfMp+yt9ih60NHuXCz6o8cJOScdKqCZNDO8Q0tq9F2jMxpV2f96YduQ6UeAmWJxiHnDvxqOx9LNrMddpdCyAwgWrwaq7raV5/PRq/OUtTLNWtIYSMg+6ckf0UEY4GUtQ8gbJR7CBRcWgbYjlm7eZkrt1KzNXDgCidqEzgNDT1ySt/eLkR/v57yElZ8sEzKJkx+uiB9SRVIBbLcwfqMvRywQtfyPvKG4=~-1~-1~-1; _dc_gtm_UA-126956641-6=1; _dc_gtm_UA-9801603-1=1; ISID=%7B%22www.tokopedia.com%22%3A%22d3d3LnRva29wZWRpYS5jb20%3D.85eb825b3d925425e8af813e0d7c97b5.1737412981788.1737412981788.1737415929496.9%22%2C%22accounts.tokopedia.com%22%3A%22YWNjb3VudHMudG9rb3BlZGlhLmNvbQ%3D%3D.8e22ef5e53b67456ebb5f5f1684e5283.1737413008027.1737413008027.1737413033102.1%22%7D; _ga_70947XW48P=GS1.1.1737412981.1.1.1737415929.55.0.0; _ga=GA1.1.1911615655.1737412982; webauthn-session=a5036154-6256-48a0-baa1-6d1d4ead4ef9' ,\n",
        "   'dnt': '1' ,\n",
        "   'origin': 'https://www.tokopedia.com' ,\n",
        "   'priority': 'u=1, i' ,\n",
        "   'referer': urlb ,\n",
        "   'sec-ch-ua': '\"Not A(Brand\";v=\"8\", \"Chromium\";v=\"132\", \"Google Chrome\";v=\"132\"' ,\n",
        "   'sec-ch-ua-mobile': '?0' ,\n",
        "   'sec-ch-ua-platform': '\"Windows\"' ,\n",
        "   'sec-fetch-dest': 'empty' ,\n",
        "   'sec-fetch-mode': 'cors' ,\n",
        "   'sec-fetch-site': 'same-site' ,\n",
        "   'user-agent': 'Mozilla/5.0 (Windows NT 10.0; Win64; x64) AppleWebKit/537.36 (KHTML, like Gecko) Chrome/132.0.0.0 Safari/537.36' ,\n",
        "   'x-price-center': 'true' ,\n",
        "   'x-source': 'tokopedia-lite' ,\n",
        "   'x-tkpd-lite-service': 'zeus' ,\n",
        "   'x-version': '1c2c0dd'}\n",
        "queb = f'[{{\"operationName\":\"productReviewList\",\"variables\":{{\"productID\":\"1624334615\",\"page\":1,\"limit\":10,\"sortBy\":\"informative_score desc\",\"filterBy\":\"\"}},\"query\":\"query productReviewList($productID: String\\u0021, $page: Int\\u0021, $limit: Int\\u0021, $sortBy: String, $filterBy: String) {{\\\\n  productrevGetProductReviewList(productID: $productID, page: $page, limit: $limit, sortBy: $sortBy, filterBy: $filterBy) {{\\\\n    productID\\\\n    list {{\\\\n      id: feedbackID\\\\n      variantName\\\\n      message\\\\n      productRating\\\\n      reviewCreateTime\\\\n      reviewCreateTimestamp\\\\n      isReportable\\\\n      isAnonymous\\\\n      imageAttachments {{\\\\n        attachmentID\\\\n        imageThumbnailUrl\\\\n        imageUrl\\\\n        __typename\\\\n      }}\\\\n      videoAttachments {{\\\\n        attachmentID\\\\n        videoUrl\\\\n        __typename\\\\n      }}\\\\n      reviewResponse {{\\\\n        message\\\\n        createTime\\\\n        __typename\\\\n      }}\\\\n      user {{\\\\n        userID\\\\n        fullName\\\\n        image\\\\n        url\\\\n        __typename\\\\n      }}\\\\n      likeDislike {{\\\\n        totalLike\\\\n        likeStatus\\\\n        __typename\\\\n      }}\\\\n      stats {{\\\\n        key\\\\n        formatted\\\\n        count\\\\n        __typename\\\\n      }}\\\\n      badRatingReasonFmt\\\\n      __typename\\\\n    }}\\\\n    shop {{\\\\n      shopID\\\\n      name\\\\n      url\\\\n      image\\\\n      __typename\\\\n    }}\\\\n    hasNext\\\\n    totalReviews\\\\n    __typename\\\\n  }}\\\\n}}\\\\n\"}}]'"
      ],
      "metadata": {
        "id": "Qk-0xBIs762d"
      },
      "execution_count": 79,
      "outputs": []
    },
    {
      "cell_type": "code",
      "source": [
        "#situs c\n",
        "turlc =  'https://gql.tokopedia.com/graphql/productReviewList'\n",
        "headc = { 'accept': '*/*' ,\n",
        "   'accept-language': 'en-US,en;q=0.9' ,\n",
        "   'bd-device-id': '7462131835184662033' ,\n",
        "   'content-type': 'application/json' ,\n",
        "   'cookie': '_UUID_NONLOGIN_=8f99d5dd839ad1780723e8595ad38987; _UUID_NONLOGIN_.sig=ciTgSOoFDossyyjCLdfGFWxNt2w; _gcl_au=1.1.331787603.1737412981; _SID_Tokopedia_=rE4HKUspgx3YEb4M6zHuh7FPxz7hEsGH2ilCP1heDP2T_SJ2uXv4d-NBiIN2v_xzAm39GiewdOM2V8GPEuWJttUV1m23WNsCqBNtPOTd-3gHZKhh1YOgff3lIHo1fIeO; DID=3c43b6b28f92625d9d7b390ba99c537c62a4d87462943c414f7eab7fe94efcc3e7886ac9c2aafbef560d9fde2b03553a; DID_JS=M2M0M2I2YjI4ZjkyNjI1ZDlkN2IzOTBiYTk5YzUzN2M2MmE0ZDg3NDYyOTQzYzQxNGY3ZWFiN2ZlOTRlZmNjM2U3ODg2YWM5YzJhYWZiZWY1NjBkOWZkZTJiMDM1NTNh47DEQpj8HBSa+/TImW+5JCeuQeRkm5NMpJWZG3hSuFU=; _gid=GA1.2.1786514285.1737412982; ak_bmsc=2370BD7F56AE72218B590E7172AFB6E0~000000000000000000000000000000~YAAQ5i2pyiq8GmmUAQAAqzjihRqEn1r+H8D382KNWkQF2Q5qQrV56FrBezdinISsra53rNILM2p7daQBGJhXVkQ/8NZhkZR/BsDP75R7yFtjEM0Rfjz0Tk/YpKszleH3jUNiaJT2qYkya/MH3o7st6fdrWBnZ1OtMWwipJXnpGyhJjcfbcgivGC3pbBNjtJQNZoRo0V3elQcSBAsJBvh7MtEo9vHEDxWyrL/f+a4V8+nbJih3KV+ANthkLcYWaSf7RA6ThQ57CgwcXyn5chcztUHYoJneAwI/Spa1sj6xR5ZqTRb4iaKSPblRxWY98itGrEhxasWFmsTgzhc7Sa9V8Smm9wkTkCAGKJQuPxx7l8ozJ7wLAlPIUkNequHEoVgpYrlgXYa8APW25wsEMgqCzeEqXQ4cxDTJQ+CKdl1DillrL3qTpNDj37JLcs5uMx4eOOuAmAcBVlYHMa7HKBB; _tt_enable_cookie=1; _ttp=9ko8J_DU5G9xwpTPQmCcci2-EAb.tt.1; TOPATK=MkwobnZbQCujAywkR-WEmg; l=1; tuid=39275554; gec_id=168687219962298048; uidh=hQ343xlJhV8WFIBvzr8NcCaECmZcWRGgONmdJbMgjPA=; g_yolo_production=1; _hjSessionUser_714968=eyJpZCI6ImZhYjYyOGQ2LTFhMmQtNWM2NS1iY2E0LWI3ZmVkMTQ2YjY4MSIsImNyZWF0ZWQiOjE3Mzc0MTMwMDc5NTQsImV4aXN0aW5nIjpmYWxzZX0=; FPF=1; uide=RKzymP3PuU0ExKH5fb+TNGxXZ1glgdsMuHH0FJ3NktJuXxpF; aus=1; _CASE_=2e77341c31776f776361606064666d61777977361c31776f64626d7977311c31776f67676c67797739002531776f77676567607865647867640165606f61666f60637e65626f6565777977393421776f7778637b6767616265636c777977393739776f77383439343e3475363a3b21272c7530262134213075223c2734777977393a3b32776f776465637b6c616564626077797725163a776f776466616365777977261c31776f6464606665606266797726012c2530776f773a3a36777977221c31776f657977223d26776f770e08777977223d2626776f770e087728; _UUID_CAS_=9e9d1a0a-09c5-419f-a24b-dd1adcdbf1e6; _fbp=fb.1.1737413098523.68838001380503701; bm_sv=23F216B8BDF571EE83DBA5B0205B1B79~YAAQBJ9OcGCHKWmUAQAAD3L+hRp/QT8vjTsgrbBZ5HS3EOHVKh5GKeTybqhtIBGY/XVGwcatr669ugRz0hepTftu/NbWvUO2Kj7Q9Z01mC9KIDWhN/QNRGiMxbWynQ+qYvjGkKzrlgCaIC7DL45uUd1tB/XI95GaZ4259TRvGsKmOVaA34zhkM+/oiLiPc6oY8rR1/6yTQNlh1zczaE93WjKGosbUdkE2SYt659RWL5FMwQCJ8HGGsj/VI+6dcuzZVwklA==~1; bm_sz=5AFD8A5B2276517CD536C357A5D9F68D~YAAQCOnOF6exDoWUAQAA54D+hRo7rcYdyWKCymwMXzaP7HwNEPgrDEuRSaF519576hoiPLmx0FPlK6IIWkFg5LJAS+6743VHjN+bxYYnezxjHSGsFnsRa/kSij0lP9iETUT7VRD2BFDEbiiCYaS13AHEaADsYxf6bB4i73YmaG6e0tLw/ox92OJUliJ3WsB2zpVOmyTRTCJVh7OFOHl/onLXDBJpGo9WTPjifXMCBvcSStbld0kQMXuT7rwOocRclOOoQ2Ltp7UHA3R+X5vtG+LnYzg/x8SdSnWVXDLv5uLy5v4fY1qihi2PYTxRlt3whXXxdlN8t8X5/mLqf2bMQuJj3Y1u3kmrP5miU9SpZfskrDGgU8QeVCXycK4Vv5eL0lzjhVPI++BlCfhvt45IXH7NoABweLDEqhzN2g+gsI/Hq99pZCLAvEEJMo86IQb7pqo++yq5xm1+PwaIjWFIuRQB+bsZ1IkR3BMTh2v1ke1P4oTT/54sBKLuz0c39NzNEBKkk2uJuBTneIpE1/V6j8AqcAZwhMHwCAMe8GvwRk3S6YSz4lGJgh3wGhbmUnYI~3622200~3552837; _abck=5BD2CFC94D1BBDB7FBD23F6C7830515B~0~YAAQ5i2pyqIHG2mUAQAAhh0Phg3gcdyujPqux1AKOb2fB96tgAMucrNLZQWocTsgI+tOxBnoDsDJmksfeDUyNbGpPZrOFzbJ/fUxTFNPxtqGhIjrfVHekV9WcwFsk8oV81DFOEvxJ7TZMXkplEs129HNAcwo3bEdCALjW3nT3t/8yGQRl5PHe6eXoHX4kIQXYGPZkoFbDQjIQwaYM4T0lrqX+Im+msBvP7o6WBrtGfY7rA61OshvcobQ/MU7iUaMYA6R1NHQsQ0Zs/Ev79RPFF04oq4eEnqrgKBkzaAdjJplPv57xJ2VTIbEGLwke/eEWDN+lSLVGZl+vKUnz0TkQtsEKhDDwuFflOgYKyngQSybgyzWs0ErbsZFEeSudgn/wvS3phG4qoOdlhrq18yYEh7xMZQNUWx/YzVbO6dMQ1WqWHP9Cjo/z7w7rAbvxSAe8t6VvMMBkiiAgPYWhuYfQzIC1OyNvcRKOso/5/tFuMW+3wcz76zCrfMp+yt9ih60NHuXCz6o8cJOScdKqCZNDO8Q0tq9F2jMxpV2f96YduQ6UeAmWJxiHnDvxqOx9LNrMddpdCyAwgWrwaq7raV5/PRq/OUtTLNWtIYSMg+6ckf0UEY4GUtQ8gbJR7CBRcWgbYjlm7eZkrt1KzNXDgCidqEzgNDT1ySt/eLkR/v57yElZ8sEzKJkx+uiB9SRVIBbLcwfqMvRywQtfyPvKG4=~-1~-1~-1; AMP_TOKEN=%24NOT_FOUND; _dc_gtm_UA-126956641-6=1; _dc_gtm_UA-9801603-1=1; ISID=%7B%22www.tokopedia.com%22%3A%22d3d3LnRva29wZWRpYS5jb20%3D.85eb825b3d925425e8af813e0d7c97b5.1737412981788.1737412981788.1737416671574.11%22%2C%22accounts.tokopedia.com%22%3A%22YWNjb3VudHMudG9rb3BlZGlhLmNvbQ%3D%3D.8e22ef5e53b67456ebb5f5f1684e5283.1737413008027.1737413008027.1737413033102.1%22%7D; _ga_70947XW48P=GS1.1.1737412981.1.1.1737416671.41.0.0; _ga=GA1.1.1911615655.1737412982; webauthn-session=a7290a99-02a2-4e60-9cba-44a01c5d3715' ,\n",
        "   'dnt': '1' ,\n",
        "   'origin': 'https://www.tokopedia.com' ,\n",
        "   'priority': 'u=1, i' ,\n",
        "   'referer': urlc ,\n",
        "   'sec-ch-ua': '\"Not A(Brand\";v=\"8\", \"Chromium\";v=\"132\", \"Google Chrome\";v=\"132\"' ,\n",
        "   'sec-ch-ua-mobile': '?0' ,\n",
        "   'sec-ch-ua-platform': '\"Windows\"' ,\n",
        "   'sec-fetch-dest': 'empty' ,\n",
        "   'sec-fetch-mode': 'cors' ,\n",
        "   'sec-fetch-site': 'same-site' ,\n",
        "   'user-agent': 'Mozilla/5.0 (Windows NT 10.0; Win64; x64) AppleWebKit/537.36 (KHTML, like Gecko) Chrome/132.0.0.0 Safari/537.36' ,\n",
        "   'x-price-center': 'true' ,\n",
        "   'x-source': 'tokopedia-lite' ,\n",
        "   'x-tkpd-lite-service': 'zeus' ,\n",
        "   'x-version': '1c2c0dd' }\n",
        "quec = f'[{{\"operationName\":\"productReviewList\",\"variables\":{{\"productID\":\"7576433902\",\"page\":1,\"limit\":10,\"sortBy\":\"informative_score desc\",\"filterBy\":\"\"}},\"query\":\"query productReviewList($productID: String\\u0021, $page: Int\\u0021, $limit: Int\\u0021, $sortBy: String, $filterBy: String) {{\\\\n  productrevGetProductReviewList(productID: $productID, page: $page, limit: $limit, sortBy: $sortBy, filterBy: $filterBy) {{\\\\n    productID\\\\n    list {{\\\\n      id: feedbackID\\\\n      variantName\\\\n      message\\\\n      productRating\\\\n      reviewCreateTime\\\\n      reviewCreateTimestamp\\\\n      isReportable\\\\n      isAnonymous\\\\n      imageAttachments {{\\\\n        attachmentID\\\\n        imageThumbnailUrl\\\\n        imageUrl\\\\n        __typename\\\\n      }}\\\\n      videoAttachments {{\\\\n        attachmentID\\\\n        videoUrl\\\\n        __typename\\\\n      }}\\\\n      reviewResponse {{\\\\n        message\\\\n        createTime\\\\n        __typename\\\\n     }}\\\\n      user {{\\\\n        userID\\\\n        fullName\\\\n        image\\\\n        url\\\\n        __typename\\\\n     }}\\\\n      likeDislike {{\\\\n        totalLike\\\\n        likeStatus\\\\n        __typename\\\\n      }}\\\\n      stats {{\\\\n        key\\\\n        formatted\\\\n        count\\\\n        __typename\\\\n      }}\\\\n      badRatingReasonFmt\\\\n      __typename\\\\n    }}\\\\n    shop {{\\\\n      shopID\\\\n      name\\\\n      url\\\\n      image\\\\n      __typename\\\\n    }}\\\\n    hasNext\\\\n    totalReviews\\\\n    __typename\\\\n  }}\\\\n}}\\\\n\"}}]'"
      ],
      "metadata": {
        "id": "e0LcsKYdGbTK"
      },
      "execution_count": 101,
      "outputs": []
    },
    {
      "cell_type": "code",
      "source": [
        "#situs D\n",
        "turld = 'https://gql.tokopedia.com/graphql/productReviewList'\n",
        "headd = {'accept': '*/*' ,\n",
        "   'accept-language': 'en-US,en;q=0.9' ,\n",
        "   'bd-device-id': '7462131835184662033' ,\n",
        "   'content-type': 'application/json' ,\n",
        "   'cookie': '_UUID_NONLOGIN_=8f99d5dd839ad1780723e8595ad38987; _UUID_NONLOGIN_.sig=ciTgSOoFDossyyjCLdfGFWxNt2w; _gcl_au=1.1.331787603.1737412981; _SID_Tokopedia_=rE4HKUspgx3YEb4M6zHuh7FPxz7hEsGH2ilCP1heDP2T_SJ2uXv4d-NBiIN2v_xzAm39GiewdOM2V8GPEuWJttUV1m23WNsCqBNtPOTd-3gHZKhh1YOgff3lIHo1fIeO; DID=3c43b6b28f92625d9d7b390ba99c537c62a4d87462943c414f7eab7fe94efcc3e7886ac9c2aafbef560d9fde2b03553a; DID_JS=M2M0M2I2YjI4ZjkyNjI1ZDlkN2IzOTBiYTk5YzUzN2M2MmE0ZDg3NDYyOTQzYzQxNGY3ZWFiN2ZlOTRlZmNjM2U3ODg2YWM5YzJhYWZiZWY1NjBkOWZkZTJiMDM1NTNh47DEQpj8HBSa+/TImW+5JCeuQeRkm5NMpJWZG3hSuFU=; _gid=GA1.2.1786514285.1737412982; ak_bmsc=2370BD7F56AE72218B590E7172AFB6E0~000000000000000000000000000000~YAAQ5i2pyiq8GmmUAQAAqzjihRqEn1r+H8D382KNWkQF2Q5qQrV56FrBezdinISsra53rNILM2p7daQBGJhXVkQ/8NZhkZR/BsDP75R7yFtjEM0Rfjz0Tk/YpKszleH3jUNiaJT2qYkya/MH3o7st6fdrWBnZ1OtMWwipJXnpGyhJjcfbcgivGC3pbBNjtJQNZoRo0V3elQcSBAsJBvh7MtEo9vHEDxWyrL/f+a4V8+nbJih3KV+ANthkLcYWaSf7RA6ThQ57CgwcXyn5chcztUHYoJneAwI/Spa1sj6xR5ZqTRb4iaKSPblRxWY98itGrEhxasWFmsTgzhc7Sa9V8Smm9wkTkCAGKJQuPxx7l8ozJ7wLAlPIUkNequHEoVgpYrlgXYa8APW25wsEMgqCzeEqXQ4cxDTJQ+CKdl1DillrL3qTpNDj37JLcs5uMx4eOOuAmAcBVlYHMa7HKBB; _tt_enable_cookie=1; _ttp=9ko8J_DU5G9xwpTPQmCcci2-EAb.tt.1; TOPATK=MkwobnZbQCujAywkR-WEmg; l=1; tuid=39275554; gec_id=168687219962298048; uidh=hQ343xlJhV8WFIBvzr8NcCaECmZcWRGgONmdJbMgjPA=; g_yolo_production=1; _hjSessionUser_714968=eyJpZCI6ImZhYjYyOGQ2LTFhMmQtNWM2NS1iY2E0LWI3ZmVkMTQ2YjY4MSIsImNyZWF0ZWQiOjE3Mzc0MTMwMDc5NTQsImV4aXN0aW5nIjpmYWxzZX0=; FPF=1; uide=RKzymP3PuU0ExKH5fb+TNGxXZ1glgdsMuHH0FJ3NktJuXxpF; aus=1; _CASE_=2e77341c31776f776361606064666d61777977361c31776f64626d7977311c31776f67676c67797739002531776f77676567607865647867640165606f61666f60637e65626f6565777977393421776f7778637b6767616265636c777977393739776f77383439343e3475363a3b21272c7530262134213075223c2734777977393a3b32776f776465637b6c616564626077797725163a776f776466616365777977261c31776f6464606665606266797726012c2530776f773a3a36777977221c31776f657977223d26776f770e08777977223d2626776f770e087728; _UUID_CAS_=9e9d1a0a-09c5-419f-a24b-dd1adcdbf1e6; _fbp=fb.1.1737413098523.68838001380503701; AMP_TOKEN=%24NOT_FOUND; _gat_UA-9801603-1=1; _abck=5BD2CFC94D1BBDB7FBD23F6C7830515B~0~YAAQEunOF5QG9XSUAQAAQYsnhg0mj05Y9Ang4qM7rjJrlPk3ON2Z0vVmNhUW4miM6RTVvT+NX6UCRPmFVm15V3r/RDnPIJTKSK8iu9Onw0VEtun0whzFLhIduU/ZISxnEiO8BfCNOwJex37wv/p5S3LALpsFdX93MNfpXJy1cpXtYNV/SIY7G2hLGQf66KXojR/+3uTSVA0XUrSqOYQrC2w49T1vydH2YhNJP1dyuyV2W0DrW6OirhXT8lQndyMnDtQzj2CZTMnTnTlZ1LOki44NEwfxbwAZ69awNWFX4cSVznCgMitEW1uSd2ND5eCNcmZcuHA77kVLK9aKaFZTuL1K9hbqObR6q3GV6EQhZ6uwmT5eU17Ge28mK0t591RpIeZ4I35O6WFa8eH/zr4Px474UCcigvOFlNEzRDBJXhAIdfpMsTPLyppy6OJq0ejbcnK+fBif5qe5ClsYOaYpAfvl0D/yCXYT1Rj8PiDNRi/0wYLNLkf5Ud10VUOc3tYB54mNda6Dp6wMemsata20eD3Ies94wqaTIjzl6c2342zPZzkCd1VzGwWTM/8BOqk4Nd6v7o1zzK9jd5upXelhrYAqa5HNrdfxAjAHj34DNwosSvs14Lg02cPvtBAm2ZxbtbdcWvmmgbQF7B1EjKZEaHbx4sdgCW6Ohk8=~-1~-1~-1; bm_sz=5AFD8A5B2276517CD536C357A5D9F68D~YAAQEunOF5UG9XSUAQAAQYsnhho4YAAj/sWPjXPOtJsEFS57OSLbkSqZJfLozRp3bZE2AZDs4NoE2K0ogtWNosqXqKFB7gZSsfBRhpRGyuq+xObAkjfZuREjA7YazmLZlyB3JOpUdSrMhBII1mx5E0kOI1DpwaoXuLh0GFXnMq+vo5HgBRJdnQnbXJMjj5C3GAYmOJb/o/RyZ2K9CU/8zbGe7r5mbenr0gF0SvGyNjYTzXbLeci6CU8eDWigM8yFPCv5R2OVoLRqwNUGrjiyjvLEs2c/S+17CZglH/2XK0vNlzL5QL4NgQe/Grh0zG43dOmKUQditnkSte4BhcIzE40JaGQDMkr2OguJ2yN4HTzK8QQN1WH/JeR0bLFVW/I1Jyc9cNCyACtnUf3oc3gawrmjM3s/LIW06ohyOAJRZqdQtqVdXiNVjq5OwgMEmHA5Loau+XW58N+lNjN+Pm0ZmWXsBrkNv3F1IKLcUYZiAutbh6xiaKf73boA9tHzw66/hzRpqhY1nHsktyHQdW6Eh4TYQNsKIVL9UKoGWxAHsnlL34H7/IrY3yK4hwYEfKVNexrgHA==~3622200~3552837; bm_sv=23F216B8BDF571EE83DBA5B0205B1B79~YAAQ1i2pyq+0+WiUAQAA8SQohhq+dBN7E22saUZIqzDKq5JEYOnOTTwgG7co9xZo2clMvQxsVR5S1HewinhBJdl4HqX7VgHyrqrLc6P7qqp54A+oYlYgwlkhbTNZg5zONB3iHPM5ViSgcmz6Ok6/htU+4I5Dyz5rQqN1RLbKusniDdvpeWSIzHBUPRejwbUuhjlFHR1eMXOhZ5zpngkDJpDzk987UKo2AsPi/Ve1WUecFYJ68Vl5KIZf8NxKULpMWMaPSw==~1; _dc_gtm_UA-9801603-1=1; _dc_gtm_UA-126956641-6=1; ISID=%7B%22www.tokopedia.com%22%3A%22d3d3LnRva29wZWRpYS5jb20%3D.85eb825b3d925425e8af813e0d7c97b5.1737412981788.1737412981788.1737417566956.15%22%2C%22accounts.tokopedia.com%22%3A%22YWNjb3VudHMudG9rb3BlZGlhLmNvbQ%3D%3D.8e22ef5e53b67456ebb5f5f1684e5283.1737413008027.1737413008027.1737413033102.1%22%7D; _ga_70947XW48P=GS1.1.1737412981.1.1.1737417566.60.0.0; _ga=GA1.1.1911615655.1737412982; webauthn-session=9b5829fe-2023-41d2-92be-57c4ad494f38' ,\n",
        "   'dnt': '1' ,\n",
        "   'origin': 'https://www.tokopedia.com' ,\n",
        "   'priority': 'u=1, i' ,\n",
        "   'referer': urld ,\n",
        "   'sec-ch-ua': '\"Not A(Brand\";v=\"8\", \"Chromium\";v=\"132\", \"Google Chrome\";v=\"132\"' ,\n",
        "   'sec-ch-ua-mobile': '?0' ,\n",
        "   'sec-ch-ua-platform': '\"Windows\"' ,\n",
        "   'sec-fetch-dest': 'empty' ,\n",
        "   'sec-fetch-mode': 'cors' ,\n",
        "   'sec-fetch-site': 'same-site' ,\n",
        "   'user-agent': 'Mozilla/5.0 (Windows NT 10.0; Win64; x64) AppleWebKit/537.36 (KHTML, like Gecko) Chrome/132.0.0.0 Safari/537.36' ,\n",
        "   'x-price-center': 'true' ,\n",
        "   'x-source': 'tokopedia-lite' ,\n",
        "   'x-tkpd-lite-service': 'zeus' ,\n",
        "   'x-version': '1c2c0dd' }\n",
        "qued = f'[{{\"operationName\":\"productReviewList\",\"variables\":{{\"productID\":\"1624323568\",\"page\":1,\"limit\":10,\"sortBy\":\"informative_score desc\",\"filterBy\":\"\"}},\"query\":\"query productReviewList($productID: String\\u0021, $page: Int\\u0021, $limit: Int\\u0021, $sortBy: String, $filterBy: String) {{\\\\n  productrevGetProductReviewList(productID: $productID, page: $page, limit: $limit, sortBy: $sortBy, filterBy: $filterBy) {{\\\\n    productID\\\\n    list {{\\\\n      id: feedbackID\\\\n      variantName\\\\n      message\\\\n      productRating\\\\n      reviewCreateTime\\\\n      reviewCreateTimestamp\\\\n      isReportable\\\\n      isAnonymous\\\\n      imageAttachments {{\\\\n        attachmentID\\\\n        imageThumbnailUrl\\\\n        imageUrl\\\\n        __typename\\\\n      }}\\\\n      videoAttachments {{\\\\n        attachmentID\\\\n        videoUrl\\\\n        __typename\\\\n    }}\\\\n      reviewResponse {{\\\\n        message\\\\n        createTime\\\\n        __typename\\\\n      }}\\\\n      user {{\\\\n        userID\\\\n        fullName\\\\n        image\\\\n        url\\\\n        __typename\\\\n    }}\\\\n      likeDislike {{\\\\n        totalLike\\\\n        likeStatus\\\\n        __typename\\\\n    }}\\\\n      stats {{\\\\n        key\\\\n        formatted\\\\n        count\\\\n        __typename\\\\n    }}\\\\n      badRatingReasonFmt\\\\n      __typename\\\\n   }}\\\\n    shop {{\\\\n      shopID\\\\n      name\\\\n      url\\\\n      image\\\\n      __typename\\\\n   }}\\\\n    hasNext\\\\n    totalReviews\\\\n    __typename\\\\n }}\\\\n}}\\\\n\"}}]'"
      ],
      "metadata": {
        "id": "cAtqr8TyJ8AM"
      },
      "execution_count": 104,
      "outputs": []
    },
    {
      "cell_type": "code",
      "source": [
        "#situs E\n",
        "turle = 'https://gql.tokopedia.com/graphql/productReviewList'\n",
        "heade =  {'accept': '*/*' ,\n",
        "   'accept-language': 'en-US,en;q=0.9' ,\n",
        "   'bd-device-id': '7462131835184662033' ,\n",
        "   'content-type': 'application/json' ,\n",
        "   'cookie': '_UUID_NONLOGIN_=8f99d5dd839ad1780723e8595ad38987; _UUID_NONLOGIN_.sig=ciTgSOoFDossyyjCLdfGFWxNt2w; _gcl_au=1.1.331787603.1737412981; _SID_Tokopedia_=rE4HKUspgx3YEb4M6zHuh7FPxz7hEsGH2ilCP1heDP2T_SJ2uXv4d-NBiIN2v_xzAm39GiewdOM2V8GPEuWJttUV1m23WNsCqBNtPOTd-3gHZKhh1YOgff3lIHo1fIeO; DID=3c43b6b28f92625d9d7b390ba99c537c62a4d87462943c414f7eab7fe94efcc3e7886ac9c2aafbef560d9fde2b03553a; DID_JS=M2M0M2I2YjI4ZjkyNjI1ZDlkN2IzOTBiYTk5YzUzN2M2MmE0ZDg3NDYyOTQzYzQxNGY3ZWFiN2ZlOTRlZmNjM2U3ODg2YWM5YzJhYWZiZWY1NjBkOWZkZTJiMDM1NTNh47DEQpj8HBSa+/TImW+5JCeuQeRkm5NMpJWZG3hSuFU=; _gid=GA1.2.1786514285.1737412982; ak_bmsc=2370BD7F56AE72218B590E7172AFB6E0~000000000000000000000000000000~YAAQ5i2pyiq8GmmUAQAAqzjihRqEn1r+H8D382KNWkQF2Q5qQrV56FrBezdinISsra53rNILM2p7daQBGJhXVkQ/8NZhkZR/BsDP75R7yFtjEM0Rfjz0Tk/YpKszleH3jUNiaJT2qYkya/MH3o7st6fdrWBnZ1OtMWwipJXnpGyhJjcfbcgivGC3pbBNjtJQNZoRo0V3elQcSBAsJBvh7MtEo9vHEDxWyrL/f+a4V8+nbJih3KV+ANthkLcYWaSf7RA6ThQ57CgwcXyn5chcztUHYoJneAwI/Spa1sj6xR5ZqTRb4iaKSPblRxWY98itGrEhxasWFmsTgzhc7Sa9V8Smm9wkTkCAGKJQuPxx7l8ozJ7wLAlPIUkNequHEoVgpYrlgXYa8APW25wsEMgqCzeEqXQ4cxDTJQ+CKdl1DillrL3qTpNDj37JLcs5uMx4eOOuAmAcBVlYHMa7HKBB; _tt_enable_cookie=1; _ttp=9ko8J_DU5G9xwpTPQmCcci2-EAb.tt.1; TOPATK=MkwobnZbQCujAywkR-WEmg; l=1; tuid=39275554; gec_id=168687219962298048; uidh=hQ343xlJhV8WFIBvzr8NcCaECmZcWRGgONmdJbMgjPA=; g_yolo_production=1; _hjSessionUser_714968=eyJpZCI6ImZhYjYyOGQ2LTFhMmQtNWM2NS1iY2E0LWI3ZmVkMTQ2YjY4MSIsImNyZWF0ZWQiOjE3Mzc0MTMwMDc5NTQsImV4aXN0aW5nIjpmYWxzZX0=; FPF=1; uide=RKzymP3PuU0ExKH5fb+TNGxXZ1glgdsMuHH0FJ3NktJuXxpF; aus=1; _CASE_=2e77341c31776f776361606064666d61777977361c31776f64626d7977311c31776f67676c67797739002531776f77676567607865647867640165606f61666f60637e65626f6565777977393421776f7778637b6767616265636c777977393739776f77383439343e3475363a3b21272c7530262134213075223c2734777977393a3b32776f776465637b6c616564626077797725163a776f776466616365777977261c31776f6464606665606266797726012c2530776f773a3a36777977221c31776f657977223d26776f770e08777977223d2626776f770e087728; _UUID_CAS_=9e9d1a0a-09c5-419f-a24b-dd1adcdbf1e6; _fbp=fb.1.1737413098523.68838001380503701; AMP_TOKEN=%24NOT_FOUND; _abck=5BD2CFC94D1BBDB7FBD23F6C7830515B~0~YAAQE+nOFwmjoHWUAQAA0xEshg3H/DdlfkA3HYlkRbz5hdwp2vDzw0WTBBniSd9lP/qDmFSOd5AmA+33hyUaAyGhy9syP67J1J+qF6Xp+7Jzb7b6UELM839g3k6QQQl9l2UVx1/ibR7OGaloWv0/jFqnKeWTdpkZNCRsTcCS7+sPXZexf21Nfmd1f/vwm7G1qNvSAfBc2zlFeHRfDc7vW+NK3jwG/fPNoUeoLloJJT2FlPodcHtw7SH32A4Ijfg0UFJeUTEIhY9iLUCThYf78vZOR630FGwAmdXY6tHfRHsudAQWuHXgi9Ek1b/KjKd27CTdPqNWwB+JcDYoaZLKKFzZlcGnjNdIRhRKuAli1Mu1EDPUQLuFEAgErSQcJM7id3Uwit6pFWjhJF/mAAXmffzxVfXzC6cIbi720gHaiCT+ulgpyf7XAhnZSLLTMVtZJC/SC06DqxzIPtMLWt0D5cbPu4VjQ1IzxcTrWFdBZLVRfLeAWBTuMeT3VuMWXtFBcuV7uTMXUoyqMLGa1OaoNQdsc6cX/gyFW+qEIQYyurY6ZNObMBHDRzz739JfJ1ng/ov5QTxgbyNuxCUpF7O6S1YL22a1HX+kktRHvnYgELAWzw6VDf/ACV3t3gul3Tvlvh1R66Dpp+JiWaaUJqyN1lkwrEUrUZCfPDo=~-1~-1~-1; bm_sz=5AFD8A5B2276517CD536C357A5D9F68D~YAAQE+nOFwqjoHWUAQAA0xEshhocqAjR5TwM/b6DYUlkifT4002HQFcNQFjs+LV4zUtgLs62zYpUbo1s46fv/zc7mul7xi9r7EtL8P7YNMXcAJUvl87y/6wfW/WtsbysxzQFlu5idYnf6p7Fir8rusCcEfKnt+sSGEFsnsjem+ydZJGA2HA4ba1P0Y1dzXwcidZJJw9w6epFgvNXQshN/KPsF4pb1Z51AjB6ym38aMER74yVWjhSg/kS2YVHGvyQIiPxB7TbmRaSZGl3gkHY9Tr0/okvdN7U7SDgt/S9kxM2/lIpl+nml2k8zF/U9tFYjm9VK5a+5TNBAl6C+Jz5DXILJyG/QWAH7SoMfIsOjyYGFtUyQ9ruGm3EfwunMXDT5tWk0SY/ekveIjhQQtRxns62IaxxBUR0lvqk3uOuuvfkVKQyPgLheWPKvnPJTca+Tkik/KE5pCTFFIsGy296SZUMKe15M0Lgr1JadBmI1kAerOLrUzLwTjyxGo5JB0jAQQZ2aRpIbViye7hvEoGpARdJ83KnfzPav/dK11PIW3Mzh79bLD1rAG6ERXqTdg2emiicjrSrlg==~3622200~3552837; bm_sv=23F216B8BDF571EE83DBA5B0205B1B79~YAAQ1i2pyqXJ+WiUAQAAGE0uhhpH+Z8MdDCA+HoQmXLw8EjPpCzFi/kzBSe1Sx8fyk2NZtcjdHwb05U9UlhMcUUgABGWC5BuWRYsDk74g46VSqEAgjrBifU6/Pfx18isdxS44HAfsxBVnT36CQrPoSEX54QpvImZ+4OBwDqNmsby6+E8LP+wNnrw6AKG8wEnaD4+f8ig+r2NPyKO7VpN/izStYkyotRO0lXFt/C1cmwA+FKHCIW5Ga7y1lzwkydAKMxT5A==~1; _dc_gtm_UA-126956641-6=1; ISID=%7B%22www.tokopedia.com%22%3A%22d3d3LnRva29wZWRpYS5jb20%3D.85eb825b3d925425e8af813e0d7c97b5.1737412981788.1737412981788.1737419141703.17%22%2C%22accounts.tokopedia.com%22%3A%22YWNjb3VudHMudG9rb3BlZGlhLmNvbQ%3D%3D.8e22ef5e53b67456ebb5f5f1684e5283.1737413008027.1737413008027.1737413033102.1%22%7D; _dc_gtm_UA-9801603-1=1; _ga_70947XW48P=GS1.1.1737412981.1.1.1737419141.60.0.0; _ga=GA1.1.1911615655.1737412982; webauthn-session=35155137-d279-46fd-9f93-2cd0e963e08e' ,\n",
        "   'dnt': '1' ,\n",
        "   'origin': 'https://www.tokopedia.com' ,\n",
        "   'priority': 'u=1, i' ,\n",
        "   'referer': urle ,\n",
        "   'sec-ch-ua': '\"Not A(Brand\";v=\"8\", \"Chromium\";v=\"132\", \"Google Chrome\";v=\"132\"' ,\n",
        "   'sec-ch-ua-mobile': '?0' ,\n",
        "   'sec-ch-ua-platform': '\"Windows\"' ,\n",
        "   'sec-fetch-dest': 'empty' ,\n",
        "   'sec-fetch-mode': 'cors' ,\n",
        "   'sec-fetch-site': 'same-site' ,\n",
        "   'user-agent': 'Mozilla/5.0 (Windows NT 10.0; Win64; x64) AppleWebKit/537.36 (KHTML, like Gecko) Chrome/132.0.0.0 Safari/537.36' ,\n",
        "   'x-price-center': 'true' ,\n",
        "   'x-source': 'tokopedia-lite' ,\n",
        "   'x-tkpd-lite-service': 'zeus' ,\n",
        "   'x-version': '1c2c0dd'}\n",
        "quee = f'[{{\"operationName\":\"productReviewList\",\"variables\":{{\"productID\":\"1624323568\",\"page\":1,\"limit\":10,\"sortBy\":\"informative_score desc\",\"filterBy\":\"\"}},\"query\":\"query productReviewList($productID: String\\u0021, $page: Int\\u0021, $limit: Int\\u0021, $sortBy: String, $filterBy: String) {{\\\\n  productrevGetProductReviewList(productID: $productID, page: $page, limit: $limit, sortBy: $sortBy, filterBy: $filterBy) {{\\\\n    productID\\\\n    list {{\\\\n      id: feedbackID\\\\n      variantName\\\\n      message\\\\n      productRating\\\\n      reviewCreateTime\\\\n      reviewCreateTimestamp\\\\n      isReportable\\\\n      isAnonymous\\\\n      imageAttachments {{\\\\n        attachmentID\\\\n        imageThumbnailUrl\\\\n        imageUrl\\\\n        __typename\\\\n      }}\\\\n      videoAttachments {{\\\\n        attachmentID\\\\n        videoUrl\\\\n        __typename\\\\n     }}\\\\n      reviewResponse {{\\\\n        message\\\\n        createTime\\\\n        __typename\\\\n     }}\\\\n      user {{\\\\n        userID\\\\n        fullName\\\\n        image\\\\n        url\\\\n        __typename\\\\n     }}\\\\n      likeDislike {{\\\\n        totalLike\\\\n        likeStatus\\\\n        __typename\\\\n     }}\\\\n      stats {{\\\\n        key\\\\n        formatted\\\\n        count\\\\n        __typename\\\\n    }}\\\\n      badRatingReasonFmt\\\\n      __typename\\\\n   }}\\\\n    shop {{\\\\n      shopID\\\\n      name\\\\n      url\\\\n      image\\\\n      __typename\\\\n   }}\\\\n    hasNext\\\\n    totalReviews\\\\n    __typename\\\\n  }}\\\\n}}\\\\n\"}}]'"
      ],
      "metadata": {
        "id": "a62vIip3MZUx"
      },
      "execution_count": 137,
      "outputs": []
    },
    {
      "cell_type": "code",
      "source": [
        "#Situs F\n",
        "turlf = 'https://gql.tokopedia.com/graphql/productReviewList'\n",
        "headf = { 'accept': '*/*' ,\n",
        "   'accept-language': 'en-US,en;q=0.9' ,\n",
        "   'bd-device-id': '7462131835184662033' ,\n",
        "   'content-type': 'application/json' ,\n",
        "   'cookie': '_UUID_NONLOGIN_=8f99d5dd839ad1780723e8595ad38987; _UUID_NONLOGIN_.sig=ciTgSOoFDossyyjCLdfGFWxNt2w; _gcl_au=1.1.331787603.1737412981; _SID_Tokopedia_=rE4HKUspgx3YEb4M6zHuh7FPxz7hEsGH2ilCP1heDP2T_SJ2uXv4d-NBiIN2v_xzAm39GiewdOM2V8GPEuWJttUV1m23WNsCqBNtPOTd-3gHZKhh1YOgff3lIHo1fIeO; DID=3c43b6b28f92625d9d7b390ba99c537c62a4d87462943c414f7eab7fe94efcc3e7886ac9c2aafbef560d9fde2b03553a; DID_JS=M2M0M2I2YjI4ZjkyNjI1ZDlkN2IzOTBiYTk5YzUzN2M2MmE0ZDg3NDYyOTQzYzQxNGY3ZWFiN2ZlOTRlZmNjM2U3ODg2YWM5YzJhYWZiZWY1NjBkOWZkZTJiMDM1NTNh47DEQpj8HBSa+/TImW+5JCeuQeRkm5NMpJWZG3hSuFU=; _gid=GA1.2.1786514285.1737412982; ak_bmsc=2370BD7F56AE72218B590E7172AFB6E0~000000000000000000000000000000~YAAQ5i2pyiq8GmmUAQAAqzjihRqEn1r+H8D382KNWkQF2Q5qQrV56FrBezdinISsra53rNILM2p7daQBGJhXVkQ/8NZhkZR/BsDP75R7yFtjEM0Rfjz0Tk/YpKszleH3jUNiaJT2qYkya/MH3o7st6fdrWBnZ1OtMWwipJXnpGyhJjcfbcgivGC3pbBNjtJQNZoRo0V3elQcSBAsJBvh7MtEo9vHEDxWyrL/f+a4V8+nbJih3KV+ANthkLcYWaSf7RA6ThQ57CgwcXyn5chcztUHYoJneAwI/Spa1sj6xR5ZqTRb4iaKSPblRxWY98itGrEhxasWFmsTgzhc7Sa9V8Smm9wkTkCAGKJQuPxx7l8ozJ7wLAlPIUkNequHEoVgpYrlgXYa8APW25wsEMgqCzeEqXQ4cxDTJQ+CKdl1DillrL3qTpNDj37JLcs5uMx4eOOuAmAcBVlYHMa7HKBB; _tt_enable_cookie=1; _ttp=9ko8J_DU5G9xwpTPQmCcci2-EAb.tt.1; TOPATK=MkwobnZbQCujAywkR-WEmg; l=1; tuid=39275554; gec_id=168687219962298048; uidh=hQ343xlJhV8WFIBvzr8NcCaECmZcWRGgONmdJbMgjPA=; g_yolo_production=1; _hjSessionUser_714968=eyJpZCI6ImZhYjYyOGQ2LTFhMmQtNWM2NS1iY2E0LWI3ZmVkMTQ2YjY4MSIsImNyZWF0ZWQiOjE3Mzc0MTMwMDc5NTQsImV4aXN0aW5nIjpmYWxzZX0=; FPF=1; uide=RKzymP3PuU0ExKH5fb+TNGxXZ1glgdsMuHH0FJ3NktJuXxpF; aus=1; _CASE_=2e77341c31776f776361606064666d61777977361c31776f64626d7977311c31776f67676c67797739002531776f77676567607865647867640165606f61666f60637e65626f6565777977393421776f7778637b6767616265636c777977393739776f77383439343e3475363a3b21272c7530262134213075223c2734777977393a3b32776f776465637b6c616564626077797725163a776f776466616365777977261c31776f6464606665606266797726012c2530776f773a3a36777977221c31776f657977223d26776f770e08777977223d2626776f770e087728; _UUID_CAS_=9e9d1a0a-09c5-419f-a24b-dd1adcdbf1e6; _fbp=fb.1.1737413098523.68838001380503701; AMP_TOKEN=%24NOT_FOUND; _abck=5BD2CFC94D1BBDB7FBD23F6C7830515B~0~YAAQE+nOFwmjoHWUAQAA0xEshg3H/DdlfkA3HYlkRbz5hdwp2vDzw0WTBBniSd9lP/qDmFSOd5AmA+33hyUaAyGhy9syP67J1J+qF6Xp+7Jzb7b6UELM839g3k6QQQl9l2UVx1/ibR7OGaloWv0/jFqnKeWTdpkZNCRsTcCS7+sPXZexf21Nfmd1f/vwm7G1qNvSAfBc2zlFeHRfDc7vW+NK3jwG/fPNoUeoLloJJT2FlPodcHtw7SH32A4Ijfg0UFJeUTEIhY9iLUCThYf78vZOR630FGwAmdXY6tHfRHsudAQWuHXgi9Ek1b/KjKd27CTdPqNWwB+JcDYoaZLKKFzZlcGnjNdIRhRKuAli1Mu1EDPUQLuFEAgErSQcJM7id3Uwit6pFWjhJF/mAAXmffzxVfXzC6cIbi720gHaiCT+ulgpyf7XAhnZSLLTMVtZJC/SC06DqxzIPtMLWt0D5cbPu4VjQ1IzxcTrWFdBZLVRfLeAWBTuMeT3VuMWXtFBcuV7uTMXUoyqMLGa1OaoNQdsc6cX/gyFW+qEIQYyurY6ZNObMBHDRzz739JfJ1ng/ov5QTxgbyNuxCUpF7O6S1YL22a1HX+kktRHvnYgELAWzw6VDf/ACV3t3gul3Tvlvh1R66Dpp+JiWaaUJqyN1lkwrEUrUZCfPDo=~-1~-1~-1; bm_sz=5AFD8A5B2276517CD536C357A5D9F68D~YAAQE+nOFwqjoHWUAQAA0xEshhocqAjR5TwM/b6DYUlkifT4002HQFcNQFjs+LV4zUtgLs62zYpUbo1s46fv/zc7mul7xi9r7EtL8P7YNMXcAJUvl87y/6wfW/WtsbysxzQFlu5idYnf6p7Fir8rusCcEfKnt+sSGEFsnsjem+ydZJGA2HA4ba1P0Y1dzXwcidZJJw9w6epFgvNXQshN/KPsF4pb1Z51AjB6ym38aMER74yVWjhSg/kS2YVHGvyQIiPxB7TbmRaSZGl3gkHY9Tr0/okvdN7U7SDgt/S9kxM2/lIpl+nml2k8zF/U9tFYjm9VK5a+5TNBAl6C+Jz5DXILJyG/QWAH7SoMfIsOjyYGFtUyQ9ruGm3EfwunMXDT5tWk0SY/ekveIjhQQtRxns62IaxxBUR0lvqk3uOuuvfkVKQyPgLheWPKvnPJTca+Tkik/KE5pCTFFIsGy296SZUMKe15M0Lgr1JadBmI1kAerOLrUzLwTjyxGo5JB0jAQQZ2aRpIbViye7hvEoGpARdJ83KnfzPav/dK11PIW3Mzh79bLD1rAG6ERXqTdg2emiicjrSrlg==~3622200~3552837; bm_sv=23F216B8BDF571EE83DBA5B0205B1B79~YAAQ1i2pyqXJ+WiUAQAAGE0uhhpH+Z8MdDCA+HoQmXLw8EjPpCzFi/kzBSe1Sx8fyk2NZtcjdHwb05U9UlhMcUUgABGWC5BuWRYsDk74g46VSqEAgjrBifU6/Pfx18isdxS44HAfsxBVnT36CQrPoSEX54QpvImZ+4OBwDqNmsby6+E8LP+wNnrw6AKG8wEnaD4+f8ig+r2NPyKO7VpN/izStYkyotRO0lXFt/C1cmwA+FKHCIW5Ga7y1lzwkydAKMxT5A==~1; _dc_gtm_UA-126956641-6=1; ISID=%7B%22www.tokopedia.com%22%3A%22d3d3LnRva29wZWRpYS5jb20%3D.85eb825b3d925425e8af813e0d7c97b5.1737412981788.1737412981788.1737419549421.17%22%2C%22accounts.tokopedia.com%22%3A%22YWNjb3VudHMudG9rb3BlZGlhLmNvbQ%3D%3D.8e22ef5e53b67456ebb5f5f1684e5283.1737413008027.1737413008027.1737413033102.1%22%7D; _dc_gtm_UA-9801603-1=1; _ga_70947XW48P=GS1.1.1737412981.1.1.1737419549.60.0.0; _ga=GA1.1.1911615655.1737412982; webauthn-session=7a923bdd-32cb-45cb-bf37-b8f374c4ccac' ,\n",
        "   'dnt': '1' ,\n",
        "   'origin': 'https://www.tokopedia.com' ,\n",
        "   'priority': 'u=1, i' ,\n",
        "   'referer': urlf ,\n",
        "   'sec-ch-ua': '\"Not A(Brand\";v=\"8\", \"Chromium\";v=\"132\", \"Google Chrome\";v=\"132\"' ,\n",
        "   'sec-ch-ua-mobile': '?0' ,\n",
        "   'sec-ch-ua-platform': '\"Windows\"' ,\n",
        "   'sec-fetch-dest': 'empty',\n",
        "   'sec-fetch-mode': 'cors' ,\n",
        "   'sec-fetch-site': 'same-site' ,\n",
        "   'user-agent': 'Mozilla/5.0 (Windows NT 10.0; Win64; x64) AppleWebKit/537.36 (KHTML, like Gecko) Chrome/132.0.0.0 Safari/537.36' ,\n",
        "   'x-price-center': 'true' ,\n",
        "   'x-source': 'tokopedia-lite' ,\n",
        "   'x-tkpd-lite-service': 'zeus' ,\n",
        "   'x-version': '1c2c0dd' }\n",
        "quef = f'[{{\"operationName\":\"productReviewList\",\"variables\":{{\"productID\":\"2390937942\",\"page\":1,\"limit\":10,\"sortBy\":\"informative_score desc\",\"filterBy\":\"\"}},\"query\":\"query productReviewList($productID: String\\u0021, $page: Int\\u0021, $limit: Int\\u0021, $sortBy: String, $filterBy: String) {{\\\\n  productrevGetProductReviewList(productID: $productID, page: $page, limit: $limit, sortBy: $sortBy, filterBy: $filterBy) {{\\\\n    productID\\\\n    list {{\\\\n      id: feedbackID\\\\n      variantName\\\\n      message\\\\n      productRating\\\\n      reviewCreateTime\\\\n      reviewCreateTimestamp\\\\n      isReportable\\\\n      isAnonymous\\\\n      imageAttachments {{\\\\n        attachmentID\\\\n        imageThumbnailUrl\\\\n        imageUrl\\\\n        __typename\\\\n     }}\\\\n      videoAttachments {{\\\\n        attachmentID\\\\n        videoUrl\\\\n        __typename\\\\n    }}\\\\n      reviewResponse {{\\\\n        message\\\\n        createTime\\\\n        __typename\\\\n    }}\\\\n      user {{\\\\n        userID\\\\n        fullName\\\\n        image\\\\n        url\\\\n        __typename\\\\n    }}\\\\n      likeDislike {{\\\\n        totalLike\\\\n        likeStatus\\\\n        __typename\\\\n    }}\\\\n      stats {{\\\\n        key\\\\n        formatted\\\\n        count\\\\n        __typename\\\\n    }}\\\\n      badRatingReasonFmt\\\\n      __typename\\\\n  }}\\\\n    shop {{\\\\n      shopID\\\\n      name\\\\n      url\\\\n      image\\\\n      __typename\\\\n  }}\\\\n    hasNext\\\\n    totalReviews\\\\n    __typename\\\\n }}\\\\n}}\\\\n\"}}]'"
      ],
      "metadata": {
        "id": "ke004SzsMao8"
      },
      "execution_count": 142,
      "outputs": []
    },
    {
      "cell_type": "markdown",
      "source": [
        "## Persiapan respon"
      ],
      "metadata": {
        "id": "7C40NWv-GYNg"
      }
    },
    {
      "cell_type": "code",
      "source": [
        "#pembuatan respon\n",
        "respa = requests.post(turla,headers=heada,data=quea) #dari produk a\n",
        "respb = requests.post(turlb,headers=headb,data=queb) #dari produk b\n",
        "respc = requests.post(turlc,headers=headc,data=quec) #dari produk c\n",
        "respd = requests.post(turld,headers=headd,data=qued) #dari produk d\n",
        "respe = requests.post(turle,headers=heade,data=quee) #dari produk e\n",
        "respf = requests.post(turlf,headers=headf,data=quef) #dari produk f\n",
        "#ke produk"
      ],
      "metadata": {
        "id": "rT32WFfaJ6t9"
      },
      "execution_count": 143,
      "outputs": []
    },
    {
      "cell_type": "code",
      "source": [
        "#inspeksi teks\n",
        "print(\"isi respon dari respa:\", respa.text)  # Isi dari 'respa'\n",
        "print(\"isi respon dari respb:\", respb.text)  # Isi dari 'respb'\n",
        "print(\"isi respon dari respc:\", respc.text)  # Isi dari 'respc'\n",
        "print(\"isi respon dari respd:\", respd.text) # Isi dari 'respd'\n",
        "print(\"isi respon dari respe:\", respe.text) # Isi dari 'respe'\n",
        "print(\"isi respon dari respf:\", respf.text) # Isi dari 'respf'"
      ],
      "metadata": {
        "colab": {
          "base_uri": "https://localhost:8080/"
        },
        "id": "gzqkpbApDftY",
        "outputId": "a68c5173-33b0-45d4-a853-79dec78672f5"
      },
      "execution_count": 144,
      "outputs": [
        {
          "output_type": "stream",
          "name": "stdout",
          "text": [
            "isi respon dari respa: [{\"data\":{\"productrevGetProductReviewList\":{\"productID\":\"1822509697\",\"list\":[{\"id\":\"1096280412\",\"variantName\":\"Jazlyn Black - XXL\",\"message\":\"barang bagus kualitas nya top harga nya naik overall 100 dijamin ori\",\"productRating\":5,\"reviewCreateTime\":\"1727090981\",\"reviewCreateTimestamp\":\"4 bulan lalu\",\"isReportable\":true,\"isAnonymous\":true,\"imageAttachments\":[{\"attachmentID\":\"135027678\",\"imageThumbnailUrl\":\"https://images.tokopedia.net/img/cache/200-square/bjFkPX/2024/9/23/22551dc4-2752-4ffe-9283-c63f65a33d95.jpg\",\"imageUrl\":\"https://images.tokopedia.net/img/cache/600/bjFkPX/2024/9/23/22551dc4-2752-4ffe-9283-c63f65a33d95.jpg\",\"__typename\":\"reviewAttachmentPDPType\"},{\"attachmentID\":\"135027679\",\"imageThumbnailUrl\":\"https://images.tokopedia.net/img/cache/200-square/bjFkPX/2024/9/23/50b9df64-9576-48c7-8b4a-0ab6891e3144.jpg\",\"imageUrl\":\"https://images.tokopedia.net/img/cache/600/bjFkPX/2024/9/23/50b9df64-9576-48c7-8b4a-0ab6891e3144.jpg\",\"__typename\":\"reviewAttachmentPDPType\"},{\"attachmentID\":\"135027680\",\"imageThumbnailUrl\":\"https://images.tokopedia.net/img/cache/200-square/bjFkPX/2024/9/23/c0a9cc7c-a7c2-49ea-a48d-8f95a955494c.jpg\",\"imageUrl\":\"https://images.tokopedia.net/img/cache/600/bjFkPX/2024/9/23/c0a9cc7c-a7c2-49ea-a48d-8f95a955494c.jpg\",\"__typename\":\"reviewAttachmentPDPType\"},{\"attachmentID\":\"135027681\",\"imageThumbnailUrl\":\"https://images.tokopedia.net/img/cache/200-square/bjFkPX/2024/9/23/980ff3eb-f75d-40a1-801f-028bf6149ecf.jpg\",\"imageUrl\":\"https://images.tokopedia.net/img/cache/600/bjFkPX/2024/9/23/980ff3eb-f75d-40a1-801f-028bf6149ecf.jpg\",\"__typename\":\"reviewAttachmentPDPType\"}],\"videoAttachments\":[{\"attachmentID\":\"135027682\",\"videoUrl\":\"https://vod-stream.tokopedia.net/view/adaptive.m3u8?id=f554f0d0-1036-450c-b39d-6acd178c6533\",\"__typename\":\"productrevVideoAttachmentPDPType\"}],\"reviewResponse\":{\"message\":\"Terima kasih telah berbelanja di Erigo Official. Bagikan link toko kami https://www.tokopedia.com/erigo kepada teman-teman Anda dan favoritkan Toko kami untuk terus update mengenai stok dan produk terbaru\",\"createTime\":\"4 bulan lalu\",\"__typename\":\"reviewReviewResponsePDPType\"},\"user\":{\"userID\":\"0\",\"fullName\":\"m***l\",\"image\":\"https://images.tokopedia.net/img/cache/100-square/default_v3-usrnophoto.png\",\"url\":\"\",\"__typename\":\"reviewReviewUserPDPType\"},\"likeDislike\":{\"totalLike\":1,\"likeStatus\":0,\"__typename\":\"reviewLikeDislikePDPType\"},\"stats\":[],\"badRatingReasonFmt\":\"\",\"__typename\":\"reviewListPDPType\"},{\"id\":\"1131666530\",\"variantName\":\"Jazlyn Black - XXL\",\"message\":\"modelnya keren, bahannya bagus cuma agak kepanjangan. perlu dipermak dikit.\",\"productRating\":5,\"reviewCreateTime\":\"1734432169\",\"reviewCreateTimestamp\":\"1 bulan lalu\",\"isReportable\":true,\"isAnonymous\":false,\"imageAttachments\":[{\"attachmentID\":\"141877099\",\"imageThumbnailUrl\":\"https://images.tokopedia.net/img/cache/200-square/bjFkPX/2024/12/17/915f70a5-b953-4f46-963d-9409b68540c6.jpg\",\"imageUrl\":\"https://images.tokopedia.net/img/cache/600/bjFkPX/2024/12/17/915f70a5-b953-4f46-963d-9409b68540c6.jpg\",\"__typename\":\"reviewAttachmentPDPType\"},{\"attachmentID\":\"141877100\",\"imageThumbnailUrl\":\"https://images.tokopedia.net/img/cache/200-square/bjFkPX/2024/12/17/a65fa2e4-2494-40f3-b7a1-9e3daa56e4aa.jpg\",\"imageUrl\":\"https://images.tokopedia.net/img/cache/600/bjFkPX/2024/12/17/a65fa2e4-2494-40f3-b7a1-9e3daa56e4aa.jpg\",\"__typename\":\"reviewAttachmentPDPType\"},{\"attachmentID\":\"141877101\",\"imageThumbnailUrl\":\"https://images.tokopedia.net/img/cache/200-square/bjFkPX/2024/12/17/07607fdc-3384-46b7-97c8-7c4ce73aea4f.jpg\",\"imageUrl\":\"https://images.tokopedia.net/img/cache/600/bjFkPX/2024/12/17/07607fdc-3384-46b7-97c8-7c4ce73aea4f.jpg\",\"__typename\":\"reviewAttachmentPDPType\"},{\"attachmentID\":\"141877102\",\"imageThumbnailUrl\":\"https://images.tokopedia.net/img/cache/200-square/bjFkPX/2024/12/17/f024b520-e2cd-44b6-a6e0-22423d6bca1d.jpg\",\"imageUrl\":\"https://images.tokopedia.net/img/cache/600/bjFkPX/2024/12/17/f024b520-e2cd-44b6-a6e0-22423d6bca1d.jpg\",\"__typename\":\"reviewAttachmentPDPType\"}],\"videoAttachments\":[{\"attachmentID\":\"141877103\",\"videoUrl\":\"https://vod-stream.tokopedia.net/view/adaptive.m3u8?id=7d25f610-a2f5-4f6d-bc5e-20ec502412cc\",\"__typename\":\"productrevVideoAttachmentPDPType\"}],\"reviewResponse\":{\"message\":\"Terima kasih telah berbelanja di Erigo Official. Bagikan link toko kami https://www.tokopedia.com/erigo kepada teman-teman Anda dan favoritkan Toko kami untuk terus update mengenai stok dan produk terbaru\",\"createTime\":\"1 bulan lalu\",\"__typename\":\"reviewReviewResponsePDPType\"},\"user\":{\"userID\":\"12344984\",\"fullName\":\"Ahmad\",\"image\":\"https://accounts.tokopedia.com/image/v1/u/12344984/user_thumbnail/desktop\",\"url\":\"https://www.tokopedia.com/people/12344984\",\"__typename\":\"reviewReviewUserPDPType\"},\"likeDislike\":{\"totalLike\":1,\"likeStatus\":0,\"__typename\":\"reviewLikeDislikePDPType\"},\"stats\":[{\"key\":\"total-complete-review\",\"formatted\":\"12 ulasan lengkap\",\"count\":12,\"__typename\":\"reviewlistUserStatsType\"},{\"key\":\"total-likes\",\"formatted\":\"3 terbantu\",\"count\":3,\"__typename\":\"reviewlistUserStatsType\"}],\"badRatingReasonFmt\":\"\",\"__typename\":\"reviewListPDPType\"},{\"id\":\"1130273219\",\"variantName\":\"Jazlyn Black - L\",\"message\":\"tinggi 175 bb 60 ukuran L cocok si, pas dan enak banget bahannya adem, murah lagi\",\"productRating\":5,\"reviewCreateTime\":\"1734122573\",\"reviewCreateTimestamp\":\"1 bulan lalu\",\"isReportable\":true,\"isAnonymous\":false,\"imageAttachments\":[{\"attachmentID\":\"141597431\",\"imageThumbnailUrl\":\"https://images.tokopedia.net/img/cache/200-square/bjFkPX/2024/12/13/6415eaf5-38b7-47cf-9764-194fad0c2572.jpg\",\"imageUrl\":\"https://images.tokopedia.net/img/cache/600/bjFkPX/2024/12/13/6415eaf5-38b7-47cf-9764-194fad0c2572.jpg\",\"__typename\":\"reviewAttachmentPDPType\"},{\"attachmentID\":\"141597432\",\"imageThumbnailUrl\":\"https://images.tokopedia.net/img/cache/200-square/bjFkPX/2024/12/13/8573bc51-3b03-4d66-a4d4-44c127f2583e.jpg\",\"imageUrl\":\"https://images.tokopedia.net/img/cache/600/bjFkPX/2024/12/13/8573bc51-3b03-4d66-a4d4-44c127f2583e.jpg\",\"__typename\":\"reviewAttachmentPDPType\"},{\"attachmentID\":\"141597433\",\"imageThumbnailUrl\":\"https://images.tokopedia.net/img/cache/200-square/bjFkPX/2024/12/13/06d82dd4-5bd1-4943-bbd3-e5755eaf524c.jpg\",\"imageUrl\":\"https://images.tokopedia.net/img/cache/600/bjFkPX/2024/12/13/06d82dd4-5bd1-4943-bbd3-e5755eaf524c.jpg\",\"__typename\":\"reviewAttachmentPDPType\"},{\"attachmentID\":\"141597434\",\"imageThumbnailUrl\":\"https://images.tokopedia.net/img/cache/200-square/bjFkPX/2024/12/13/c3803a6f-cc64-4556-b111-025e41453ce0.jpg\",\"imageUrl\":\"https://images.tokopedia.net/img/cache/600/bjFkPX/2024/12/13/c3803a6f-cc64-4556-b111-025e41453ce0.jpg\",\"__typename\":\"reviewAttachmentPDPType\"}],\"videoAttachments\":[{\"attachmentID\":\"141597435\",\"videoUrl\":\"https://vod-stream.tokopedia.net/view/adaptive.m3u8?id=5308ff1f-fd04-4f14-bb4c-e320cc306c85\",\"__typename\":\"productrevVideoAttachmentPDPType\"}],\"reviewResponse\":{\"message\":\"Terima kasih telah berbelanja di Erigo Official. Bagikan link toko kami https://www.tokopedia.com/erigo kepada teman-teman Anda dan favoritkan Toko kami untuk terus update mengenai stok dan produk terbaru\",\"createTime\":\"1 bulan lalu\",\"__typename\":\"reviewReviewResponsePDPType\"},\"user\":{\"userID\":\"142632910\",\"fullName\":\"Syah\",\"image\":\"https://accounts.tokopedia.com/image/v1/u/142632910/user_thumbnail/desktop\",\"url\":\"https://www.tokopedia.com/people/142632910\",\"__typename\":\"reviewReviewUserPDPType\"},\"likeDislike\":{\"totalLike\":0,\"likeStatus\":0,\"__typename\":\"reviewLikeDislikePDPType\"},\"stats\":[{\"key\":\"total-complete-review\",\"formatted\":\"3 ulasan lengkap\",\"count\":3,\"__typename\":\"reviewlistUserStatsType\"}],\"badRatingReasonFmt\":\"\",\"__typename\":\"reviewListPDPType\"},{\"id\":\"757190522\",\"variantName\":\"L\",\"message\":\"enak di pake adem dan kece pas di badan gw. tapi kayaknya mudah lecek. Nyaman dipakai Modelnya keren 😎 Jahitannya rapi Ukuran sesuai Warnanya mantap Bahannya adem Kancing tidak mudah lepas Produk sesuai dengan foto Kualitas produk bagus\",\"productRating\":5,\"reviewCreateTime\":\"1663576439\",\"reviewCreateTimestamp\":\"Lebih dari 1 tahun lalu\",\"isReportable\":true,\"isAnonymous\":true,\"imageAttachments\":[{\"attachmentID\":\"86225577\",\"imageThumbnailUrl\":\"https://images.tokopedia.net/img/cache/200-square/bjFkPX/2022/9/19/797a18b4-39d3-4ff8-b9b6-57ffb852370a.jpg\",\"imageUrl\":\"https://images.tokopedia.net/img/cache/600/bjFkPX/2022/9/19/797a18b4-39d3-4ff8-b9b6-57ffb852370a.jpg\",\"__typename\":\"reviewAttachmentPDPType\"},{\"attachmentID\":\"86225578\",\"imageThumbnailUrl\":\"https://images.tokopedia.net/img/cache/200-square/bjFkPX/2022/9/19/43b39047-c4e5-4cb7-91dd-b4d32bcbc429.jpg\",\"imageUrl\":\"https://images.tokopedia.net/img/cache/600/bjFkPX/2022/9/19/43b39047-c4e5-4cb7-91dd-b4d32bcbc429.jpg\",\"__typename\":\"reviewAttachmentPDPType\"},{\"attachmentID\":\"86225579\",\"imageThumbnailUrl\":\"https://images.tokopedia.net/img/cache/200-square/bjFkPX/2022/9/19/bbf6f6f0-5924-4900-86a6-d28e523db12d.jpg\",\"imageUrl\":\"https://images.tokopedia.net/img/cache/600/bjFkPX/2022/9/19/bbf6f6f0-5924-4900-86a6-d28e523db12d.jpg\",\"__typename\":\"reviewAttachmentPDPType\"},{\"attachmentID\":\"86225580\",\"imageThumbnailUrl\":\"https://images.tokopedia.net/img/cache/200-square/bjFkPX/2022/9/19/4cf62191-a70c-4bf1-a1c0-35a86b1f9990.jpg\",\"imageUrl\":\"https://images.tokopedia.net/img/cache/600/bjFkPX/2022/9/19/4cf62191-a70c-4bf1-a1c0-35a86b1f9990.jpg\",\"__typename\":\"reviewAttachmentPDPType\"}],\"videoAttachments\":[{\"attachmentID\":\"86225581\",\"videoUrl\":\"https://vod-stream.tokopedia.net/view/adaptive.m3u8?id=1fd2478037bb71ed8a7586c6360c0102\",\"__typename\":\"productrevVideoAttachmentPDPType\"}],\"reviewResponse\":{\"message\":\"Terima kasih telah berbelanja di Erigo Official. Bagikan link toko kami https://www.tokopedia.com/erigo kepada teman-teman Anda dan favoritkan Toko kami untuk terus update mengenai stok dan produk terbaru\",\"createTime\":\"Lebih dari 1 tahun lalu\",\"__typename\":\"reviewReviewResponsePDPType\"},\"user\":{\"userID\":\"0\",\"fullName\":\"S***a\",\"image\":\"https://images.tokopedia.net/img/cache/100-square/default_v3-usrnophoto.png\",\"url\":\"\",\"__typename\":\"reviewReviewUserPDPType\"},\"likeDislike\":{\"totalLike\":0,\"likeStatus\":0,\"__typename\":\"reviewLikeDislikePDPType\"},\"stats\":[],\"badRatingReasonFmt\":\"\",\"__typename\":\"reviewListPDPType\"},{\"id\":\"1016018259\",\"variantName\":\"Jazlyn Black - L\",\"message\":\"APAAN INI WOY KEREN BANGET KEMEJA NYA ga usa ragu kualitas Erigo ganteng banget sumpah, kemeja nya ga kaku tapi juga ga kerut bahan adem lembut halus gmn yah Kyk ga mau Di lepas kalau pakai ini kemeja. Sukses terus erigo pertahankan ya kualitas barang udh ganteng banget ini mah harga setara 200 rb. Ydh itu aja review nya\",\"productRating\":5,\"reviewCreateTime\":\"1710777365\",\"reviewCreateTimestamp\":\"10 bulan lalu\",\"isReportable\":true,\"isAnonymous\":false,\"imageAttachments\":[{\"attachmentID\":\"121227117\",\"imageThumbnailUrl\":\"https://images.tokopedia.net/img/cache/200-square/bjFkPX/2024/3/18/0fe82f14-11ca-4e14-b0b6-c215f452b771.jpg\",\"imageUrl\":\"https://images.tokopedia.net/img/cache/600/bjFkPX/2024/3/18/0fe82f14-11ca-4e14-b0b6-c215f452b771.jpg\",\"__typename\":\"reviewAttachmentPDPType\"},{\"attachmentID\":\"121227118\",\"imageThumbnailUrl\":\"https://images.tokopedia.net/img/cache/200-square/bjFkPX/2024/3/18/b606b9e5-412c-4f72-bd6a-9c9170cf261a.jpg\",\"imageUrl\":\"https://images.tokopedia.net/img/cache/600/bjFkPX/2024/3/18/b606b9e5-412c-4f72-bd6a-9c9170cf261a.jpg\",\"__typename\":\"reviewAttachmentPDPType\"},{\"attachmentID\":\"121227119\",\"imageThumbnailUrl\":\"https://images.tokopedia.net/img/cache/200-square/bjFkPX/2024/3/18/e67b89c9-f539-4244-9342-cb04d9192a0d.jpg\",\"imageUrl\":\"https://images.tokopedia.net/img/cache/600/bjFkPX/2024/3/18/e67b89c9-f539-4244-9342-cb04d9192a0d.jpg\",\"__typename\":\"reviewAttachmentPDPType\"},{\"attachmentID\":\"121227120\",\"imageThumbnailUrl\":\"https://images.tokopedia.net/img/cache/200-square/bjFkPX/2024/3/18/f5bfa808-2794-4bc3-a694-bc81cfff0ee9.jpg\",\"imageUrl\":\"https://images.tokopedia.net/img/cache/600/bjFkPX/2024/3/18/f5bfa808-2794-4bc3-a694-bc81cfff0ee9.jpg\",\"__typename\":\"reviewAttachmentPDPType\"}],\"videoAttachments\":[{\"attachmentID\":\"121227121\",\"videoUrl\":\"https://vod-stream.tokopedia.net/view/adaptive.m3u8?id=efb0533d-8a3e-4970-af70-5e8f320609de\",\"__typename\":\"productrevVideoAttachmentPDPType\"}],\"reviewResponse\":{\"message\":\"Terima kasih telah berbelanja di Erigo Official. Bagikan link toko kami https://www.tokopedia.com/erigo kepada teman-teman Anda dan favoritkan Toko kami untuk terus update mengenai stok dan produk terbaru\",\"createTime\":\"10 bulan lalu\",\"__typename\":\"reviewReviewResponsePDPType\"},\"user\":{\"userID\":\"210403877\",\"fullName\":\"raden\",\"image\":\"https://accounts.tokopedia.com/image/v1/u/210403877/user_thumbnail/desktop\",\"url\":\"https://www.tokopedia.com/people/210403877\",\"__typename\":\"reviewReviewUserPDPType\"},\"likeDislike\":{\"totalLike\":1,\"likeStatus\":0,\"__typename\":\"reviewLikeDislikePDPType\"},\"stats\":[{\"key\":\"total-complete-review\",\"formatted\":\"5 ulasan lengkap\",\"count\":5,\"__typename\":\"reviewlistUserStatsType\"},{\"key\":\"total-likes\",\"formatted\":\"1 terbantu\",\"count\":1,\"__typename\":\"reviewlistUserStatsType\"}],\"badRatingReasonFmt\":\"\",\"__typename\":\"reviewListPDPType\"},{\"id\":\"816486546\",\"variantName\":\"XXL\",\"message\":\"oke paket di terima dengan baik ,, untuk kualitas barang oke kok kak 😁 bagus ,, tapi sayang nya untuk pengiriman agak lama kak oke itu saja dari saya\",\"productRating\":5,\"reviewCreateTime\":\"1671820166\",\"reviewCreateTimestamp\":\"Lebih dari 1 tahun lalu\",\"isReportable\":true,\"isAnonymous\":false,\"imageAttachments\":[{\"attachmentID\":\"94225188\",\"imageThumbnailUrl\":\"https://images.tokopedia.net/img/cache/200-square/bjFkPX/2022/12/23/f4c5f3ab-7109-4a64-8114-9e597472d48a.jpg\",\"imageUrl\":\"https://images.tokopedia.net/img/cache/600/bjFkPX/2022/12/23/f4c5f3ab-7109-4a64-8114-9e597472d48a.jpg\",\"__typename\":\"reviewAttachmentPDPType\"},{\"attachmentID\":\"94225189\",\"imageThumbnailUrl\":\"https://images.tokopedia.net/img/cache/200-square/bjFkPX/2022/12/23/8b6e8994-259c-4363-bcbe-07964094aed5.jpg\",\"imageUrl\":\"https://images.tokopedia.net/img/cache/600/bjFkPX/2022/12/23/8b6e8994-259c-4363-bcbe-07964094aed5.jpg\",\"__typename\":\"reviewAttachmentPDPType\"}],\"videoAttachments\":[{\"attachmentID\":\"94225190\",\"videoUrl\":\"https://vod-stream.tokopedia.net/view/adaptive.m3u8?id=06931f7082b571eda47187c6371c0102\",\"__typename\":\"productrevVideoAttachmentPDPType\"}],\"reviewResponse\":{\"message\":\"Terima kasih telah berbelanja di Erigo Official. Bagikan link toko kami https://www.tokopedia.com/erigo kepada teman-teman Anda dan favoritkan Toko kami untuk terus update mengenai stok dan produk terbaru\",\"createTime\":\"Lebih dari 1 tahun lalu\",\"__typename\":\"reviewReviewResponsePDPType\"},\"user\":{\"userID\":\"219595677\",\"fullName\":\"Ostoee\",\"image\":\"https://accounts.tokopedia.com/image/v1/u/219595677/user_thumbnail/desktop\",\"url\":\"https://www.tokopedia.com/people/219595677\",\"__typename\":\"reviewReviewUserPDPType\"},\"likeDislike\":{\"totalLike\":0,\"likeStatus\":0,\"__typename\":\"reviewLikeDislikePDPType\"},\"stats\":[{\"key\":\"total-complete-review\",\"formatted\":\"3 ulasan lengkap\",\"count\":3,\"__typename\":\"reviewlistUserStatsType\"},{\"key\":\"total-likes\",\"formatted\":\"4 terbantu\",\"count\":4,\"__typename\":\"reviewlistUserStatsType\"}],\"badRatingReasonFmt\":\"\",\"__typename\":\"reviewListPDPType\"},{\"id\":\"773225440\",\"variantName\":\"L\",\"message\":\"pas, bahannya enak banget dibadan dan juga keren. ga heran sih karena ini dari erigo, mantap dah\",\"productRating\":5,\"reviewCreateTime\":\"1665743375\",\"reviewCreateTimestamp\":\"Lebih dari 1 tahun lalu\",\"isReportable\":true,\"isAnonymous\":false,\"imageAttachments\":[{\"attachmentID\":\"88391880\",\"imageThumbnailUrl\":\"https://images.tokopedia.net/img/cache/200-square/bjFkPX/2022/10/14/b93365a7-1d95-4a78-9ed4-490c899a426b.jpg\",\"imageUrl\":\"https://images.tokopedia.net/img/cache/600/bjFkPX/2022/10/14/b93365a7-1d95-4a78-9ed4-490c899a426b.jpg\",\"__typename\":\"reviewAttachmentPDPType\"},{\"attachmentID\":\"88391881\",\"imageThumbnailUrl\":\"https://images.tokopedia.net/img/cache/200-square/bjFkPX/2022/10/14/c6182992-9b37-4675-8d64-d664e58a3830.jpg\",\"imageUrl\":\"https://images.tokopedia.net/img/cache/600/bjFkPX/2022/10/14/c6182992-9b37-4675-8d64-d664e58a3830.jpg\",\"__typename\":\"reviewAttachmentPDPType\"},{\"attachmentID\":\"88391882\",\"imageThumbnailUrl\":\"https://images.tokopedia.net/img/cache/200-square/bjFkPX/2022/10/14/df95be5a-56b4-45c1-9125-6be2a7ad9301.jpg\",\"imageUrl\":\"https://images.tokopedia.net/img/cache/600/bjFkPX/2022/10/14/df95be5a-56b4-45c1-9125-6be2a7ad9301.jpg\",\"__typename\":\"reviewAttachmentPDPType\"}],\"videoAttachments\":[{\"attachmentID\":\"88391883\",\"videoUrl\":\"https://vod-stream.tokopedia.net/view/adaptive.m3u8?id=6a9233204b7071ed933487c7361c0102\",\"__typename\":\"productrevVideoAttachmentPDPType\"}],\"reviewResponse\":{\"message\":\"Terima kasih telah berbelanja di Erigo Official. Bagikan link toko kami https://www.tokopedia.com/erigo kepada teman-teman Anda dan favoritkan Toko kami untuk terus update mengenai stok dan produk terbaru\",\"createTime\":\"Lebih dari 1 tahun lalu\",\"__typename\":\"reviewReviewResponsePDPType\"},\"user\":{\"userID\":\"91590875\",\"fullName\":\"Indrath\",\"image\":\"https://accounts.tokopedia.com/image/v1/u/91590875/user_thumbnail/desktop\",\"url\":\"https://www.tokopedia.com/people/91590875\",\"__typename\":\"reviewReviewUserPDPType\"},\"likeDislike\":{\"totalLike\":0,\"likeStatus\":0,\"__typename\":\"reviewLikeDislikePDPType\"},\"stats\":[{\"key\":\"total-likes\",\"formatted\":\"1 terbantu\",\"count\":1,\"__typename\":\"reviewlistUserStatsType\"}],\"badRatingReasonFmt\":\"\",\"__typename\":\"reviewListPDPType\"},{\"id\":\"878087243\",\"variantName\":\"Delwyn D Brown - M\",\"message\":\"overall bagus. lebih baik pilih satu soze keatas. rada susah disetrika.\",\"productRating\":5,\"reviewCreateTime\":\"1681662048\",\"reviewCreateTimestamp\":\"Lebih dari 1 tahun lalu\",\"isReportable\":true,\"isAnonymous\":true,\"imageAttachments\":[{\"attachmentID\":\"102411876\",\"imageThumbnailUrl\":\"https://images.tokopedia.net/img/cache/200-square/bjFkPX/2023/4/16/6f2830c1-efeb-44e4-8f4a-b28708628329.jpg\",\"imageUrl\":\"https://images.tokopedia.net/img/cache/600/bjFkPX/2023/4/16/6f2830c1-efeb-44e4-8f4a-b28708628329.jpg\",\"__typename\":\"reviewAttachmentPDPType\"},{\"attachmentID\":\"102411877\",\"imageThumbnailUrl\":\"https://images.tokopedia.net/img/cache/200-square/bjFkPX/2023/4/16/701bbbfb-0ee4-4e22-9a8a-b60ac49c852e.jpg\",\"imageUrl\":\"https://images.tokopedia.net/img/cache/600/bjFkPX/2023/4/16/701bbbfb-0ee4-4e22-9a8a-b60ac49c852e.jpg\",\"__typename\":\"reviewAttachmentPDPType\"}],\"videoAttachments\":[{\"attachmentID\":\"102411878\",\"videoUrl\":\"https://vod-stream.tokopedia.net/view/adaptive.m3u8?id=91c34940dc3771edbf4136a5e8aa0102\",\"__typename\":\"productrevVideoAttachmentPDPType\"}],\"reviewResponse\":{\"message\":\"Terima kasih telah berbelanja di Erigo Official. Bagikan link toko kami https://www.tokopedia.com/erigo kepada teman-teman Anda dan favoritkan Toko kami untuk terus update mengenai stok dan produk terbaru\",\"createTime\":\"Lebih dari 1 tahun lalu\",\"__typename\":\"reviewReviewResponsePDPType\"},\"user\":{\"userID\":\"0\",\"fullName\":\"B***s\",\"image\":\"https://images.tokopedia.net/img/cache/100-square/default_v3-usrnophoto.png\",\"url\":\"\",\"__typename\":\"reviewReviewUserPDPType\"},\"likeDislike\":{\"totalLike\":1,\"likeStatus\":0,\"__typename\":\"reviewLikeDislikePDPType\"},\"stats\":[],\"badRatingReasonFmt\":\"\",\"__typename\":\"reviewListPDPType\"},{\"id\":\"1108281826\",\"variantName\":\"Jazlyn Black - L\",\"message\":\"Keren. Pas ukurannya. Bagus bahannya. Premium. Top. Terima Kasih.......................\",\"productRating\":5,\"reviewCreateTime\":\"1729427025\",\"reviewCreateTimestamp\":\"3 bulan lalu\",\"isReportable\":true,\"isAnonymous\":false,\"imageAttachments\":[{\"attachmentID\":\"137439327\",\"imageThumbnailUrl\":\"https://images.tokopedia.net/img/cache/200-square/bjFkPX/2024/10/20/96c0a6a3-bec8-419d-95ad-d324f068ec23.jpg\",\"imageUrl\":\"https://images.tokopedia.net/img/cache/600/bjFkPX/2024/10/20/96c0a6a3-bec8-419d-95ad-d324f068ec23.jpg\",\"__typename\":\"reviewAttachmentPDPType\"},{\"attachmentID\":\"137439328\",\"imageThumbnailUrl\":\"https://images.tokopedia.net/img/cache/200-square/bjFkPX/2024/10/20/70e651e3-a557-46fd-b8d1-f5db909dbaa7.jpg\",\"imageUrl\":\"https://images.tokopedia.net/img/cache/600/bjFkPX/2024/10/20/70e651e3-a557-46fd-b8d1-f5db909dbaa7.jpg\",\"__typename\":\"reviewAttachmentPDPType\"},{\"attachmentID\":\"137439329\",\"imageThumbnailUrl\":\"https://images.tokopedia.net/img/cache/200-square/bjFkPX/2024/10/20/82c417aa-f688-46b3-9ad2-17ed4ca5b273.jpg\",\"imageUrl\":\"https://images.tokopedia.net/img/cache/600/bjFkPX/2024/10/20/82c417aa-f688-46b3-9ad2-17ed4ca5b273.jpg\",\"__typename\":\"reviewAttachmentPDPType\"},{\"attachmentID\":\"137439330\",\"imageThumbnailUrl\":\"https://images.tokopedia.net/img/cache/200-square/bjFkPX/2024/10/20/368ad6d0-1bbb-466a-a010-cd3f97500b6d.jpg\",\"imageUrl\":\"https://images.tokopedia.net/img/cache/600/bjFkPX/2024/10/20/368ad6d0-1bbb-466a-a010-cd3f97500b6d.jpg\",\"__typename\":\"reviewAttachmentPDPType\"}],\"videoAttachments\":[{\"attachmentID\":\"137439331\",\"videoUrl\":\"https://vod-stream.tokopedia.net/view/adaptive.m3u8?id=490caac6-4bff-4ac3-8a08-1a6fc282d040\",\"__typename\":\"productrevVideoAttachmentPDPType\"}],\"reviewResponse\":{\"message\":\"Terima kasih telah berbelanja di Erigo Official. Bagikan link toko kami https://www.tokopedia.com/erigo kepada teman-teman Anda dan favoritkan Toko kami untuk terus update mengenai stok dan produk terbaru\",\"createTime\":\"3 bulan lalu\",\"__typename\":\"reviewReviewResponsePDPType\"},\"user\":{\"userID\":\"2233521\",\"fullName\":\"Ilyas\",\"image\":\"https://accounts.tokopedia.com/image/v1/u/2233521/user_thumbnail/desktop\",\"url\":\"https://www.tokopedia.com/people/2233521\",\"__typename\":\"reviewReviewUserPDPType\"},\"likeDislike\":{\"totalLike\":0,\"likeStatus\":0,\"__typename\":\"reviewLikeDislikePDPType\"},\"stats\":[{\"key\":\"total-complete-review\",\"formatted\":\"133 ulasan lengkap\",\"count\":133,\"__typename\":\"reviewlistUserStatsType\"},{\"key\":\"total-likes\",\"formatted\":\"28 terbantu\",\"count\":28,\"__typename\":\"reviewlistUserStatsType\"}],\"badRatingReasonFmt\":\"\",\"__typename\":\"reviewListPDPType\"},{\"id\":\"1118120500\",\"variantName\":\"Jazlyn Black - M\",\"message\":\"bahan adem, warna sesuai. \\npacking aman. \\nproses dan pengiriman cepat.\",\"productRating\":5,\"reviewCreateTime\":\"1731464410\",\"reviewCreateTimestamp\":\"2 bulan lalu\",\"isReportable\":true,\"isAnonymous\":true,\"imageAttachments\":[{\"attachmentID\":\"139299803\",\"imageThumbnailUrl\":\"https://images.tokopedia.net/img/cache/200-square/bjFkPX/2024/11/13/bbf0aaa5-4646-46c3-9f8d-a0d79870cceb.jpg\",\"imageUrl\":\"https://images.tokopedia.net/img/cache/600/bjFkPX/2024/11/13/bbf0aaa5-4646-46c3-9f8d-a0d79870cceb.jpg\",\"__typename\":\"reviewAttachmentPDPType\"},{\"attachmentID\":\"139299804\",\"imageThumbnailUrl\":\"https://images.tokopedia.net/img/cache/200-square/bjFkPX/2024/11/13/22f579b3-5a79-428b-a519-7c695c2024be.jpg\",\"imageUrl\":\"https://images.tokopedia.net/img/cache/600/bjFkPX/2024/11/13/22f579b3-5a79-428b-a519-7c695c2024be.jpg\",\"__typename\":\"reviewAttachmentPDPType\"},{\"attachmentID\":\"139299805\",\"imageThumbnailUrl\":\"https://images.tokopedia.net/img/cache/200-square/bjFkPX/2024/11/13/fedb2268-4cb1-4358-8b21-444ef83ef01c.jpg\",\"imageUrl\":\"https://images.tokopedia.net/img/cache/600/bjFkPX/2024/11/13/fedb2268-4cb1-4358-8b21-444ef83ef01c.jpg\",\"__typename\":\"reviewAttachmentPDPType\"},{\"attachmentID\":\"139299806\",\"imageThumbnailUrl\":\"https://images.tokopedia.net/img/cache/200-square/bjFkPX/2024/11/13/ea9262bd-77d5-47e4-8134-11ee7678434b.jpg\",\"imageUrl\":\"https://images.tokopedia.net/img/cache/600/bjFkPX/2024/11/13/ea9262bd-77d5-47e4-8134-11ee7678434b.jpg\",\"__typename\":\"reviewAttachmentPDPType\"}],\"videoAttachments\":[{\"attachmentID\":\"139299807\",\"videoUrl\":\"https://vod-stream.tokopedia.net/view/adaptive.m3u8?id=d6142921-7622-4004-9108-14fcbfd32424\",\"__typename\":\"productrevVideoAttachmentPDPType\"}],\"reviewResponse\":{\"message\":\"Terima kasih telah berbelanja di Erigo Official. Bagikan link toko kami https://www.tokopedia.com/erigo kepada teman-teman Anda dan favoritkan Toko kami untuk terus update mengenai stok dan produk terbaru\",\"createTime\":\"2 bulan lalu\",\"__typename\":\"reviewReviewResponsePDPType\"},\"user\":{\"userID\":\"0\",\"fullName\":\"d***y\",\"image\":\"https://images.tokopedia.net/img/cache/100-square/default_v3-usrnophoto.png\",\"url\":\"\",\"__typename\":\"reviewReviewUserPDPType\"},\"likeDislike\":{\"totalLike\":0,\"likeStatus\":0,\"__typename\":\"reviewLikeDislikePDPType\"},\"stats\":[],\"badRatingReasonFmt\":\"\",\"__typename\":\"reviewListPDPType\"}],\"shop\":{\"shopID\":\"2397043\",\"name\":\"Erigo Official\",\"url\":\"https://www.tokopedia.com/erigo\",\"image\":\"https://images.tokopedia.net/img/cache/215-square/GAnVPX/2024/10/28/c05501e4-bd77-479d-98cc-cb4f229de57a.jpg\",\"__typename\":\"reviewShopPDPType\"},\"hasNext\":true,\"totalReviews\":2345,\"__typename\":\"productrevGetProductReviewListType\"}}}]\n",
            "isi respon dari respb: [{\"data\":{\"productrevGetProductReviewList\":{\"productID\":\"1624334608\",\"list\":[{\"id\":\"644759641\",\"variantName\":\"XL\",\"message\":\"Kualitas produk bagus. Nyaman dipakai. Jahitannya rapi. Warnanya mantap. Bahannya adem. Ukuran sesuai. Modelnya keren 😎. Kancing tidak mudah lepas. Tidak menerawang. Produk sesuai dengan foto. Bahan menyerap keringat.\",\"productRating\":5,\"reviewCreateTime\":\"1649625736\",\"reviewCreateTimestamp\":\"Lebih dari 1 tahun lalu\",\"isReportable\":true,\"isAnonymous\":true,\"imageAttachments\":[{\"attachmentID\":\"70327252\",\"imageThumbnailUrl\":\"https://images.tokopedia.net/img/cache/200-square/bjFkPX/2022/4/10/1cb1e70a-a1d3-4fa7-a7ad-ca2a8d5d67c1.jpg\",\"imageUrl\":\"https://images.tokopedia.net/img/cache/600/bjFkPX/2022/4/10/1cb1e70a-a1d3-4fa7-a7ad-ca2a8d5d67c1.jpg\",\"__typename\":\"reviewAttachmentPDPType\"},{\"attachmentID\":\"70327253\",\"imageThumbnailUrl\":\"https://images.tokopedia.net/img/cache/200-square/bjFkPX/2022/4/10/47ce2de3-57c1-463b-ba9e-529d1b2f8879.jpg\",\"imageUrl\":\"https://images.tokopedia.net/img/cache/600/bjFkPX/2022/4/10/47ce2de3-57c1-463b-ba9e-529d1b2f8879.jpg\",\"__typename\":\"reviewAttachmentPDPType\"}],\"videoAttachments\":[],\"reviewResponse\":{\"message\":\"Terima kasih telah berbelanja di Erigo Official. Bagikan link toko kami https://www.tokopedia.com/erigo kepada teman-teman Anda dan favoritkan Toko kami untuk terus update mengenai stok dan produk terbaru\",\"createTime\":\"Lebih dari 1 tahun lalu\",\"__typename\":\"reviewReviewResponsePDPType\"},\"user\":{\"userID\":\"0\",\"fullName\":\"T***i\",\"image\":\"https://images.tokopedia.net/img/cache/100-square/default_v3-usrnophoto.png\",\"url\":\"\",\"__typename\":\"reviewReviewUserPDPType\"},\"likeDislike\":{\"totalLike\":0,\"likeStatus\":0,\"__typename\":\"reviewLikeDislikePDPType\"},\"stats\":[],\"badRatingReasonFmt\":\"\",\"__typename\":\"reviewListPDPType\"},{\"id\":\"916637986\",\"variantName\":\"S\",\"message\":\"Ukurannya pas Berat badan 60 - 70 kg. produk kemasannya aman banget. pesanan diproses dengan cepat. produk diterima dalam kondisi baik. bahan bagus dan adem. kainnya geyol geyol nggak kaku. Terima kasih seller Go Erigo #BanggaProdukLokal\",\"productRating\":5,\"reviewCreateTime\":\"1689673993\",\"reviewCreateTimestamp\":\"Lebih dari 1 tahun lalu\",\"isReportable\":true,\"isAnonymous\":false,\"imageAttachments\":[{\"attachmentID\":\"107923403\",\"imageThumbnailUrl\":\"https://images.tokopedia.net/img/cache/200-square/bjFkPX/2023/7/18/79325b0f-23e5-44ee-985b-8811f6cee204.jpg\",\"imageUrl\":\"https://images.tokopedia.net/img/cache/600/bjFkPX/2023/7/18/79325b0f-23e5-44ee-985b-8811f6cee204.jpg\",\"__typename\":\"reviewAttachmentPDPType\"},{\"attachmentID\":\"107923404\",\"imageThumbnailUrl\":\"https://images.tokopedia.net/img/cache/200-square/bjFkPX/2023/7/18/b3c41b3d-1d1e-4b9f-9253-9a2fbac96051.jpg\",\"imageUrl\":\"https://images.tokopedia.net/img/cache/600/bjFkPX/2023/7/18/b3c41b3d-1d1e-4b9f-9253-9a2fbac96051.jpg\",\"__typename\":\"reviewAttachmentPDPType\"},{\"attachmentID\":\"107923405\",\"imageThumbnailUrl\":\"https://images.tokopedia.net/img/cache/200-square/bjFkPX/2023/7/18/acf15ca6-06f0-4366-9c65-364e755614af.jpg\",\"imageUrl\":\"https://images.tokopedia.net/img/cache/600/bjFkPX/2023/7/18/acf15ca6-06f0-4366-9c65-364e755614af.jpg\",\"__typename\":\"reviewAttachmentPDPType\"},{\"attachmentID\":\"107923406\",\"imageThumbnailUrl\":\"https://images.tokopedia.net/img/cache/200-square/bjFkPX/2023/7/18/fcb980b6-c5fe-4843-bdbf-4c887ef6198b.jpg\",\"imageUrl\":\"https://images.tokopedia.net/img/cache/600/bjFkPX/2023/7/18/fcb980b6-c5fe-4843-bdbf-4c887ef6198b.jpg\",\"__typename\":\"reviewAttachmentPDPType\"},{\"attachmentID\":\"107923407\",\"imageThumbnailUrl\":\"https://images.tokopedia.net/img/cache/200-square/bjFkPX/2023/7/18/6812e3b4-3d3e-4232-be04-1c9dc4535bc8.jpg\",\"imageUrl\":\"https://images.tokopedia.net/img/cache/600/bjFkPX/2023/7/18/6812e3b4-3d3e-4232-be04-1c9dc4535bc8.jpg\",\"__typename\":\"reviewAttachmentPDPType\"}],\"videoAttachments\":[],\"reviewResponse\":{\"message\":\"Terima kasih telah berbelanja di Erigo Official. Bagikan link toko kami https://www.tokopedia.com/erigo kepada teman-teman Anda dan favoritkan Toko kami untuk terus update mengenai stok dan produk terbaru\",\"createTime\":\"Lebih dari 1 tahun lalu\",\"__typename\":\"reviewReviewResponsePDPType\"},\"user\":{\"userID\":\"36717724\",\"fullName\":\"Yuliasti\",\"image\":\"https://accounts.tokopedia.com/image/v1/u/36717724/user_thumbnail/desktop\",\"url\":\"https://www.tokopedia.com/people/36717724\",\"__typename\":\"reviewReviewUserPDPType\"},\"likeDislike\":{\"totalLike\":0,\"likeStatus\":0,\"__typename\":\"reviewLikeDislikePDPType\"},\"stats\":[{\"key\":\"total-complete-review\",\"formatted\":\"63 ulasan lengkap\",\"count\":63,\"__typename\":\"reviewlistUserStatsType\"},{\"key\":\"total-likes\",\"formatted\":\"39 terbantu\",\"count\":39,\"__typename\":\"reviewlistUserStatsType\"}],\"badRatingReasonFmt\":\"\",\"__typename\":\"reviewListPDPType\"},{\"id\":\"980543993\",\"variantName\":\"M\",\"message\":\"produk oke .made in Indonesia. cintai produk Indonesia yang gak kalah sama produk luar .\",\"productRating\":5,\"reviewCreateTime\":\"1703433308\",\"reviewCreateTimestamp\":\"Lebih dari 1 tahun lalu\",\"isReportable\":true,\"isAnonymous\":true,\"imageAttachments\":[{\"attachmentID\":\"116476175\",\"imageThumbnailUrl\":\"https://images.tokopedia.net/img/cache/200-square/bjFkPX/2023/12/24/cc99f79b-07f5-49f4-86f3-bc8c2bd94c44.jpg\",\"imageUrl\":\"https://images.tokopedia.net/img/cache/600/bjFkPX/2023/12/24/cc99f79b-07f5-49f4-86f3-bc8c2bd94c44.jpg\",\"__typename\":\"reviewAttachmentPDPType\"},{\"attachmentID\":\"116476176\",\"imageThumbnailUrl\":\"https://images.tokopedia.net/img/cache/200-square/bjFkPX/2023/12/24/d124377d-fd39-4bf1-9ba8-239eddff8568.jpg\",\"imageUrl\":\"https://images.tokopedia.net/img/cache/600/bjFkPX/2023/12/24/d124377d-fd39-4bf1-9ba8-239eddff8568.jpg\",\"__typename\":\"reviewAttachmentPDPType\"}],\"videoAttachments\":[],\"reviewResponse\":{\"message\":\"Terima kasih telah berbelanja di Erigo Official. Bagikan link toko kami https://www.tokopedia.com/erigo kepada teman-teman Anda dan favoritkan Toko kami untuk terus update mengenai stok dan produk terbaru\",\"createTime\":\"Lebih dari 1 tahun lalu\",\"__typename\":\"reviewReviewResponsePDPType\"},\"user\":{\"userID\":\"0\",\"fullName\":\"J***v\",\"image\":\"https://images.tokopedia.net/img/cache/100-square/default_v3-usrnophoto.png\",\"url\":\"\",\"__typename\":\"reviewReviewUserPDPType\"},\"likeDislike\":{\"totalLike\":0,\"likeStatus\":0,\"__typename\":\"reviewLikeDislikePDPType\"},\"stats\":[],\"badRatingReasonFmt\":\"\",\"__typename\":\"reviewListPDPType\"},{\"id\":\"479776837\",\"variantName\":\"L\",\"message\":\"Pengiriman cepat, Barang bagus sesuai deskripsi. pertahankan kwalitasnya, overall good, Terimakasih\",\"productRating\":5,\"reviewCreateTime\":\"1631907700\",\"reviewCreateTimestamp\":\"Lebih dari 1 tahun lalu\",\"isReportable\":true,\"isAnonymous\":false,\"imageAttachments\":[{\"attachmentID\":\"48034696\",\"imageThumbnailUrl\":\"https://images.tokopedia.net/img/cache/200-square/bjFkPX/2021/9/17/a20472f3-ec0b-4c39-aaf2-1b3cee8e87cc.jpg\",\"imageUrl\":\"https://images.tokopedia.net/img/cache/600/bjFkPX/2021/9/17/a20472f3-ec0b-4c39-aaf2-1b3cee8e87cc.jpg\",\"__typename\":\"reviewAttachmentPDPType\"},{\"attachmentID\":\"48034697\",\"imageThumbnailUrl\":\"https://images.tokopedia.net/img/cache/200-square/bjFkPX/2021/9/17/791c3c46-3ffb-470f-8d29-ec6164cc7d97.jpg\",\"imageUrl\":\"https://images.tokopedia.net/img/cache/600/bjFkPX/2021/9/17/791c3c46-3ffb-470f-8d29-ec6164cc7d97.jpg\",\"__typename\":\"reviewAttachmentPDPType\"},{\"attachmentID\":\"48034698\",\"imageThumbnailUrl\":\"https://images.tokopedia.net/img/cache/200-square/bjFkPX/2021/9/17/3e259f69-9a6b-4cb4-b659-ee7a550827d7.jpg\",\"imageUrl\":\"https://images.tokopedia.net/img/cache/600/bjFkPX/2021/9/17/3e259f69-9a6b-4cb4-b659-ee7a550827d7.jpg\",\"__typename\":\"reviewAttachmentPDPType\"},{\"attachmentID\":\"48034699\",\"imageThumbnailUrl\":\"https://images.tokopedia.net/img/cache/200-square/bjFkPX/2021/9/17/01bc6051-9b69-404c-932f-6ba011279528.jpg\",\"imageUrl\":\"https://images.tokopedia.net/img/cache/600/bjFkPX/2021/9/17/01bc6051-9b69-404c-932f-6ba011279528.jpg\",\"__typename\":\"reviewAttachmentPDPType\"}],\"videoAttachments\":[],\"reviewResponse\":{\"message\":\"Terima kasih telah berbelanja di Erigo Official. Bagikan link toko kami https://www.tokopedia.com/erigo kepada teman-teman Anda dan favoritkan Toko kami untuk terus update mengenai stok dan produk terbaru\",\"createTime\":\"Lebih dari 1 tahun lalu\",\"__typename\":\"reviewReviewResponsePDPType\"},\"user\":{\"userID\":\"42060915\",\"fullName\":\"Ferdinan\",\"image\":\"https://accounts.tokopedia.com/image/v1/u/42060915/user_thumbnail/desktop\",\"url\":\"https://www.tokopedia.com/people/42060915\",\"__typename\":\"reviewReviewUserPDPType\"},\"likeDislike\":{\"totalLike\":0,\"likeStatus\":0,\"__typename\":\"reviewLikeDislikePDPType\"},\"stats\":[{\"key\":\"total-complete-review\",\"formatted\":\"373 ulasan lengkap\",\"count\":373,\"__typename\":\"reviewlistUserStatsType\"},{\"key\":\"total-likes\",\"formatted\":\"152 terbantu\",\"count\":152,\"__typename\":\"reviewlistUserStatsType\"}],\"badRatingReasonFmt\":\"\",\"__typename\":\"reviewListPDPType\"},{\"id\":\"472197969\",\"variantName\":\"M\",\"message\":\"Jahitan di dekat area ketiak tidak rapih, di kerah depan keliatan ada semacam kain putih. Bahan kain nyaman tapi perlu dirapihkan\",\"productRating\":3,\"reviewCreateTime\":\"1631054829\",\"reviewCreateTimestamp\":\"Lebih dari 1 tahun lalu\",\"isReportable\":true,\"isAnonymous\":true,\"imageAttachments\":[{\"attachmentID\":\"47122647\",\"imageThumbnailUrl\":\"https://images.tokopedia.net/img/cache/200-square/bjFkPX/2021/9/7/a3487589-d3d9-4670-8bbd-fc5e0a189383.jpg\",\"imageUrl\":\"https://images.tokopedia.net/img/cache/600/bjFkPX/2021/9/7/a3487589-d3d9-4670-8bbd-fc5e0a189383.jpg\",\"__typename\":\"reviewAttachmentPDPType\"},{\"attachmentID\":\"47122648\",\"imageThumbnailUrl\":\"https://images.tokopedia.net/img/cache/200-square/bjFkPX/2021/9/7/b0ac4aaf-3ba4-41bf-8804-520282c05a0d.jpg\",\"imageUrl\":\"https://images.tokopedia.net/img/cache/600/bjFkPX/2021/9/7/b0ac4aaf-3ba4-41bf-8804-520282c05a0d.jpg\",\"__typename\":\"reviewAttachmentPDPType\"}],\"videoAttachments\":[],\"reviewResponse\":{\"message\":\"Hallo kak Rizki, Pesanannya sudah sampai ya kak ? apa ada kekurangan dari produk yang kakak terima atau pelayanan yang kurang memuaskan kak? jika ada kekurangan boleh banget chat kami ya kak :) -RnR\",\"createTime\":\"Lebih dari 1 tahun lalu\",\"__typename\":\"reviewReviewResponsePDPType\"},\"user\":{\"userID\":\"0\",\"fullName\":\"R***i\",\"image\":\"https://images.tokopedia.net/img/cache/100-square/default_v3-usrnophoto.png\",\"url\":\"\",\"__typename\":\"reviewReviewUserPDPType\"},\"likeDislike\":{\"totalLike\":0,\"likeStatus\":0,\"__typename\":\"reviewLikeDislikePDPType\"},\"stats\":[],\"badRatingReasonFmt\":\"\",\"__typename\":\"reviewListPDPType\"},{\"id\":\"1042470361\",\"variantName\":\"L\",\"message\":\"Barang sesuai tapi sayang nya baju nya robek,,\",\"productRating\":3,\"reviewCreateTime\":\"1716313457\",\"reviewCreateTimestamp\":\"8 bulan lalu\",\"isReportable\":true,\"isAnonymous\":true,\"imageAttachments\":[{\"attachmentID\":\"125653259\",\"imageThumbnailUrl\":\"https://images.tokopedia.net/img/cache/200-square/bjFkPX/2024/5/21/aeebc71b-d00e-46fb-8237-6706abbe03a1.jpg\",\"imageUrl\":\"https://images.tokopedia.net/img/cache/600/bjFkPX/2024/5/21/aeebc71b-d00e-46fb-8237-6706abbe03a1.jpg\",\"__typename\":\"reviewAttachmentPDPType\"},{\"attachmentID\":\"125653260\",\"imageThumbnailUrl\":\"https://images.tokopedia.net/img/cache/200-square/bjFkPX/2024/5/21/e323161a-5f01-4cb0-b947-93d732ab6ce5.jpg\",\"imageUrl\":\"https://images.tokopedia.net/img/cache/600/bjFkPX/2024/5/21/e323161a-5f01-4cb0-b947-93d732ab6ce5.jpg\",\"__typename\":\"reviewAttachmentPDPType\"}],\"videoAttachments\":[],\"reviewResponse\":{\"message\":\"Hallo kak, mohon maaf untuk ketidaknyamanannya. Kami cek kakak kasih bintang 3 nih. Kakak dapat menghubungi kami melalui chat ya kak jika ada bisa kami bantu ya ^^ -YS\",\"createTime\":\"8 bulan lalu\",\"__typename\":\"reviewReviewResponsePDPType\"},\"user\":{\"userID\":\"0\",\"fullName\":\"w***a\",\"image\":\"https://images.tokopedia.net/img/cache/100-square/default_v3-usrnophoto.png\",\"url\":\"\",\"__typename\":\"reviewReviewUserPDPType\"},\"likeDislike\":{\"totalLike\":1,\"likeStatus\":0,\"__typename\":\"reviewLikeDislikePDPType\"},\"stats\":[],\"badRatingReasonFmt\":\"Kendala: Kualitas barang bermasalah\",\"__typename\":\"reviewListPDPType\"},{\"id\":\"693809011\",\"variantName\":\"XXL\",\"message\":\"Nyaman dipakai. Kualitas produk bagus. Warnanya mantap. Bahannya adem. Tidak menerawang. Modelnya keren 😎. Ukuran sesuai.\",\"productRating\":5,\"reviewCreateTime\":\"1655356026\",\"reviewCreateTimestamp\":\"Lebih dari 1 tahun lalu\",\"isReportable\":true,\"isAnonymous\":false,\"imageAttachments\":[{\"attachmentID\":\"77242962\",\"imageThumbnailUrl\":\"https://images.tokopedia.net/img/cache/200-square/bjFkPX/2022/6/16/c29b4152-2fcf-40c6-a7fd-a2b577e0d375.jpg\",\"imageUrl\":\"https://images.tokopedia.net/img/cache/600/bjFkPX/2022/6/16/c29b4152-2fcf-40c6-a7fd-a2b577e0d375.jpg\",\"__typename\":\"reviewAttachmentPDPType\"}],\"videoAttachments\":[],\"reviewResponse\":{\"message\":\"Terima kasih telah berbelanja di Erigo Official. Bagikan link toko kami https://www.tokopedia.com/erigo kepada teman-teman Anda dan favoritkan Toko kami untuk terus update mengenai stok dan produk terbaru\",\"createTime\":\"Lebih dari 1 tahun lalu\",\"__typename\":\"reviewReviewResponsePDPType\"},\"user\":{\"userID\":\"8981977\",\"fullName\":\"Naeni\",\"image\":\"https://accounts.tokopedia.com/image/v1/u/8981977/user_thumbnail/desktop\",\"url\":\"https://www.tokopedia.com/people/8981977\",\"__typename\":\"reviewReviewUserPDPType\"},\"likeDislike\":{\"totalLike\":0,\"likeStatus\":0,\"__typename\":\"reviewLikeDislikePDPType\"},\"stats\":[{\"key\":\"total-complete-review\",\"formatted\":\"54 ulasan lengkap\",\"count\":54,\"__typename\":\"reviewlistUserStatsType\"},{\"key\":\"total-likes\",\"formatted\":\"17 terbantu\",\"count\":17,\"__typename\":\"reviewlistUserStatsType\"}],\"badRatingReasonFmt\":\"\",\"__typename\":\"reviewListPDPType\"},{\"id\":\"1067285585\",\"variantName\":\"XXL\",\"message\":\"Ukurannya pas Tinggi badan 160 - 170 cm Berat badan \\u0026gt; 80 kg\",\"productRating\":5,\"reviewCreateTime\":\"1721294353\",\"reviewCreateTimestamp\":\"6 bulan lalu\",\"isReportable\":true,\"isAnonymous\":true,\"imageAttachments\":[{\"attachmentID\":\"129694398\",\"imageThumbnailUrl\":\"https://images.tokopedia.net/img/cache/200-square/bjFkPX/2024/7/18/22e0ecd0-e966-4cbf-a2f4-308a4e03080d.jpg\",\"imageUrl\":\"https://images.tokopedia.net/img/cache/600/bjFkPX/2024/7/18/22e0ecd0-e966-4cbf-a2f4-308a4e03080d.jpg\",\"__typename\":\"reviewAttachmentPDPType\"},{\"attachmentID\":\"129694399\",\"imageThumbnailUrl\":\"https://images.tokopedia.net/img/cache/200-square/bjFkPX/2024/7/18/be2bba5a-b436-4b02-853e-61340418df42.jpg\",\"imageUrl\":\"https://images.tokopedia.net/img/cache/600/bjFkPX/2024/7/18/be2bba5a-b436-4b02-853e-61340418df42.jpg\",\"__typename\":\"reviewAttachmentPDPType\"}],\"videoAttachments\":[],\"reviewResponse\":{\"message\":\"Terima kasih telah berbelanja di Erigo Official. Bagikan link toko kami https://www.tokopedia.com/erigo kepada teman-teman Anda dan favoritkan Toko kami untuk terus update mengenai stok dan produk terbaru\",\"createTime\":\"6 bulan lalu\",\"__typename\":\"reviewReviewResponsePDPType\"},\"user\":{\"userID\":\"0\",\"fullName\":\"D***i\",\"image\":\"https://images.tokopedia.net/img/cache/100-square/default_v3-usrnophoto.png\",\"url\":\"\",\"__typename\":\"reviewReviewUserPDPType\"},\"likeDislike\":{\"totalLike\":0,\"likeStatus\":0,\"__typename\":\"reviewLikeDislikePDPType\"},\"stats\":[],\"badRatingReasonFmt\":\"\",\"__typename\":\"reviewListPDPType\"},{\"id\":\"654066724\",\"variantName\":\"XXL\",\"message\":\"Barang tiba dengan selamat, nyaman digunakan, barang kualitas baik, pelayanan sangat memuaskan\",\"productRating\":5,\"reviewCreateTime\":\"1650577584\",\"reviewCreateTimestamp\":\"Lebih dari 1 tahun lalu\",\"isReportable\":true,\"isAnonymous\":false,\"imageAttachments\":[{\"attachmentID\":\"71642736\",\"imageThumbnailUrl\":\"https://images.tokopedia.net/img/cache/200-square/bjFkPX/2022/4/21/f3778131-a36e-4941-92b8-5e218f897fa8.jpg\",\"imageUrl\":\"https://images.tokopedia.net/img/cache/600/bjFkPX/2022/4/21/f3778131-a36e-4941-92b8-5e218f897fa8.jpg\",\"__typename\":\"reviewAttachmentPDPType\"}],\"videoAttachments\":[],\"reviewResponse\":{\"message\":\"Terima kasih telah berbelanja di Erigo Official. Bagikan link toko kami https://www.tokopedia.com/erigo kepada teman-teman Anda dan favoritkan Toko kami untuk terus update mengenai stok dan produk terbaru\",\"createTime\":\"Lebih dari 1 tahun lalu\",\"__typename\":\"reviewReviewResponsePDPType\"},\"user\":{\"userID\":\"3055249\",\"fullName\":\"Arnold\",\"image\":\"https://accounts.tokopedia.com/image/v1/u/3055249/user_thumbnail/desktop\",\"url\":\"https://www.tokopedia.com/people/3055249\",\"__typename\":\"reviewReviewUserPDPType\"},\"likeDislike\":{\"totalLike\":0,\"likeStatus\":0,\"__typename\":\"reviewLikeDislikePDPType\"},\"stats\":[{\"key\":\"total-complete-review\",\"formatted\":\"121 ulasan lengkap\",\"count\":121,\"__typename\":\"reviewlistUserStatsType\"},{\"key\":\"total-likes\",\"formatted\":\"33 terbantu\",\"count\":33,\"__typename\":\"reviewlistUserStatsType\"}],\"badRatingReasonFmt\":\"\",\"__typename\":\"reviewListPDPType\"},{\"id\":\"457563435\",\"variantName\":\"L\",\"message\":\"Barang Sampai Dengan Aman, Packing Ok, Proses Pengiriman Lumayan Cepat, Respon Seller Cepat Dan Ramah 👍, Barang Sesuai Pesanan, Kualitas Erigo Memang Mantap👍\",\"productRating\":5,\"reviewCreateTime\":\"1629488292\",\"reviewCreateTimestamp\":\"Lebih dari 1 tahun lalu\",\"isReportable\":true,\"isAnonymous\":false,\"imageAttachments\":[{\"attachmentID\":\"45334471\",\"imageThumbnailUrl\":\"https://images.tokopedia.net/img/cache/200-square/bjFkPX/2021/8/20/b23e0572-a928-4cea-a257-2cc68b2d4015.jpg\",\"imageUrl\":\"https://images.tokopedia.net/img/cache/600/bjFkPX/2021/8/20/b23e0572-a928-4cea-a257-2cc68b2d4015.jpg\",\"__typename\":\"reviewAttachmentPDPType\"}],\"videoAttachments\":[],\"reviewResponse\":{\"message\":\"Terima kasih telah berbelanja di Erigo Official. Bagikan link toko kami https://www.tokopedia.com/erigo kepada teman-teman Anda dan favoritkan Toko kami untuk terus update mengenai stok dan produk terbaru\",\"createTime\":\"Lebih dari 1 tahun lalu\",\"__typename\":\"reviewReviewResponsePDPType\"},\"user\":{\"userID\":\"144903102\",\"fullName\":\"Rifki\",\"image\":\"https://accounts.tokopedia.com/image/v1/u/144903102/user_thumbnail/desktop\",\"url\":\"https://www.tokopedia.com/people/144903102\",\"__typename\":\"reviewReviewUserPDPType\"},\"likeDislike\":{\"totalLike\":2,\"likeStatus\":0,\"__typename\":\"reviewLikeDislikePDPType\"},\"stats\":[{\"key\":\"total-likes\",\"formatted\":\"1 terbantu\",\"count\":1,\"__typename\":\"reviewlistUserStatsType\"}],\"badRatingReasonFmt\":\"\",\"__typename\":\"reviewListPDPType\"}],\"shop\":{\"shopID\":\"2397043\",\"name\":\"Erigo Official\",\"url\":\"https://www.tokopedia.com/erigo\",\"image\":\"https://images.tokopedia.net/img/cache/215-square/GAnVPX/2024/10/28/c05501e4-bd77-479d-98cc-cb4f229de57a.jpg\",\"__typename\":\"reviewShopPDPType\"},\"hasNext\":true,\"totalReviews\":626,\"__typename\":\"productrevGetProductReviewListType\"}}}]\n",
            "isi respon dari respc: [{\"data\":{\"productrevGetProductReviewList\":{\"productID\":\"1850459082\",\"list\":[{\"id\":\"739424241\",\"variantName\":\"L\",\"message\":\"Mantap sesuai dengan pesanan \\nMendaratnya juga cepat \\nBahannya bagus loh gampang di seterika juga \\nSuka banget sama brand Lokal yg 1 ini \\nBangga buatan Lokal \\nBanggan buatan Indonesia \\nThanks Tokopedia thanks sellernya juga \\nAdmin sellernya gercep\",\"productRating\":5,\"reviewCreateTime\":\"1661180580\",\"reviewCreateTimestamp\":\"Lebih dari 1 tahun lalu\",\"isReportable\":true,\"isAnonymous\":true,\"imageAttachments\":[{\"attachmentID\":\"83242093\",\"imageThumbnailUrl\":\"https://images.tokopedia.net/img/cache/200-square/bjFkPX/2022/8/22/6d89aabc-7773-4d89-ba73-9fd91721744d.jpg\",\"imageUrl\":\"https://images.tokopedia.net/img/cache/600/bjFkPX/2022/8/22/6d89aabc-7773-4d89-ba73-9fd91721744d.jpg\",\"__typename\":\"reviewAttachmentPDPType\"},{\"attachmentID\":\"83242094\",\"imageThumbnailUrl\":\"https://images.tokopedia.net/img/cache/200-square/bjFkPX/2022/8/22/ba86132e-990b-4bdb-9014-fd8d9ad01495.jpg\",\"imageUrl\":\"https://images.tokopedia.net/img/cache/600/bjFkPX/2022/8/22/ba86132e-990b-4bdb-9014-fd8d9ad01495.jpg\",\"__typename\":\"reviewAttachmentPDPType\"},{\"attachmentID\":\"83242095\",\"imageThumbnailUrl\":\"https://images.tokopedia.net/img/cache/200-square/bjFkPX/2022/8/22/8f07d63c-c1c3-4f5d-9759-762e90d901a3.jpg\",\"imageUrl\":\"https://images.tokopedia.net/img/cache/600/bjFkPX/2022/8/22/8f07d63c-c1c3-4f5d-9759-762e90d901a3.jpg\",\"__typename\":\"reviewAttachmentPDPType\"}],\"videoAttachments\":[{\"attachmentID\":\"83242096\",\"videoUrl\":\"https://vod-stream.tokopedia.net/view/adaptive.m3u8?id=2dc503e760824a7a87c7d74665c691e3\",\"__typename\":\"productrevVideoAttachmentPDPType\"}],\"reviewResponse\":{\"message\":\"Terima kasih telah berbelanja di Erigo Official. Bagikan link toko kami https://www.tokopedia.com/erigo kepada teman-teman Anda dan favoritkan Toko kami untuk terus update mengenai stok dan produk terbaru\",\"createTime\":\"Lebih dari 1 tahun lalu\",\"__typename\":\"reviewReviewResponsePDPType\"},\"user\":{\"userID\":\"0\",\"fullName\":\"W***u\",\"image\":\"https://images.tokopedia.net/img/cache/100-square/default_v3-usrnophoto.png\",\"url\":\"\",\"__typename\":\"reviewReviewUserPDPType\"},\"likeDislike\":{\"totalLike\":0,\"likeStatus\":0,\"__typename\":\"reviewLikeDislikePDPType\"},\"stats\":[],\"badRatingReasonFmt\":\"\",\"__typename\":\"reviewListPDPType\"},{\"id\":\"1140220489\",\"variantName\":\"Lavrenti White - XL\",\"message\":\"Keren abis sih ini, bahannya adem. Ukurannya juga pas, gak kegedean atau kekecilan. Pengirimannya cepet banget lagi 👍\",\"productRating\":5,\"reviewCreateTime\":\"1736291482\",\"reviewCreateTimestamp\":\"2 minggu lalu\",\"isReportable\":true,\"isAnonymous\":true,\"imageAttachments\":[{\"attachmentID\":\"143559247\",\"imageThumbnailUrl\":\"https://images.tokopedia.net/img/cache/200-square/bjFkPX/2025/1/7/77d671e5-7234-4c6e-8b4f-d5b5950a7857.jpg\",\"imageUrl\":\"https://images.tokopedia.net/img/cache/600/bjFkPX/2025/1/7/77d671e5-7234-4c6e-8b4f-d5b5950a7857.jpg\",\"__typename\":\"reviewAttachmentPDPType\"},{\"attachmentID\":\"143559248\",\"imageThumbnailUrl\":\"https://images.tokopedia.net/img/cache/200-square/bjFkPX/2025/1/7/a774f3fd-d928-4036-bcaf-64b851ecb0d1.jpg\",\"imageUrl\":\"https://images.tokopedia.net/img/cache/600/bjFkPX/2025/1/7/a774f3fd-d928-4036-bcaf-64b851ecb0d1.jpg\",\"__typename\":\"reviewAttachmentPDPType\"},{\"attachmentID\":\"143559249\",\"imageThumbnailUrl\":\"https://images.tokopedia.net/img/cache/200-square/bjFkPX/2025/1/7/205a2bfd-4939-4d5e-b52e-7f771e3a1fcb.jpg\",\"imageUrl\":\"https://images.tokopedia.net/img/cache/600/bjFkPX/2025/1/7/205a2bfd-4939-4d5e-b52e-7f771e3a1fcb.jpg\",\"__typename\":\"reviewAttachmentPDPType\"},{\"attachmentID\":\"143559250\",\"imageThumbnailUrl\":\"https://images.tokopedia.net/img/cache/200-square/bjFkPX/2025/1/7/9bb7d148-bb5f-404d-bab1-0c3e565d1121.jpg\",\"imageUrl\":\"https://images.tokopedia.net/img/cache/600/bjFkPX/2025/1/7/9bb7d148-bb5f-404d-bab1-0c3e565d1121.jpg\",\"__typename\":\"reviewAttachmentPDPType\"}],\"videoAttachments\":[{\"attachmentID\":\"143559251\",\"videoUrl\":\"https://vod-stream.tokopedia.net/view/adaptive.m3u8?id=1bde49d3-de08-45ab-aa89-e4afcdae0390\",\"__typename\":\"productrevVideoAttachmentPDPType\"}],\"reviewResponse\":{\"message\":\"Terima kasih telah berbelanja di Erigo Official. Bagikan link toko kami https://www.tokopedia.com/erigo kepada teman-teman Anda dan favoritkan Toko kami untuk terus update mengenai stok dan produk terbaru\",\"createTime\":\"2 minggu lalu\",\"__typename\":\"reviewReviewResponsePDPType\"},\"user\":{\"userID\":\"0\",\"fullName\":\"Z***n\",\"image\":\"https://images.tokopedia.net/img/cache/100-square/default_v3-usrnophoto.png\",\"url\":\"\",\"__typename\":\"reviewReviewUserPDPType\"},\"likeDislike\":{\"totalLike\":0,\"likeStatus\":0,\"__typename\":\"reviewLikeDislikePDPType\"},\"stats\":[],\"badRatingReasonFmt\":\"\",\"__typename\":\"reviewListPDPType\"},{\"id\":\"889078138\",\"variantName\":\"Quincy Green - XL\",\"message\":\"Bahan nyaman, warna bagus, model keren.. jahitan rapi, pengiriman baik.. hanya ketika chat bertanya2 nga ditanggepin karena harus sempat retur juga antara ukuran yg salah atau salah cetak ukuran sama mimin nya, distu saya ter-enyuh sampai batal otomatis padahal mau ganti barang. weww\",\"productRating\":3,\"reviewCreateTime\":\"1683923865\",\"reviewCreateTimestamp\":\"Lebih dari 1 tahun lalu\",\"isReportable\":true,\"isAnonymous\":true,\"imageAttachments\":[{\"attachmentID\":\"103863462\",\"imageThumbnailUrl\":\"https://images.tokopedia.net/img/cache/200-square/bjFkPX/2023/5/12/044754de-9434-4cf1-9f72-59c39412dcf1.jpg\",\"imageUrl\":\"https://images.tokopedia.net/img/cache/600/bjFkPX/2023/5/12/044754de-9434-4cf1-9f72-59c39412dcf1.jpg\",\"__typename\":\"reviewAttachmentPDPType\"},{\"attachmentID\":\"103863463\",\"imageThumbnailUrl\":\"https://images.tokopedia.net/img/cache/200-square/bjFkPX/2023/5/12/0214c4e0-69d6-44b2-8049-20552db89f66.jpg\",\"imageUrl\":\"https://images.tokopedia.net/img/cache/600/bjFkPX/2023/5/12/0214c4e0-69d6-44b2-8049-20552db89f66.jpg\",\"__typename\":\"reviewAttachmentPDPType\"},{\"attachmentID\":\"103863464\",\"imageThumbnailUrl\":\"https://images.tokopedia.net/img/cache/200-square/bjFkPX/2023/5/12/71fc9e2c-5a97-4fb5-9acf-b94f401690f9.jpg\",\"imageUrl\":\"https://images.tokopedia.net/img/cache/600/bjFkPX/2023/5/12/71fc9e2c-5a97-4fb5-9acf-b94f401690f9.jpg\",\"__typename\":\"reviewAttachmentPDPType\"}],\"videoAttachments\":[{\"attachmentID\":\"103863465\",\"videoUrl\":\"https://vod-stream.tokopedia.net/view/adaptive.m3u8?id=cb4f7bb0f0c971edbfd32680f9ea0102\",\"__typename\":\"productrevVideoAttachmentPDPType\"}],\"reviewResponse\":{\"message\":\"Hallo kak, pesanan kakak sudah sampai ya? Terima kasih sudah order yaa, Jika ada kendala pesanan atau pertanyaan seputar produk kami boleh banget chat kami ya kak :) -GMS\",\"createTime\":\"Lebih dari 1 tahun lalu\",\"__typename\":\"reviewReviewResponsePDPType\"},\"user\":{\"userID\":\"0\",\"fullName\":\"M***n\",\"image\":\"https://images.tokopedia.net/img/cache/100-square/default_v3-usrnophoto.png\",\"url\":\"\",\"__typename\":\"reviewReviewUserPDPType\"},\"likeDislike\":{\"totalLike\":0,\"likeStatus\":0,\"__typename\":\"reviewLikeDislikePDPType\"},\"stats\":[],\"badRatingReasonFmt\":\"Kendala: Pelayanan penjual kurang\",\"__typename\":\"reviewListPDPType\"},{\"id\":\"750807431\",\"variantName\":\"XXL\",\"message\":\"bahan bagus, lembut n nyaman, pengiriman aman dan kurir langganan, ramah, smoga awet ni dpakenya😄👍\",\"productRating\":5,\"reviewCreateTime\":\"1662672869\",\"reviewCreateTimestamp\":\"Lebih dari 1 tahun lalu\",\"isReportable\":true,\"isAnonymous\":true,\"imageAttachments\":[{\"attachmentID\":\"85153872\",\"imageThumbnailUrl\":\"https://images.tokopedia.net/img/cache/200-square/bjFkPX/2022/9/8/0a3ef162-8c08-4728-a7a3-d3f371b1d4d9.jpg\",\"imageUrl\":\"https://images.tokopedia.net/img/cache/600/bjFkPX/2022/9/8/0a3ef162-8c08-4728-a7a3-d3f371b1d4d9.jpg\",\"__typename\":\"reviewAttachmentPDPType\"},{\"attachmentID\":\"85153873\",\"imageThumbnailUrl\":\"https://images.tokopedia.net/img/cache/200-square/bjFkPX/2022/9/8/a3196f19-21a6-485f-9096-6de3b2046772.jpg\",\"imageUrl\":\"https://images.tokopedia.net/img/cache/600/bjFkPX/2022/9/8/a3196f19-21a6-485f-9096-6de3b2046772.jpg\",\"__typename\":\"reviewAttachmentPDPType\"}],\"videoAttachments\":[],\"reviewResponse\":{\"message\":\"Terima kasih telah berbelanja di Erigo Official. Bagikan link toko kami https://www.tokopedia.com/erigo kepada teman-teman Anda dan favoritkan Toko kami untuk terus update mengenai stok dan produk terbaru\",\"createTime\":\"Lebih dari 1 tahun lalu\",\"__typename\":\"reviewReviewResponsePDPType\"},\"user\":{\"userID\":\"0\",\"fullName\":\"A***i\",\"image\":\"https://images.tokopedia.net/img/cache/100-square/default_v3-usrnophoto.png\",\"url\":\"\",\"__typename\":\"reviewReviewUserPDPType\"},\"likeDislike\":{\"totalLike\":1,\"likeStatus\":0,\"__typename\":\"reviewLikeDislikePDPType\"},\"stats\":[],\"badRatingReasonFmt\":\"\",\"__typename\":\"reviewListPDPType\"},{\"id\":\"1081216483\",\"variantName\":\"Lavrenti White - L\",\"message\":\"Kemejanya nyaman dan adem, model cuttingannya slim fit. Kualitas mantap dengan harga segitu.\",\"productRating\":5,\"reviewCreateTime\":\"1724082385\",\"reviewCreateTimestamp\":\"5 bulan lalu\",\"isReportable\":true,\"isAnonymous\":true,\"imageAttachments\":[{\"attachmentID\":\"132074899\",\"imageThumbnailUrl\":\"https://images.tokopedia.net/img/cache/200-square/bjFkPX/2024/8/19/aa4b38e6-a055-4697-9e2d-e848fd3fbd3a.jpg\",\"imageUrl\":\"https://images.tokopedia.net/img/cache/600/bjFkPX/2024/8/19/aa4b38e6-a055-4697-9e2d-e848fd3fbd3a.jpg\",\"__typename\":\"reviewAttachmentPDPType\"},{\"attachmentID\":\"132074900\",\"imageThumbnailUrl\":\"https://images.tokopedia.net/img/cache/200-square/bjFkPX/2024/8/19/8ce6ea8b-a4c0-4595-ab1f-66d379e83986.jpg\",\"imageUrl\":\"https://images.tokopedia.net/img/cache/600/bjFkPX/2024/8/19/8ce6ea8b-a4c0-4595-ab1f-66d379e83986.jpg\",\"__typename\":\"reviewAttachmentPDPType\"}],\"videoAttachments\":[],\"reviewResponse\":{\"message\":\"Terima kasih telah berbelanja di Erigo Official. Bagikan link toko kami https://www.tokopedia.com/erigo kepada teman-teman Anda dan favoritkan Toko kami untuk terus update mengenai stok dan produk terbaru\",\"createTime\":\"5 bulan lalu\",\"__typename\":\"reviewReviewResponsePDPType\"},\"user\":{\"userID\":\"0\",\"fullName\":\"A***n\",\"image\":\"https://images.tokopedia.net/img/cache/100-square/default_v3-usrnophoto.png\",\"url\":\"\",\"__typename\":\"reviewReviewUserPDPType\"},\"likeDislike\":{\"totalLike\":1,\"likeStatus\":0,\"__typename\":\"reviewLikeDislikePDPType\"},\"stats\":[],\"badRatingReasonFmt\":\"\",\"__typename\":\"reviewListPDPType\"},{\"id\":\"900514723\",\"variantName\":\"\",\"message\":\"bahannya bagus, model lengannya agak pendek, cepat sampainya, Terimakasih\",\"productRating\":4,\"reviewCreateTime\":\"1686238951\",\"reviewCreateTimestamp\":\"Lebih dari 1 tahun lalu\",\"isReportable\":true,\"isAnonymous\":true,\"imageAttachments\":[{\"attachmentID\":\"105608600\",\"imageThumbnailUrl\":\"https://images.tokopedia.net/img/cache/200-square/bjFkPX/2023/6/8/f66429de-93c9-4df1-8d75-baf7744b2321.jpg\",\"imageUrl\":\"https://images.tokopedia.net/img/cache/600/bjFkPX/2023/6/8/f66429de-93c9-4df1-8d75-baf7744b2321.jpg\",\"__typename\":\"reviewAttachmentPDPType\"},{\"attachmentID\":\"105608601\",\"imageThumbnailUrl\":\"https://images.tokopedia.net/img/cache/200-square/bjFkPX/2023/6/8/20ee3d67-eb90-4389-8fb9-47b8fe02adb3.jpg\",\"imageUrl\":\"https://images.tokopedia.net/img/cache/600/bjFkPX/2023/6/8/20ee3d67-eb90-4389-8fb9-47b8fe02adb3.jpg\",\"__typename\":\"reviewAttachmentPDPType\"}],\"videoAttachments\":[],\"reviewResponse\":{\"message\":\"Terima kasih telah berbelanja di Erigo Official. Bagikan link toko kami https://www.tokopedia.com/erigo kepada teman-teman Anda dan favoritkan Toko kami untuk terus update mengenai stok dan produk terbaru\",\"createTime\":\"Lebih dari 1 tahun lalu\",\"__typename\":\"reviewReviewResponsePDPType\"},\"user\":{\"userID\":\"0\",\"fullName\":\"F***i\",\"image\":\"https://images.tokopedia.net/img/cache/100-square/default_v3-usrnophoto.png\",\"url\":\"\",\"__typename\":\"reviewReviewUserPDPType\"},\"likeDislike\":{\"totalLike\":1,\"likeStatus\":0,\"__typename\":\"reviewLikeDislikePDPType\"},\"stats\":[],\"badRatingReasonFmt\":\"\",\"__typename\":\"reviewListPDPType\"},{\"id\":\"892711272\",\"variantName\":\"Lavrenti White - XL\",\"message\":\"Bahan baju rayon adem, instruksi utk upsize tepatt, lebih cocok dipake jalan, desain baju baikk, pengiriman regulernya cepat. terima kasih!\",\"productRating\":5,\"reviewCreateTime\":\"1684668615\",\"reviewCreateTimestamp\":\"Lebih dari 1 tahun lalu\",\"isReportable\":true,\"isAnonymous\":false,\"imageAttachments\":[{\"attachmentID\":\"104346826\",\"imageThumbnailUrl\":\"https://images.tokopedia.net/img/cache/200-square/bjFkPX/2023/5/21/ac022a97-576f-4efb-af86-8b5726e37d9b.jpg\",\"imageUrl\":\"https://images.tokopedia.net/img/cache/600/bjFkPX/2023/5/21/ac022a97-576f-4efb-af86-8b5726e37d9b.jpg\",\"__typename\":\"reviewAttachmentPDPType\"},{\"attachmentID\":\"104346827\",\"imageThumbnailUrl\":\"https://images.tokopedia.net/img/cache/200-square/bjFkPX/2023/5/21/dd0cb97a-e265-4d41-a591-fc989bd47572.jpg\",\"imageUrl\":\"https://images.tokopedia.net/img/cache/600/bjFkPX/2023/5/21/dd0cb97a-e265-4d41-a591-fc989bd47572.jpg\",\"__typename\":\"reviewAttachmentPDPType\"}],\"videoAttachments\":[],\"reviewResponse\":{\"message\":\"Terima kasih telah berbelanja di Erigo Official. Bagikan link toko kami https://www.tokopedia.com/erigo kepada teman-teman Anda dan favoritkan Toko kami untuk terus update mengenai stok dan produk terbaru\",\"createTime\":\"Lebih dari 1 tahun lalu\",\"__typename\":\"reviewReviewResponsePDPType\"},\"user\":{\"userID\":\"8150968\",\"fullName\":\"Rendy\",\"image\":\"https://accounts.tokopedia.com/image/v1/u/8150968/user_thumbnail/desktop\",\"url\":\"https://www.tokopedia.com/people/8150968\",\"__typename\":\"reviewReviewUserPDPType\"},\"likeDislike\":{\"totalLike\":0,\"likeStatus\":0,\"__typename\":\"reviewLikeDislikePDPType\"},\"stats\":[{\"key\":\"total-complete-review\",\"formatted\":\"7 ulasan lengkap\",\"count\":7,\"__typename\":\"reviewlistUserStatsType\"},{\"key\":\"total-likes\",\"formatted\":\"3 terbantu\",\"count\":3,\"__typename\":\"reviewlistUserStatsType\"}],\"badRatingReasonFmt\":\"\",\"__typename\":\"reviewListPDPType\"},{\"id\":\"819115267\",\"variantName\":\"L\",\"message\":\"dikemasnya bagus banget \\u0026amp; bahan yang dipakai Erigo selalu mantap...!!! ukurannya pass \\u0026amp; saran bagi yang badannya gak terlalu besar pilih L aja tapi kalau ngerasa badannya udah agak besar cus pilih yang XL aja. terima kasih Erigo\",\"productRating\":5,\"reviewCreateTime\":\"1672238508\",\"reviewCreateTimestamp\":\"Lebih dari 1 tahun lalu\",\"isReportable\":true,\"isAnonymous\":true,\"imageAttachments\":[{\"attachmentID\":\"94570570\",\"imageThumbnailUrl\":\"https://images.tokopedia.net/img/cache/200-square/bjFkPX/2022/12/28/fffa0610-1881-4276-9142-afc8281fdd75.jpg\",\"imageUrl\":\"https://images.tokopedia.net/img/cache/600/bjFkPX/2022/12/28/fffa0610-1881-4276-9142-afc8281fdd75.jpg\",\"__typename\":\"reviewAttachmentPDPType\"},{\"attachmentID\":\"94570571\",\"imageThumbnailUrl\":\"https://images.tokopedia.net/img/cache/200-square/bjFkPX/2022/12/28/f7a12aa1-3075-4d7b-9df2-85433f355b61.jpg\",\"imageUrl\":\"https://images.tokopedia.net/img/cache/600/bjFkPX/2022/12/28/f7a12aa1-3075-4d7b-9df2-85433f355b61.jpg\",\"__typename\":\"reviewAttachmentPDPType\"}],\"videoAttachments\":[],\"reviewResponse\":{\"message\":\"Terima kasih telah berbelanja di Erigo Official. Bagikan link toko kami https://www.tokopedia.com/erigo kepada teman-teman Anda dan favoritkan Toko kami untuk terus update mengenai stok dan produk terbaru\",\"createTime\":\"Lebih dari 1 tahun lalu\",\"__typename\":\"reviewReviewResponsePDPType\"},\"user\":{\"userID\":\"0\",\"fullName\":\"R***s\",\"image\":\"https://images.tokopedia.net/img/cache/100-square/default_v3-usrnophoto.png\",\"url\":\"\",\"__typename\":\"reviewReviewUserPDPType\"},\"likeDislike\":{\"totalLike\":0,\"likeStatus\":0,\"__typename\":\"reviewLikeDislikePDPType\"},\"stats\":[],\"badRatingReasonFmt\":\"\",\"__typename\":\"reviewListPDPType\"},{\"id\":\"447818215\",\"variantName\":\"S\",\"message\":\"pengiriman cepat.\\npackaging aman.\\nBahan kemejanya adem dan nyerap keringat.\",\"productRating\":5,\"reviewCreateTime\":\"1628436575\",\"reviewCreateTimestamp\":\"Lebih dari 1 tahun lalu\",\"isReportable\":true,\"isAnonymous\":true,\"imageAttachments\":[{\"attachmentID\":\"44221243\",\"imageThumbnailUrl\":\"https://images.tokopedia.net/img/cache/200-square/bjFkPX/2021/8/8/361651e2-601a-4984-9df5-c8c71e3d4839.jpg\",\"imageUrl\":\"https://images.tokopedia.net/img/cache/600/bjFkPX/2021/8/8/361651e2-601a-4984-9df5-c8c71e3d4839.jpg\",\"__typename\":\"reviewAttachmentPDPType\"},{\"attachmentID\":\"44221244\",\"imageThumbnailUrl\":\"https://images.tokopedia.net/img/cache/200-square/bjFkPX/2021/8/8/1bb5748b-d939-487b-b275-125b623b34c4.jpg\",\"imageUrl\":\"https://images.tokopedia.net/img/cache/600/bjFkPX/2021/8/8/1bb5748b-d939-487b-b275-125b623b34c4.jpg\",\"__typename\":\"reviewAttachmentPDPType\"}],\"videoAttachments\":[],\"reviewResponse\":{\"message\":\"Terima kasih telah berbelanja di Erigo Official. Bagikan link toko kami https://www.tokopedia.com/erigo kepada teman-teman Anda dan favoritkan Toko kami untuk terus update mengenai stok dan produk terbaru\",\"createTime\":\"Lebih dari 1 tahun lalu\",\"__typename\":\"reviewReviewResponsePDPType\"},\"user\":{\"userID\":\"0\",\"fullName\":\"c***e\",\"image\":\"https://images.tokopedia.net/img/cache/100-square/default_v3-usrnophoto.png\",\"url\":\"\",\"__typename\":\"reviewReviewUserPDPType\"},\"likeDislike\":{\"totalLike\":0,\"likeStatus\":0,\"__typename\":\"reviewLikeDislikePDPType\"},\"stats\":[],\"badRatingReasonFmt\":\"\",\"__typename\":\"reviewListPDPType\"},{\"id\":\"893898973\",\"variantName\":\"Cochise L Brown - XL\",\"message\":\"Mantul, kegedean dikit, tapi kalo di foto pas. Tapi labelnya bikin punggung kurang nyaman.\",\"productRating\":5,\"reviewCreateTime\":\"1684926849\",\"reviewCreateTimestamp\":\"Lebih dari 1 tahun lalu\",\"isReportable\":true,\"isAnonymous\":true,\"imageAttachments\":[{\"attachmentID\":\"104526589\",\"imageThumbnailUrl\":\"https://images.tokopedia.net/img/cache/200-square/bjFkPX/2023/5/24/ca419679-cd10-4364-bcc3-a06043bc9891.jpg\",\"imageUrl\":\"https://images.tokopedia.net/img/cache/600/bjFkPX/2023/5/24/ca419679-cd10-4364-bcc3-a06043bc9891.jpg\",\"__typename\":\"reviewAttachmentPDPType\"},{\"attachmentID\":\"105478317\",\"imageThumbnailUrl\":\"https://images.tokopedia.net/img/cache/200-square/bjFkPX/2023/6/6/5c8dc395-d5c8-48e0-8d35-4a9844169461.jpg\",\"imageUrl\":\"https://images.tokopedia.net/img/cache/600/bjFkPX/2023/6/6/5c8dc395-d5c8-48e0-8d35-4a9844169461.jpg\",\"__typename\":\"reviewAttachmentPDPType\"}],\"videoAttachments\":[],\"reviewResponse\":{\"message\":\"Terima kasih telah berbelanja di Erigo Official. Bagikan link toko kami https://www.tokopedia.com/erigo kepada teman-teman Anda dan favoritkan Toko kami untuk terus update mengenai stok dan produk terbaru\",\"createTime\":\"Lebih dari 1 tahun lalu\",\"__typename\":\"reviewReviewResponsePDPType\"},\"user\":{\"userID\":\"0\",\"fullName\":\"A***a\",\"image\":\"https://images.tokopedia.net/img/cache/100-square/default_v3-usrnophoto.png\",\"url\":\"\",\"__typename\":\"reviewReviewUserPDPType\"},\"likeDislike\":{\"totalLike\":0,\"likeStatus\":0,\"__typename\":\"reviewLikeDislikePDPType\"},\"stats\":[],\"badRatingReasonFmt\":\"\",\"__typename\":\"reviewListPDPType\"}],\"shop\":{\"shopID\":\"2397043\",\"name\":\"Erigo Official\",\"url\":\"https://www.tokopedia.com/erigo\",\"image\":\"https://images.tokopedia.net/img/cache/215-square/GAnVPX/2024/10/28/c05501e4-bd77-479d-98cc-cb4f229de57a.jpg\",\"__typename\":\"reviewShopPDPType\"},\"hasNext\":true,\"totalReviews\":364,\"__typename\":\"productrevGetProductReviewListType\"}}}]\n",
            "isi respon dari respd: [{\"data\":{\"productrevGetProductReviewList\":{\"productID\":\"1624323500\",\"list\":[{\"id\":\"814074612\",\"variantName\":\"M\",\"message\":\"Kemejanya bagus. Bahannya adem, tidak mudah kusut dan terlihat premium. good.\",\"productRating\":5,\"reviewCreateTime\":\"1671474462\",\"reviewCreateTimestamp\":\"Lebih dari 1 tahun lalu\",\"isReportable\":true,\"isAnonymous\":false,\"imageAttachments\":[{\"attachmentID\":\"93901884\",\"imageThumbnailUrl\":\"https://images.tokopedia.net/img/cache/200-square/bjFkPX/2022/12/19/f4d074a0-79fb-4e33-962b-e250dccf4b0d.jpg\",\"imageUrl\":\"https://images.tokopedia.net/img/cache/600/bjFkPX/2022/12/19/f4d074a0-79fb-4e33-962b-e250dccf4b0d.jpg\",\"__typename\":\"reviewAttachmentPDPType\"},{\"attachmentID\":\"93901885\",\"imageThumbnailUrl\":\"https://images.tokopedia.net/img/cache/200-square/bjFkPX/2022/12/19/d0b42161-1319-4f04-ada7-e369831af04a.jpg\",\"imageUrl\":\"https://images.tokopedia.net/img/cache/600/bjFkPX/2022/12/19/d0b42161-1319-4f04-ada7-e369831af04a.jpg\",\"__typename\":\"reviewAttachmentPDPType\"}],\"videoAttachments\":[],\"reviewResponse\":{\"message\":\"Terima kasih telah berbelanja di Erigo Official. Bagikan link toko kami https://www.tokopedia.com/erigo kepada teman-teman Anda dan favoritkan Toko kami untuk terus update mengenai stok dan produk terbaru\",\"createTime\":\"Lebih dari 1 tahun lalu\",\"__typename\":\"reviewReviewResponsePDPType\"},\"user\":{\"userID\":\"17994500\",\"fullName\":\"Hendri\",\"image\":\"https://accounts.tokopedia.com/image/v1/u/17994500/user_thumbnail/desktop\",\"url\":\"https://www.tokopedia.com/people/17994500\",\"__typename\":\"reviewReviewUserPDPType\"},\"likeDislike\":{\"totalLike\":0,\"likeStatus\":0,\"__typename\":\"reviewLikeDislikePDPType\"},\"stats\":[{\"key\":\"total-complete-review\",\"formatted\":\"90 ulasan lengkap\",\"count\":90,\"__typename\":\"reviewlistUserStatsType\"},{\"key\":\"total-likes\",\"formatted\":\"43 terbantu\",\"count\":43,\"__typename\":\"reviewlistUserStatsType\"}],\"badRatingReasonFmt\":\"\",\"__typename\":\"reviewListPDPType\"},{\"id\":\"1001653335\",\"variantName\":\"M\",\"message\":\"M size luar ternyata, agak kebesaran di saya..\",\"productRating\":5,\"reviewCreateTime\":\"1707784059\",\"reviewCreateTimestamp\":\"11 bulan lalu\",\"isReportable\":true,\"isAnonymous\":true,\"imageAttachments\":[{\"attachmentID\":\"119224513\",\"imageThumbnailUrl\":\"https://images.tokopedia.net/img/cache/200-square/bjFkPX/2024/2/13/6390dc88-76ce-4b27-be0c-c577205ab84d.jpg\",\"imageUrl\":\"https://images.tokopedia.net/img/cache/600/bjFkPX/2024/2/13/6390dc88-76ce-4b27-be0c-c577205ab84d.jpg\",\"__typename\":\"reviewAttachmentPDPType\"},{\"attachmentID\":\"119224514\",\"imageThumbnailUrl\":\"https://images.tokopedia.net/img/cache/200-square/bjFkPX/2024/2/13/452a7eff-cbfb-4e90-aef3-e4841b94e747.jpg\",\"imageUrl\":\"https://images.tokopedia.net/img/cache/600/bjFkPX/2024/2/13/452a7eff-cbfb-4e90-aef3-e4841b94e747.jpg\",\"__typename\":\"reviewAttachmentPDPType\"},{\"attachmentID\":\"119224515\",\"imageThumbnailUrl\":\"https://images.tokopedia.net/img/cache/200-square/bjFkPX/2024/2/13/59d34554-6ceb-4db9-9887-df58d058c983.jpg\",\"imageUrl\":\"https://images.tokopedia.net/img/cache/600/bjFkPX/2024/2/13/59d34554-6ceb-4db9-9887-df58d058c983.jpg\",\"__typename\":\"reviewAttachmentPDPType\"},{\"attachmentID\":\"119224516\",\"imageThumbnailUrl\":\"https://images.tokopedia.net/img/cache/200-square/bjFkPX/2024/2/13/b407e6b2-3f1d-4571-b329-ea12cf5dc7df.jpg\",\"imageUrl\":\"https://images.tokopedia.net/img/cache/600/bjFkPX/2024/2/13/b407e6b2-3f1d-4571-b329-ea12cf5dc7df.jpg\",\"__typename\":\"reviewAttachmentPDPType\"}],\"videoAttachments\":[],\"reviewResponse\":{\"message\":\"Terima kasih telah berbelanja di Erigo Official. Bagikan link toko kami https://www.tokopedia.com/erigo kepada teman-teman Anda dan favoritkan Toko kami untuk terus update mengenai stok dan produk terbaru\",\"createTime\":\"11 bulan lalu\",\"__typename\":\"reviewReviewResponsePDPType\"},\"user\":{\"userID\":\"0\",\"fullName\":\"m***a\",\"image\":\"https://images.tokopedia.net/img/cache/100-square/default_v3-usrnophoto.png\",\"url\":\"\",\"__typename\":\"reviewReviewUserPDPType\"},\"likeDislike\":{\"totalLike\":0,\"likeStatus\":0,\"__typename\":\"reviewLikeDislikePDPType\"},\"stats\":[],\"badRatingReasonFmt\":\"\",\"__typename\":\"reviewListPDPType\"},{\"id\":\"930175898\",\"variantName\":\"M\",\"message\":\"bahannya tipis, licin dan halus, sangat cocok buat yg berbadan langsing (alias perut kecil)\",\"productRating\":5,\"reviewCreateTime\":\"1692626251\",\"reviewCreateTimestamp\":\"Lebih dari 1 tahun lalu\",\"isReportable\":true,\"isAnonymous\":true,\"imageAttachments\":[{\"attachmentID\":\"109781493\",\"imageThumbnailUrl\":\"https://images.tokopedia.net/img/cache/200-square/bjFkPX/2023/8/21/3c3b55cc-a0e0-467c-8d17-480f771f4499.jpg\",\"imageUrl\":\"https://images.tokopedia.net/img/cache/600/bjFkPX/2023/8/21/3c3b55cc-a0e0-467c-8d17-480f771f4499.jpg\",\"__typename\":\"reviewAttachmentPDPType\"}],\"videoAttachments\":[],\"reviewResponse\":{\"message\":\"Terima kasih telah berbelanja di Erigo Official. Bagikan link toko kami https://www.tokopedia.com/erigo kepada teman-teman Anda dan favoritkan Toko kami untuk terus update mengenai stok dan produk terbaru\",\"createTime\":\"Lebih dari 1 tahun lalu\",\"__typename\":\"reviewReviewResponsePDPType\"},\"user\":{\"userID\":\"0\",\"fullName\":\"G***x\",\"image\":\"https://images.tokopedia.net/img/cache/100-square/default_v3-usrnophoto.png\",\"url\":\"\",\"__typename\":\"reviewReviewUserPDPType\"},\"likeDislike\":{\"totalLike\":1,\"likeStatus\":0,\"__typename\":\"reviewLikeDislikePDPType\"},\"stats\":[],\"badRatingReasonFmt\":\"\",\"__typename\":\"reviewListPDPType\"},{\"id\":\"644380476\",\"variantName\":\"XL\",\"message\":\"Kualitas produk bagus. Nyaman dipakai. Ukuran sesuai. Modelnya keren 😎. Bahannya adem.\",\"productRating\":5,\"reviewCreateTime\":\"1649598480\",\"reviewCreateTimestamp\":\"Lebih dari 1 tahun lalu\",\"isReportable\":true,\"isAnonymous\":false,\"imageAttachments\":[{\"attachmentID\":\"70268612\",\"imageThumbnailUrl\":\"https://images.tokopedia.net/img/cache/200-square/bjFkPX/2022/4/10/a7ceb649-dbf8-4b9b-a006-92b2df422127.jpg\",\"imageUrl\":\"https://images.tokopedia.net/img/cache/600/bjFkPX/2022/4/10/a7ceb649-dbf8-4b9b-a006-92b2df422127.jpg\",\"__typename\":\"reviewAttachmentPDPType\"}],\"videoAttachments\":[],\"reviewResponse\":{\"message\":\"Terima kasih telah berbelanja di Erigo Official. Bagikan link toko kami https://www.tokopedia.com/erigo kepada teman-teman Anda dan favoritkan Toko kami untuk terus update mengenai stok dan produk terbaru\",\"createTime\":\"Lebih dari 1 tahun lalu\",\"__typename\":\"reviewReviewResponsePDPType\"},\"user\":{\"userID\":\"18003651\",\"fullName\":\"Abdul\",\"image\":\"https://accounts.tokopedia.com/image/v1/u/18003651/user_thumbnail/desktop\",\"url\":\"https://www.tokopedia.com/people/18003651\",\"__typename\":\"reviewReviewUserPDPType\"},\"likeDislike\":{\"totalLike\":0,\"likeStatus\":0,\"__typename\":\"reviewLikeDislikePDPType\"},\"stats\":[{\"key\":\"total-complete-review\",\"formatted\":\"3 ulasan lengkap\",\"count\":3,\"__typename\":\"reviewlistUserStatsType\"}],\"badRatingReasonFmt\":\"\",\"__typename\":\"reviewListPDPType\"},{\"id\":\"453102238\",\"variantName\":\"L\",\"message\":\"fast respon dan pengiriman barang tiba sampai ke pelanggan nya cepat. Bahan kemeja nya adem di pakai dan nyaman\",\"productRating\":5,\"reviewCreateTime\":\"1629022014\",\"reviewCreateTimestamp\":\"Lebih dari 1 tahun lalu\",\"isReportable\":true,\"isAnonymous\":true,\"imageAttachments\":[{\"attachmentID\":\"44812045\",\"imageThumbnailUrl\":\"https://images.tokopedia.net/img/cache/200-square/bjFkPX/2021/8/15/7ff2d928-7d80-4a65-a4f5-fec067e458fd.jpg\",\"imageUrl\":\"https://images.tokopedia.net/img/cache/600/bjFkPX/2021/8/15/7ff2d928-7d80-4a65-a4f5-fec067e458fd.jpg\",\"__typename\":\"reviewAttachmentPDPType\"}],\"videoAttachments\":[],\"reviewResponse\":{\"message\":\"Terima kasih telah berbelanja di Erigo Official. Bagikan link toko kami https://www.tokopedia.com/erigo kepada teman-teman Anda dan favoritkan Toko kami untuk terus update mengenai stok dan produk terbaru\",\"createTime\":\"Lebih dari 1 tahun lalu\",\"__typename\":\"reviewReviewResponsePDPType\"},\"user\":{\"userID\":\"0\",\"fullName\":\"V***a\",\"image\":\"https://images.tokopedia.net/img/cache/100-square/default_v3-usrnophoto.png\",\"url\":\"\",\"__typename\":\"reviewReviewUserPDPType\"},\"likeDislike\":{\"totalLike\":0,\"likeStatus\":0,\"__typename\":\"reviewLikeDislikePDPType\"},\"stats\":[],\"badRatingReasonFmt\":\"\",\"__typename\":\"reviewListPDPType\"},{\"id\":\"736702413\",\"variantName\":\"M\",\"message\":\"Bahannya gk terlalu tebel, adem, nyaman dipake.\",\"productRating\":5,\"reviewCreateTime\":\"1660771887\",\"reviewCreateTimestamp\":\"Lebih dari 1 tahun lalu\",\"isReportable\":true,\"isAnonymous\":false,\"imageAttachments\":[{\"attachmentID\":\"82791562\",\"imageThumbnailUrl\":\"https://images.tokopedia.net/img/cache/200-square/bjFkPX/2022/8/17/b15eaeea-1c19-46c8-907f-d076c308aae0.jpg\",\"imageUrl\":\"https://images.tokopedia.net/img/cache/600/bjFkPX/2022/8/17/b15eaeea-1c19-46c8-907f-d076c308aae0.jpg\",\"__typename\":\"reviewAttachmentPDPType\"}],\"videoAttachments\":[],\"reviewResponse\":{\"message\":\"Terima kasih telah berbelanja di Erigo Official. Bagikan link toko kami https://www.tokopedia.com/erigo kepada teman-teman Anda dan favoritkan Toko kami untuk terus update mengenai stok dan produk terbaru\",\"createTime\":\"Lebih dari 1 tahun lalu\",\"__typename\":\"reviewReviewResponsePDPType\"},\"user\":{\"userID\":\"154941880\",\"fullName\":\"alkuinb\",\"image\":\"https://accounts.tokopedia.com/image/v1/u/154941880/user_thumbnail/desktop\",\"url\":\"https://www.tokopedia.com/people/154941880\",\"__typename\":\"reviewReviewUserPDPType\"},\"likeDislike\":{\"totalLike\":0,\"likeStatus\":0,\"__typename\":\"reviewLikeDislikePDPType\"},\"stats\":[{\"key\":\"total-complete-review\",\"formatted\":\"2 ulasan lengkap\",\"count\":2,\"__typename\":\"reviewlistUserStatsType\"},{\"key\":\"total-likes\",\"formatted\":\"5 terbantu\",\"count\":5,\"__typename\":\"reviewlistUserStatsType\"}],\"badRatingReasonFmt\":\"\",\"__typename\":\"reviewListPDPType\"},{\"id\":\"1001374457\",\"variantName\":\"M\",\"message\":\"Tinggi badan 160 - 170 cm Berat badan \\u0026lt; 60 kg Ukurannya terlalu besar kalau mau fit oversized bagus cuman saya sendiri lebih suka fit yang pas\",\"productRating\":5,\"reviewCreateTime\":\"1707736019\",\"reviewCreateTimestamp\":\"11 bulan lalu\",\"isReportable\":true,\"isAnonymous\":false,\"imageAttachments\":[{\"attachmentID\":\"119188373\",\"imageThumbnailUrl\":\"https://images.tokopedia.net/img/cache/200-square/bjFkPX/2024/2/12/9ac32d9b-0daa-49eb-af03-88ebbc01db71.jpg\",\"imageUrl\":\"https://images.tokopedia.net/img/cache/600/bjFkPX/2024/2/12/9ac32d9b-0daa-49eb-af03-88ebbc01db71.jpg\",\"__typename\":\"reviewAttachmentPDPType\"}],\"videoAttachments\":[],\"reviewResponse\":{\"message\":\"Terima kasih telah berbelanja di Erigo Official. Bagikan link toko kami https://www.tokopedia.com/erigo kepada teman-teman Anda dan favoritkan Toko kami untuk terus update mengenai stok dan produk terbaru\",\"createTime\":\"11 bulan lalu\",\"__typename\":\"reviewReviewResponsePDPType\"},\"user\":{\"userID\":\"64477656\",\"fullName\":\"Kevin\",\"image\":\"https://accounts.tokopedia.com/image/v1/u/64477656/user_thumbnail/desktop\",\"url\":\"https://www.tokopedia.com/people/64477656\",\"__typename\":\"reviewReviewUserPDPType\"},\"likeDislike\":{\"totalLike\":0,\"likeStatus\":0,\"__typename\":\"reviewLikeDislikePDPType\"},\"stats\":[{\"key\":\"total-complete-review\",\"formatted\":\"6 ulasan lengkap\",\"count\":6,\"__typename\":\"reviewlistUserStatsType\"},{\"key\":\"total-likes\",\"formatted\":\"2 terbantu\",\"count\":2,\"__typename\":\"reviewlistUserStatsType\"}],\"badRatingReasonFmt\":\"\",\"__typename\":\"reviewListPDPType\"},{\"id\":\"828338524\",\"variantName\":\"XXL\",\"message\":\"saya liat di deskripsi, \\nsoal bahan nya bisa menyusut. \\ndi sarankan utk beli 1 size diatas nya. \\nsaya mau nya pake lebar baju 52cm.\\njd sy beli yg lebar 54cm yaitu XXL. \\nsampe saya chat seller nya. \\nkatanya emang bener sesuai di deskripsi. \\npas baju nya datang ukuran XXL ter yata lebar nya 63cm.\\nbayangin aja, apakah lebar 63cm bs menyusut jd 52cm ngga yah? \\nkalo sampe bisa, kayaknya itu bahan kain sih keterlaluan jelek nya. \\njd inti nya sy jd salah beli ukuran, \\ngara2 baca deskripsi baju ini. \\nberarti info nya tidak akurat\",\"productRating\":2,\"reviewCreateTime\":\"1673548942\",\"reviewCreateTimestamp\":\"Lebih dari 1 tahun lalu\",\"isReportable\":true,\"isAnonymous\":false,\"imageAttachments\":[{\"attachmentID\":\"95840086\",\"imageThumbnailUrl\":\"https://images.tokopedia.net/img/cache/200-square/bjFkPX/2023/1/12/d9a13fad-dacd-4b02-8c34-e4afc97fd797.jpg\",\"imageUrl\":\"https://images.tokopedia.net/img/cache/600/bjFkPX/2023/1/12/d9a13fad-dacd-4b02-8c34-e4afc97fd797.jpg\",\"__typename\":\"reviewAttachmentPDPType\"},{\"attachmentID\":\"95840087\",\"imageThumbnailUrl\":\"https://images.tokopedia.net/img/cache/200-square/bjFkPX/2023/1/12/642078a4-12ff-469b-a5f1-8775a6d4a749.jpg\",\"imageUrl\":\"https://images.tokopedia.net/img/cache/600/bjFkPX/2023/1/12/642078a4-12ff-469b-a5f1-8775a6d4a749.jpg\",\"__typename\":\"reviewAttachmentPDPType\"}],\"videoAttachments\":[],\"reviewResponse\":{\"message\":\"Hallo kak, pesanan kakak sudah sampai ya? Terima kasih sudah order yaa, Jika ada kendala pesanan atau pertanyaan seputar produk kami boleh banget chat kami ya kak :) -AT\",\"createTime\":\"Lebih dari 1 tahun lalu\",\"__typename\":\"reviewReviewResponsePDPType\"},\"user\":{\"userID\":\"5328191\",\"fullName\":\"Yandi\",\"image\":\"https://accounts.tokopedia.com/image/v1/u/5328191/user_thumbnail/desktop\",\"url\":\"https://www.tokopedia.com/people/5328191\",\"__typename\":\"reviewReviewUserPDPType\"},\"likeDislike\":{\"totalLike\":2,\"likeStatus\":0,\"__typename\":\"reviewLikeDislikePDPType\"},\"stats\":[{\"key\":\"total-complete-review\",\"formatted\":\"114 ulasan lengkap\",\"count\":114,\"__typename\":\"reviewlistUserStatsType\"},{\"key\":\"total-likes\",\"formatted\":\"47 terbantu\",\"count\":47,\"__typename\":\"reviewlistUserStatsType\"}],\"badRatingReasonFmt\":\"Kendala: Kualitas barang bermasalah\",\"__typename\":\"reviewListPDPType\"},{\"id\":\"763729952\",\"variantName\":\"M\",\"message\":\"Modelnya Keren, Bahan Adem, Cocok Untuk Harian.\",\"productRating\":5,\"reviewCreateTime\":\"1664477112\",\"reviewCreateTimestamp\":\"Lebih dari 1 tahun lalu\",\"isReportable\":true,\"isAnonymous\":false,\"imageAttachments\":[{\"attachmentID\":\"87122655\",\"imageThumbnailUrl\":\"https://images.tokopedia.net/img/cache/200-square/bjFkPX/2022/9/29/9643d281-9b79-4e86-8225-7eac2114f471.jpg\",\"imageUrl\":\"https://images.tokopedia.net/img/cache/600/bjFkPX/2022/9/29/9643d281-9b79-4e86-8225-7eac2114f471.jpg\",\"__typename\":\"reviewAttachmentPDPType\"}],\"videoAttachments\":[],\"reviewResponse\":{\"message\":\"Terima kasih telah berbelanja di Erigo Official. Bagikan link toko kami https://www.tokopedia.com/erigo kepada teman-teman Anda dan favoritkan Toko kami untuk terus update mengenai stok dan produk terbaru\",\"createTime\":\"Lebih dari 1 tahun lalu\",\"__typename\":\"reviewReviewResponsePDPType\"},\"user\":{\"userID\":\"4268709\",\"fullName\":\"Yupiter\",\"image\":\"https://accounts.tokopedia.com/image/v1/u/4268709/user_thumbnail/desktop\",\"url\":\"https://www.tokopedia.com/people/4268709\",\"__typename\":\"reviewReviewUserPDPType\"},\"likeDislike\":{\"totalLike\":0,\"likeStatus\":0,\"__typename\":\"reviewLikeDislikePDPType\"},\"stats\":[{\"key\":\"total-complete-review\",\"formatted\":\"6 ulasan lengkap\",\"count\":6,\"__typename\":\"reviewlistUserStatsType\"},{\"key\":\"total-likes\",\"formatted\":\"5 terbantu\",\"count\":5,\"__typename\":\"reviewlistUserStatsType\"}],\"badRatingReasonFmt\":\"\",\"__typename\":\"reviewListPDPType\"},{\"id\":\"1138854897\",\"variantName\":\"M\",\"message\":\"Barang REJECT tetep dijual. PARAAAAAHHHH... jelas2 itu barang udah robek darisananya. tetep minta video unboxing mah gak perlu lagi kaliiii... kacau dah... baru kali ini beli barang di official store dikasih barang reject tanpa ada penjelasan di awal. minta tuker malahan diminta video unboxing. KACAAAAUUUU...\",\"productRating\":1,\"reviewCreateTime\":\"1735991770\",\"reviewCreateTimestamp\":\"2 minggu lalu\",\"isReportable\":true,\"isAnonymous\":false,\"imageAttachments\":[{\"attachmentID\":\"143304497\",\"imageThumbnailUrl\":\"https://images.tokopedia.net/img/cache/200-square/bjFkPX/2025/1/4/ea5ccb5e-14c6-4cf4-af6f-367a492357fe.jpg\",\"imageUrl\":\"https://images.tokopedia.net/img/cache/600/bjFkPX/2025/1/4/ea5ccb5e-14c6-4cf4-af6f-367a492357fe.jpg\",\"__typename\":\"reviewAttachmentPDPType\"},{\"attachmentID\":\"143304498\",\"imageThumbnailUrl\":\"https://images.tokopedia.net/img/cache/200-square/bjFkPX/2025/1/4/9182f39c-db7b-404b-bd29-cbf596d5e100.jpg\",\"imageUrl\":\"https://images.tokopedia.net/img/cache/600/bjFkPX/2025/1/4/9182f39c-db7b-404b-bd29-cbf596d5e100.jpg\",\"__typename\":\"reviewAttachmentPDPType\"},{\"attachmentID\":\"143304499\",\"imageThumbnailUrl\":\"https://images.tokopedia.net/img/cache/200-square/bjFkPX/2025/1/4/462bfab2-568f-4e94-9dd7-90d526c4d1f3.jpg\",\"imageUrl\":\"https://images.tokopedia.net/img/cache/600/bjFkPX/2025/1/4/462bfab2-568f-4e94-9dd7-90d526c4d1f3.jpg\",\"__typename\":\"reviewAttachmentPDPType\"},{\"attachmentID\":\"143304500\",\"imageThumbnailUrl\":\"https://images.tokopedia.net/img/cache/200-square/bjFkPX/2025/1/4/eaf45f8c-8eae-4c28-9bc9-126292e162c6.jpg\",\"imageUrl\":\"https://images.tokopedia.net/img/cache/600/bjFkPX/2025/1/4/eaf45f8c-8eae-4c28-9bc9-126292e162c6.jpg\",\"__typename\":\"reviewAttachmentPDPType\"},{\"attachmentID\":\"143304501\",\"imageThumbnailUrl\":\"https://images.tokopedia.net/img/cache/200-square/bjFkPX/2025/1/4/0b936fa4-e007-490d-93b9-3b3f31519a5a.jpg\",\"imageUrl\":\"https://images.tokopedia.net/img/cache/600/bjFkPX/2025/1/4/0b936fa4-e007-490d-93b9-3b3f31519a5a.jpg\",\"__typename\":\"reviewAttachmentPDPType\"}],\"videoAttachments\":[],\"reviewResponse\":{\"message\":\"Hi kak Rika, mohon maaf sekali sebelumnya atas ketidaknyaman kakak ya, namun sudah ketentuan nya seperti itu kak kami membutuhkan video unboxingnya di packing paketpun sudah tertera untuk membuat video unboxing paket sebelum dibuka agar ada bukti yang valid untuk klaim kendalanya, ada kekhawatiran dari kami juga bahwa paket rusak pada proses pengiriman seperti itu kak :) zF\",\"createTime\":\"2 minggu lalu\",\"__typename\":\"reviewReviewResponsePDPType\"},\"user\":{\"userID\":\"563654\",\"fullName\":\"Rika\",\"image\":\"https://accounts.tokopedia.com/image/v1/u/563654/user_thumbnail/desktop\",\"url\":\"https://www.tokopedia.com/people/563654\",\"__typename\":\"reviewReviewUserPDPType\"},\"likeDislike\":{\"totalLike\":0,\"likeStatus\":0,\"__typename\":\"reviewLikeDislikePDPType\"},\"stats\":[{\"key\":\"total-complete-review\",\"formatted\":\"3 ulasan lengkap\",\"count\":3,\"__typename\":\"reviewlistUserStatsType\"}],\"badRatingReasonFmt\":\"Kendala: Kualitas barang bermasalah, Pelayanan penjual kurang, Pengiriman lama\",\"__typename\":\"reviewListPDPType\"}],\"shop\":{\"shopID\":\"2397043\",\"name\":\"Erigo Official\",\"url\":\"https://www.tokopedia.com/erigo\",\"image\":\"https://images.tokopedia.net/img/cache/215-square/GAnVPX/2024/10/28/c05501e4-bd77-479d-98cc-cb4f229de57a.jpg\",\"__typename\":\"reviewShopPDPType\"},\"hasNext\":true,\"totalReviews\":119,\"__typename\":\"productrevGetProductReviewListType\"}}}]\n",
            "isi respon dari respe: [{\"data\":{\"productrevGetProductReviewList\":{\"productID\":\"1624323500\",\"list\":[{\"id\":\"814074612\",\"variantName\":\"M\",\"message\":\"Kemejanya bagus. Bahannya adem, tidak mudah kusut dan terlihat premium. good.\",\"productRating\":5,\"reviewCreateTime\":\"1671474462\",\"reviewCreateTimestamp\":\"Lebih dari 1 tahun lalu\",\"isReportable\":true,\"isAnonymous\":false,\"imageAttachments\":[{\"attachmentID\":\"93901884\",\"imageThumbnailUrl\":\"https://images.tokopedia.net/img/cache/200-square/bjFkPX/2022/12/19/f4d074a0-79fb-4e33-962b-e250dccf4b0d.jpg\",\"imageUrl\":\"https://images.tokopedia.net/img/cache/600/bjFkPX/2022/12/19/f4d074a0-79fb-4e33-962b-e250dccf4b0d.jpg\",\"__typename\":\"reviewAttachmentPDPType\"},{\"attachmentID\":\"93901885\",\"imageThumbnailUrl\":\"https://images.tokopedia.net/img/cache/200-square/bjFkPX/2022/12/19/d0b42161-1319-4f04-ada7-e369831af04a.jpg\",\"imageUrl\":\"https://images.tokopedia.net/img/cache/600/bjFkPX/2022/12/19/d0b42161-1319-4f04-ada7-e369831af04a.jpg\",\"__typename\":\"reviewAttachmentPDPType\"}],\"videoAttachments\":[],\"reviewResponse\":{\"message\":\"Terima kasih telah berbelanja di Erigo Official. Bagikan link toko kami https://www.tokopedia.com/erigo kepada teman-teman Anda dan favoritkan Toko kami untuk terus update mengenai stok dan produk terbaru\",\"createTime\":\"Lebih dari 1 tahun lalu\",\"__typename\":\"reviewReviewResponsePDPType\"},\"user\":{\"userID\":\"17994500\",\"fullName\":\"Hendri\",\"image\":\"https://accounts.tokopedia.com/image/v1/u/17994500/user_thumbnail/desktop\",\"url\":\"https://www.tokopedia.com/people/17994500\",\"__typename\":\"reviewReviewUserPDPType\"},\"likeDislike\":{\"totalLike\":0,\"likeStatus\":0,\"__typename\":\"reviewLikeDislikePDPType\"},\"stats\":[{\"key\":\"total-complete-review\",\"formatted\":\"90 ulasan lengkap\",\"count\":90,\"__typename\":\"reviewlistUserStatsType\"},{\"key\":\"total-likes\",\"formatted\":\"43 terbantu\",\"count\":43,\"__typename\":\"reviewlistUserStatsType\"}],\"badRatingReasonFmt\":\"\",\"__typename\":\"reviewListPDPType\"},{\"id\":\"1001653335\",\"variantName\":\"M\",\"message\":\"M size luar ternyata, agak kebesaran di saya..\",\"productRating\":5,\"reviewCreateTime\":\"1707784059\",\"reviewCreateTimestamp\":\"11 bulan lalu\",\"isReportable\":true,\"isAnonymous\":true,\"imageAttachments\":[{\"attachmentID\":\"119224513\",\"imageThumbnailUrl\":\"https://images.tokopedia.net/img/cache/200-square/bjFkPX/2024/2/13/6390dc88-76ce-4b27-be0c-c577205ab84d.jpg\",\"imageUrl\":\"https://images.tokopedia.net/img/cache/600/bjFkPX/2024/2/13/6390dc88-76ce-4b27-be0c-c577205ab84d.jpg\",\"__typename\":\"reviewAttachmentPDPType\"},{\"attachmentID\":\"119224514\",\"imageThumbnailUrl\":\"https://images.tokopedia.net/img/cache/200-square/bjFkPX/2024/2/13/452a7eff-cbfb-4e90-aef3-e4841b94e747.jpg\",\"imageUrl\":\"https://images.tokopedia.net/img/cache/600/bjFkPX/2024/2/13/452a7eff-cbfb-4e90-aef3-e4841b94e747.jpg\",\"__typename\":\"reviewAttachmentPDPType\"},{\"attachmentID\":\"119224515\",\"imageThumbnailUrl\":\"https://images.tokopedia.net/img/cache/200-square/bjFkPX/2024/2/13/59d34554-6ceb-4db9-9887-df58d058c983.jpg\",\"imageUrl\":\"https://images.tokopedia.net/img/cache/600/bjFkPX/2024/2/13/59d34554-6ceb-4db9-9887-df58d058c983.jpg\",\"__typename\":\"reviewAttachmentPDPType\"},{\"attachmentID\":\"119224516\",\"imageThumbnailUrl\":\"https://images.tokopedia.net/img/cache/200-square/bjFkPX/2024/2/13/b407e6b2-3f1d-4571-b329-ea12cf5dc7df.jpg\",\"imageUrl\":\"https://images.tokopedia.net/img/cache/600/bjFkPX/2024/2/13/b407e6b2-3f1d-4571-b329-ea12cf5dc7df.jpg\",\"__typename\":\"reviewAttachmentPDPType\"}],\"videoAttachments\":[],\"reviewResponse\":{\"message\":\"Terima kasih telah berbelanja di Erigo Official. Bagikan link toko kami https://www.tokopedia.com/erigo kepada teman-teman Anda dan favoritkan Toko kami untuk terus update mengenai stok dan produk terbaru\",\"createTime\":\"11 bulan lalu\",\"__typename\":\"reviewReviewResponsePDPType\"},\"user\":{\"userID\":\"0\",\"fullName\":\"m***a\",\"image\":\"https://images.tokopedia.net/img/cache/100-square/default_v3-usrnophoto.png\",\"url\":\"\",\"__typename\":\"reviewReviewUserPDPType\"},\"likeDislike\":{\"totalLike\":0,\"likeStatus\":0,\"__typename\":\"reviewLikeDislikePDPType\"},\"stats\":[],\"badRatingReasonFmt\":\"\",\"__typename\":\"reviewListPDPType\"},{\"id\":\"930175898\",\"variantName\":\"M\",\"message\":\"bahannya tipis, licin dan halus, sangat cocok buat yg berbadan langsing (alias perut kecil)\",\"productRating\":5,\"reviewCreateTime\":\"1692626251\",\"reviewCreateTimestamp\":\"Lebih dari 1 tahun lalu\",\"isReportable\":true,\"isAnonymous\":true,\"imageAttachments\":[{\"attachmentID\":\"109781493\",\"imageThumbnailUrl\":\"https://images.tokopedia.net/img/cache/200-square/bjFkPX/2023/8/21/3c3b55cc-a0e0-467c-8d17-480f771f4499.jpg\",\"imageUrl\":\"https://images.tokopedia.net/img/cache/600/bjFkPX/2023/8/21/3c3b55cc-a0e0-467c-8d17-480f771f4499.jpg\",\"__typename\":\"reviewAttachmentPDPType\"}],\"videoAttachments\":[],\"reviewResponse\":{\"message\":\"Terima kasih telah berbelanja di Erigo Official. Bagikan link toko kami https://www.tokopedia.com/erigo kepada teman-teman Anda dan favoritkan Toko kami untuk terus update mengenai stok dan produk terbaru\",\"createTime\":\"Lebih dari 1 tahun lalu\",\"__typename\":\"reviewReviewResponsePDPType\"},\"user\":{\"userID\":\"0\",\"fullName\":\"G***x\",\"image\":\"https://images.tokopedia.net/img/cache/100-square/default_v3-usrnophoto.png\",\"url\":\"\",\"__typename\":\"reviewReviewUserPDPType\"},\"likeDislike\":{\"totalLike\":1,\"likeStatus\":0,\"__typename\":\"reviewLikeDislikePDPType\"},\"stats\":[],\"badRatingReasonFmt\":\"\",\"__typename\":\"reviewListPDPType\"},{\"id\":\"644380476\",\"variantName\":\"XL\",\"message\":\"Kualitas produk bagus. Nyaman dipakai. Ukuran sesuai. Modelnya keren 😎. Bahannya adem.\",\"productRating\":5,\"reviewCreateTime\":\"1649598480\",\"reviewCreateTimestamp\":\"Lebih dari 1 tahun lalu\",\"isReportable\":true,\"isAnonymous\":false,\"imageAttachments\":[{\"attachmentID\":\"70268612\",\"imageThumbnailUrl\":\"https://images.tokopedia.net/img/cache/200-square/bjFkPX/2022/4/10/a7ceb649-dbf8-4b9b-a006-92b2df422127.jpg\",\"imageUrl\":\"https://images.tokopedia.net/img/cache/600/bjFkPX/2022/4/10/a7ceb649-dbf8-4b9b-a006-92b2df422127.jpg\",\"__typename\":\"reviewAttachmentPDPType\"}],\"videoAttachments\":[],\"reviewResponse\":{\"message\":\"Terima kasih telah berbelanja di Erigo Official. Bagikan link toko kami https://www.tokopedia.com/erigo kepada teman-teman Anda dan favoritkan Toko kami untuk terus update mengenai stok dan produk terbaru\",\"createTime\":\"Lebih dari 1 tahun lalu\",\"__typename\":\"reviewReviewResponsePDPType\"},\"user\":{\"userID\":\"18003651\",\"fullName\":\"Abdul\",\"image\":\"https://accounts.tokopedia.com/image/v1/u/18003651/user_thumbnail/desktop\",\"url\":\"https://www.tokopedia.com/people/18003651\",\"__typename\":\"reviewReviewUserPDPType\"},\"likeDislike\":{\"totalLike\":0,\"likeStatus\":0,\"__typename\":\"reviewLikeDislikePDPType\"},\"stats\":[{\"key\":\"total-complete-review\",\"formatted\":\"3 ulasan lengkap\",\"count\":3,\"__typename\":\"reviewlistUserStatsType\"}],\"badRatingReasonFmt\":\"\",\"__typename\":\"reviewListPDPType\"},{\"id\":\"453102238\",\"variantName\":\"L\",\"message\":\"fast respon dan pengiriman barang tiba sampai ke pelanggan nya cepat. Bahan kemeja nya adem di pakai dan nyaman\",\"productRating\":5,\"reviewCreateTime\":\"1629022014\",\"reviewCreateTimestamp\":\"Lebih dari 1 tahun lalu\",\"isReportable\":true,\"isAnonymous\":true,\"imageAttachments\":[{\"attachmentID\":\"44812045\",\"imageThumbnailUrl\":\"https://images.tokopedia.net/img/cache/200-square/bjFkPX/2021/8/15/7ff2d928-7d80-4a65-a4f5-fec067e458fd.jpg\",\"imageUrl\":\"https://images.tokopedia.net/img/cache/600/bjFkPX/2021/8/15/7ff2d928-7d80-4a65-a4f5-fec067e458fd.jpg\",\"__typename\":\"reviewAttachmentPDPType\"}],\"videoAttachments\":[],\"reviewResponse\":{\"message\":\"Terima kasih telah berbelanja di Erigo Official. Bagikan link toko kami https://www.tokopedia.com/erigo kepada teman-teman Anda dan favoritkan Toko kami untuk terus update mengenai stok dan produk terbaru\",\"createTime\":\"Lebih dari 1 tahun lalu\",\"__typename\":\"reviewReviewResponsePDPType\"},\"user\":{\"userID\":\"0\",\"fullName\":\"V***a\",\"image\":\"https://images.tokopedia.net/img/cache/100-square/default_v3-usrnophoto.png\",\"url\":\"\",\"__typename\":\"reviewReviewUserPDPType\"},\"likeDislike\":{\"totalLike\":0,\"likeStatus\":0,\"__typename\":\"reviewLikeDislikePDPType\"},\"stats\":[],\"badRatingReasonFmt\":\"\",\"__typename\":\"reviewListPDPType\"},{\"id\":\"736702413\",\"variantName\":\"M\",\"message\":\"Bahannya gk terlalu tebel, adem, nyaman dipake.\",\"productRating\":5,\"reviewCreateTime\":\"1660771887\",\"reviewCreateTimestamp\":\"Lebih dari 1 tahun lalu\",\"isReportable\":true,\"isAnonymous\":false,\"imageAttachments\":[{\"attachmentID\":\"82791562\",\"imageThumbnailUrl\":\"https://images.tokopedia.net/img/cache/200-square/bjFkPX/2022/8/17/b15eaeea-1c19-46c8-907f-d076c308aae0.jpg\",\"imageUrl\":\"https://images.tokopedia.net/img/cache/600/bjFkPX/2022/8/17/b15eaeea-1c19-46c8-907f-d076c308aae0.jpg\",\"__typename\":\"reviewAttachmentPDPType\"}],\"videoAttachments\":[],\"reviewResponse\":{\"message\":\"Terima kasih telah berbelanja di Erigo Official. Bagikan link toko kami https://www.tokopedia.com/erigo kepada teman-teman Anda dan favoritkan Toko kami untuk terus update mengenai stok dan produk terbaru\",\"createTime\":\"Lebih dari 1 tahun lalu\",\"__typename\":\"reviewReviewResponsePDPType\"},\"user\":{\"userID\":\"154941880\",\"fullName\":\"alkuinb\",\"image\":\"https://accounts.tokopedia.com/image/v1/u/154941880/user_thumbnail/desktop\",\"url\":\"https://www.tokopedia.com/people/154941880\",\"__typename\":\"reviewReviewUserPDPType\"},\"likeDislike\":{\"totalLike\":0,\"likeStatus\":0,\"__typename\":\"reviewLikeDislikePDPType\"},\"stats\":[{\"key\":\"total-complete-review\",\"formatted\":\"2 ulasan lengkap\",\"count\":2,\"__typename\":\"reviewlistUserStatsType\"},{\"key\":\"total-likes\",\"formatted\":\"5 terbantu\",\"count\":5,\"__typename\":\"reviewlistUserStatsType\"}],\"badRatingReasonFmt\":\"\",\"__typename\":\"reviewListPDPType\"},{\"id\":\"1001374457\",\"variantName\":\"M\",\"message\":\"Tinggi badan 160 - 170 cm Berat badan \\u0026lt; 60 kg Ukurannya terlalu besar kalau mau fit oversized bagus cuman saya sendiri lebih suka fit yang pas\",\"productRating\":5,\"reviewCreateTime\":\"1707736019\",\"reviewCreateTimestamp\":\"11 bulan lalu\",\"isReportable\":true,\"isAnonymous\":false,\"imageAttachments\":[{\"attachmentID\":\"119188373\",\"imageThumbnailUrl\":\"https://images.tokopedia.net/img/cache/200-square/bjFkPX/2024/2/12/9ac32d9b-0daa-49eb-af03-88ebbc01db71.jpg\",\"imageUrl\":\"https://images.tokopedia.net/img/cache/600/bjFkPX/2024/2/12/9ac32d9b-0daa-49eb-af03-88ebbc01db71.jpg\",\"__typename\":\"reviewAttachmentPDPType\"}],\"videoAttachments\":[],\"reviewResponse\":{\"message\":\"Terima kasih telah berbelanja di Erigo Official. Bagikan link toko kami https://www.tokopedia.com/erigo kepada teman-teman Anda dan favoritkan Toko kami untuk terus update mengenai stok dan produk terbaru\",\"createTime\":\"11 bulan lalu\",\"__typename\":\"reviewReviewResponsePDPType\"},\"user\":{\"userID\":\"64477656\",\"fullName\":\"Kevin\",\"image\":\"https://accounts.tokopedia.com/image/v1/u/64477656/user_thumbnail/desktop\",\"url\":\"https://www.tokopedia.com/people/64477656\",\"__typename\":\"reviewReviewUserPDPType\"},\"likeDislike\":{\"totalLike\":0,\"likeStatus\":0,\"__typename\":\"reviewLikeDislikePDPType\"},\"stats\":[{\"key\":\"total-complete-review\",\"formatted\":\"6 ulasan lengkap\",\"count\":6,\"__typename\":\"reviewlistUserStatsType\"},{\"key\":\"total-likes\",\"formatted\":\"2 terbantu\",\"count\":2,\"__typename\":\"reviewlistUserStatsType\"}],\"badRatingReasonFmt\":\"\",\"__typename\":\"reviewListPDPType\"},{\"id\":\"828338524\",\"variantName\":\"XXL\",\"message\":\"saya liat di deskripsi, \\nsoal bahan nya bisa menyusut. \\ndi sarankan utk beli 1 size diatas nya. \\nsaya mau nya pake lebar baju 52cm.\\njd sy beli yg lebar 54cm yaitu XXL. \\nsampe saya chat seller nya. \\nkatanya emang bener sesuai di deskripsi. \\npas baju nya datang ukuran XXL ter yata lebar nya 63cm.\\nbayangin aja, apakah lebar 63cm bs menyusut jd 52cm ngga yah? \\nkalo sampe bisa, kayaknya itu bahan kain sih keterlaluan jelek nya. \\njd inti nya sy jd salah beli ukuran, \\ngara2 baca deskripsi baju ini. \\nberarti info nya tidak akurat\",\"productRating\":2,\"reviewCreateTime\":\"1673548942\",\"reviewCreateTimestamp\":\"Lebih dari 1 tahun lalu\",\"isReportable\":true,\"isAnonymous\":false,\"imageAttachments\":[{\"attachmentID\":\"95840086\",\"imageThumbnailUrl\":\"https://images.tokopedia.net/img/cache/200-square/bjFkPX/2023/1/12/d9a13fad-dacd-4b02-8c34-e4afc97fd797.jpg\",\"imageUrl\":\"https://images.tokopedia.net/img/cache/600/bjFkPX/2023/1/12/d9a13fad-dacd-4b02-8c34-e4afc97fd797.jpg\",\"__typename\":\"reviewAttachmentPDPType\"},{\"attachmentID\":\"95840087\",\"imageThumbnailUrl\":\"https://images.tokopedia.net/img/cache/200-square/bjFkPX/2023/1/12/642078a4-12ff-469b-a5f1-8775a6d4a749.jpg\",\"imageUrl\":\"https://images.tokopedia.net/img/cache/600/bjFkPX/2023/1/12/642078a4-12ff-469b-a5f1-8775a6d4a749.jpg\",\"__typename\":\"reviewAttachmentPDPType\"}],\"videoAttachments\":[],\"reviewResponse\":{\"message\":\"Hallo kak, pesanan kakak sudah sampai ya? Terima kasih sudah order yaa, Jika ada kendala pesanan atau pertanyaan seputar produk kami boleh banget chat kami ya kak :) -AT\",\"createTime\":\"Lebih dari 1 tahun lalu\",\"__typename\":\"reviewReviewResponsePDPType\"},\"user\":{\"userID\":\"5328191\",\"fullName\":\"Yandi\",\"image\":\"https://accounts.tokopedia.com/image/v1/u/5328191/user_thumbnail/desktop\",\"url\":\"https://www.tokopedia.com/people/5328191\",\"__typename\":\"reviewReviewUserPDPType\"},\"likeDislike\":{\"totalLike\":2,\"likeStatus\":0,\"__typename\":\"reviewLikeDislikePDPType\"},\"stats\":[{\"key\":\"total-complete-review\",\"formatted\":\"114 ulasan lengkap\",\"count\":114,\"__typename\":\"reviewlistUserStatsType\"},{\"key\":\"total-likes\",\"formatted\":\"47 terbantu\",\"count\":47,\"__typename\":\"reviewlistUserStatsType\"}],\"badRatingReasonFmt\":\"Kendala: Kualitas barang bermasalah\",\"__typename\":\"reviewListPDPType\"},{\"id\":\"763729952\",\"variantName\":\"M\",\"message\":\"Modelnya Keren, Bahan Adem, Cocok Untuk Harian.\",\"productRating\":5,\"reviewCreateTime\":\"1664477112\",\"reviewCreateTimestamp\":\"Lebih dari 1 tahun lalu\",\"isReportable\":true,\"isAnonymous\":false,\"imageAttachments\":[{\"attachmentID\":\"87122655\",\"imageThumbnailUrl\":\"https://images.tokopedia.net/img/cache/200-square/bjFkPX/2022/9/29/9643d281-9b79-4e86-8225-7eac2114f471.jpg\",\"imageUrl\":\"https://images.tokopedia.net/img/cache/600/bjFkPX/2022/9/29/9643d281-9b79-4e86-8225-7eac2114f471.jpg\",\"__typename\":\"reviewAttachmentPDPType\"}],\"videoAttachments\":[],\"reviewResponse\":{\"message\":\"Terima kasih telah berbelanja di Erigo Official. Bagikan link toko kami https://www.tokopedia.com/erigo kepada teman-teman Anda dan favoritkan Toko kami untuk terus update mengenai stok dan produk terbaru\",\"createTime\":\"Lebih dari 1 tahun lalu\",\"__typename\":\"reviewReviewResponsePDPType\"},\"user\":{\"userID\":\"4268709\",\"fullName\":\"Yupiter\",\"image\":\"https://accounts.tokopedia.com/image/v1/u/4268709/user_thumbnail/desktop\",\"url\":\"https://www.tokopedia.com/people/4268709\",\"__typename\":\"reviewReviewUserPDPType\"},\"likeDislike\":{\"totalLike\":0,\"likeStatus\":0,\"__typename\":\"reviewLikeDislikePDPType\"},\"stats\":[{\"key\":\"total-complete-review\",\"formatted\":\"6 ulasan lengkap\",\"count\":6,\"__typename\":\"reviewlistUserStatsType\"},{\"key\":\"total-likes\",\"formatted\":\"5 terbantu\",\"count\":5,\"__typename\":\"reviewlistUserStatsType\"}],\"badRatingReasonFmt\":\"\",\"__typename\":\"reviewListPDPType\"},{\"id\":\"1138854897\",\"variantName\":\"M\",\"message\":\"Barang REJECT tetep dijual. PARAAAAAHHHH... jelas2 itu barang udah robek darisananya. tetep minta video unboxing mah gak perlu lagi kaliiii... kacau dah... baru kali ini beli barang di official store dikasih barang reject tanpa ada penjelasan di awal. minta tuker malahan diminta video unboxing. KACAAAAUUUU...\",\"productRating\":1,\"reviewCreateTime\":\"1735991770\",\"reviewCreateTimestamp\":\"2 minggu lalu\",\"isReportable\":true,\"isAnonymous\":false,\"imageAttachments\":[{\"attachmentID\":\"143304497\",\"imageThumbnailUrl\":\"https://images.tokopedia.net/img/cache/200-square/bjFkPX/2025/1/4/ea5ccb5e-14c6-4cf4-af6f-367a492357fe.jpg\",\"imageUrl\":\"https://images.tokopedia.net/img/cache/600/bjFkPX/2025/1/4/ea5ccb5e-14c6-4cf4-af6f-367a492357fe.jpg\",\"__typename\":\"reviewAttachmentPDPType\"},{\"attachmentID\":\"143304498\",\"imageThumbnailUrl\":\"https://images.tokopedia.net/img/cache/200-square/bjFkPX/2025/1/4/9182f39c-db7b-404b-bd29-cbf596d5e100.jpg\",\"imageUrl\":\"https://images.tokopedia.net/img/cache/600/bjFkPX/2025/1/4/9182f39c-db7b-404b-bd29-cbf596d5e100.jpg\",\"__typename\":\"reviewAttachmentPDPType\"},{\"attachmentID\":\"143304499\",\"imageThumbnailUrl\":\"https://images.tokopedia.net/img/cache/200-square/bjFkPX/2025/1/4/462bfab2-568f-4e94-9dd7-90d526c4d1f3.jpg\",\"imageUrl\":\"https://images.tokopedia.net/img/cache/600/bjFkPX/2025/1/4/462bfab2-568f-4e94-9dd7-90d526c4d1f3.jpg\",\"__typename\":\"reviewAttachmentPDPType\"},{\"attachmentID\":\"143304500\",\"imageThumbnailUrl\":\"https://images.tokopedia.net/img/cache/200-square/bjFkPX/2025/1/4/eaf45f8c-8eae-4c28-9bc9-126292e162c6.jpg\",\"imageUrl\":\"https://images.tokopedia.net/img/cache/600/bjFkPX/2025/1/4/eaf45f8c-8eae-4c28-9bc9-126292e162c6.jpg\",\"__typename\":\"reviewAttachmentPDPType\"},{\"attachmentID\":\"143304501\",\"imageThumbnailUrl\":\"https://images.tokopedia.net/img/cache/200-square/bjFkPX/2025/1/4/0b936fa4-e007-490d-93b9-3b3f31519a5a.jpg\",\"imageUrl\":\"https://images.tokopedia.net/img/cache/600/bjFkPX/2025/1/4/0b936fa4-e007-490d-93b9-3b3f31519a5a.jpg\",\"__typename\":\"reviewAttachmentPDPType\"}],\"videoAttachments\":[],\"reviewResponse\":{\"message\":\"Hi kak Rika, mohon maaf sekali sebelumnya atas ketidaknyaman kakak ya, namun sudah ketentuan nya seperti itu kak kami membutuhkan video unboxingnya di packing paketpun sudah tertera untuk membuat video unboxing paket sebelum dibuka agar ada bukti yang valid untuk klaim kendalanya, ada kekhawatiran dari kami juga bahwa paket rusak pada proses pengiriman seperti itu kak :) zF\",\"createTime\":\"2 minggu lalu\",\"__typename\":\"reviewReviewResponsePDPType\"},\"user\":{\"userID\":\"563654\",\"fullName\":\"Rika\",\"image\":\"https://accounts.tokopedia.com/image/v1/u/563654/user_thumbnail/desktop\",\"url\":\"https://www.tokopedia.com/people/563654\",\"__typename\":\"reviewReviewUserPDPType\"},\"likeDislike\":{\"totalLike\":0,\"likeStatus\":0,\"__typename\":\"reviewLikeDislikePDPType\"},\"stats\":[{\"key\":\"total-complete-review\",\"formatted\":\"3 ulasan lengkap\",\"count\":3,\"__typename\":\"reviewlistUserStatsType\"}],\"badRatingReasonFmt\":\"Kendala: Kualitas barang bermasalah, Pelayanan penjual kurang, Pengiriman lama\",\"__typename\":\"reviewListPDPType\"}],\"shop\":{\"shopID\":\"2397043\",\"name\":\"Erigo Official\",\"url\":\"https://www.tokopedia.com/erigo\",\"image\":\"https://images.tokopedia.net/img/cache/215-square/GAnVPX/2024/10/28/c05501e4-bd77-479d-98cc-cb4f229de57a.jpg\",\"__typename\":\"reviewShopPDPType\"},\"hasNext\":true,\"totalReviews\":119,\"__typename\":\"productrevGetProductReviewListType\"}}}]\n",
            "isi respon dari respf: [{\"data\":{\"productrevGetProductReviewList\":{\"productID\":\"2390937940\",\"list\":[{\"id\":\"1111123355\",\"variantName\":\"XL\",\"message\":\"mantapo bangett baguss bahannya lembut nyaman dipake next bakal order lagi buay suamii kuu okee gasskeun ahay\",\"productRating\":5,\"reviewCreateTime\":\"1730101430\",\"reviewCreateTimestamp\":\"2 bulan lalu\",\"isReportable\":true,\"isAnonymous\":true,\"imageAttachments\":[{\"attachmentID\":\"137975123\",\"imageThumbnailUrl\":\"https://images.tokopedia.net/img/cache/200-square/bjFkPX/2024/10/28/630c55e4-2333-497d-928c-36523413c32d.jpg\",\"imageUrl\":\"https://images.tokopedia.net/img/cache/600/bjFkPX/2024/10/28/630c55e4-2333-497d-928c-36523413c32d.jpg\",\"__typename\":\"reviewAttachmentPDPType\"},{\"attachmentID\":\"137975128\",\"imageThumbnailUrl\":\"https://images.tokopedia.net/img/cache/200-square/bjFkPX/2024/10/28/5a1761fc-f3a9-41ba-b017-316e4bdc7c6c.jpg\",\"imageUrl\":\"https://images.tokopedia.net/img/cache/600/bjFkPX/2024/10/28/5a1761fc-f3a9-41ba-b017-316e4bdc7c6c.jpg\",\"__typename\":\"reviewAttachmentPDPType\"},{\"attachmentID\":\"137975129\",\"imageThumbnailUrl\":\"https://images.tokopedia.net/img/cache/200-square/bjFkPX/2024/10/28/b541c3ef-fa08-41a9-b2fc-5ec143a5bec5.jpg\",\"imageUrl\":\"https://images.tokopedia.net/img/cache/600/bjFkPX/2024/10/28/b541c3ef-fa08-41a9-b2fc-5ec143a5bec5.jpg\",\"__typename\":\"reviewAttachmentPDPType\"},{\"attachmentID\":\"137975130\",\"imageThumbnailUrl\":\"https://images.tokopedia.net/img/cache/200-square/bjFkPX/2024/10/28/f9c85fbc-0bcd-405b-b1d6-84aa725d6109.jpg\",\"imageUrl\":\"https://images.tokopedia.net/img/cache/600/bjFkPX/2024/10/28/f9c85fbc-0bcd-405b-b1d6-84aa725d6109.jpg\",\"__typename\":\"reviewAttachmentPDPType\"}],\"videoAttachments\":[{\"attachmentID\":\"137975131\",\"videoUrl\":\"https://vod-stream.tokopedia.net/view/adaptive.m3u8?id=da0b0f87-7568-4611-9f06-5c93f2ac4b08\",\"__typename\":\"productrevVideoAttachmentPDPType\"}],\"reviewResponse\":{\"message\":\"Terima kasih telah berbelanja di Erigo Official. Bagikan link toko kami https://www.tokopedia.com/erigo kepada teman-teman Anda dan favoritkan Toko kami untuk terus update mengenai stok dan produk terbaru\",\"createTime\":\"2 bulan lalu\",\"__typename\":\"reviewReviewResponsePDPType\"},\"user\":{\"userID\":\"0\",\"fullName\":\"A***a\",\"image\":\"https://images.tokopedia.net/img/cache/100-square/default_v3-usrnophoto.png\",\"url\":\"\",\"__typename\":\"reviewReviewUserPDPType\"},\"likeDislike\":{\"totalLike\":0,\"likeStatus\":0,\"__typename\":\"reviewLikeDislikePDPType\"},\"stats\":[],\"badRatingReasonFmt\":\"\",\"__typename\":\"reviewListPDPType\"},{\"id\":\"1024800278\",\"variantName\":\"XXL\",\"message\":\"pesanan selamat sampai tujuan, keren t-shirt nya cuttingan overzise tb 179 bb 75 pake size xxl keren juga cuy Erigo Top terimakasih semoga awet🙏\",\"productRating\":5,\"reviewCreateTime\":\"1712318788\",\"reviewCreateTimestamp\":\"9 bulan lalu\",\"isReportable\":true,\"isAnonymous\":true,\"imageAttachments\":[{\"attachmentID\":\"122563793\",\"imageThumbnailUrl\":\"https://images.tokopedia.net/img/cache/200-square/bjFkPX/2024/4/5/cea70916-5f5f-455e-b819-08a2abe51959.jpg\",\"imageUrl\":\"https://images.tokopedia.net/img/cache/600/bjFkPX/2024/4/5/cea70916-5f5f-455e-b819-08a2abe51959.jpg\",\"__typename\":\"reviewAttachmentPDPType\"},{\"attachmentID\":\"122563794\",\"imageThumbnailUrl\":\"https://images.tokopedia.net/img/cache/200-square/bjFkPX/2024/4/5/90192a8b-76cb-4216-8863-db922fd6e5af.jpg\",\"imageUrl\":\"https://images.tokopedia.net/img/cache/600/bjFkPX/2024/4/5/90192a8b-76cb-4216-8863-db922fd6e5af.jpg\",\"__typename\":\"reviewAttachmentPDPType\"},{\"attachmentID\":\"122563795\",\"imageThumbnailUrl\":\"https://images.tokopedia.net/img/cache/200-square/bjFkPX/2024/4/5/b49ff7b4-9c88-4100-be22-2f955ec3ebce.jpg\",\"imageUrl\":\"https://images.tokopedia.net/img/cache/600/bjFkPX/2024/4/5/b49ff7b4-9c88-4100-be22-2f955ec3ebce.jpg\",\"__typename\":\"reviewAttachmentPDPType\"},{\"attachmentID\":\"122563796\",\"imageThumbnailUrl\":\"https://images.tokopedia.net/img/cache/200-square/bjFkPX/2024/4/5/0153db76-7e60-435f-9e4a-3a2444750b91.jpg\",\"imageUrl\":\"https://images.tokopedia.net/img/cache/600/bjFkPX/2024/4/5/0153db76-7e60-435f-9e4a-3a2444750b91.jpg\",\"__typename\":\"reviewAttachmentPDPType\"}],\"videoAttachments\":[{\"attachmentID\":\"122563797\",\"videoUrl\":\"https://vod-stream.tokopedia.net/view/adaptive.m3u8?id=6075a909-2428-410f-a8f7-bffcbdaaeee1\",\"__typename\":\"productrevVideoAttachmentPDPType\"}],\"reviewResponse\":{\"message\":\"Terima kasih telah berbelanja di Erigo Official. Bagikan link toko kami https://www.tokopedia.com/erigo kepada teman-teman Anda dan favoritkan Toko kami untuk terus update mengenai stok dan produk terbaru\",\"createTime\":\"9 bulan lalu\",\"__typename\":\"reviewReviewResponsePDPType\"},\"user\":{\"userID\":\"0\",\"fullName\":\"F***i\",\"image\":\"https://images.tokopedia.net/img/cache/100-square/default_v3-usrnophoto.png\",\"url\":\"\",\"__typename\":\"reviewReviewUserPDPType\"},\"likeDislike\":{\"totalLike\":0,\"likeStatus\":0,\"__typename\":\"reviewLikeDislikePDPType\"},\"stats\":[],\"badRatingReasonFmt\":\"\",\"__typename\":\"reviewListPDPType\"},{\"id\":\"690801557\",\"variantName\":\"XXL\",\"message\":\"Kualitas produk bagus. Jahitannya rapi. Nyaman dipakai. Warnanya mantap. Modelnya keren 😎. Bahannya lembut. Bahannya adem. Ukuran sesuai. Bahan menyerap keringat. Tidak menerawang.\\n\\nBiarkan bintang yg berbicara 🙏🏻\",\"productRating\":5,\"reviewCreateTime\":\"1654984579\",\"reviewCreateTimestamp\":\"Lebih dari 1 tahun lalu\",\"isReportable\":true,\"isAnonymous\":false,\"imageAttachments\":[{\"attachmentID\":\"76819447\",\"imageThumbnailUrl\":\"https://images.tokopedia.net/img/cache/200-square/bjFkPX/2022/6/11/977a1c9a-5d54-4676-8ff7-9096945ef224.jpg\",\"imageUrl\":\"https://images.tokopedia.net/img/cache/600/bjFkPX/2022/6/11/977a1c9a-5d54-4676-8ff7-9096945ef224.jpg\",\"__typename\":\"reviewAttachmentPDPType\"},{\"attachmentID\":\"76819448\",\"imageThumbnailUrl\":\"https://images.tokopedia.net/img/cache/200-square/bjFkPX/2022/6/11/bef7afd0-65a3-4bcc-901b-215242f15d9b.jpg\",\"imageUrl\":\"https://images.tokopedia.net/img/cache/600/bjFkPX/2022/6/11/bef7afd0-65a3-4bcc-901b-215242f15d9b.jpg\",\"__typename\":\"reviewAttachmentPDPType\"},{\"attachmentID\":\"76819449\",\"imageThumbnailUrl\":\"https://images.tokopedia.net/img/cache/200-square/bjFkPX/2022/6/11/611d425d-6e48-4784-93b1-634d7a8fb30b.jpg\",\"imageUrl\":\"https://images.tokopedia.net/img/cache/600/bjFkPX/2022/6/11/611d425d-6e48-4784-93b1-634d7a8fb30b.jpg\",\"__typename\":\"reviewAttachmentPDPType\"},{\"attachmentID\":\"76819450\",\"imageThumbnailUrl\":\"https://images.tokopedia.net/img/cache/200-square/bjFkPX/2022/6/11/bcdb75e3-707a-4920-a78b-33badc1b2928.jpg\",\"imageUrl\":\"https://images.tokopedia.net/img/cache/600/bjFkPX/2022/6/11/bcdb75e3-707a-4920-a78b-33badc1b2928.jpg\",\"__typename\":\"reviewAttachmentPDPType\"}],\"videoAttachments\":[],\"reviewResponse\":{\"message\":\"Terima kasih telah berbelanja di Erigo Official. Bagikan link toko kami https://www.tokopedia.com/erigo kepada teman-teman Anda dan favoritkan Toko kami untuk terus update mengenai stok dan produk terbaru\",\"createTime\":\"Lebih dari 1 tahun lalu\",\"__typename\":\"reviewReviewResponsePDPType\"},\"user\":{\"userID\":\"5060465\",\"fullName\":\"janoko\",\"image\":\"https://accounts.tokopedia.com/image/v1/u/5060465/user_thumbnail/desktop\",\"url\":\"https://www.tokopedia.com/people/5060465\",\"__typename\":\"reviewReviewUserPDPType\"},\"likeDislike\":{\"totalLike\":0,\"likeStatus\":0,\"__typename\":\"reviewLikeDislikePDPType\"},\"stats\":[{\"key\":\"total-complete-review\",\"formatted\":\"3 ulasan lengkap\",\"count\":3,\"__typename\":\"reviewlistUserStatsType\"},{\"key\":\"total-likes\",\"formatted\":\"2 terbantu\",\"count\":2,\"__typename\":\"reviewlistUserStatsType\"}],\"badRatingReasonFmt\":\"\",\"__typename\":\"reviewListPDPType\"},{\"id\":\"749268364\",\"variantName\":\"XL\",\"message\":\"Bagus banget. Ukuran pas, bahan tebal tapi adem, sablon timbul, cutting dan jahitan rapiiih.\",\"productRating\":5,\"reviewCreateTime\":\"1662483139\",\"reviewCreateTimestamp\":\"Lebih dari 1 tahun lalu\",\"isReportable\":true,\"isAnonymous\":true,\"imageAttachments\":[],\"videoAttachments\":[{\"attachmentID\":\"84883559\",\"videoUrl\":\"https://vod-stream.tokopedia.net/view/adaptive.m3u8?id=fec51900d2a141dd851bce91bbccdd15\",\"__typename\":\"productrevVideoAttachmentPDPType\"}],\"reviewResponse\":{\"message\":\"Terima kasih telah berbelanja di Erigo Official. Bagikan link toko kami https://www.tokopedia.com/erigo kepada teman-teman Anda dan favoritkan Toko kami untuk terus update mengenai stok dan produk terbaru\",\"createTime\":\"Lebih dari 1 tahun lalu\",\"__typename\":\"reviewReviewResponsePDPType\"},\"user\":{\"userID\":\"0\",\"fullName\":\"D***i\",\"image\":\"https://images.tokopedia.net/img/cache/100-square/default_v3-usrnophoto.png\",\"url\":\"\",\"__typename\":\"reviewReviewUserPDPType\"},\"likeDislike\":{\"totalLike\":0,\"likeStatus\":0,\"__typename\":\"reviewLikeDislikePDPType\"},\"stats\":[],\"badRatingReasonFmt\":\"\",\"__typename\":\"reviewListPDPType\"},{\"id\":\"905078538\",\"variantName\":\"XXL\",\"message\":\"pengiriman cepet,seller gercep alias gerak cepat,selalu Langganan produknya di jamin puas sudah langganan,sudah langgan selalu di erigo.\",\"productRating\":5,\"reviewCreateTime\":\"1687180571\",\"reviewCreateTimestamp\":\"Lebih dari 1 tahun lalu\",\"isReportable\":true,\"isAnonymous\":false,\"imageAttachments\":[{\"attachmentID\":\"106325450\",\"imageThumbnailUrl\":\"https://images.tokopedia.net/img/cache/200-square/bjFkPX/2023/6/19/6a680ae9-8e7a-44d7-83c3-108c25079c40.jpg\",\"imageUrl\":\"https://images.tokopedia.net/img/cache/600/bjFkPX/2023/6/19/6a680ae9-8e7a-44d7-83c3-108c25079c40.jpg\",\"__typename\":\"reviewAttachmentPDPType\"},{\"attachmentID\":\"106325451\",\"imageThumbnailUrl\":\"https://images.tokopedia.net/img/cache/200-square/bjFkPX/2023/6/19/85545bf4-9453-41e9-8dfd-cab9185bb2f0.jpg\",\"imageUrl\":\"https://images.tokopedia.net/img/cache/600/bjFkPX/2023/6/19/85545bf4-9453-41e9-8dfd-cab9185bb2f0.jpg\",\"__typename\":\"reviewAttachmentPDPType\"}],\"videoAttachments\":[],\"reviewResponse\":{\"message\":\"Terima kasih telah berbelanja di Erigo Official. Bagikan link toko kami https://www.tokopedia.com/erigo kepada teman-teman Anda dan favoritkan Toko kami untuk terus update mengenai stok dan produk terbaru\",\"createTime\":\"Lebih dari 1 tahun lalu\",\"__typename\":\"reviewReviewResponsePDPType\"},\"user\":{\"userID\":\"46315665\",\"fullName\":\"Cynthia\",\"image\":\"https://accounts.tokopedia.com/image/v1/u/46315665/user_thumbnail/desktop\",\"url\":\"https://www.tokopedia.com/people/46315665\",\"__typename\":\"reviewReviewUserPDPType\"},\"likeDislike\":{\"totalLike\":1,\"likeStatus\":0,\"__typename\":\"reviewLikeDislikePDPType\"},\"stats\":[{\"key\":\"total-complete-review\",\"formatted\":\"1 ulasan lengkap\",\"count\":1,\"__typename\":\"reviewlistUserStatsType\"},{\"key\":\"total-likes\",\"formatted\":\"7 terbantu\",\"count\":7,\"__typename\":\"reviewlistUserStatsType\"}],\"badRatingReasonFmt\":\"\",\"__typename\":\"reviewListPDPType\"},{\"id\":\"709703715\",\"variantName\":\"L\",\"message\":\"Sesuai pesanan meskipun pengirimannya lama. Bahannya adem meskipun agak tebal.\\nThank you erigo!\",\"productRating\":5,\"reviewCreateTime\":\"1657357767\",\"reviewCreateTimestamp\":\"Lebih dari 1 tahun lalu\",\"isReportable\":true,\"isAnonymous\":false,\"imageAttachments\":[{\"attachmentID\":\"79394279\",\"imageThumbnailUrl\":\"https://images.tokopedia.net/img/cache/200-square/bjFkPX/2022/7/9/e4a48f80-71e7-4d8e-981e-5b597822a18b.jpg\",\"imageUrl\":\"https://images.tokopedia.net/img/cache/600/bjFkPX/2022/7/9/e4a48f80-71e7-4d8e-981e-5b597822a18b.jpg\",\"__typename\":\"reviewAttachmentPDPType\"},{\"attachmentID\":\"79394280\",\"imageThumbnailUrl\":\"https://images.tokopedia.net/img/cache/200-square/bjFkPX/2022/7/9/e67c0407-aac7-4013-9c49-d62fb9cb6928.jpg\",\"imageUrl\":\"https://images.tokopedia.net/img/cache/600/bjFkPX/2022/7/9/e67c0407-aac7-4013-9c49-d62fb9cb6928.jpg\",\"__typename\":\"reviewAttachmentPDPType\"},{\"attachmentID\":\"79394281\",\"imageThumbnailUrl\":\"https://images.tokopedia.net/img/cache/200-square/bjFkPX/2022/7/9/41eedc96-b3a6-4f39-8473-b153db186c7c.jpg\",\"imageUrl\":\"https://images.tokopedia.net/img/cache/600/bjFkPX/2022/7/9/41eedc96-b3a6-4f39-8473-b153db186c7c.jpg\",\"__typename\":\"reviewAttachmentPDPType\"}],\"videoAttachments\":[],\"reviewResponse\":{\"message\":\"Terima kasih telah berbelanja di Erigo Official. Bagikan link toko kami https://www.tokopedia.com/erigo kepada teman-teman Anda dan favoritkan Toko kami untuk terus update mengenai stok dan produk terbaru\",\"createTime\":\"Lebih dari 1 tahun lalu\",\"__typename\":\"reviewReviewResponsePDPType\"},\"user\":{\"userID\":\"13340376\",\"fullName\":\"Vina\",\"image\":\"https://accounts.tokopedia.com/image/v1/u/13340376/user_thumbnail/desktop\",\"url\":\"https://www.tokopedia.com/people/13340376\",\"__typename\":\"reviewReviewUserPDPType\"},\"likeDislike\":{\"totalLike\":0,\"likeStatus\":0,\"__typename\":\"reviewLikeDislikePDPType\"},\"stats\":[{\"key\":\"total-complete-review\",\"formatted\":\"3 ulasan lengkap\",\"count\":3,\"__typename\":\"reviewlistUserStatsType\"},{\"key\":\"total-likes\",\"formatted\":\"1 terbantu\",\"count\":1,\"__typename\":\"reviewlistUserStatsType\"}],\"badRatingReasonFmt\":\"\",\"__typename\":\"reviewListPDPType\"},{\"id\":\"1021177160\",\"variantName\":\"XL\",\"message\":\"Response Seller Mantul, Packing dan Pengiriman juga Kilat, Mumpung Harga nya lg diskon makanya kita beli. untuk Kualitas sih ok. Makasih yah\",\"productRating\":5,\"reviewCreateTime\":\"1711735532\",\"reviewCreateTimestamp\":\"9 bulan lalu\",\"isReportable\":true,\"isAnonymous\":false,\"imageAttachments\":[{\"attachmentID\":\"122003641\",\"imageThumbnailUrl\":\"https://images.tokopedia.net/img/cache/200-square/bjFkPX/2024/3/29/9d3386ee-cb75-4dae-a03e-057f2725bbfc.jpg\",\"imageUrl\":\"https://images.tokopedia.net/img/cache/600/bjFkPX/2024/3/29/9d3386ee-cb75-4dae-a03e-057f2725bbfc.jpg\",\"__typename\":\"reviewAttachmentPDPType\"},{\"attachmentID\":\"122003646\",\"imageThumbnailUrl\":\"https://images.tokopedia.net/img/cache/200-square/bjFkPX/2024/3/29/4f365474-606f-49da-be0a-8d37257571c6.jpg\",\"imageUrl\":\"https://images.tokopedia.net/img/cache/600/bjFkPX/2024/3/29/4f365474-606f-49da-be0a-8d37257571c6.jpg\",\"__typename\":\"reviewAttachmentPDPType\"},{\"attachmentID\":\"122003647\",\"imageThumbnailUrl\":\"https://images.tokopedia.net/img/cache/200-square/bjFkPX/2024/3/29/c0157f30-8b69-4200-9b24-57a1cbc06dfa.jpg\",\"imageUrl\":\"https://images.tokopedia.net/img/cache/600/bjFkPX/2024/3/29/c0157f30-8b69-4200-9b24-57a1cbc06dfa.jpg\",\"__typename\":\"reviewAttachmentPDPType\"}],\"videoAttachments\":[],\"reviewResponse\":{\"message\":\"Terima kasih telah berbelanja di Erigo Official. Bagikan link toko kami https://www.tokopedia.com/erigo kepada teman-teman Anda dan favoritkan Toko kami untuk terus update mengenai stok dan produk terbaru\",\"createTime\":\"9 bulan lalu\",\"__typename\":\"reviewReviewResponsePDPType\"},\"user\":{\"userID\":\"22542212\",\"fullName\":\"Jonny\",\"image\":\"https://accounts.tokopedia.com/image/v1/u/22542212/user_thumbnail/desktop\",\"url\":\"https://www.tokopedia.com/people/22542212\",\"__typename\":\"reviewReviewUserPDPType\"},\"likeDislike\":{\"totalLike\":0,\"likeStatus\":0,\"__typename\":\"reviewLikeDislikePDPType\"},\"stats\":[{\"key\":\"total-complete-review\",\"formatted\":\"271 ulasan lengkap\",\"count\":271,\"__typename\":\"reviewlistUserStatsType\"},{\"key\":\"total-likes\",\"formatted\":\"42 terbantu\",\"count\":42,\"__typename\":\"reviewlistUserStatsType\"}],\"badRatingReasonFmt\":\"\",\"__typename\":\"reviewListPDPType\"},{\"id\":\"796346191\",\"variantName\":\"L\",\"message\":\"bagus bahan di jamin mantul gk akan kecewa deh\",\"productRating\":5,\"reviewCreateTime\":\"1668983530\",\"reviewCreateTimestamp\":\"Lebih dari 1 tahun lalu\",\"isReportable\":true,\"isAnonymous\":false,\"imageAttachments\":[{\"attachmentID\":\"91487145\",\"imageThumbnailUrl\":\"https://images.tokopedia.net/img/cache/200-square/bjFkPX/2022/11/20/f6867d4c-8574-4406-aee5-7b0df17d6250.jpg\",\"imageUrl\":\"https://images.tokopedia.net/img/cache/600/bjFkPX/2022/11/20/f6867d4c-8574-4406-aee5-7b0df17d6250.jpg\",\"__typename\":\"reviewAttachmentPDPType\"},{\"attachmentID\":\"91487146\",\"imageThumbnailUrl\":\"https://images.tokopedia.net/img/cache/200-square/bjFkPX/2022/11/20/b268b712-b658-46d7-b908-bd8709c3f9f6.jpg\",\"imageUrl\":\"https://images.tokopedia.net/img/cache/600/bjFkPX/2022/11/20/b268b712-b658-46d7-b908-bd8709c3f9f6.jpg\",\"__typename\":\"reviewAttachmentPDPType\"}],\"videoAttachments\":[],\"reviewResponse\":{\"message\":\"Terima kasih telah berbelanja di Erigo Official. Bagikan link toko kami https://www.tokopedia.com/erigo kepada teman-teman Anda dan favoritkan Toko kami untuk terus update mengenai stok dan produk terbaru\",\"createTime\":\"Lebih dari 1 tahun lalu\",\"__typename\":\"reviewReviewResponsePDPType\"},\"user\":{\"userID\":\"221788252\",\"fullName\":\"Hapis\",\"image\":\"https://accounts.tokopedia.com/image/v1/u/221788252/user_thumbnail/desktop\",\"url\":\"https://www.tokopedia.com/people/221788252\",\"__typename\":\"reviewReviewUserPDPType\"},\"likeDislike\":{\"totalLike\":0,\"likeStatus\":0,\"__typename\":\"reviewLikeDislikePDPType\"},\"stats\":[],\"badRatingReasonFmt\":\"\",\"__typename\":\"reviewListPDPType\"},{\"id\":\"929432858\",\"variantName\":\"XXL\",\"message\":\"pertama kalinya beli kaos erigo dan sangat bagus bgt dah serius bahannya adem next beli lagi dah\",\"productRating\":5,\"reviewCreateTime\":\"1692449721\",\"reviewCreateTimestamp\":\"Lebih dari 1 tahun lalu\",\"isReportable\":true,\"isAnonymous\":false,\"imageAttachments\":[{\"attachmentID\":\"109680250\",\"imageThumbnailUrl\":\"https://images.tokopedia.net/img/cache/200-square/bjFkPX/2023/8/19/f130f16c-489e-46c7-a22b-1816907f312e.jpg\",\"imageUrl\":\"https://images.tokopedia.net/img/cache/600/bjFkPX/2023/8/19/f130f16c-489e-46c7-a22b-1816907f312e.jpg\",\"__typename\":\"reviewAttachmentPDPType\"},{\"attachmentID\":\"109680251\",\"imageThumbnailUrl\":\"https://images.tokopedia.net/img/cache/200-square/bjFkPX/2023/8/19/6ca7ccb4-c0c7-4aeb-81ab-03a547bab300.jpg\",\"imageUrl\":\"https://images.tokopedia.net/img/cache/600/bjFkPX/2023/8/19/6ca7ccb4-c0c7-4aeb-81ab-03a547bab300.jpg\",\"__typename\":\"reviewAttachmentPDPType\"}],\"videoAttachments\":[],\"reviewResponse\":{\"message\":\"Terima kasih telah berbelanja di Erigo Official. Bagikan link toko kami https://www.tokopedia.com/erigo kepada teman-teman Anda dan favoritkan Toko kami untuk terus update mengenai stok dan produk terbaru\",\"createTime\":\"Lebih dari 1 tahun lalu\",\"__typename\":\"reviewReviewResponsePDPType\"},\"user\":{\"userID\":\"213642059\",\"fullName\":\"fernanda\",\"image\":\"https://accounts.tokopedia.com/image/v1/u/213642059/user_thumbnail/desktop\",\"url\":\"https://www.tokopedia.com/people/213642059\",\"__typename\":\"reviewReviewUserPDPType\"},\"likeDislike\":{\"totalLike\":0,\"likeStatus\":0,\"__typename\":\"reviewLikeDislikePDPType\"},\"stats\":[{\"key\":\"total-complete-review\",\"formatted\":\"5 ulasan lengkap\",\"count\":5,\"__typename\":\"reviewlistUserStatsType\"},{\"key\":\"total-likes\",\"formatted\":\"1 terbantu\",\"count\":1,\"__typename\":\"reviewlistUserStatsType\"}],\"badRatingReasonFmt\":\"\",\"__typename\":\"reviewListPDPType\"},{\"id\":\"892894159\",\"variantName\":\"M\",\"message\":\"bahan material tebal, ga panas, nyaman! ukuran sedikit kekecilan, mungkin next time saya pilih 1 size lebih.. tapi ini masih enak dipake nya. mantab Erigo!\",\"productRating\":5,\"reviewCreateTime\":\"1684698535\",\"reviewCreateTimestamp\":\"Lebih dari 1 tahun lalu\",\"isReportable\":true,\"isAnonymous\":true,\"imageAttachments\":[{\"attachmentID\":\"104369769\",\"imageThumbnailUrl\":\"https://images.tokopedia.net/img/cache/200-square/bjFkPX/2023/5/21/7ae30570-a20e-4771-ab4b-86258c9c96df.jpg\",\"imageUrl\":\"https://images.tokopedia.net/img/cache/600/bjFkPX/2023/5/21/7ae30570-a20e-4771-ab4b-86258c9c96df.jpg\",\"__typename\":\"reviewAttachmentPDPType\"}],\"videoAttachments\":[],\"reviewResponse\":{\"message\":\"Terima kasih telah berbelanja di Erigo Official. Bagikan link toko kami https://www.tokopedia.com/erigo kepada teman-teman Anda dan favoritkan Toko kami untuk terus update mengenai stok dan produk terbaru\",\"createTime\":\"Lebih dari 1 tahun lalu\",\"__typename\":\"reviewReviewResponsePDPType\"},\"user\":{\"userID\":\"0\",\"fullName\":\"C***s\",\"image\":\"https://images.tokopedia.net/img/cache/100-square/default_v3-usrnophoto.png\",\"url\":\"\",\"__typename\":\"reviewReviewUserPDPType\"},\"likeDislike\":{\"totalLike\":0,\"likeStatus\":0,\"__typename\":\"reviewLikeDislikePDPType\"},\"stats\":[],\"badRatingReasonFmt\":\"\",\"__typename\":\"reviewListPDPType\"}],\"shop\":{\"shopID\":\"2397043\",\"name\":\"Erigo Official\",\"url\":\"https://www.tokopedia.com/erigo\",\"image\":\"https://images.tokopedia.net/img/cache/215-square/GAnVPX/2024/10/28/c05501e4-bd77-479d-98cc-cb4f229de57a.jpg\",\"__typename\":\"reviewShopPDPType\"},\"hasNext\":true,\"totalReviews\":378,\"__typename\":\"productrevGetProductReviewListType\"}}}]\n"
          ]
        }
      ]
    },
    {
      "cell_type": "code",
      "source": [
        "#inspeksi hasil json\n",
        "produka = respa.json()[0]['data']['productrevGetProductReviewList']['list']\n",
        "produkb = respb.json()[0]['data']['productrevGetProductReviewList']['list']\n",
        "produkc = respc.json()[0]['data']['productrevGetProductReviewList']['list']\n",
        "produkd = respd.json()[0]['data']['productrevGetProductReviewList']['list']\n",
        "produke = respe.json()[0]['data']['productrevGetProductReviewList']['list']\n",
        "produkf = respf.json()[0]['data']['productrevGetProductReviewList']['list']\n",
        "print(produkf)"
      ],
      "metadata": {
        "id": "7SOlK1USL7Oh"
      },
      "execution_count": null,
      "outputs": []
    },
    {
      "cell_type": "markdown",
      "source": [
        "# Persiapan ke file csv"
      ],
      "metadata": {
        "id": "fmBakjGeGQH1"
      }
    },
    {
      "cell_type": "code",
      "source": [
        "#penyatuan hasil json\n",
        "jserigo = produka + produkb + produkc + produkd + produke + produkf #sampel dari produk erigo\n",
        "#cek hasil\n",
        "print(jserigo)"
      ],
      "metadata": {
        "collapsed": true,
        "id": "jcxoWai-GR_0"
      },
      "execution_count": null,
      "outputs": []
    },
    {
      "cell_type": "code",
      "source": [
        "#konversi ke bentuk csv\n",
        "namacsv = 'dfori.csv' #nama yang diinginkan\n",
        "#fungsi konversi\n",
        "with open(namacsv, mode='w', newline='', encoding='utf-8') as csv_file:\n",
        "    fieldnames = [\n",
        "        'id', 'variantName', 'message', 'productRating',\n",
        "        'reviewCreateTime', 'isAnonymous', 'user_fullName',\n",
        "        'user_url', 'totalLike'\n",
        "    ]\n",
        "    writer = csv.DictWriter(csv_file, fieldnames=fieldnames)\n",
        "\n",
        "    # Write header row\n",
        "    writer.writeheader()\n",
        "\n",
        "    # Write each merged review to the CSV\n",
        "    for review in jserigo:\n",
        "        writer.writerow({\n",
        "            'id': review['id'],\n",
        "            'variantName': review.get('variantName', ''),\n",
        "            'message': review.get('message', ''),\n",
        "            'productRating': review.get('productRating', ''),\n",
        "            'reviewCreateTime': review.get('reviewCreateTime', ''),\n",
        "            'isAnonymous': review.get('isAnonymous', ''),\n",
        "            'user_fullName': review['user'].get('fullName', '') if review.get('user') else '',\n",
        "            'user_url': review['user'].get('url', '') if review.get('user') else '',\n",
        "            'totalLike': review['likeDislike'].get('totalLike', '') if review.get('likeDislike') else ''\n",
        "        })\n",
        "\n",
        "print(f'Merged reviews saved to {namacsv}')"
      ],
      "metadata": {
        "colab": {
          "base_uri": "https://localhost:8080/"
        },
        "id": "uttj6ddXaaHo",
        "outputId": "67937e1a-a227-4ecf-f976-0f2dcc298bef"
      },
      "execution_count": 148,
      "outputs": [
        {
          "output_type": "stream",
          "name": "stdout",
          "text": [
            "Merged reviews saved to dfori.csv\n"
          ]
        }
      ]
    },
    {
      "cell_type": "code",
      "source": [
        "#inspeksi sampel\n",
        "dforif = pd.read_csv('dfori.csv')\n",
        "dfkopi = dforif.copy()\n",
        "#ke inspeksi sampel"
      ],
      "metadata": {
        "id": "0xjTJAxya-gE"
      },
      "execution_count": 151,
      "outputs": []
    },
    {
      "cell_type": "code",
      "source": [
        "kepala = dfkopi.head(7)\n",
        "kepala"
      ],
      "metadata": {
        "colab": {
          "base_uri": "https://localhost:8080/",
          "height": 494
        },
        "collapsed": true,
        "id": "5I-j4DEjbf55",
        "outputId": "b54ed5d9-76ba-4c8c-f031-3e0a779057e3"
      },
      "execution_count": 152,
      "outputs": [
        {
          "output_type": "execute_result",
          "data": {
            "text/plain": [
              "           id         variantName  \\\n",
              "0  1096280412  Jazlyn Black - XXL   \n",
              "1  1131666530  Jazlyn Black - XXL   \n",
              "2  1130273219    Jazlyn Black - L   \n",
              "3   757190522                   L   \n",
              "4  1016018259    Jazlyn Black - L   \n",
              "5   816486546                 XXL   \n",
              "6   773225440                   L   \n",
              "\n",
              "                                             message  productRating  \\\n",
              "0  barang bagus kualitas nya top harga nya naik o...              5   \n",
              "1  modelnya keren, bahannya bagus cuma agak kepan...              5   \n",
              "2  tinggi 175 bb 60 ukuran L cocok si, pas dan en...              5   \n",
              "3  enak di pake adem dan kece pas di badan gw. ta...              5   \n",
              "4  APAAN INI WOY KEREN BANGET KEMEJA NYA ga usa r...              5   \n",
              "5  oke paket di terima dengan baik ,, untuk kuali...              5   \n",
              "6  pas, bahannya enak banget dibadan dan juga ker...              5   \n",
              "\n",
              "   reviewCreateTime  isAnonymous user_fullName  \\\n",
              "0        1727090981         True         m***l   \n",
              "1        1734432169        False         Ahmad   \n",
              "2        1734122573        False          Syah   \n",
              "3        1663576439         True         S***a   \n",
              "4        1710777365        False         raden   \n",
              "5        1671820166        False        Ostoee   \n",
              "6        1665743375        False       Indrath   \n",
              "\n",
              "                                     user_url  totalLike  \n",
              "0                                         NaN          1  \n",
              "1   https://www.tokopedia.com/people/12344984          1  \n",
              "2  https://www.tokopedia.com/people/142632910          0  \n",
              "3                                         NaN          0  \n",
              "4  https://www.tokopedia.com/people/210403877          1  \n",
              "5  https://www.tokopedia.com/people/219595677          0  \n",
              "6   https://www.tokopedia.com/people/91590875          0  "
            ],
            "text/html": [
              "\n",
              "  <div id=\"df-9dedf8d1-05bb-436a-a5df-58ff823eba7f\" class=\"colab-df-container\">\n",
              "    <div>\n",
              "<style scoped>\n",
              "    .dataframe tbody tr th:only-of-type {\n",
              "        vertical-align: middle;\n",
              "    }\n",
              "\n",
              "    .dataframe tbody tr th {\n",
              "        vertical-align: top;\n",
              "    }\n",
              "\n",
              "    .dataframe thead th {\n",
              "        text-align: right;\n",
              "    }\n",
              "</style>\n",
              "<table border=\"1\" class=\"dataframe\">\n",
              "  <thead>\n",
              "    <tr style=\"text-align: right;\">\n",
              "      <th></th>\n",
              "      <th>id</th>\n",
              "      <th>variantName</th>\n",
              "      <th>message</th>\n",
              "      <th>productRating</th>\n",
              "      <th>reviewCreateTime</th>\n",
              "      <th>isAnonymous</th>\n",
              "      <th>user_fullName</th>\n",
              "      <th>user_url</th>\n",
              "      <th>totalLike</th>\n",
              "    </tr>\n",
              "  </thead>\n",
              "  <tbody>\n",
              "    <tr>\n",
              "      <th>0</th>\n",
              "      <td>1096280412</td>\n",
              "      <td>Jazlyn Black - XXL</td>\n",
              "      <td>barang bagus kualitas nya top harga nya naik o...</td>\n",
              "      <td>5</td>\n",
              "      <td>1727090981</td>\n",
              "      <td>True</td>\n",
              "      <td>m***l</td>\n",
              "      <td>NaN</td>\n",
              "      <td>1</td>\n",
              "    </tr>\n",
              "    <tr>\n",
              "      <th>1</th>\n",
              "      <td>1131666530</td>\n",
              "      <td>Jazlyn Black - XXL</td>\n",
              "      <td>modelnya keren, bahannya bagus cuma agak kepan...</td>\n",
              "      <td>5</td>\n",
              "      <td>1734432169</td>\n",
              "      <td>False</td>\n",
              "      <td>Ahmad</td>\n",
              "      <td>https://www.tokopedia.com/people/12344984</td>\n",
              "      <td>1</td>\n",
              "    </tr>\n",
              "    <tr>\n",
              "      <th>2</th>\n",
              "      <td>1130273219</td>\n",
              "      <td>Jazlyn Black - L</td>\n",
              "      <td>tinggi 175 bb 60 ukuran L cocok si, pas dan en...</td>\n",
              "      <td>5</td>\n",
              "      <td>1734122573</td>\n",
              "      <td>False</td>\n",
              "      <td>Syah</td>\n",
              "      <td>https://www.tokopedia.com/people/142632910</td>\n",
              "      <td>0</td>\n",
              "    </tr>\n",
              "    <tr>\n",
              "      <th>3</th>\n",
              "      <td>757190522</td>\n",
              "      <td>L</td>\n",
              "      <td>enak di pake adem dan kece pas di badan gw. ta...</td>\n",
              "      <td>5</td>\n",
              "      <td>1663576439</td>\n",
              "      <td>True</td>\n",
              "      <td>S***a</td>\n",
              "      <td>NaN</td>\n",
              "      <td>0</td>\n",
              "    </tr>\n",
              "    <tr>\n",
              "      <th>4</th>\n",
              "      <td>1016018259</td>\n",
              "      <td>Jazlyn Black - L</td>\n",
              "      <td>APAAN INI WOY KEREN BANGET KEMEJA NYA ga usa r...</td>\n",
              "      <td>5</td>\n",
              "      <td>1710777365</td>\n",
              "      <td>False</td>\n",
              "      <td>raden</td>\n",
              "      <td>https://www.tokopedia.com/people/210403877</td>\n",
              "      <td>1</td>\n",
              "    </tr>\n",
              "    <tr>\n",
              "      <th>5</th>\n",
              "      <td>816486546</td>\n",
              "      <td>XXL</td>\n",
              "      <td>oke paket di terima dengan baik ,, untuk kuali...</td>\n",
              "      <td>5</td>\n",
              "      <td>1671820166</td>\n",
              "      <td>False</td>\n",
              "      <td>Ostoee</td>\n",
              "      <td>https://www.tokopedia.com/people/219595677</td>\n",
              "      <td>0</td>\n",
              "    </tr>\n",
              "    <tr>\n",
              "      <th>6</th>\n",
              "      <td>773225440</td>\n",
              "      <td>L</td>\n",
              "      <td>pas, bahannya enak banget dibadan dan juga ker...</td>\n",
              "      <td>5</td>\n",
              "      <td>1665743375</td>\n",
              "      <td>False</td>\n",
              "      <td>Indrath</td>\n",
              "      <td>https://www.tokopedia.com/people/91590875</td>\n",
              "      <td>0</td>\n",
              "    </tr>\n",
              "  </tbody>\n",
              "</table>\n",
              "</div>\n",
              "    <div class=\"colab-df-buttons\">\n",
              "\n",
              "  <div class=\"colab-df-container\">\n",
              "    <button class=\"colab-df-convert\" onclick=\"convertToInteractive('df-9dedf8d1-05bb-436a-a5df-58ff823eba7f')\"\n",
              "            title=\"Convert this dataframe to an interactive table.\"\n",
              "            style=\"display:none;\">\n",
              "\n",
              "  <svg xmlns=\"http://www.w3.org/2000/svg\" height=\"24px\" viewBox=\"0 -960 960 960\">\n",
              "    <path d=\"M120-120v-720h720v720H120Zm60-500h600v-160H180v160Zm220 220h160v-160H400v160Zm0 220h160v-160H400v160ZM180-400h160v-160H180v160Zm440 0h160v-160H620v160ZM180-180h160v-160H180v160Zm440 0h160v-160H620v160Z\"/>\n",
              "  </svg>\n",
              "    </button>\n",
              "\n",
              "  <style>\n",
              "    .colab-df-container {\n",
              "      display:flex;\n",
              "      gap: 12px;\n",
              "    }\n",
              "\n",
              "    .colab-df-convert {\n",
              "      background-color: #E8F0FE;\n",
              "      border: none;\n",
              "      border-radius: 50%;\n",
              "      cursor: pointer;\n",
              "      display: none;\n",
              "      fill: #1967D2;\n",
              "      height: 32px;\n",
              "      padding: 0 0 0 0;\n",
              "      width: 32px;\n",
              "    }\n",
              "\n",
              "    .colab-df-convert:hover {\n",
              "      background-color: #E2EBFA;\n",
              "      box-shadow: 0px 1px 2px rgba(60, 64, 67, 0.3), 0px 1px 3px 1px rgba(60, 64, 67, 0.15);\n",
              "      fill: #174EA6;\n",
              "    }\n",
              "\n",
              "    .colab-df-buttons div {\n",
              "      margin-bottom: 4px;\n",
              "    }\n",
              "\n",
              "    [theme=dark] .colab-df-convert {\n",
              "      background-color: #3B4455;\n",
              "      fill: #D2E3FC;\n",
              "    }\n",
              "\n",
              "    [theme=dark] .colab-df-convert:hover {\n",
              "      background-color: #434B5C;\n",
              "      box-shadow: 0px 1px 3px 1px rgba(0, 0, 0, 0.15);\n",
              "      filter: drop-shadow(0px 1px 2px rgba(0, 0, 0, 0.3));\n",
              "      fill: #FFFFFF;\n",
              "    }\n",
              "  </style>\n",
              "\n",
              "    <script>\n",
              "      const buttonEl =\n",
              "        document.querySelector('#df-9dedf8d1-05bb-436a-a5df-58ff823eba7f button.colab-df-convert');\n",
              "      buttonEl.style.display =\n",
              "        google.colab.kernel.accessAllowed ? 'block' : 'none';\n",
              "\n",
              "      async function convertToInteractive(key) {\n",
              "        const element = document.querySelector('#df-9dedf8d1-05bb-436a-a5df-58ff823eba7f');\n",
              "        const dataTable =\n",
              "          await google.colab.kernel.invokeFunction('convertToInteractive',\n",
              "                                                    [key], {});\n",
              "        if (!dataTable) return;\n",
              "\n",
              "        const docLinkHtml = 'Like what you see? Visit the ' +\n",
              "          '<a target=\"_blank\" href=https://colab.research.google.com/notebooks/data_table.ipynb>data table notebook</a>'\n",
              "          + ' to learn more about interactive tables.';\n",
              "        element.innerHTML = '';\n",
              "        dataTable['output_type'] = 'display_data';\n",
              "        await google.colab.output.renderOutput(dataTable, element);\n",
              "        const docLink = document.createElement('div');\n",
              "        docLink.innerHTML = docLinkHtml;\n",
              "        element.appendChild(docLink);\n",
              "      }\n",
              "    </script>\n",
              "  </div>\n",
              "\n",
              "\n",
              "<div id=\"df-a50e9c8c-3e8f-4336-8e4d-f5e9db789764\">\n",
              "  <button class=\"colab-df-quickchart\" onclick=\"quickchart('df-a50e9c8c-3e8f-4336-8e4d-f5e9db789764')\"\n",
              "            title=\"Suggest charts\"\n",
              "            style=\"display:none;\">\n",
              "\n",
              "<svg xmlns=\"http://www.w3.org/2000/svg\" height=\"24px\"viewBox=\"0 0 24 24\"\n",
              "     width=\"24px\">\n",
              "    <g>\n",
              "        <path d=\"M19 3H5c-1.1 0-2 .9-2 2v14c0 1.1.9 2 2 2h14c1.1 0 2-.9 2-2V5c0-1.1-.9-2-2-2zM9 17H7v-7h2v7zm4 0h-2V7h2v10zm4 0h-2v-4h2v4z\"/>\n",
              "    </g>\n",
              "</svg>\n",
              "  </button>\n",
              "\n",
              "<style>\n",
              "  .colab-df-quickchart {\n",
              "      --bg-color: #E8F0FE;\n",
              "      --fill-color: #1967D2;\n",
              "      --hover-bg-color: #E2EBFA;\n",
              "      --hover-fill-color: #174EA6;\n",
              "      --disabled-fill-color: #AAA;\n",
              "      --disabled-bg-color: #DDD;\n",
              "  }\n",
              "\n",
              "  [theme=dark] .colab-df-quickchart {\n",
              "      --bg-color: #3B4455;\n",
              "      --fill-color: #D2E3FC;\n",
              "      --hover-bg-color: #434B5C;\n",
              "      --hover-fill-color: #FFFFFF;\n",
              "      --disabled-bg-color: #3B4455;\n",
              "      --disabled-fill-color: #666;\n",
              "  }\n",
              "\n",
              "  .colab-df-quickchart {\n",
              "    background-color: var(--bg-color);\n",
              "    border: none;\n",
              "    border-radius: 50%;\n",
              "    cursor: pointer;\n",
              "    display: none;\n",
              "    fill: var(--fill-color);\n",
              "    height: 32px;\n",
              "    padding: 0;\n",
              "    width: 32px;\n",
              "  }\n",
              "\n",
              "  .colab-df-quickchart:hover {\n",
              "    background-color: var(--hover-bg-color);\n",
              "    box-shadow: 0 1px 2px rgba(60, 64, 67, 0.3), 0 1px 3px 1px rgba(60, 64, 67, 0.15);\n",
              "    fill: var(--button-hover-fill-color);\n",
              "  }\n",
              "\n",
              "  .colab-df-quickchart-complete:disabled,\n",
              "  .colab-df-quickchart-complete:disabled:hover {\n",
              "    background-color: var(--disabled-bg-color);\n",
              "    fill: var(--disabled-fill-color);\n",
              "    box-shadow: none;\n",
              "  }\n",
              "\n",
              "  .colab-df-spinner {\n",
              "    border: 2px solid var(--fill-color);\n",
              "    border-color: transparent;\n",
              "    border-bottom-color: var(--fill-color);\n",
              "    animation:\n",
              "      spin 1s steps(1) infinite;\n",
              "  }\n",
              "\n",
              "  @keyframes spin {\n",
              "    0% {\n",
              "      border-color: transparent;\n",
              "      border-bottom-color: var(--fill-color);\n",
              "      border-left-color: var(--fill-color);\n",
              "    }\n",
              "    20% {\n",
              "      border-color: transparent;\n",
              "      border-left-color: var(--fill-color);\n",
              "      border-top-color: var(--fill-color);\n",
              "    }\n",
              "    30% {\n",
              "      border-color: transparent;\n",
              "      border-left-color: var(--fill-color);\n",
              "      border-top-color: var(--fill-color);\n",
              "      border-right-color: var(--fill-color);\n",
              "    }\n",
              "    40% {\n",
              "      border-color: transparent;\n",
              "      border-right-color: var(--fill-color);\n",
              "      border-top-color: var(--fill-color);\n",
              "    }\n",
              "    60% {\n",
              "      border-color: transparent;\n",
              "      border-right-color: var(--fill-color);\n",
              "    }\n",
              "    80% {\n",
              "      border-color: transparent;\n",
              "      border-right-color: var(--fill-color);\n",
              "      border-bottom-color: var(--fill-color);\n",
              "    }\n",
              "    90% {\n",
              "      border-color: transparent;\n",
              "      border-bottom-color: var(--fill-color);\n",
              "    }\n",
              "  }\n",
              "</style>\n",
              "\n",
              "  <script>\n",
              "    async function quickchart(key) {\n",
              "      const quickchartButtonEl =\n",
              "        document.querySelector('#' + key + ' button');\n",
              "      quickchartButtonEl.disabled = true;  // To prevent multiple clicks.\n",
              "      quickchartButtonEl.classList.add('colab-df-spinner');\n",
              "      try {\n",
              "        const charts = await google.colab.kernel.invokeFunction(\n",
              "            'suggestCharts', [key], {});\n",
              "      } catch (error) {\n",
              "        console.error('Error during call to suggestCharts:', error);\n",
              "      }\n",
              "      quickchartButtonEl.classList.remove('colab-df-spinner');\n",
              "      quickchartButtonEl.classList.add('colab-df-quickchart-complete');\n",
              "    }\n",
              "    (() => {\n",
              "      let quickchartButtonEl =\n",
              "        document.querySelector('#df-a50e9c8c-3e8f-4336-8e4d-f5e9db789764 button');\n",
              "      quickchartButtonEl.style.display =\n",
              "        google.colab.kernel.accessAllowed ? 'block' : 'none';\n",
              "    })();\n",
              "  </script>\n",
              "</div>\n",
              "\n",
              "  <div id=\"id_9b980ed7-f93e-4667-a213-cab55509f6b3\">\n",
              "    <style>\n",
              "      .colab-df-generate {\n",
              "        background-color: #E8F0FE;\n",
              "        border: none;\n",
              "        border-radius: 50%;\n",
              "        cursor: pointer;\n",
              "        display: none;\n",
              "        fill: #1967D2;\n",
              "        height: 32px;\n",
              "        padding: 0 0 0 0;\n",
              "        width: 32px;\n",
              "      }\n",
              "\n",
              "      .colab-df-generate:hover {\n",
              "        background-color: #E2EBFA;\n",
              "        box-shadow: 0px 1px 2px rgba(60, 64, 67, 0.3), 0px 1px 3px 1px rgba(60, 64, 67, 0.15);\n",
              "        fill: #174EA6;\n",
              "      }\n",
              "\n",
              "      [theme=dark] .colab-df-generate {\n",
              "        background-color: #3B4455;\n",
              "        fill: #D2E3FC;\n",
              "      }\n",
              "\n",
              "      [theme=dark] .colab-df-generate:hover {\n",
              "        background-color: #434B5C;\n",
              "        box-shadow: 0px 1px 3px 1px rgba(0, 0, 0, 0.15);\n",
              "        filter: drop-shadow(0px 1px 2px rgba(0, 0, 0, 0.3));\n",
              "        fill: #FFFFFF;\n",
              "      }\n",
              "    </style>\n",
              "    <button class=\"colab-df-generate\" onclick=\"generateWithVariable('kepala')\"\n",
              "            title=\"Generate code using this dataframe.\"\n",
              "            style=\"display:none;\">\n",
              "\n",
              "  <svg xmlns=\"http://www.w3.org/2000/svg\" height=\"24px\"viewBox=\"0 0 24 24\"\n",
              "       width=\"24px\">\n",
              "    <path d=\"M7,19H8.4L18.45,9,17,7.55,7,17.6ZM5,21V16.75L18.45,3.32a2,2,0,0,1,2.83,0l1.4,1.43a1.91,1.91,0,0,1,.58,1.4,1.91,1.91,0,0,1-.58,1.4L9.25,21ZM18.45,9,17,7.55Zm-12,3A5.31,5.31,0,0,0,4.9,8.1,5.31,5.31,0,0,0,1,6.5,5.31,5.31,0,0,0,4.9,4.9,5.31,5.31,0,0,0,6.5,1,5.31,5.31,0,0,0,8.1,4.9,5.31,5.31,0,0,0,12,6.5,5.46,5.46,0,0,0,6.5,12Z\"/>\n",
              "  </svg>\n",
              "    </button>\n",
              "    <script>\n",
              "      (() => {\n",
              "      const buttonEl =\n",
              "        document.querySelector('#id_9b980ed7-f93e-4667-a213-cab55509f6b3 button.colab-df-generate');\n",
              "      buttonEl.style.display =\n",
              "        google.colab.kernel.accessAllowed ? 'block' : 'none';\n",
              "\n",
              "      buttonEl.onclick = () => {\n",
              "        google.colab.notebook.generateWithVariable('kepala');\n",
              "      }\n",
              "      })();\n",
              "    </script>\n",
              "  </div>\n",
              "\n",
              "    </div>\n",
              "  </div>\n"
            ],
            "application/vnd.google.colaboratory.intrinsic+json": {
              "type": "dataframe",
              "variable_name": "kepala",
              "summary": "{\n  \"name\": \"kepala\",\n  \"rows\": 7,\n  \"fields\": [\n    {\n      \"column\": \"id\",\n      \"properties\": {\n        \"dtype\": \"number\",\n        \"std\": 171651346,\n        \"min\": 757190522,\n        \"max\": 1131666530,\n        \"num_unique_values\": 7,\n        \"samples\": [\n          1096280412,\n          1131666530,\n          816486546\n        ],\n        \"semantic_type\": \"\",\n        \"description\": \"\"\n      }\n    },\n    {\n      \"column\": \"variantName\",\n      \"properties\": {\n        \"dtype\": \"string\",\n        \"num_unique_values\": 4,\n        \"samples\": [\n          \"Jazlyn Black - L\",\n          \"XXL\",\n          \"Jazlyn Black - XXL\"\n        ],\n        \"semantic_type\": \"\",\n        \"description\": \"\"\n      }\n    },\n    {\n      \"column\": \"message\",\n      \"properties\": {\n        \"dtype\": \"string\",\n        \"num_unique_values\": 7,\n        \"samples\": [\n          \"barang bagus kualitas nya top harga nya naik overall 100 dijamin ori\",\n          \"modelnya keren, bahannya bagus cuma agak kepanjangan. perlu dipermak dikit.\",\n          \"oke paket di terima dengan baik ,, untuk kualitas barang oke kok kak \\ud83d\\ude01 bagus ,, tapi sayang nya untuk pengiriman agak lama kak oke itu saja dari saya\"\n        ],\n        \"semantic_type\": \"\",\n        \"description\": \"\"\n      }\n    },\n    {\n      \"column\": \"productRating\",\n      \"properties\": {\n        \"dtype\": \"number\",\n        \"std\": 0,\n        \"min\": 5,\n        \"max\": 5,\n        \"num_unique_values\": 1,\n        \"samples\": [\n          5\n        ],\n        \"semantic_type\": \"\",\n        \"description\": \"\"\n      }\n    },\n    {\n      \"column\": \"reviewCreateTime\",\n      \"properties\": {\n        \"dtype\": \"number\",\n        \"std\": 32878870,\n        \"min\": 1663576439,\n        \"max\": 1734432169,\n        \"num_unique_values\": 7,\n        \"samples\": [\n          1727090981\n        ],\n        \"semantic_type\": \"\",\n        \"description\": \"\"\n      }\n    },\n    {\n      \"column\": \"isAnonymous\",\n      \"properties\": {\n        \"dtype\": \"boolean\",\n        \"num_unique_values\": 2,\n        \"samples\": [\n          false\n        ],\n        \"semantic_type\": \"\",\n        \"description\": \"\"\n      }\n    },\n    {\n      \"column\": \"user_fullName\",\n      \"properties\": {\n        \"dtype\": \"string\",\n        \"num_unique_values\": 7,\n        \"samples\": [\n          \"m***l\"\n        ],\n        \"semantic_type\": \"\",\n        \"description\": \"\"\n      }\n    },\n    {\n      \"column\": \"user_url\",\n      \"properties\": {\n        \"dtype\": \"string\",\n        \"num_unique_values\": 5,\n        \"samples\": [\n          \"https://www.tokopedia.com/people/142632910\"\n        ],\n        \"semantic_type\": \"\",\n        \"description\": \"\"\n      }\n    },\n    {\n      \"column\": \"totalLike\",\n      \"properties\": {\n        \"dtype\": \"number\",\n        \"std\": 0,\n        \"min\": 0,\n        \"max\": 1,\n        \"num_unique_values\": 2,\n        \"samples\": [\n          0\n        ],\n        \"semantic_type\": \"\",\n        \"description\": \"\"\n      }\n    }\n  ]\n}"
            }
          },
          "metadata": {},
          "execution_count": 152
        }
      ]
    },
    {
      "cell_type": "markdown",
      "source": [
        "# Tahap Pembersihan data"
      ],
      "metadata": {
        "id": "PBfDxJNpb2xV"
      }
    },
    {
      "cell_type": "markdown",
      "source": [
        "## Inspeksi dan pembersihan tahap awal"
      ],
      "metadata": {
        "id": "UyBI2Ec6b5gh"
      }
    },
    {
      "cell_type": "code",
      "source": [
        "#informasi df\n",
        "dfkopinfo = dfkopi.info()\n",
        "dfkopinfo"
      ],
      "metadata": {
        "colab": {
          "base_uri": "https://localhost:8080/"
        },
        "id": "pluCDeK2b8DH",
        "outputId": "105b0812-fb66-4136-de9c-ee1af245ac65"
      },
      "execution_count": 153,
      "outputs": [
        {
          "output_type": "stream",
          "name": "stdout",
          "text": [
            "<class 'pandas.core.frame.DataFrame'>\n",
            "RangeIndex: 60 entries, 0 to 59\n",
            "Data columns (total 9 columns):\n",
            " #   Column            Non-Null Count  Dtype \n",
            "---  ------            --------------  ----- \n",
            " 0   id                60 non-null     int64 \n",
            " 1   variantName       59 non-null     object\n",
            " 2   message           60 non-null     object\n",
            " 3   productRating     60 non-null     int64 \n",
            " 4   reviewCreateTime  60 non-null     int64 \n",
            " 5   isAnonymous       60 non-null     bool  \n",
            " 6   user_fullName     60 non-null     object\n",
            " 7   user_url          32 non-null     object\n",
            " 8   totalLike         60 non-null     int64 \n",
            "dtypes: bool(1), int64(4), object(4)\n",
            "memory usage: 3.9+ KB\n"
          ]
        }
      ]
    }
  ]
}